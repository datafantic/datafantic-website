{
 "cells": [
  {
   "cell_type": "markdown",
   "id": "497c3dfe-13de-4b79-83e9-174a9080c82f",
   "metadata": {},
   "source": [
    "---\n",
    "title: \"The Whopper Index\"\n",
    "description: \"The Big Mac Index meets its match\"\n",
    "date: \"September 8, 2022\"\n",
    "author: \"Robert Ritz\"\n",
    "draft: false\n",
    "echo: false\n",
    "image: \"2022-09-08-The-Whopper-Index/images/top_whopper_prices.png\"\n",
    "---"
   ]
  },
  {
   "cell_type": "markdown",
   "id": "16d5aa11-eadb-4266-91e9-4652774d0e35",
   "metadata": {},
   "source": [
    "The Big Mac Index was released in 1986 by [The Economist](https://www.economist.com/big-mac-index?ref=datafantic.ghost.io), a newspaper, as an easy to approach explanation of the concept of purchasing power parity ([PPP](https://en.wikipedia.org/wiki/Purchasing_power_parity?ref=datafantic.ghost.io)) between currencies. The prices of Mcdonald's famous Big Mac are recorded in the local currency, then compared to the official exchange rate.\n",
    "\n",
    "The final index tells you whether a currency is under or over-valued compared to a base currency, typically the US dollar. The basic idea is that a Big Mac is the same in every country where it is sold, so you could judge the relative value of a currency by its price in the local currency. Over the years, much [research](https://scholar.google.com/scholar?hl=en&as_sdt=0%2C5&q=big+mac+index&btnG=&ref=datafantic.ghost.io) has been done into \"burgernomics\", as The Economist calls it.\n",
    "\n",
    "Even with so much success, there are two serious limitations to the Big Mac Index. First, differences in wages and marketing costs could explain differences in Big Mac prices from country to country. Second, Mcdonald's isn't everywhere, so the index is limited in geographic scope.\n",
    "\n",
    "This second reason is why I decided to continue the tradition of burgernomics with another global burger chain, Burger King. Where Mcdonald's has chosen not to enter a country, Burger King may have. This will allow us to bring the concept of burgernomics to more countries. In addition, where both chains exist, we can see where they agree or disagree."
   ]
  },
  {
   "cell_type": "markdown",
   "id": "8621df53-ca51-4061-b638-d5cf68ef01b5",
   "metadata": {},
   "source": [
    "## Whopper Index Methodology"
   ]
  },
  {
   "cell_type": "markdown",
   "id": "c2eb9f92-6592-4cb8-9d06-94a2a4aa39cc",
   "metadata": {},
   "source": [
    "The Economist helpfully hosts the code and data for their Big Mac Index on [Github](https://github.com/TheEconomist/big-mac-data?ref=datafantic.ghost.io), which allowed me to match my index calculation method to theirs. First, the current exchange rate to the USD was collected for each country.\n",
    "\n",
    "Next, the price of a single Whopper (burger only) in the local currency was collected. This often meant going to the local Burger King website or the partnering food delivery company to find the price of a Whopper. If a price couldn't be found, it was usually because online prices simply weren't given.\n",
    "\n",
    "In some cases, the burger price by itself was not available, and only the Whopper meal was. If a price wasn't available, the country was scratched off the list. In the US, I took the average Whopper Price for 4 cities around the country (Dallas, New York, Chicago, and Los Angeles).\n",
    "\n",
    "What resulted is a dataset of Whopper prices and exchange rates for 49 countries. Once this initial data collection was finished, I calculated the implied exchange rate between the local currency and the US Dollar. For example, in the Czech Republic, a Whopper costs 99 Czech Korunas (CZK). In the US, a Big Mac costs $6.09 USD.  \n",
    "\n",
    "By dividing the two, we can find that the implied exchange rate is 16.25 CZK per 1 USD. If the actual exchange rate is 24.61 CZK/USD, we can find that the Czech Koruna is 33.9% undervalued. The formula to derive this is (Implied FX Rate - Actual FX Rate) / Actual FX Rate.\n",
    "\n",
    "Let's take a look at the Whopper Index for the 49 countries I was able to collect data."
   ]
  },
  {
   "cell_type": "markdown",
   "id": "a64cd5a0-76ef-4e49-a469-c0cc881768df",
   "metadata": {},
   "source": [
    "![](2022-09-08-The-Whopper-Index/images/whopper_index.png)"
   ]
  },
  {
   "cell_type": "markdown",
   "id": "cb929c7a-4107-42d5-8ea1-be1663cdc37d",
   "metadata": {},
   "source": [
    "The Whopper Index includes 9 countries not on the Big Mac Index. This is either because Mcdonald's does not exist in the country (Mongolia and Kenya) or because they didn't make it on The Economist's list. These countries are:\n",
    "\n",
    "- Bangladesh\n",
    "- Belarus\n",
    "- Iraq\n",
    "- Kazakhstan\n",
    "- Kenya\n",
    "- Maldives\n",
    "- Mongolia\n",
    "- Morocco\n",
    "- Nigeria\n",
    "\n",
    "Conversely, the Big Mac Index includes 16 countries that do not appear on the Whopper Index."
   ]
  },
  {
   "cell_type": "markdown",
   "id": "be9e41cb-4c32-4a67-be1b-228d1cd5e48d",
   "metadata": {},
   "source": [
    "## Have It Your Way"
   ]
  },
  {
   "cell_type": "markdown",
   "id": "a6b2a7d0-c32e-4d85-82b5-96d2500cc71b",
   "metadata": {},
   "source": [
    "Besides the index, we can look at Whopper prices adjusted to USD. This will give us a sense of how expensive (or inexpensive) a Whopper is in each country. First, let's see where Whoppers are priced at a premium."
   ]
  },
  {
   "cell_type": "markdown",
   "id": "fd1bfd15-0060-4f26-94ac-37066bfde4f1",
   "metadata": {},
   "source": [
    "![](2022-09-08-The-Whopper-Index/images/top_whopper_prices.png)"
   ]
  },
  {
   "cell_type": "markdown",
   "id": "fb20eca6-2286-4dcc-8759-62ea55e73c04",
   "metadata": {},
   "source": [
    "These are, of course, the same countries where the Whopper Index tells us that the local currency is overvalued. Nevertheless, it helps bring the point home when you see that a Whopper costs $9.01 in Denmark. It seems in Denmark, you can have it your way if you can afford it.\n",
    "\n",
    "Next, let's see where Whoppers are the cheapest."
   ]
  },
  {
   "cell_type": "markdown",
   "id": "176c53e6-c298-43f3-935d-e398deaa81ce",
   "metadata": {},
   "source": [
    "![](2022-09-08-The-Whopper-Index/images/bottom_whopper_prices.png)"
   ]
  },
  {
   "cell_type": "markdown",
   "id": "d0f0b096-7798-4d97-bfe9-78c231e3bbc6",
   "metadata": {},
   "source": [
    "In South Africa, a Whopper is an absolute steal at $1.73. The Whopper Index tells us the South African Rand is undervalued by 72%. Mongolia, where Mcdonald's doesn't have any branches and therefore is not on the Big Mac Index, also made the list of cheapest Whoppers."
   ]
  },
  {
   "cell_type": "markdown",
   "id": "8f073998-45c7-4431-b261-a53f1654ff99",
   "metadata": {},
   "source": [
    "<br>\n",
    "<br>\n",
    "<br>\n",
    "<div style=\"text-align: center;\">\n",
    "  <h2>Signup to receive new insights in your inbox</h2>\n",
    "</div>\n",
    "<div class=\"ml-embedded\" data-form=\"sRx1HZ\"></div>\n",
    "<br>\n",
    "<br>\n",
    "<br>"
   ]
  },
  {
   "cell_type": "markdown",
   "id": "a56bf33e-eaf1-45a8-af86-660761d17438",
   "metadata": {},
   "source": [
    "## Big Mac Index + Whopper Index"
   ]
  },
  {
   "cell_type": "markdown",
   "id": "5cc84611-6fe0-4f0b-a5ba-8582290659ab",
   "metadata": {},
   "source": [
    "One of my big goals for this project was to see whether my Whopper Index would agree with the Big Mac Index. We can do this in two ways. First, I plot the USD price of a Big Mac and a Whopper in each country where data exists."
   ]
  },
  {
   "cell_type": "markdown",
   "id": "7c94233d-43eb-4a51-b1d6-579c7299eaa7",
   "metadata": {},
   "source": [
    "![](2022-09-08-The-Whopper-Index/images/price_comparison.png)"
   ]
  },
  {
   "cell_type": "markdown",
   "id": "03106d4b-c46d-4d69-8ad8-5a5553f718f8",
   "metadata": {},
   "source": [
    "This is a helpful dollars-to-dollars comparison of the burgers in each country.\n",
    "\n",
    "Next, I plotted the final index values for both the Big Mac Index and the Whopper Index."
   ]
  },
  {
   "cell_type": "markdown",
   "id": "efefc4c4-f4ae-4f72-95bd-23c55229bc21",
   "metadata": {},
   "source": [
    "![](2022-09-08-The-Whopper-Index/images/double_burger_index.png)"
   ]
  },
  {
   "cell_type": "markdown",
   "id": "aa7c5ad8-65a4-4acd-b83e-f23a3bc8a502",
   "metadata": {},
   "source": [
    "As you can see, the indices largely agree. Where they don't, I believe there are two possibilities for the cause.\n",
    "\n",
    "One is that my data is simply faulty. For many countries, I relied on delivery platforms to collect price data. While I was careful not to include delivery charges, the platforms may add to the price of the burger on top of the in-store price. If this happened, we would expect a higher value on the index.\n",
    "\n",
    "The other possibility is a difference between the operating characteristics of Mcdonald's and Burgers Kings in different countries. For example, if the local Burger King is more up-market in one country compared to the US, but the local Mcdonald's is more down-market, you would expect divergence in the indices. In this scenario, we would expect a higher valued currency on the Whopper Index and a lower value on the Big Mac Index. We would expect a higher value because the relative price of a Whopper is higher locally compared to the US than the relative price of a Big Mac.\n",
    "\n",
    "Of course, there are many permutations and other possibilities for why these indices may diverge. This is an area of future work that I (or others) could take on. In general, I will assume that my data is wrong until proven otherwise. If you have some insight in this, please do let me know."
   ]
  },
  {
   "cell_type": "markdown",
   "id": "0c3c51ab-abe2-45a7-b9df-1befe30858d4",
   "metadata": {},
   "source": [
    "## Notes and the future of the Whopper Index"
   ]
  },
  {
   "cell_type": "markdown",
   "id": "bd170ac0-056f-4b16-b562-596c56f44e28",
   "metadata": {},
   "source": [
    "In a project like this, there are many nuances and decisions that are made along the way. The biggest choice I had to make was on the final list of countries. Many countries did not make the index due to a lack of price data. A few examples:\n",
    "\n",
    "- In Venezuela, I could only find USD prices on the Burger King website.\n",
    "- In the United Arab Emirates, the pricing and exchange rate didn't make much sense (it showed a price $100 per Whopper once converted).\n",
    "\n",
    "I also discovered I'm not the first to create a Whopper Index. Business Day, a Nigerian news website, created its Whopper Index that tracks Whopper prices in [six African countries](https://web.archive.org/web/20211223100925/https://businessday.ng/business-economy/article/burger-king-whopper-index-shows-naira-overvalued/). I'm glad I was able to include 4 of these 6 countries on my Whopper Index.\n",
    "\n",
    "In the future, I hope to be able to add more countries to the Whopper Index. If possible, I would like to have every country with a Burger King represented on the index. Also, if you know anyone at Burger King that can get me this data, [let me know](https://twitter.com/RobertERitz?ref=datafantic.ghost.io) 😉."
   ]
  }
 ],
 "metadata": {
  "kernelspec": {
   "display_name": "Python 3 (ipykernel)",
   "language": "python",
   "name": "python3"
  },
  "language_info": {
   "codemirror_mode": {
    "name": "ipython",
    "version": 3
   },
   "file_extension": ".py",
   "mimetype": "text/x-python",
   "name": "python",
   "nbconvert_exporter": "python",
   "pygments_lexer": "ipython3",
   "version": "3.11.7"
  }
 },
 "nbformat": 4,
 "nbformat_minor": 5
}
