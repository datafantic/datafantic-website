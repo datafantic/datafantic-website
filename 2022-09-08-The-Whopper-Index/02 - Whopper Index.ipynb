{
 "cells": [
  {
   "cell_type": "markdown",
   "metadata": {},
   "source": [
    "---\n",
    "author: \"Robert Ritz\"\n",
    "draft: true\n",
    "echo: false\n",
    "---"
   ]
  },
  {
   "cell_type": "markdown",
   "metadata": {
    "cell_id": "0abaf48559a3485f9a8a2f016507e093",
    "deepnote_cell_type": "text-cell-h1",
    "formattedRanges": [],
    "is_collapsed": false,
    "tags": []
   },
   "source": [
    "# Whopper Index"
   ]
  },
  {
   "cell_type": "markdown",
   "metadata": {
    "cell_id": "93b1a3fa-8799-4591-b6b5-60e9feeb56f2",
    "deepnote_cell_type": "text-cell-p",
    "formattedRanges": [],
    "is_collapsed": false,
    "tags": []
   },
   "source": [
    "This notebook takes the raw Whopper prices in local currency and the USD exchange rate to calculate the Whopper Index."
   ]
  },
  {
   "cell_type": "markdown",
   "metadata": {
    "cell_id": "fa9ef168-89a1-499a-b9a3-07752b42eef0",
    "deepnote_cell_type": "text-cell-p",
    "formattedRanges": [],
    "is_collapsed": false,
    "tags": []
   },
   "source": [
    "To calculate the Whopper Index, we first calculate the implied exchange rate based on the Whopper price locally and in the US. For example:"
   ]
  },
  {
   "cell_type": "markdown",
   "metadata": {
    "cell_id": "1f156226-23b5-4c90-ad6a-fe8133e2502a",
    "deepnote_cell_type": "text-cell-bullet",
    "formattedRanges": [],
    "is_collapsed": false,
    "tags": []
   },
   "source": [
    "- In the Czech Republic, a Whopper costs 99 Czech Korunas."
   ]
  },
  {
   "cell_type": "markdown",
   "metadata": {
    "cell_id": "ceba3f45-48ac-4d04-82bd-52ebf5a69d6f",
    "deepnote_cell_type": "text-cell-bullet",
    "formattedRanges": [],
    "is_collapsed": false,
    "tags": []
   },
   "source": [
    "- In the US, a Whopper costs $6.09 USD."
   ]
  },
  {
   "cell_type": "markdown",
   "metadata": {
    "cell_id": "e2c2a0bb-87e4-44df-97be-6c454c27d684",
    "deepnote_cell_type": "text-cell-bullet",
    "formattedRanges": [],
    "is_collapsed": false,
    "tags": []
   },
   "source": [
    "- The implied exchange rate is 99 CZK/USD, which is 99CZK/$6.09USD = 16.25."
   ]
  },
  {
   "cell_type": "markdown",
   "metadata": {
    "cell_id": "7bc1c333-a36f-424e-be48-3ce1c8730368",
    "deepnote_cell_type": "text-cell-p",
    "formattedRanges": [],
    "is_collapsed": false,
    "tags": []
   },
   "source": [
    "From there, we can compare this to the actual exchange rate to see if the currency is over or under-valued. For example:"
   ]
  },
  {
   "cell_type": "markdown",
   "metadata": {
    "cell_id": "c1712398-4a39-4be2-b6bf-7ef40f819f81",
    "deepnote_cell_type": "text-cell-bullet",
    "formattedRanges": [],
    "is_collapsed": false,
    "tags": []
   },
   "source": [
    "- The implied exchange rate according to the Whopper index is 16.25 CZK/USD"
   ]
  },
  {
   "cell_type": "markdown",
   "metadata": {
    "cell_id": "51bd58d7-7674-4bdf-939c-4ec7f7d79ef9",
    "deepnote_cell_type": "text-cell-bullet",
    "formattedRanges": [],
    "is_collapsed": false,
    "tags": []
   },
   "source": [
    "- The actual exchange rate is 24.61 CZK/USD."
   ]
  },
  {
   "cell_type": "markdown",
   "metadata": {
    "cell_id": "6a815f1b-0984-4f9c-b860-c4020054de64",
    "deepnote_cell_type": "text-cell-bullet",
    "formattedRanges": [],
    "is_collapsed": false,
    "tags": []
   },
   "source": [
    "- We can find the currency over/undervaluation between the two by taking: (Implied FX Rate - Actual FX Rate) / Actual FX Rate. (16.25 - 24.61) / 24.61 = -33.9% undervalued"
   ]
  },
  {
   "cell_type": "markdown",
   "metadata": {
    "cell_id": "68334b31-df22-4446-92f9-e38468e36380",
    "deepnote_cell_type": "text-cell-p",
    "formattedRanges": [],
    "is_collapsed": false,
    "tags": []
   },
   "source": [
    "Now let's import our data and calculate the index.\n"
   ]
  },
  {
   "cell_type": "code",
   "execution_count": null,
   "metadata": {
    "cell_id": "2eed71ce-90ab-49a8-8948-8f9e8bb490d4",
    "deepnote_cell_height": 148,
    "deepnote_cell_type": "code",
    "deepnote_to_be_reexecuted": false,
    "execution_millis": 652,
    "execution_start": 1662827326237,
    "source_hash": "7384e33d",
    "tags": []
   },
   "outputs": [],
   "source": [
    "import pandas as pd\n",
    "import numpy as np\n",
    "\n",
    "import matplotlib.pyplot as plt\n",
    "from matplotlib.offsetbox import (OffsetImage, AnnotationBbox)"
   ]
  },
  {
   "cell_type": "code",
   "execution_count": null,
   "metadata": {
    "cell_id": "112f46cd72dd432da4c4dbb15b6067aa",
    "deepnote_cell_height": 408,
    "deepnote_cell_type": "code",
    "deepnote_to_be_reexecuted": false,
    "execution_millis": 387,
    "execution_start": 1662827326893,
    "source_hash": "4b495b40",
    "tags": []
   },
   "outputs": [
    {
     "data": {
      "application/vnd.deepnote.dataframe.v3+json": {
       "column_count": 7,
       "columns": [
        {
         "dtype": "object",
         "name": "date",
         "stats": {
          "categories": [
           {
            "count": 5,
            "name": "9/1/2022"
           }
          ],
          "nan_count": 0,
          "unique_count": 1
         }
        },
        {
         "dtype": "object",
         "name": "iso_a3",
         "stats": {
          "categories": [
           {
            "count": 1,
            "name": "HUN"
           },
           {
            "count": 1,
            "name": "KOR"
           },
           {
            "count": 3,
            "name": "3 others"
           }
          ],
          "nan_count": 0,
          "unique_count": 5
         }
        },
        {
         "dtype": "object",
         "name": "currency_code",
         "stats": {
          "categories": [
           {
            "count": 1,
            "name": "HUF"
           },
           {
            "count": 1,
            "name": "KRW"
           },
           {
            "count": 3,
            "name": "3 others"
           }
          ],
          "nan_count": 0,
          "unique_count": 5
         }
        },
        {
         "dtype": "object",
         "name": "currency_name",
         "stats": {
          "categories": [
           {
            "count": 1,
            "name": "Forint"
           },
           {
            "count": 1,
            "name": "Won"
           },
           {
            "count": 3,
            "name": "3 others"
           }
          ],
          "nan_count": 0,
          "unique_count": 5
         }
        },
        {
         "dtype": "object",
         "name": "name",
         "stats": {
          "categories": [
           {
            "count": 1,
            "name": "Hungary"
           },
           {
            "count": 1,
            "name": "South Korea"
           },
           {
            "count": 3,
            "name": "3 others"
           }
          ],
          "nan_count": 0,
          "unique_count": 5
         }
        },
        {
         "dtype": "float64",
         "name": "local_price",
         "stats": {
          "histogram": [
           {
            "bin_end": 5462.959999999999,
            "bin_start": 9.4,
            "count": 3
           },
           {
            "bin_end": 10916.519999999999,
            "bin_start": 5462.959999999999,
            "count": 1
           },
           {
            "bin_end": 16370.079999999998,
            "bin_start": 10916.519999999999,
            "count": 0
           },
           {
            "bin_end": 21823.64,
            "bin_start": 16370.079999999998,
            "count": 0
           },
           {
            "bin_end": 27277.199999999997,
            "bin_start": 21823.64,
            "count": 0
           },
           {
            "bin_end": 32730.76,
            "bin_start": 27277.199999999997,
            "count": 0
           },
           {
            "bin_end": 38184.32,
            "bin_start": 32730.76,
            "count": 0
           },
           {
            "bin_end": 43637.88,
            "bin_start": 38184.32,
            "count": 0
           },
           {
            "bin_end": 49091.439999999995,
            "bin_start": 43637.88,
            "count": 0
           },
           {
            "bin_end": 54545,
            "bin_start": 49091.439999999995,
            "count": 1
           }
          ],
          "max": "54545.0",
          "min": "9.4",
          "nan_count": 0,
          "unique_count": 5
         }
        },
        {
         "dtype": "float64",
         "name": "dollar_ex",
         "stats": {
          "histogram": [
           {
            "bin_end": 1490.334,
            "bin_start": 1.48,
            "count": 4
           },
           {
            "bin_end": 2979.188,
            "bin_start": 1490.334,
            "count": 0
           },
           {
            "bin_end": 4468.0419999999995,
            "bin_start": 2979.188,
            "count": 0
           },
           {
            "bin_end": 5956.896,
            "bin_start": 4468.0419999999995,
            "count": 0
           },
           {
            "bin_end": 7445.75,
            "bin_start": 5956.896,
            "count": 0
           },
           {
            "bin_end": 8934.604,
            "bin_start": 7445.75,
            "count": 0
           },
           {
            "bin_end": 10423.458,
            "bin_start": 8934.604,
            "count": 0
           },
           {
            "bin_end": 11912.312,
            "bin_start": 10423.458,
            "count": 0
           },
           {
            "bin_end": 13401.166,
            "bin_start": 11912.312,
            "count": 0
           },
           {
            "bin_end": 14890.02,
            "bin_start": 13401.166,
            "count": 1
           }
          ],
          "max": "14890.02",
          "min": "1.48",
          "nan_count": 0,
          "unique_count": 5
         }
        },
        {
         "dtype": "int64",
         "name": "_deepnote_index_column"
        }
       ],
       "row_count": 5,
       "rows": [
        {
         "_deepnote_index_column": "14",
         "currency_code": "HUF",
         "currency_name": "Forint",
         "date": "9/1/2022",
         "dollar_ex": "396.42",
         "iso_a3": "HUN",
         "local_price": "1590.0",
         "name": "Hungary"
        },
        {
         "_deepnote_index_column": "39",
         "currency_code": "KRW",
         "currency_name": "Won",
         "date": "9/1/2022",
         "dollar_ex": "1381.0",
         "iso_a3": "KOR",
         "local_price": "6400.0",
         "name": "South Korea"
        },
        {
         "_deepnote_index_column": "15",
         "currency_code": "INR",
         "currency_name": "Indian Rupee",
         "date": "9/1/2022",
         "dollar_ex": "79.7",
         "iso_a3": "IND",
         "local_price": "299.0",
         "name": "India"
        },
        {
         "_deepnote_index_column": "1",
         "currency_code": "AUD",
         "currency_name": "Australian Dollar",
         "date": "9/1/2022",
         "dollar_ex": "1.48",
         "iso_a3": "AUS",
         "local_price": "9.4",
         "name": "Australia"
        },
        {
         "_deepnote_index_column": "16",
         "currency_code": "IDR",
         "currency_name": "Rupiah",
         "date": "9/1/2022",
         "dollar_ex": "14890.02",
         "iso_a3": "IDN",
         "local_price": "54545.0",
         "name": "Indonesia"
        }
       ]
      },
      "text/html": [
       "<div>\n",
       "<style scoped>\n",
       "    .dataframe tbody tr th:only-of-type {\n",
       "        vertical-align: middle;\n",
       "    }\n",
       "\n",
       "    .dataframe tbody tr th {\n",
       "        vertical-align: top;\n",
       "    }\n",
       "\n",
       "    .dataframe thead th {\n",
       "        text-align: right;\n",
       "    }\n",
       "</style>\n",
       "<table border=\"1\" class=\"dataframe\">\n",
       "  <thead>\n",
       "    <tr style=\"text-align: right;\">\n",
       "      <th></th>\n",
       "      <th>date</th>\n",
       "      <th>iso_a3</th>\n",
       "      <th>currency_code</th>\n",
       "      <th>currency_name</th>\n",
       "      <th>name</th>\n",
       "      <th>local_price</th>\n",
       "      <th>dollar_ex</th>\n",
       "    </tr>\n",
       "  </thead>\n",
       "  <tbody>\n",
       "    <tr>\n",
       "      <th>14</th>\n",
       "      <td>9/1/2022</td>\n",
       "      <td>HUN</td>\n",
       "      <td>HUF</td>\n",
       "      <td>Forint</td>\n",
       "      <td>Hungary</td>\n",
       "      <td>1590.0</td>\n",
       "      <td>396.42</td>\n",
       "    </tr>\n",
       "    <tr>\n",
       "      <th>39</th>\n",
       "      <td>9/1/2022</td>\n",
       "      <td>KOR</td>\n",
       "      <td>KRW</td>\n",
       "      <td>Won</td>\n",
       "      <td>South Korea</td>\n",
       "      <td>6400.0</td>\n",
       "      <td>1381.00</td>\n",
       "    </tr>\n",
       "    <tr>\n",
       "      <th>15</th>\n",
       "      <td>9/1/2022</td>\n",
       "      <td>IND</td>\n",
       "      <td>INR</td>\n",
       "      <td>Indian Rupee</td>\n",
       "      <td>India</td>\n",
       "      <td>299.0</td>\n",
       "      <td>79.70</td>\n",
       "    </tr>\n",
       "    <tr>\n",
       "      <th>1</th>\n",
       "      <td>9/1/2022</td>\n",
       "      <td>AUS</td>\n",
       "      <td>AUD</td>\n",
       "      <td>Australian Dollar</td>\n",
       "      <td>Australia</td>\n",
       "      <td>9.4</td>\n",
       "      <td>1.48</td>\n",
       "    </tr>\n",
       "    <tr>\n",
       "      <th>16</th>\n",
       "      <td>9/1/2022</td>\n",
       "      <td>IDN</td>\n",
       "      <td>IDR</td>\n",
       "      <td>Rupiah</td>\n",
       "      <td>Indonesia</td>\n",
       "      <td>54545.0</td>\n",
       "      <td>14890.02</td>\n",
       "    </tr>\n",
       "  </tbody>\n",
       "</table>\n",
       "</div>"
      ],
      "text/plain": [
       "        date iso_a3 currency_code      currency_name         name  \\\n",
       "14  9/1/2022    HUN           HUF             Forint      Hungary   \n",
       "39  9/1/2022    KOR           KRW                Won  South Korea   \n",
       "15  9/1/2022    IND           INR       Indian Rupee        India   \n",
       "1   9/1/2022    AUS           AUD  Australian Dollar    Australia   \n",
       "16  9/1/2022    IDN           IDR             Rupiah    Indonesia   \n",
       "\n",
       "    local_price  dollar_ex  \n",
       "14       1590.0     396.42  \n",
       "39       6400.0    1381.00  \n",
       "15        299.0      79.70  \n",
       "1           9.4       1.48  \n",
       "16      54545.0   14890.02  "
      ]
     },
     "execution_count": 2,
     "metadata": {},
     "output_type": "execute_result"
    }
   ],
   "source": [
    "df = pd.read_csv('data/whopper_prices.csv')\n",
    "df.sample(5)"
   ]
  },
  {
   "cell_type": "code",
   "execution_count": null,
   "metadata": {
    "cell_id": "85caee8c7d5d4251ad7aa6293b4e81fb",
    "deepnote_cell_height": 112.1875,
    "deepnote_cell_type": "code",
    "deepnote_to_be_reexecuted": false,
    "execution_millis": 314,
    "execution_start": 1662827326967,
    "source_hash": "14f60b8f",
    "tags": []
   },
   "outputs": [
    {
     "data": {
      "text/plain": [
       "(49, 7)"
      ]
     },
     "execution_count": 3,
     "metadata": {},
     "output_type": "execute_result"
    }
   ],
   "source": [
    "df.shape"
   ]
  },
  {
   "cell_type": "markdown",
   "metadata": {
    "cell_id": "c3356c695e164f63bbb7f374856ef75b",
    "deepnote_cell_type": "text-cell-h3",
    "formattedRanges": [],
    "is_collapsed": false,
    "tags": []
   },
   "source": [
    "### Countries not on the Big Mac Index"
   ]
  },
  {
   "cell_type": "markdown",
   "metadata": {
    "cell_id": "39814a32-d136-4a18-abca-9a626cadb3f7",
    "deepnote_cell_type": "text-cell-p",
    "formattedRanges": [],
    "is_collapsed": false,
    "tags": []
   },
   "source": [
    "Our data contains local prices and USD exchange rates for 50 countries. Notably there are several countries on our list that are not contained in the Big Mac Index. "
   ]
  },
  {
   "cell_type": "code",
   "execution_count": null,
   "metadata": {
    "cell_id": "04c8fc1271ee47bb9d481d6d2690c08f",
    "deepnote_cell_height": 76,
    "deepnote_cell_type": "code",
    "deepnote_to_be_reexecuted": false,
    "execution_millis": 0,
    "execution_start": 1662827326967,
    "source_hash": "cabdefe2",
    "tags": []
   },
   "outputs": [],
   "source": [
    "big_mac = pd.read_csv('data/big-mac-raw-index.csv')"
   ]
  },
  {
   "cell_type": "code",
   "execution_count": null,
   "metadata": {
    "cell_id": "16a52e612c7c495496909aab9994135d",
    "deepnote_cell_height": 94,
    "deepnote_cell_type": "code",
    "deepnote_to_be_reexecuted": false,
    "execution_millis": 0,
    "execution_start": 1662827327027,
    "source_hash": "d73edc9d",
    "tags": []
   },
   "outputs": [],
   "source": [
    "big_mac_countries = list(big_mac[big_mac['date'] == '2022-01-01']['iso_a3'])\n",
    "whopper_countries = list(df['iso_a3'])"
   ]
  },
  {
   "cell_type": "markdown",
   "metadata": {
    "cell_id": "62e1b2e1d3184a60be0b49196e634b5d",
    "deepnote_cell_type": "text-cell-p",
    "formattedRanges": [],
    "is_collapsed": false,
    "tags": []
   },
   "source": [
    "We can see that there are 9 countries on our Whopper list that are not on the Big Mac Index. These include two countries in Central Asia and 3 countries in Africa. "
   ]
  },
  {
   "cell_type": "code",
   "execution_count": null,
   "metadata": {
    "cell_id": "7c120a555237413d92d4471c01d7be4a",
    "deepnote_cell_height": 130.1875,
    "deepnote_cell_type": "code",
    "deepnote_to_be_reexecuted": false,
    "execution_millis": 255,
    "execution_start": 1662827327028,
    "source_hash": "926d4f91",
    "tags": []
   },
   "outputs": [
    {
     "data": {
      "text/plain": [
       "['MNG', 'NGA', 'KAZ', 'BGD', 'KEN', 'MAR', 'MDV', 'IRQ', 'BLR']"
      ]
     },
     "execution_count": 6,
     "metadata": {},
     "output_type": "execute_result"
    }
   ],
   "source": [
    "extra_countries = list(set(whopper_countries).difference(big_mac_countries))\n",
    "extra_countries"
   ]
  },
  {
   "cell_type": "code",
   "execution_count": null,
   "metadata": {
    "cell_id": "1ca11b976e91469eabef0554cab28bfa",
    "deepnote_cell_height": 284.953125,
    "deepnote_cell_type": "code",
    "deepnote_to_be_reexecuted": false,
    "execution_millis": 255,
    "execution_start": 1662827327028,
    "source_hash": "ad79af77",
    "tags": []
   },
   "outputs": [
    {
     "data": {
      "text/plain": [
       "3     Bangladesh\n",
       "4        Belarus\n",
       "17          Iraq\n",
       "20    Kazakhstan\n",
       "21         Kenya\n",
       "23      Maldives\n",
       "24      Mongolia\n",
       "25       Morocco\n",
       "28       Nigeria\n",
       "Name: name, dtype: object"
      ]
     },
     "execution_count": 7,
     "metadata": {},
     "output_type": "execute_result"
    }
   ],
   "source": [
    "df[df['iso_a3'].isin(extra_countries)]['name']"
   ]
  },
  {
   "cell_type": "code",
   "execution_count": null,
   "metadata": {
    "cell_id": "e73fc7485028480f9c0d2881e477fe36",
    "deepnote_cell_height": 76,
    "deepnote_cell_type": "code",
    "deepnote_to_be_reexecuted": false,
    "execution_millis": 0,
    "execution_start": 1662827327029,
    "source_hash": "8e633e6",
    "tags": []
   },
   "outputs": [],
   "source": [
    "big_mac_2022 = big_mac[big_mac['date'] == '2022-07-01']"
   ]
  },
  {
   "cell_type": "code",
   "execution_count": null,
   "metadata": {
    "cell_id": "f378c1ba778840dcb054abadd40b217f",
    "deepnote_cell_height": 424.3125,
    "deepnote_cell_type": "code",
    "deepnote_to_be_reexecuted": false,
    "execution_millis": 254,
    "execution_start": 1662827327029,
    "source_hash": "682ae34a",
    "tags": []
   },
   "outputs": [
    {
     "data": {
      "text/plain": [
       "1580                 Bahrain\n",
       "1584                   Chile\n",
       "1585                   China\n",
       "1586                Colombia\n",
       "1587              Costa Rica\n",
       "1593                Honduras\n",
       "1600                  Jordan\n",
       "1602                 Lebanon\n",
       "1603                Malaysia\n",
       "1604                  Mexico\n",
       "1605                 Moldova\n",
       "1609                    Oman\n",
       "1615                 Romania\n",
       "1620               Sri Lanka\n",
       "1626    United Arab Emirates\n",
       "1629               Venezuela\n",
       "Name: name, dtype: object"
      ]
     },
     "execution_count": 9,
     "metadata": {},
     "output_type": "execute_result"
    }
   ],
   "source": [
    "big_mac_2022[big_mac_2022['iso_a3'].isin(list(set(big_mac_countries).difference(whopper_countries)))]['name']"
   ]
  },
  {
   "cell_type": "markdown",
   "metadata": {
    "cell_id": "04affe5b774b4e019b71aba5b070ddea",
    "deepnote_cell_type": "text-cell-h2",
    "formattedRanges": [],
    "is_collapsed": false,
    "tags": []
   },
   "source": [
    "## Build Index"
   ]
  },
  {
   "cell_type": "markdown",
   "metadata": {
    "cell_id": "b30e22cb-0daa-494f-bcc3-cb77cb81b91c",
    "deepnote_cell_type": "text-cell-p",
    "formattedRanges": [],
    "is_collapsed": false,
    "tags": []
   },
   "source": [
    "Now we can move forward and build the index. First we will calculate the local price in USD at the current exchange. This will help us build a sense of \"How many Whoppers can I buy with $50 USD?\". This is one of the halmarks of the Economist's Big Mac index, and a very easy way to understand purchasing power parity."
   ]
  },
  {
   "cell_type": "markdown",
   "metadata": {
    "cell_id": "aa2132c3-ae0d-4f85-943f-225d2f1322dc",
    "deepnote_cell_type": "text-cell-p",
    "formattedRanges": [],
    "is_collapsed": false,
    "tags": []
   },
   "source": [
    "Then we will calculate the implied exchange rate and finally the index."
   ]
  },
  {
   "cell_type": "code",
   "execution_count": null,
   "metadata": {
    "cell_id": "5992769d511e45c8b02991f3ac7f8e89",
    "deepnote_cell_height": 76,
    "deepnote_cell_type": "code",
    "deepnote_to_be_reexecuted": false,
    "execution_millis": 0,
    "execution_start": 1662827327030,
    "source_hash": "9b4e06ff",
    "tags": []
   },
   "outputs": [],
   "source": [
    "us_price = df[df['iso_a3'] == 'USA']['local_price'].iat[0]"
   ]
  },
  {
   "cell_type": "code",
   "execution_count": null,
   "metadata": {
    "cell_id": "493ff11041c7404db5ee6c2199abce44",
    "deepnote_cell_height": 153,
    "deepnote_cell_type": "code",
    "deepnote_table_loading": false,
    "deepnote_table_state": {
     "filters": [],
     "pageIndex": 0,
     "pageSize": 50,
     "sortBy": []
    },
    "deepnote_to_be_reexecuted": false,
    "execution_millis": 2,
    "execution_start": 1662827327033,
    "source_hash": "62ec6e6e",
    "tags": []
   },
   "outputs": [],
   "source": [
    "df = (df.assign(dollar_price = lambda x: x['local_price'] / x['dollar_ex'],\n",
    "                implied_ex = lambda x: x['local_price'] / us_price,\n",
    "                usd_index = lambda x: round(((x['implied_ex'] - x['dollar_ex']) / x['dollar_ex']) * 100, 2))\n",
    "        .sort_values(by='usd_index', ignore_index=True)\n",
    "    )"
   ]
  },
  {
   "cell_type": "code",
   "execution_count": null,
   "metadata": {
    "cell_id": "490769f1f7d64f55a85c1f283764e5e9",
    "deepnote_cell_height": 2194,
    "deepnote_cell_type": "code",
    "deepnote_to_be_reexecuted": false,
    "execution_millis": 247,
    "execution_start": 1662827327037,
    "source_hash": "f804c160",
    "tags": []
   },
   "outputs": [
    {
     "data": {
      "application/vnd.deepnote.dataframe.v3+json": {
       "column_count": 10,
       "columns": [
        {
         "dtype": "object",
         "name": "date",
         "stats": {
          "categories": [
           {
            "count": 49,
            "name": "9/1/2022"
           }
          ],
          "nan_count": 0,
          "unique_count": 1
         }
        },
        {
         "dtype": "object",
         "name": "iso_a3",
         "stats": {
          "categories": [
           {
            "count": 1,
            "name": "ZAF"
           },
           {
            "count": 1,
            "name": "PAK"
           },
           {
            "count": 47,
            "name": "47 others"
           }
          ],
          "nan_count": 0,
          "unique_count": 49
         }
        },
        {
         "dtype": "object",
         "name": "currency_code",
         "stats": {
          "categories": [
           {
            "count": 1,
            "name": "ZAR"
           },
           {
            "count": 1,
            "name": "PKR"
           },
           {
            "count": 47,
            "name": "47 others"
           }
          ],
          "nan_count": 0,
          "unique_count": 49
         }
        },
        {
         "dtype": "object",
         "name": "currency_name",
         "stats": {
          "categories": [
           {
            "count": 1,
            "name": "Rand"
           },
           {
            "count": 1,
            "name": "Pakistan Rupee"
           },
           {
            "count": 47,
            "name": "47 others"
           }
          ],
          "nan_count": 0,
          "unique_count": 49
         }
        },
        {
         "dtype": "object",
         "name": "name",
         "stats": {
          "categories": [
           {
            "count": 1,
            "name": "South Africa"
           },
           {
            "count": 1,
            "name": "Pakistan"
           },
           {
            "count": 47,
            "name": "47 others"
           }
          ],
          "nan_count": 0,
          "unique_count": 49
         }
        },
        {
         "dtype": "float64",
         "name": "local_price",
         "stats": {
          "histogram": [
           {
            "bin_end": 11501.26,
            "bin_start": 1.4,
            "count": 47
           },
           {
            "bin_end": 23001.120000000003,
            "bin_start": 11501.26,
            "count": 0
           },
           {
            "bin_end": 34500.98,
            "bin_start": 23001.120000000003,
            "count": 0
           },
           {
            "bin_end": 46000.840000000004,
            "bin_start": 34500.98,
            "count": 0
           },
           {
            "bin_end": 57500.700000000004,
            "bin_start": 46000.840000000004,
            "count": 1
           },
           {
            "bin_end": 69000.56,
            "bin_start": 57500.700000000004,
            "count": 0
           },
           {
            "bin_end": 80500.42,
            "bin_start": 69000.56,
            "count": 0
           },
           {
            "bin_end": 92000.28,
            "bin_start": 80500.42,
            "count": 0
           },
           {
            "bin_end": 103500.14,
            "bin_start": 92000.28,
            "count": 0
           },
           {
            "bin_end": 115000,
            "bin_start": 103500.14,
            "count": 1
           }
          ],
          "max": "115000.0",
          "min": "1.4",
          "nan_count": 0,
          "unique_count": 47
         }
        },
        {
         "dtype": "float64",
         "name": "dollar_ex",
         "stats": {
          "histogram": [
           {
            "bin_end": 2370.4781000000003,
            "bin_start": 0.309,
            "count": 46
           },
           {
            "bin_end": 4740.6472,
            "bin_start": 2370.4781000000003,
            "count": 1
           },
           {
            "bin_end": 7110.8163,
            "bin_start": 4740.6472,
            "count": 0
           },
           {
            "bin_end": 9480.9854,
            "bin_start": 7110.8163,
            "count": 0
           },
           {
            "bin_end": 11851.154499999999,
            "bin_start": 9480.9854,
            "count": 0
           },
           {
            "bin_end": 14221.3236,
            "bin_start": 11851.154499999999,
            "count": 0
           },
           {
            "bin_end": 16591.492700000003,
            "bin_start": 14221.3236,
            "count": 1
           },
           {
            "bin_end": 18961.6618,
            "bin_start": 16591.492700000003,
            "count": 0
           },
           {
            "bin_end": 21331.8309,
            "bin_start": 18961.6618,
            "count": 0
           },
           {
            "bin_end": 23702,
            "bin_start": 21331.8309,
            "count": 1
           }
          ],
          "max": "23702.0",
          "min": "0.309",
          "nan_count": 0,
          "unique_count": 48
         }
        },
        {
         "dtype": "float64",
         "name": "dollar_price",
         "stats": {
          "histogram": [
           {
            "bin_end": 2.4560289638883708,
            "bin_start": 1.728323699421965,
            "count": 2
           },
           {
            "bin_end": 3.1837342283547763,
            "bin_start": 2.4560289638883708,
            "count": 2
           },
           {
            "bin_end": 3.9114394928211818,
            "bin_start": 3.1837342283547763,
            "count": 11
           },
           {
            "bin_end": 4.639144757287587,
            "bin_start": 3.9114394928211818,
            "count": 9
           },
           {
            "bin_end": 5.366850021753993,
            "bin_start": 4.639144757287587,
            "count": 9
           },
           {
            "bin_end": 6.094555286220398,
            "bin_start": 5.366850021753993,
            "count": 5
           },
           {
            "bin_end": 6.822260550686804,
            "bin_start": 6.094555286220398,
            "count": 3
           },
           {
            "bin_end": 7.549965815153209,
            "bin_start": 6.822260550686804,
            "count": 3
           },
           {
            "bin_end": 8.277671079619614,
            "bin_start": 7.549965815153209,
            "count": 1
           },
           {
            "bin_end": 9.00537634408602,
            "bin_start": 8.277671079619614,
            "count": 4
           }
          ],
          "max": "9.00537634408602",
          "min": "1.728323699421965",
          "nan_count": 0,
          "unique_count": 48
         }
        },
        {
         "dtype": "float64",
         "name": "implied_ex",
         "stats": {
          "histogram": [
           {
            "bin_end": 1888.5484400656815,
            "bin_start": 0.22988505747126436,
            "count": 47
           },
           {
            "bin_end": 3776.8669950738918,
            "bin_start": 1888.5484400656815,
            "count": 0
           },
           {
            "bin_end": 5665.185550082102,
            "bin_start": 3776.8669950738918,
            "count": 0
           },
           {
            "bin_end": 7553.504105090313,
            "bin_start": 5665.185550082102,
            "count": 0
           },
           {
            "bin_end": 9441.822660098524,
            "bin_start": 7553.504105090313,
            "count": 1
           },
           {
            "bin_end": 11330.141215106732,
            "bin_start": 9441.822660098524,
            "count": 0
           },
           {
            "bin_end": 13218.459770114943,
            "bin_start": 11330.141215106732,
            "count": 0
           },
           {
            "bin_end": 15106.778325123154,
            "bin_start": 13218.459770114943,
            "count": 0
           },
           {
            "bin_end": 16995.09688013136,
            "bin_start": 15106.778325123154,
            "count": 0
           },
           {
            "bin_end": 18883.415435139574,
            "bin_start": 16995.09688013136,
            "count": 1
           }
          ],
          "max": "18883.415435139574",
          "min": "0.22988505747126436",
          "nan_count": 0,
          "unique_count": 47
         }
        },
        {
         "dtype": "float64",
         "name": "usd_index",
         "stats": {
          "histogram": [
           {
            "bin_end": -59.67100000000001,
            "bin_start": -71.62,
            "count": 2
           },
           {
            "bin_end": -47.722,
            "bin_start": -59.67100000000001,
            "count": 2
           },
           {
            "bin_end": -35.772999999999996,
            "bin_start": -47.722,
            "count": 11
           },
           {
            "bin_end": -23.823999999999998,
            "bin_start": -35.772999999999996,
            "count": 9
           },
           {
            "bin_end": -11.875,
            "bin_start": -23.823999999999998,
            "count": 9
           },
           {
            "bin_end": 0.07400000000001228,
            "bin_start": -11.875,
            "count": 5
           },
           {
            "bin_end": 12.02300000000001,
            "bin_start": 0.07400000000001228,
            "count": 3
           },
           {
            "bin_end": 23.97200000000001,
            "bin_start": 12.02300000000001,
            "count": 3
           },
           {
            "bin_end": 35.92100000000001,
            "bin_start": 23.97200000000001,
            "count": 1
           },
           {
            "bin_end": 47.87,
            "bin_start": 35.92100000000001,
            "count": 4
           }
          ],
          "max": "47.87",
          "min": "-71.62",
          "nan_count": 0,
          "unique_count": 48
         }
        },
        {
         "dtype": "int64",
         "name": "_deepnote_index_column"
        }
       ],
       "row_count": 49,
       "rows": [
        {
         "_deepnote_index_column": "0",
         "currency_code": "ZAR",
         "currency_name": "Rand",
         "date": "9/1/2022",
         "dollar_ex": "17.3",
         "dollar_price": "1.728323699421965",
         "implied_ex": "4.9096880131362886",
         "iso_a3": "ZAF",
         "local_price": "29.9",
         "name": "South Africa",
         "usd_index": "-71.62"
        },
        {
         "_deepnote_index_column": "1",
         "currency_code": "PKR",
         "currency_name": "Pakistan Rupee",
         "date": "9/1/2022",
         "dollar_ex": "222.74",
         "dollar_price": "2.4243512615605636",
         "implied_ex": "88.66995073891626",
         "iso_a3": "PAK",
         "local_price": "540.0",
         "name": "Pakistan",
         "usd_index": "-60.19"
        },
        {
         "_deepnote_index_column": "2",
         "currency_code": "PHP",
         "currency_name": "Philippine Peso",
         "date": "9/1/2022",
         "dollar_ex": "57.18",
         "dollar_price": "3.0954879328436515",
         "implied_ex": "29.064039408866996",
         "iso_a3": "PHL",
         "local_price": "177.0",
         "name": "Philippines",
         "usd_index": "-49.17"
        },
        {
         "_deepnote_index_column": "3",
         "currency_code": "BYN",
         "currency_name": "Belarussian Ruble",
         "date": "9/1/2022",
         "dollar_ex": "2.52",
         "dollar_price": "3.134920634920635",
         "implied_ex": "1.2972085385878491",
         "iso_a3": "BLR",
         "local_price": "7.9",
         "name": "Belarus",
         "usd_index": "-48.52"
        },
        {
         "_deepnote_index_column": "4",
         "currency_code": "PEN",
         "currency_name": "Neuvo Sol",
         "date": "9/1/2022",
         "dollar_ex": "3.89",
         "dollar_price": "3.316195372750643",
         "implied_ex": "2.118226600985222",
         "iso_a3": "PER",
         "local_price": "12.9",
         "name": "Peru",
         "usd_index": "-45.55"
        },
        {
         "_deepnote_index_column": "5",
         "currency_code": "MNT",
         "currency_name": "Tugrik",
         "date": "9/1/2022",
         "dollar_ex": "3227.0",
         "dollar_price": "3.377750232414007",
         "implied_ex": "1789.8193760262727",
         "iso_a3": "MNG",
         "local_price": "10900.0",
         "name": "Mongolia",
         "usd_index": "-44.54"
        },
        {
         "_deepnote_index_column": "6",
         "currency_code": "EGP",
         "currency_name": "Egyptian Pound",
         "date": "9/1/2022",
         "dollar_ex": "19.26",
         "dollar_price": "3.426791277258567",
         "implied_ex": "10.83743842364532",
         "iso_a3": "EGY",
         "local_price": "66.0",
         "name": "Egypt",
         "usd_index": "-43.73"
        },
        {
         "_deepnote_index_column": "7",
         "currency_code": "QAR",
         "currency_name": "Qatari Rial",
         "date": "9/1/2022",
         "dollar_ex": "3.64",
         "dollar_price": "3.571428571428571",
         "implied_ex": "2.134646962233169",
         "iso_a3": "QAT",
         "local_price": "13.0",
         "name": "Qatar",
         "usd_index": "-41.36"
        },
        {
         "_deepnote_index_column": "8",
         "currency_code": "IDR",
         "currency_name": "Rupiah",
         "date": "9/1/2022",
         "dollar_ex": "14890.02",
         "dollar_price": "3.663191856021684",
         "implied_ex": "8956.486042692939",
         "iso_a3": "IDN",
         "local_price": "54545.0",
         "name": "Indonesia",
         "usd_index": "-39.85"
        },
        {
         "_deepnote_index_column": "9",
         "currency_code": "GTQ",
         "currency_name": "Quetzal",
         "date": "9/1/2022",
         "dollar_ex": "7.75",
         "dollar_price": "3.7419354838709675",
         "implied_ex": "4.761904761904762",
         "iso_a3": "GTM",
         "local_price": "29.0",
         "name": "Guatemala",
         "usd_index": "-38.56"
        },
        {
         "_deepnote_index_column": "10",
         "currency_code": "INR",
         "currency_name": "Indian Rupee",
         "date": "9/1/2022",
         "dollar_ex": "79.7",
         "dollar_price": "3.7515683814303635",
         "implied_ex": "49.096880131362894",
         "iso_a3": "IND",
         "local_price": "299.0",
         "name": "India",
         "usd_index": "-38.4"
        },
        {
         "_deepnote_index_column": "11",
         "currency_code": "TRY",
         "currency_name": "Turkish Lira",
         "date": "9/1/2022",
         "dollar_ex": "18.24",
         "dollar_price": "3.7828947368421058",
         "implied_ex": "11.330049261083744",
         "iso_a3": "TUR",
         "local_price": "69.0",
         "name": "Turkey",
         "usd_index": "-37.88"
        },
        {
         "_deepnote_index_column": "12",
         "currency_code": "PLN",
         "currency_name": "Zloty",
         "date": "9/1/2022",
         "dollar_ex": "4.71",
         "dollar_price": "3.819532908704883",
         "implied_ex": "2.9540229885057467",
         "iso_a3": "POL",
         "local_price": "17.99",
         "name": "Poland",
         "usd_index": "-37.28"
        },
        {
         "_deepnote_index_column": "13",
         "currency_code": "RUB",
         "currency_name": "Russian Ruble",
         "date": "9/1/2022",
         "dollar_ex": "62.45",
         "dollar_price": "3.842914331465172",
         "implied_ex": "39.4072249589491",
         "iso_a3": "RUS",
         "local_price": "239.99",
         "name": "Russia",
         "usd_index": "-36.9"
        },
        {
         "_deepnote_index_column": "14",
         "currency_code": "HRK",
         "currency_name": "Kuna",
         "date": "9/1/2022",
         "dollar_ex": "7.52",
         "dollar_price": "3.8563829787234045",
         "implied_ex": "4.761904761904762",
         "iso_a3": "HRV",
         "local_price": "29.0",
         "name": "Croatia",
         "usd_index": "-36.68"
        },
        {
         "_deepnote_index_column": "15",
         "currency_code": "TWD",
         "currency_name": "New Taiwan Dollar",
         "date": "9/1/2022",
         "dollar_ex": "30.91",
         "dollar_price": "3.9792947266256875",
         "implied_ex": "20.19704433497537",
         "iso_a3": "TWN",
         "local_price": "123.0",
         "name": "Taiwan",
         "usd_index": "-34.66"
        },
        {
         "_deepnote_index_column": "16",
         "currency_code": "HUF",
         "currency_name": "Forint",
         "date": "9/1/2022",
         "dollar_ex": "396.42",
         "dollar_price": "4.01089753291963",
         "implied_ex": "261.0837438423645",
         "iso_a3": "HUN",
         "local_price": "1590.0",
         "name": "Hungary",
         "usd_index": "-34.14"
        },
        {
         "_deepnote_index_column": "17",
         "currency_code": "CZK",
         "currency_name": "Czech Koruna",
         "date": "9/1/2022",
         "dollar_ex": "24.61",
         "dollar_price": "4.022754977651362",
         "implied_ex": "16.256157635467982",
         "iso_a3": "CZE",
         "local_price": "99.0",
         "name": "Czech Republic",
         "usd_index": "-33.94"
        },
        {
         "_deepnote_index_column": "18",
         "currency_code": "AZN",
         "currency_name": "Azerbaijanian Manat",
         "date": "9/1/2022",
         "dollar_ex": "1.7",
         "dollar_price": "4.058823529411765",
         "implied_ex": "1.1330049261083746",
         "iso_a3": "AZE",
         "local_price": "6.9",
         "name": "Azerbaijan",
         "usd_index": "-33.35"
        },
        {
         "_deepnote_index_column": "19",
         "currency_code": "UYU",
         "currency_name": "Peso Uruguayo",
         "date": "9/1/2022",
         "dollar_ex": "40.39",
         "dollar_price": "4.184204010893786",
         "implied_ex": "27.750410509031198",
         "iso_a3": "URY",
         "local_price": "169.0",
         "name": "Uruguay",
         "usd_index": "-31.29"
        },
        {
         "_deepnote_index_column": "20",
         "currency_code": "KZT",
         "currency_name": "Tenge",
         "date": "9/1/2022",
         "dollar_ex": "473.86",
         "dollar_price": "4.220655889925294",
         "implied_ex": "328.4072249589491",
         "iso_a3": "KAZ",
         "local_price": "2000.0",
         "name": "Kazakhstan",
         "usd_index": "-30.7"
        },
        {
         "_deepnote_index_column": "21",
         "currency_code": "KWD",
         "currency_name": "Kuwaiti Dinar",
         "date": "9/1/2022",
         "dollar_ex": "0.309",
         "dollar_price": "4.530744336569579",
         "implied_ex": "0.22988505747126436",
         "iso_a3": "KWT",
         "local_price": "1.4",
         "name": "Kuwait",
         "usd_index": "-25.6"
        },
        {
         "_deepnote_index_column": "22",
         "currency_code": "BDT",
         "currency_name": "Taka",
         "date": "9/1/2022",
         "dollar_ex": "95.06",
         "dollar_price": "4.618135914159478",
         "implied_ex": "72.08538587848933",
         "iso_a3": "BGD",
         "local_price": "439.0",
         "name": "Bangladesh",
         "usd_index": "-24.17"
        },
        {
         "_deepnote_index_column": "23",
         "currency_code": "KRW",
         "currency_name": "Won",
         "date": "9/1/2022",
         "dollar_ex": "1381.0",
         "dollar_price": "4.634322954380884",
         "implied_ex": "1050.903119868637",
         "iso_a3": "KOR",
         "local_price": "6400.0",
         "name": "South Korea",
         "usd_index": "-23.9"
        },
        {
         "_deepnote_index_column": "24",
         "currency_code": "SGD",
         "currency_name": "Singapore Dollar",
         "date": "9/1/2022",
         "dollar_ex": "1.4",
         "dollar_price": "4.7857142857142865",
         "implied_ex": "1.1001642036124795",
         "iso_a3": "SGP",
         "local_price": "6.7",
         "name": "Singapore",
         "usd_index": "-21.42"
        },
        {
         "_deepnote_index_column": "25",
         "currency_code": "JPY",
         "currency_name": "Yen",
         "date": "9/1/2022",
         "dollar_ex": "144.09",
         "dollar_price": "4.788673745575681",
         "implied_ex": "113.30049261083744",
         "iso_a3": "JPN",
         "local_price": "690.0",
         "name": "Japan",
         "usd_index": "-21.37"
        },
        {
         "_deepnote_index_column": "26",
         "currency_code": "VND",
         "currency_name": "Dong",
         "date": "9/1/2022",
         "dollar_ex": "23702.0",
         "dollar_price": "4.851911231119737",
         "implied_ex": "18883.415435139574",
         "iso_a3": "VNM",
         "local_price": "115000.0",
         "name": "Vietnam",
         "usd_index": "-20.33"
        },
        {
         "_deepnote_index_column": "27",
         "currency_code": "KES",
         "currency_name": "Kenyan Shilling",
         "date": "9/1/2022",
         "dollar_ex": "120.34",
         "dollar_price": "4.902775469503075",
         "implied_ex": "96.88013136288998",
         "iso_a3": "KEN",
         "local_price": "590.0",
         "name": "Kenya",
         "usd_index": "-19.49"
        },
        {
         "_deepnote_index_column": "28",
         "currency_code": "MAD",
         "currency_name": "Moroccan Dirham",
         "date": "9/1/2022",
         "dollar_ex": "10.59",
         "dollar_price": "4.910292728989613",
         "implied_ex": "8.538587848932677",
         "iso_a3": "MAR",
         "local_price": "52.0",
         "name": "Morocco",
         "usd_index": "-19.37"
        },
        {
         "_deepnote_index_column": "29",
         "currency_code": "NIO",
         "currency_name": "Cordoba Oro",
         "date": "9/1/2022",
         "dollar_ex": "35.7",
         "dollar_price": "4.929971988795518",
         "implied_ex": "28.89983579638752",
         "iso_a3": "NIC",
         "local_price": "176.0",
         "name": "Nicaragua",
         "usd_index": "-19.05"
        },
        {
         "_deepnote_index_column": "30",
         "currency_code": "BRL",
         "currency_name": "Brazilian Real",
         "date": "9/1/2022",
         "dollar_ex": "5.24",
         "dollar_price": "5.133587786259541",
         "implied_ex": "4.417077175697865",
         "iso_a3": "BRA",
         "local_price": "26.9",
         "name": "Brazil",
         "usd_index": "-15.7"
        },
        {
         "_deepnote_index_column": "31",
         "currency_code": "IQD",
         "currency_name": "Iraqi Dinar",
         "date": "9/1/2022",
         "dollar_ex": "1459.43",
         "dollar_price": "5.138992620406597",
         "implied_ex": "1231.527093596059",
         "iso_a3": "IRQ",
         "local_price": "7500.0",
         "name": "Iraq",
         "usd_index": "-15.62"
        },
        {
         "_deepnote_index_column": "32",
         "currency_code": "THB",
         "currency_name": "Baht",
         "date": "9/1/2022",
         "dollar_ex": "36.42",
         "dollar_price": "5.189456342668863",
         "implied_ex": "31.03448275862069",
         "iso_a3": "THA",
         "local_price": "189.0",
         "name": "Thailand",
         "usd_index": "-14.79"
        },
        {
         "_deepnote_index_column": "33",
         "currency_code": "CAD",
         "currency_name": "Canadian Dollar",
         "date": "9/1/2022",
         "dollar_ex": "1.31",
         "dollar_price": "5.641221374045801",
         "implied_ex": "1.2134646962233169",
         "iso_a3": "CAN",
         "local_price": "7.39",
         "name": "Canada",
         "usd_index": "-7.37"
        },
        {
         "_deepnote_index_column": "34",
         "currency_code": "GBP",
         "currency_name": "Pound Sterling",
         "date": "9/1/2022",
         "dollar_ex": "0.86",
         "dollar_price": "5.802325581395349",
         "implied_ex": "0.8193760262725781",
         "iso_a3": "GBR",
         "local_price": "4.99",
         "name": "United Kingdom",
         "usd_index": "-4.72"
        },
        {
         "_deepnote_index_column": "35",
         "currency_code": "EUR",
         "currency_name": "Euro",
         "date": "9/1/2022",
         "dollar_ex": "1.0",
         "dollar_price": "5.82",
         "implied_ex": "0.9556650246305419",
         "iso_a3": "EUZ",
         "local_price": "5.82",
         "name": "Euro Area",
         "usd_index": "-4.43"
        },
        {
         "_deepnote_index_column": "36",
         "currency_code": "ARS",
         "currency_name": "Argentine Peso",
         "date": "9/1/2022",
         "dollar_ex": "140.74",
         "dollar_price": "6.039505471081426",
         "implied_ex": "139.57307060755338",
         "iso_a3": "ARG",
         "local_price": "850.0",
         "name": "Argentina",
         "usd_index": "-0.83"
        },
        {
         "_deepnote_index_column": "37",
         "currency_code": "USD",
         "currency_name": "US Dollar",
         "date": "9/1/2022",
         "dollar_ex": "1.0",
         "dollar_price": "6.09",
         "implied_ex": "1.0",
         "iso_a3": "USA",
         "local_price": "6.09",
         "name": "United States",
         "usd_index": "0.0"
        },
        {
         "_deepnote_index_column": "38",
         "currency_code": "AUD",
         "currency_name": "Australian Dollar",
         "date": "9/1/2022",
         "dollar_ex": "1.48",
         "dollar_price": "6.351351351351352",
         "implied_ex": "1.5435139573070609",
         "iso_a3": "AUS",
         "local_price": "9.4",
         "name": "Australia",
         "usd_index": "4.29"
        },
        {
         "_deepnote_index_column": "39",
         "currency_code": "SAR",
         "currency_name": "Saudi Riyal",
         "date": "9/1/2022",
         "dollar_ex": "3.75",
         "dollar_price": "6.666666666666667",
         "implied_ex": "4.105090311986864",
         "iso_a3": "SAU",
         "local_price": "25.0",
         "name": "Saudi Arabia",
         "usd_index": "9.47"
        },
        {
         "_deepnote_index_column": "40",
         "currency_code": "NZD",
         "currency_name": "New Zealand Dollar",
         "date": "9/1/2022",
         "dollar_ex": "1.65",
         "dollar_price": "6.666666666666667",
         "implied_ex": "1.80623973727422",
         "iso_a3": "NZL",
         "local_price": "11.0",
         "name": "New Zealand",
         "usd_index": "9.47"
        },
        {
         "_deepnote_index_column": "41",
         "currency_code": "MVR",
         "currency_name": "Rufiyaa",
         "date": "9/1/2022",
         "dollar_ex": "15.32",
         "dollar_price": "6.85378590078329",
         "implied_ex": "17.24137931034483",
         "iso_a3": "MDV",
         "local_price": "105.0",
         "name": "Maldives",
         "usd_index": "12.54"
        },
        {
         "_deepnote_index_column": "42",
         "currency_code": "NGN",
         "currency_name": "Naira",
         "date": "9/1/2022",
         "dollar_ex": "426.1",
         "dollar_price": "7.040600797934757",
         "implied_ex": "492.61083743842363",
         "iso_a3": "NGA",
         "local_price": "3000.0",
         "name": "Nigeria",
         "usd_index": "15.61"
        },
        {
         "_deepnote_index_column": "43",
         "currency_code": "HKD",
         "currency_name": "Hong Kong Dollar",
         "date": "9/1/2022",
         "dollar_ex": "7.84",
         "dollar_price": "7.525510204081633",
         "implied_ex": "9.688013136289",
         "iso_a3": "HKG",
         "local_price": "59.0",
         "name": "Hong Kong",
         "usd_index": "23.57"
        },
        {
         "_deepnote_index_column": "44",
         "currency_code": "SEK",
         "currency_name": "Swedish Krona",
         "date": "9/1/2022",
         "dollar_ex": "10.72",
         "dollar_price": "7.92910447761194",
         "implied_ex": "13.957307060755337",
         "iso_a3": "SWE",
         "local_price": "85.0",
         "name": "Sweden",
         "usd_index": "30.2"
        },
        {
         "_deepnote_index_column": "45",
         "currency_code": "NOK",
         "currency_name": "Norwegian Krone",
         "date": "9/1/2022",
         "dollar_ex": "10.01",
         "dollar_price": "8.291708291708291",
         "implied_ex": "13.628899835796387",
         "iso_a3": "NOR",
         "local_price": "83.0",
         "name": "Norway",
         "usd_index": "36.15"
        },
        {
         "_deepnote_index_column": "46",
         "currency_code": "ILS",
         "currency_name": "New Israeli Sheqel",
         "date": "9/1/2022",
         "dollar_ex": "3.42",
         "dollar_price": "8.47953216374269",
         "implied_ex": "4.761904761904762",
         "iso_a3": "ISR",
         "local_price": "29.0",
         "name": "Israel",
         "usd_index": "39.24"
        },
        {
         "_deepnote_index_column": "47",
         "currency_code": "CHF",
         "currency_name": "Swiss Franc",
         "date": "9/1/2022",
         "dollar_ex": "0.977",
         "dollar_price": "8.597748208802457",
         "implied_ex": "1.3793103448275863",
         "iso_a3": "CHE",
         "local_price": "8.4",
         "name": "Switzerland",
         "usd_index": "41.18"
        },
        {
         "_deepnote_index_column": "48",
         "currency_code": "DKK",
         "currency_name": "Danish Krone",
         "date": "9/1/2022",
         "dollar_ex": "7.44",
         "dollar_price": "9.00537634408602",
         "implied_ex": "11.001642036124794",
         "iso_a3": "DNK",
         "local_price": "67.0",
         "name": "Denmark",
         "usd_index": "47.87"
        }
       ]
      },
      "text/html": [
       "<div>\n",
       "<style scoped>\n",
       "    .dataframe tbody tr th:only-of-type {\n",
       "        vertical-align: middle;\n",
       "    }\n",
       "\n",
       "    .dataframe tbody tr th {\n",
       "        vertical-align: top;\n",
       "    }\n",
       "\n",
       "    .dataframe thead th {\n",
       "        text-align: right;\n",
       "    }\n",
       "</style>\n",
       "<table border=\"1\" class=\"dataframe\">\n",
       "  <thead>\n",
       "    <tr style=\"text-align: right;\">\n",
       "      <th></th>\n",
       "      <th>date</th>\n",
       "      <th>iso_a3</th>\n",
       "      <th>currency_code</th>\n",
       "      <th>currency_name</th>\n",
       "      <th>name</th>\n",
       "      <th>local_price</th>\n",
       "      <th>dollar_ex</th>\n",
       "      <th>dollar_price</th>\n",
       "      <th>implied_ex</th>\n",
       "      <th>usd_index</th>\n",
       "    </tr>\n",
       "  </thead>\n",
       "  <tbody>\n",
       "    <tr>\n",
       "      <th>0</th>\n",
       "      <td>9/1/2022</td>\n",
       "      <td>ZAF</td>\n",
       "      <td>ZAR</td>\n",
       "      <td>Rand</td>\n",
       "      <td>South Africa</td>\n",
       "      <td>29.90</td>\n",
       "      <td>17.300</td>\n",
       "      <td>1.728324</td>\n",
       "      <td>4.909688</td>\n",
       "      <td>-71.62</td>\n",
       "    </tr>\n",
       "    <tr>\n",
       "      <th>1</th>\n",
       "      <td>9/1/2022</td>\n",
       "      <td>PAK</td>\n",
       "      <td>PKR</td>\n",
       "      <td>Pakistan Rupee</td>\n",
       "      <td>Pakistan</td>\n",
       "      <td>540.00</td>\n",
       "      <td>222.740</td>\n",
       "      <td>2.424351</td>\n",
       "      <td>88.669951</td>\n",
       "      <td>-60.19</td>\n",
       "    </tr>\n",
       "    <tr>\n",
       "      <th>2</th>\n",
       "      <td>9/1/2022</td>\n",
       "      <td>PHL</td>\n",
       "      <td>PHP</td>\n",
       "      <td>Philippine Peso</td>\n",
       "      <td>Philippines</td>\n",
       "      <td>177.00</td>\n",
       "      <td>57.180</td>\n",
       "      <td>3.095488</td>\n",
       "      <td>29.064039</td>\n",
       "      <td>-49.17</td>\n",
       "    </tr>\n",
       "    <tr>\n",
       "      <th>3</th>\n",
       "      <td>9/1/2022</td>\n",
       "      <td>BLR</td>\n",
       "      <td>BYN</td>\n",
       "      <td>Belarussian Ruble</td>\n",
       "      <td>Belarus</td>\n",
       "      <td>7.90</td>\n",
       "      <td>2.520</td>\n",
       "      <td>3.134921</td>\n",
       "      <td>1.297209</td>\n",
       "      <td>-48.52</td>\n",
       "    </tr>\n",
       "    <tr>\n",
       "      <th>4</th>\n",
       "      <td>9/1/2022</td>\n",
       "      <td>PER</td>\n",
       "      <td>PEN</td>\n",
       "      <td>Neuvo Sol</td>\n",
       "      <td>Peru</td>\n",
       "      <td>12.90</td>\n",
       "      <td>3.890</td>\n",
       "      <td>3.316195</td>\n",
       "      <td>2.118227</td>\n",
       "      <td>-45.55</td>\n",
       "    </tr>\n",
       "    <tr>\n",
       "      <th>5</th>\n",
       "      <td>9/1/2022</td>\n",
       "      <td>MNG</td>\n",
       "      <td>MNT</td>\n",
       "      <td>Tugrik</td>\n",
       "      <td>Mongolia</td>\n",
       "      <td>10900.00</td>\n",
       "      <td>3227.000</td>\n",
       "      <td>3.377750</td>\n",
       "      <td>1789.819376</td>\n",
       "      <td>-44.54</td>\n",
       "    </tr>\n",
       "    <tr>\n",
       "      <th>6</th>\n",
       "      <td>9/1/2022</td>\n",
       "      <td>EGY</td>\n",
       "      <td>EGP</td>\n",
       "      <td>Egyptian Pound</td>\n",
       "      <td>Egypt</td>\n",
       "      <td>66.00</td>\n",
       "      <td>19.260</td>\n",
       "      <td>3.426791</td>\n",
       "      <td>10.837438</td>\n",
       "      <td>-43.73</td>\n",
       "    </tr>\n",
       "    <tr>\n",
       "      <th>7</th>\n",
       "      <td>9/1/2022</td>\n",
       "      <td>QAT</td>\n",
       "      <td>QAR</td>\n",
       "      <td>Qatari Rial</td>\n",
       "      <td>Qatar</td>\n",
       "      <td>13.00</td>\n",
       "      <td>3.640</td>\n",
       "      <td>3.571429</td>\n",
       "      <td>2.134647</td>\n",
       "      <td>-41.36</td>\n",
       "    </tr>\n",
       "    <tr>\n",
       "      <th>8</th>\n",
       "      <td>9/1/2022</td>\n",
       "      <td>IDN</td>\n",
       "      <td>IDR</td>\n",
       "      <td>Rupiah</td>\n",
       "      <td>Indonesia</td>\n",
       "      <td>54545.00</td>\n",
       "      <td>14890.020</td>\n",
       "      <td>3.663192</td>\n",
       "      <td>8956.486043</td>\n",
       "      <td>-39.85</td>\n",
       "    </tr>\n",
       "    <tr>\n",
       "      <th>9</th>\n",
       "      <td>9/1/2022</td>\n",
       "      <td>GTM</td>\n",
       "      <td>GTQ</td>\n",
       "      <td>Quetzal</td>\n",
       "      <td>Guatemala</td>\n",
       "      <td>29.00</td>\n",
       "      <td>7.750</td>\n",
       "      <td>3.741935</td>\n",
       "      <td>4.761905</td>\n",
       "      <td>-38.56</td>\n",
       "    </tr>\n",
       "    <tr>\n",
       "      <th>10</th>\n",
       "      <td>9/1/2022</td>\n",
       "      <td>IND</td>\n",
       "      <td>INR</td>\n",
       "      <td>Indian Rupee</td>\n",
       "      <td>India</td>\n",
       "      <td>299.00</td>\n",
       "      <td>79.700</td>\n",
       "      <td>3.751568</td>\n",
       "      <td>49.096880</td>\n",
       "      <td>-38.40</td>\n",
       "    </tr>\n",
       "    <tr>\n",
       "      <th>11</th>\n",
       "      <td>9/1/2022</td>\n",
       "      <td>TUR</td>\n",
       "      <td>TRY</td>\n",
       "      <td>Turkish Lira</td>\n",
       "      <td>Turkey</td>\n",
       "      <td>69.00</td>\n",
       "      <td>18.240</td>\n",
       "      <td>3.782895</td>\n",
       "      <td>11.330049</td>\n",
       "      <td>-37.88</td>\n",
       "    </tr>\n",
       "    <tr>\n",
       "      <th>12</th>\n",
       "      <td>9/1/2022</td>\n",
       "      <td>POL</td>\n",
       "      <td>PLN</td>\n",
       "      <td>Zloty</td>\n",
       "      <td>Poland</td>\n",
       "      <td>17.99</td>\n",
       "      <td>4.710</td>\n",
       "      <td>3.819533</td>\n",
       "      <td>2.954023</td>\n",
       "      <td>-37.28</td>\n",
       "    </tr>\n",
       "    <tr>\n",
       "      <th>13</th>\n",
       "      <td>9/1/2022</td>\n",
       "      <td>RUS</td>\n",
       "      <td>RUB</td>\n",
       "      <td>Russian Ruble</td>\n",
       "      <td>Russia</td>\n",
       "      <td>239.99</td>\n",
       "      <td>62.450</td>\n",
       "      <td>3.842914</td>\n",
       "      <td>39.407225</td>\n",
       "      <td>-36.90</td>\n",
       "    </tr>\n",
       "    <tr>\n",
       "      <th>14</th>\n",
       "      <td>9/1/2022</td>\n",
       "      <td>HRV</td>\n",
       "      <td>HRK</td>\n",
       "      <td>Kuna</td>\n",
       "      <td>Croatia</td>\n",
       "      <td>29.00</td>\n",
       "      <td>7.520</td>\n",
       "      <td>3.856383</td>\n",
       "      <td>4.761905</td>\n",
       "      <td>-36.68</td>\n",
       "    </tr>\n",
       "    <tr>\n",
       "      <th>15</th>\n",
       "      <td>9/1/2022</td>\n",
       "      <td>TWN</td>\n",
       "      <td>TWD</td>\n",
       "      <td>New Taiwan Dollar</td>\n",
       "      <td>Taiwan</td>\n",
       "      <td>123.00</td>\n",
       "      <td>30.910</td>\n",
       "      <td>3.979295</td>\n",
       "      <td>20.197044</td>\n",
       "      <td>-34.66</td>\n",
       "    </tr>\n",
       "    <tr>\n",
       "      <th>16</th>\n",
       "      <td>9/1/2022</td>\n",
       "      <td>HUN</td>\n",
       "      <td>HUF</td>\n",
       "      <td>Forint</td>\n",
       "      <td>Hungary</td>\n",
       "      <td>1590.00</td>\n",
       "      <td>396.420</td>\n",
       "      <td>4.010898</td>\n",
       "      <td>261.083744</td>\n",
       "      <td>-34.14</td>\n",
       "    </tr>\n",
       "    <tr>\n",
       "      <th>17</th>\n",
       "      <td>9/1/2022</td>\n",
       "      <td>CZE</td>\n",
       "      <td>CZK</td>\n",
       "      <td>Czech Koruna</td>\n",
       "      <td>Czech Republic</td>\n",
       "      <td>99.00</td>\n",
       "      <td>24.610</td>\n",
       "      <td>4.022755</td>\n",
       "      <td>16.256158</td>\n",
       "      <td>-33.94</td>\n",
       "    </tr>\n",
       "    <tr>\n",
       "      <th>18</th>\n",
       "      <td>9/1/2022</td>\n",
       "      <td>AZE</td>\n",
       "      <td>AZN</td>\n",
       "      <td>Azerbaijanian Manat</td>\n",
       "      <td>Azerbaijan</td>\n",
       "      <td>6.90</td>\n",
       "      <td>1.700</td>\n",
       "      <td>4.058824</td>\n",
       "      <td>1.133005</td>\n",
       "      <td>-33.35</td>\n",
       "    </tr>\n",
       "    <tr>\n",
       "      <th>19</th>\n",
       "      <td>9/1/2022</td>\n",
       "      <td>URY</td>\n",
       "      <td>UYU</td>\n",
       "      <td>Peso Uruguayo</td>\n",
       "      <td>Uruguay</td>\n",
       "      <td>169.00</td>\n",
       "      <td>40.390</td>\n",
       "      <td>4.184204</td>\n",
       "      <td>27.750411</td>\n",
       "      <td>-31.29</td>\n",
       "    </tr>\n",
       "    <tr>\n",
       "      <th>20</th>\n",
       "      <td>9/1/2022</td>\n",
       "      <td>KAZ</td>\n",
       "      <td>KZT</td>\n",
       "      <td>Tenge</td>\n",
       "      <td>Kazakhstan</td>\n",
       "      <td>2000.00</td>\n",
       "      <td>473.860</td>\n",
       "      <td>4.220656</td>\n",
       "      <td>328.407225</td>\n",
       "      <td>-30.70</td>\n",
       "    </tr>\n",
       "    <tr>\n",
       "      <th>21</th>\n",
       "      <td>9/1/2022</td>\n",
       "      <td>KWT</td>\n",
       "      <td>KWD</td>\n",
       "      <td>Kuwaiti Dinar</td>\n",
       "      <td>Kuwait</td>\n",
       "      <td>1.40</td>\n",
       "      <td>0.309</td>\n",
       "      <td>4.530744</td>\n",
       "      <td>0.229885</td>\n",
       "      <td>-25.60</td>\n",
       "    </tr>\n",
       "    <tr>\n",
       "      <th>22</th>\n",
       "      <td>9/1/2022</td>\n",
       "      <td>BGD</td>\n",
       "      <td>BDT</td>\n",
       "      <td>Taka</td>\n",
       "      <td>Bangladesh</td>\n",
       "      <td>439.00</td>\n",
       "      <td>95.060</td>\n",
       "      <td>4.618136</td>\n",
       "      <td>72.085386</td>\n",
       "      <td>-24.17</td>\n",
       "    </tr>\n",
       "    <tr>\n",
       "      <th>23</th>\n",
       "      <td>9/1/2022</td>\n",
       "      <td>KOR</td>\n",
       "      <td>KRW</td>\n",
       "      <td>Won</td>\n",
       "      <td>South Korea</td>\n",
       "      <td>6400.00</td>\n",
       "      <td>1381.000</td>\n",
       "      <td>4.634323</td>\n",
       "      <td>1050.903120</td>\n",
       "      <td>-23.90</td>\n",
       "    </tr>\n",
       "    <tr>\n",
       "      <th>24</th>\n",
       "      <td>9/1/2022</td>\n",
       "      <td>SGP</td>\n",
       "      <td>SGD</td>\n",
       "      <td>Singapore Dollar</td>\n",
       "      <td>Singapore</td>\n",
       "      <td>6.70</td>\n",
       "      <td>1.400</td>\n",
       "      <td>4.785714</td>\n",
       "      <td>1.100164</td>\n",
       "      <td>-21.42</td>\n",
       "    </tr>\n",
       "    <tr>\n",
       "      <th>25</th>\n",
       "      <td>9/1/2022</td>\n",
       "      <td>JPN</td>\n",
       "      <td>JPY</td>\n",
       "      <td>Yen</td>\n",
       "      <td>Japan</td>\n",
       "      <td>690.00</td>\n",
       "      <td>144.090</td>\n",
       "      <td>4.788674</td>\n",
       "      <td>113.300493</td>\n",
       "      <td>-21.37</td>\n",
       "    </tr>\n",
       "    <tr>\n",
       "      <th>26</th>\n",
       "      <td>9/1/2022</td>\n",
       "      <td>VNM</td>\n",
       "      <td>VND</td>\n",
       "      <td>Dong</td>\n",
       "      <td>Vietnam</td>\n",
       "      <td>115000.00</td>\n",
       "      <td>23702.000</td>\n",
       "      <td>4.851911</td>\n",
       "      <td>18883.415435</td>\n",
       "      <td>-20.33</td>\n",
       "    </tr>\n",
       "    <tr>\n",
       "      <th>27</th>\n",
       "      <td>9/1/2022</td>\n",
       "      <td>KEN</td>\n",
       "      <td>KES</td>\n",
       "      <td>Kenyan Shilling</td>\n",
       "      <td>Kenya</td>\n",
       "      <td>590.00</td>\n",
       "      <td>120.340</td>\n",
       "      <td>4.902775</td>\n",
       "      <td>96.880131</td>\n",
       "      <td>-19.49</td>\n",
       "    </tr>\n",
       "    <tr>\n",
       "      <th>28</th>\n",
       "      <td>9/1/2022</td>\n",
       "      <td>MAR</td>\n",
       "      <td>MAD</td>\n",
       "      <td>Moroccan Dirham</td>\n",
       "      <td>Morocco</td>\n",
       "      <td>52.00</td>\n",
       "      <td>10.590</td>\n",
       "      <td>4.910293</td>\n",
       "      <td>8.538588</td>\n",
       "      <td>-19.37</td>\n",
       "    </tr>\n",
       "    <tr>\n",
       "      <th>29</th>\n",
       "      <td>9/1/2022</td>\n",
       "      <td>NIC</td>\n",
       "      <td>NIO</td>\n",
       "      <td>Cordoba Oro</td>\n",
       "      <td>Nicaragua</td>\n",
       "      <td>176.00</td>\n",
       "      <td>35.700</td>\n",
       "      <td>4.929972</td>\n",
       "      <td>28.899836</td>\n",
       "      <td>-19.05</td>\n",
       "    </tr>\n",
       "    <tr>\n",
       "      <th>30</th>\n",
       "      <td>9/1/2022</td>\n",
       "      <td>BRA</td>\n",
       "      <td>BRL</td>\n",
       "      <td>Brazilian Real</td>\n",
       "      <td>Brazil</td>\n",
       "      <td>26.90</td>\n",
       "      <td>5.240</td>\n",
       "      <td>5.133588</td>\n",
       "      <td>4.417077</td>\n",
       "      <td>-15.70</td>\n",
       "    </tr>\n",
       "    <tr>\n",
       "      <th>31</th>\n",
       "      <td>9/1/2022</td>\n",
       "      <td>IRQ</td>\n",
       "      <td>IQD</td>\n",
       "      <td>Iraqi Dinar</td>\n",
       "      <td>Iraq</td>\n",
       "      <td>7500.00</td>\n",
       "      <td>1459.430</td>\n",
       "      <td>5.138993</td>\n",
       "      <td>1231.527094</td>\n",
       "      <td>-15.62</td>\n",
       "    </tr>\n",
       "    <tr>\n",
       "      <th>32</th>\n",
       "      <td>9/1/2022</td>\n",
       "      <td>THA</td>\n",
       "      <td>THB</td>\n",
       "      <td>Baht</td>\n",
       "      <td>Thailand</td>\n",
       "      <td>189.00</td>\n",
       "      <td>36.420</td>\n",
       "      <td>5.189456</td>\n",
       "      <td>31.034483</td>\n",
       "      <td>-14.79</td>\n",
       "    </tr>\n",
       "    <tr>\n",
       "      <th>33</th>\n",
       "      <td>9/1/2022</td>\n",
       "      <td>CAN</td>\n",
       "      <td>CAD</td>\n",
       "      <td>Canadian Dollar</td>\n",
       "      <td>Canada</td>\n",
       "      <td>7.39</td>\n",
       "      <td>1.310</td>\n",
       "      <td>5.641221</td>\n",
       "      <td>1.213465</td>\n",
       "      <td>-7.37</td>\n",
       "    </tr>\n",
       "    <tr>\n",
       "      <th>34</th>\n",
       "      <td>9/1/2022</td>\n",
       "      <td>GBR</td>\n",
       "      <td>GBP</td>\n",
       "      <td>Pound Sterling</td>\n",
       "      <td>United Kingdom</td>\n",
       "      <td>4.99</td>\n",
       "      <td>0.860</td>\n",
       "      <td>5.802326</td>\n",
       "      <td>0.819376</td>\n",
       "      <td>-4.72</td>\n",
       "    </tr>\n",
       "    <tr>\n",
       "      <th>35</th>\n",
       "      <td>9/1/2022</td>\n",
       "      <td>EUZ</td>\n",
       "      <td>EUR</td>\n",
       "      <td>Euro</td>\n",
       "      <td>Euro Area</td>\n",
       "      <td>5.82</td>\n",
       "      <td>1.000</td>\n",
       "      <td>5.820000</td>\n",
       "      <td>0.955665</td>\n",
       "      <td>-4.43</td>\n",
       "    </tr>\n",
       "    <tr>\n",
       "      <th>36</th>\n",
       "      <td>9/1/2022</td>\n",
       "      <td>ARG</td>\n",
       "      <td>ARS</td>\n",
       "      <td>Argentine Peso</td>\n",
       "      <td>Argentina</td>\n",
       "      <td>850.00</td>\n",
       "      <td>140.740</td>\n",
       "      <td>6.039505</td>\n",
       "      <td>139.573071</td>\n",
       "      <td>-0.83</td>\n",
       "    </tr>\n",
       "    <tr>\n",
       "      <th>37</th>\n",
       "      <td>9/1/2022</td>\n",
       "      <td>USA</td>\n",
       "      <td>USD</td>\n",
       "      <td>US Dollar</td>\n",
       "      <td>United States</td>\n",
       "      <td>6.09</td>\n",
       "      <td>1.000</td>\n",
       "      <td>6.090000</td>\n",
       "      <td>1.000000</td>\n",
       "      <td>0.00</td>\n",
       "    </tr>\n",
       "    <tr>\n",
       "      <th>38</th>\n",
       "      <td>9/1/2022</td>\n",
       "      <td>AUS</td>\n",
       "      <td>AUD</td>\n",
       "      <td>Australian Dollar</td>\n",
       "      <td>Australia</td>\n",
       "      <td>9.40</td>\n",
       "      <td>1.480</td>\n",
       "      <td>6.351351</td>\n",
       "      <td>1.543514</td>\n",
       "      <td>4.29</td>\n",
       "    </tr>\n",
       "    <tr>\n",
       "      <th>39</th>\n",
       "      <td>9/1/2022</td>\n",
       "      <td>SAU</td>\n",
       "      <td>SAR</td>\n",
       "      <td>Saudi Riyal</td>\n",
       "      <td>Saudi Arabia</td>\n",
       "      <td>25.00</td>\n",
       "      <td>3.750</td>\n",
       "      <td>6.666667</td>\n",
       "      <td>4.105090</td>\n",
       "      <td>9.47</td>\n",
       "    </tr>\n",
       "    <tr>\n",
       "      <th>40</th>\n",
       "      <td>9/1/2022</td>\n",
       "      <td>NZL</td>\n",
       "      <td>NZD</td>\n",
       "      <td>New Zealand Dollar</td>\n",
       "      <td>New Zealand</td>\n",
       "      <td>11.00</td>\n",
       "      <td>1.650</td>\n",
       "      <td>6.666667</td>\n",
       "      <td>1.806240</td>\n",
       "      <td>9.47</td>\n",
       "    </tr>\n",
       "    <tr>\n",
       "      <th>41</th>\n",
       "      <td>9/1/2022</td>\n",
       "      <td>MDV</td>\n",
       "      <td>MVR</td>\n",
       "      <td>Rufiyaa</td>\n",
       "      <td>Maldives</td>\n",
       "      <td>105.00</td>\n",
       "      <td>15.320</td>\n",
       "      <td>6.853786</td>\n",
       "      <td>17.241379</td>\n",
       "      <td>12.54</td>\n",
       "    </tr>\n",
       "    <tr>\n",
       "      <th>42</th>\n",
       "      <td>9/1/2022</td>\n",
       "      <td>NGA</td>\n",
       "      <td>NGN</td>\n",
       "      <td>Naira</td>\n",
       "      <td>Nigeria</td>\n",
       "      <td>3000.00</td>\n",
       "      <td>426.100</td>\n",
       "      <td>7.040601</td>\n",
       "      <td>492.610837</td>\n",
       "      <td>15.61</td>\n",
       "    </tr>\n",
       "    <tr>\n",
       "      <th>43</th>\n",
       "      <td>9/1/2022</td>\n",
       "      <td>HKG</td>\n",
       "      <td>HKD</td>\n",
       "      <td>Hong Kong Dollar</td>\n",
       "      <td>Hong Kong</td>\n",
       "      <td>59.00</td>\n",
       "      <td>7.840</td>\n",
       "      <td>7.525510</td>\n",
       "      <td>9.688013</td>\n",
       "      <td>23.57</td>\n",
       "    </tr>\n",
       "    <tr>\n",
       "      <th>44</th>\n",
       "      <td>9/1/2022</td>\n",
       "      <td>SWE</td>\n",
       "      <td>SEK</td>\n",
       "      <td>Swedish Krona</td>\n",
       "      <td>Sweden</td>\n",
       "      <td>85.00</td>\n",
       "      <td>10.720</td>\n",
       "      <td>7.929104</td>\n",
       "      <td>13.957307</td>\n",
       "      <td>30.20</td>\n",
       "    </tr>\n",
       "    <tr>\n",
       "      <th>45</th>\n",
       "      <td>9/1/2022</td>\n",
       "      <td>NOR</td>\n",
       "      <td>NOK</td>\n",
       "      <td>Norwegian Krone</td>\n",
       "      <td>Norway</td>\n",
       "      <td>83.00</td>\n",
       "      <td>10.010</td>\n",
       "      <td>8.291708</td>\n",
       "      <td>13.628900</td>\n",
       "      <td>36.15</td>\n",
       "    </tr>\n",
       "    <tr>\n",
       "      <th>46</th>\n",
       "      <td>9/1/2022</td>\n",
       "      <td>ISR</td>\n",
       "      <td>ILS</td>\n",
       "      <td>New Israeli Sheqel</td>\n",
       "      <td>Israel</td>\n",
       "      <td>29.00</td>\n",
       "      <td>3.420</td>\n",
       "      <td>8.479532</td>\n",
       "      <td>4.761905</td>\n",
       "      <td>39.24</td>\n",
       "    </tr>\n",
       "    <tr>\n",
       "      <th>47</th>\n",
       "      <td>9/1/2022</td>\n",
       "      <td>CHE</td>\n",
       "      <td>CHF</td>\n",
       "      <td>Swiss Franc</td>\n",
       "      <td>Switzerland</td>\n",
       "      <td>8.40</td>\n",
       "      <td>0.977</td>\n",
       "      <td>8.597748</td>\n",
       "      <td>1.379310</td>\n",
       "      <td>41.18</td>\n",
       "    </tr>\n",
       "    <tr>\n",
       "      <th>48</th>\n",
       "      <td>9/1/2022</td>\n",
       "      <td>DNK</td>\n",
       "      <td>DKK</td>\n",
       "      <td>Danish Krone</td>\n",
       "      <td>Denmark</td>\n",
       "      <td>67.00</td>\n",
       "      <td>7.440</td>\n",
       "      <td>9.005376</td>\n",
       "      <td>11.001642</td>\n",
       "      <td>47.87</td>\n",
       "    </tr>\n",
       "  </tbody>\n",
       "</table>\n",
       "</div>"
      ],
      "text/plain": [
       "        date iso_a3 currency_code        currency_name            name  \\\n",
       "0   9/1/2022    ZAF           ZAR                 Rand    South Africa   \n",
       "1   9/1/2022    PAK           PKR       Pakistan Rupee        Pakistan   \n",
       "2   9/1/2022    PHL           PHP      Philippine Peso     Philippines   \n",
       "3   9/1/2022    BLR           BYN    Belarussian Ruble         Belarus   \n",
       "4   9/1/2022    PER           PEN            Neuvo Sol            Peru   \n",
       "5   9/1/2022    MNG           MNT               Tugrik        Mongolia   \n",
       "6   9/1/2022    EGY           EGP       Egyptian Pound           Egypt   \n",
       "7   9/1/2022    QAT           QAR          Qatari Rial           Qatar   \n",
       "8   9/1/2022    IDN           IDR               Rupiah       Indonesia   \n",
       "9   9/1/2022    GTM           GTQ              Quetzal       Guatemala   \n",
       "10  9/1/2022    IND           INR         Indian Rupee           India   \n",
       "11  9/1/2022    TUR           TRY         Turkish Lira          Turkey   \n",
       "12  9/1/2022    POL           PLN                Zloty          Poland   \n",
       "13  9/1/2022    RUS           RUB        Russian Ruble          Russia   \n",
       "14  9/1/2022    HRV           HRK                 Kuna         Croatia   \n",
       "15  9/1/2022    TWN           TWD    New Taiwan Dollar          Taiwan   \n",
       "16  9/1/2022    HUN           HUF               Forint         Hungary   \n",
       "17  9/1/2022    CZE           CZK         Czech Koruna  Czech Republic   \n",
       "18  9/1/2022    AZE           AZN  Azerbaijanian Manat      Azerbaijan   \n",
       "19  9/1/2022    URY           UYU        Peso Uruguayo         Uruguay   \n",
       "20  9/1/2022    KAZ           KZT                Tenge      Kazakhstan   \n",
       "21  9/1/2022    KWT           KWD        Kuwaiti Dinar          Kuwait   \n",
       "22  9/1/2022    BGD           BDT                 Taka      Bangladesh   \n",
       "23  9/1/2022    KOR           KRW                  Won     South Korea   \n",
       "24  9/1/2022    SGP           SGD     Singapore Dollar       Singapore   \n",
       "25  9/1/2022    JPN           JPY                  Yen           Japan   \n",
       "26  9/1/2022    VNM           VND                 Dong         Vietnam   \n",
       "27  9/1/2022    KEN           KES      Kenyan Shilling           Kenya   \n",
       "28  9/1/2022    MAR           MAD      Moroccan Dirham         Morocco   \n",
       "29  9/1/2022    NIC           NIO          Cordoba Oro       Nicaragua   \n",
       "30  9/1/2022    BRA           BRL       Brazilian Real          Brazil   \n",
       "31  9/1/2022    IRQ           IQD          Iraqi Dinar            Iraq   \n",
       "32  9/1/2022    THA           THB                 Baht        Thailand   \n",
       "33  9/1/2022    CAN           CAD      Canadian Dollar          Canada   \n",
       "34  9/1/2022    GBR           GBP       Pound Sterling  United Kingdom   \n",
       "35  9/1/2022    EUZ           EUR                 Euro       Euro Area   \n",
       "36  9/1/2022    ARG           ARS       Argentine Peso       Argentina   \n",
       "37  9/1/2022    USA           USD            US Dollar   United States   \n",
       "38  9/1/2022    AUS           AUD    Australian Dollar       Australia   \n",
       "39  9/1/2022    SAU           SAR          Saudi Riyal    Saudi Arabia   \n",
       "40  9/1/2022    NZL           NZD   New Zealand Dollar     New Zealand   \n",
       "41  9/1/2022    MDV           MVR              Rufiyaa        Maldives   \n",
       "42  9/1/2022    NGA           NGN                Naira         Nigeria   \n",
       "43  9/1/2022    HKG           HKD     Hong Kong Dollar       Hong Kong   \n",
       "44  9/1/2022    SWE           SEK        Swedish Krona          Sweden   \n",
       "45  9/1/2022    NOR           NOK      Norwegian Krone          Norway   \n",
       "46  9/1/2022    ISR           ILS   New Israeli Sheqel          Israel   \n",
       "47  9/1/2022    CHE           CHF          Swiss Franc     Switzerland   \n",
       "48  9/1/2022    DNK           DKK         Danish Krone         Denmark   \n",
       "\n",
       "    local_price  dollar_ex  dollar_price    implied_ex  usd_index  \n",
       "0         29.90     17.300      1.728324      4.909688     -71.62  \n",
       "1        540.00    222.740      2.424351     88.669951     -60.19  \n",
       "2        177.00     57.180      3.095488     29.064039     -49.17  \n",
       "3          7.90      2.520      3.134921      1.297209     -48.52  \n",
       "4         12.90      3.890      3.316195      2.118227     -45.55  \n",
       "5      10900.00   3227.000      3.377750   1789.819376     -44.54  \n",
       "6         66.00     19.260      3.426791     10.837438     -43.73  \n",
       "7         13.00      3.640      3.571429      2.134647     -41.36  \n",
       "8      54545.00  14890.020      3.663192   8956.486043     -39.85  \n",
       "9         29.00      7.750      3.741935      4.761905     -38.56  \n",
       "10       299.00     79.700      3.751568     49.096880     -38.40  \n",
       "11        69.00     18.240      3.782895     11.330049     -37.88  \n",
       "12        17.99      4.710      3.819533      2.954023     -37.28  \n",
       "13       239.99     62.450      3.842914     39.407225     -36.90  \n",
       "14        29.00      7.520      3.856383      4.761905     -36.68  \n",
       "15       123.00     30.910      3.979295     20.197044     -34.66  \n",
       "16      1590.00    396.420      4.010898    261.083744     -34.14  \n",
       "17        99.00     24.610      4.022755     16.256158     -33.94  \n",
       "18         6.90      1.700      4.058824      1.133005     -33.35  \n",
       "19       169.00     40.390      4.184204     27.750411     -31.29  \n",
       "20      2000.00    473.860      4.220656    328.407225     -30.70  \n",
       "21         1.40      0.309      4.530744      0.229885     -25.60  \n",
       "22       439.00     95.060      4.618136     72.085386     -24.17  \n",
       "23      6400.00   1381.000      4.634323   1050.903120     -23.90  \n",
       "24         6.70      1.400      4.785714      1.100164     -21.42  \n",
       "25       690.00    144.090      4.788674    113.300493     -21.37  \n",
       "26    115000.00  23702.000      4.851911  18883.415435     -20.33  \n",
       "27       590.00    120.340      4.902775     96.880131     -19.49  \n",
       "28        52.00     10.590      4.910293      8.538588     -19.37  \n",
       "29       176.00     35.700      4.929972     28.899836     -19.05  \n",
       "30        26.90      5.240      5.133588      4.417077     -15.70  \n",
       "31      7500.00   1459.430      5.138993   1231.527094     -15.62  \n",
       "32       189.00     36.420      5.189456     31.034483     -14.79  \n",
       "33         7.39      1.310      5.641221      1.213465      -7.37  \n",
       "34         4.99      0.860      5.802326      0.819376      -4.72  \n",
       "35         5.82      1.000      5.820000      0.955665      -4.43  \n",
       "36       850.00    140.740      6.039505    139.573071      -0.83  \n",
       "37         6.09      1.000      6.090000      1.000000       0.00  \n",
       "38         9.40      1.480      6.351351      1.543514       4.29  \n",
       "39        25.00      3.750      6.666667      4.105090       9.47  \n",
       "40        11.00      1.650      6.666667      1.806240       9.47  \n",
       "41       105.00     15.320      6.853786     17.241379      12.54  \n",
       "42      3000.00    426.100      7.040601    492.610837      15.61  \n",
       "43        59.00      7.840      7.525510      9.688013      23.57  \n",
       "44        85.00     10.720      7.929104     13.957307      30.20  \n",
       "45        83.00     10.010      8.291708     13.628900      36.15  \n",
       "46        29.00      3.420      8.479532      4.761905      39.24  \n",
       "47         8.40      0.977      8.597748      1.379310      41.18  \n",
       "48        67.00      7.440      9.005376     11.001642      47.87  "
      ]
     },
     "execution_count": 12,
     "metadata": {},
     "output_type": "execute_result"
    }
   ],
   "source": [
    "df"
   ]
  },
  {
   "cell_type": "code",
   "execution_count": null,
   "metadata": {
    "cell_id": "5b605c986c8c4c7880958882f7282daa",
    "deepnote_cell_height": 76,
    "deepnote_cell_type": "code",
    "deepnote_to_be_reexecuted": false,
    "execution_millis": 7,
    "execution_start": 1662827327118,
    "source_hash": "5852ba7a",
    "tags": []
   },
   "outputs": [],
   "source": [
    "df.to_csv(\"data/whopper_index.csv\", index=False)"
   ]
  },
  {
   "cell_type": "markdown",
   "metadata": {
    "cell_id": "0a4cf6fb0c8b4931b153efaab4d460f3",
    "deepnote_cell_type": "text-cell-h2",
    "formattedRanges": [],
    "is_collapsed": false,
    "tags": []
   },
   "source": [
    "## Plot Index"
   ]
  },
  {
   "cell_type": "code",
   "execution_count": null,
   "metadata": {
    "cell_id": "2f6f94b457404b9a858db1252c6c0cbf",
    "deepnote_cell_height": 76,
    "deepnote_cell_type": "code",
    "deepnote_to_be_reexecuted": false,
    "execution_millis": 5,
    "execution_start": 1662827327127,
    "source_hash": "c42731fd",
    "tags": []
   },
   "outputs": [],
   "source": [
    "plt.style.use(\"datafantic.mplstyle\")"
   ]
  },
  {
   "cell_type": "code",
   "execution_count": null,
   "metadata": {
    "cell_id": "80d8beeddba74781850d392b9bc5d176",
    "deepnote_cell_height": 1584,
    "deepnote_cell_type": "code",
    "deepnote_output_heights": [
     610
    ],
    "deepnote_to_be_reexecuted": false,
    "execution_millis": 3153,
    "execution_start": 1662827327140,
    "source_hash": "2815025d",
    "tags": []
   },
   "outputs": [
    {
     "data": {
      "image/png": "[encoded data removed]",
      "text/plain": [
       "<Figure size 648x1296 with 1 Axes>"
      ]
     },
     "metadata": {
      "image/png": {
       "height": 1109,
       "width": 753
      },
      "needs_background": "light"
     },
     "output_type": "display_data"
    }
   ],
   "source": [
    "fig, ax = plt.subplots(figsize=(9, 18))\n",
    "ax.barh(df['name'], df['usd_index'], height=0.7, linewidth=1)\n",
    "\n",
    "# Add horizontal line where the US is\n",
    "ax.axhline(37, color='black', linewidth=1)\n",
    "\n",
    "# Move x axis to top and change tick labels\n",
    "ax.xaxis.tick_top()\n",
    "ax.tick_params(axis='x', \n",
    "               which='major', \n",
    "               labelsize=16, \n",
    "               top=False, \n",
    "               pad=1)\n",
    "ax.set_xticks(np.arange(-60, 60, 20), labels=['-60%', '-40','-20','0', '20', '40%'])\n",
    "\n",
    "ax.set_xlabel(\"                 <-- Undervalued              Overvalued -->\", \n",
    "              labelpad=10, \n",
    "              fontsize=16)\n",
    "ax.xaxis.set_label_position('top') \n",
    "\n",
    "# Change grid and font sizes\n",
    "ax.grid(False)\n",
    "ax.grid(True, which='major', axis='x')\n",
    "ax.spines.bottom.set_visible(False)\n",
    "\n",
    "# Shrink y axis\n",
    "ax.set_ylim(-1, df.shape[0])\n",
    "\n",
    "# Add in title and subtitle\n",
    "ax.text(x=-0.15, y=.93, \n",
    "        s=\"The Whopper Index\", \n",
    "        transform=fig.transFigure, \n",
    "        ha='left', \n",
    "        fontsize=28, \n",
    "        fontweight='bold')\n",
    "        \n",
    "\n",
    "# Set the logo\n",
    "logo = plt.imread('images/datafantic.png')\n",
    "imagebox = OffsetImage(logo, zoom=.22)\n",
    "ab = AnnotationBbox(imagebox, \n",
    "                    xy=(1,1.1), \n",
    "                    xycoords='axes fraction', \n",
    "                    box_alignment=(1,1), \n",
    "                    frameon = False)\n",
    "ax.add_artist(ab)\n",
    "\n",
    "\n",
    "# Export plot as high resolution PNG\n",
    "plt.savefig('images/whopper_index.png')"
   ]
  },
  {
   "cell_type": "markdown",
   "metadata": {
    "cell_id": "cef270cb0ecc446580278b56e2c6e953",
    "deepnote_cell_type": "text-cell-h2",
    "formattedRanges": [],
    "is_collapsed": false,
    "tags": []
   },
   "source": [
    "## Compare to Big Mac Index"
   ]
  },
  {
   "cell_type": "markdown",
   "metadata": {
    "cell_id": "e343f16c-fbb4-4d01-871f-08486205da66",
    "deepnote_cell_type": "text-cell-p",
    "formattedRanges": [],
    "is_collapsed": false,
    "tags": []
   },
   "source": [
    "The Big Mac Index isn't a perfect measure of PPP, and neither is our Whopper Index. However, by comparing them we might find useful differences to interpret. We will plot the "
   ]
  },
  {
   "cell_type": "code",
   "execution_count": null,
   "metadata": {
    "cell_id": "3e6a263963804f46ae5cfcdbcf7af8d0",
    "deepnote_cell_height": 76,
    "deepnote_cell_type": "code",
    "deepnote_to_be_reexecuted": false,
    "execution_millis": 1,
    "execution_start": 1662827329986,
    "source_hash": "6518a8e9",
    "tags": []
   },
   "outputs": [],
   "source": [
    "big_mac = big_mac.rename(columns={'dollar_price':'big_mac_dollar_price'})"
   ]
  },
  {
   "cell_type": "code",
   "execution_count": null,
   "metadata": {
    "cell_id": "2be59b32ccfb40bab9b0b6ffd16a8f29",
    "deepnote_cell_height": 171,
    "deepnote_cell_type": "code",
    "deepnote_table_loading": false,
    "deepnote_table_state": {
     "filters": [],
     "pageIndex": 0,
     "pageSize": 50,
     "sortBy": []
    },
    "deepnote_to_be_reexecuted": false,
    "execution_millis": 8,
    "execution_start": 1662827329994,
    "source_hash": "90e1fc33",
    "tags": []
   },
   "outputs": [],
   "source": [
    "compare = (df.merge(big_mac[big_mac['date'] == '2022-07-01'][['iso_a3','USD','big_mac_dollar_price']], how='left', on='iso_a3')\n",
    "             .rename(columns={'USD':'big_mac_index'})\n",
    "             .dropna()\n",
    "             .reset_index(drop=True)\n",
    "             .assign(big_mac_index = lambda x: round(x['big_mac_index'] * 100, 2))\n",
    ")"
   ]
  },
  {
   "cell_type": "code",
   "execution_count": null,
   "metadata": {
    "cell_id": "500f2dfd4b10439e9b1f42f7c58d57c6",
    "deepnote_cell_height": 390,
    "deepnote_cell_type": "code",
    "deepnote_to_be_reexecuted": false,
    "execution_millis": 289,
    "execution_start": 1662827330005,
    "source_hash": "b9cdf350",
    "tags": []
   },
   "outputs": [
    {
     "data": {
      "application/vnd.deepnote.dataframe.v3+json": {
       "column_count": 12,
       "columns": [
        {
         "dtype": "object",
         "name": "date",
         "stats": {
          "categories": [
           {
            "count": 5,
            "name": "9/1/2022"
           }
          ],
          "nan_count": 0,
          "unique_count": 1
         }
        },
        {
         "dtype": "object",
         "name": "iso_a3",
         "stats": {
          "categories": [
           {
            "count": 1,
            "name": "ZAF"
           },
           {
            "count": 1,
            "name": "PAK"
           },
           {
            "count": 3,
            "name": "3 others"
           }
          ],
          "nan_count": 0,
          "unique_count": 5
         }
        },
        {
         "dtype": "object",
         "name": "currency_code",
         "stats": {
          "categories": [
           {
            "count": 1,
            "name": "ZAR"
           },
           {
            "count": 1,
            "name": "PKR"
           },
           {
            "count": 3,
            "name": "3 others"
           }
          ],
          "nan_count": 0,
          "unique_count": 5
         }
        },
        {
         "dtype": "object",
         "name": "currency_name",
         "stats": {
          "categories": [
           {
            "count": 1,
            "name": "Rand"
           },
           {
            "count": 1,
            "name": "Pakistan Rupee"
           },
           {
            "count": 3,
            "name": "3 others"
           }
          ],
          "nan_count": 0,
          "unique_count": 5
         }
        },
        {
         "dtype": "object",
         "name": "name",
         "stats": {
          "categories": [
           {
            "count": 1,
            "name": "South Africa"
           },
           {
            "count": 1,
            "name": "Pakistan"
           },
           {
            "count": 3,
            "name": "3 others"
           }
          ],
          "nan_count": 0,
          "unique_count": 5
         }
        },
        {
         "dtype": "float64",
         "name": "local_price",
         "stats": {
          "histogram": [
           {
            "bin_end": 65.61,
            "bin_start": 12.9,
            "count": 2
           },
           {
            "bin_end": 118.32000000000001,
            "bin_start": 65.61,
            "count": 1
           },
           {
            "bin_end": 171.03,
            "bin_start": 118.32000000000001,
            "count": 0
           },
           {
            "bin_end": 223.74,
            "bin_start": 171.03,
            "count": 1
           },
           {
            "bin_end": 276.45,
            "bin_start": 223.74,
            "count": 0
           },
           {
            "bin_end": 329.15999999999997,
            "bin_start": 276.45,
            "count": 0
           },
           {
            "bin_end": 381.87,
            "bin_start": 329.15999999999997,
            "count": 0
           },
           {
            "bin_end": 434.58,
            "bin_start": 381.87,
            "count": 0
           },
           {
            "bin_end": 487.28999999999996,
            "bin_start": 434.58,
            "count": 0
           },
           {
            "bin_end": 540,
            "bin_start": 487.28999999999996,
            "count": 1
           }
          ],
          "max": "540.0",
          "min": "12.9",
          "nan_count": 0,
          "unique_count": 5
         }
        },
        {
         "dtype": "float64",
         "name": "dollar_ex",
         "stats": {
          "histogram": [
           {
            "bin_end": 25.775000000000002,
            "bin_start": 3.89,
            "count": 3
           },
           {
            "bin_end": 47.660000000000004,
            "bin_start": 25.775000000000002,
            "count": 0
           },
           {
            "bin_end": 69.545,
            "bin_start": 47.660000000000004,
            "count": 1
           },
           {
            "bin_end": 91.43,
            "bin_start": 69.545,
            "count": 0
           },
           {
            "bin_end": 113.31500000000001,
            "bin_start": 91.43,
            "count": 0
           },
           {
            "bin_end": 135.2,
            "bin_start": 113.31500000000001,
            "count": 0
           },
           {
            "bin_end": 157.085,
            "bin_start": 135.2,
            "count": 0
           },
           {
            "bin_end": 178.97,
            "bin_start": 157.085,
            "count": 0
           },
           {
            "bin_end": 200.855,
            "bin_start": 178.97,
            "count": 0
           },
           {
            "bin_end": 222.74,
            "bin_start": 200.855,
            "count": 1
           }
          ],
          "max": "222.74",
          "min": "3.89",
          "nan_count": 0,
          "unique_count": 5
         }
        },
        {
         "dtype": "float64",
         "name": "dollar_price",
         "stats": {
          "histogram": [
           {
            "bin_end": 1.8981704572056253,
            "bin_start": 1.728323699421965,
            "count": 1
           },
           {
            "bin_end": 2.0680172149892853,
            "bin_start": 1.8981704572056253,
            "count": 0
           },
           {
            "bin_end": 2.2378639727729457,
            "bin_start": 2.0680172149892853,
            "count": 0
           },
           {
            "bin_end": 2.4077107305566057,
            "bin_start": 2.2378639727729457,
            "count": 0
           },
           {
            "bin_end": 2.577557488340266,
            "bin_start": 2.4077107305566057,
            "count": 1
           },
           {
            "bin_end": 2.747404246123926,
            "bin_start": 2.577557488340266,
            "count": 0
           },
           {
            "bin_end": 2.9172510039075865,
            "bin_start": 2.747404246123926,
            "count": 0
           },
           {
            "bin_end": 3.0870977616912465,
            "bin_start": 2.9172510039075865,
            "count": 0
           },
           {
            "bin_end": 3.2569445194749065,
            "bin_start": 3.0870977616912465,
            "count": 1
           },
           {
            "bin_end": 3.426791277258567,
            "bin_start": 3.2569445194749065,
            "count": 2
           }
          ],
          "max": "3.426791277258567",
          "min": "1.728323699421965",
          "nan_count": 0,
          "unique_count": 5
         }
        },
        {
         "dtype": "float64",
         "name": "implied_ex",
         "stats": {
          "histogram": [
           {
            "bin_end": 10.773399014778326,
            "bin_start": 2.118226600985222,
            "count": 2
           },
           {
            "bin_end": 19.428571428571427,
            "bin_start": 10.773399014778326,
            "count": 1
           },
           {
            "bin_end": 28.08374384236453,
            "bin_start": 19.428571428571427,
            "count": 0
           },
           {
            "bin_end": 36.73891625615764,
            "bin_start": 28.08374384236453,
            "count": 1
           },
           {
            "bin_end": 45.39408866995074,
            "bin_start": 36.73891625615764,
            "count": 0
           },
           {
            "bin_end": 54.04926108374384,
            "bin_start": 45.39408866995074,
            "count": 0
           },
           {
            "bin_end": 62.70443349753695,
            "bin_start": 54.04926108374384,
            "count": 0
           },
           {
            "bin_end": 71.35960591133005,
            "bin_start": 62.70443349753695,
            "count": 0
           },
           {
            "bin_end": 80.01477832512316,
            "bin_start": 71.35960591133005,
            "count": 0
           },
           {
            "bin_end": 88.66995073891626,
            "bin_start": 80.01477832512316,
            "count": 1
           }
          ],
          "max": "88.66995073891626",
          "min": "2.118226600985222",
          "nan_count": 0,
          "unique_count": 5
         }
        },
        {
         "dtype": "float64",
         "name": "usd_index",
         "stats": {
          "histogram": [
           {
            "bin_end": -68.831,
            "bin_start": -71.62,
            "count": 1
           },
           {
            "bin_end": -66.042,
            "bin_start": -68.831,
            "count": 0
           },
           {
            "bin_end": -63.253,
            "bin_start": -66.042,
            "count": 0
           },
           {
            "bin_end": -60.464,
            "bin_start": -63.253,
            "count": 0
           },
           {
            "bin_end": -57.675,
            "bin_start": -60.464,
            "count": 1
           },
           {
            "bin_end": -54.886,
            "bin_start": -57.675,
            "count": 0
           },
           {
            "bin_end": -52.097,
            "bin_start": -54.886,
            "count": 0
           },
           {
            "bin_end": -49.308,
            "bin_start": -52.097,
            "count": 0
           },
           {
            "bin_end": -46.519,
            "bin_start": -49.308,
            "count": 1
           },
           {
            "bin_end": -43.73,
            "bin_start": -46.519,
            "count": 2
           }
          ],
          "max": "-43.73",
          "min": "-71.62",
          "nan_count": 0,
          "unique_count": 5
         }
        },
        {
         "dtype": "float64",
         "name": "big_mac_index",
         "stats": {
          "histogram": [
           {
            "bin_end": -52.135000000000005,
            "bin_start": -54.52,
            "count": 2
           },
           {
            "bin_end": -49.75,
            "bin_start": -52.135000000000005,
            "count": 0
           },
           {
            "bin_end": -47.365,
            "bin_start": -49.75,
            "count": 0
           },
           {
            "bin_end": -44.980000000000004,
            "bin_start": -47.365,
            "count": 1
           },
           {
            "bin_end": -42.595,
            "bin_start": -44.980000000000004,
            "count": 0
           },
           {
            "bin_end": -40.21,
            "bin_start": -42.595,
            "count": 0
           },
           {
            "bin_end": -37.825,
            "bin_start": -40.21,
            "count": 1
           },
           {
            "bin_end": -35.44,
            "bin_start": -37.825,
            "count": 0
           },
           {
            "bin_end": -33.055,
            "bin_start": -35.44,
            "count": 0
           },
           {
            "bin_end": -30.67,
            "bin_start": -33.055,
            "count": 1
           }
          ],
          "max": "-30.67",
          "min": "-54.52",
          "nan_count": 0,
          "unique_count": 5
         }
        },
        {
         "dtype": "float64",
         "name": "big_mac_dollar_price",
         "stats": {
          "histogram": [
           {
            "bin_end": 2.464923118799858,
            "bin_start": 2.34206471494607,
            "count": 2
           },
           {
            "bin_end": 2.5877815226536462,
            "bin_start": 2.464923118799858,
            "count": 0
           },
           {
            "bin_end": 2.710639926507434,
            "bin_start": 2.5877815226536462,
            "count": 0
           },
           {
            "bin_end": 2.833498330361222,
            "bin_start": 2.710639926507434,
            "count": 1
           },
           {
            "bin_end": 2.95635673421501,
            "bin_start": 2.833498330361222,
            "count": 0
           },
           {
            "bin_end": 3.079215138068798,
            "bin_start": 2.95635673421501,
            "count": 0
           },
           {
            "bin_end": 3.2020735419225863,
            "bin_start": 3.079215138068798,
            "count": 1
           },
           {
            "bin_end": 3.324931945776374,
            "bin_start": 3.2020735419225863,
            "count": 0
           },
           {
            "bin_end": 3.4477903496301625,
            "bin_start": 3.324931945776374,
            "count": 0
           },
           {
            "bin_end": 3.57064875348395,
            "bin_start": 3.4477903496301625,
            "count": 1
           }
          ],
          "max": "3.57064875348395",
          "min": "2.34206471494607",
          "nan_count": 0,
          "unique_count": 5
         }
        },
        {
         "dtype": "int64",
         "name": "_deepnote_index_column"
        }
       ],
       "row_count": 5,
       "rows": [
        {
         "_deepnote_index_column": "0",
         "big_mac_dollar_price": "2.34206471494607",
         "big_mac_index": "-54.52",
         "currency_code": "ZAR",
         "currency_name": "Rand",
         "date": "9/1/2022",
         "dollar_ex": "17.3",
         "dollar_price": "1.728323699421965",
         "implied_ex": "4.9096880131362886",
         "iso_a3": "ZAF",
         "local_price": "29.9",
         "name": "South Africa",
         "usd_index": "-71.62"
        },
        {
         "_deepnote_index_column": "1",
         "big_mac_dollar_price": "3.15670800450958",
         "big_mac_index": "-38.7",
         "currency_code": "PKR",
         "currency_name": "Pakistan Rupee",
         "date": "9/1/2022",
         "dollar_ex": "222.74",
         "dollar_price": "2.4243512615605636",
         "implied_ex": "88.66995073891626",
         "iso_a3": "PAK",
         "local_price": "540.0",
         "name": "Pakistan",
         "usd_index": "-60.19"
        },
        {
         "_deepnote_index_column": "2",
         "big_mac_dollar_price": "2.75482093663912",
         "big_mac_index": "-46.51",
         "currency_code": "PHP",
         "currency_name": "Philippine Peso",
         "date": "9/1/2022",
         "dollar_ex": "57.18",
         "dollar_price": "3.0954879328436515",
         "implied_ex": "29.064039408866996",
         "iso_a3": "PHL",
         "local_price": "177.0",
         "name": "Philippines",
         "usd_index": "-49.17"
        },
        {
         "_deepnote_index_column": "3",
         "big_mac_dollar_price": "3.57064875348395",
         "big_mac_index": "-30.67",
         "currency_code": "PEN",
         "currency_name": "Neuvo Sol",
         "date": "9/1/2022",
         "dollar_ex": "3.89",
         "dollar_price": "3.316195372750643",
         "implied_ex": "2.118226600985222",
         "iso_a3": "PER",
         "local_price": "12.9",
         "name": "Peru",
         "usd_index": "-45.55"
        },
        {
         "_deepnote_index_column": "4",
         "big_mac_dollar_price": "2.42808128793877",
         "big_mac_index": "-52.85",
         "currency_code": "EGP",
         "currency_name": "Egyptian Pound",
         "date": "9/1/2022",
         "dollar_ex": "19.26",
         "dollar_price": "3.426791277258567",
         "implied_ex": "10.83743842364532",
         "iso_a3": "EGY",
         "local_price": "66.0",
         "name": "Egypt",
         "usd_index": "-43.73"
        }
       ]
      },
      "text/html": [
       "<div>\n",
       "<style scoped>\n",
       "    .dataframe tbody tr th:only-of-type {\n",
       "        vertical-align: middle;\n",
       "    }\n",
       "\n",
       "    .dataframe tbody tr th {\n",
       "        vertical-align: top;\n",
       "    }\n",
       "\n",
       "    .dataframe thead th {\n",
       "        text-align: right;\n",
       "    }\n",
       "</style>\n",
       "<table border=\"1\" class=\"dataframe\">\n",
       "  <thead>\n",
       "    <tr style=\"text-align: right;\">\n",
       "      <th></th>\n",
       "      <th>date</th>\n",
       "      <th>iso_a3</th>\n",
       "      <th>currency_code</th>\n",
       "      <th>currency_name</th>\n",
       "      <th>name</th>\n",
       "      <th>local_price</th>\n",
       "      <th>dollar_ex</th>\n",
       "      <th>dollar_price</th>\n",
       "      <th>implied_ex</th>\n",
       "      <th>usd_index</th>\n",
       "      <th>big_mac_index</th>\n",
       "      <th>big_mac_dollar_price</th>\n",
       "    </tr>\n",
       "  </thead>\n",
       "  <tbody>\n",
       "    <tr>\n",
       "      <th>0</th>\n",
       "      <td>9/1/2022</td>\n",
       "      <td>ZAF</td>\n",
       "      <td>ZAR</td>\n",
       "      <td>Rand</td>\n",
       "      <td>South Africa</td>\n",
       "      <td>29.9</td>\n",
       "      <td>17.30</td>\n",
       "      <td>1.728324</td>\n",
       "      <td>4.909688</td>\n",
       "      <td>-71.62</td>\n",
       "      <td>-54.52</td>\n",
       "      <td>2.342065</td>\n",
       "    </tr>\n",
       "    <tr>\n",
       "      <th>1</th>\n",
       "      <td>9/1/2022</td>\n",
       "      <td>PAK</td>\n",
       "      <td>PKR</td>\n",
       "      <td>Pakistan Rupee</td>\n",
       "      <td>Pakistan</td>\n",
       "      <td>540.0</td>\n",
       "      <td>222.74</td>\n",
       "      <td>2.424351</td>\n",
       "      <td>88.669951</td>\n",
       "      <td>-60.19</td>\n",
       "      <td>-38.70</td>\n",
       "      <td>3.156708</td>\n",
       "    </tr>\n",
       "    <tr>\n",
       "      <th>2</th>\n",
       "      <td>9/1/2022</td>\n",
       "      <td>PHL</td>\n",
       "      <td>PHP</td>\n",
       "      <td>Philippine Peso</td>\n",
       "      <td>Philippines</td>\n",
       "      <td>177.0</td>\n",
       "      <td>57.18</td>\n",
       "      <td>3.095488</td>\n",
       "      <td>29.064039</td>\n",
       "      <td>-49.17</td>\n",
       "      <td>-46.51</td>\n",
       "      <td>2.754821</td>\n",
       "    </tr>\n",
       "    <tr>\n",
       "      <th>3</th>\n",
       "      <td>9/1/2022</td>\n",
       "      <td>PER</td>\n",
       "      <td>PEN</td>\n",
       "      <td>Neuvo Sol</td>\n",
       "      <td>Peru</td>\n",
       "      <td>12.9</td>\n",
       "      <td>3.89</td>\n",
       "      <td>3.316195</td>\n",
       "      <td>2.118227</td>\n",
       "      <td>-45.55</td>\n",
       "      <td>-30.67</td>\n",
       "      <td>3.570649</td>\n",
       "    </tr>\n",
       "    <tr>\n",
       "      <th>4</th>\n",
       "      <td>9/1/2022</td>\n",
       "      <td>EGY</td>\n",
       "      <td>EGP</td>\n",
       "      <td>Egyptian Pound</td>\n",
       "      <td>Egypt</td>\n",
       "      <td>66.0</td>\n",
       "      <td>19.26</td>\n",
       "      <td>3.426791</td>\n",
       "      <td>10.837438</td>\n",
       "      <td>-43.73</td>\n",
       "      <td>-52.85</td>\n",
       "      <td>2.428081</td>\n",
       "    </tr>\n",
       "  </tbody>\n",
       "</table>\n",
       "</div>"
      ],
      "text/plain": [
       "       date iso_a3 currency_code    currency_name          name  local_price  \\\n",
       "0  9/1/2022    ZAF           ZAR             Rand  South Africa         29.9   \n",
       "1  9/1/2022    PAK           PKR   Pakistan Rupee      Pakistan        540.0   \n",
       "2  9/1/2022    PHL           PHP  Philippine Peso   Philippines        177.0   \n",
       "3  9/1/2022    PER           PEN        Neuvo Sol          Peru         12.9   \n",
       "4  9/1/2022    EGY           EGP   Egyptian Pound         Egypt         66.0   \n",
       "\n",
       "   dollar_ex  dollar_price  implied_ex  usd_index  big_mac_index  \\\n",
       "0      17.30      1.728324    4.909688     -71.62         -54.52   \n",
       "1     222.74      2.424351   88.669951     -60.19         -38.70   \n",
       "2      57.18      3.095488   29.064039     -49.17         -46.51   \n",
       "3       3.89      3.316195    2.118227     -45.55         -30.67   \n",
       "4      19.26      3.426791   10.837438     -43.73         -52.85   \n",
       "\n",
       "   big_mac_dollar_price  \n",
       "0              2.342065  \n",
       "1              3.156708  \n",
       "2              2.754821  \n",
       "3              3.570649  \n",
       "4              2.428081  "
      ]
     },
     "execution_count": 18,
     "metadata": {},
     "output_type": "execute_result"
    }
   ],
   "source": [
    "compare.head()"
   ]
  },
  {
   "cell_type": "code",
   "execution_count": null,
   "metadata": {
    "cell_id": "d6f679ce48f4447e825f0a432491ccf1",
    "deepnote_cell_height": 1890,
    "deepnote_cell_type": "code",
    "deepnote_output_heights": [
     610
    ],
    "deepnote_to_be_reexecuted": false,
    "execution_millis": 3127,
    "execution_start": 1662827330046,
    "source_hash": "7c2ea677",
    "tags": []
   },
   "outputs": [
    {
     "data": {
      "image/png": "[encoded data removed]",
      "text/plain": [
       "<Figure size 648x1296 with 1 Axes>"
      ]
     },
     "metadata": {
      "image/png": {
       "height": 1128,
       "width": 753
      },
      "needs_background": "light"
     },
     "output_type": "display_data"
    }
   ],
   "source": [
    "fig, ax = plt.subplots(figsize=(9, 18))\n",
    "ax.barh(compare['name'], compare['usd_index'], height=0.7, linewidth=1, zorder=1)\n",
    "\n",
    "# Add in Big Mac Index data\n",
    "ax.hlines(y=compare.index, \n",
    "          xmin=[0] * compare.shape[0], \n",
    "          xmax=compare['big_mac_index'], \n",
    "          color='#FC4F30', \n",
    "          zorder=2, \n",
    "          linewidth=1, \n",
    "          label='_nolegend_')\n",
    "ax.scatter(compare['big_mac_index'], np.arange(compare.shape[0]), s=50, zorder=3)\n",
    "\n",
    "\n",
    "# Add horizontal line where the US is\n",
    "ax.axhline(29, color='black', linewidth=1)\n",
    "\n",
    "# Move x axis to top and change tick labels\n",
    "ax.xaxis.tick_top()\n",
    "ax.tick_params(axis='x', \n",
    "               which='major', \n",
    "               labelsize=16, \n",
    "               top=False, \n",
    "               pad=1)\n",
    "ax.set_xticks(np.arange(-60, 60, 20), labels=['-60%', '-40','-20','0', '20', '40%'])\n",
    "\n",
    "ax.set_xlabel(\"                       <-- Undervalued              Overvalued -->\", \n",
    "              labelpad=10, \n",
    "              fontsize=16)\n",
    "ax.xaxis.set_label_position('top') \n",
    "\n",
    "# Change grid and font sizes\n",
    "ax.grid(False)\n",
    "ax.grid(True, which='major', axis='x')\n",
    "ax.spines.bottom.set_visible(False)\n",
    "\n",
    "# Shrink y axis\n",
    "ax.set_ylim(-1, compare.shape[0])\n",
    "\n",
    "# Add in title and subtitle\n",
    "ax.text(x=-0.15, y=.95, \n",
    "        s=\"Double Burger Index\", \n",
    "        transform=fig.transFigure, \n",
    "        ha='left', \n",
    "        fontsize=28, \n",
    "        fontweight='bold')\n",
    "ax.text(x=-0.15, y=.93, \n",
    "        s=\"Comparison of Big Mac (red) and Whopper Index (blue)\", \n",
    "        transform=fig.transFigure, \n",
    "        ha='left', \n",
    "        fontsize=20, \n",
    "        alpha=0.8)\n",
    "        \n",
    "\n",
    "# Set the logo\n",
    "logo = plt.imread('images/datafantic.png')\n",
    "imagebox = OffsetImage(logo, zoom=.22)\n",
    "ab = AnnotationBbox(imagebox, \n",
    "                    xy=(1,1.12), \n",
    "                    xycoords='axes fraction', \n",
    "                    box_alignment=(1,1), \n",
    "                    frameon = False)\n",
    "ax.add_artist(ab)\n",
    "\n",
    "\n",
    "# Export plot as high resolution PNG\n",
    "plt.savefig('images/index_comparison.png')"
   ]
  },
  {
   "cell_type": "markdown",
   "metadata": {
    "cell_id": "f63d823194014c25ad834a09d59c3927",
    "deepnote_cell_type": "text-cell-h3",
    "formattedRanges": [],
    "is_collapsed": false,
    "tags": []
   },
   "source": [
    "### Comparing Whopper and Big Mac Prices"
   ]
  },
  {
   "cell_type": "markdown",
   "metadata": {
    "cell_id": "9836b2d6-e2f7-477f-855e-e0bc40c03069",
    "deepnote_cell_type": "text-cell-p",
    "formattedRanges": [],
    "is_collapsed": false,
    "tags": []
   },
   "source": [
    "My wife (a very smart lady), brought an idea to my attention. While these indices are comparable, we can also compare the price of Big Macs and Whoppers directly. My main concern here is that the prices I'm collecting often come from delivery services. This might be skewing things enough to cause problems."
   ]
  },
  {
   "cell_type": "code",
   "execution_count": null,
   "metadata": {
    "cell_id": "33b64670d6b741429e73ceee54aa33a4",
    "deepnote_cell_height": 2183,
    "deepnote_cell_type": "code",
    "deepnote_output_heights": [
     610
    ],
    "deepnote_to_be_reexecuted": false,
    "execution_millis": 5034,
    "execution_start": 1662829573085,
    "source_hash": "3d6d3a2a",
    "tags": []
   },
   "outputs": [
    {
     "data": {
      "image/png": "[encoded data removed]",
      "text/plain": [
       "<Figure size 648x1296 with 1 Axes>"
      ]
     },
     "metadata": {
      "image/png": {
       "height": 1164,
       "width": 788
      },
      "needs_background": "light"
     },
     "output_type": "display_data"
    }
   ],
   "source": [
    "fig, ax = plt.subplots(figsize=(9, 18))\n",
    "bar1 = ax.barh(compare['name'], compare['dollar_price'].round(2), height=0.7, linewidth=1, zorder=1)\n",
    "bar2 = ax.barh(compare['name'], -compare['big_mac_dollar_price'].round(2), height=0.7, linewidth=1, zorder=1)\n",
    "\n",
    "ax.bar_label(bar1, padding=5, fmt='$%.2f', fontsize=16)\n",
    "ax.bar_label(bar2, padding=5, labels=['$%.2f' % np.absolute(e) for e in compare['big_mac_dollar_price']], fontsize=16)\n",
    "\n",
    "# Move x axis to top and change tick labels\n",
    "plt.tick_params(\n",
    "    axis='x',\n",
    "    which='both',\n",
    "    bottom=False,\n",
    "    top=False,\n",
    "    labelbottom=False)\n",
    "\n",
    "# Change grid and font sizes\n",
    "ax.grid(False)\n",
    "ax.grid(True, which='major', axis='x')\n",
    "ax.spines.bottom.set_visible(False)\n",
    "\n",
    "# Shrink y axis and expand x axis\n",
    "ax.set_ylim(-1, compare.shape[0])\n",
    "ax.set_xlim(-10, 9)\n",
    "\n",
    "# Change grid and font sizes\n",
    "ax.grid(False)\n",
    "ax.spines.bottom.set_visible(False)\n",
    "\n",
    "# Add in title and subtitle\n",
    "ax.text(x=-0.15, y=.95, \n",
    "        s=\"Burgernomics\", \n",
    "        transform=fig.transFigure, \n",
    "        ha='left', \n",
    "        fontsize=28, \n",
    "        fontweight='bold')\n",
    "ax.text(x=-0.15, y=.93, \n",
    "        s=\"Big Mac and Whopper Prices around the world in USD\", \n",
    "        transform=fig.transFigure, \n",
    "        ha='left', \n",
    "        fontsize=20, \n",
    "        alpha=0.8)\n",
    "\n",
    "# Add McDonalds and Burger King Logo\n",
    "bk_logo = plt.imread('images/burger_king_logo.png')\n",
    "imagebox = OffsetImage(bk_logo, zoom=.12)\n",
    "ab = AnnotationBbox(imagebox, \n",
    "                    xy=(.8,1.046), \n",
    "                    xycoords='axes fraction', \n",
    "                    box_alignment=(1,1), \n",
    "                    frameon = False)\n",
    "ax.add_artist(ab)\n",
    "\n",
    "mc_logo = plt.imread('images/mcdonalds_logo.png')\n",
    "imagebox = OffsetImage(mc_logo, zoom=.03)\n",
    "ab = AnnotationBbox(imagebox, \n",
    "                    xy=(.45,1.04), \n",
    "                    xycoords='axes fraction', \n",
    "                    box_alignment=(1,1), \n",
    "                    frameon = False)\n",
    "ax.add_artist(ab)\n",
    "\n",
    "# Set the logo\n",
    "logo = plt.imread('images/datafantic.png')\n",
    "imagebox = OffsetImage(logo, zoom=.22)\n",
    "ab = AnnotationBbox(imagebox, \n",
    "                    xy=(1,1.12), \n",
    "                    xycoords='axes fraction', \n",
    "                    box_alignment=(1,1), \n",
    "                    frameon = False)\n",
    "ax.add_artist(ab)\n",
    "\n",
    "# Set source text\n",
    "ax.text(x=-0.15, y=0.1, \n",
    "        s=\"\"\"Source: The Economist, datafantic\"\"\", \n",
    "        transform=fig.transFigure, \n",
    "        ha='left', \n",
    "        fontsize=12, \n",
    "        alpha=.7)\n",
    "\n",
    "\n",
    "\n",
    "# Export plot as high resolution PNG\n",
    "plt.savefig('images/price_comparison.png')"
   ]
  },
  {
   "cell_type": "markdown",
   "metadata": {
    "cell_id": "1edd8be8457a47588851e395e59e70b6",
    "deepnote_cell_type": "text-cell-h2",
    "formattedRanges": [],
    "is_collapsed": false,
    "tags": []
   },
   "source": [
    "## Most Expensive Whoppers"
   ]
  },
  {
   "cell_type": "markdown",
   "metadata": {
    "cell_id": "95b144b9-0398-4b30-b26c-8cc33792853e",
    "deepnote_cell_type": "text-cell-p",
    "formattedRanges": [],
    "is_collapsed": false,
    "tags": []
   },
   "source": [
    "Let's take a look at the most expensive Whoppers."
   ]
  },
  {
   "cell_type": "code",
   "execution_count": null,
   "metadata": {
    "cell_id": "417fd369c2264b2c8db0a8efb6ce1f1f",
    "deepnote_cell_height": 1416,
    "deepnote_cell_type": "code",
    "deepnote_to_be_reexecuted": false,
    "execution_millis": 1343,
    "execution_start": 1662827335779,
    "source_hash": "480f2fa1",
    "tags": []
   },
   "outputs": [
    {
     "data": {
      "image/png": "[encoded data removed]",
      "text/plain": [
       "<Figure size 1008x792 with 1 Axes>"
      ]
     },
     "metadata": {
      "image/png": {
       "height": 666,
       "width": 1073
      },
      "needs_background": "light"
     },
     "output_type": "display_data"
    }
   ],
   "source": [
    "fig, ax = plt.subplots(figsize=(14, 11))\n",
    "bar1 = ax.barh(df['name'][-10:], df['dollar_price'][-10:].round(2), height=0.7, linewidth=1, zorder=1)\n",
    "ax.bar_label(bar1, padding=5, fmt='$%.2f', fontsize=18)\n",
    "\n",
    "# Add horizontal line where the US is\n",
    "ax.axhline(29, color='black', linewidth=1)\n",
    "\n",
    "# Move x axis to top and change tick labels\n",
    "plt.tick_params(\n",
    "    axis='x',\n",
    "    which='both',\n",
    "    bottom=False,\n",
    "    top=False,\n",
    "    labelbottom=False)\n",
    "\n",
    "# Shrink y axis\n",
    "ax.set_ylim(-1, df[-10:].shape[0])\n",
    "ax.set_xlim(5, 9.1)\n",
    "\n",
    "# Change grid and font sizes\n",
    "ax.grid(False)\n",
    "ax.spines.bottom.set_visible(False)\n",
    "ax.spines.left.set_visible(False)\n",
    "\n",
    "# Add in title and subtitle\n",
    "ax.text(x=-0.04, y=.9, \n",
    "        s=\"Whopping Prices\", \n",
    "        transform=fig.transFigure, \n",
    "        ha='left', \n",
    "        fontsize=28, \n",
    "        fontweight='bold')\n",
    "ax.text(x=-0.04, y=.86, \n",
    "        s=\"Top 10 country Whopper prices in USD, from the Whopper Index\", \n",
    "        transform=fig.transFigure, \n",
    "        ha='left', \n",
    "        fontsize=20, \n",
    "        alpha=.8)\n",
    "\n",
    "# Set the logo\n",
    "logo = plt.imread('images/datafantic.png')\n",
    "imagebox = OffsetImage(logo, zoom=.22)\n",
    "ab = AnnotationBbox(imagebox, xy=(1.01,1.06), xycoords='axes fraction', box_alignment=(1,1), frameon = False)\n",
    "ax.add_artist(ab)\n",
    "\n",
    "# Export plot as high resolution PNG\n",
    "plt.savefig('images/top_whopper_prices.png')"
   ]
  },
  {
   "cell_type": "markdown",
   "metadata": {
    "cell_id": "c457e96bb9a84e1083b70b8a1c35f50a",
    "deepnote_cell_type": "text-cell-h2",
    "formattedRanges": [],
    "is_collapsed": false,
    "tags": []
   },
   "source": [
    "## Now let's look at the cheapest Whoppers"
   ]
  },
  {
   "cell_type": "code",
   "execution_count": null,
   "metadata": {
    "cell_id": "2c180bc1bccb4d0885963252db3363f1",
    "deepnote_cell_type": "code",
    "deepnote_to_be_reexecuted": false,
    "execution_millis": 1982,
    "execution_start": 1662827337129,
    "source_hash": "7e179d1a",
    "tags": []
   },
   "outputs": [
    {
     "data": {
      "image/png": "[encoded data removed]",
      "text/plain": [
       "<Figure size 1008x792 with 1 Axes>"
      ]
     },
     "metadata": {
      "image/png": {
       "height": 666,
       "width": 1040
      },
      "needs_background": "light"
     },
     "output_type": "display_data"
    }
   ],
   "source": [
    "fig, ax = plt.subplots(figsize=(14, 11))\n",
    "bar1 = ax.barh(df['name'][:10], df['dollar_price'][:10], height=0.7, linewidth=1, zorder=1)\n",
    "ax.bar_label(bar1, padding=5, fmt='$%.2f', fontsize=18)\n",
    "\n",
    "# Add horizontal line where the US is\n",
    "ax.axhline(29, color='black', linewidth=1)\n",
    "\n",
    "# Move x axis to top and change tick labels\n",
    "plt.tick_params(\n",
    "    axis='x',\n",
    "    which='both',\n",
    "    bottom=False,\n",
    "    top=False,\n",
    "    labelbottom=False)\n",
    "\n",
    "# Shrink y axis\n",
    "ax.set_ylim(-1, df[:10].shape[0])\n",
    "ax.set_xlim(1, 3.9)\n",
    "\n",
    "# Change grid and font sizes\n",
    "ax.grid(False)\n",
    "ax.spines.bottom.set_visible(False)\n",
    "ax.spines.left.set_visible(False)\n",
    "\n",
    "# Add in title and subtitle\n",
    "ax.text(x=-0.04, y=.9, \n",
    "        s=\"Whopping Value\", \n",
    "        transform=fig.transFigure, \n",
    "        ha='left', \n",
    "        fontsize=28, \n",
    "        fontweight='bold')\n",
    "ax.text(x=-0.04, y=.86, \n",
    "        s=\"Lowest 10 country Whopper prices in USD, from the Whopper Index\", \n",
    "        transform=fig.transFigure, \n",
    "        ha='left', \n",
    "        fontsize=20, \n",
    "        alpha=.8)\n",
    "\n",
    "# Set the logo\n",
    "logo = plt.imread('images/datafantic.png')\n",
    "imagebox = OffsetImage(logo, zoom=.22)\n",
    "ab = AnnotationBbox(imagebox, xy=(1.01,1.06), xycoords='axes fraction', box_alignment=(1,1), frameon = False)\n",
    "ax.add_artist(ab)\n",
    "\n",
    "# Export plot as high resolution PNG\n",
    "plt.savefig('images/bottom_whopper_prices.png')"
   ]
  },
  {
   "cell_type": "markdown",
   "metadata": {
    "created_in_deepnote_cell": true,
    "deepnote_cell_type": "markdown",
    "tags": []
   },
   "source": [
    "<a style='text-decoration:none;line-height:16px;display:flex;color:#5B5B62;padding:10px;justify-content:end;' href='https://deepnote.com?utm_source=created-in-deepnote-cell&projectId=70230ccc-7ca7-41b6-947f-bad4c8d5dfa6' target=\"_blank\">\n",
    "<img alt='Created in deepnote.com' style='display:inline;max-height:16px;margin:0px;margin-right:7.5px;' src='data:image/svg+xml;base64,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' > </img>\n",
    "Created in <span style='font-weight:600;margin-left:4px;'>Deepnote</span></a>"
   ]
  }
 ],
 "metadata": {
  "deepnote": {},
  "deepnote_execution_queue": [],
  "deepnote_notebook_id": "1ad65a8c-ea48-494a-b461-e8b216878bf7",
  "kernelspec": {
   "display_name": "Python 3 (ipykernel)",
   "language": "python",
   "name": "python3"
  },
  "language_info": {
   "codemirror_mode": {
    "name": "ipython",
    "version": 3
   },
   "file_extension": ".py",
   "mimetype": "text/x-python",
   "name": "python",
   "nbconvert_exporter": "python",
   "pygments_lexer": "ipython3",
   "version": "3.11.7"
  }
 },
 "nbformat": 4,
 "nbformat_minor": 4
}
