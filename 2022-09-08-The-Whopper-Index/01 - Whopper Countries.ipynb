{
 "cells": [
  {
   "cell_type": "markdown",
   "metadata": {},
   "source": [
    "---\n",
    "author: \"Robert Ritz\"\n",
    "draft: true\n",
    "echo: false\n",
    "---"
   ]
  },
  {
   "cell_type": "markdown",
   "metadata": {
    "cell_id": "e856faaf97f34bb0af4db865655c4e40",
    "deepnote_cell_type": "text-cell-h1",
    "formattedRanges": [],
    "is_collapsed": false,
    "tags": []
   },
   "source": [
    "# Make Country List"
   ]
  },
  {
   "cell_type": "markdown",
   "metadata": {
    "cell_id": "65b802ca-7c2f-4904-8620-c3de87d998c2",
    "deepnote_cell_type": "text-cell-p",
    "formattedRanges": [],
    "is_collapsed": false,
    "tags": []
   },
   "source": [
    "Building a Whopper index will require finding Whopper prices for a list of countries. These countries overlap quite a bit with the Big Mac Index, so we will go ahead and pull down that list as well."
   ]
  },
  {
   "cell_type": "markdown",
   "metadata": {
    "cell_id": "5a87dfc9-7d7e-466d-9a2a-da51a48b0bb7",
    "deepnote_cell_type": "text-cell-p",
    "formattedRanges": [],
    "is_collapsed": false,
    "tags": []
   },
   "source": [
    "We will be limited by the countries with an active Burger King website that have prices to collect. "
   ]
  },
  {
   "cell_type": "code",
   "execution_count": null,
   "metadata": {
    "cell_id": "427ba267-fb8c-476c-ad1b-c448f33b67c8",
    "deepnote_cell_height": 94,
    "deepnote_cell_type": "code",
    "deepnote_to_be_reexecuted": false,
    "execution_millis": 245,
    "execution_start": 1662715325733,
    "source_hash": "e66c8e4",
    "tags": []
   },
   "outputs": [],
   "source": [
    "import pandas as pd\n",
    "import plotly.express as px"
   ]
  },
  {
   "cell_type": "markdown",
   "metadata": {
    "cell_id": "af09e57b6e46455b9a44bb2f5ef3e444",
    "deepnote_cell_type": "text-cell-h2",
    "formattedRanges": [],
    "is_collapsed": false,
    "tags": []
   },
   "source": [
    "## Big Mac Index Countries"
   ]
  },
  {
   "cell_type": "code",
   "execution_count": null,
   "metadata": {
    "cell_id": "5d6ba9c802e24c3e9b05512c60a9cb9f",
    "deepnote_cell_height": 76,
    "deepnote_cell_type": "code",
    "deepnote_to_be_reexecuted": false,
    "execution_millis": 12,
    "execution_start": 1662715325979,
    "source_hash": "6288ad37",
    "tags": []
   },
   "outputs": [],
   "source": [
    "big_mac = pd.read_csv(\"data/big-mac-raw-index.csv\")"
   ]
  },
  {
   "cell_type": "code",
   "execution_count": null,
   "metadata": {
    "cell_id": "b6ea9b520c704117a3a7194d9ab24c33",
    "deepnote_cell_height": 405,
    "deepnote_cell_type": "code",
    "deepnote_to_be_reexecuted": false,
    "execution_millis": 236,
    "execution_start": 1662715326014,
    "source_hash": "f9cbdc09",
    "tags": []
   },
   "outputs": [
    {
     "data": {
      "application/vnd.deepnote.dataframe.v3+json": {
       "column_count": 12,
       "columns": [
        {
         "dtype": "object",
         "name": "date",
         "stats": {
          "categories": [
           {
            "count": 5,
            "name": "2000-04-01"
           }
          ],
          "nan_count": 0,
          "unique_count": 1
         }
        },
        {
         "dtype": "object",
         "name": "iso_a3",
         "stats": {
          "categories": [
           {
            "count": 1,
            "name": "ARG"
           },
           {
            "count": 1,
            "name": "AUS"
           },
           {
            "count": 3,
            "name": "3 others"
           }
          ],
          "nan_count": 0,
          "unique_count": 5
         }
        },
        {
         "dtype": "object",
         "name": "currency_code",
         "stats": {
          "categories": [
           {
            "count": 1,
            "name": "ARS"
           },
           {
            "count": 1,
            "name": "AUD"
           },
           {
            "count": 3,
            "name": "3 others"
           }
          ],
          "nan_count": 0,
          "unique_count": 5
         }
        },
        {
         "dtype": "object",
         "name": "name",
         "stats": {
          "categories": [
           {
            "count": 1,
            "name": "Argentina"
           },
           {
            "count": 1,
            "name": "Australia"
           },
           {
            "count": 3,
            "name": "3 others"
           }
          ],
          "nan_count": 0,
          "unique_count": 5
         }
        },
        {
         "dtype": "float64",
         "name": "local_price",
         "stats": {
          "histogram": [
           {
            "bin_end": 2.005,
            "bin_start": 1.9,
            "count": 1
           },
           {
            "bin_end": 2.11,
            "bin_start": 2.005,
            "count": 0
           },
           {
            "bin_end": 2.215,
            "bin_start": 2.11,
            "count": 0
           },
           {
            "bin_end": 2.32,
            "bin_start": 2.215,
            "count": 0
           },
           {
            "bin_end": 2.425,
            "bin_start": 2.32,
            "count": 0
           },
           {
            "bin_end": 2.5300000000000002,
            "bin_start": 2.425,
            "count": 1
           },
           {
            "bin_end": 2.6350000000000002,
            "bin_start": 2.5300000000000002,
            "count": 1
           },
           {
            "bin_end": 2.74,
            "bin_start": 2.6350000000000002,
            "count": 0
           },
           {
            "bin_end": 2.845,
            "bin_start": 2.74,
            "count": 0
           },
           {
            "bin_end": 2.95,
            "bin_start": 2.845,
            "count": 2
           }
          ],
          "max": "2.95",
          "min": "1.9",
          "nan_count": 0,
          "unique_count": 5
         }
        },
        {
         "dtype": "float64",
         "name": "dollar_ex",
         "stats": {
          "histogram": [
           {
            "bin_end": 0.7486202528,
            "bin_start": 0.632911392,
            "count": 1
           },
           {
            "bin_end": 0.8643291136,
            "bin_start": 0.7486202528,
            "count": 0
           },
           {
            "bin_end": 0.9800379744000001,
            "bin_start": 0.8643291136,
            "count": 0
           },
           {
            "bin_end": 1.0957468352,
            "bin_start": 0.9800379744000001,
            "count": 1
           },
           {
            "bin_end": 1.211455696,
            "bin_start": 1.0957468352,
            "count": 0
           },
           {
            "bin_end": 1.3271645568000001,
            "bin_start": 1.211455696,
            "count": 0
           },
           {
            "bin_end": 1.4428734176,
            "bin_start": 1.3271645568000001,
            "count": 0
           },
           {
            "bin_end": 1.5585822784,
            "bin_start": 1.4428734176,
            "count": 1
           },
           {
            "bin_end": 1.6742911392000002,
            "bin_start": 1.5585822784,
            "count": 0
           },
           {
            "bin_end": 1.79,
            "bin_start": 1.6742911392000002,
            "count": 2
           }
          ],
          "max": "1.79",
          "min": "0.632911392",
          "nan_count": 0,
          "unique_count": 5
         }
        },
        {
         "dtype": "float64",
         "name": "dollar_price",
         "stats": {
          "histogram": [
           {
            "bin_end": 1.687700000192131,
            "bin_start": 1.54166666666667,
            "count": 2
           },
           {
            "bin_end": 1.833733333717592,
            "bin_start": 1.687700000192131,
            "count": 0
           },
           {
            "bin_end": 1.979766667243053,
            "bin_start": 1.833733333717592,
            "count": 1
           },
           {
            "bin_end": 2.125800000768514,
            "bin_start": 1.979766667243053,
            "count": 0
           },
           {
            "bin_end": 2.2718333342939747,
            "bin_start": 2.125800000768514,
            "count": 0
           },
           {
            "bin_end": 2.417866667819436,
            "bin_start": 2.2718333342939747,
            "count": 0
           },
           {
            "bin_end": 2.563900001344897,
            "bin_start": 2.417866667819436,
            "count": 1
           },
           {
            "bin_end": 2.7099333348703576,
            "bin_start": 2.563900001344897,
            "count": 0
           },
           {
            "bin_end": 2.8559666683958187,
            "bin_start": 2.7099333348703576,
            "count": 0
           },
           {
            "bin_end": 3.00200000192128,
            "bin_start": 2.8559666683958187,
            "count": 1
           }
          ],
          "max": "3.00200000192128",
          "min": "1.54166666666667",
          "nan_count": 0,
          "unique_count": 5
         }
        },
        {
         "dtype": "float64",
         "name": "USD",
         "stats": {
          "histogram": [
           {
            "bin_end": -0.24656599999999998,
            "bin_start": -0.31176,
            "count": 2
           },
           {
            "bin_end": -0.18137199999999998,
            "bin_start": -0.24656599999999998,
            "count": 0
           },
           {
            "bin_end": -0.11617799999999998,
            "bin_start": -0.18137199999999998,
            "count": 1
           },
           {
            "bin_end": -0.050983999999999974,
            "bin_start": -0.11617799999999998,
            "count": 0
           },
           {
            "bin_end": 0.01421,
            "bin_start": -0.050983999999999974,
            "count": 0
           },
           {
            "bin_end": 0.07940400000000003,
            "bin_start": 0.01421,
            "count": 0
           },
           {
            "bin_end": 0.14459800000000006,
            "bin_start": 0.07940400000000003,
            "count": 1
           },
           {
            "bin_end": 0.20979200000000003,
            "bin_start": 0.14459800000000006,
            "count": 0
           },
           {
            "bin_end": 0.274986,
            "bin_start": 0.20979200000000003,
            "count": 0
           },
           {
            "bin_end": 0.34018,
            "bin_start": 0.274986,
            "count": 1
           }
          ],
          "max": "0.34018",
          "min": "-0.31176",
          "nan_count": 0,
          "unique_count": 5
         }
        },
        {
         "dtype": "float64",
         "name": "EUR",
         "stats": {
          "histogram": [
           {
            "bin_end": -0.291122,
            "bin_start": -0.35246,
            "count": 2
           },
           {
            "bin_end": -0.229784,
            "bin_start": -0.291122,
            "count": 0
           },
           {
            "bin_end": -0.16844599999999998,
            "bin_start": -0.229784,
            "count": 1
           },
           {
            "bin_end": -0.10710799999999998,
            "bin_start": -0.16844599999999998,
            "count": 0
           },
           {
            "bin_end": -0.04576999999999998,
            "bin_start": -0.10710799999999998,
            "count": 0
           },
           {
            "bin_end": 0.015568000000000026,
            "bin_start": -0.04576999999999998,
            "count": 0
           },
           {
            "bin_end": 0.07690600000000003,
            "bin_start": 0.015568000000000026,
            "count": 1
           },
           {
            "bin_end": 0.13824400000000003,
            "bin_start": 0.07690600000000003,
            "count": 0
           },
           {
            "bin_end": 0.19958200000000004,
            "bin_start": 0.13824400000000003,
            "count": 0
           },
           {
            "bin_end": 0.26092,
            "bin_start": 0.19958200000000004,
            "count": 1
           }
          ],
          "max": "0.26092",
          "min": "-0.35246",
          "nan_count": 0,
          "unique_count": 5
         }
        },
        {
         "dtype": "float64",
         "name": "GBP",
         "stats": {
          "histogram": [
           {
            "bin_end": -0.437805,
            "bin_start": -0.48645,
            "count": 2
           },
           {
            "bin_end": -0.38916,
            "bin_start": -0.437805,
            "count": 0
           },
           {
            "bin_end": -0.340515,
            "bin_start": -0.38916,
            "count": 1
           },
           {
            "bin_end": -0.29186999999999996,
            "bin_start": -0.340515,
            "count": 0
           },
           {
            "bin_end": -0.243225,
            "bin_start": -0.29186999999999996,
            "count": 0
           },
           {
            "bin_end": -0.19457999999999998,
            "bin_start": -0.243225,
            "count": 0
           },
           {
            "bin_end": -0.14593499999999998,
            "bin_start": -0.19457999999999998,
            "count": 1
           },
           {
            "bin_end": -0.09728999999999999,
            "bin_start": -0.14593499999999998,
            "count": 0
           },
           {
            "bin_end": -0.048644999999999994,
            "bin_start": -0.09728999999999999,
            "count": 0
           },
           {
            "bin_end": 0,
            "bin_start": -0.048644999999999994,
            "count": 1
           }
          ],
          "max": "0.0",
          "min": "-0.48645",
          "nan_count": 0,
          "unique_count": 5
         }
        },
        {
         "dtype": "float64",
         "name": "JPY",
         "stats": {
          "histogram": [
           {
            "bin_end": -0.391509,
            "bin_start": -0.44416,
            "count": 2
           },
           {
            "bin_end": -0.338858,
            "bin_start": -0.391509,
            "count": 0
           },
           {
            "bin_end": -0.286207,
            "bin_start": -0.338858,
            "count": 1
           },
           {
            "bin_end": -0.23355599999999999,
            "bin_start": -0.286207,
            "count": 0
           },
           {
            "bin_end": -0.18090499999999998,
            "bin_start": -0.23355599999999999,
            "count": 0
           },
           {
            "bin_end": -0.12825399999999998,
            "bin_start": -0.18090499999999998,
            "count": 0
           },
           {
            "bin_end": -0.07560299999999998,
            "bin_start": -0.12825399999999998,
            "count": 1
           },
           {
            "bin_end": -0.022951999999999972,
            "bin_start": -0.07560299999999998,
            "count": 0
           },
           {
            "bin_end": 0.02969900000000003,
            "bin_start": -0.022951999999999972,
            "count": 0
           },
           {
            "bin_end": 0.08235,
            "bin_start": 0.02969900000000003,
            "count": 1
           }
          ],
          "max": "0.08235",
          "min": "-0.44416",
          "nan_count": 0,
          "unique_count": 5
         }
        },
        {
         "dtype": "float64",
         "name": "CNY",
         "stats": {
          "histogram": [
           {
            "bin_end": 0.411527,
            "bin_start": 0.28939,
            "count": 2
           },
           {
            "bin_end": 0.533664,
            "bin_start": 0.411527,
            "count": 0
           },
           {
            "bin_end": 0.6558010000000001,
            "bin_start": 0.533664,
            "count": 1
           },
           {
            "bin_end": 0.777938,
            "bin_start": 0.6558010000000001,
            "count": 0
           },
           {
            "bin_end": 0.900075,
            "bin_start": 0.777938,
            "count": 0
           },
           {
            "bin_end": 1.0222120000000001,
            "bin_start": 0.900075,
            "count": 0
           },
           {
            "bin_end": 1.144349,
            "bin_start": 1.0222120000000001,
            "count": 1
           },
           {
            "bin_end": 1.266486,
            "bin_start": 1.144349,
            "count": 0
           },
           {
            "bin_end": 1.3886230000000002,
            "bin_start": 1.266486,
            "count": 0
           },
           {
            "bin_end": 1.51076,
            "bin_start": 1.3886230000000002,
            "count": 1
           }
          ],
          "max": "1.51076",
          "min": "0.28939",
          "nan_count": 0,
          "unique_count": 5
         }
        },
        {
         "dtype": "int64",
         "name": "_deepnote_index_column"
        }
       ],
       "row_count": 5,
       "rows": [
        {
         "CNY": "1.09091",
         "EUR": "0.05007",
         "GBP": "-0.16722",
         "JPY": "-0.09864",
         "USD": "0.11607",
         "_deepnote_index_column": "0",
         "currency_code": "ARS",
         "date": "2000-04-01",
         "dollar_ex": "1.0",
         "dollar_price": "2.5",
         "iso_a3": "ARG",
         "local_price": "2.5",
         "name": "Argentina"
        },
        {
         "CNY": "0.28939",
         "EUR": "-0.35246",
         "GBP": "-0.48645",
         "JPY": "-0.44416",
         "USD": "-0.31176",
         "_deepnote_index_column": "1",
         "currency_code": "AUD",
         "date": "2000-04-01",
         "dollar_ex": "1.68",
         "dollar_price": "1.54166666666667",
         "iso_a3": "AUS",
         "local_price": "2.59",
         "name": "Australia"
        },
        {
         "CNY": "0.37836",
         "EUR": "-0.30778",
         "GBP": "-0.45102",
         "JPY": "-0.40581",
         "USD": "-0.26427",
         "_deepnote_index_column": "2",
         "currency_code": "BRL",
         "date": "2000-04-01",
         "dollar_ex": "1.79",
         "dollar_price": "1.64804469273743",
         "iso_a3": "BRA",
         "local_price": "2.95",
         "name": "Brazil"
        },
        {
         "CNY": "1.51076",
         "EUR": "0.26092",
         "GBP": "0.0",
         "JPY": "0.08235",
         "USD": "0.34018",
         "_deepnote_index_column": "3",
         "currency_code": "GBP",
         "date": "2000-04-01",
         "dollar_ex": "0.632911392",
         "dollar_price": "3.00200000192128",
         "iso_a3": "GBR",
         "local_price": "1.9",
         "name": "Britain"
        },
        {
         "CNY": "0.62152",
         "EUR": "-0.18566",
         "GBP": "-0.35417",
         "JPY": "-0.30099",
         "USD": "-0.13448",
         "_deepnote_index_column": "4",
         "currency_code": "CAD",
         "date": "2000-04-01",
         "dollar_ex": "1.47",
         "dollar_price": "1.93877551020408",
         "iso_a3": "CAN",
         "local_price": "2.85",
         "name": "Canada"
        }
       ]
      },
      "text/html": [
       "<div>\n",
       "<style scoped>\n",
       "    .dataframe tbody tr th:only-of-type {\n",
       "        vertical-align: middle;\n",
       "    }\n",
       "\n",
       "    .dataframe tbody tr th {\n",
       "        vertical-align: top;\n",
       "    }\n",
       "\n",
       "    .dataframe thead th {\n",
       "        text-align: right;\n",
       "    }\n",
       "</style>\n",
       "<table border=\"1\" class=\"dataframe\">\n",
       "  <thead>\n",
       "    <tr style=\"text-align: right;\">\n",
       "      <th></th>\n",
       "      <th>date</th>\n",
       "      <th>iso_a3</th>\n",
       "      <th>currency_code</th>\n",
       "      <th>name</th>\n",
       "      <th>local_price</th>\n",
       "      <th>dollar_ex</th>\n",
       "      <th>dollar_price</th>\n",
       "      <th>USD</th>\n",
       "      <th>EUR</th>\n",
       "      <th>GBP</th>\n",
       "      <th>JPY</th>\n",
       "      <th>CNY</th>\n",
       "    </tr>\n",
       "  </thead>\n",
       "  <tbody>\n",
       "    <tr>\n",
       "      <th>0</th>\n",
       "      <td>2000-04-01</td>\n",
       "      <td>ARG</td>\n",
       "      <td>ARS</td>\n",
       "      <td>Argentina</td>\n",
       "      <td>2.50</td>\n",
       "      <td>1.000000</td>\n",
       "      <td>2.500000</td>\n",
       "      <td>0.11607</td>\n",
       "      <td>0.05007</td>\n",
       "      <td>-0.16722</td>\n",
       "      <td>-0.09864</td>\n",
       "      <td>1.09091</td>\n",
       "    </tr>\n",
       "    <tr>\n",
       "      <th>1</th>\n",
       "      <td>2000-04-01</td>\n",
       "      <td>AUS</td>\n",
       "      <td>AUD</td>\n",
       "      <td>Australia</td>\n",
       "      <td>2.59</td>\n",
       "      <td>1.680000</td>\n",
       "      <td>1.541667</td>\n",
       "      <td>-0.31176</td>\n",
       "      <td>-0.35246</td>\n",
       "      <td>-0.48645</td>\n",
       "      <td>-0.44416</td>\n",
       "      <td>0.28939</td>\n",
       "    </tr>\n",
       "    <tr>\n",
       "      <th>2</th>\n",
       "      <td>2000-04-01</td>\n",
       "      <td>BRA</td>\n",
       "      <td>BRL</td>\n",
       "      <td>Brazil</td>\n",
       "      <td>2.95</td>\n",
       "      <td>1.790000</td>\n",
       "      <td>1.648045</td>\n",
       "      <td>-0.26427</td>\n",
       "      <td>-0.30778</td>\n",
       "      <td>-0.45102</td>\n",
       "      <td>-0.40581</td>\n",
       "      <td>0.37836</td>\n",
       "    </tr>\n",
       "    <tr>\n",
       "      <th>3</th>\n",
       "      <td>2000-04-01</td>\n",
       "      <td>GBR</td>\n",
       "      <td>GBP</td>\n",
       "      <td>Britain</td>\n",
       "      <td>1.90</td>\n",
       "      <td>0.632911</td>\n",
       "      <td>3.002000</td>\n",
       "      <td>0.34018</td>\n",
       "      <td>0.26092</td>\n",
       "      <td>0.00000</td>\n",
       "      <td>0.08235</td>\n",
       "      <td>1.51076</td>\n",
       "    </tr>\n",
       "    <tr>\n",
       "      <th>4</th>\n",
       "      <td>2000-04-01</td>\n",
       "      <td>CAN</td>\n",
       "      <td>CAD</td>\n",
       "      <td>Canada</td>\n",
       "      <td>2.85</td>\n",
       "      <td>1.470000</td>\n",
       "      <td>1.938776</td>\n",
       "      <td>-0.13448</td>\n",
       "      <td>-0.18566</td>\n",
       "      <td>-0.35417</td>\n",
       "      <td>-0.30099</td>\n",
       "      <td>0.62152</td>\n",
       "    </tr>\n",
       "  </tbody>\n",
       "</table>\n",
       "</div>"
      ],
      "text/plain": [
       "         date iso_a3 currency_code       name  local_price  dollar_ex  \\\n",
       "0  2000-04-01    ARG           ARS  Argentina         2.50   1.000000   \n",
       "1  2000-04-01    AUS           AUD  Australia         2.59   1.680000   \n",
       "2  2000-04-01    BRA           BRL     Brazil         2.95   1.790000   \n",
       "3  2000-04-01    GBR           GBP    Britain         1.90   0.632911   \n",
       "4  2000-04-01    CAN           CAD     Canada         2.85   1.470000   \n",
       "\n",
       "   dollar_price      USD      EUR      GBP      JPY      CNY  \n",
       "0      2.500000  0.11607  0.05007 -0.16722 -0.09864  1.09091  \n",
       "1      1.541667 -0.31176 -0.35246 -0.48645 -0.44416  0.28939  \n",
       "2      1.648045 -0.26427 -0.30778 -0.45102 -0.40581  0.37836  \n",
       "3      3.002000  0.34018  0.26092  0.00000  0.08235  1.51076  \n",
       "4      1.938776 -0.13448 -0.18566 -0.35417 -0.30099  0.62152  "
      ]
     },
     "execution_count": 3,
     "metadata": {},
     "output_type": "execute_result"
    }
   ],
   "source": [
    "big_mac.head()"
   ]
  },
  {
   "cell_type": "code",
   "execution_count": null,
   "metadata": {
    "cell_id": "a4652d4faffc4da1831ba5e2fa55936d",
    "deepnote_cell_height": 112.1875,
    "deepnote_cell_type": "code",
    "deepnote_output_heights": [
     20.1875
    ],
    "deepnote_to_be_reexecuted": false,
    "execution_millis": 210,
    "execution_start": 1662715326041,
    "source_hash": "b33c35bb",
    "tags": []
   },
   "outputs": [
    {
     "data": {
      "text/plain": [
       "58"
      ]
     },
     "execution_count": 4,
     "metadata": {},
     "output_type": "execute_result"
    }
   ],
   "source": [
    "len(big_mac['name'].unique())"
   ]
  },
  {
   "cell_type": "code",
   "execution_count": null,
   "metadata": {
    "cell_id": "945ee08768a24f559ff55faec9f7828a",
    "deepnote_cell_height": 304.0625,
    "deepnote_cell_type": "code",
    "deepnote_output_heights": [
     212.0625
    ],
    "deepnote_to_be_reexecuted": false,
    "execution_millis": 163,
    "execution_start": 1662715326089,
    "source_hash": "98440085",
    "tags": []
   },
   "outputs": [
    {
     "data": {
      "text/plain": [
       "array(['Argentina', 'Australia', 'Brazil', 'Britain', 'Canada', 'Chile',\n",
       "       'China', 'Czech Republic', 'Denmark', 'Euro area', 'Hong Kong',\n",
       "       'Hungary', 'Indonesia', 'Israel', 'Japan', 'Malaysia', 'Mexico',\n",
       "       'New Zealand', 'Poland', 'Russia', 'Singapore', 'South Africa',\n",
       "       'South Korea', 'Sweden', 'Switzerland', 'Taiwan', 'Thailand',\n",
       "       'United States', 'Philippines', 'Norway', 'Peru', 'Turkey',\n",
       "       'Venezuela', 'Egypt', 'Colombia', 'Costa Rica', 'Pakistan',\n",
       "       'Saudi Arabia', 'Sri Lanka', 'Ukraine', 'Uruguay', 'UAE', 'India',\n",
       "       'Vietnam', 'Azerbaijan', 'Bahrain', 'Croatia', 'Guatemala',\n",
       "       'Honduras', 'Jordan', 'Kuwait', 'Lebanon', 'Moldova', 'Nicaragua',\n",
       "       'Oman', 'Qatar', 'Romania', 'United Arab Emirates'], dtype=object)"
      ]
     },
     "execution_count": 5,
     "metadata": {},
     "output_type": "execute_result"
    }
   ],
   "source": [
    "big_mac['name'].unique()"
   ]
  },
  {
   "cell_type": "markdown",
   "metadata": {
    "cell_id": "fa5dc23e59864690b6c1c28d6b384370",
    "deepnote_cell_type": "text-cell-p",
    "formattedRanges": [],
    "is_collapsed": false,
    "tags": []
   },
   "source": [
    "There are 58 unique countries on the Big Mac Index."
   ]
  },
  {
   "cell_type": "markdown",
   "metadata": {
    "cell_id": "7112a5932a6b492b819b2f9394f088fd",
    "deepnote_cell_type": "text-cell-h2",
    "formattedRanges": [],
    "is_collapsed": false,
    "tags": []
   },
   "source": [
    "## Make Whopper Index Map"
   ]
  },
  {
   "cell_type": "markdown",
   "metadata": {
    "cell_id": "41958b3c736c4caf9e330d189443e40c",
    "deepnote_cell_type": "text-cell-p",
    "formattedRanges": [],
    "is_collapsed": false,
    "tags": []
   },
   "source": [
    "The list of countries that have a Burger King franchise is available on Wikipedia. This is just a base list to work from. From here I will research each country to see if Burger King in that country has an activate website with prices."
   ]
  },
  {
   "cell_type": "markdown",
   "metadata": {
    "cell_id": "40813cf8-c0d1-465e-aea7-4511fbe5d2a3",
    "deepnote_cell_type": "text-cell-p",
    "formattedRanges": [
     {
      "fromCodePoint": 0,
      "ranges": [],
      "toCodePoint": 75,
      "type": "link",
      "url": "https://en.wikipedia.org/wiki/List_of_countries_with_Burger_King_franchises"
     }
    ],
    "is_collapsed": false,
    "tags": []
   },
   "source": [
    "https://en.wikipedia.org/wiki/List_of_countries_with_Burger_King_franchises"
   ]
  },
  {
   "cell_type": "markdown",
   "metadata": {
    "cell_id": "a131dba3a1214075aa1e1581a0d2f8e5",
    "deepnote_cell_type": "text-cell-p",
    "formattedRanges": [],
    "is_collapsed": false,
    "tags": []
   },
   "source": [
    "We will pull the tables from this Wikipedia entry and concatenate them. "
   ]
  },
  {
   "cell_type": "markdown",
   "metadata": {
    "cell_id": "80ba0491b2314f6dae7f068eda0ebece",
    "deepnote_cell_type": "text-cell-p",
    "formattedRanges": [],
    "is_collapsed": false,
    "tags": []
   },
   "source": [
    "There are 114 countries that have Burger Kings. Let's export this list and we will work on the two lists in Excel."
   ]
  },
  {
   "cell_type": "markdown",
   "metadata": {
    "cell_id": "34ad77cc-f3d7-4e4e-a553-10535609d169",
    "deepnote_cell_type": "text-cell-p",
    "formattedRanges": [],
    "is_collapsed": false,
    "tags": []
   },
   "source": [
    "=== One Hour Later=="
   ]
  },
  {
   "cell_type": "markdown",
   "metadata": {
    "cell_id": "385aa9b0-377a-48de-9263-b5aa723980a9",
    "deepnote_cell_type": "text-cell-p",
    "formattedRanges": [],
    "is_collapsed": false,
    "tags": []
   },
   "source": [
    "After determining the countries we will use for our Whopper Index, we will make a map showing the countries that will make up the Whopper Index. "
   ]
  },
  {
   "cell_type": "code",
   "execution_count": null,
   "metadata": {
    "cell_id": "5c3e400b6ed14c1087ca606401e990fe",
    "deepnote_cell_height": 139.1875,
    "deepnote_cell_type": "code",
    "deepnote_to_be_reexecuted": false,
    "execution_millis": 1439,
    "execution_start": 1662715326090,
    "source_hash": "105d6e14",
    "tags": []
   },
   "outputs": [
    {
     "ename": "FileNotFoundError",
     "evalue": "[Errno 2] No such file or directory: 'data/whopper_index_countries.csv'",
     "output_type": "error",
     "traceback": [
      "\u001b[0;31m---------------------------------------------------------------------------\u001b[0m",
      "\u001b[0;31mFileNotFoundError\u001b[0m                         Traceback (most recent call last)",
      "Input \u001b[0;32mIn [6]\u001b[0m, in \u001b[0;36m<cell line: 1>\u001b[0;34m()\u001b[0m\n\u001b[0;32m----> 1\u001b[0m countries \u001b[38;5;241m=\u001b[39m \u001b[43mpd\u001b[49m\u001b[38;5;241;43m.\u001b[39;49m\u001b[43mread_csv\u001b[49m\u001b[43m(\u001b[49m\u001b[38;5;124;43m\"\u001b[39;49m\u001b[38;5;124;43mdata/whopper_index_countries.csv\u001b[39;49m\u001b[38;5;124;43m\"\u001b[39;49m\u001b[43m)\u001b[49m\n",
      "File \u001b[0;32m/shared-libs/python3.9/py/lib/python3.9/site-packages/pandas/io/parsers.py:610\u001b[0m, in \u001b[0;36mread_csv\u001b[0;34m(filepath_or_buffer, sep, delimiter, header, names, index_col, usecols, squeeze, prefix, mangle_dupe_cols, dtype, engine, converters, true_values, false_values, skipinitialspace, skiprows, skipfooter, nrows, na_values, keep_default_na, na_filter, verbose, skip_blank_lines, parse_dates, infer_datetime_format, keep_date_col, date_parser, dayfirst, cache_dates, iterator, chunksize, compression, thousands, decimal, lineterminator, quotechar, quoting, doublequote, escapechar, comment, encoding, dialect, error_bad_lines, warn_bad_lines, delim_whitespace, low_memory, memory_map, float_precision, storage_options)\u001b[0m\n\u001b[1;32m    605\u001b[0m kwds_defaults \u001b[38;5;241m=\u001b[39m _refine_defaults_read(\n\u001b[1;32m    606\u001b[0m     dialect, delimiter, delim_whitespace, engine, sep, defaults\u001b[38;5;241m=\u001b[39m{\u001b[38;5;124m\"\u001b[39m\u001b[38;5;124mdelimiter\u001b[39m\u001b[38;5;124m\"\u001b[39m: \u001b[38;5;124m\"\u001b[39m\u001b[38;5;124m,\u001b[39m\u001b[38;5;124m\"\u001b[39m}\n\u001b[1;32m    607\u001b[0m )\n\u001b[1;32m    608\u001b[0m kwds\u001b[38;5;241m.\u001b[39mupdate(kwds_defaults)\n\u001b[0;32m--> 610\u001b[0m \u001b[38;5;28;01mreturn\u001b[39;00m \u001b[43m_read\u001b[49m\u001b[43m(\u001b[49m\u001b[43mfilepath_or_buffer\u001b[49m\u001b[43m,\u001b[49m\u001b[43m \u001b[49m\u001b[43mkwds\u001b[49m\u001b[43m)\u001b[49m\n",
      "File \u001b[0;32m/shared-libs/python3.9/py/lib/python3.9/site-packages/pandas/io/parsers.py:462\u001b[0m, in \u001b[0;36m_read\u001b[0;34m(filepath_or_buffer, kwds)\u001b[0m\n\u001b[1;32m    459\u001b[0m _validate_names(kwds\u001b[38;5;241m.\u001b[39mget(\u001b[38;5;124m\"\u001b[39m\u001b[38;5;124mnames\u001b[39m\u001b[38;5;124m\"\u001b[39m, \u001b[38;5;28;01mNone\u001b[39;00m))\n\u001b[1;32m    461\u001b[0m \u001b[38;5;66;03m# Create the parser.\u001b[39;00m\n\u001b[0;32m--> 462\u001b[0m parser \u001b[38;5;241m=\u001b[39m \u001b[43mTextFileReader\u001b[49m\u001b[43m(\u001b[49m\u001b[43mfilepath_or_buffer\u001b[49m\u001b[43m,\u001b[49m\u001b[43m \u001b[49m\u001b[38;5;241;43m*\u001b[39;49m\u001b[38;5;241;43m*\u001b[39;49m\u001b[43mkwds\u001b[49m\u001b[43m)\u001b[49m\n\u001b[1;32m    464\u001b[0m \u001b[38;5;28;01mif\u001b[39;00m chunksize \u001b[38;5;129;01mor\u001b[39;00m iterator:\n\u001b[1;32m    465\u001b[0m     \u001b[38;5;28;01mreturn\u001b[39;00m parser\n",
      "File \u001b[0;32m/shared-libs/python3.9/py/lib/python3.9/site-packages/pandas/io/parsers.py:819\u001b[0m, in \u001b[0;36mTextFileReader.__init__\u001b[0;34m(self, f, engine, **kwds)\u001b[0m\n\u001b[1;32m    816\u001b[0m \u001b[38;5;28;01mif\u001b[39;00m \u001b[38;5;124m\"\u001b[39m\u001b[38;5;124mhas_index_names\u001b[39m\u001b[38;5;124m\"\u001b[39m \u001b[38;5;129;01min\u001b[39;00m kwds:\n\u001b[1;32m    817\u001b[0m     \u001b[38;5;28mself\u001b[39m\u001b[38;5;241m.\u001b[39moptions[\u001b[38;5;124m\"\u001b[39m\u001b[38;5;124mhas_index_names\u001b[39m\u001b[38;5;124m\"\u001b[39m] \u001b[38;5;241m=\u001b[39m kwds[\u001b[38;5;124m\"\u001b[39m\u001b[38;5;124mhas_index_names\u001b[39m\u001b[38;5;124m\"\u001b[39m]\n\u001b[0;32m--> 819\u001b[0m \u001b[38;5;28mself\u001b[39m\u001b[38;5;241m.\u001b[39m_engine \u001b[38;5;241m=\u001b[39m \u001b[38;5;28;43mself\u001b[39;49m\u001b[38;5;241;43m.\u001b[39;49m\u001b[43m_make_engine\u001b[49m\u001b[43m(\u001b[49m\u001b[38;5;28;43mself\u001b[39;49m\u001b[38;5;241;43m.\u001b[39;49m\u001b[43mengine\u001b[49m\u001b[43m)\u001b[49m\n",
      "File \u001b[0;32m/shared-libs/python3.9/py/lib/python3.9/site-packages/pandas/io/parsers.py:1050\u001b[0m, in \u001b[0;36mTextFileReader._make_engine\u001b[0;34m(self, engine)\u001b[0m\n\u001b[1;32m   1046\u001b[0m     \u001b[38;5;28;01mraise\u001b[39;00m \u001b[38;5;167;01mValueError\u001b[39;00m(\n\u001b[1;32m   1047\u001b[0m         \u001b[38;5;124mf\u001b[39m\u001b[38;5;124m\"\u001b[39m\u001b[38;5;124mUnknown engine: \u001b[39m\u001b[38;5;132;01m{\u001b[39;00mengine\u001b[38;5;132;01m}\u001b[39;00m\u001b[38;5;124m (valid options are \u001b[39m\u001b[38;5;132;01m{\u001b[39;00mmapping\u001b[38;5;241m.\u001b[39mkeys()\u001b[38;5;132;01m}\u001b[39;00m\u001b[38;5;124m)\u001b[39m\u001b[38;5;124m\"\u001b[39m\n\u001b[1;32m   1048\u001b[0m     )\n\u001b[1;32m   1049\u001b[0m \u001b[38;5;66;03m# error: Too many arguments for \"ParserBase\"\u001b[39;00m\n\u001b[0;32m-> 1050\u001b[0m \u001b[38;5;28;01mreturn\u001b[39;00m \u001b[43mmapping\u001b[49m\u001b[43m[\u001b[49m\u001b[43mengine\u001b[49m\u001b[43m]\u001b[49m\u001b[43m(\u001b[49m\u001b[38;5;28;43mself\u001b[39;49m\u001b[38;5;241;43m.\u001b[39;49m\u001b[43mf\u001b[49m\u001b[43m,\u001b[49m\u001b[43m \u001b[49m\u001b[38;5;241;43m*\u001b[39;49m\u001b[38;5;241;43m*\u001b[39;49m\u001b[38;5;28;43mself\u001b[39;49m\u001b[38;5;241;43m.\u001b[39;49m\u001b[43moptions\u001b[49m\u001b[43m)\u001b[49m\n",
      "File \u001b[0;32m/shared-libs/python3.9/py/lib/python3.9/site-packages/pandas/io/parsers.py:1867\u001b[0m, in \u001b[0;36mCParserWrapper.__init__\u001b[0;34m(self, src, **kwds)\u001b[0m\n\u001b[1;32m   1864\u001b[0m kwds[\u001b[38;5;124m\"\u001b[39m\u001b[38;5;124musecols\u001b[39m\u001b[38;5;124m\"\u001b[39m] \u001b[38;5;241m=\u001b[39m \u001b[38;5;28mself\u001b[39m\u001b[38;5;241m.\u001b[39musecols\n\u001b[1;32m   1866\u001b[0m \u001b[38;5;66;03m# open handles\u001b[39;00m\n\u001b[0;32m-> 1867\u001b[0m \u001b[38;5;28;43mself\u001b[39;49m\u001b[38;5;241;43m.\u001b[39;49m\u001b[43m_open_handles\u001b[49m\u001b[43m(\u001b[49m\u001b[43msrc\u001b[49m\u001b[43m,\u001b[49m\u001b[43m \u001b[49m\u001b[43mkwds\u001b[49m\u001b[43m)\u001b[49m\n\u001b[1;32m   1868\u001b[0m \u001b[38;5;28;01massert\u001b[39;00m \u001b[38;5;28mself\u001b[39m\u001b[38;5;241m.\u001b[39mhandles \u001b[38;5;129;01mis\u001b[39;00m \u001b[38;5;129;01mnot\u001b[39;00m \u001b[38;5;28;01mNone\u001b[39;00m\n\u001b[1;32m   1869\u001b[0m \u001b[38;5;28;01mfor\u001b[39;00m key \u001b[38;5;129;01min\u001b[39;00m (\u001b[38;5;124m\"\u001b[39m\u001b[38;5;124mstorage_options\u001b[39m\u001b[38;5;124m\"\u001b[39m, \u001b[38;5;124m\"\u001b[39m\u001b[38;5;124mencoding\u001b[39m\u001b[38;5;124m\"\u001b[39m, \u001b[38;5;124m\"\u001b[39m\u001b[38;5;124mmemory_map\u001b[39m\u001b[38;5;124m\"\u001b[39m, \u001b[38;5;124m\"\u001b[39m\u001b[38;5;124mcompression\u001b[39m\u001b[38;5;124m\"\u001b[39m):\n",
      "File \u001b[0;32m/shared-libs/python3.9/py/lib/python3.9/site-packages/pandas/io/parsers.py:1362\u001b[0m, in \u001b[0;36mParserBase._open_handles\u001b[0;34m(self, src, kwds)\u001b[0m\n\u001b[1;32m   1358\u001b[0m \u001b[38;5;28;01mdef\u001b[39;00m \u001b[38;5;21m_open_handles\u001b[39m(\u001b[38;5;28mself\u001b[39m, src: FilePathOrBuffer, kwds: Dict[\u001b[38;5;28mstr\u001b[39m, Any]) \u001b[38;5;241m-\u001b[39m\u001b[38;5;241m>\u001b[39m \u001b[38;5;28;01mNone\u001b[39;00m:\n\u001b[1;32m   1359\u001b[0m     \u001b[38;5;124;03m\"\"\"\u001b[39;00m\n\u001b[1;32m   1360\u001b[0m \u001b[38;5;124;03m    Let the readers open IOHanldes after they are done with their potential raises.\u001b[39;00m\n\u001b[1;32m   1361\u001b[0m \u001b[38;5;124;03m    \"\"\"\u001b[39;00m\n\u001b[0;32m-> 1362\u001b[0m     \u001b[38;5;28mself\u001b[39m\u001b[38;5;241m.\u001b[39mhandles \u001b[38;5;241m=\u001b[39m \u001b[43mget_handle\u001b[49m\u001b[43m(\u001b[49m\n\u001b[1;32m   1363\u001b[0m \u001b[43m        \u001b[49m\u001b[43msrc\u001b[49m\u001b[43m,\u001b[49m\n\u001b[1;32m   1364\u001b[0m \u001b[43m        \u001b[49m\u001b[38;5;124;43m\"\u001b[39;49m\u001b[38;5;124;43mr\u001b[39;49m\u001b[38;5;124;43m\"\u001b[39;49m\u001b[43m,\u001b[49m\n\u001b[1;32m   1365\u001b[0m \u001b[43m        \u001b[49m\u001b[43mencoding\u001b[49m\u001b[38;5;241;43m=\u001b[39;49m\u001b[43mkwds\u001b[49m\u001b[38;5;241;43m.\u001b[39;49m\u001b[43mget\u001b[49m\u001b[43m(\u001b[49m\u001b[38;5;124;43m\"\u001b[39;49m\u001b[38;5;124;43mencoding\u001b[39;49m\u001b[38;5;124;43m\"\u001b[39;49m\u001b[43m,\u001b[49m\u001b[43m \u001b[49m\u001b[38;5;28;43;01mNone\u001b[39;49;00m\u001b[43m)\u001b[49m\u001b[43m,\u001b[49m\n\u001b[1;32m   1366\u001b[0m \u001b[43m        \u001b[49m\u001b[43mcompression\u001b[49m\u001b[38;5;241;43m=\u001b[39;49m\u001b[43mkwds\u001b[49m\u001b[38;5;241;43m.\u001b[39;49m\u001b[43mget\u001b[49m\u001b[43m(\u001b[49m\u001b[38;5;124;43m\"\u001b[39;49m\u001b[38;5;124;43mcompression\u001b[39;49m\u001b[38;5;124;43m\"\u001b[39;49m\u001b[43m,\u001b[49m\u001b[43m \u001b[49m\u001b[38;5;28;43;01mNone\u001b[39;49;00m\u001b[43m)\u001b[49m\u001b[43m,\u001b[49m\n\u001b[1;32m   1367\u001b[0m \u001b[43m        \u001b[49m\u001b[43mmemory_map\u001b[49m\u001b[38;5;241;43m=\u001b[39;49m\u001b[43mkwds\u001b[49m\u001b[38;5;241;43m.\u001b[39;49m\u001b[43mget\u001b[49m\u001b[43m(\u001b[49m\u001b[38;5;124;43m\"\u001b[39;49m\u001b[38;5;124;43mmemory_map\u001b[39;49m\u001b[38;5;124;43m\"\u001b[39;49m\u001b[43m,\u001b[49m\u001b[43m \u001b[49m\u001b[38;5;28;43;01mFalse\u001b[39;49;00m\u001b[43m)\u001b[49m\u001b[43m,\u001b[49m\n\u001b[1;32m   1368\u001b[0m \u001b[43m        \u001b[49m\u001b[43mstorage_options\u001b[49m\u001b[38;5;241;43m=\u001b[39;49m\u001b[43mkwds\u001b[49m\u001b[38;5;241;43m.\u001b[39;49m\u001b[43mget\u001b[49m\u001b[43m(\u001b[49m\u001b[38;5;124;43m\"\u001b[39;49m\u001b[38;5;124;43mstorage_options\u001b[39;49m\u001b[38;5;124;43m\"\u001b[39;49m\u001b[43m,\u001b[49m\u001b[43m \u001b[49m\u001b[38;5;28;43;01mNone\u001b[39;49;00m\u001b[43m)\u001b[49m\u001b[43m,\u001b[49m\n\u001b[1;32m   1369\u001b[0m \u001b[43m    \u001b[49m\u001b[43m)\u001b[49m\n",
      "File \u001b[0;32m/shared-libs/python3.9/py/lib/python3.9/site-packages/pandas/io/common.py:647\u001b[0m, in \u001b[0;36mget_handle\u001b[0;34m(path_or_buf, mode, encoding, compression, memory_map, is_text, errors, storage_options)\u001b[0m\n\u001b[1;32m    645\u001b[0m         errors \u001b[38;5;241m=\u001b[39m \u001b[38;5;124m\"\u001b[39m\u001b[38;5;124mreplace\u001b[39m\u001b[38;5;124m\"\u001b[39m\n\u001b[1;32m    646\u001b[0m     \u001b[38;5;66;03m# Encoding\u001b[39;00m\n\u001b[0;32m--> 647\u001b[0m     handle \u001b[38;5;241m=\u001b[39m \u001b[38;5;28;43mopen\u001b[39;49m\u001b[43m(\u001b[49m\n\u001b[1;32m    648\u001b[0m \u001b[43m        \u001b[49m\u001b[43mhandle\u001b[49m\u001b[43m,\u001b[49m\n\u001b[1;32m    649\u001b[0m \u001b[43m        \u001b[49m\u001b[43mioargs\u001b[49m\u001b[38;5;241;43m.\u001b[39;49m\u001b[43mmode\u001b[49m\u001b[43m,\u001b[49m\n\u001b[1;32m    650\u001b[0m \u001b[43m        \u001b[49m\u001b[43mencoding\u001b[49m\u001b[38;5;241;43m=\u001b[39;49m\u001b[43mioargs\u001b[49m\u001b[38;5;241;43m.\u001b[39;49m\u001b[43mencoding\u001b[49m\u001b[43m,\u001b[49m\n\u001b[1;32m    651\u001b[0m \u001b[43m        \u001b[49m\u001b[43merrors\u001b[49m\u001b[38;5;241;43m=\u001b[39;49m\u001b[43merrors\u001b[49m\u001b[43m,\u001b[49m\n\u001b[1;32m    652\u001b[0m \u001b[43m        \u001b[49m\u001b[43mnewline\u001b[49m\u001b[38;5;241;43m=\u001b[39;49m\u001b[38;5;124;43m\"\u001b[39;49m\u001b[38;5;124;43m\"\u001b[39;49m\u001b[43m,\u001b[49m\n\u001b[1;32m    653\u001b[0m \u001b[43m    \u001b[49m\u001b[43m)\u001b[49m\n\u001b[1;32m    654\u001b[0m \u001b[38;5;28;01melse\u001b[39;00m:\n\u001b[1;32m    655\u001b[0m     \u001b[38;5;66;03m# Binary mode\u001b[39;00m\n\u001b[1;32m    656\u001b[0m     handle \u001b[38;5;241m=\u001b[39m \u001b[38;5;28mopen\u001b[39m(handle, ioargs\u001b[38;5;241m.\u001b[39mmode)\n",
      "\u001b[0;31mFileNotFoundError\u001b[0m: [Errno 2] No such file or directory: 'data/whopper_index_countries.csv'"
     ]
    }
   ],
   "source": [
    "countries = pd.read_csv(\"data/whopper_index_countries.csv\")"
   ]
  },
  {
   "cell_type": "code",
   "execution_count": null,
   "metadata": {
    "cell_id": "a48cf602cba64d3289d167059b8399f1",
    "deepnote_cell_height": 76,
    "deepnote_cell_type": "code",
    "deepnote_to_be_reexecuted": true,
    "source_hash": "b3f201a1",
    "tags": []
   },
   "outputs": [],
   "source": [
    "countries.shape"
   ]
  },
  {
   "cell_type": "code",
   "execution_count": null,
   "metadata": {
    "cell_id": "25feb714c96a48819301719325c572d0",
    "deepnote_cell_height": 613,
    "deepnote_cell_type": "code",
    "deepnote_to_be_reexecuted": true,
    "execution_millis": 7,
    "execution_start": 1661772485181,
    "source_hash": "d5471d66",
    "tags": []
   },
   "outputs": [
    {
     "data": {
      "application/vnd.deepnote.dataframe.v3+json": {
       "column_count": 3,
       "columns": [
        {
         "dtype": "object",
         "name": "Country/territory",
         "stats": {
          "categories": [
           {
            "count": 1,
            "name": "Argentina"
           },
           {
            "count": 1,
            "name": "Australia"
           },
           {
            "count": 77,
            "name": "77 others"
           }
          ],
          "nan_count": 0,
          "unique_count": 79
         }
        },
        {
         "dtype": "object",
         "name": "Big Mac Index",
         "stats": {
          "categories": [
           {
            "count": 1,
            "name": "Argentina"
           },
           {
            "count": 52,
            "name": "52 others"
           },
           {
            "count": 26,
            "name": "Missing"
           }
          ],
          "nan_count": 26,
          "unique_count": 53
         }
        },
        {
         "dtype": "object",
         "name": "Whopper Index Countries",
         "stats": {
          "categories": [
           {
            "count": 79,
            "name": "x"
           }
          ],
          "nan_count": 0,
          "unique_count": 1
         }
        },
        {
         "dtype": "int64",
         "name": "_deepnote_index_column"
        }
       ],
       "row_count": 79,
       "rows": [
        {
         "Big Mac Index": "Argentina",
         "Country/territory": "Argentina",
         "Whopper Index Countries": "x",
         "_deepnote_index_column": "3"
        },
        {
         "Big Mac Index": "Australia",
         "Country/territory": "Australia",
         "Whopper Index Countries": "x",
         "_deepnote_index_column": "6"
        },
        {
         "Big Mac Index": "nan",
         "Country/territory": "Austria",
         "Whopper Index Countries": "x",
         "_deepnote_index_column": "7"
        },
        {
         "Big Mac Index": "Azerbaijan",
         "Country/territory": "Azerbaijan",
         "Whopper Index Countries": "x",
         "_deepnote_index_column": "8"
        },
        {
         "Big Mac Index": "Bahrain",
         "Country/territory": "Bahrain",
         "Whopper Index Countries": "x",
         "_deepnote_index_column": "10"
        },
        {
         "Big Mac Index": "nan",
         "Country/territory": "Bangladesh",
         "Whopper Index Countries": "x",
         "_deepnote_index_column": "11"
        },
        {
         "Big Mac Index": "nan",
         "Country/territory": "Belarus",
         "Whopper Index Countries": "x",
         "_deepnote_index_column": "13"
        },
        {
         "Big Mac Index": "nan",
         "Country/territory": "Belgium",
         "Whopper Index Countries": "x",
         "_deepnote_index_column": "14"
        },
        {
         "Big Mac Index": "Brazil",
         "Country/territory": "Brazil",
         "Whopper Index Countries": "x",
         "_deepnote_index_column": "16"
        },
        {
         "Big Mac Index": "Canada",
         "Country/territory": "Canada",
         "Whopper Index Countries": "x",
         "_deepnote_index_column": "20"
        }
       ]
      },
      "text/html": [
       "<div>\n",
       "<style scoped>\n",
       "    .dataframe tbody tr th:only-of-type {\n",
       "        vertical-align: middle;\n",
       "    }\n",
       "\n",
       "    .dataframe tbody tr th {\n",
       "        vertical-align: top;\n",
       "    }\n",
       "\n",
       "    .dataframe thead th {\n",
       "        text-align: right;\n",
       "    }\n",
       "</style>\n",
       "<table border=\"1\" class=\"dataframe\">\n",
       "  <thead>\n",
       "    <tr style=\"text-align: right;\">\n",
       "      <th></th>\n",
       "      <th>Country/territory</th>\n",
       "      <th>Big Mac Index</th>\n",
       "      <th>Whopper Index Countries</th>\n",
       "    </tr>\n",
       "  </thead>\n",
       "  <tbody>\n",
       "    <tr>\n",
       "      <th>3</th>\n",
       "      <td>Argentina</td>\n",
       "      <td>Argentina</td>\n",
       "      <td>x</td>\n",
       "    </tr>\n",
       "    <tr>\n",
       "      <th>6</th>\n",
       "      <td>Australia</td>\n",
       "      <td>Australia</td>\n",
       "      <td>x</td>\n",
       "    </tr>\n",
       "    <tr>\n",
       "      <th>7</th>\n",
       "      <td>Austria</td>\n",
       "      <td>NaN</td>\n",
       "      <td>x</td>\n",
       "    </tr>\n",
       "    <tr>\n",
       "      <th>8</th>\n",
       "      <td>Azerbaijan</td>\n",
       "      <td>Azerbaijan</td>\n",
       "      <td>x</td>\n",
       "    </tr>\n",
       "    <tr>\n",
       "      <th>10</th>\n",
       "      <td>Bahrain</td>\n",
       "      <td>Bahrain</td>\n",
       "      <td>x</td>\n",
       "    </tr>\n",
       "    <tr>\n",
       "      <th>...</th>\n",
       "      <td>...</td>\n",
       "      <td>...</td>\n",
       "      <td>...</td>\n",
       "    </tr>\n",
       "    <tr>\n",
       "      <th>121</th>\n",
       "      <td>United Arab Emirates</td>\n",
       "      <td>United Arab Emirates</td>\n",
       "      <td>x</td>\n",
       "    </tr>\n",
       "    <tr>\n",
       "      <th>123</th>\n",
       "      <td>United States</td>\n",
       "      <td>United States</td>\n",
       "      <td>x</td>\n",
       "    </tr>\n",
       "    <tr>\n",
       "      <th>124</th>\n",
       "      <td>Uruguay</td>\n",
       "      <td>Uruguay</td>\n",
       "      <td>x</td>\n",
       "    </tr>\n",
       "    <tr>\n",
       "      <th>125</th>\n",
       "      <td>Venezuela</td>\n",
       "      <td>Venezuela</td>\n",
       "      <td>x</td>\n",
       "    </tr>\n",
       "    <tr>\n",
       "      <th>126</th>\n",
       "      <td>Vietnam</td>\n",
       "      <td>Vietnam</td>\n",
       "      <td>x</td>\n",
       "    </tr>\n",
       "  </tbody>\n",
       "</table>\n",
       "<p>79 rows × 3 columns</p>\n",
       "</div>"
      ],
      "text/plain": [
       "        Country/territory         Big Mac Index Whopper Index Countries\n",
       "3               Argentina             Argentina                       x\n",
       "6               Australia             Australia                       x\n",
       "7                 Austria                   NaN                       x\n",
       "8              Azerbaijan            Azerbaijan                       x\n",
       "10                Bahrain               Bahrain                       x\n",
       "..                    ...                   ...                     ...\n",
       "121  United Arab Emirates  United Arab Emirates                       x\n",
       "123         United States         United States                       x\n",
       "124               Uruguay               Uruguay                       x\n",
       "125             Venezuela             Venezuela                       x\n",
       "126               Vietnam               Vietnam                       x\n",
       "\n",
       "[79 rows x 3 columns]"
      ]
     },
     "execution_count": 37,
     "metadata": {},
     "output_type": "execute_result"
    }
   ],
   "source": [
    "countries = countries[countries['Whopper Index Countries'] == 'x']\n",
    "countries"
   ]
  },
  {
   "cell_type": "markdown",
   "metadata": {
    "cell_id": "b2bcebee6d444013be638ef89ee317b7",
    "deepnote_cell_type": "text-cell-h3",
    "formattedRanges": [],
    "is_collapsed": false,
    "tags": []
   },
   "source": [
    "### Whopper Index Countries"
   ]
  },
  {
   "cell_type": "code",
   "execution_count": null,
   "metadata": {
    "cell_id": "4dd2fe4062364ad5a794b551c7d43c60",
    "deepnote_cell_height": 618,
    "deepnote_cell_type": "code",
    "deepnote_output_heights": [
     526
    ],
    "deepnote_to_be_reexecuted": true,
    "execution_millis": 395,
    "execution_start": 1661772494562,
    "source_hash": "3ea3a38",
    "tags": []
   },
   "outputs": [
    {
     "data": {
      "text/html": [
       "<html>\n",
       "<head><meta charset=\"utf-8\" /></head>\n",
       "<body>\n",
       "    <div>            <script src=\"https://cdnjs.cloudflare.com/ajax/libs/mathjax/2.7.5/MathJax.js?config=TeX-AMS-MML_SVG\"></script><script type=\"text/javascript\">if (window.MathJax && window.MathJax.Hub && window.MathJax.Hub.Config) {window.MathJax.Hub.Config({SVG: {font: \"STIX-Web\"}});}</script>                <script type=\"text/javascript\">window.PlotlyConfig = {MathJaxConfig: 'local'};</script>\n",
       "        <script src=\"https://cdn.plot.ly/plotly-2.12.1.min.js\"></script>                <div id=\"566f7dc3-7d34-45b5-863d-d81c9000dc36\" class=\"plotly-graph-div\" style=\"height:525px; width:100%;\"></div>            <script type=\"text/javascript\">                                    window.PLOTLYENV=window.PLOTLYENV || {};                                    if (document.getElementById(\"566f7dc3-7d34-45b5-863d-d81c9000dc36\")) {                    Plotly.newPlot(                        \"566f7dc3-7d34-45b5-863d-d81c9000dc36\",                        [{\"colorscale\":[[0.0,\"#636efa\"],[1.0,\"#636efa\"]],\"geo\":\"geo\",\"hovertemplate\":\"Country/territory=%{location}<extra></extra>\",\"locationmode\":\"country names\",\"locations\":[\"Argentina\",\"Australia\",\"Austria\",\"Azerbaijan\",\"Bahrain\",\"Bangladesh\",\"Belarus\",\"Belgium\",\"Brazil\",\"Canada\",\"Chile\",\"China\",\"Colombia\",\"Costa Rica\",\"Croatia\",\"Czech Republic\",\"Denmark\",\"Egypt\",\"Estonia\",\"Finland\",\"France\",\"Germany\",\"Greece\",\"Guatemala\",\"Honduras\",\"Hong Kong\",\"Hungary\",\"India\",\"Indonesia\",\"Iraq\",\"Ireland\",\"Israel\",\"Italy\",\"Japan\",\"Jordan\",\"Kazakhstan\",\"Kenya\",\"Kuwait\",\"Latvia\",\"Lebanon\",\"Lithuania\",\"Luxembourg\",\"Malaysia\",\"Maldives\",\"Mauritius\",\"Mexico\",\"Mongolia\",\"Morocco\",\"Netherlands\",\"New Zealand\",\"Nicaragua\",\"Nigeria\",\"Norway\",\"Oman\",\"Pakistan\",\"Peru\",\"Philippines\",\"Poland\",\"Portugal\",\"Qatar\",\"Romania\",\"Russia\",\"Saudi Arabia\",\"Singapore\",\"Slovakia\",\"South Africa\",\"South Korea\",\"Spain\",\"Sri Lanka\",\"Sweden\",\"Switzerland\",\"Taiwan\",\"Thailand\",\"Turkey\",\"United Arab Emirates\",\"United States\",\"Uruguay\",\"Venezuela\",\"Vietnam\"],\"name\":\"\",\"showlegend\":true,\"showscale\":false,\"z\":[1,1,1,1,1,1,1,1,1,1,1,1,1,1,1,1,1,1,1,1,1,1,1,1,1,1,1,1,1,1,1,1,1,1,1,1,1,1,1,1,1,1,1,1,1,1,1,1,1,1,1,1,1,1,1,1,1,1,1,1,1,1,1,1,1,1,1,1,1,1,1,1,1,1,1,1,1,1,1],\"type\":\"choropleth\"}],                        {\"template\":{\"data\":{\"histogram2dcontour\":[{\"type\":\"histogram2dcontour\",\"colorbar\":{\"outlinewidth\":0,\"ticks\":\"\"},\"colorscale\":[[0.0,\"#0d0887\"],[0.1111111111111111,\"#46039f\"],[0.2222222222222222,\"#7201a8\"],[0.3333333333333333,\"#9c179e\"],[0.4444444444444444,\"#bd3786\"],[0.5555555555555556,\"#d8576b\"],[0.6666666666666666,\"#ed7953\"],[0.7777777777777778,\"#fb9f3a\"],[0.8888888888888888,\"#fdca26\"],[1.0,\"#f0f921\"]]}],\"choropleth\":[{\"type\":\"choropleth\",\"colorbar\":{\"outlinewidth\":0,\"ticks\":\"\"}}],\"histogram2d\":[{\"type\":\"histogram2d\",\"colorbar\":{\"outlinewidth\":0,\"ticks\":\"\"},\"colorscale\":[[0.0,\"#0d0887\"],[0.1111111111111111,\"#46039f\"],[0.2222222222222222,\"#7201a8\"],[0.3333333333333333,\"#9c179e\"],[0.4444444444444444,\"#bd3786\"],[0.5555555555555556,\"#d8576b\"],[0.6666666666666666,\"#ed7953\"],[0.7777777777777778,\"#fb9f3a\"],[0.8888888888888888,\"#fdca26\"],[1.0,\"#f0f921\"]]}],\"heatmap\":[{\"type\":\"heatmap\",\"colorbar\":{\"outlinewidth\":0,\"ticks\":\"\"},\"colorscale\":[[0.0,\"#0d0887\"],[0.1111111111111111,\"#46039f\"],[0.2222222222222222,\"#7201a8\"],[0.3333333333333333,\"#9c179e\"],[0.4444444444444444,\"#bd3786\"],[0.5555555555555556,\"#d8576b\"],[0.6666666666666666,\"#ed7953\"],[0.7777777777777778,\"#fb9f3a\"],[0.8888888888888888,\"#fdca26\"],[1.0,\"#f0f921\"]]}],\"heatmapgl\":[{\"type\":\"heatmapgl\",\"colorbar\":{\"outlinewidth\":0,\"ticks\":\"\"},\"colorscale\":[[0.0,\"#0d0887\"],[0.1111111111111111,\"#46039f\"],[0.2222222222222222,\"#7201a8\"],[0.3333333333333333,\"#9c179e\"],[0.4444444444444444,\"#bd3786\"],[0.5555555555555556,\"#d8576b\"],[0.6666666666666666,\"#ed7953\"],[0.7777777777777778,\"#fb9f3a\"],[0.8888888888888888,\"#fdca26\"],[1.0,\"#f0f921\"]]}],\"contourcarpet\":[{\"type\":\"contourcarpet\",\"colorbar\":{\"outlinewidth\":0,\"ticks\":\"\"}}],\"contour\":[{\"type\":\"contour\",\"colorbar\":{\"outlinewidth\":0,\"ticks\":\"\"},\"colorscale\":[[0.0,\"#0d0887\"],[0.1111111111111111,\"#46039f\"],[0.2222222222222222,\"#7201a8\"],[0.3333333333333333,\"#9c179e\"],[0.4444444444444444,\"#bd3786\"],[0.5555555555555556,\"#d8576b\"],[0.6666666666666666,\"#ed7953\"],[0.7777777777777778,\"#fb9f3a\"],[0.8888888888888888,\"#fdca26\"],[1.0,\"#f0f921\"]]}],\"surface\":[{\"type\":\"surface\",\"colorbar\":{\"outlinewidth\":0,\"ticks\":\"\"},\"colorscale\":[[0.0,\"#0d0887\"],[0.1111111111111111,\"#46039f\"],[0.2222222222222222,\"#7201a8\"],[0.3333333333333333,\"#9c179e\"],[0.4444444444444444,\"#bd3786\"],[0.5555555555555556,\"#d8576b\"],[0.6666666666666666,\"#ed7953\"],[0.7777777777777778,\"#fb9f3a\"],[0.8888888888888888,\"#fdca26\"],[1.0,\"#f0f921\"]]}],\"mesh3d\":[{\"type\":\"mesh3d\",\"colorbar\":{\"outlinewidth\":0,\"ticks\":\"\"}}],\"scatter\":[{\"fillpattern\":{\"fillmode\":\"overlay\",\"size\":10,\"solidity\":0.2},\"type\":\"scatter\"}],\"parcoords\":[{\"type\":\"parcoords\",\"line\":{\"colorbar\":{\"outlinewidth\":0,\"ticks\":\"\"}}}],\"scatterpolargl\":[{\"type\":\"scatterpolargl\",\"marker\":{\"colorbar\":{\"outlinewidth\":0,\"ticks\":\"\"}}}],\"bar\":[{\"error_x\":{\"color\":\"#2a3f5f\"},\"error_y\":{\"color\":\"#2a3f5f\"},\"marker\":{\"line\":{\"color\":\"#E5ECF6\",\"width\":0.5},\"pattern\":{\"fillmode\":\"overlay\",\"size\":10,\"solidity\":0.2}},\"type\":\"bar\"}],\"scattergeo\":[{\"type\":\"scattergeo\",\"marker\":{\"colorbar\":{\"outlinewidth\":0,\"ticks\":\"\"}}}],\"scatterpolar\":[{\"type\":\"scatterpolar\",\"marker\":{\"colorbar\":{\"outlinewidth\":0,\"ticks\":\"\"}}}],\"histogram\":[{\"marker\":{\"pattern\":{\"fillmode\":\"overlay\",\"size\":10,\"solidity\":0.2}},\"type\":\"histogram\"}],\"scattergl\":[{\"type\":\"scattergl\",\"marker\":{\"colorbar\":{\"outlinewidth\":0,\"ticks\":\"\"}}}],\"scatter3d\":[{\"type\":\"scatter3d\",\"line\":{\"colorbar\":{\"outlinewidth\":0,\"ticks\":\"\"}},\"marker\":{\"colorbar\":{\"outlinewidth\":0,\"ticks\":\"\"}}}],\"scattermapbox\":[{\"type\":\"scattermapbox\",\"marker\":{\"colorbar\":{\"outlinewidth\":0,\"ticks\":\"\"}}}],\"scatterternary\":[{\"type\":\"scatterternary\",\"marker\":{\"colorbar\":{\"outlinewidth\":0,\"ticks\":\"\"}}}],\"scattercarpet\":[{\"type\":\"scattercarpet\",\"marker\":{\"colorbar\":{\"outlinewidth\":0,\"ticks\":\"\"}}}],\"carpet\":[{\"aaxis\":{\"endlinecolor\":\"#2a3f5f\",\"gridcolor\":\"white\",\"linecolor\":\"white\",\"minorgridcolor\":\"white\",\"startlinecolor\":\"#2a3f5f\"},\"baxis\":{\"endlinecolor\":\"#2a3f5f\",\"gridcolor\":\"white\",\"linecolor\":\"white\",\"minorgridcolor\":\"white\",\"startlinecolor\":\"#2a3f5f\"},\"type\":\"carpet\"}],\"table\":[{\"cells\":{\"fill\":{\"color\":\"#EBF0F8\"},\"line\":{\"color\":\"white\"}},\"header\":{\"fill\":{\"color\":\"#C8D4E3\"},\"line\":{\"color\":\"white\"}},\"type\":\"table\"}],\"barpolar\":[{\"marker\":{\"line\":{\"color\":\"#E5ECF6\",\"width\":0.5},\"pattern\":{\"fillmode\":\"overlay\",\"size\":10,\"solidity\":0.2}},\"type\":\"barpolar\"}],\"pie\":[{\"automargin\":true,\"type\":\"pie\"}]},\"layout\":{\"autotypenumbers\":\"strict\",\"colorway\":[\"#636efa\",\"#EF553B\",\"#00cc96\",\"#ab63fa\",\"#FFA15A\",\"#19d3f3\",\"#FF6692\",\"#B6E880\",\"#FF97FF\",\"#FECB52\"],\"font\":{\"color\":\"#2a3f5f\"},\"hovermode\":\"closest\",\"hoverlabel\":{\"align\":\"left\"},\"paper_bgcolor\":\"white\",\"plot_bgcolor\":\"#E5ECF6\",\"polar\":{\"bgcolor\":\"#E5ECF6\",\"angularaxis\":{\"gridcolor\":\"white\",\"linecolor\":\"white\",\"ticks\":\"\"},\"radialaxis\":{\"gridcolor\":\"white\",\"linecolor\":\"white\",\"ticks\":\"\"}},\"ternary\":{\"bgcolor\":\"#E5ECF6\",\"aaxis\":{\"gridcolor\":\"white\",\"linecolor\":\"white\",\"ticks\":\"\"},\"baxis\":{\"gridcolor\":\"white\",\"linecolor\":\"white\",\"ticks\":\"\"},\"caxis\":{\"gridcolor\":\"white\",\"linecolor\":\"white\",\"ticks\":\"\"}},\"coloraxis\":{\"colorbar\":{\"outlinewidth\":0,\"ticks\":\"\"}},\"colorscale\":{\"sequential\":[[0.0,\"#0d0887\"],[0.1111111111111111,\"#46039f\"],[0.2222222222222222,\"#7201a8\"],[0.3333333333333333,\"#9c179e\"],[0.4444444444444444,\"#bd3786\"],[0.5555555555555556,\"#d8576b\"],[0.6666666666666666,\"#ed7953\"],[0.7777777777777778,\"#fb9f3a\"],[0.8888888888888888,\"#fdca26\"],[1.0,\"#f0f921\"]],\"sequentialminus\":[[0.0,\"#0d0887\"],[0.1111111111111111,\"#46039f\"],[0.2222222222222222,\"#7201a8\"],[0.3333333333333333,\"#9c179e\"],[0.4444444444444444,\"#bd3786\"],[0.5555555555555556,\"#d8576b\"],[0.6666666666666666,\"#ed7953\"],[0.7777777777777778,\"#fb9f3a\"],[0.8888888888888888,\"#fdca26\"],[1.0,\"#f0f921\"]],\"diverging\":[[0,\"#8e0152\"],[0.1,\"#c51b7d\"],[0.2,\"#de77ae\"],[0.3,\"#f1b6da\"],[0.4,\"#fde0ef\"],[0.5,\"#f7f7f7\"],[0.6,\"#e6f5d0\"],[0.7,\"#b8e186\"],[0.8,\"#7fbc41\"],[0.9,\"#4d9221\"],[1,\"#276419\"]]},\"xaxis\":{\"gridcolor\":\"white\",\"linecolor\":\"white\",\"ticks\":\"\",\"title\":{\"standoff\":15},\"zerolinecolor\":\"white\",\"automargin\":true,\"zerolinewidth\":2},\"yaxis\":{\"gridcolor\":\"white\",\"linecolor\":\"white\",\"ticks\":\"\",\"title\":{\"standoff\":15},\"zerolinecolor\":\"white\",\"automargin\":true,\"zerolinewidth\":2},\"scene\":{\"xaxis\":{\"backgroundcolor\":\"#E5ECF6\",\"gridcolor\":\"white\",\"linecolor\":\"white\",\"showbackground\":true,\"ticks\":\"\",\"zerolinecolor\":\"white\",\"gridwidth\":2},\"yaxis\":{\"backgroundcolor\":\"#E5ECF6\",\"gridcolor\":\"white\",\"linecolor\":\"white\",\"showbackground\":true,\"ticks\":\"\",\"zerolinecolor\":\"white\",\"gridwidth\":2},\"zaxis\":{\"backgroundcolor\":\"#E5ECF6\",\"gridcolor\":\"white\",\"linecolor\":\"white\",\"showbackground\":true,\"ticks\":\"\",\"zerolinecolor\":\"white\",\"gridwidth\":2}},\"shapedefaults\":{\"line\":{\"color\":\"#2a3f5f\"}},\"annotationdefaults\":{\"arrowcolor\":\"#2a3f5f\",\"arrowhead\":0,\"arrowwidth\":1},\"geo\":{\"bgcolor\":\"white\",\"landcolor\":\"#E5ECF6\",\"subunitcolor\":\"white\",\"showland\":true,\"showlakes\":true,\"lakecolor\":\"white\"},\"title\":{\"x\":0.05},\"mapbox\":{\"style\":\"light\"}}},\"geo\":{\"domain\":{\"x\":[0.0,1.0],\"y\":[0.0,1.0]},\"center\":{}},\"legend\":{\"tracegroupgap\":0},\"margin\":{\"t\":60}},                        {\"responsive\": true}                    ).then(function(){\n",
       "                            \n",
       "var gd = document.getElementById('566f7dc3-7d34-45b5-863d-d81c9000dc36');\n",
       "var x = new MutationObserver(function (mutations, observer) {{\n",
       "        var display = window.getComputedStyle(gd).display;\n",
       "        if (!display || display === 'none') {{\n",
       "            console.log([gd, 'removed!']);\n",
       "            Plotly.purge(gd);\n",
       "            observer.disconnect();\n",
       "        }}\n",
       "}});\n",
       "\n",
       "// Listen for the removal of the full notebook cells\n",
       "var notebookContainer = gd.closest('#notebook-container');\n",
       "if (notebookContainer) {{\n",
       "    x.observe(notebookContainer, {childList: true});\n",
       "}}\n",
       "\n",
       "// Listen for the clearing of the current output cell\n",
       "var outputEl = gd.closest('.output');\n",
       "if (outputEl) {{\n",
       "    x.observe(outputEl, {childList: true});\n",
       "}}\n",
       "\n",
       "                        })                };                            </script>        </div>\n",
       "</body>\n",
       "</html>"
      ]
     },
     "metadata": {},
     "output_type": "display_data"
    }
   ],
   "source": [
    "px.choropleth(countries, locations='Country/territory', locationmode='country names')"
   ]
  },
  {
   "cell_type": "markdown",
   "metadata": {
    "cell_id": "b24452455df647059bb70a053c779bea",
    "deepnote_cell_type": "text-cell-h3",
    "formattedRanges": [],
    "is_collapsed": false,
    "tags": []
   },
   "source": [
    "### Big Mac Index Countries"
   ]
  },
  {
   "cell_type": "code",
   "execution_count": null,
   "metadata": {
    "cell_id": "842a63e26cc24dafac5c67c73029392a",
    "deepnote_cell_height": 618,
    "deepnote_cell_type": "code",
    "deepnote_output_heights": [
     526
    ],
    "deepnote_to_be_reexecuted": true,
    "execution_millis": 10,
    "execution_start": 1661771454442,
    "source_hash": "1a43c2da",
    "tags": []
   },
   "outputs": [
    {
     "data": {
      "text/html": [
       "<html>\n",
       "<head><meta charset=\"utf-8\" /></head>\n",
       "<body>\n",
       "    <div>            <script src=\"https://cdnjs.cloudflare.com/ajax/libs/mathjax/2.7.5/MathJax.js?config=TeX-AMS-MML_SVG\"></script><script type=\"text/javascript\">if (window.MathJax && window.MathJax.Hub && window.MathJax.Hub.Config) {window.MathJax.Hub.Config({SVG: {font: \"STIX-Web\"}});}</script>                <script type=\"text/javascript\">window.PlotlyConfig = {MathJaxConfig: 'local'};</script>\n",
       "        <script src=\"https://cdn.plot.ly/plotly-2.12.1.min.js\"></script>                <div id=\"11d66b89-d940-409f-90dc-e7361e16ebb3\" class=\"plotly-graph-div\" style=\"height:525px; width:100%;\"></div>            <script type=\"text/javascript\">                                    window.PLOTLYENV=window.PLOTLYENV || {};                                    if (document.getElementById(\"11d66b89-d940-409f-90dc-e7361e16ebb3\")) {                    Plotly.newPlot(                        \"11d66b89-d940-409f-90dc-e7361e16ebb3\",                        [{\"colorscale\":[[0.0,\"#636efa\"],[1.0,\"#636efa\"]],\"geo\":\"geo\",\"hovertemplate\":\"name=%{location}<extra></extra>\",\"locationmode\":\"country names\",\"locations\":[\"Argentina\",\"Australia\",\"Brazil\",\"Britain\",\"Canada\",\"Chile\",\"China\",\"Czech Republic\",\"Denmark\",\"Euro area\",\"Hong Kong\",\"Hungary\",\"Indonesia\",\"Israel\",\"Japan\",\"Malaysia\",\"Mexico\",\"New Zealand\",\"Poland\",\"Russia\",\"Singapore\",\"South Africa\",\"South Korea\",\"Sweden\",\"Switzerland\",\"Taiwan\",\"Thailand\",\"United States\",\"Argentina\",\"Australia\",\"Brazil\",\"Britain\",\"Canada\",\"Chile\",\"China\",\"Czech Republic\",\"Denmark\",\"Euro area\",\"Hong Kong\",\"Hungary\",\"Indonesia\",\"Japan\",\"Malaysia\",\"Mexico\",\"New Zealand\",\"Philippines\",\"Poland\",\"Russia\",\"Singapore\",\"South Africa\",\"South Korea\",\"Sweden\",\"Switzerland\",\"Taiwan\",\"Thailand\",\"United States\",\"Argentina\",\"Australia\",\"Brazil\",\"Britain\",\"Canada\",\"Chile\",\"China\",\"Czech Republic\",\"Denmark\",\"Euro area\",\"Hong Kong\",\"Hungary\",\"Indonesia\",\"Israel\",\"Japan\",\"Malaysia\",\"Mexico\",\"New Zealand\",\"Norway\",\"Peru\",\"Philippines\",\"Poland\",\"Russia\",\"Singapore\",\"South Africa\",\"South Korea\",\"Sweden\",\"Switzerland\",\"Taiwan\",\"Thailand\",\"Turkey\",\"United States\",\"Venezuela\",\"Argentina\",\"Australia\",\"Brazil\",\"Britain\",\"Canada\",\"Chile\",\"China\",\"Czech Republic\",\"Denmark\",\"Egypt\",\"Euro area\",\"Hong Kong\",\"Hungary\",\"Indonesia\",\"Japan\",\"Malaysia\",\"Mexico\",\"New Zealand\",\"Peru\",\"Philippines\",\"Poland\",\"Russia\",\"Singapore\",\"South Africa\",\"South Korea\",\"Sweden\",\"Switzerland\",\"Taiwan\",\"Thailand\",\"Turkey\",\"United States\",\"Venezuela\",\"Argentina\",\"Australia\",\"Brazil\",\"Britain\",\"Canada\",\"Chile\",\"China\",\"Colombia\",\"Costa Rica\",\"Czech Republic\",\"Denmark\",\"Egypt\",\"Euro area\",\"Hong Kong\",\"Hungary\",\"Indonesia\",\"Japan\",\"Malaysia\",\"Mexico\",\"New Zealand\",\"Norway\",\"Pakistan\",\"Peru\",\"Philippines\",\"Poland\",\"Russia\",\"Saudi Arabia\",\"Singapore\",\"South Africa\",\"South Korea\",\"Sri Lanka\",\"Sweden\",\"Switzerland\",\"Taiwan\",\"Thailand\",\"Turkey\",\"Ukraine\",\"United States\",\"Uruguay\",\"Venezuela\",\"Argentina\",\"Australia\",\"Brazil\",\"Britain\",\"Canada\",\"Chile\",\"China\",\"Colombia\",\"Costa Rica\",\"Czech Republic\",\"Denmark\",\"Egypt\",\"Euro area\",\"Hong Kong\",\"Hungary\",\"Indonesia\",\"Japan\",\"Malaysia\",\"Mexico\",\"New Zealand\",\"Norway\",\"Pakistan\",\"Peru\",\"Philippines\",\"Poland\",\"Russia\",\"Saudi Arabia\",\"Singapore\",\"South Africa\",\"South Korea\",\"Sri Lanka\",\"Sweden\",\"Switzerland\",\"Taiwan\",\"Thailand\",\"Turkey\",\"UAE\",\"Ukraine\",\"United States\",\"Uruguay\",\"Venezuela\",\"Argentina\",\"Australia\",\"Brazil\",\"Britain\",\"Canada\",\"Chile\",\"China\",\"Czech Republic\",\"Denmark\",\"Egypt\",\"Euro area\",\"Hong Kong\",\"Hungary\",\"Indonesia\",\"Japan\",\"Malaysia\",\"Mexico\",\"New Zealand\",\"Peru\",\"Philippines\",\"Poland\",\"Russia\",\"Singapore\",\"South Africa\",\"South Korea\",\"Sweden\",\"Switzerland\",\"Taiwan\",\"Thailand\",\"Turkey\",\"United States\",\"Venezuela\",\"Argentina\",\"Australia\",\"Brazil\",\"Britain\",\"Canada\",\"Chile\",\"China\",\"Colombia\",\"Costa Rica\",\"Czech Republic\",\"Denmark\",\"Egypt\",\"Euro area\",\"Hong Kong\",\"Hungary\",\"Indonesia\",\"Japan\",\"Malaysia\",\"Mexico\",\"New Zealand\",\"Norway\",\"Pakistan\",\"Peru\",\"Philippines\",\"Poland\",\"Russia\",\"Saudi Arabia\",\"Singapore\",\"South Africa\",\"South Korea\",\"Sri Lanka\",\"Sweden\",\"Switzerland\",\"Taiwan\",\"Thailand\",\"Turkey\",\"UAE\",\"Ukraine\",\"United States\",\"Uruguay\",\"Venezuela\",\"Argentina\",\"Australia\",\"Brazil\",\"Britain\",\"Canada\",\"Chile\",\"China\",\"Colombia\",\"Costa Rica\",\"Czech Republic\",\"Denmark\",\"Egypt\",\"Euro area\",\"Hong Kong\",\"Hungary\",\"Indonesia\",\"Japan\",\"Malaysia\",\"Mexico\",\"New Zealand\",\"Norway\",\"Pakistan\",\"Peru\",\"Philippines\",\"Poland\",\"Russia\",\"Saudi Arabia\",\"Singapore\",\"South Africa\",\"South Korea\",\"Sri Lanka\",\"Sweden\",\"Switzerland\",\"Taiwan\",\"Thailand\",\"Turkey\",\"UAE\",\"Ukraine\",\"United States\",\"Uruguay\",\"Venezuela\",\"Argentina\",\"Australia\",\"Brazil\",\"Britain\",\"Canada\",\"Chile\",\"China\",\"Colombia\",\"Costa Rica\",\"Czech Republic\",\"Denmark\",\"Egypt\",\"Euro area\",\"Hong Kong\",\"Hungary\",\"Indonesia\",\"Japan\",\"Malaysia\",\"Mexico\",\"New Zealand\",\"Norway\",\"Pakistan\",\"Peru\",\"Philippines\",\"Poland\",\"Russia\",\"Saudi Arabia\",\"Singapore\",\"South Africa\",\"South Korea\",\"Sri Lanka\",\"Sweden\",\"Switzerland\",\"Taiwan\",\"Thailand\",\"Turkey\",\"UAE\",\"Ukraine\",\"United States\",\"Uruguay\",\"Venezuela\",\"Argentina\",\"Australia\",\"Brazil\",\"Britain\",\"Canada\",\"Chile\",\"China\",\"Colombia\",\"Costa Rica\",\"Czech Republic\",\"Denmark\",\"Egypt\",\"Euro area\",\"Hong Kong\",\"Hungary\",\"Indonesia\",\"Japan\",\"Malaysia\",\"Mexico\",\"New Zealand\",\"Norway\",\"Pakistan\",\"Peru\",\"Philippines\",\"Poland\",\"Russia\",\"Saudi Arabia\",\"Singapore\",\"South Africa\",\"South Korea\",\"Sri Lanka\",\"Sweden\",\"Switzerland\",\"Taiwan\",\"Thailand\",\"Turkey\",\"UAE\",\"Ukraine\",\"United States\",\"Uruguay\",\"Argentina\",\"Australia\",\"Brazil\",\"Britain\",\"Canada\",\"Chile\",\"China\",\"Colombia\",\"Costa Rica\",\"Czech Republic\",\"Denmark\",\"Egypt\",\"Euro area\",\"Hong Kong\",\"Hungary\",\"Indonesia\",\"Israel\",\"Japan\",\"Malaysia\",\"Mexico\",\"New Zealand\",\"Norway\",\"Pakistan\",\"Peru\",\"Philippines\",\"Poland\",\"Russia\",\"Saudi Arabia\",\"Singapore\",\"South Africa\",\"South Korea\",\"Sri Lanka\",\"Sweden\",\"Switzerland\",\"Taiwan\",\"Thailand\",\"Turkey\",\"UAE\",\"Ukraine\",\"United States\",\"Uruguay\",\"Argentina\",\"Australia\",\"Brazil\",\"Britain\",\"Canada\",\"Chile\",\"China\",\"Colombia\",\"Costa Rica\",\"Czech Republic\",\"Denmark\",\"Egypt\",\"Euro area\",\"Hong Kong\",\"Hungary\",\"Indonesia\",\"Israel\",\"Japan\",\"Malaysia\",\"Mexico\",\"New Zealand\",\"Norway\",\"Pakistan\",\"Peru\",\"Philippines\",\"Poland\",\"Russia\",\"Saudi Arabia\",\"Singapore\",\"South Africa\",\"South Korea\",\"Sri Lanka\",\"Sweden\",\"Switzerland\",\"Taiwan\",\"Thailand\",\"Turkey\",\"UAE\",\"Ukraine\",\"United States\",\"Uruguay\",\"Argentina\",\"Australia\",\"Brazil\",\"Britain\",\"Canada\",\"Chile\",\"China\",\"Colombia\",\"Costa Rica\",\"Czech Republic\",\"Denmark\",\"Egypt\",\"Euro area\",\"Hong Kong\",\"Hungary\",\"Indonesia\",\"Israel\",\"Japan\",\"Malaysia\",\"Mexico\",\"New Zealand\",\"Norway\",\"Pakistan\",\"Peru\",\"Philippines\",\"Poland\",\"Russia\",\"Saudi Arabia\",\"Singapore\",\"South Africa\",\"South Korea\",\"Sri Lanka\",\"Sweden\",\"Switzerland\",\"Taiwan\",\"Thailand\",\"Turkey\",\"UAE\",\"Ukraine\",\"United States\",\"Uruguay\",\"Argentina\",\"Australia\",\"Brazil\",\"Britain\",\"Canada\",\"Chile\",\"China\",\"Colombia\",\"Costa Rica\",\"Czech Republic\",\"Denmark\",\"Egypt\",\"Euro area\",\"Hong Kong\",\"Hungary\",\"India\",\"Indonesia\",\"Israel\",\"Japan\",\"Malaysia\",\"Mexico\",\"New Zealand\",\"Norway\",\"Pakistan\",\"Peru\",\"Philippines\",\"Poland\",\"Russia\",\"Saudi Arabia\",\"Singapore\",\"South Africa\",\"South Korea\",\"Sri Lanka\",\"Sweden\",\"Switzerland\",\"Taiwan\",\"Thailand\",\"Turkey\",\"UAE\",\"Ukraine\",\"United States\",\"Uruguay\",\"Venezuela\",\"Argentina\",\"Australia\",\"Brazil\",\"Britain\",\"Canada\",\"Chile\",\"China\",\"Colombia\",\"Costa Rica\",\"Czech Republic\",\"Denmark\",\"Egypt\",\"Euro area\",\"Hong Kong\",\"Hungary\",\"India\",\"Indonesia\",\"Israel\",\"Japan\",\"Malaysia\",\"Mexico\",\"New Zealand\",\"Norway\",\"Pakistan\",\"Peru\",\"Philippines\",\"Poland\",\"Russia\",\"Saudi Arabia\",\"Singapore\",\"South Africa\",\"South Korea\",\"Sri Lanka\",\"Sweden\",\"Switzerland\",\"Taiwan\",\"Thailand\",\"Turkey\",\"UAE\",\"Ukraine\",\"United States\",\"Uruguay\",\"Venezuela\",\"Argentina\",\"Australia\",\"Brazil\",\"Britain\",\"Canada\",\"Chile\",\"China\",\"Colombia\",\"Czech Republic\",\"Denmark\",\"Egypt\",\"Euro area\",\"Hong Kong\",\"Hungary\",\"India\",\"Indonesia\",\"Israel\",\"Japan\",\"Malaysia\",\"Mexico\",\"New Zealand\",\"Norway\",\"Pakistan\",\"Philippines\",\"Poland\",\"Russia\",\"Saudi Arabia\",\"Singapore\",\"South Africa\",\"South Korea\",\"Sri Lanka\",\"Sweden\",\"Switzerland\",\"Taiwan\",\"Thailand\",\"Turkey\",\"UAE\",\"Ukraine\",\"United States\",\"Uruguay\",\"Venezuela\",\"Argentina\",\"Australia\",\"Brazil\",\"Britain\",\"Canada\",\"Chile\",\"China\",\"Colombia\",\"Costa Rica\",\"Czech Republic\",\"Denmark\",\"Egypt\",\"Euro area\",\"Hong Kong\",\"Hungary\",\"India\",\"Indonesia\",\"Israel\",\"Japan\",\"Malaysia\",\"Mexico\",\"New Zealand\",\"Norway\",\"Pakistan\",\"Peru\",\"Philippines\",\"Poland\",\"Russia\",\"Saudi Arabia\",\"Singapore\",\"South Africa\",\"South Korea\",\"Sri Lanka\",\"Sweden\",\"Switzerland\",\"Taiwan\",\"Thailand\",\"Turkey\",\"UAE\",\"Ukraine\",\"United States\",\"Uruguay\",\"Venezuela\",\"Argentina\",\"Australia\",\"Brazil\",\"Britain\",\"Canada\",\"Chile\",\"China\",\"Colombia\",\"Costa Rica\",\"Czech Republic\",\"Denmark\",\"Egypt\",\"Euro area\",\"Hong Kong\",\"Hungary\",\"India\",\"Indonesia\",\"Israel\",\"Japan\",\"Malaysia\",\"Mexico\",\"New Zealand\",\"Norway\",\"Pakistan\",\"Peru\",\"Philippines\",\"Poland\",\"Russia\",\"Saudi Arabia\",\"Singapore\",\"South Africa\",\"South Korea\",\"Sri Lanka\",\"Sweden\",\"Switzerland\",\"Taiwan\",\"Thailand\",\"Turkey\",\"UAE\",\"Ukraine\",\"United States\",\"Uruguay\",\"Venezuela\",\"Argentina\",\"Australia\",\"Brazil\",\"Britain\",\"Canada\",\"Chile\",\"China\",\"Colombia\",\"Costa Rica\",\"Czech Republic\",\"Denmark\",\"Egypt\",\"Euro area\",\"Hong Kong\",\"Hungary\",\"India\",\"Indonesia\",\"Israel\",\"Japan\",\"Malaysia\",\"Mexico\",\"New Zealand\",\"Norway\",\"Pakistan\",\"Peru\",\"Philippines\",\"Poland\",\"Russia\",\"Saudi Arabia\",\"Singapore\",\"South Africa\",\"South Korea\",\"Sri Lanka\",\"Sweden\",\"Switzerland\",\"Taiwan\",\"Thailand\",\"Turkey\",\"UAE\",\"Ukraine\",\"United States\",\"Uruguay\",\"Venezuela\",\"Argentina\",\"Australia\",\"Brazil\",\"Britain\",\"Canada\",\"Chile\",\"China\",\"Colombia\",\"Costa Rica\",\"Czech Republic\",\"Denmark\",\"Egypt\",\"Euro area\",\"Hong Kong\",\"Hungary\",\"India\",\"Indonesia\",\"Israel\",\"Japan\",\"Malaysia\",\"Mexico\",\"New Zealand\",\"Norway\",\"Pakistan\",\"Peru\",\"Philippines\",\"Poland\",\"Russia\",\"Saudi Arabia\",\"Singapore\",\"South Africa\",\"South Korea\",\"Sri Lanka\",\"Sweden\",\"Switzerland\",\"Taiwan\",\"Thailand\",\"Turkey\",\"UAE\",\"Ukraine\",\"United States\",\"Uruguay\",\"Venezuela\",\"Vietnam\",\"Argentina\",\"Australia\",\"Brazil\",\"Britain\",\"Canada\",\"Chile\",\"China\",\"Colombia\",\"Costa Rica\",\"Czech Republic\",\"Denmark\",\"Egypt\",\"Euro area\",\"Hong Kong\",\"Hungary\",\"India\",\"Indonesia\",\"Israel\",\"Japan\",\"Malaysia\",\"Mexico\",\"New Zealand\",\"Norway\",\"Pakistan\",\"Peru\",\"Philippines\",\"Poland\",\"Russia\",\"Saudi Arabia\",\"Singapore\",\"South Africa\",\"South Korea\",\"Sri Lanka\",\"Sweden\",\"Switzerland\",\"Taiwan\",\"Thailand\",\"Turkey\",\"UAE\",\"Ukraine\",\"United States\",\"Uruguay\",\"Venezuela\",\"Vietnam\",\"Argentina\",\"Australia\",\"Brazil\",\"Britain\",\"Canada\",\"Chile\",\"China\",\"Colombia\",\"Costa Rica\",\"Czech Republic\",\"Denmark\",\"Egypt\",\"Euro area\",\"Hong Kong\",\"Hungary\",\"India\",\"Indonesia\",\"Israel\",\"Japan\",\"Malaysia\",\"Mexico\",\"New Zealand\",\"Norway\",\"Pakistan\",\"Peru\",\"Philippines\",\"Poland\",\"Russia\",\"Saudi Arabia\",\"Singapore\",\"South Africa\",\"South Korea\",\"Sri Lanka\",\"Sweden\",\"Switzerland\",\"Taiwan\",\"Thailand\",\"Turkey\",\"UAE\",\"Ukraine\",\"United States\",\"Uruguay\",\"Venezuela\",\"Vietnam\",\"Argentina\",\"Australia\",\"Brazil\",\"Britain\",\"Canada\",\"Chile\",\"China\",\"Colombia\",\"Costa Rica\",\"Czech Republic\",\"Denmark\",\"Egypt\",\"Euro area\",\"Hong Kong\",\"Hungary\",\"India\",\"Indonesia\",\"Israel\",\"Japan\",\"Malaysia\",\"Mexico\",\"New Zealand\",\"Norway\",\"Pakistan\",\"Peru\",\"Philippines\",\"Poland\",\"Russia\",\"Saudi Arabia\",\"Singapore\",\"South Africa\",\"South Korea\",\"Sri Lanka\",\"Sweden\",\"Switzerland\",\"Taiwan\",\"Thailand\",\"Turkey\",\"UAE\",\"Ukraine\",\"United States\",\"Uruguay\",\"Venezuela\",\"Vietnam\",\"Argentina\",\"Australia\",\"Brazil\",\"Britain\",\"Canada\",\"Chile\",\"China\",\"Colombia\",\"Costa Rica\",\"Czech Republic\",\"Denmark\",\"Egypt\",\"Euro area\",\"Hong Kong\",\"Hungary\",\"India\",\"Indonesia\",\"Israel\",\"Japan\",\"Malaysia\",\"Mexico\",\"New Zealand\",\"Norway\",\"Pakistan\",\"Peru\",\"Philippines\",\"Poland\",\"Russia\",\"Saudi Arabia\",\"Singapore\",\"South Africa\",\"South Korea\",\"Sri Lanka\",\"Sweden\",\"Switzerland\",\"Taiwan\",\"Thailand\",\"Turkey\",\"UAE\",\"Ukraine\",\"United States\",\"Uruguay\",\"Venezuela\",\"Vietnam\",\"Argentina\",\"Australia\",\"Brazil\",\"Britain\",\"Canada\",\"Chile\",\"China\",\"Colombia\",\"Costa Rica\",\"Czech Republic\",\"Denmark\",\"Egypt\",\"Euro area\",\"Hong Kong\",\"Hungary\",\"India\",\"Indonesia\",\"Israel\",\"Japan\",\"Malaysia\",\"Mexico\",\"New Zealand\",\"Norway\",\"Pakistan\",\"Peru\",\"Philippines\",\"Poland\",\"Russia\",\"Saudi Arabia\",\"Singapore\",\"South Africa\",\"South Korea\",\"Sri Lanka\",\"Sweden\",\"Switzerland\",\"Taiwan\",\"Thailand\",\"Turkey\",\"UAE\",\"Ukraine\",\"United States\",\"Uruguay\",\"Venezuela\",\"Vietnam\",\"Argentina\",\"Australia\",\"Brazil\",\"Britain\",\"Canada\",\"Chile\",\"China\",\"Colombia\",\"Costa Rica\",\"Czech Republic\",\"Denmark\",\"Egypt\",\"Euro area\",\"Hong Kong\",\"Hungary\",\"India\",\"Indonesia\",\"Israel\",\"Japan\",\"Malaysia\",\"Mexico\",\"New Zealand\",\"Norway\",\"Pakistan\",\"Peru\",\"Philippines\",\"Poland\",\"Russia\",\"Saudi Arabia\",\"Singapore\",\"South Africa\",\"South Korea\",\"Sri Lanka\",\"Sweden\",\"Switzerland\",\"Taiwan\",\"Thailand\",\"Turkey\",\"UAE\",\"Ukraine\",\"United States\",\"Uruguay\",\"Venezuela\",\"Vietnam\",\"Argentina\",\"Australia\",\"Brazil\",\"Britain\",\"Canada\",\"Chile\",\"China\",\"Colombia\",\"Costa Rica\",\"Czech Republic\",\"Denmark\",\"Egypt\",\"Euro area\",\"Hong Kong\",\"Hungary\",\"India\",\"Indonesia\",\"Israel\",\"Japan\",\"Malaysia\",\"Mexico\",\"New Zealand\",\"Norway\",\"Pakistan\",\"Peru\",\"Philippines\",\"Poland\",\"Russia\",\"Saudi Arabia\",\"Singapore\",\"South Africa\",\"South Korea\",\"Sri Lanka\",\"Sweden\",\"Switzerland\",\"Taiwan\",\"Thailand\",\"Turkey\",\"UAE\",\"Ukraine\",\"United States\",\"Uruguay\",\"Vietnam\",\"Argentina\",\"Australia\",\"Azerbaijan\",\"Bahrain\",\"Brazil\",\"Britain\",\"Canada\",\"Chile\",\"China\",\"Colombia\",\"Costa Rica\",\"Croatia\",\"Czech Republic\",\"Denmark\",\"Egypt\",\"Euro area\",\"Guatemala\",\"Honduras\",\"Hong Kong\",\"Hungary\",\"India\",\"Indonesia\",\"Israel\",\"Japan\",\"Jordan\",\"Kuwait\",\"Lebanon\",\"Malaysia\",\"Mexico\",\"Moldova\",\"New Zealand\",\"Nicaragua\",\"Norway\",\"Oman\",\"Pakistan\",\"Peru\",\"Philippines\",\"Poland\",\"Qatar\",\"Romania\",\"Russia\",\"Saudi Arabia\",\"Singapore\",\"South Africa\",\"South Korea\",\"Sri Lanka\",\"Sweden\",\"Switzerland\",\"Taiwan\",\"Thailand\",\"Turkey\",\"Ukraine\",\"United Arab Emirates\",\"United States\",\"Uruguay\",\"Vietnam\",\"Argentina\",\"Australia\",\"Azerbaijan\",\"Bahrain\",\"Brazil\",\"Britain\",\"Canada\",\"Chile\",\"China\",\"Colombia\",\"Costa Rica\",\"Croatia\",\"Czech Republic\",\"Denmark\",\"Egypt\",\"Euro area\",\"Guatemala\",\"Honduras\",\"Hong Kong\",\"Hungary\",\"India\",\"Indonesia\",\"Israel\",\"Japan\",\"Jordan\",\"Kuwait\",\"Lebanon\",\"Malaysia\",\"Mexico\",\"Moldova\",\"New Zealand\",\"Nicaragua\",\"Norway\",\"Oman\",\"Pakistan\",\"Peru\",\"Philippines\",\"Poland\",\"Qatar\",\"Romania\",\"Russia\",\"Saudi Arabia\",\"Singapore\",\"South Africa\",\"South Korea\",\"Sri Lanka\",\"Sweden\",\"Switzerland\",\"Taiwan\",\"Thailand\",\"Turkey\",\"Ukraine\",\"United Arab Emirates\",\"United States\",\"Uruguay\",\"Vietnam\",\"Argentina\",\"Australia\",\"Azerbaijan\",\"Bahrain\",\"Brazil\",\"Britain\",\"Canada\",\"Chile\",\"China\",\"Colombia\",\"Costa Rica\",\"Croatia\",\"Czech Republic\",\"Denmark\",\"Egypt\",\"Euro area\",\"Guatemala\",\"Honduras\",\"Hong Kong\",\"Hungary\",\"India\",\"Indonesia\",\"Israel\",\"Japan\",\"Jordan\",\"Kuwait\",\"Lebanon\",\"Malaysia\",\"Mexico\",\"Moldova\",\"New Zealand\",\"Nicaragua\",\"Norway\",\"Oman\",\"Pakistan\",\"Peru\",\"Philippines\",\"Poland\",\"Qatar\",\"Romania\",\"Russia\",\"Saudi Arabia\",\"Singapore\",\"South Africa\",\"South Korea\",\"Sri Lanka\",\"Sweden\",\"Switzerland\",\"Taiwan\",\"Thailand\",\"Turkey\",\"Ukraine\",\"United Arab Emirates\",\"United States\",\"Uruguay\",\"Vietnam\",\"Argentina\",\"Australia\",\"Azerbaijan\",\"Bahrain\",\"Brazil\",\"Britain\",\"Canada\",\"Chile\",\"China\",\"Colombia\",\"Costa Rica\",\"Croatia\",\"Czech Republic\",\"Denmark\",\"Egypt\",\"Euro area\",\"Guatemala\",\"Honduras\",\"Hong Kong\",\"Hungary\",\"India\",\"Indonesia\",\"Israel\",\"Japan\",\"Jordan\",\"Kuwait\",\"Lebanon\",\"Malaysia\",\"Mexico\",\"Moldova\",\"New Zealand\",\"Nicaragua\",\"Norway\",\"Oman\",\"Pakistan\",\"Peru\",\"Philippines\",\"Poland\",\"Qatar\",\"Romania\",\"Russia\",\"Saudi Arabia\",\"Singapore\",\"South Africa\",\"South Korea\",\"Sri Lanka\",\"Sweden\",\"Switzerland\",\"Taiwan\",\"Thailand\",\"Turkey\",\"Ukraine\",\"United Arab Emirates\",\"United States\",\"Uruguay\",\"Vietnam\",\"Argentina\",\"Australia\",\"Azerbaijan\",\"Bahrain\",\"Brazil\",\"Britain\",\"Canada\",\"Chile\",\"China\",\"Colombia\",\"Costa Rica\",\"Croatia\",\"Czech Republic\",\"Denmark\",\"Egypt\",\"Euro area\",\"Guatemala\",\"Honduras\",\"Hong Kong\",\"Hungary\",\"India\",\"Indonesia\",\"Israel\",\"Japan\",\"Jordan\",\"Kuwait\",\"Lebanon\",\"Malaysia\",\"Mexico\",\"Moldova\",\"New Zealand\",\"Nicaragua\",\"Norway\",\"Oman\",\"Pakistan\",\"Peru\",\"Philippines\",\"Poland\",\"Qatar\",\"Romania\",\"Russia\",\"Saudi Arabia\",\"Singapore\",\"South Africa\",\"South Korea\",\"Sri Lanka\",\"Sweden\",\"Switzerland\",\"Taiwan\",\"Thailand\",\"Turkey\",\"Ukraine\",\"United Arab Emirates\",\"United States\",\"Uruguay\",\"Vietnam\",\"Argentina\",\"Australia\",\"Azerbaijan\",\"Bahrain\",\"Brazil\",\"Britain\",\"Canada\",\"Chile\",\"China\",\"Colombia\",\"Costa Rica\",\"Croatia\",\"Czech Republic\",\"Denmark\",\"Egypt\",\"Euro area\",\"Guatemala\",\"Honduras\",\"Hong Kong\",\"Hungary\",\"India\",\"Indonesia\",\"Israel\",\"Japan\",\"Jordan\",\"Kuwait\",\"Lebanon\",\"Malaysia\",\"Mexico\",\"Moldova\",\"New Zealand\",\"Nicaragua\",\"Norway\",\"Oman\",\"Pakistan\",\"Peru\",\"Philippines\",\"Poland\",\"Qatar\",\"Romania\",\"Russia\",\"Saudi Arabia\",\"Singapore\",\"South Africa\",\"South Korea\",\"Sri Lanka\",\"Sweden\",\"Switzerland\",\"Taiwan\",\"Thailand\",\"Turkey\",\"Ukraine\",\"United Arab Emirates\",\"United States\",\"Uruguay\",\"Vietnam\",\"Argentina\",\"Australia\",\"Azerbaijan\",\"Bahrain\",\"Brazil\",\"Britain\",\"Canada\",\"Chile\",\"China\",\"Colombia\",\"Costa Rica\",\"Croatia\",\"Czech Republic\",\"Denmark\",\"Egypt\",\"Euro area\",\"Guatemala\",\"Honduras\",\"Hong Kong\",\"Hungary\",\"India\",\"Indonesia\",\"Israel\",\"Japan\",\"Jordan\",\"Kuwait\",\"Lebanon\",\"Malaysia\",\"Mexico\",\"Moldova\",\"New Zealand\",\"Nicaragua\",\"Norway\",\"Oman\",\"Pakistan\",\"Peru\",\"Philippines\",\"Poland\",\"Qatar\",\"Romania\",\"Russia\",\"Saudi Arabia\",\"Singapore\",\"South Africa\",\"South Korea\",\"Sri Lanka\",\"Sweden\",\"Switzerland\",\"Taiwan\",\"Thailand\",\"Turkey\",\"Ukraine\",\"United Arab Emirates\",\"United States\",\"Uruguay\",\"Venezuela\",\"Vietnam\",\"Argentina\",\"Australia\",\"Azerbaijan\",\"Bahrain\",\"Brazil\",\"Britain\",\"Canada\",\"Chile\",\"China\",\"Colombia\",\"Costa Rica\",\"Croatia\",\"Czech Republic\",\"Denmark\",\"Egypt\",\"Euro area\",\"Guatemala\",\"Honduras\",\"Hong Kong\",\"Hungary\",\"India\",\"Indonesia\",\"Israel\",\"Japan\",\"Jordan\",\"Kuwait\",\"Lebanon\",\"Malaysia\",\"Mexico\",\"Moldova\",\"New Zealand\",\"Nicaragua\",\"Norway\",\"Oman\",\"Pakistan\",\"Peru\",\"Philippines\",\"Poland\",\"Qatar\",\"Romania\",\"Russia\",\"Saudi Arabia\",\"Singapore\",\"South Africa\",\"South Korea\",\"Sri Lanka\",\"Sweden\",\"Switzerland\",\"Taiwan\",\"Thailand\",\"Turkey\",\"Ukraine\",\"United Arab Emirates\",\"United States\",\"Uruguay\",\"Venezuela\",\"Vietnam\",\"Argentina\",\"Australia\",\"Azerbaijan\",\"Bahrain\",\"Brazil\",\"Britain\",\"Canada\",\"Chile\",\"China\",\"Colombia\",\"Costa Rica\",\"Croatia\",\"Czech Republic\",\"Egypt\",\"Euro area\",\"Guatemala\",\"Honduras\",\"Hong Kong\",\"Hungary\",\"India\",\"Indonesia\",\"Israel\",\"Japan\",\"Jordan\",\"Kuwait\",\"Lebanon\",\"Malaysia\",\"Mexico\",\"Moldova\",\"New Zealand\",\"Nicaragua\",\"Norway\",\"Oman\",\"Pakistan\",\"Peru\",\"Philippines\",\"Poland\",\"Qatar\",\"Romania\",\"Saudi Arabia\",\"Singapore\",\"South Africa\",\"South Korea\",\"Sri Lanka\",\"Sweden\",\"Switzerland\",\"Taiwan\",\"Thailand\",\"Turkey\",\"United Arab Emirates\",\"United States\",\"Uruguay\",\"Venezuela\",\"Vietnam\"],\"name\":\"\",\"showlegend\":true,\"showscale\":false,\"z\":[1,1,1,1,1,1,1,1,1,1,1,1,1,1,1,1,1,1,1,1,1,1,1,1,1,1,1,1,1,1,1,1,1,1,1,1,1,1,1,1,1,1,1,1,1,1,1,1,1,1,1,1,1,1,1,1,1,1,1,1,1,1,1,1,1,1,1,1,1,1,1,1,1,1,1,1,1,1,1,1,1,1,1,1,1,1,1,1,1,1,1,1,1,1,1,1,1,1,1,1,1,1,1,1,1,1,1,1,1,1,1,1,1,1,1,1,1,1,1,1,1,1,1,1,1,1,1,1,1,1,1,1,1,1,1,1,1,1,1,1,1,1,1,1,1,1,1,1,1,1,1,1,1,1,1,1,1,1,1,1,1,1,1,1,1,1,1,1,1,1,1,1,1,1,1,1,1,1,1,1,1,1,1,1,1,1,1,1,1,1,1,1,1,1,1,1,1,1,1,1,1,1,1,1,1,1,1,1,1,1,1,1,1,1,1,1,1,1,1,1,1,1,1,1,1,1,1,1,1,1,1,1,1,1,1,1,1,1,1,1,1,1,1,1,1,1,1,1,1,1,1,1,1,1,1,1,1,1,1,1,1,1,1,1,1,1,1,1,1,1,1,1,1,1,1,1,1,1,1,1,1,1,1,1,1,1,1,1,1,1,1,1,1,1,1,1,1,1,1,1,1,1,1,1,1,1,1,1,1,1,1,1,1,1,1,1,1,1,1,1,1,1,1,1,1,1,1,1,1,1,1,1,1,1,1,1,1,1,1,1,1,1,1,1,1,1,1,1,1,1,1,1,1,1,1,1,1,1,1,1,1,1,1,1,1,1,1,1,1,1,1,1,1,1,1,1,1,1,1,1,1,1,1,1,1,1,1,1,1,1,1,1,1,1,1,1,1,1,1,1,1,1,1,1,1,1,1,1,1,1,1,1,1,1,1,1,1,1,1,1,1,1,1,1,1,1,1,1,1,1,1,1,1,1,1,1,1,1,1,1,1,1,1,1,1,1,1,1,1,1,1,1,1,1,1,1,1,1,1,1,1,1,1,1,1,1,1,1,1,1,1,1,1,1,1,1,1,1,1,1,1,1,1,1,1,1,1,1,1,1,1,1,1,1,1,1,1,1,1,1,1,1,1,1,1,1,1,1,1,1,1,1,1,1,1,1,1,1,1,1,1,1,1,1,1,1,1,1,1,1,1,1,1,1,1,1,1,1,1,1,1,1,1,1,1,1,1,1,1,1,1,1,1,1,1,1,1,1,1,1,1,1,1,1,1,1,1,1,1,1,1,1,1,1,1,1,1,1,1,1,1,1,1,1,1,1,1,1,1,1,1,1,1,1,1,1,1,1,1,1,1,1,1,1,1,1,1,1,1,1,1,1,1,1,1,1,1,1,1,1,1,1,1,1,1,1,1,1,1,1,1,1,1,1,1,1,1,1,1,1,1,1,1,1,1,1,1,1,1,1,1,1,1,1,1,1,1,1,1,1,1,1,1,1,1,1,1,1,1,1,1,1,1,1,1,1,1,1,1,1,1,1,1,1,1,1,1,1,1,1,1,1,1,1,1,1,1,1,1,1,1,1,1,1,1,1,1,1,1,1,1,1,1,1,1,1,1,1,1,1,1,1,1,1,1,1,1,1,1,1,1,1,1,1,1,1,1,1,1,1,1,1,1,1,1,1,1,1,1,1,1,1,1,1,1,1,1,1,1,1,1,1,1,1,1,1,1,1,1,1,1,1,1,1,1,1,1,1,1,1,1,1,1,1,1,1,1,1,1,1,1,1,1,1,1,1,1,1,1,1,1,1,1,1,1,1,1,1,1,1,1,1,1,1,1,1,1,1,1,1,1,1,1,1,1,1,1,1,1,1,1,1,1,1,1,1,1,1,1,1,1,1,1,1,1,1,1,1,1,1,1,1,1,1,1,1,1,1,1,1,1,1,1,1,1,1,1,1,1,1,1,1,1,1,1,1,1,1,1,1,1,1,1,1,1,1,1,1,1,1,1,1,1,1,1,1,1,1,1,1,1,1,1,1,1,1,1,1,1,1,1,1,1,1,1,1,1,1,1,1,1,1,1,1,1,1,1,1,1,1,1,1,1,1,1,1,1,1,1,1,1,1,1,1,1,1,1,1,1,1,1,1,1,1,1,1,1,1,1,1,1,1,1,1,1,1,1,1,1,1,1,1,1,1,1,1,1,1,1,1,1,1,1,1,1,1,1,1,1,1,1,1,1,1,1,1,1,1,1,1,1,1,1,1,1,1,1,1,1,1,1,1,1,1,1,1,1,1,1,1,1,1,1,1,1,1,1,1,1,1,1,1,1,1,1,1,1,1,1,1,1,1,1,1,1,1,1,1,1,1,1,1,1,1,1,1,1,1,1,1,1,1,1,1,1,1,1,1,1,1,1,1,1,1,1,1,1,1,1,1,1,1,1,1,1,1,1,1,1,1,1,1,1,1,1,1,1,1,1,1,1,1,1,1,1,1,1,1,1,1,1,1,1,1,1,1,1,1,1,1,1,1,1,1,1,1,1,1,1,1,1,1,1,1,1,1,1,1,1,1,1,1,1,1,1,1,1,1,1,1,1,1,1,1,1,1,1,1,1,1,1,1,1,1,1,1,1,1,1,1,1,1,1,1,1,1,1,1,1,1,1,1,1,1,1,1,1,1,1,1,1,1,1,1,1,1,1,1,1,1,1,1,1,1,1,1,1,1,1,1,1,1,1,1,1,1,1,1,1,1,1,1,1,1,1,1,1,1,1,1,1,1,1,1,1,1,1,1,1,1,1,1,1,1,1,1,1,1,1,1,1,1,1,1,1,1,1,1,1,1,1,1,1,1,1,1,1,1,1,1,1,1,1,1,1,1,1,1,1,1,1,1,1,1,1,1,1,1,1,1,1,1,1,1,1,1,1,1,1,1,1,1,1,1,1,1,1,1,1,1,1,1,1,1,1,1,1,1,1,1,1,1,1,1,1,1,1,1,1,1,1,1,1,1,1,1,1,1,1,1,1,1,1,1,1,1,1,1,1,1,1,1,1,1,1,1,1,1,1,1,1,1,1,1,1,1,1,1,1,1,1,1,1,1,1,1,1,1,1,1,1,1,1,1,1,1,1,1,1,1,1,1,1,1,1,1,1,1,1,1,1,1,1,1,1,1,1,1,1,1,1,1,1,1,1,1,1,1,1,1,1,1,1,1,1,1,1,1,1,1,1,1,1,1,1,1,1,1,1,1,1,1,1,1,1,1,1,1,1,1,1,1,1,1,1,1,1,1,1,1,1,1,1,1,1,1,1,1,1,1,1,1,1,1,1,1,1,1,1,1,1,1,1,1,1,1,1,1,1,1,1,1,1,1,1,1,1,1,1,1,1,1,1,1,1,1,1,1,1,1,1,1,1,1,1,1,1,1,1,1,1,1,1,1,1,1,1,1,1,1,1,1,1,1,1,1,1,1,1,1,1,1,1,1,1,1,1,1,1,1,1,1,1,1,1,1,1,1,1,1,1,1,1,1,1,1,1,1,1,1,1,1,1,1,1,1,1,1,1,1,1,1,1,1,1,1,1,1,1,1,1,1,1,1,1,1,1,1,1,1,1,1,1,1,1,1,1,1,1,1,1,1,1,1,1,1,1,1,1,1,1,1,1,1,1,1,1,1,1,1,1],\"type\":\"choropleth\"}],                        {\"template\":{\"data\":{\"histogram2dcontour\":[{\"type\":\"histogram2dcontour\",\"colorbar\":{\"outlinewidth\":0,\"ticks\":\"\"},\"colorscale\":[[0.0,\"#0d0887\"],[0.1111111111111111,\"#46039f\"],[0.2222222222222222,\"#7201a8\"],[0.3333333333333333,\"#9c179e\"],[0.4444444444444444,\"#bd3786\"],[0.5555555555555556,\"#d8576b\"],[0.6666666666666666,\"#ed7953\"],[0.7777777777777778,\"#fb9f3a\"],[0.8888888888888888,\"#fdca26\"],[1.0,\"#f0f921\"]]}],\"choropleth\":[{\"type\":\"choropleth\",\"colorbar\":{\"outlinewidth\":0,\"ticks\":\"\"}}],\"histogram2d\":[{\"type\":\"histogram2d\",\"colorbar\":{\"outlinewidth\":0,\"ticks\":\"\"},\"colorscale\":[[0.0,\"#0d0887\"],[0.1111111111111111,\"#46039f\"],[0.2222222222222222,\"#7201a8\"],[0.3333333333333333,\"#9c179e\"],[0.4444444444444444,\"#bd3786\"],[0.5555555555555556,\"#d8576b\"],[0.6666666666666666,\"#ed7953\"],[0.7777777777777778,\"#fb9f3a\"],[0.8888888888888888,\"#fdca26\"],[1.0,\"#f0f921\"]]}],\"heatmap\":[{\"type\":\"heatmap\",\"colorbar\":{\"outlinewidth\":0,\"ticks\":\"\"},\"colorscale\":[[0.0,\"#0d0887\"],[0.1111111111111111,\"#46039f\"],[0.2222222222222222,\"#7201a8\"],[0.3333333333333333,\"#9c179e\"],[0.4444444444444444,\"#bd3786\"],[0.5555555555555556,\"#d8576b\"],[0.6666666666666666,\"#ed7953\"],[0.7777777777777778,\"#fb9f3a\"],[0.8888888888888888,\"#fdca26\"],[1.0,\"#f0f921\"]]}],\"heatmapgl\":[{\"type\":\"heatmapgl\",\"colorbar\":{\"outlinewidth\":0,\"ticks\":\"\"},\"colorscale\":[[0.0,\"#0d0887\"],[0.1111111111111111,\"#46039f\"],[0.2222222222222222,\"#7201a8\"],[0.3333333333333333,\"#9c179e\"],[0.4444444444444444,\"#bd3786\"],[0.5555555555555556,\"#d8576b\"],[0.6666666666666666,\"#ed7953\"],[0.7777777777777778,\"#fb9f3a\"],[0.8888888888888888,\"#fdca26\"],[1.0,\"#f0f921\"]]}],\"contourcarpet\":[{\"type\":\"contourcarpet\",\"colorbar\":{\"outlinewidth\":0,\"ticks\":\"\"}}],\"contour\":[{\"type\":\"contour\",\"colorbar\":{\"outlinewidth\":0,\"ticks\":\"\"},\"colorscale\":[[0.0,\"#0d0887\"],[0.1111111111111111,\"#46039f\"],[0.2222222222222222,\"#7201a8\"],[0.3333333333333333,\"#9c179e\"],[0.4444444444444444,\"#bd3786\"],[0.5555555555555556,\"#d8576b\"],[0.6666666666666666,\"#ed7953\"],[0.7777777777777778,\"#fb9f3a\"],[0.8888888888888888,\"#fdca26\"],[1.0,\"#f0f921\"]]}],\"surface\":[{\"type\":\"surface\",\"colorbar\":{\"outlinewidth\":0,\"ticks\":\"\"},\"colorscale\":[[0.0,\"#0d0887\"],[0.1111111111111111,\"#46039f\"],[0.2222222222222222,\"#7201a8\"],[0.3333333333333333,\"#9c179e\"],[0.4444444444444444,\"#bd3786\"],[0.5555555555555556,\"#d8576b\"],[0.6666666666666666,\"#ed7953\"],[0.7777777777777778,\"#fb9f3a\"],[0.8888888888888888,\"#fdca26\"],[1.0,\"#f0f921\"]]}],\"mesh3d\":[{\"type\":\"mesh3d\",\"colorbar\":{\"outlinewidth\":0,\"ticks\":\"\"}}],\"scatter\":[{\"fillpattern\":{\"fillmode\":\"overlay\",\"size\":10,\"solidity\":0.2},\"type\":\"scatter\"}],\"parcoords\":[{\"type\":\"parcoords\",\"line\":{\"colorbar\":{\"outlinewidth\":0,\"ticks\":\"\"}}}],\"scatterpolargl\":[{\"type\":\"scatterpolargl\",\"marker\":{\"colorbar\":{\"outlinewidth\":0,\"ticks\":\"\"}}}],\"bar\":[{\"error_x\":{\"color\":\"#2a3f5f\"},\"error_y\":{\"color\":\"#2a3f5f\"},\"marker\":{\"line\":{\"color\":\"#E5ECF6\",\"width\":0.5},\"pattern\":{\"fillmode\":\"overlay\",\"size\":10,\"solidity\":0.2}},\"type\":\"bar\"}],\"scattergeo\":[{\"type\":\"scattergeo\",\"marker\":{\"colorbar\":{\"outlinewidth\":0,\"ticks\":\"\"}}}],\"scatterpolar\":[{\"type\":\"scatterpolar\",\"marker\":{\"colorbar\":{\"outlinewidth\":0,\"ticks\":\"\"}}}],\"histogram\":[{\"marker\":{\"pattern\":{\"fillmode\":\"overlay\",\"size\":10,\"solidity\":0.2}},\"type\":\"histogram\"}],\"scattergl\":[{\"type\":\"scattergl\",\"marker\":{\"colorbar\":{\"outlinewidth\":0,\"ticks\":\"\"}}}],\"scatter3d\":[{\"type\":\"scatter3d\",\"line\":{\"colorbar\":{\"outlinewidth\":0,\"ticks\":\"\"}},\"marker\":{\"colorbar\":{\"outlinewidth\":0,\"ticks\":\"\"}}}],\"scattermapbox\":[{\"type\":\"scattermapbox\",\"marker\":{\"colorbar\":{\"outlinewidth\":0,\"ticks\":\"\"}}}],\"scatterternary\":[{\"type\":\"scatterternary\",\"marker\":{\"colorbar\":{\"outlinewidth\":0,\"ticks\":\"\"}}}],\"scattercarpet\":[{\"type\":\"scattercarpet\",\"marker\":{\"colorbar\":{\"outlinewidth\":0,\"ticks\":\"\"}}}],\"carpet\":[{\"aaxis\":{\"endlinecolor\":\"#2a3f5f\",\"gridcolor\":\"white\",\"linecolor\":\"white\",\"minorgridcolor\":\"white\",\"startlinecolor\":\"#2a3f5f\"},\"baxis\":{\"endlinecolor\":\"#2a3f5f\",\"gridcolor\":\"white\",\"linecolor\":\"white\",\"minorgridcolor\":\"white\",\"startlinecolor\":\"#2a3f5f\"},\"type\":\"carpet\"}],\"table\":[{\"cells\":{\"fill\":{\"color\":\"#EBF0F8\"},\"line\":{\"color\":\"white\"}},\"header\":{\"fill\":{\"color\":\"#C8D4E3\"},\"line\":{\"color\":\"white\"}},\"type\":\"table\"}],\"barpolar\":[{\"marker\":{\"line\":{\"color\":\"#E5ECF6\",\"width\":0.5},\"pattern\":{\"fillmode\":\"overlay\",\"size\":10,\"solidity\":0.2}},\"type\":\"barpolar\"}],\"pie\":[{\"automargin\":true,\"type\":\"pie\"}]},\"layout\":{\"autotypenumbers\":\"strict\",\"colorway\":[\"#636efa\",\"#EF553B\",\"#00cc96\",\"#ab63fa\",\"#FFA15A\",\"#19d3f3\",\"#FF6692\",\"#B6E880\",\"#FF97FF\",\"#FECB52\"],\"font\":{\"color\":\"#2a3f5f\"},\"hovermode\":\"closest\",\"hoverlabel\":{\"align\":\"left\"},\"paper_bgcolor\":\"white\",\"plot_bgcolor\":\"#E5ECF6\",\"polar\":{\"bgcolor\":\"#E5ECF6\",\"angularaxis\":{\"gridcolor\":\"white\",\"linecolor\":\"white\",\"ticks\":\"\"},\"radialaxis\":{\"gridcolor\":\"white\",\"linecolor\":\"white\",\"ticks\":\"\"}},\"ternary\":{\"bgcolor\":\"#E5ECF6\",\"aaxis\":{\"gridcolor\":\"white\",\"linecolor\":\"white\",\"ticks\":\"\"},\"baxis\":{\"gridcolor\":\"white\",\"linecolor\":\"white\",\"ticks\":\"\"},\"caxis\":{\"gridcolor\":\"white\",\"linecolor\":\"white\",\"ticks\":\"\"}},\"coloraxis\":{\"colorbar\":{\"outlinewidth\":0,\"ticks\":\"\"}},\"colorscale\":{\"sequential\":[[0.0,\"#0d0887\"],[0.1111111111111111,\"#46039f\"],[0.2222222222222222,\"#7201a8\"],[0.3333333333333333,\"#9c179e\"],[0.4444444444444444,\"#bd3786\"],[0.5555555555555556,\"#d8576b\"],[0.6666666666666666,\"#ed7953\"],[0.7777777777777778,\"#fb9f3a\"],[0.8888888888888888,\"#fdca26\"],[1.0,\"#f0f921\"]],\"sequentialminus\":[[0.0,\"#0d0887\"],[0.1111111111111111,\"#46039f\"],[0.2222222222222222,\"#7201a8\"],[0.3333333333333333,\"#9c179e\"],[0.4444444444444444,\"#bd3786\"],[0.5555555555555556,\"#d8576b\"],[0.6666666666666666,\"#ed7953\"],[0.7777777777777778,\"#fb9f3a\"],[0.8888888888888888,\"#fdca26\"],[1.0,\"#f0f921\"]],\"diverging\":[[0,\"#8e0152\"],[0.1,\"#c51b7d\"],[0.2,\"#de77ae\"],[0.3,\"#f1b6da\"],[0.4,\"#fde0ef\"],[0.5,\"#f7f7f7\"],[0.6,\"#e6f5d0\"],[0.7,\"#b8e186\"],[0.8,\"#7fbc41\"],[0.9,\"#4d9221\"],[1,\"#276419\"]]},\"xaxis\":{\"gridcolor\":\"white\",\"linecolor\":\"white\",\"ticks\":\"\",\"title\":{\"standoff\":15},\"zerolinecolor\":\"white\",\"automargin\":true,\"zerolinewidth\":2},\"yaxis\":{\"gridcolor\":\"white\",\"linecolor\":\"white\",\"ticks\":\"\",\"title\":{\"standoff\":15},\"zerolinecolor\":\"white\",\"automargin\":true,\"zerolinewidth\":2},\"scene\":{\"xaxis\":{\"backgroundcolor\":\"#E5ECF6\",\"gridcolor\":\"white\",\"linecolor\":\"white\",\"showbackground\":true,\"ticks\":\"\",\"zerolinecolor\":\"white\",\"gridwidth\":2},\"yaxis\":{\"backgroundcolor\":\"#E5ECF6\",\"gridcolor\":\"white\",\"linecolor\":\"white\",\"showbackground\":true,\"ticks\":\"\",\"zerolinecolor\":\"white\",\"gridwidth\":2},\"zaxis\":{\"backgroundcolor\":\"#E5ECF6\",\"gridcolor\":\"white\",\"linecolor\":\"white\",\"showbackground\":true,\"ticks\":\"\",\"zerolinecolor\":\"white\",\"gridwidth\":2}},\"shapedefaults\":{\"line\":{\"color\":\"#2a3f5f\"}},\"annotationdefaults\":{\"arrowcolor\":\"#2a3f5f\",\"arrowhead\":0,\"arrowwidth\":1},\"geo\":{\"bgcolor\":\"white\",\"landcolor\":\"#E5ECF6\",\"subunitcolor\":\"white\",\"showland\":true,\"showlakes\":true,\"lakecolor\":\"white\"},\"title\":{\"x\":0.05},\"mapbox\":{\"style\":\"light\"}}},\"geo\":{\"domain\":{\"x\":[0.0,1.0],\"y\":[0.0,1.0]},\"center\":{}},\"legend\":{\"tracegroupgap\":0},\"margin\":{\"t\":60}},                        {\"responsive\": true}                    ).then(function(){\n",
       "                            \n",
       "var gd = document.getElementById('11d66b89-d940-409f-90dc-e7361e16ebb3');\n",
       "var x = new MutationObserver(function (mutations, observer) {{\n",
       "        var display = window.getComputedStyle(gd).display;\n",
       "        if (!display || display === 'none') {{\n",
       "            console.log([gd, 'removed!']);\n",
       "            Plotly.purge(gd);\n",
       "            observer.disconnect();\n",
       "        }}\n",
       "}});\n",
       "\n",
       "// Listen for the removal of the full notebook cells\n",
       "var notebookContainer = gd.closest('#notebook-container');\n",
       "if (notebookContainer) {{\n",
       "    x.observe(notebookContainer, {childList: true});\n",
       "}}\n",
       "\n",
       "// Listen for the clearing of the current output cell\n",
       "var outputEl = gd.closest('.output');\n",
       "if (outputEl) {{\n",
       "    x.observe(outputEl, {childList: true});\n",
       "}}\n",
       "\n",
       "                        })                };                            </script>        </div>\n",
       "</body>\n",
       "</html>"
      ]
     },
     "metadata": {},
     "output_type": "display_data"
    }
   ],
   "source": [
    "px.choropleth(big_mac, locations='name', locationmode='country names')"
   ]
  },
  {
   "cell_type": "code",
   "execution_count": null,
   "metadata": {
    "cell_id": "045e0bb058b74cfc89f92e074688a917",
    "deepnote_cell_height": 76,
    "deepnote_cell_type": "code",
    "deepnote_to_be_reexecuted": true,
    "source_hash": "b623e53d",
    "tags": []
   },
   "outputs": [],
   "source": []
  },
  {
   "cell_type": "markdown",
   "metadata": {
    "created_in_deepnote_cell": true,
    "deepnote_cell_type": "markdown",
    "tags": []
   },
   "source": [
    "<a style='text-decoration:none;line-height:16px;display:flex;color:#5B5B62;padding:10px;justify-content:end;' href='https://deepnote.com?utm_source=created-in-deepnote-cell&projectId=70230ccc-7ca7-41b6-947f-bad4c8d5dfa6' target=\"_blank\">\n",
    "<img alt='Created in deepnote.com' style='display:inline;max-height:16px;margin:0px;margin-right:7.5px;' src='data:image/svg+xml;base64,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' > </img>\n",
    "Created in <span style='font-weight:600;margin-left:4px;'>Deepnote</span></a>"
   ]
  }
 ],
 "metadata": {
  "deepnote": {},
  "deepnote_execution_queue": [],
  "deepnote_notebook_id": "6236c474-5baa-4e94-ae71-a3d8def47c23",
  "deepnote_persisted_session": {
   "createdAt": "2022-09-09T11:01:59.533Z"
  },
  "kernelspec": {
   "display_name": "Python 3 (ipykernel)",
   "language": "python",
   "name": "python3"
  },
  "language_info": {
   "codemirror_mode": {
    "name": "ipython",
    "version": 3
   },
   "file_extension": ".py",
   "mimetype": "text/x-python",
   "name": "python",
   "nbconvert_exporter": "python",
   "pygments_lexer": "ipython3",
   "version": "3.11.7"
  }
 },
 "nbformat": 4,
 "nbformat_minor": 4
}
