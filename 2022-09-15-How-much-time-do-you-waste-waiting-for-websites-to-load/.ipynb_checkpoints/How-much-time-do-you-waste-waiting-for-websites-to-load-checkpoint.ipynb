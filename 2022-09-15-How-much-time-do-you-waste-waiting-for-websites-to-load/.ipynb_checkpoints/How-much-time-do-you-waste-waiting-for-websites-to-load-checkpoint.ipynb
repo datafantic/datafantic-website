{
 "cells": [
  {
   "cell_type": "markdown",
   "id": "5b6bd59c-cf74-4d5d-b41a-653c87c60263",
   "metadata": {},
   "source": [
    "---\n",
    "title: \"How much time do we waste waiting for websites to load?\"\n",
    "description: \"The unfortunate reality is that websites continue to be just as slow as they were 10 years ago\"\n",
    "date: \"September 15, 2022\"\n",
    "author: \"Robert Ritz\"\n",
    "draft: false\n",
    "echo: false\n",
    "image: \"2022-09-15-How-much-time-do-you-waste-waiting-for-websites-to-load/images/onload.png\"\n",
    "---"
   ]
  },
  {
   "cell_type": "markdown",
   "id": "4c0608d0-be67-4f0d-8d41-42ea04d8ade6",
   "metadata": {},
   "source": [
    "A few weeks ago, I came across a [blog post](https://www.nngroup.com/articles/the-need-for-speed/?ref=datafantic.ghost.io) claiming that websites today are no faster than they were more than 10 years ago. My first reaction was disbelief. After all, home and mobile broadband today are significantly faster than 10 years ago. With home broadband reaching [70 Mbps globally](https://www.speedtest.net/global-index?ref=datafantic.ghost.io), and increasing every year, you would expect your web page load speeds to get faster, right?\n",
    "\n",
    "Then I got to thinking about my own experience with how fast web pages load. These days I generally wait **2-6 seconds** for most sites. If I think back 10 years (that would be 2012), I remember waiting 2-6 seconds for most sites.\n",
    "\n",
    "Either my memory is bad, or the entire internet has conspired to waste our time with repetitive waiting periods. So as with everything on datafantic, let's dig into the data and try to read between the lines."
   ]
  },
  {
   "cell_type": "markdown",
   "id": "5b6352ee-8701-4d5e-9075-43a1f0cfc30a",
   "metadata": {},
   "source": [
    "## How fast do web pages load?"
   ]
  },
  {
   "cell_type": "markdown",
   "id": "f5a14ba0-be87-406a-9174-5f5cee6382ff",
   "metadata": {},
   "source": [
    "It's pretty tricky to figure out how fast web pages load. When a web page loads on your computer, when is it \"loaded\"? Is it when the first content shows up, when you can start to scroll, or when everything is finished?\n",
    "\n",
    "Luckily the good folks over at [httparchive.org](https://httparchive.org/reports/loading-speed?start=earliest&end=latest&view=list&ref=datafantic.ghost.io) have been tracking this issue for years. I chose two metrics from their site to visualize web page loading times over several years. Both use data for desktop only. They regularly scrape a list of [4.2 million URLs](https://discuss.httparchive.org/t/changes-to-the-http-archive-corpus/1539?ref=datafantic.ghost.io) and track the result.  \n",
    "\n",
    "The first metric is how long it takes for the onLoad event to be called. This event is called when all text, images, and stylesheets on the page have been loaded. The dataset stretches back to late 2010, so we can get a long view of how things have changed."
   ]
  },
  {
   "cell_type": "markdown",
   "id": "e97bb845-e264-4a6a-94cc-cc72d1253191",
   "metadata": {},
   "source": [
    "![](2022-09-15-How-much-time-do-you-waste-waiting-for-websites-to-load/images/onload.png)"
   ]
  },
  {
   "cell_type": "markdown",
   "id": "d1781c9f-fd8e-434d-ba44-b569e285fb57",
   "metadata": {},
   "source": [
    "The median time for the onLoad event to be called has only dipped below 6 seconds three times in the data. Since 2019, the value has been stagnant. Before 2019, there is significant variability in the data. To understand this variability, it's important to understand how this data is collected.\n",
    "\n",
    "The HTTP Archive, is a part of the [Internet Archive](https://archive.org/), which has a mission to collect web pages across the internet and permanently store them. To do this work they continually scrape web pages across the internet, and they also track things like page load times using various metrics.\n",
    "\n",
    "Their web scrapers have changed over time by switching to different platforms (Windows to Linx), changing software, and upgrades to the underlying internet of the machines. So variability in the data may not always be caused by changes in the websites themselves.\n",
    "\n",
    "To get a better perspective of web page load times, I found another dataset the HTTP Archive hosts called the [Speed Index](https://github.com/WPO-Foundation/webpagetest-docs/blob/main/src/metrics/SpeedIndex.md?ref=datafantic.ghost.io). This index was developed by [webpagetest.org](https://www.webpagetest.org/?ref=datafantic.ghost.io) and measures the visual speed of a page loading, as opposed to events being called in the browser as we saw above.\n",
    "\n",
    "Since what we really care about is the page being visually complete, this is a more meaningful measure of web page load speeds. Let's see how things have changed from 2016 to today."
   ]
  },
  {
   "cell_type": "markdown",
   "id": "93695e59-317d-48ff-9036-f6d0d674ec4d",
   "metadata": {},
   "source": [
    "![](2022-09-15-How-much-time-do-you-waste-waiting-for-websites-to-load/images/speed_index.png)"
   ]
  },
  {
   "cell_type": "markdown",
   "id": "1a97a589-d497-49fd-8ea3-ed1fe7a6012d",
   "metadata": {},
   "source": [
    "This graph is significantly more consistent. There is a big dip in early 2017, which has an annotation in the data at this exact date that they switched to Linux for their testing. Other than this change, we can see remarkably flat median load times.\n",
    "\n",
    "With a median of right around 4 seconds, we can see that web page load times just aren't that fast. Our broadband internet on desktop"
   ]
  },
  {
   "cell_type": "markdown",
   "id": "d4120e88-9f1a-4806-94eb-175081f17ba9",
   "metadata": {},
   "source": [
    "<br>\n",
    "<br>\n",
    "<br>\n",
    "<div style=\"text-align: center;\">\n",
    "  <h2>Signup to receive new insights in your inbox</h2>\n",
    "</div>\n",
    "<div class=\"ml-embedded\" data-form=\"sRx1HZ\"></div>\n",
    "<br>\n",
    "<br>\n",
    "<br>"
   ]
  },
  {
   "cell_type": "markdown",
   "id": "d9338f06-e0e9-454e-ab4e-cb0087d148a8",
   "metadata": {},
   "source": [
    "## Does speed matter?"
   ]
  },
  {
   "cell_type": "markdown",
   "id": "89d481bf-7142-4904-b9db-e0b7c019c95e",
   "metadata": {},
   "source": [
    "Now that we've established that web page load times just aren't that fast, do we care? After all, if we cared about fast-loading web pages, we would be voting with our mouse clicks to choose to visit websites that loaded faster.\n",
    "\n",
    "After all, a slow website leads to a lower ranking on Google which can cost a website dearly. In 2013 a [case study](https://blog.radware.com/applicationdelivery/applicationaccelerationoptimization/2013/05/case-study-page-load-time-conversions/?ref=datafantic.ghost.io) found that an extra 2 seconds of load time resulted in 87% less conversions on an e-commerce website. This often cited number tells us that speed matters. Yet website speeds clearly haven't improved.\n",
    "\n",
    "I believe there has been no improvement because of a lack of information. We don't know how fast a website will be until we go to it. Then once it's loaded and we found it to be slow, the sunk cost fallacy sinks in. I already spent time visiting the site, so I might as well use the site now.\n",
    "\n",
    "Unless the time to wait for the site to load is so long that it sticks in our memory, it's unlikely to change our behavior. How long is long enough to remember? I'm not sure, and I couldn't find any public data, but I can say that 4 seconds seems perfectly fine.\n",
    "\n",
    "What if we had better data about slow sites? Would a warning on a site as its loading change your behavior? Back in 2019 on the [Chromium blog](https://blog.chromium.org/2019/11/moving-towards-faster-web.html?ref=datafantic.ghost.io) the possibility of labeling sites on phones as often loading slow was discussed. A green loading bar would denote a fast-loading site, and a warning label during page load would tell you if the website usually loaded slowly. Alas, this never came to be, and it seems Google has settled on downranking slow sites on its search engine."
   ]
  }
 ],
 "metadata": {
  "kernelspec": {
   "display_name": "Python 3 (ipykernel)",
   "language": "python",
   "name": "python3"
  },
  "language_info": {
   "codemirror_mode": {
    "name": "ipython",
    "version": 3
   },
   "file_extension": ".py",
   "mimetype": "text/x-python",
   "name": "python",
   "nbconvert_exporter": "python",
   "pygments_lexer": "ipython3",
   "version": "3.11.7"
  }
 },
 "nbformat": 4,
 "nbformat_minor": 5
}
