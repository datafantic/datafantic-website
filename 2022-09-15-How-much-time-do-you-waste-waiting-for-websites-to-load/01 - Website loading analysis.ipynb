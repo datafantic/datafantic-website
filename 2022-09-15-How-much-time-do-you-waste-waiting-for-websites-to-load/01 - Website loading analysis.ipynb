{
 "cells": [
  {
   "cell_type": "markdown",
   "metadata": {},
   "source": [
    "---\n",
    "author: \"Robert Ritz\"\n",
    "draft: true\n",
    "echo: false\n",
    "---"
   ]
  },
  {
   "cell_type": "markdown",
   "metadata": {
    "cell_id": "81d619b3f8274324afc28ef48bdd1292",
    "deepnote_app_coordinates": {
     "h": 5,
     "w": 12,
     "x": 0,
     "y": 1
    },
    "deepnote_cell_type": "text-cell-h1",
    "formattedRanges": [],
    "is_collapsed": false,
    "tags": []
   },
   "source": [
    "# How much of my life do I waste waiting for websites to load?"
   ]
  },
  {
   "cell_type": "markdown",
   "metadata": {
    "cell_id": "bc31e20aad1c408f940b36fcbca53f89",
    "deepnote_cell_type": "text-cell-p",
    "formattedRanges": [],
    "is_collapsed": false,
    "tags": []
   },
   "source": [
    "Just how much time do we spend throughout our lives waiting for websites to load? You might think this number has gone down over the past 10 years. After all, our internet is faster, so that must mean the website loads faster, right?"
   ]
  },
  {
   "cell_type": "markdown",
   "metadata": {
    "cell_id": "918dc1ff-39f3-4aac-a4e0-4bf2acedfa49",
    "deepnote_cell_type": "text-cell-p",
    "formattedRanges": [],
    "is_collapsed": false,
    "tags": []
   },
   "source": [
    "To do this analysis, we will use these data to look at the problem:"
   ]
  },
  {
   "cell_type": "markdown",
   "metadata": {
    "cell_id": "7c5831ae-bed0-4957-a053-156dbe348f38",
    "deepnote_cell_type": "text-cell-bullet",
    "formattedRanges": [
     {
      "fromCodePoint": 28,
      "ranges": [],
      "toCodePoint": 43,
      "type": "link",
      "url": "https://httparchive.org/reports/loading-speed?start=earliest&end=latest&view=list"
     },
     {
      "fromCodePoint": 118,
      "ranges": [],
      "toCodePoint": 124,
      "type": "link",
      "url": "https://developer.mozilla.org/en-US/docs/Web/API/Window/load_event"
     },
     {
      "fromCodePoint": 176,
      "marks": {
       "code": true
      },
      "toCodePoint": 203,
      "type": "marks"
     }
    ],
    "is_collapsed": false,
    "tags": []
   },
   "source": [
    "- Website page load data from httparchive.org. The onLoad table is used as it goes back the furthest. The file contains onLoad times from November 2010 to August 2022. Stored at data/onload_httparchive.csv."
   ]
  },
  {
   "cell_type": "markdown",
   "metadata": {
    "cell_id": "5b1e4d63-28d7-467e-a0dc-ea8759332402",
    "deepnote_cell_type": "text-cell-bullet",
    "formattedRanges": [
     {
      "fromCodePoint": 121,
      "marks": {
       "code": true
      },
      "toCodePoint": 161,
      "type": "marks"
     }
    ],
    "is_collapsed": false,
    "tags": []
   },
   "source": [
    "- Also, from httparchive.org (same page), I used the WebPage Speed Index data which is available from 2016-2022. Stored at data/webpage_speed_index_httparchive.csv."
   ]
  },
  {
   "cell_type": "markdown",
   "metadata": {
    "cell_id": "99de61aa-c4cf-41e3-86f5-008e85125d7f",
    "deepnote_cell_type": "text-cell-bullet",
    "formattedRanges": [
     {
      "fromCodePoint": 52,
      "ranges": [],
      "toCodePoint": 62,
      "type": "link",
      "url": "https://tcdata360.worldbank.org/indicators/entrp.inet.bandwidth?country=BRA&indicator=3405&viz=line_chart&years=2012,2016"
     },
     {
      "fromCodePoint": 94,
      "ranges": [],
      "toCodePoint": 104,
      "type": "link",
      "url": "https://www3.weforum.org/docs/GITR2016/WEF_GITR_Full_Report.pdf"
     },
     {
      "fromCodePoint": 116,
      "marks": {
       "code": true
      },
      "toCodePoint": 143,
      "type": "marks"
     }
    ],
    "is_collapsed": false,
    "tags": []
   },
   "source": [
    "- Bandwidth per user (in kbps) for 2012-2016 from the World Bank. The original data source is a WEF report. Stored at data/bandwidth_per_user.csv."
   ]
  },
  {
   "cell_type": "markdown",
   "metadata": {
    "cell_id": "6f4aa084-44a2-4b8c-a9be-1945cba98dfa",
    "deepnote_cell_type": "text-cell-bullet",
    "formattedRanges": [
     {
      "fromCodePoint": 29,
      "ranges": [],
      "toCodePoint": 42,
      "type": "link",
      "url": "https://www.speedtest.net/global-index"
     },
     {
      "fromCodePoint": 44,
      "ranges": [],
      "toCodePoint": 53,
      "type": "link",
      "url": "https://web.archive.org/web/20220913041817/https://www.speedtest.net/global-index"
     }
    ],
    "is_collapsed": false,
    "tags": []
   },
   "source": [
    "- Average download speeds from Speedtest.com. July 2022 showed a median download of 67.25 Mbps for fixed broadband."
   ]
  },
  {
   "cell_type": "markdown",
   "metadata": {
    "cell_id": "9a332a70-2326-48c6-bc7d-f444bafc4bd0",
    "deepnote_cell_type": "text-cell-bullet",
    "formattedRanges": [
     {
      "fromCodePoint": 13,
      "ranges": [],
      "toCodePoint": 30,
      "type": "link",
      "url": "https://tradingeconomics.com/united-states/internet-speed"
     },
     {
      "fromCodePoint": 109,
      "ranges": [],
      "toCodePoint": 129,
      "type": "link",
      "url": "https://web.archive.org/web/20220821063641/https://tradingeconomics.com/united-states/internet-speed"
     }
    ],
    "is_collapsed": false,
    "tags": []
   },
   "source": [
    "- According to Trading Economics, US internet speed in 2017 was 149 Mbps. Back in 2011, it was around 30 Mbps. Wayback Machine link."
   ]
  },
  {
   "cell_type": "markdown",
   "metadata": {
    "cell_id": "8f0660b6-e1eb-4366-8161-2413c4fbf8aa",
    "deepnote_cell_type": "text-cell-bullet",
    "formattedRanges": [
     {
      "fromCodePoint": 55,
      "ranges": [],
      "toCodePoint": 102,
      "type": "link",
      "url": "https://github.com/lukes/ISO-3166-Countries-with-Regional-Codes/blob/master/all/all.csv"
     },
     {
      "fromCodePoint": 114,
      "marks": {
       "code": true
      },
      "toCodePoint": 130,
      "type": "marks"
     }
    ],
    "is_collapsed": false,
    "tags": []
   },
   "source": [
    "- Countries and their regions according to ISO-3166 from Github - ISO-3166-Countries-with-Regional-Codes. Stored at data/iso3166.csv."
   ]
  },
  {
   "cell_type": "markdown",
   "metadata": {
    "cell_id": "e6964c87-5854-43e3-8810-e5f4a90694c5",
    "deepnote_cell_type": "text-cell-p",
    "formattedRanges": [],
    "is_collapsed": false,
    "tags": []
   },
   "source": [
    "Using this data, we will make charts and then a simple tool to calculate how much time we waste waiting for websites to load."
   ]
  },
  {
   "cell_type": "markdown",
   "metadata": {
    "cell_id": "11614c1668574441814b795c233212ad",
    "deepnote_cell_height": 68.796875,
    "deepnote_cell_type": "text-cell-callout",
    "formattedRanges": [
     {
      "fromCodePoint": 143,
      "ranges": [
       {
        "fromCodePoint": 0,
        "marks": {
         "code": true
        },
        "toCodePoint": 16,
        "type": "marks"
       }
      ],
      "toCodePoint": 159,
      "type": "link",
      "url": "https://deepnote.com/workspace/datafantic-3bd1a992-4cfb-4c56-aaaf-931ce087ce8c/project/2022-09-15-How-much-time-do-you-waste-waiting-for-websites-to-load-e215df48-947e-43c2-ae0d-f8648c2bd5d2/%2Fstreamlit_app.py"
     }
    ],
    "is_collapsed": false,
    "tags": []
   },
   "source": [
    "> I also made a Streamlit app that allows you to estimate the time you have wasted waiting for web pages to load. You can see the code stored at streamlit_app.py."
   ]
  },
  {
   "cell_type": "code",
   "execution_count": null,
   "metadata": {
    "cell_id": "2c567a81-e5c6-468c-86e8-ebf78d7fe2ab",
    "deepnote_cell_height": 130,
    "deepnote_cell_type": "code",
    "deepnote_to_be_reexecuted": false,
    "execution_millis": 1222,
    "execution_start": 1663221841673,
    "source_hash": "5e25ab85",
    "tags": []
   },
   "outputs": [],
   "source": [
    "import pandas as pd\n",
    "import matplotlib.pyplot as plt\n",
    "from matplotlib import gridspec\n",
    "from matplotlib.offsetbox import (OffsetImage, AnnotationBbox)"
   ]
  },
  {
   "cell_type": "code",
   "execution_count": null,
   "metadata": {
    "cell_id": "fcf7c5452a7646849326311c0f88d3c2",
    "deepnote_cell_height": 506,
    "deepnote_cell_type": "code",
    "deepnote_output_heights": [
     414
    ],
    "deepnote_to_be_reexecuted": false,
    "execution_millis": 221,
    "execution_start": 1663221842945,
    "source_hash": "54048052",
    "tags": []
   },
   "outputs": [
    {
     "data": {
      "image/png": "[encoded data removed]",
      "text/plain": [
       "<Figure size 640x480 with 1 Axes>"
      ]
     },
     "metadata": {
      "image/png": {
       "height": 413,
       "width": 567
      }
     },
     "output_type": "display_data"
    }
   ],
   "source": [
    "plt.plot();"
   ]
  },
  {
   "cell_type": "code",
   "execution_count": null,
   "metadata": {
    "cell_id": "a000a44449994fff99e641441e150a4d",
    "deepnote_cell_height": 76,
    "deepnote_cell_type": "code",
    "deepnote_to_be_reexecuted": false,
    "execution_millis": 0,
    "execution_start": 1663221843219,
    "source_hash": "3fa4279a",
    "tags": []
   },
   "outputs": [],
   "source": [
    "plt.style.use(\"datafantic-right.mplstyle\")"
   ]
  },
  {
   "cell_type": "code",
   "execution_count": null,
   "metadata": {
    "cell_id": "c47418c84c8b4cf7be12fe69d1af6aea",
    "deepnote_cell_height": 130,
    "deepnote_cell_type": "code",
    "deepnote_to_be_reexecuted": false,
    "execution_millis": 15,
    "execution_start": 1663223288857,
    "source_hash": "b100eaad",
    "tags": []
   },
   "outputs": [],
   "source": [
    "onload = pd.read_csv('data/onload_httparchive.csv')\n",
    "webpage_speed = pd.read_csv('data/webpage_speed_index_httparchive.csv')\n",
    "bandwidth = pd.read_csv('data/bandwidth_per_user.csv')\n",
    "countries = pd.read_csv('data/iso3166.csv')"
   ]
  },
  {
   "cell_type": "code",
   "execution_count": null,
   "metadata": {
    "cell_id": "bfce6459638c4f8084dfa10b2eb03dd8",
    "deepnote_cell_height": 390,
    "deepnote_cell_type": "code",
    "deepnote_to_be_reexecuted": false,
    "execution_millis": 2,
    "execution_start": 1663221843244,
    "source_hash": "2b7a044b",
    "tags": []
   },
   "outputs": [
    {
     "data": {
      "application/vnd.deepnote.dataframe.v3+json": {
       "column_count": 7,
       "columns": [
        {
         "dtype": "object",
         "name": "date",
         "stats": {
          "categories": [
           {
            "count": 1,
            "name": "Aug 1, 2022"
           },
           {
            "count": 1,
            "name": "Jul 1, 2022"
           },
           {
            "count": 3,
            "name": "3 others"
           }
          ],
          "nan_count": 0,
          "unique_count": 5
         }
        },
        {
         "dtype": "object",
         "name": "client",
         "stats": {
          "categories": [
           {
            "count": 5,
            "name": "desktop"
           }
          ],
          "nan_count": 0,
          "unique_count": 1
         }
        },
        {
         "dtype": "float64",
         "name": "p10",
         "stats": {
          "histogram": [
           {
            "bin_end": 2.41,
            "bin_start": 2.4,
            "count": 3
           },
           {
            "bin_end": 2.42,
            "bin_start": 2.41,
            "count": 0
           },
           {
            "bin_end": 2.4299999999999997,
            "bin_start": 2.42,
            "count": 0
           },
           {
            "bin_end": 2.44,
            "bin_start": 2.4299999999999997,
            "count": 0
           },
           {
            "bin_end": 2.45,
            "bin_start": 2.44,
            "count": 0
           },
           {
            "bin_end": 2.46,
            "bin_start": 2.45,
            "count": 0
           },
           {
            "bin_end": 2.4699999999999998,
            "bin_start": 2.46,
            "count": 0
           },
           {
            "bin_end": 2.48,
            "bin_start": 2.4699999999999998,
            "count": 0
           },
           {
            "bin_end": 2.49,
            "bin_start": 2.48,
            "count": 0
           },
           {
            "bin_end": 2.5,
            "bin_start": 2.49,
            "count": 2
           }
          ],
          "max": "2.5",
          "min": "2.4",
          "nan_count": 0,
          "unique_count": 2
         }
        },
        {
         "dtype": "float64",
         "name": "p25",
         "stats": {
          "histogram": [
           {
            "bin_end": 3.91,
            "bin_start": 3.9,
            "count": 4
           },
           {
            "bin_end": 3.92,
            "bin_start": 3.91,
            "count": 0
           },
           {
            "bin_end": 3.9299999999999997,
            "bin_start": 3.92,
            "count": 0
           },
           {
            "bin_end": 3.94,
            "bin_start": 3.9299999999999997,
            "count": 0
           },
           {
            "bin_end": 3.95,
            "bin_start": 3.94,
            "count": 0
           },
           {
            "bin_end": 3.96,
            "bin_start": 3.95,
            "count": 0
           },
           {
            "bin_end": 3.9699999999999998,
            "bin_start": 3.96,
            "count": 0
           },
           {
            "bin_end": 3.98,
            "bin_start": 3.9699999999999998,
            "count": 0
           },
           {
            "bin_end": 3.99,
            "bin_start": 3.98,
            "count": 0
           },
           {
            "bin_end": 4,
            "bin_start": 3.99,
            "count": 1
           }
          ],
          "max": "4.0",
          "min": "3.9",
          "nan_count": 0,
          "unique_count": 2
         }
        },
        {
         "dtype": "float64",
         "name": "p50",
         "stats": {
          "histogram": [
           {
            "bin_end": 6.33,
            "bin_start": 6.3,
            "count": 1
           },
           {
            "bin_end": 6.359999999999999,
            "bin_start": 6.33,
            "count": 0
           },
           {
            "bin_end": 6.39,
            "bin_start": 6.359999999999999,
            "count": 0
           },
           {
            "bin_end": 6.42,
            "bin_start": 6.39,
            "count": 1
           },
           {
            "bin_end": 6.449999999999999,
            "bin_start": 6.42,
            "count": 0
           },
           {
            "bin_end": 6.4799999999999995,
            "bin_start": 6.449999999999999,
            "count": 0
           },
           {
            "bin_end": 6.51,
            "bin_start": 6.4799999999999995,
            "count": 2
           },
           {
            "bin_end": 6.54,
            "bin_start": 6.51,
            "count": 0
           },
           {
            "bin_end": 6.569999999999999,
            "bin_start": 6.54,
            "count": 0
           },
           {
            "bin_end": 6.6,
            "bin_start": 6.569999999999999,
            "count": 1
           }
          ],
          "max": "6.6",
          "min": "6.3",
          "nan_count": 0,
          "unique_count": 4
         }
        },
        {
         "dtype": "float64",
         "name": "p75",
         "stats": {
          "histogram": [
           {
            "bin_end": 10.84,
            "bin_start": 10.8,
            "count": 1
           },
           {
            "bin_end": 10.88,
            "bin_start": 10.84,
            "count": 0
           },
           {
            "bin_end": 10.92,
            "bin_start": 10.88,
            "count": 0
           },
           {
            "bin_end": 10.96,
            "bin_start": 10.92,
            "count": 0
           },
           {
            "bin_end": 11,
            "bin_start": 10.96,
            "count": 0
           },
           {
            "bin_end": 11.04,
            "bin_start": 11,
            "count": 1
           },
           {
            "bin_end": 11.08,
            "bin_start": 11.04,
            "count": 0
           },
           {
            "bin_end": 11.12,
            "bin_start": 11.08,
            "count": 1
           },
           {
            "bin_end": 11.16,
            "bin_start": 11.12,
            "count": 0
           },
           {
            "bin_end": 11.2,
            "bin_start": 11.16,
            "count": 2
           }
          ],
          "max": "11.2",
          "min": "10.8",
          "nan_count": 0,
          "unique_count": 4
         }
        },
        {
         "dtype": "float64",
         "name": "p90",
         "stats": {
          "histogram": [
           {
            "bin_end": 19.09,
            "bin_start": 19,
            "count": 1
           },
           {
            "bin_end": 19.18,
            "bin_start": 19.09,
            "count": 0
           },
           {
            "bin_end": 19.27,
            "bin_start": 19.18,
            "count": 0
           },
           {
            "bin_end": 19.36,
            "bin_start": 19.27,
            "count": 0
           },
           {
            "bin_end": 19.45,
            "bin_start": 19.36,
            "count": 0
           },
           {
            "bin_end": 19.54,
            "bin_start": 19.45,
            "count": 0
           },
           {
            "bin_end": 19.63,
            "bin_start": 19.54,
            "count": 0
           },
           {
            "bin_end": 19.72,
            "bin_start": 19.63,
            "count": 2
           },
           {
            "bin_end": 19.81,
            "bin_start": 19.72,
            "count": 1
           },
           {
            "bin_end": 19.9,
            "bin_start": 19.81,
            "count": 1
           }
          ],
          "max": "19.9",
          "min": "19.0",
          "nan_count": 0,
          "unique_count": 4
         }
        },
        {
         "dtype": "int64",
         "name": "_deepnote_index_column"
        }
       ],
       "row_count": 5,
       "rows": [
        {
         "_deepnote_index_column": "0",
         "client": "desktop",
         "date": "Aug 1, 2022",
         "p10": "2.4",
         "p25": "3.9",
         "p50": "6.5",
         "p75": "11.2",
         "p90": "19.8"
        },
        {
         "_deepnote_index_column": "1",
         "client": "desktop",
         "date": "Jul 1, 2022",
         "p10": "2.5",
         "p25": "4.0",
         "p50": "6.6",
         "p75": "11.2",
         "p90": "19.7"
        },
        {
         "_deepnote_index_column": "2",
         "client": "desktop",
         "date": "Jun 1, 2022",
         "p10": "2.5",
         "p25": "3.9",
         "p50": "6.5",
         "p75": "11.1",
         "p90": "19.7"
        },
        {
         "_deepnote_index_column": "3",
         "client": "desktop",
         "date": "May 1, 2022",
         "p10": "2.4",
         "p25": "3.9",
         "p50": "6.4",
         "p75": "11.0",
         "p90": "19.9"
        },
        {
         "_deepnote_index_column": "4",
         "client": "desktop",
         "date": "Apr 1, 2022",
         "p10": "2.4",
         "p25": "3.9",
         "p50": "6.3",
         "p75": "10.8",
         "p90": "19.0"
        }
       ]
      },
      "text/html": [
       "<div>\n",
       "<style scoped>\n",
       "    .dataframe tbody tr th:only-of-type {\n",
       "        vertical-align: middle;\n",
       "    }\n",
       "\n",
       "    .dataframe tbody tr th {\n",
       "        vertical-align: top;\n",
       "    }\n",
       "\n",
       "    .dataframe thead th {\n",
       "        text-align: right;\n",
       "    }\n",
       "</style>\n",
       "<table border=\"1\" class=\"dataframe\">\n",
       "  <thead>\n",
       "    <tr style=\"text-align: right;\">\n",
       "      <th></th>\n",
       "      <th>date</th>\n",
       "      <th>client</th>\n",
       "      <th>p10</th>\n",
       "      <th>p25</th>\n",
       "      <th>p50</th>\n",
       "      <th>p75</th>\n",
       "      <th>p90</th>\n",
       "    </tr>\n",
       "  </thead>\n",
       "  <tbody>\n",
       "    <tr>\n",
       "      <th>0</th>\n",
       "      <td>Aug 1, 2022</td>\n",
       "      <td>desktop</td>\n",
       "      <td>2.4</td>\n",
       "      <td>3.9</td>\n",
       "      <td>6.5</td>\n",
       "      <td>11.2</td>\n",
       "      <td>19.8</td>\n",
       "    </tr>\n",
       "    <tr>\n",
       "      <th>1</th>\n",
       "      <td>Jul 1, 2022</td>\n",
       "      <td>desktop</td>\n",
       "      <td>2.5</td>\n",
       "      <td>4.0</td>\n",
       "      <td>6.6</td>\n",
       "      <td>11.2</td>\n",
       "      <td>19.7</td>\n",
       "    </tr>\n",
       "    <tr>\n",
       "      <th>2</th>\n",
       "      <td>Jun 1, 2022</td>\n",
       "      <td>desktop</td>\n",
       "      <td>2.5</td>\n",
       "      <td>3.9</td>\n",
       "      <td>6.5</td>\n",
       "      <td>11.1</td>\n",
       "      <td>19.7</td>\n",
       "    </tr>\n",
       "    <tr>\n",
       "      <th>3</th>\n",
       "      <td>May 1, 2022</td>\n",
       "      <td>desktop</td>\n",
       "      <td>2.4</td>\n",
       "      <td>3.9</td>\n",
       "      <td>6.4</td>\n",
       "      <td>11.0</td>\n",
       "      <td>19.9</td>\n",
       "    </tr>\n",
       "    <tr>\n",
       "      <th>4</th>\n",
       "      <td>Apr 1, 2022</td>\n",
       "      <td>desktop</td>\n",
       "      <td>2.4</td>\n",
       "      <td>3.9</td>\n",
       "      <td>6.3</td>\n",
       "      <td>10.8</td>\n",
       "      <td>19.0</td>\n",
       "    </tr>\n",
       "  </tbody>\n",
       "</table>\n",
       "</div>"
      ],
      "text/plain": [
       "          date   client  p10  p25  p50   p75   p90\n",
       "0  Aug 1, 2022  desktop  2.4  3.9  6.5  11.2  19.8\n",
       "1  Jul 1, 2022  desktop  2.5  4.0  6.6  11.2  19.7\n",
       "2  Jun 1, 2022  desktop  2.5  3.9  6.5  11.1  19.7\n",
       "3  May 1, 2022  desktop  2.4  3.9  6.4  11.0  19.9\n",
       "4  Apr 1, 2022  desktop  2.4  3.9  6.3  10.8  19.0"
      ]
     },
     "execution_count": 5,
     "metadata": {},
     "output_type": "execute_result"
    }
   ],
   "source": [
    "onload.head()"
   ]
  },
  {
   "cell_type": "code",
   "execution_count": null,
   "metadata": {
    "cell_id": "14b03ae3c42d4045b01e120c8c336246",
    "deepnote_cell_height": 390,
    "deepnote_cell_type": "code",
    "deepnote_to_be_reexecuted": false,
    "execution_millis": 51,
    "execution_start": 1663221843284,
    "source_hash": "b1af915e",
    "tags": []
   },
   "outputs": [
    {
     "data": {
      "application/vnd.deepnote.dataframe.v3+json": {
       "column_count": 10,
       "columns": [
        {
         "dtype": "object",
         "name": "Country ISO3",
         "stats": {
          "categories": [
           {
            "count": 1,
            "name": "AGO"
           },
           {
            "count": 1,
            "name": "ALB"
           },
           {
            "count": 3,
            "name": "3 others"
           }
          ],
          "nan_count": 0,
          "unique_count": 5
         }
        },
        {
         "dtype": "object",
         "name": "Country Name",
         "stats": {
          "categories": [
           {
            "count": 1,
            "name": "Angola"
           },
           {
            "count": 1,
            "name": "Albania"
           },
           {
            "count": 3,
            "name": "3 others"
           }
          ],
          "nan_count": 0,
          "unique_count": 5
         }
        },
        {
         "dtype": "int64",
         "name": "Indicator Id",
         "stats": {
          "histogram": [
           {
            "bin_end": 3404.6,
            "bin_start": 3404.5,
            "count": 0
           },
           {
            "bin_end": 3404.7,
            "bin_start": 3404.6,
            "count": 0
           },
           {
            "bin_end": 3404.8,
            "bin_start": 3404.7,
            "count": 0
           },
           {
            "bin_end": 3404.9,
            "bin_start": 3404.8,
            "count": 0
           },
           {
            "bin_end": 3405,
            "bin_start": 3404.9,
            "count": 0
           },
           {
            "bin_end": 3405.1,
            "bin_start": 3405,
            "count": 5
           },
           {
            "bin_end": 3405.2,
            "bin_start": 3405.1,
            "count": 0
           },
           {
            "bin_end": 3405.3,
            "bin_start": 3405.2,
            "count": 0
           },
           {
            "bin_end": 3405.4,
            "bin_start": 3405.3,
            "count": 0
           },
           {
            "bin_end": 3405.5,
            "bin_start": 3405.4,
            "count": 0
           }
          ],
          "max": "3405",
          "min": "3405",
          "nan_count": 0,
          "unique_count": 1
         }
        },
        {
         "dtype": "object",
         "name": "Indicator",
         "stats": {
          "categories": [
           {
            "count": 5,
            "name": "Int'l Internet bandwidth, kb/s per user"
           }
          ],
          "nan_count": 0,
          "unique_count": 1
         }
        },
        {
         "dtype": "object",
         "name": "Subindicator Type",
         "stats": {
          "categories": [
           {
            "count": 5,
            "name": "kb/s"
           }
          ],
          "nan_count": 0,
          "unique_count": 1
         }
        },
        {
         "dtype": "float64",
         "name": "2012",
         "stats": {
          "histogram": [
           {
            "bin_end": 3.3154137951,
            "bin_start": 0.628867799,
            "count": 1
           },
           {
            "bin_end": 6.0019597912,
            "bin_start": 3.3154137951,
            "count": 0
           },
           {
            "bin_end": 8.6885057873,
            "bin_start": 6.0019597912,
            "count": 1
           },
           {
            "bin_end": 11.3750517834,
            "bin_start": 8.6885057873,
            "count": 0
           },
           {
            "bin_end": 14.0615977795,
            "bin_start": 11.3750517834,
            "count": 1
           },
           {
            "bin_end": 16.7481437756,
            "bin_start": 14.0615977795,
            "count": 0
           },
           {
            "bin_end": 19.4346897717,
            "bin_start": 16.7481437756,
            "count": 1
           },
           {
            "bin_end": 22.121235767800002,
            "bin_start": 19.4346897717,
            "count": 0
           },
           {
            "bin_end": 24.807781763900003,
            "bin_start": 22.121235767800002,
            "count": 0
           },
           {
            "bin_end": 27.49432776,
            "bin_start": 24.807781763900003,
            "count": 1
           }
          ],
          "max": "27.49432776",
          "min": "0.628867799",
          "nan_count": 0,
          "unique_count": 5
         }
        },
        {
         "dtype": "float64",
         "name": "2013",
         "stats": {
          "histogram": [
           {
            "bin_end": 19.894640285999998,
            "bin_start": 19.03753677,
            "count": 1
           },
           {
            "bin_end": 20.751743802,
            "bin_start": 19.894640285999998,
            "count": 0
           },
           {
            "bin_end": 21.608847318,
            "bin_start": 20.751743802,
            "count": 0
           },
           {
            "bin_end": 22.465950834,
            "bin_start": 21.608847318,
            "count": 1
           },
           {
            "bin_end": 23.32305435,
            "bin_start": 22.465950834,
            "count": 0
           },
           {
            "bin_end": 24.180157866000002,
            "bin_start": 23.32305435,
            "count": 0
           },
           {
            "bin_end": 25.037261382,
            "bin_start": 24.180157866000002,
            "count": 0
           },
           {
            "bin_end": 25.894364898,
            "bin_start": 25.037261382,
            "count": 1
           },
           {
            "bin_end": 26.751468414,
            "bin_start": 25.894364898,
            "count": 0
           },
           {
            "bin_end": 27.60857193,
            "bin_start": 26.751468414,
            "count": 1
           }
          ],
          "max": "27.60857193",
          "min": "19.03753677",
          "nan_count": 1,
          "unique_count": 4
         }
        },
        {
         "dtype": "float64",
         "name": "2014",
         "stats": {
          "histogram": [
           {
            "bin_end": 4.547735,
            "bin_start": 0.56715,
            "count": 1
           },
           {
            "bin_end": 8.52832,
            "bin_start": 4.547735,
            "count": 0
           },
           {
            "bin_end": 12.508905,
            "bin_start": 8.52832,
            "count": 0
           },
           {
            "bin_end": 16.48949,
            "bin_start": 12.508905,
            "count": 0
           },
           {
            "bin_end": 20.470075,
            "bin_start": 16.48949,
            "count": 1
           },
           {
            "bin_end": 24.450660000000003,
            "bin_start": 20.470075,
            "count": 1
           },
           {
            "bin_end": 28.431245,
            "bin_start": 24.450660000000003,
            "count": 0
           },
           {
            "bin_end": 32.41183,
            "bin_start": 28.431245,
            "count": 0
           },
           {
            "bin_end": 36.392415,
            "bin_start": 32.41183,
            "count": 1
           },
           {
            "bin_end": 40.373,
            "bin_start": 36.392415,
            "count": 1
           }
          ],
          "max": "40.373",
          "min": "0.56715",
          "nan_count": 0,
          "unique_count": 5
         }
        },
        {
         "dtype": "float64",
         "name": "2015",
         "stats": {
          "histogram": [
           {
            "bin_end": 8.5499133048,
            "bin_start": 3.372527052,
            "count": 1
           },
           {
            "bin_end": 13.7272995576,
            "bin_start": 8.5499133048,
            "count": 0
           },
           {
            "bin_end": 18.9046858104,
            "bin_start": 13.7272995576,
            "count": 0
           },
           {
            "bin_end": 24.0820720632,
            "bin_start": 18.9046858104,
            "count": 1
           },
           {
            "bin_end": 29.259458315999996,
            "bin_start": 24.0820720632,
            "count": 0
           },
           {
            "bin_end": 34.4368445688,
            "bin_start": 29.259458315999996,
            "count": 0
           },
           {
            "bin_end": 39.6142308216,
            "bin_start": 34.4368445688,
            "count": 0
           },
           {
            "bin_end": 44.7916170744,
            "bin_start": 39.6142308216,
            "count": 1
           },
           {
            "bin_end": 49.9690033272,
            "bin_start": 44.7916170744,
            "count": 0
           },
           {
            "bin_end": 55.14638958,
            "bin_start": 49.9690033272,
            "count": 2
           }
          ],
          "max": "55.14638958",
          "min": "3.372527052",
          "nan_count": 0,
          "unique_count": 5
         }
        },
        {
         "dtype": "float64",
         "name": "2016",
         "stats": {
          "histogram": [
           {
            "bin_end": 36.833770697999995,
            "bin_start": 32.07737913,
            "count": 1
           },
           {
            "bin_end": 41.590162266,
            "bin_start": 36.833770697999995,
            "count": 0
           },
           {
            "bin_end": 46.346553834,
            "bin_start": 41.590162266,
            "count": 1
           },
           {
            "bin_end": 51.102945402,
            "bin_start": 46.346553834,
            "count": 1
           },
           {
            "bin_end": 55.85933697,
            "bin_start": 51.102945402,
            "count": 0
           },
           {
            "bin_end": 60.615728538,
            "bin_start": 55.85933697,
            "count": 0
           },
           {
            "bin_end": 65.37212010600001,
            "bin_start": 60.615728538,
            "count": 0
           },
           {
            "bin_end": 70.12851167400001,
            "bin_start": 65.37212010600001,
            "count": 0
           },
           {
            "bin_end": 74.88490324200001,
            "bin_start": 70.12851167400001,
            "count": 0
           },
           {
            "bin_end": 79.64129481,
            "bin_start": 74.88490324200001,
            "count": 1
           }
          ],
          "max": "79.64129481",
          "min": "32.07737913",
          "nan_count": 1,
          "unique_count": 4
         }
        },
        {
         "dtype": "int64",
         "name": "_deepnote_index_column"
        }
       ],
       "row_count": 5,
       "rows": [
        {
         "2012": "0.628867799",
         "2013": "nan",
         "2014": "0.56715",
         "2015": "3.372527052",
         "2016": "nan",
         "Country ISO3": "AGO",
         "Country Name": "Angola",
         "Indicator": "Int'l Internet bandwidth, kb/s per user",
         "Indicator Id": "3405",
         "Subindicator Type": "kb/s",
         "_deepnote_index_column": "0"
        },
        {
         "2012": "11.789772",
         "2013": "19.03753677",
         "2014": "17.358",
         "2015": "20.9738596",
         "2016": "32.07737913",
         "Country ISO3": "ALB",
         "Country Name": "Albania",
         "Indicator": "Int'l Internet bandwidth, kb/s per user",
         "Indicator Id": "3405",
         "Subindicator Type": "kb/s",
         "_deepnote_index_column": "1"
        },
        {
         "2012": "17.93785283",
         "2013": "27.60857193",
         "2014": "32.445",
         "2015": "52.32538228",
         "2016": "79.64129481",
         "Country ISO3": "ARE",
         "Country Name": "United Arab Emirates",
         "Indicator": "Int'l Internet bandwidth, kb/s per user",
         "Indicator Id": "3405",
         "Subindicator Type": "kb/s",
         "_deepnote_index_column": "2"
        },
        {
         "2012": "27.49432776",
         "2013": "25.71179746",
         "2014": "21.983",
         "2015": "44.30784853",
         "2016": "48.06515231",
         "Country ISO3": "ARG",
         "Country Name": "Argentina",
         "Indicator": "Int'l Internet bandwidth, kb/s per user",
         "Indicator Id": "3405",
         "Subindicator Type": "kb/s",
         "_deepnote_index_column": "3"
        },
        {
         "2012": "7.752230396",
         "2013": "22.19589089",
         "2014": "40.373",
         "2015": "55.14638958",
         "2016": "44.53428088",
         "Country ISO3": "ARM",
         "Country Name": "Armenia",
         "Indicator": "Int'l Internet bandwidth, kb/s per user",
         "Indicator Id": "3405",
         "Subindicator Type": "kb/s",
         "_deepnote_index_column": "4"
        }
       ]
      },
      "text/html": [
       "<div>\n",
       "<style scoped>\n",
       "    .dataframe tbody tr th:only-of-type {\n",
       "        vertical-align: middle;\n",
       "    }\n",
       "\n",
       "    .dataframe tbody tr th {\n",
       "        vertical-align: top;\n",
       "    }\n",
       "\n",
       "    .dataframe thead th {\n",
       "        text-align: right;\n",
       "    }\n",
       "</style>\n",
       "<table border=\"1\" class=\"dataframe\">\n",
       "  <thead>\n",
       "    <tr style=\"text-align: right;\">\n",
       "      <th></th>\n",
       "      <th>Country ISO3</th>\n",
       "      <th>Country Name</th>\n",
       "      <th>Indicator Id</th>\n",
       "      <th>Indicator</th>\n",
       "      <th>Subindicator Type</th>\n",
       "      <th>2012</th>\n",
       "      <th>2013</th>\n",
       "      <th>2014</th>\n",
       "      <th>2015</th>\n",
       "      <th>2016</th>\n",
       "    </tr>\n",
       "  </thead>\n",
       "  <tbody>\n",
       "    <tr>\n",
       "      <th>0</th>\n",
       "      <td>AGO</td>\n",
       "      <td>Angola</td>\n",
       "      <td>3405</td>\n",
       "      <td>Int'l Internet bandwidth, kb/s per user</td>\n",
       "      <td>kb/s</td>\n",
       "      <td>0.628868</td>\n",
       "      <td>NaN</td>\n",
       "      <td>0.56715</td>\n",
       "      <td>3.372527</td>\n",
       "      <td>NaN</td>\n",
       "    </tr>\n",
       "    <tr>\n",
       "      <th>1</th>\n",
       "      <td>ALB</td>\n",
       "      <td>Albania</td>\n",
       "      <td>3405</td>\n",
       "      <td>Int'l Internet bandwidth, kb/s per user</td>\n",
       "      <td>kb/s</td>\n",
       "      <td>11.789772</td>\n",
       "      <td>19.037537</td>\n",
       "      <td>17.35800</td>\n",
       "      <td>20.973860</td>\n",
       "      <td>32.077379</td>\n",
       "    </tr>\n",
       "    <tr>\n",
       "      <th>2</th>\n",
       "      <td>ARE</td>\n",
       "      <td>United Arab Emirates</td>\n",
       "      <td>3405</td>\n",
       "      <td>Int'l Internet bandwidth, kb/s per user</td>\n",
       "      <td>kb/s</td>\n",
       "      <td>17.937853</td>\n",
       "      <td>27.608572</td>\n",
       "      <td>32.44500</td>\n",
       "      <td>52.325382</td>\n",
       "      <td>79.641295</td>\n",
       "    </tr>\n",
       "    <tr>\n",
       "      <th>3</th>\n",
       "      <td>ARG</td>\n",
       "      <td>Argentina</td>\n",
       "      <td>3405</td>\n",
       "      <td>Int'l Internet bandwidth, kb/s per user</td>\n",
       "      <td>kb/s</td>\n",
       "      <td>27.494328</td>\n",
       "      <td>25.711797</td>\n",
       "      <td>21.98300</td>\n",
       "      <td>44.307849</td>\n",
       "      <td>48.065152</td>\n",
       "    </tr>\n",
       "    <tr>\n",
       "      <th>4</th>\n",
       "      <td>ARM</td>\n",
       "      <td>Armenia</td>\n",
       "      <td>3405</td>\n",
       "      <td>Int'l Internet bandwidth, kb/s per user</td>\n",
       "      <td>kb/s</td>\n",
       "      <td>7.752230</td>\n",
       "      <td>22.195891</td>\n",
       "      <td>40.37300</td>\n",
       "      <td>55.146390</td>\n",
       "      <td>44.534281</td>\n",
       "    </tr>\n",
       "  </tbody>\n",
       "</table>\n",
       "</div>"
      ],
      "text/plain": [
       "  Country ISO3          Country Name  Indicator Id  \\\n",
       "0          AGO                Angola          3405   \n",
       "1          ALB               Albania          3405   \n",
       "2          ARE  United Arab Emirates          3405   \n",
       "3          ARG             Argentina          3405   \n",
       "4          ARM               Armenia          3405   \n",
       "\n",
       "                                 Indicator Subindicator Type       2012  \\\n",
       "0  Int'l Internet bandwidth, kb/s per user              kb/s   0.628868   \n",
       "1  Int'l Internet bandwidth, kb/s per user              kb/s  11.789772   \n",
       "2  Int'l Internet bandwidth, kb/s per user              kb/s  17.937853   \n",
       "3  Int'l Internet bandwidth, kb/s per user              kb/s  27.494328   \n",
       "4  Int'l Internet bandwidth, kb/s per user              kb/s   7.752230   \n",
       "\n",
       "        2013      2014       2015       2016  \n",
       "0        NaN   0.56715   3.372527        NaN  \n",
       "1  19.037537  17.35800  20.973860  32.077379  \n",
       "2  27.608572  32.44500  52.325382  79.641295  \n",
       "3  25.711797  21.98300  44.307849  48.065152  \n",
       "4  22.195891  40.37300  55.146390  44.534281  "
      ]
     },
     "execution_count": 6,
     "metadata": {},
     "output_type": "execute_result"
    }
   ],
   "source": [
    "bandwidth.head()"
   ]
  },
  {
   "cell_type": "code",
   "execution_count": null,
   "metadata": {
    "cell_id": "5d136dc3bc30482c84083df2f7f02ef6",
    "deepnote_cell_height": 390,
    "deepnote_cell_type": "code",
    "deepnote_to_be_reexecuted": false,
    "execution_millis": 718,
    "execution_start": 1663223300097,
    "source_hash": "af810140",
    "tags": []
   },
   "outputs": [
    {
     "data": {
      "application/vnd.deepnote.dataframe.v3+json": {
       "column_count": 7,
       "columns": [
        {
         "dtype": "object",
         "name": "date",
         "stats": {
          "categories": [
           {
            "count": 2,
            "name": "Aug 1, 2022"
           },
           {
            "count": 2,
            "name": "Jul 1, 2022"
           },
           {
            "count": 1,
            "name": "Jun 9, 2022"
           }
          ],
          "nan_count": 0,
          "unique_count": 3
         }
        },
        {
         "dtype": "object",
         "name": "client",
         "stats": {
          "categories": [
           {
            "count": 3,
            "name": "desktop"
           },
           {
            "count": 2,
            "name": "mobile"
           }
          ],
          "nan_count": 0,
          "unique_count": 2
         }
        },
        {
         "dtype": "float64",
         "name": "p10",
         "stats": {
          "histogram": [
           {
            "bin_end": 1.74,
            "bin_start": 1.6,
            "count": 3
           },
           {
            "bin_end": 1.8800000000000001,
            "bin_start": 1.74,
            "count": 0
           },
           {
            "bin_end": 2.02,
            "bin_start": 1.8800000000000001,
            "count": 0
           },
           {
            "bin_end": 2.16,
            "bin_start": 2.02,
            "count": 0
           },
           {
            "bin_end": 2.3,
            "bin_start": 2.16,
            "count": 0
           },
           {
            "bin_end": 2.44,
            "bin_start": 2.3,
            "count": 0
           },
           {
            "bin_end": 2.58,
            "bin_start": 2.44,
            "count": 0
           },
           {
            "bin_end": 2.7199999999999998,
            "bin_start": 2.58,
            "count": 0
           },
           {
            "bin_end": 2.86,
            "bin_start": 2.7199999999999998,
            "count": 0
           },
           {
            "bin_end": 3,
            "bin_start": 2.86,
            "count": 2
           }
          ],
          "max": "3.0",
          "min": "1.6",
          "nan_count": 0,
          "unique_count": 2
         }
        },
        {
         "dtype": "float64",
         "name": "p25",
         "stats": {
          "histogram": [
           {
            "bin_end": 2.4899999999999998,
            "bin_start": 2.3,
            "count": 1
           },
           {
            "bin_end": 2.6799999999999997,
            "bin_start": 2.4899999999999998,
            "count": 2
           },
           {
            "bin_end": 2.87,
            "bin_start": 2.6799999999999997,
            "count": 0
           },
           {
            "bin_end": 3.06,
            "bin_start": 2.87,
            "count": 0
           },
           {
            "bin_end": 3.25,
            "bin_start": 3.06,
            "count": 0
           },
           {
            "bin_end": 3.44,
            "bin_start": 3.25,
            "count": 0
           },
           {
            "bin_end": 3.63,
            "bin_start": 3.44,
            "count": 0
           },
           {
            "bin_end": 3.8200000000000003,
            "bin_start": 3.63,
            "count": 0
           },
           {
            "bin_end": 4.01,
            "bin_start": 3.8200000000000003,
            "count": 0
           },
           {
            "bin_end": 4.2,
            "bin_start": 4.01,
            "count": 2
           }
          ],
          "max": "4.2",
          "min": "2.3",
          "nan_count": 0,
          "unique_count": 3
         }
        },
        {
         "dtype": "float64",
         "name": "p50",
         "stats": {
          "histogram": [
           {
            "bin_end": 3.76,
            "bin_start": 3.5,
            "count": 1
           },
           {
            "bin_end": 4.02,
            "bin_start": 3.76,
            "count": 2
           },
           {
            "bin_end": 4.279999999999999,
            "bin_start": 4.02,
            "count": 0
           },
           {
            "bin_end": 4.54,
            "bin_start": 4.279999999999999,
            "count": 0
           },
           {
            "bin_end": 4.8,
            "bin_start": 4.54,
            "count": 0
           },
           {
            "bin_end": 5.06,
            "bin_start": 4.8,
            "count": 0
           },
           {
            "bin_end": 5.319999999999999,
            "bin_start": 5.06,
            "count": 0
           },
           {
            "bin_end": 5.58,
            "bin_start": 5.319999999999999,
            "count": 0
           },
           {
            "bin_end": 5.84,
            "bin_start": 5.58,
            "count": 0
           },
           {
            "bin_end": 6.1,
            "bin_start": 5.84,
            "count": 2
           }
          ],
          "max": "6.1",
          "min": "3.5",
          "nan_count": 0,
          "unique_count": 3
         }
        },
        {
         "dtype": "float64",
         "name": "p75",
         "stats": {
          "histogram": [
           {
            "bin_end": 5.9799999999999995,
            "bin_start": 5.6,
            "count": 1
           },
           {
            "bin_end": 6.359999999999999,
            "bin_start": 5.9799999999999995,
            "count": 0
           },
           {
            "bin_end": 6.74,
            "bin_start": 6.359999999999999,
            "count": 2
           },
           {
            "bin_end": 7.12,
            "bin_start": 6.74,
            "count": 0
           },
           {
            "bin_end": 7.5,
            "bin_start": 7.12,
            "count": 0
           },
           {
            "bin_end": 7.88,
            "bin_start": 7.5,
            "count": 0
           },
           {
            "bin_end": 8.26,
            "bin_start": 7.88,
            "count": 0
           },
           {
            "bin_end": 8.64,
            "bin_start": 8.26,
            "count": 0
           },
           {
            "bin_end": 9.02,
            "bin_start": 8.64,
            "count": 0
           },
           {
            "bin_end": 9.4,
            "bin_start": 9.02,
            "count": 2
           }
          ],
          "max": "9.4",
          "min": "5.6",
          "nan_count": 0,
          "unique_count": 4
         }
        },
        {
         "dtype": "float64",
         "name": "p90",
         "stats": {
          "histogram": [
           {
            "bin_end": 9.52,
            "bin_start": 9,
            "count": 1
           },
           {
            "bin_end": 10.04,
            "bin_start": 9.52,
            "count": 0
           },
           {
            "bin_end": 10.559999999999999,
            "bin_start": 10.04,
            "count": 0
           },
           {
            "bin_end": 11.08,
            "bin_start": 10.559999999999999,
            "count": 2
           },
           {
            "bin_end": 11.6,
            "bin_start": 11.08,
            "count": 0
           },
           {
            "bin_end": 12.12,
            "bin_start": 11.6,
            "count": 0
           },
           {
            "bin_end": 12.639999999999999,
            "bin_start": 12.12,
            "count": 0
           },
           {
            "bin_end": 13.16,
            "bin_start": 12.639999999999999,
            "count": 0
           },
           {
            "bin_end": 13.68,
            "bin_start": 13.16,
            "count": 0
           },
           {
            "bin_end": 14.2,
            "bin_start": 13.68,
            "count": 2
           }
          ],
          "max": "14.2",
          "min": "9.0",
          "nan_count": 0,
          "unique_count": 5
         }
        },
        {
         "dtype": "int64",
         "name": "_deepnote_index_column"
        }
       ],
       "row_count": 5,
       "rows": [
        {
         "_deepnote_index_column": "0",
         "client": "desktop",
         "date": "Aug 1, 2022",
         "p10": "1.6",
         "p25": "2.5",
         "p50": "4.0",
         "p75": "6.6",
         "p90": "10.7"
        },
        {
         "_deepnote_index_column": "1",
         "client": "mobile",
         "date": "Aug 1, 2022",
         "p10": "3.0",
         "p25": "4.2",
         "p50": "6.1",
         "p75": "9.4",
         "p90": "14.2"
        },
        {
         "_deepnote_index_column": "2",
         "client": "desktop",
         "date": "Jul 1, 2022",
         "p10": "1.6",
         "p25": "2.5",
         "p50": "4.0",
         "p75": "6.6",
         "p90": "10.6"
        },
        {
         "_deepnote_index_column": "3",
         "client": "mobile",
         "date": "Jul 1, 2022",
         "p10": "3.0",
         "p25": "4.2",
         "p50": "6.1",
         "p75": "9.3",
         "p90": "14.1"
        },
        {
         "_deepnote_index_column": "4",
         "client": "desktop",
         "date": "Jun 9, 2022",
         "p10": "1.6",
         "p25": "2.3",
         "p50": "3.5",
         "p75": "5.6",
         "p90": "9.0"
        }
       ]
      },
      "text/html": [
       "<div>\n",
       "<style scoped>\n",
       "    .dataframe tbody tr th:only-of-type {\n",
       "        vertical-align: middle;\n",
       "    }\n",
       "\n",
       "    .dataframe tbody tr th {\n",
       "        vertical-align: top;\n",
       "    }\n",
       "\n",
       "    .dataframe thead th {\n",
       "        text-align: right;\n",
       "    }\n",
       "</style>\n",
       "<table border=\"1\" class=\"dataframe\">\n",
       "  <thead>\n",
       "    <tr style=\"text-align: right;\">\n",
       "      <th></th>\n",
       "      <th>date</th>\n",
       "      <th>client</th>\n",
       "      <th>p10</th>\n",
       "      <th>p25</th>\n",
       "      <th>p50</th>\n",
       "      <th>p75</th>\n",
       "      <th>p90</th>\n",
       "    </tr>\n",
       "  </thead>\n",
       "  <tbody>\n",
       "    <tr>\n",
       "      <th>0</th>\n",
       "      <td>Aug 1, 2022</td>\n",
       "      <td>desktop</td>\n",
       "      <td>1.6</td>\n",
       "      <td>2.5</td>\n",
       "      <td>4.0</td>\n",
       "      <td>6.6</td>\n",
       "      <td>10.7</td>\n",
       "    </tr>\n",
       "    <tr>\n",
       "      <th>1</th>\n",
       "      <td>Aug 1, 2022</td>\n",
       "      <td>mobile</td>\n",
       "      <td>3.0</td>\n",
       "      <td>4.2</td>\n",
       "      <td>6.1</td>\n",
       "      <td>9.4</td>\n",
       "      <td>14.2</td>\n",
       "    </tr>\n",
       "    <tr>\n",
       "      <th>2</th>\n",
       "      <td>Jul 1, 2022</td>\n",
       "      <td>desktop</td>\n",
       "      <td>1.6</td>\n",
       "      <td>2.5</td>\n",
       "      <td>4.0</td>\n",
       "      <td>6.6</td>\n",
       "      <td>10.6</td>\n",
       "    </tr>\n",
       "    <tr>\n",
       "      <th>3</th>\n",
       "      <td>Jul 1, 2022</td>\n",
       "      <td>mobile</td>\n",
       "      <td>3.0</td>\n",
       "      <td>4.2</td>\n",
       "      <td>6.1</td>\n",
       "      <td>9.3</td>\n",
       "      <td>14.1</td>\n",
       "    </tr>\n",
       "    <tr>\n",
       "      <th>4</th>\n",
       "      <td>Jun 9, 2022</td>\n",
       "      <td>desktop</td>\n",
       "      <td>1.6</td>\n",
       "      <td>2.3</td>\n",
       "      <td>3.5</td>\n",
       "      <td>5.6</td>\n",
       "      <td>9.0</td>\n",
       "    </tr>\n",
       "  </tbody>\n",
       "</table>\n",
       "</div>"
      ],
      "text/plain": [
       "          date   client  p10  p25  p50  p75   p90\n",
       "0  Aug 1, 2022  desktop  1.6  2.5  4.0  6.6  10.7\n",
       "1  Aug 1, 2022   mobile  3.0  4.2  6.1  9.4  14.2\n",
       "2  Jul 1, 2022  desktop  1.6  2.5  4.0  6.6  10.6\n",
       "3  Jul 1, 2022   mobile  3.0  4.2  6.1  9.3  14.1\n",
       "4  Jun 9, 2022  desktop  1.6  2.3  3.5  5.6   9.0"
      ]
     },
     "execution_count": 37,
     "metadata": {},
     "output_type": "execute_result"
    }
   ],
   "source": [
    "webpage_speed.head()"
   ]
  },
  {
   "cell_type": "markdown",
   "metadata": {
    "cell_id": "5d1073a833254e148e72cc2262b6a99b",
    "deepnote_cell_type": "text-cell-h3",
    "formattedRanges": [],
    "is_collapsed": false,
    "tags": []
   },
   "source": [
    "### OnLoad speeds"
   ]
  },
  {
   "cell_type": "markdown",
   "metadata": {
    "cell_id": "7e83a2e6-5d7d-40db-82f5-c16fc5eade3c",
    "deepnote_cell_type": "text-cell-p",
    "formattedRanges": [],
    "is_collapsed": false,
    "tags": []
   },
   "source": [
    "Seeing how fast pages load absolutely shocked me. The speed has literally not changed in 10 years. Let's visualize it. "
   ]
  },
  {
   "cell_type": "code",
   "execution_count": null,
   "metadata": {
    "cell_id": "67cad0cd3a754b00875643084945fe89",
    "deepnote_cell_height": 94,
    "deepnote_cell_type": "code",
    "deepnote_to_be_reexecuted": false,
    "execution_millis": 0,
    "execution_start": 1663222117723,
    "source_hash": "8b6be4b1",
    "tags": []
   },
   "outputs": [],
   "source": [
    "onload['date'] = pd.to_datetime(onload['date'])\n",
    "onload = onload.sort_values(by='date').reset_index(drop=True)"
   ]
  },
  {
   "cell_type": "code",
   "execution_count": null,
   "metadata": {
    "cell_id": "1416feddd90949b1bfc1a7b91c407d12",
    "deepnote_cell_height": 112.1875,
    "deepnote_cell_type": "code",
    "deepnote_to_be_reexecuted": false,
    "execution_millis": 8,
    "execution_start": 1663222561018,
    "source_hash": "a9d3d974",
    "tags": []
   },
   "outputs": [
    {
     "data": {
      "text/plain": [
       "(14714.15, 19418.85)"
      ]
     },
     "execution_count": 27,
     "metadata": {},
     "output_type": "execute_result"
    }
   ],
   "source": [
    "ax.get_xlim()"
   ]
  },
  {
   "cell_type": "code",
   "execution_count": null,
   "metadata": {
    "cell_id": "3c7f946ab05c4ad19c3e3ecac8c01bab",
    "deepnote_cell_height": 1245,
    "deepnote_cell_type": "code",
    "deepnote_output_heights": [
     608
    ],
    "deepnote_to_be_reexecuted": false,
    "execution_millis": 1762,
    "execution_start": 1663222742979,
    "source_hash": "dad7d19",
    "tags": []
   },
   "outputs": [
    {
     "data": {
      "image/png": "[encoded data removed]",
      "text/plain": [
       "<Figure size 2400x1650 with 1 Axes>"
      ]
     },
     "metadata": {
      "image/png": {
       "height": 1612,
       "width": 2163
      }
     },
     "output_type": "display_data"
    }
   ],
   "source": [
    "fig, ax = plt.subplots()\n",
    "ax.plot(onload['date'], onload['p50'])\n",
    "\n",
    "# Add in title and subtitle\n",
    "ax.set_title(\"\"\"Better technology, same great delay\"\"\")\n",
    "ax.text(x=.08, y=.86, \n",
    "        s=\"Median seconds until the entire webpage is loaded (onLoad event)\", \n",
    "        transform=fig.transFigure, \n",
    "        ha='left', \n",
    "        fontsize=20, \n",
    "        alpha=.8)\n",
    "\n",
    "ax.set_xlim(14914.15, 19418.85)\n",
    "ax.set_ylim(0, 15)\n",
    "\n",
    "# Set the logo\n",
    "logo = plt.imread('images/datafantic.png')\n",
    "imagebox = OffsetImage(logo, zoom=.22)\n",
    "ab = AnnotationBbox(imagebox, xy=(1,1.06), xycoords='axes fraction', box_alignment=(1,1), frameon = False)\n",
    "ax.add_artist(ab)\n",
    "\n",
    "# Set source text\n",
    "ax.text(x=0.08, y=0.0, \n",
    "        s=\"\"\"Source: httparchive.org\"\"\", \n",
    "        transform=fig.transFigure, \n",
    "        ha='left', \n",
    "        fontsize=12, \n",
    "        alpha=.7)\n",
    "\n",
    "# Export plot as high resolution PNG\n",
    "plt.savefig('images/onload.png')"
   ]
  },
  {
   "cell_type": "markdown",
   "metadata": {
    "cell_id": "d309d77a94e84f828d1be7cc44d0663a",
    "deepnote_cell_type": "text-cell-h3",
    "formattedRanges": [],
    "is_collapsed": false,
    "tags": []
   },
   "source": [
    "### WebPage Speed Index"
   ]
  },
  {
   "cell_type": "code",
   "execution_count": null,
   "metadata": {
    "cell_id": "4971e5027fb444ddbc15f69ad82ca7fb",
    "deepnote_cell_height": 426,
    "deepnote_cell_type": "code",
    "deepnote_to_be_reexecuted": false,
    "execution_millis": 31,
    "execution_start": 1663223377992,
    "source_hash": "40fde780",
    "tags": []
   },
   "outputs": [
    {
     "data": {
      "application/vnd.deepnote.dataframe.v3+json": {
       "column_count": 7,
       "columns": [
        {
         "dtype": "datetime64[ns]",
         "name": "date",
         "stats": {
          "histogram": [
           {
            "bin_end": 1451874240000000000,
            "bin_start": 1451606400000000000,
            "count": 2
           },
           {
            "bin_end": 1452142080000000000,
            "bin_start": 1451874240000000000,
            "count": 0
           },
           {
            "bin_end": 1452409920000000000,
            "bin_start": 1452142080000000000,
            "count": 0
           },
           {
            "bin_end": 1452677760000000000,
            "bin_start": 1452409920000000000,
            "count": 0
           },
           {
            "bin_end": 1452945600000000000,
            "bin_start": 1452677760000000000,
            "count": 2
           },
           {
            "bin_end": 1453213440000000000,
            "bin_start": 1452945600000000000,
            "count": 0
           },
           {
            "bin_end": 1453481280000000000,
            "bin_start": 1453213440000000000,
            "count": 0
           },
           {
            "bin_end": 1453749120000000000,
            "bin_start": 1453481280000000000,
            "count": 0
           },
           {
            "bin_end": 1454016960000000000,
            "bin_start": 1453749120000000000,
            "count": 0
           },
           {
            "bin_end": 1454284800000000000,
            "bin_start": 1454016960000000000,
            "count": 1
           }
          ],
          "max": "2016-02-01 00:00:00",
          "min": "2016-01-01 00:00:00",
          "nan_count": 0,
          "unique_count": 3
         }
        },
        {
         "dtype": "object",
         "name": "client",
         "stats": {
          "categories": [
           {
            "count": 3,
            "name": "desktop"
           },
           {
            "count": 2,
            "name": "mobile"
           }
          ],
          "nan_count": 0,
          "unique_count": 2
         }
        },
        {
         "dtype": "float64",
         "name": "p10",
         "stats": {
          "histogram": [
           {
            "bin_end": 1.81,
            "bin_start": 1.6,
            "count": 3
           },
           {
            "bin_end": 2.02,
            "bin_start": 1.81,
            "count": 0
           },
           {
            "bin_end": 2.2300000000000004,
            "bin_start": 2.02,
            "count": 0
           },
           {
            "bin_end": 2.4400000000000004,
            "bin_start": 2.2300000000000004,
            "count": 0
           },
           {
            "bin_end": 2.6500000000000004,
            "bin_start": 2.4400000000000004,
            "count": 0
           },
           {
            "bin_end": 2.8600000000000003,
            "bin_start": 2.6500000000000004,
            "count": 0
           },
           {
            "bin_end": 3.0700000000000003,
            "bin_start": 2.8600000000000003,
            "count": 0
           },
           {
            "bin_end": 3.2800000000000002,
            "bin_start": 3.0700000000000003,
            "count": 0
           },
           {
            "bin_end": 3.49,
            "bin_start": 3.2800000000000002,
            "count": 0
           },
           {
            "bin_end": 3.7,
            "bin_start": 3.49,
            "count": 2
           }
          ],
          "max": "3.7",
          "min": "1.6",
          "nan_count": 0,
          "unique_count": 2
         }
        },
        {
         "dtype": "float64",
         "name": "p25",
         "stats": {
          "histogram": [
           {
            "bin_end": 2.77,
            "bin_start": 2.5,
            "count": 3
           },
           {
            "bin_end": 3.04,
            "bin_start": 2.77,
            "count": 0
           },
           {
            "bin_end": 3.31,
            "bin_start": 3.04,
            "count": 0
           },
           {
            "bin_end": 3.58,
            "bin_start": 3.31,
            "count": 0
           },
           {
            "bin_end": 3.85,
            "bin_start": 3.58,
            "count": 0
           },
           {
            "bin_end": 4.12,
            "bin_start": 3.85,
            "count": 0
           },
           {
            "bin_end": 4.390000000000001,
            "bin_start": 4.12,
            "count": 0
           },
           {
            "bin_end": 4.66,
            "bin_start": 4.390000000000001,
            "count": 0
           },
           {
            "bin_end": 4.93,
            "bin_start": 4.66,
            "count": 0
           },
           {
            "bin_end": 5.2,
            "bin_start": 4.93,
            "count": 2
           }
          ],
          "max": "5.2",
          "min": "2.5",
          "nan_count": 0,
          "unique_count": 3
         }
        },
        {
         "dtype": "float64",
         "name": "p50",
         "stats": {
          "histogram": [
           {
            "bin_end": 4.27,
            "bin_start": 3.9,
            "count": 3
           },
           {
            "bin_end": 4.64,
            "bin_start": 4.27,
            "count": 0
           },
           {
            "bin_end": 5.01,
            "bin_start": 4.64,
            "count": 0
           },
           {
            "bin_end": 5.38,
            "bin_start": 5.01,
            "count": 0
           },
           {
            "bin_end": 5.75,
            "bin_start": 5.38,
            "count": 0
           },
           {
            "bin_end": 6.119999999999999,
            "bin_start": 5.75,
            "count": 0
           },
           {
            "bin_end": 6.49,
            "bin_start": 6.119999999999999,
            "count": 0
           },
           {
            "bin_end": 6.859999999999999,
            "bin_start": 6.49,
            "count": 0
           },
           {
            "bin_end": 7.23,
            "bin_start": 6.859999999999999,
            "count": 0
           },
           {
            "bin_end": 7.6,
            "bin_start": 7.23,
            "count": 2
           }
          ],
          "max": "7.6",
          "min": "3.9",
          "nan_count": 0,
          "unique_count": 2
         }
        },
        {
         "dtype": "float64",
         "name": "p75",
         "stats": {
          "histogram": [
           {
            "bin_end": 6.34,
            "bin_start": 5.8,
            "count": 3
           },
           {
            "bin_end": 6.88,
            "bin_start": 6.34,
            "count": 0
           },
           {
            "bin_end": 7.42,
            "bin_start": 6.88,
            "count": 0
           },
           {
            "bin_end": 7.959999999999999,
            "bin_start": 7.42,
            "count": 0
           },
           {
            "bin_end": 8.5,
            "bin_start": 7.959999999999999,
            "count": 0
           },
           {
            "bin_end": 9.04,
            "bin_start": 8.5,
            "count": 0
           },
           {
            "bin_end": 9.579999999999998,
            "bin_start": 9.04,
            "count": 0
           },
           {
            "bin_end": 10.12,
            "bin_start": 9.579999999999998,
            "count": 0
           },
           {
            "bin_end": 10.66,
            "bin_start": 10.12,
            "count": 0
           },
           {
            "bin_end": 11.2,
            "bin_start": 10.66,
            "count": 2
           }
          ],
          "max": "11.2",
          "min": "5.8",
          "nan_count": 0,
          "unique_count": 4
         }
        },
        {
         "dtype": "float64",
         "name": "p90",
         "stats": {
          "histogram": [
           {
            "bin_end": 9.32,
            "bin_start": 8.6,
            "count": 3
           },
           {
            "bin_end": 10.04,
            "bin_start": 9.32,
            "count": 0
           },
           {
            "bin_end": 10.76,
            "bin_start": 10.04,
            "count": 0
           },
           {
            "bin_end": 11.48,
            "bin_start": 10.76,
            "count": 0
           },
           {
            "bin_end": 12.2,
            "bin_start": 11.48,
            "count": 0
           },
           {
            "bin_end": 12.92,
            "bin_start": 12.2,
            "count": 0
           },
           {
            "bin_end": 13.64,
            "bin_start": 12.92,
            "count": 0
           },
           {
            "bin_end": 14.36,
            "bin_start": 13.64,
            "count": 0
           },
           {
            "bin_end": 15.08,
            "bin_start": 14.36,
            "count": 0
           },
           {
            "bin_end": 15.8,
            "bin_start": 15.08,
            "count": 2
           }
          ],
          "max": "15.8",
          "min": "8.6",
          "nan_count": 0,
          "unique_count": 4
         }
        },
        {
         "dtype": "int64",
         "name": "_deepnote_index_column"
        }
       ],
       "row_count": 5,
       "rows": [
        {
         "_deepnote_index_column": "0",
         "client": "mobile",
         "date": "2016-01-01 00:00:00",
         "p10": "3.7",
         "p25": "5.2",
         "p50": "7.6",
         "p75": "11.0",
         "p90": "15.1"
        },
        {
         "_deepnote_index_column": "1",
         "client": "desktop",
         "date": "2016-01-01 00:00:00",
         "p10": "1.6",
         "p25": "2.6",
         "p50": "3.9",
         "p75": "5.9",
         "p90": "8.8"
        },
        {
         "_deepnote_index_column": "2",
         "client": "desktop",
         "date": "2016-01-15 00:00:00",
         "p10": "1.6",
         "p25": "2.6",
         "p50": "3.9",
         "p75": "5.9",
         "p90": "8.8"
        },
        {
         "_deepnote_index_column": "3",
         "client": "mobile",
         "date": "2016-01-15 00:00:00",
         "p10": "3.7",
         "p25": "5.2",
         "p50": "7.6",
         "p75": "11.2",
         "p90": "15.8"
        },
        {
         "_deepnote_index_column": "4",
         "client": "desktop",
         "date": "2016-02-01 00:00:00",
         "p10": "1.6",
         "p25": "2.5",
         "p50": "3.9",
         "p75": "5.8",
         "p90": "8.6"
        }
       ]
      },
      "text/html": [
       "<div>\n",
       "<style scoped>\n",
       "    .dataframe tbody tr th:only-of-type {\n",
       "        vertical-align: middle;\n",
       "    }\n",
       "\n",
       "    .dataframe tbody tr th {\n",
       "        vertical-align: top;\n",
       "    }\n",
       "\n",
       "    .dataframe thead th {\n",
       "        text-align: right;\n",
       "    }\n",
       "</style>\n",
       "<table border=\"1\" class=\"dataframe\">\n",
       "  <thead>\n",
       "    <tr style=\"text-align: right;\">\n",
       "      <th></th>\n",
       "      <th>date</th>\n",
       "      <th>client</th>\n",
       "      <th>p10</th>\n",
       "      <th>p25</th>\n",
       "      <th>p50</th>\n",
       "      <th>p75</th>\n",
       "      <th>p90</th>\n",
       "    </tr>\n",
       "  </thead>\n",
       "  <tbody>\n",
       "    <tr>\n",
       "      <th>0</th>\n",
       "      <td>2016-01-01</td>\n",
       "      <td>mobile</td>\n",
       "      <td>3.7</td>\n",
       "      <td>5.2</td>\n",
       "      <td>7.6</td>\n",
       "      <td>11.0</td>\n",
       "      <td>15.1</td>\n",
       "    </tr>\n",
       "    <tr>\n",
       "      <th>1</th>\n",
       "      <td>2016-01-01</td>\n",
       "      <td>desktop</td>\n",
       "      <td>1.6</td>\n",
       "      <td>2.6</td>\n",
       "      <td>3.9</td>\n",
       "      <td>5.9</td>\n",
       "      <td>8.8</td>\n",
       "    </tr>\n",
       "    <tr>\n",
       "      <th>2</th>\n",
       "      <td>2016-01-15</td>\n",
       "      <td>desktop</td>\n",
       "      <td>1.6</td>\n",
       "      <td>2.6</td>\n",
       "      <td>3.9</td>\n",
       "      <td>5.9</td>\n",
       "      <td>8.8</td>\n",
       "    </tr>\n",
       "    <tr>\n",
       "      <th>3</th>\n",
       "      <td>2016-01-15</td>\n",
       "      <td>mobile</td>\n",
       "      <td>3.7</td>\n",
       "      <td>5.2</td>\n",
       "      <td>7.6</td>\n",
       "      <td>11.2</td>\n",
       "      <td>15.8</td>\n",
       "    </tr>\n",
       "    <tr>\n",
       "      <th>4</th>\n",
       "      <td>2016-02-01</td>\n",
       "      <td>desktop</td>\n",
       "      <td>1.6</td>\n",
       "      <td>2.5</td>\n",
       "      <td>3.9</td>\n",
       "      <td>5.8</td>\n",
       "      <td>8.6</td>\n",
       "    </tr>\n",
       "  </tbody>\n",
       "</table>\n",
       "</div>"
      ],
      "text/plain": [
       "        date   client  p10  p25  p50   p75   p90\n",
       "0 2016-01-01   mobile  3.7  5.2  7.6  11.0  15.1\n",
       "1 2016-01-01  desktop  1.6  2.6  3.9   5.9   8.8\n",
       "2 2016-01-15  desktop  1.6  2.6  3.9   5.9   8.8\n",
       "3 2016-01-15   mobile  3.7  5.2  7.6  11.2  15.8\n",
       "4 2016-02-01  desktop  1.6  2.5  3.9   5.8   8.6"
      ]
     },
     "execution_count": 41,
     "metadata": {},
     "output_type": "execute_result"
    }
   ],
   "source": [
    "webpage_speed['date'] = pd.to_datetime(webpage_speed['date'])\n",
    "webpage_speed = webpage_speed.sort_values(by='date').reset_index(drop=True)\n",
    "webpage_speed.head()"
   ]
  },
  {
   "cell_type": "markdown",
   "metadata": {
    "cell_id": "719f5ac583e343c895394a56b49585f8",
    "deepnote_cell_type": "text-cell-p",
    "formattedRanges": [],
    "is_collapsed": false,
    "tags": []
   },
   "source": [
    "The WebPage speed index is also available on httparchive.org and is a available from 2016-2022. "
   ]
  },
  {
   "cell_type": "code",
   "execution_count": null,
   "metadata": {
    "cell_id": "3cd709c9feab40c3a27ba70f8ba59265",
    "deepnote_cell_height": 1265,
    "deepnote_cell_type": "code",
    "deepnote_output_heights": [
     610
    ],
    "deepnote_to_be_reexecuted": false,
    "execution_millis": 1887,
    "execution_start": 1663224067431,
    "source_hash": "b9b18b32",
    "tags": []
   },
   "outputs": [
    {
     "data": {
      "image/png": "[encoded data removed]",
      "text/plain": [
       "<Figure size 2400x1650 with 1 Axes>"
      ]
     },
     "metadata": {
      "image/png": {
       "height": 1612,
       "width": 2169
      }
     },
     "output_type": "display_data"
    }
   ],
   "source": [
    "fig, ax = plt.subplots()\n",
    "ax.plot(webpage_speed[webpage_speed['client'] == 'desktop']['date'], \n",
    "        webpage_speed[webpage_speed['client'] == 'desktop']['p50'])\n",
    "\n",
    "# Add in title and subtitle\n",
    "ax.set_title(\"\"\"Frozen in time\"\"\")\n",
    "ax.text(x=.08, y=.86, \n",
    "        s=\"Median seconds until contents of page are visibly populated\", \n",
    "        transform=fig.transFigure, \n",
    "        ha='left', \n",
    "        fontsize=20, \n",
    "        alpha=.8)\n",
    "\n",
    "ax.set_xlim(16750, 19325.2)\n",
    "ax.set_ylim(0, 11)\n",
    "\n",
    "# Set the logo\n",
    "logo = plt.imread('images/datafantic.png')\n",
    "imagebox = OffsetImage(logo, zoom=.22)\n",
    "ab = AnnotationBbox(imagebox, xy=(1,1.06), xycoords='axes fraction', box_alignment=(1,1), frameon = False)\n",
    "ax.add_artist(ab)\n",
    "\n",
    "# Set source text\n",
    "ax.text(x=0.08, y=0.0, \n",
    "        s=\"\"\"Source: httparchive.org\"\"\", \n",
    "        transform=fig.transFigure, \n",
    "        ha='left', \n",
    "        fontsize=12, \n",
    "        alpha=.7)\n",
    "\n",
    "# Export plot as high resolution PNG\n",
    "plt.savefig('images/speed_index.png')"
   ]
  },
  {
   "cell_type": "markdown",
   "metadata": {
    "cell_id": "a052fc20054a42308006a88dd183e78b",
    "deepnote_cell_type": "text-cell-h2",
    "formattedRanges": [],
    "is_collapsed": false,
    "tags": []
   },
   "source": [
    "## What didn't work"
   ]
  },
  {
   "cell_type": "markdown",
   "metadata": {
    "cell_id": "e13897e702304af7816c26ab9e8c582e",
    "deepnote_cell_type": "text-cell-h3",
    "formattedRanges": [],
    "is_collapsed": false,
    "tags": []
   },
   "source": [
    "### Internet download speed over time"
   ]
  },
  {
   "cell_type": "markdown",
   "metadata": {
    "cell_id": "60a0aeb4-72f9-4c06-9e87-f850015f3a4e",
    "deepnote_cell_type": "text-cell-p",
    "formattedRanges": [],
    "is_collapsed": false,
    "tags": []
   },
   "source": [
    "Internet bandwidth per user has been exploding over time. So much so that it seems most international organizations don't even track it anymore. World Bank data stops in 2016. Let's use this data to visulalize the trend. "
   ]
  },
  {
   "cell_type": "code",
   "execution_count": null,
   "metadata": {
    "cell_id": "03083d54fac34f86852a9e433e6634a2",
    "deepnote_cell_height": 390,
    "deepnote_cell_type": "code",
    "deepnote_to_be_reexecuted": false,
    "execution_millis": 33,
    "execution_start": 1663221843356,
    "source_hash": "6d8e2aa6",
    "tags": []
   },
   "outputs": [
    {
     "data": {
      "application/vnd.deepnote.dataframe.v3+json": {
       "column_count": 11,
       "columns": [
        {
         "dtype": "object",
         "name": "name",
         "stats": {
          "categories": [
           {
            "count": 1,
            "name": "Afghanistan"
           },
           {
            "count": 1,
            "name": "Åland Islands"
           },
           {
            "count": 3,
            "name": "3 others"
           }
          ],
          "nan_count": 0,
          "unique_count": 5
         }
        },
        {
         "dtype": "object",
         "name": "alpha-2",
         "stats": {
          "categories": [
           {
            "count": 1,
            "name": "AF"
           },
           {
            "count": 1,
            "name": "AX"
           },
           {
            "count": 3,
            "name": "3 others"
           }
          ],
          "nan_count": 0,
          "unique_count": 5
         }
        },
        {
         "dtype": "object",
         "name": "alpha-3",
         "stats": {
          "categories": [
           {
            "count": 1,
            "name": "AFG"
           },
           {
            "count": 1,
            "name": "ALA"
           },
           {
            "count": 3,
            "name": "3 others"
           }
          ],
          "nan_count": 0,
          "unique_count": 5
         }
        },
        {
         "dtype": "int64",
         "name": "country-code",
         "stats": {
          "histogram": [
           {
            "bin_end": 28.4,
            "bin_start": 4,
            "count": 4
           },
           {
            "bin_end": 52.8,
            "bin_start": 28.4,
            "count": 0
           },
           {
            "bin_end": 77.19999999999999,
            "bin_start": 52.8,
            "count": 0
           },
           {
            "bin_end": 101.6,
            "bin_start": 77.19999999999999,
            "count": 0
           },
           {
            "bin_end": 126,
            "bin_start": 101.6,
            "count": 0
           },
           {
            "bin_end": 150.39999999999998,
            "bin_start": 126,
            "count": 0
           },
           {
            "bin_end": 174.79999999999998,
            "bin_start": 150.39999999999998,
            "count": 0
           },
           {
            "bin_end": 199.2,
            "bin_start": 174.79999999999998,
            "count": 0
           },
           {
            "bin_end": 223.6,
            "bin_start": 199.2,
            "count": 0
           },
           {
            "bin_end": 248,
            "bin_start": 223.6,
            "count": 1
           }
          ],
          "max": "248",
          "min": "4",
          "nan_count": 0,
          "unique_count": 5
         }
        },
        {
         "dtype": "object",
         "name": "iso_3166-2",
         "stats": {
          "categories": [
           {
            "count": 1,
            "name": "ISO 3166-2:AF"
           },
           {
            "count": 1,
            "name": "ISO 3166-2:AX"
           },
           {
            "count": 3,
            "name": "3 others"
           }
          ],
          "nan_count": 0,
          "unique_count": 5
         }
        },
        {
         "dtype": "object",
         "name": "region",
         "stats": {
          "categories": [
           {
            "count": 2,
            "name": "Europe"
           },
           {
            "count": 1,
            "name": "Asia"
           },
           {
            "count": 2,
            "name": "2 others"
           }
          ],
          "nan_count": 0,
          "unique_count": 4
         }
        },
        {
         "dtype": "object",
         "name": "sub-region",
         "stats": {
          "categories": [
           {
            "count": 1,
            "name": "Southern Asia"
           },
           {
            "count": 1,
            "name": "Northern Europe"
           },
           {
            "count": 3,
            "name": "3 others"
           }
          ],
          "nan_count": 0,
          "unique_count": 5
         }
        },
        {
         "dtype": "object",
         "name": "intermediate-region",
         "stats": {
          "categories": [
           {
            "count": 5,
            "name": "Missing"
           }
          ],
          "nan_count": 5,
          "unique_count": 0
         }
        },
        {
         "dtype": "float64",
         "name": "region-code",
         "stats": {
          "histogram": [
           {
            "bin_end": 16.8,
            "bin_start": 2,
            "count": 2
           },
           {
            "bin_end": 31.6,
            "bin_start": 16.8,
            "count": 0
           },
           {
            "bin_end": 46.400000000000006,
            "bin_start": 31.6,
            "count": 0
           },
           {
            "bin_end": 61.2,
            "bin_start": 46.400000000000006,
            "count": 0
           },
           {
            "bin_end": 76,
            "bin_start": 61.2,
            "count": 0
           },
           {
            "bin_end": 90.80000000000001,
            "bin_start": 76,
            "count": 0
           },
           {
            "bin_end": 105.60000000000001,
            "bin_start": 90.80000000000001,
            "count": 0
           },
           {
            "bin_end": 120.4,
            "bin_start": 105.60000000000001,
            "count": 0
           },
           {
            "bin_end": 135.20000000000002,
            "bin_start": 120.4,
            "count": 0
           },
           {
            "bin_end": 150,
            "bin_start": 135.20000000000002,
            "count": 3
           }
          ],
          "max": "150.0",
          "min": "2.0",
          "nan_count": 0,
          "unique_count": 4
         }
        },
        {
         "dtype": "float64",
         "name": "sub-region-code",
         "stats": {
          "histogram": [
           {
            "bin_end": 28.9,
            "bin_start": 15,
            "count": 1
           },
           {
            "bin_end": 42.8,
            "bin_start": 28.9,
            "count": 2
           },
           {
            "bin_end": 56.7,
            "bin_start": 42.8,
            "count": 0
           },
           {
            "bin_end": 70.6,
            "bin_start": 56.7,
            "count": 1
           },
           {
            "bin_end": 84.5,
            "bin_start": 70.6,
            "count": 0
           },
           {
            "bin_end": 98.4,
            "bin_start": 84.5,
            "count": 0
           },
           {
            "bin_end": 112.3,
            "bin_start": 98.4,
            "count": 0
           },
           {
            "bin_end": 126.2,
            "bin_start": 112.3,
            "count": 0
           },
           {
            "bin_end": 140.10000000000002,
            "bin_start": 126.2,
            "count": 0
           },
           {
            "bin_end": 154,
            "bin_start": 140.10000000000002,
            "count": 1
           }
          ],
          "max": "154.0",
          "min": "15.0",
          "nan_count": 0,
          "unique_count": 5
         }
        },
        {
         "dtype": "float64",
         "name": "intermediate-region-code",
         "stats": {
          "histogram": [
           {
            "bin_end": 0.1,
            "bin_start": 0,
            "count": 0
           },
           {
            "bin_end": 0.2,
            "bin_start": 0.1,
            "count": 0
           },
           {
            "bin_end": 0.30000000000000004,
            "bin_start": 0.2,
            "count": 0
           },
           {
            "bin_end": 0.4,
            "bin_start": 0.30000000000000004,
            "count": 0
           },
           {
            "bin_end": 0.5,
            "bin_start": 0.4,
            "count": 0
           },
           {
            "bin_end": 0.6000000000000001,
            "bin_start": 0.5,
            "count": 0
           },
           {
            "bin_end": 0.7000000000000001,
            "bin_start": 0.6000000000000001,
            "count": 0
           },
           {
            "bin_end": 0.8,
            "bin_start": 0.7000000000000001,
            "count": 0
           },
           {
            "bin_end": 0.9,
            "bin_start": 0.8,
            "count": 0
           },
           {
            "bin_end": 1,
            "bin_start": 0.9,
            "count": 0
           }
          ],
          "max": null,
          "min": null,
          "nan_count": 5,
          "unique_count": 0
         }
        },
        {
         "dtype": "int64",
         "name": "_deepnote_index_column"
        }
       ],
       "row_count": 5,
       "rows": [
        {
         "_deepnote_index_column": "0",
         "alpha-2": "AF",
         "alpha-3": "AFG",
         "country-code": "4",
         "intermediate-region": "nan",
         "intermediate-region-code": "nan",
         "iso_3166-2": "ISO 3166-2:AF",
         "name": "Afghanistan",
         "region": "Asia",
         "region-code": "142.0",
         "sub-region": "Southern Asia",
         "sub-region-code": "34.0"
        },
        {
         "_deepnote_index_column": "1",
         "alpha-2": "AX",
         "alpha-3": "ALA",
         "country-code": "248",
         "intermediate-region": "nan",
         "intermediate-region-code": "nan",
         "iso_3166-2": "ISO 3166-2:AX",
         "name": "Åland Islands",
         "region": "Europe",
         "region-code": "150.0",
         "sub-region": "Northern Europe",
         "sub-region-code": "154.0"
        },
        {
         "_deepnote_index_column": "2",
         "alpha-2": "AL",
         "alpha-3": "ALB",
         "country-code": "8",
         "intermediate-region": "nan",
         "intermediate-region-code": "nan",
         "iso_3166-2": "ISO 3166-2:AL",
         "name": "Albania",
         "region": "Europe",
         "region-code": "150.0",
         "sub-region": "Southern Europe",
         "sub-region-code": "39.0"
        },
        {
         "_deepnote_index_column": "3",
         "alpha-2": "DZ",
         "alpha-3": "DZA",
         "country-code": "12",
         "intermediate-region": "nan",
         "intermediate-region-code": "nan",
         "iso_3166-2": "ISO 3166-2:DZ",
         "name": "Algeria",
         "region": "Africa",
         "region-code": "2.0",
         "sub-region": "Northern Africa",
         "sub-region-code": "15.0"
        },
        {
         "_deepnote_index_column": "4",
         "alpha-2": "AS",
         "alpha-3": "ASM",
         "country-code": "16",
         "intermediate-region": "nan",
         "intermediate-region-code": "nan",
         "iso_3166-2": "ISO 3166-2:AS",
         "name": "American Samoa",
         "region": "Oceania",
         "region-code": "9.0",
         "sub-region": "Polynesia",
         "sub-region-code": "61.0"
        }
       ]
      },
      "text/html": [
       "<div>\n",
       "<style scoped>\n",
       "    .dataframe tbody tr th:only-of-type {\n",
       "        vertical-align: middle;\n",
       "    }\n",
       "\n",
       "    .dataframe tbody tr th {\n",
       "        vertical-align: top;\n",
       "    }\n",
       "\n",
       "    .dataframe thead th {\n",
       "        text-align: right;\n",
       "    }\n",
       "</style>\n",
       "<table border=\"1\" class=\"dataframe\">\n",
       "  <thead>\n",
       "    <tr style=\"text-align: right;\">\n",
       "      <th></th>\n",
       "      <th>name</th>\n",
       "      <th>alpha-2</th>\n",
       "      <th>alpha-3</th>\n",
       "      <th>country-code</th>\n",
       "      <th>iso_3166-2</th>\n",
       "      <th>region</th>\n",
       "      <th>sub-region</th>\n",
       "      <th>intermediate-region</th>\n",
       "      <th>region-code</th>\n",
       "      <th>sub-region-code</th>\n",
       "      <th>intermediate-region-code</th>\n",
       "    </tr>\n",
       "  </thead>\n",
       "  <tbody>\n",
       "    <tr>\n",
       "      <th>0</th>\n",
       "      <td>Afghanistan</td>\n",
       "      <td>AF</td>\n",
       "      <td>AFG</td>\n",
       "      <td>4</td>\n",
       "      <td>ISO 3166-2:AF</td>\n",
       "      <td>Asia</td>\n",
       "      <td>Southern Asia</td>\n",
       "      <td>NaN</td>\n",
       "      <td>142.0</td>\n",
       "      <td>34.0</td>\n",
       "      <td>NaN</td>\n",
       "    </tr>\n",
       "    <tr>\n",
       "      <th>1</th>\n",
       "      <td>Åland Islands</td>\n",
       "      <td>AX</td>\n",
       "      <td>ALA</td>\n",
       "      <td>248</td>\n",
       "      <td>ISO 3166-2:AX</td>\n",
       "      <td>Europe</td>\n",
       "      <td>Northern Europe</td>\n",
       "      <td>NaN</td>\n",
       "      <td>150.0</td>\n",
       "      <td>154.0</td>\n",
       "      <td>NaN</td>\n",
       "    </tr>\n",
       "    <tr>\n",
       "      <th>2</th>\n",
       "      <td>Albania</td>\n",
       "      <td>AL</td>\n",
       "      <td>ALB</td>\n",
       "      <td>8</td>\n",
       "      <td>ISO 3166-2:AL</td>\n",
       "      <td>Europe</td>\n",
       "      <td>Southern Europe</td>\n",
       "      <td>NaN</td>\n",
       "      <td>150.0</td>\n",
       "      <td>39.0</td>\n",
       "      <td>NaN</td>\n",
       "    </tr>\n",
       "    <tr>\n",
       "      <th>3</th>\n",
       "      <td>Algeria</td>\n",
       "      <td>DZ</td>\n",
       "      <td>DZA</td>\n",
       "      <td>12</td>\n",
       "      <td>ISO 3166-2:DZ</td>\n",
       "      <td>Africa</td>\n",
       "      <td>Northern Africa</td>\n",
       "      <td>NaN</td>\n",
       "      <td>2.0</td>\n",
       "      <td>15.0</td>\n",
       "      <td>NaN</td>\n",
       "    </tr>\n",
       "    <tr>\n",
       "      <th>4</th>\n",
       "      <td>American Samoa</td>\n",
       "      <td>AS</td>\n",
       "      <td>ASM</td>\n",
       "      <td>16</td>\n",
       "      <td>ISO 3166-2:AS</td>\n",
       "      <td>Oceania</td>\n",
       "      <td>Polynesia</td>\n",
       "      <td>NaN</td>\n",
       "      <td>9.0</td>\n",
       "      <td>61.0</td>\n",
       "      <td>NaN</td>\n",
       "    </tr>\n",
       "  </tbody>\n",
       "</table>\n",
       "</div>"
      ],
      "text/plain": [
       "             name alpha-2 alpha-3  country-code     iso_3166-2   region  \\\n",
       "0     Afghanistan      AF     AFG             4  ISO 3166-2:AF     Asia   \n",
       "1   Åland Islands      AX     ALA           248  ISO 3166-2:AX   Europe   \n",
       "2         Albania      AL     ALB             8  ISO 3166-2:AL   Europe   \n",
       "3         Algeria      DZ     DZA            12  ISO 3166-2:DZ   Africa   \n",
       "4  American Samoa      AS     ASM            16  ISO 3166-2:AS  Oceania   \n",
       "\n",
       "        sub-region intermediate-region  region-code  sub-region-code  \\\n",
       "0    Southern Asia                 NaN        142.0             34.0   \n",
       "1  Northern Europe                 NaN        150.0            154.0   \n",
       "2  Southern Europe                 NaN        150.0             39.0   \n",
       "3  Northern Africa                 NaN          2.0             15.0   \n",
       "4        Polynesia                 NaN          9.0             61.0   \n",
       "\n",
       "   intermediate-region-code  \n",
       "0                       NaN  \n",
       "1                       NaN  \n",
       "2                       NaN  \n",
       "3                       NaN  \n",
       "4                       NaN  "
      ]
     },
     "execution_count": 7,
     "metadata": {},
     "output_type": "execute_result"
    }
   ],
   "source": [
    "countries.head()"
   ]
  },
  {
   "cell_type": "code",
   "execution_count": null,
   "metadata": {
    "cell_id": "674d02d337094f80b818bc45fb1b44ff",
    "deepnote_cell_height": 521,
    "deepnote_cell_type": "code",
    "deepnote_to_be_reexecuted": false,
    "execution_millis": 6,
    "execution_start": 1663221843409,
    "source_hash": "5e52a924",
    "tags": []
   },
   "outputs": [
    {
     "data": {
      "application/vnd.deepnote.dataframe.v3+json": {
       "column_count": 4,
       "columns": [
        {
         "dtype": "object",
         "name": "Country Name",
         "stats": {
          "categories": [
           {
            "count": 1,
            "name": "Angola"
           },
           {
            "count": 1,
            "name": "Albania"
           },
           {
            "count": 3,
            "name": "3 others"
           }
          ],
          "nan_count": 0,
          "unique_count": 5
         }
        },
        {
         "dtype": "object",
         "name": "year",
         "stats": {
          "categories": [
           {
            "count": 5,
            "name": "2012"
           }
          ],
          "nan_count": 0,
          "unique_count": 1
         }
        },
        {
         "dtype": "float64",
         "name": "kbps",
         "stats": {
          "histogram": [
           {
            "bin_end": 3.3154137951,
            "bin_start": 0.628867799,
            "count": 1
           },
           {
            "bin_end": 6.0019597912,
            "bin_start": 3.3154137951,
            "count": 0
           },
           {
            "bin_end": 8.6885057873,
            "bin_start": 6.0019597912,
            "count": 1
           },
           {
            "bin_end": 11.3750517834,
            "bin_start": 8.6885057873,
            "count": 0
           },
           {
            "bin_end": 14.0615977795,
            "bin_start": 11.3750517834,
            "count": 1
           },
           {
            "bin_end": 16.7481437756,
            "bin_start": 14.0615977795,
            "count": 0
           },
           {
            "bin_end": 19.4346897717,
            "bin_start": 16.7481437756,
            "count": 1
           },
           {
            "bin_end": 22.121235767800002,
            "bin_start": 19.4346897717,
            "count": 0
           },
           {
            "bin_end": 24.807781763900003,
            "bin_start": 22.121235767800002,
            "count": 0
           },
           {
            "bin_end": 27.49432776,
            "bin_start": 24.807781763900003,
            "count": 1
           }
          ],
          "max": "27.49432776",
          "min": "0.628867799",
          "nan_count": 0,
          "unique_count": 5
         }
        },
        {
         "dtype": "object",
         "name": "region",
         "stats": {
          "categories": [
           {
            "count": 2,
            "name": "Asia"
           },
           {
            "count": 1,
            "name": "Africa"
           },
           {
            "count": 2,
            "name": "2 others"
           }
          ],
          "nan_count": 0,
          "unique_count": 4
         }
        },
        {
         "dtype": "int64",
         "name": "_deepnote_index_column"
        }
       ],
       "row_count": 5,
       "rows": [
        {
         "Country Name": "Angola",
         "_deepnote_index_column": "0",
         "kbps": "0.628867799",
         "region": "Africa",
         "year": "2012"
        },
        {
         "Country Name": "Albania",
         "_deepnote_index_column": "1",
         "kbps": "11.789772",
         "region": "Europe",
         "year": "2012"
        },
        {
         "Country Name": "United Arab Emirates",
         "_deepnote_index_column": "2",
         "kbps": "17.93785283",
         "region": "Asia",
         "year": "2012"
        },
        {
         "Country Name": "Argentina",
         "_deepnote_index_column": "3",
         "kbps": "27.49432776",
         "region": "Americas",
         "year": "2012"
        },
        {
         "Country Name": "Armenia",
         "_deepnote_index_column": "4",
         "kbps": "7.752230396",
         "region": "Asia",
         "year": "2012"
        }
       ]
      },
      "text/html": [
       "<div>\n",
       "<style scoped>\n",
       "    .dataframe tbody tr th:only-of-type {\n",
       "        vertical-align: middle;\n",
       "    }\n",
       "\n",
       "    .dataframe tbody tr th {\n",
       "        vertical-align: top;\n",
       "    }\n",
       "\n",
       "    .dataframe thead th {\n",
       "        text-align: right;\n",
       "    }\n",
       "</style>\n",
       "<table border=\"1\" class=\"dataframe\">\n",
       "  <thead>\n",
       "    <tr style=\"text-align: right;\">\n",
       "      <th></th>\n",
       "      <th>Country Name</th>\n",
       "      <th>year</th>\n",
       "      <th>kbps</th>\n",
       "      <th>region</th>\n",
       "    </tr>\n",
       "  </thead>\n",
       "  <tbody>\n",
       "    <tr>\n",
       "      <th>0</th>\n",
       "      <td>Angola</td>\n",
       "      <td>2012</td>\n",
       "      <td>0.628868</td>\n",
       "      <td>Africa</td>\n",
       "    </tr>\n",
       "    <tr>\n",
       "      <th>1</th>\n",
       "      <td>Albania</td>\n",
       "      <td>2012</td>\n",
       "      <td>11.789772</td>\n",
       "      <td>Europe</td>\n",
       "    </tr>\n",
       "    <tr>\n",
       "      <th>2</th>\n",
       "      <td>United Arab Emirates</td>\n",
       "      <td>2012</td>\n",
       "      <td>17.937853</td>\n",
       "      <td>Asia</td>\n",
       "    </tr>\n",
       "    <tr>\n",
       "      <th>3</th>\n",
       "      <td>Argentina</td>\n",
       "      <td>2012</td>\n",
       "      <td>27.494328</td>\n",
       "      <td>Americas</td>\n",
       "    </tr>\n",
       "    <tr>\n",
       "      <th>4</th>\n",
       "      <td>Armenia</td>\n",
       "      <td>2012</td>\n",
       "      <td>7.752230</td>\n",
       "      <td>Asia</td>\n",
       "    </tr>\n",
       "  </tbody>\n",
       "</table>\n",
       "</div>"
      ],
      "text/plain": [
       "           Country Name  year       kbps    region\n",
       "0                Angola  2012   0.628868    Africa\n",
       "1               Albania  2012  11.789772    Europe\n",
       "2  United Arab Emirates  2012  17.937853      Asia\n",
       "3             Argentina  2012  27.494328  Americas\n",
       "4               Armenia  2012   7.752230      Asia"
      ]
     },
     "execution_count": 8,
     "metadata": {},
     "output_type": "execute_result"
    }
   ],
   "source": [
    "bandwidth = (bandwidth.melt(id_vars=['Country ISO3','Country Name','Indicator Id', 'Indicator','Subindicator Type'], \n",
    "                            value_vars=['2012','2013','2014','2015','2016'], \n",
    "                            var_name='year',\n",
    "                            value_name='kbps')\n",
    "                      .drop(columns=['Indicator Id', 'Indicator', 'Subindicator Type'])\n",
    "                      .merge(countries[['alpha-3','region']], how='left', left_on='Country ISO3', right_on='alpha-3')\n",
    "                      .drop(columns=['Country ISO3', 'alpha-3']))\n",
    "bandwidth.head()"
   ]
  },
  {
   "cell_type": "code",
   "execution_count": null,
   "metadata": {
    "cell_id": "3e3124eb5c854ea3b35f2c83a0536816",
    "deepnote_cell_height": 688.046875,
    "deepnote_cell_type": "code",
    "deepnote_to_be_reexecuted": false,
    "execution_millis": 11,
    "execution_start": 1663221843459,
    "source_hash": "91918764",
    "tags": []
   },
   "outputs": [
    {
     "data": {
      "text/plain": [
       "array(['Angola', 'Albania', 'United Arab Emirates', 'Argentina',\n",
       "       'Armenia', 'Australia', 'Austria', 'Azerbaijan', 'Burundi',\n",
       "       'Belgium', 'Benin', 'Burkina Faso', 'Bangladesh', 'Bulgaria',\n",
       "       'Bahrain', 'Bosnia and Herzegovina', 'Belize', 'Bolivia', 'Brazil',\n",
       "       'Barbados', 'Brunei Darussalam', 'Bhutan', 'Botswana', 'Canada',\n",
       "       'Switzerland', 'Chile', 'China', \"Cote d'Ivoire\", 'Cameroon',\n",
       "       'Colombia', 'Cabo Verde', 'Costa Rica', 'Cyprus', 'Czech Republic',\n",
       "       'Germany', 'Denmark', 'Dominican Republic', 'Algeria', 'Ecuador',\n",
       "       'Egypt, Arab Rep.', 'Spain', 'Estonia', 'Ethiopia', 'Finland',\n",
       "       'France', 'Gabon', 'United Kingdom', 'Georgia', 'Ghana', 'Guinea',\n",
       "       'Gambia, The', 'Greece', 'Guatemala', 'Guyana',\n",
       "       'Hong Kong SAR, China', 'Honduras', 'Croatia', 'Haiti', 'Hungary',\n",
       "       'Indonesia', 'India', 'Ireland', 'Iran, Islamic Rep.', 'Iceland',\n",
       "       'Israel', 'Italy', 'Jamaica', 'Jordan', 'Japan', 'Kazakhstan',\n",
       "       'Kenya', 'Kyrgyz Republic', 'Cambodia', 'Korea, Rep.', 'Kuwait',\n",
       "       'Lao PDR', 'Lebanon', 'Liberia', 'Libya', 'Sri Lanka', 'Lesotho',\n",
       "       'Lithuania', 'Luxembourg', 'Latvia', 'Morocco', 'Moldova',\n",
       "       'Madagascar', 'Mexico', 'Macedonia, FYR', 'Mali', 'Malta',\n",
       "       'Myanmar', 'Montenegro', 'Mongolia', 'Mozambique', 'Mauritania',\n",
       "       'Mauritius', 'Malawi', 'Malaysia', 'Namibia', 'Nigeria',\n",
       "       'Nicaragua', 'Netherlands', 'Norway', 'Nepal', 'New Zealand',\n",
       "       'Oman', 'Pakistan', 'Panama', 'Peru', 'Philippines', 'Poland',\n",
       "       'Puerto Rico', 'Portugal', 'Paraguay', 'Qatar', 'Romania',\n",
       "       'Russian Federation', 'Rwanda', 'Saudi Arabia', 'Senegal',\n",
       "       'Singapore', 'Sierra Leone', 'El Salvador', 'Serbia', 'Suriname',\n",
       "       'Slovak Republic', 'Slovenia', 'Sweden', 'Swaziland', 'Seychelles',\n",
       "       'Syrian Arab Republic', 'Chad', 'Thailand', 'Tajikistan',\n",
       "       'Timor-Leste', 'Trinidad and Tobago', 'Tunisia', 'Turkey',\n",
       "       'Tanzania', 'Uganda', 'Ukraine', 'Uruguay', 'United States',\n",
       "       'Venezuela, RB', 'Vietnam', 'Yemen, Rep.', 'South Africa',\n",
       "       'Zambia', 'Zimbabwe'], dtype=object)"
      ]
     },
     "execution_count": 9,
     "metadata": {},
     "output_type": "execute_result"
    }
   ],
   "source": [
    "bandwidth['Country Name'].unique()"
   ]
  },
  {
   "cell_type": "code",
   "execution_count": null,
   "metadata": {
    "cell_id": "809a4b624ffc42b08ac00af749db6f1c",
    "deepnote_cell_height": 1278.1875,
    "deepnote_cell_type": "code",
    "deepnote_output_heights": [
     null,
     608
    ],
    "deepnote_to_be_reexecuted": false,
    "execution_millis": 934,
    "execution_start": 1663221913967,
    "source_hash": "6ad78f81",
    "tags": []
   },
   "outputs": [
    {
     "data": {
      "text/plain": [
       "Text(0.08, 0.0, 'Source: World Bank')"
      ]
     },
     "execution_count": 17,
     "metadata": {},
     "output_type": "execute_result"
    },
    {
     "data": {
      "image/png": "[encoded data removed]",
      "text/plain": [
       "<Figure size 2400x1650 with 1 Axes>"
      ]
     },
     "metadata": {
      "image/png": {
       "height": 1612,
       "width": 2163
      }
     },
     "output_type": "display_data"
    }
   ],
   "source": [
    "fig, ax = plt.subplots()\n",
    "\n",
    "for country in bandwidth['Country Name'].unique():\n",
    "    country_df = bandwidth[bandwidth['Country Name'] == country]\n",
    "    ax.plot(country_df['year'], country_df['kbps'], linewidth=1, color='grey')\n",
    "\n",
    "ax.set_ylim(0, 7800)\n",
    "\n",
    "# Add in title and subtitle\n",
    "ax.set_title(\"\"\"Baby got bandwidth\"\"\")\n",
    "ax.text(x=.08, y=.86, \n",
    "        s=\"International bandwidth per user, in kilobits per second (Kbps).\", \n",
    "        transform=fig.transFigure, \n",
    "        ha='left', \n",
    "        fontsize=20, \n",
    "        alpha=.8)\n",
    "\n",
    "# Set the logo\n",
    "logo = plt.imread('images/datafantic.png')\n",
    "imagebox = OffsetImage(logo, zoom=.22)\n",
    "ab = AnnotationBbox(imagebox, xy=(1,1.06), xycoords='axes fraction', box_alignment=(1,1), frameon = False)\n",
    "ax.add_artist(ab)\n",
    "\n",
    "# Set source text\n",
    "ax.text(x=0.08, y=0.0, \n",
    "        s=\"\"\"Source: World Bank\"\"\", \n",
    "        transform=fig.transFigure, \n",
    "        ha='left', \n",
    "        fontsize=12, \n",
    "        alpha=.7)"
   ]
  },
  {
   "cell_type": "markdown",
   "metadata": {
    "cell_id": "f246407e11d74ce69a591da98cfd7fe6",
    "deepnote_cell_type": "text-cell-p",
    "formattedRanges": [],
    "is_collapsed": false,
    "tags": []
   },
   "source": [
    "Plotting by country is too busy and doesn't tell a great story. Let's try to group by median per year."
   ]
  },
  {
   "cell_type": "code",
   "execution_count": null,
   "metadata": {
    "cell_id": "66589968c003442d97cc3de70c639673",
    "deepnote_cell_height": 76,
    "deepnote_cell_type": "code",
    "deepnote_to_be_reexecuted": false,
    "execution_millis": 19,
    "execution_start": 1663221844363,
    "source_hash": "88604f84",
    "tags": []
   },
   "outputs": [],
   "source": [
    "median_bandwidth = bandwidth.groupby(by=['year','region']).median().reset_index()"
   ]
  },
  {
   "cell_type": "code",
   "execution_count": null,
   "metadata": {
    "cell_id": "8cc7ec07ab094d14a861bb0b0163c496",
    "deepnote_cell_height": 595,
    "deepnote_cell_type": "code",
    "deepnote_to_be_reexecuted": false,
    "execution_millis": 96,
    "execution_start": 1663221844394,
    "source_hash": "522a9b03",
    "tags": []
   },
   "outputs": [
    {
     "data": {
      "application/vnd.deepnote.dataframe.v3+json": {
       "column_count": 3,
       "columns": [
        {
         "dtype": "object",
         "name": "year",
         "stats": {
          "categories": [
           {
            "count": 5,
            "name": "2012"
           },
           {
            "count": 5,
            "name": "2013"
           },
           {
            "count": 15,
            "name": "3 others"
           }
          ],
          "nan_count": 0,
          "unique_count": 5
         }
        },
        {
         "dtype": "object",
         "name": "region",
         "stats": {
          "categories": [
           {
            "count": 5,
            "name": "Africa"
           },
           {
            "count": 5,
            "name": "Americas"
           },
           {
            "count": 15,
            "name": "3 others"
           }
          ],
          "nan_count": 0,
          "unique_count": 5
         }
        },
        {
         "dtype": "float64",
         "name": "kbps",
         "stats": {
          "histogram": [
           {
            "bin_end": 13.534642289,
            "bin_start": 1.7908419599999998,
            "count": 7
           },
           {
            "bin_end": 25.278442618,
            "bin_start": 13.534642289,
            "count": 5
           },
           {
            "bin_end": 37.022242947,
            "bin_start": 25.278442618,
            "count": 3
           },
           {
            "bin_end": 48.766043276000005,
            "bin_start": 37.022242947,
            "count": 2
           },
           {
            "bin_end": 60.50984360500001,
            "bin_start": 48.766043276000005,
            "count": 2
           },
           {
            "bin_end": 72.253643934,
            "bin_start": 60.50984360500001,
            "count": 1
           },
           {
            "bin_end": 83.997444263,
            "bin_start": 72.253643934,
            "count": 1
           },
           {
            "bin_end": 95.741244592,
            "bin_start": 83.997444263,
            "count": 2
           },
           {
            "bin_end": 107.485044921,
            "bin_start": 95.741244592,
            "count": 0
           },
           {
            "bin_end": 119.22884525,
            "bin_start": 107.485044921,
            "count": 2
           }
          ],
          "max": "119.22884525",
          "min": "1.7908419599999998",
          "nan_count": 0,
          "unique_count": 25
         }
        },
        {
         "dtype": "int64",
         "name": "_deepnote_index_column"
        }
       ],
       "row_count": 25,
       "rows": [
        {
         "_deepnote_index_column": "0",
         "kbps": "1.7908419599999998",
         "region": "Africa",
         "year": "2012"
        },
        {
         "_deepnote_index_column": "1",
         "kbps": "10.21907604",
         "region": "Americas",
         "year": "2012"
        },
        {
         "_deepnote_index_column": "2",
         "kbps": "9.552923286",
         "region": "Asia",
         "year": "2012"
        },
        {
         "_deepnote_index_column": "3",
         "kbps": "62.79417246",
         "region": "Europe",
         "year": "2012"
        },
        {
         "_deepnote_index_column": "4",
         "kbps": "30.334424600000002",
         "region": "Oceania",
         "year": "2012"
        },
        {
         "_deepnote_index_column": "5",
         "kbps": "3.406622606",
         "region": "Africa",
         "year": "2013"
        },
        {
         "_deepnote_index_column": "6",
         "kbps": "16.79568623",
         "region": "Americas",
         "year": "2013"
        },
        {
         "_deepnote_index_column": "7",
         "kbps": "14.124250459999999",
         "region": "Asia",
         "year": "2013"
        },
        {
         "_deepnote_index_column": "8",
         "kbps": "72.67893835",
         "region": "Europe",
         "year": "2013"
        },
        {
         "_deepnote_index_column": "9",
         "kbps": "37.051137065",
         "region": "Oceania",
         "year": "2013"
        }
       ]
      },
      "text/html": [
       "<div>\n",
       "<style scoped>\n",
       "    .dataframe tbody tr th:only-of-type {\n",
       "        vertical-align: middle;\n",
       "    }\n",
       "\n",
       "    .dataframe tbody tr th {\n",
       "        vertical-align: top;\n",
       "    }\n",
       "\n",
       "    .dataframe thead th {\n",
       "        text-align: right;\n",
       "    }\n",
       "</style>\n",
       "<table border=\"1\" class=\"dataframe\">\n",
       "  <thead>\n",
       "    <tr style=\"text-align: right;\">\n",
       "      <th></th>\n",
       "      <th>year</th>\n",
       "      <th>region</th>\n",
       "      <th>kbps</th>\n",
       "    </tr>\n",
       "  </thead>\n",
       "  <tbody>\n",
       "    <tr>\n",
       "      <th>0</th>\n",
       "      <td>2012</td>\n",
       "      <td>Africa</td>\n",
       "      <td>1.790842</td>\n",
       "    </tr>\n",
       "    <tr>\n",
       "      <th>1</th>\n",
       "      <td>2012</td>\n",
       "      <td>Americas</td>\n",
       "      <td>10.219076</td>\n",
       "    </tr>\n",
       "    <tr>\n",
       "      <th>2</th>\n",
       "      <td>2012</td>\n",
       "      <td>Asia</td>\n",
       "      <td>9.552923</td>\n",
       "    </tr>\n",
       "    <tr>\n",
       "      <th>3</th>\n",
       "      <td>2012</td>\n",
       "      <td>Europe</td>\n",
       "      <td>62.794172</td>\n",
       "    </tr>\n",
       "    <tr>\n",
       "      <th>4</th>\n",
       "      <td>2012</td>\n",
       "      <td>Oceania</td>\n",
       "      <td>30.334425</td>\n",
       "    </tr>\n",
       "    <tr>\n",
       "      <th>5</th>\n",
       "      <td>2013</td>\n",
       "      <td>Africa</td>\n",
       "      <td>3.406623</td>\n",
       "    </tr>\n",
       "    <tr>\n",
       "      <th>6</th>\n",
       "      <td>2013</td>\n",
       "      <td>Americas</td>\n",
       "      <td>16.795686</td>\n",
       "    </tr>\n",
       "    <tr>\n",
       "      <th>7</th>\n",
       "      <td>2013</td>\n",
       "      <td>Asia</td>\n",
       "      <td>14.124250</td>\n",
       "    </tr>\n",
       "    <tr>\n",
       "      <th>8</th>\n",
       "      <td>2013</td>\n",
       "      <td>Europe</td>\n",
       "      <td>72.678938</td>\n",
       "    </tr>\n",
       "    <tr>\n",
       "      <th>9</th>\n",
       "      <td>2013</td>\n",
       "      <td>Oceania</td>\n",
       "      <td>37.051137</td>\n",
       "    </tr>\n",
       "    <tr>\n",
       "      <th>10</th>\n",
       "      <td>2014</td>\n",
       "      <td>Africa</td>\n",
       "      <td>3.768650</td>\n",
       "    </tr>\n",
       "    <tr>\n",
       "      <th>11</th>\n",
       "      <td>2014</td>\n",
       "      <td>Americas</td>\n",
       "      <td>20.193000</td>\n",
       "    </tr>\n",
       "    <tr>\n",
       "      <th>12</th>\n",
       "      <td>2014</td>\n",
       "      <td>Asia</td>\n",
       "      <td>17.265000</td>\n",
       "    </tr>\n",
       "    <tr>\n",
       "      <th>13</th>\n",
       "      <td>2014</td>\n",
       "      <td>Europe</td>\n",
       "      <td>87.493500</td>\n",
       "    </tr>\n",
       "    <tr>\n",
       "      <th>14</th>\n",
       "      <td>2014</td>\n",
       "      <td>Oceania</td>\n",
       "      <td>50.064000</td>\n",
       "    </tr>\n",
       "    <tr>\n",
       "      <th>15</th>\n",
       "      <td>2015</td>\n",
       "      <td>Africa</td>\n",
       "      <td>5.919599</td>\n",
       "    </tr>\n",
       "    <tr>\n",
       "      <th>16</th>\n",
       "      <td>2015</td>\n",
       "      <td>Americas</td>\n",
       "      <td>40.488399</td>\n",
       "    </tr>\n",
       "    <tr>\n",
       "      <th>17</th>\n",
       "      <td>2015</td>\n",
       "      <td>Asia</td>\n",
       "      <td>22.653224</td>\n",
       "    </tr>\n",
       "    <tr>\n",
       "      <th>18</th>\n",
       "      <td>2015</td>\n",
       "      <td>Europe</td>\n",
       "      <td>115.845075</td>\n",
       "    </tr>\n",
       "    <tr>\n",
       "      <th>19</th>\n",
       "      <td>2015</td>\n",
       "      <td>Oceania</td>\n",
       "      <td>56.338571</td>\n",
       "    </tr>\n",
       "    <tr>\n",
       "      <th>20</th>\n",
       "      <td>2016</td>\n",
       "      <td>Africa</td>\n",
       "      <td>6.193333</td>\n",
       "    </tr>\n",
       "    <tr>\n",
       "      <th>21</th>\n",
       "      <td>2016</td>\n",
       "      <td>Americas</td>\n",
       "      <td>35.684905</td>\n",
       "    </tr>\n",
       "    <tr>\n",
       "      <th>22</th>\n",
       "      <td>2016</td>\n",
       "      <td>Asia</td>\n",
       "      <td>30.443214</td>\n",
       "    </tr>\n",
       "    <tr>\n",
       "      <th>23</th>\n",
       "      <td>2016</td>\n",
       "      <td>Europe</td>\n",
       "      <td>119.228845</td>\n",
       "    </tr>\n",
       "    <tr>\n",
       "      <th>24</th>\n",
       "      <td>2016</td>\n",
       "      <td>Oceania</td>\n",
       "      <td>85.075088</td>\n",
       "    </tr>\n",
       "  </tbody>\n",
       "</table>\n",
       "</div>"
      ],
      "text/plain": [
       "    year    region        kbps\n",
       "0   2012    Africa    1.790842\n",
       "1   2012  Americas   10.219076\n",
       "2   2012      Asia    9.552923\n",
       "3   2012    Europe   62.794172\n",
       "4   2012   Oceania   30.334425\n",
       "5   2013    Africa    3.406623\n",
       "6   2013  Americas   16.795686\n",
       "7   2013      Asia   14.124250\n",
       "8   2013    Europe   72.678938\n",
       "9   2013   Oceania   37.051137\n",
       "10  2014    Africa    3.768650\n",
       "11  2014  Americas   20.193000\n",
       "12  2014      Asia   17.265000\n",
       "13  2014    Europe   87.493500\n",
       "14  2014   Oceania   50.064000\n",
       "15  2015    Africa    5.919599\n",
       "16  2015  Americas   40.488399\n",
       "17  2015      Asia   22.653224\n",
       "18  2015    Europe  115.845075\n",
       "19  2015   Oceania   56.338571\n",
       "20  2016    Africa    6.193333\n",
       "21  2016  Americas   35.684905\n",
       "22  2016      Asia   30.443214\n",
       "23  2016    Europe  119.228845\n",
       "24  2016   Oceania   85.075088"
      ]
     },
     "execution_count": 12,
     "metadata": {},
     "output_type": "execute_result"
    }
   ],
   "source": [
    "median_bandwidth"
   ]
  },
  {
   "cell_type": "code",
   "execution_count": null,
   "metadata": {
    "cell_id": "737fcf6537ba4150b41ae42684c543d8",
    "deepnote_cell_height": 1229,
    "deepnote_cell_type": "code",
    "deepnote_output_heights": [
     608
    ],
    "deepnote_to_be_reexecuted": false,
    "execution_millis": 1806,
    "execution_start": 1663221844416,
    "source_hash": "22eaa749",
    "tags": []
   },
   "outputs": [
    {
     "data": {
      "image/png": "[encoded data removed]",
      "text/plain": [
       "<Figure size 2400x1650 with 1 Axes>"
      ]
     },
     "metadata": {
      "image/png": {
       "height": 1612,
       "width": 2163
      }
     },
     "output_type": "display_data"
    }
   ],
   "source": [
    "fig, ax = plt.subplots()\n",
    "\n",
    "for region in median_bandwidth['region'].unique():\n",
    "    region_df = median_bandwidth[median_bandwidth['region'] == region]\n",
    "    ax.plot(region_df['year'], region_df['kbps'])\n",
    "\n",
    "# Add in title and subtitle\n",
    "ax.set_title(\"\"\"Baby got bandwidth\"\"\")\n",
    "ax.text(x=.08, y=.86, \n",
    "        s=\"International bandwidth per person, in kilobits per second (kbps).\", \n",
    "        transform=fig.transFigure, \n",
    "        ha='left', \n",
    "        fontsize=20, \n",
    "        alpha=.8)\n",
    "\n",
    "#ax.set_xlim(2012, 2016)\n",
    "\n",
    "# Set the logo\n",
    "logo = plt.imread('images/datafantic.png')\n",
    "imagebox = OffsetImage(logo, zoom=.22)\n",
    "ab = AnnotationBbox(imagebox, xy=(1,1.06), xycoords='axes fraction', box_alignment=(1,1), frameon = False)\n",
    "ax.add_artist(ab)\n",
    "\n",
    "# Set source text\n",
    "ax.text(x=0.8, y=0.0, \n",
    "        s=\"\"\"Source: World Bank\"\"\", \n",
    "        transform=fig.transFigure, \n",
    "        ha='left', \n",
    "        fontsize=12, \n",
    "        alpha=.7)"
   ]
  },
  {
   "cell_type": "markdown",
   "metadata": {
    "cell_id": "3c55c608ffbe479fb2f46f56fea86dd8",
    "deepnote_cell_type": "text-cell-p",
    "formattedRanges": [],
    "is_collapsed": false,
    "tags": []
   },
   "source": [
    "This still doesn't tell a great story. I'm going to scrap this as the data just isn't useful. "
   ]
  },
  {
   "cell_type": "markdown",
   "metadata": {
    "cell_id": "d4d6bf4893974eb6b4ddaaf615c84e5e",
    "checked": true,
    "deepnote_cell_height": 22.390625,
    "deepnote_cell_type": "text-cell-todo",
    "formattedRanges": [],
    "is_collapsed": false,
    "tags": []
   },
   "source": [
    "- [x] Make chart - internet speeds"
   ]
  },
  {
   "cell_type": "markdown",
   "metadata": {
    "cell_id": "da2ffbf8-fb9a-4649-be6a-a4f1fe49cb2d",
    "checked": true,
    "deepnote_cell_height": 22.390625,
    "deepnote_cell_type": "text-cell-todo",
    "formattedRanges": [],
    "is_collapsed": false,
    "tags": []
   },
   "source": [
    "- [x] Make chart - page loading speed"
   ]
  },
  {
   "cell_type": "markdown",
   "metadata": {
    "cell_id": "2c99dadf-d413-416c-951d-80ca757c1ff5",
    "checked": true,
    "deepnote_cell_height": 22.390625,
    "deepnote_cell_type": "text-cell-todo",
    "formattedRanges": [],
    "is_collapsed": false,
    "tags": []
   },
   "source": [
    "- [x] Make time wasted per "
   ]
  },
  {
   "cell_type": "markdown",
   "metadata": {
    "created_in_deepnote_cell": true,
    "deepnote_cell_type": "markdown",
    "tags": []
   },
   "source": [
    "<a style='text-decoration:none;line-height:16px;display:flex;color:#5B5B62;padding:10px;justify-content:end;' href='https://deepnote.com?utm_source=created-in-deepnote-cell&projectId=e215df48-947e-43c2-ae0d-f8648c2bd5d2' target=\"_blank\">\n",
    "<img alt='Created in deepnote.com' style='display:inline;max-height:16px;margin:0px;margin-right:7.5px;' src='data:image/svg+xml;base64,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' > </img>\n",
    "Created in <span style='font-weight:600;margin-left:4px;'>Deepnote</span></a>"
   ]
  }
 ],
 "metadata": {
  "deepnote": {},
  "deepnote_app_layout": "dashboard",
  "deepnote_execution_queue": [],
  "deepnote_notebook_id": "7a355bb1-fbaf-42e8-afe2-671841d035a2",
  "kernelspec": {
   "display_name": "Python 3 (ipykernel)",
   "language": "python",
   "name": "python3"
  },
  "language_info": {
   "codemirror_mode": {
    "name": "ipython",
    "version": 3
   },
   "file_extension": ".py",
   "mimetype": "text/x-python",
   "name": "python",
   "nbconvert_exporter": "python",
   "pygments_lexer": "ipython3",
   "version": "3.11.7"
  }
 },
 "nbformat": 4,
 "nbformat_minor": 4
}
