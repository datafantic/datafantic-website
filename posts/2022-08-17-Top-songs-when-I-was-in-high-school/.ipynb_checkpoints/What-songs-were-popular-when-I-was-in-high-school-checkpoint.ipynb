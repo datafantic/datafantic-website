{
 "cells": [
  {
   "cell_type": "markdown",
   "id": "de23da66-fc5b-4e31-b218-b6e97d4b4287",
   "metadata": {},
   "source": [
    "---\n",
    "title: \"What songs were popular when I was in high school?\"\n",
    "description: \"Or, why do algorithmic recommendations leave so much to be desired.\"\n",
    "date: \"August 17, 2022\"\n",
    "author: \"Robert Ritz\"\n",
    "draft: false\n",
    "echo: false\n",
    "image: \"images/music_features_loudness.png\"\n",
    "---"
   ]
  },
  {
   "cell_type": "markdown",
   "id": "41b4386b-b686-409e-9d24-75a216e27198",
   "metadata": {},
   "source": [
    "You have your headphones on with your favorite Spotify playlist on shuffle. You like this music, but somehow it just isn't doing it for you today. You hit the next button a few times in vain, searching for a feeling.\n",
    "\n",
    "Determined, you start scrolling through your algorithmically created playlists. The ones Spotify makes just for you. But they don't feel like they are for you, but instead for someone who looks like you, the stereotypical you.\n",
    "\n",
    "If this sounds familiar, you aren't alone. I experience this regularly, and when I started to tell others, they told me their similar stories. So like any data-oriented person, I decided to do entirely too much work to learn a few things. In the end, I did come up with the insight I was looking for.\n",
    "\n",
    "It wasn't a straight line to the insight, though."
   ]
  },
  {
   "cell_type": "markdown",
   "id": "30915e68-8859-4933-a7c3-323815de832f",
   "metadata": {},
   "source": [
    "## Side quest: How has music changed over the years?"
   ]
  },
  {
   "cell_type": "markdown",
   "id": "1abf81c5-b356-471f-a33a-bf47e6c3802c",
   "metadata": {},
   "source": [
    "For me, music takes me to a time and a place. Through the lens of that time and place, it gives me a feeling, energy, or maybe a mood. For me, that time was from 2002 to around 2009, during my high school and most of my undergraduate years.\n",
    "\n",
    "In search of data to explore more, I found [this Wikipedia collection](https://en.wikipedia.org/wiki/List_of_Billboard_Hot_100_top-ten_singles?ref=datafantic.ghost.io) of the Billboard Hot 100 Top-Ten singles for every year from 1958 to 2022. To gather this data, I scraped each page and collected it all into a dataset of 4,251 songs. Here is a sample:"
   ]
  },
  {
   "cell_type": "markdown",
   "id": "1c34f6c9-1226-4d34-8cf5-a46cd468021f",
   "metadata": {},
   "source": [
    "![](images/data.png)"
   ]
  },
  {
   "cell_type": "markdown",
   "id": "18eb0d60-ba37-41d3-bdc4-bb38c590c554",
   "metadata": {},
   "source": [
    "This data isn't entirely useful by itself. Since we are dealing with Spotify, I thought maybe the Spotify Developer API could give me something to work with. Luckily, Spotify has an [API endpoint](https://developer.spotify.com/documentation/web-api/reference/?ref=datafantic.ghost.io#/operations/get-several-audio-features) that lets you get \"features\" from a track. These include things like acousticness, duration, danceability, etc.\n",
    "\n",
    "Here is a sample:"
   ]
  },
  {
   "cell_type": "markdown",
   "id": "5d89fa1d-cf6d-4e04-aee8-faf366e4b4d1",
   "metadata": {},
   "source": [
    "![](images/audio_features.png)"
   ]
  },
  {
   "cell_type": "markdown",
   "id": "d17fff0d-2ee6-4a0b-9ccf-2c163c877daf",
   "metadata": {},
   "source": [
    "After pulling down these features, I did some exploration. Given that I had tracks from so many years, I thought it would be interesting to see how music had changed over time. I made averages for each track feature by year and plotted them. Several things caught my attention.\n",
    "\n"
   ]
  },
  {
   "cell_type": "markdown",
   "id": "d7568e48-72ff-410b-90e3-044a77ce939a",
   "metadata": {},
   "source": [
    "![](images/music_features_duration.png)"
   ]
  },
  {
   "cell_type": "markdown",
   "id": "5e95dbb4-0556-4626-aa36-b72d6627f4c9",
   "metadata": {},
   "source": [
    "First, from the mid-1970s until the early 2000's, the average track duration was over 4 minutes. Maybe attention spans are decreasing, but I certainly remember music from my youth often being too long. Perhaps notable, the first iPod was [introduced](https://www.macworld.com/article/546753/ipod-mini-shuffle-nano-touch-complete-timeline.html?ref=datafantic.ghost.io) in October 2001."
   ]
  },
  {
   "cell_type": "markdown",
   "id": "d5d2a75a-b9cf-402e-8177-d7e183b4de27",
   "metadata": {},
   "source": [
    "![](images/music_features_loudness.png)"
   ]
  },
  {
   "cell_type": "markdown",
   "id": "3c5202a5-7e6d-4fb7-a6a2-41c9d1fab9b8",
   "metadata": {},
   "source": [
    "Next, I found that loudness increased dramatically from the mid-90s and has only recently started trending down. After researching a bit, I found that there was such a thing as the [loudness war](https://en.wikipedia.org/wiki/Loudness_war?ref=datafantic.ghost.io). Apparently, demand for our ears is just as fierce as for our eyeballs.\n",
    "\n",
    "This became such a problem that Spotify (and other music services) started normalizing the audio of tracks."
   ]
  },
  {
   "cell_type": "markdown",
   "id": "34d7d2df-fc64-4268-84be-bc27056b2fe4",
   "metadata": {},
   "source": [
    "![](images/music_features_instrumentalness_speechiness.png)"
   ]
  },
  {
   "cell_type": "markdown",
   "id": "33917887-d9f8-4ac0-a270-53f21f4bf5f4",
   "metadata": {},
   "source": [
    "Spotify has other features they track, like \"speechiness,\" which is basically a measure of how much like pure speech a track sounds like. Values above .33 contain both music and speech.\n",
    "\n",
    "Tracks aren't reaching the point of being just speech as they are well below the .33 level. There has been a notable increase in the average speechiness of tracks. There was a similar bump in the 2000s, so this could be a trend.\n",
    "\n",
    "At the same time, instrumentalness, the prediction of whether a track has no vocals, has gone to near 0. This tells me that more instrumental songs used to have a chance at hitting the top 10, whereas now they have much less chance.\n",
    "\n",
    "The blip in 2011, where the two lines crossed, seems to be an obvious signal. However, I know so little about music trends I can't interpret this."
   ]
  },
  {
   "cell_type": "markdown",
   "id": "bae83bed-7ca2-4c13-b410-015ef606b769",
   "metadata": {},
   "source": [
    "![](images/music_features_trending_down.png)"
   ]
  },
  {
   "cell_type": "markdown",
   "id": "8539e7e8-19fe-44cc-b977-31cceba789a7",
   "metadata": {},
   "source": [
    "Some features obviously trended downward. Valence, the musical positiveness of a track, has been steadily decreasing. At the same time, acousticness (i.e., music produced with a physical instrument that vibrates the air) has been decreasing.\n",
    "\n",
    "I associate acoustic music with more positive feelings. I'm not sure if this is generally true. A welcome change is that acousticness jumped in 2019."
   ]
  },
  {
   "cell_type": "markdown",
   "id": "f274f945-d0e9-4860-9393-5e2200a7b6bc",
   "metadata": {},
   "source": [
    "![](images/music_features_trending_up.png)"
   ]
  },
  {
   "cell_type": "markdown",
   "id": "e878c8d4-d865-47b8-a70b-cdaa2005e50b",
   "metadata": {},
   "source": [
    "Last, both energy and danceability (how danceable a track is) have been trending up, although not as dramatically as we have seen in other features. Top tracks today are more than 10% danceable since 1958.\n",
    "\n",
    "Energy has been closely correlated with danceability. Something in me wants to investigate where the lines cross (the mid-2010s, early 2000s, and late 90s) to see if there is a signal there of something. I'll leave that for another day.\n",
    "\n",
    "Unfortunately, all of this exploration didn't get me closer to understanding how to find better music for myself. I did get some important perspective, though."
   ]
  },
  {
   "cell_type": "markdown",
   "id": "53149320-d16a-4cad-b127-16c722527eb0",
   "metadata": {},
   "source": [
    "## The Solution: Curation"
   ]
  },
  {
   "cell_type": "markdown",
   "id": "548e4fff-3ebc-4a96-b0cf-151c175068d2",
   "metadata": {},
   "source": [
    "Through my exploration of this music, I realized that my core idea remained. Music takes you to a time and a place. Spotify knows what I listen to, my playlists, and what music I hit the heart button for. They know shockingly little else about me.\n",
    "\n",
    "If I want music related to a time and a place in my life, I would need to know about my life. Things like my age, where I went to high school, and my university. I've never told Spotify these things (although I did connect my Facebook profile for \"social listening\").\n",
    "\n",
    "Taking this a step further, I have a theory that most people's taste in music is formed in their late high school/early college years. These years had a significant mark on my life. They were the beginnings of adulthood. I now notice the music that I didn't like at the time but was around me a lot (*gasp* country music), I'm starting to listen to more.\n",
    "\n",
    "So how could Spotify, or other music services, give a better recommendation experience? Through curation and discoverability.\n",
    "\n",
    "What is curation? Simply put, collecting good work and adding context to it. That context, for me, is the time and place where I discovered that music. Your context may be different.\n",
    "\n",
    "Playlists are a form of curation. It's clear that Spotify puts a lot of work into auto-generating playlists just for you, your \"top mixes.\" But these are collections without context. They are simply regurgitations of music I've listened to recently sorted by musician, genre, or time. These playlists never help me find music I love but haven't heard in years.\n",
    "\n",
    "I've found that the best playlists on Spotify are user generated. My current [favorite](https://open.spotify.com/playlist/3MzqEKW8DQVFv8cStNSmG2?si=f543759240ac458d&ref=datafantic.ghost.io) seems to be made by someone with very similar tastes to mine. It's taken me weeks of futile searching and trying algorithmic playlists to get to this one. The problem is clearly discoverability.\n",
    "\n",
    "This problem isn't limited to music either. A recent [market survey](https://venturebeat.com/data-infrastructure/report-84-of-online-shoppers-say-personalization-influences-their-purchases/?ref=datafantic.ghost.io) showed that 84% of online shoppers say personalization influences their purchases. The same survey found that 70% of shoppers say it takes multiple tries to find what they want.\n",
    "\n",
    "Amazon's recommendations are terrible. Apple Music has laughable recommendations. Spotify is on the better end of the spectrum, but there is much to be desired. There seems to be an obvious market opportunity here for curation and discoverability for nearly anything."
   ]
  },
  {
   "cell_type": "markdown",
   "id": "482f07a6-8d13-4032-8989-46abcf397df5",
   "metadata": {},
   "source": [
    "![](images/phase_one.png)"
   ]
  },
  {
   "cell_type": "markdown",
   "id": "b4f6e309-27d1-4657-8213-bf464f93c74d",
   "metadata": {},
   "source": [
    "## My contribution"
   ]
  },
  {
   "cell_type": "markdown",
   "id": "4e8f4633-05a2-4cf5-a62b-be6368f9e449",
   "metadata": {},
   "source": [
    "I wanted to use the data I had to make some small contribution to curation and discoverability. So I put together a small app that allows you to select a range of years, and it will link you to a Spotify playlist of the songs that made the Billboard Hot 100 top-ten singles that year.\n",
    "\n",
    "Are these guaranteed to be amazing? Most definitely not. I was surprised at just how many songs make the top 10. Each year can have 40-100 songs, and that is probably more than you actually like from that year.\n",
    "\n",
    "Nevertheless, I present it to you in all its simplicity. To view the app on a separate page, click [here](https://top-songs.streamlit.app/?ref=datafantic.com)."
   ]
  },
  {
   "cell_type": "markdown",
   "id": "fb85db19-c5bc-4c40-b93d-5328ea1c75fb",
   "metadata": {},
   "source": [
    "<iframe src=\"https://top-songs.streamlit.app/?embedded=true\" style=\"height: 800px; width:100%;\"></iframe>"
   ]
  },
  {
   "cell_type": "markdown",
   "id": "624d5f5b",
   "metadata": {},
   "source": [
    "> You can view the code and the data for this article [here](https://github.com/datafantic/datafantic-website/tree/main/insights/2022-08-17-Top-songs-when-I-was-in-high-school)."
   ]
  }
 ],
 "metadata": {
  "kernelspec": {
   "display_name": "Python 3 (ipykernel)",
   "language": "python",
   "name": "python3"
  },
  "language_info": {
   "codemirror_mode": {
    "name": "ipython",
    "version": 3
   },
   "file_extension": ".py",
   "mimetype": "text/x-python",
   "name": "python",
   "nbconvert_exporter": "python",
   "pygments_lexer": "ipython3",
   "version": "3.11.9"
  }
 },
 "nbformat": 4,
 "nbformat_minor": 5
}
