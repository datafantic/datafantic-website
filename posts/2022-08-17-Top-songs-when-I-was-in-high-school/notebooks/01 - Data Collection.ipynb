{
 "cells": [
  {
   "cell_type": "markdown",
   "metadata": {
    "cell_id": "153b76ccac8f4c15855e5fc0376925af",
    "deepnote_cell_height": 82,
    "deepnote_cell_type": "markdown",
    "tags": []
   },
   "source": [
    "# Data Collection"
   ]
  },
  {
   "cell_type": "markdown",
   "metadata": {
    "cell_id": "4541634a81ec4f2eb9fec59ca45a8cfd",
    "deepnote_cell_height": 128.1875,
    "deepnote_cell_type": "markdown",
    "tags": []
   },
   "source": [
    "In this notebook will collect all of the data required for this project including:\n",
    "\n",
    "- Top ten singles by year from [Wikipedia](https://en.wikipedia.org/wiki/List_of_Billboard_Hot_100_top-ten_singles)\n",
    "- Matching song entities using the Spotify API with the Spotipy package"
   ]
  },
  {
   "cell_type": "code",
   "execution_count": null,
   "metadata": {
    "cell_id": "3af1f845-d7f3-4097-bf8f-51a600c3f864",
    "deepnote_cell_height": 148,
    "deepnote_cell_type": "code",
    "deepnote_to_be_reexecuted": false,
    "execution_millis": 42,
    "execution_start": 1656584135020,
    "source_hash": "cf1d56c2",
    "tags": []
   },
   "outputs": [],
   "source": [
    "import pandas as pd\n",
    "import numpy as np\n",
    "import requests\n",
    "\n",
    "from tqdm import tqdm"
   ]
  },
  {
   "cell_type": "markdown",
   "metadata": {
    "cell_id": "ca0e3386d08e43119f9fd102fdd953e6",
    "deepnote_cell_height": 70,
    "deepnote_cell_type": "markdown",
    "tags": []
   },
   "source": [
    "## Collect Top Ten Singles by Year"
   ]
  },
  {
   "cell_type": "markdown",
   "metadata": {
    "cell_id": "74aa2c2c58534f74bcb0758b295325df",
    "deepnote_cell_height": 52.390625,
    "deepnote_cell_type": "markdown",
    "tags": []
   },
   "source": [
    "The top ten singles are available from 1958 to 2022 using a predictable URL pattern. "
   ]
  },
  {
   "cell_type": "code",
   "execution_count": null,
   "metadata": {
    "cell_id": "e89389fe641a440385ba55b874e0d34a",
    "deepnote_cell_height": 112,
    "deepnote_cell_type": "code",
    "deepnote_to_be_reexecuted": false,
    "execution_millis": 0,
    "execution_start": 1656584135063,
    "source_hash": "b2eeb29f",
    "tags": []
   },
   "outputs": [],
   "source": [
    "urls = []\n",
    "for year in range(1958, 2023):\n",
    "    urls.append(f\"https://en.wikipedia.org/wiki/List_of_Billboard_Hot_100_top-ten_singles_in_{year}\")"
   ]
  },
  {
   "cell_type": "code",
   "execution_count": null,
   "metadata": {
    "cell_id": "cdf889f8a201472fa5dc5cf4270cf616",
    "deepnote_cell_height": 112.1875,
    "deepnote_cell_type": "code",
    "deepnote_to_be_reexecuted": false,
    "execution_millis": 249,
    "execution_start": 1656584135063,
    "source_hash": "6a383175",
    "tags": []
   },
   "outputs": [
    {
     "data": {
      "text/plain": [
       "'https://en.wikipedia.org/wiki/List_of_Billboard_Hot_100_top-ten_singles_in_1978'"
      ]
     },
     "execution_count": 3,
     "metadata": {},
     "output_type": "execute_result"
    }
   ],
   "source": [
    "urls[20]"
   ]
  },
  {
   "cell_type": "code",
   "execution_count": null,
   "metadata": {
    "cell_id": "a378cd9d9a7545f5b3d6496ba5a19407",
    "deepnote_cell_height": 417.796875,
    "deepnote_cell_type": "code",
    "deepnote_to_be_reexecuted": false,
    "execution_millis": 12031,
    "execution_start": 1656584135111,
    "is_output_hidden": true,
    "source_hash": "b34fe70b",
    "tags": []
   },
   "outputs": [
    {
     "name": "stdout",
     "output_type": "stream",
     "text": [
      "1958\n",
      "1959\n",
      "1960\n",
      "1961\n",
      "1962\n",
      "1963\n",
      "1964\n",
      "1965\n",
      "1966\n",
      "1967\n",
      "1968\n",
      "1969\n",
      "1970\n",
      "1971\n",
      "1972\n",
      "1973\n",
      "1974\n",
      "1975\n",
      "1976\n",
      "1977\n",
      "1978\n",
      "1979\n",
      "1980\n",
      "1981\n",
      "1982\n",
      "1983\n",
      "1984\n",
      "1985\n",
      "1986\n",
      "1987\n",
      "1988\n",
      "1989\n",
      "1990\n",
      "1991\n",
      "1992\n",
      "1993\n",
      "1994\n",
      "1995\n",
      "1996\n",
      "1997\n",
      "1998\n",
      "1999\n",
      "2000\n",
      "2001\n",
      "2002\n",
      "2003\n",
      "2004\n",
      "2005\n",
      "2006\n",
      "2007\n",
      "2008\n",
      "2009\n",
      "2010\n",
      "2011\n",
      "2012\n",
      "2013\n",
      "2014\n",
      "2015\n",
      "2016\n",
      "2017\n",
      "2018\n",
      "2019\n",
      "2020\n",
      "2021\n",
      "2022\n"
     ]
    }
   ],
   "source": [
    "rows = []\n",
    "for url, year in zip(urls, range(1958, 2023)):\n",
    "    print(year)\n",
    "    dfs = pd.read_html(url)\n",
    "\n",
    "    row_num = []\n",
    "    for df in dfs:\n",
    "        row_num.append(df.shape[0])\n",
    "    \n",
    "    year_df = dfs[row_num.index(max(row_num))]\n",
    "    year_df = year_df.iloc[:,:6]\n",
    "\n",
    "    columns = ['entry_date','title','artist','peak','peak_date','weeks_top_ten']\n",
    "    year_df.columns = columns\n",
    "\n",
    "    year_df = year_df[~pd.to_numeric(year_df['peak'], errors='coerce').isna()].reset_index(drop=True)\n",
    "    year_df['year'] = year\n",
    "    rows.extend(year_df.to_dict(orient='records'))"
   ]
  },
  {
   "cell_type": "code",
   "execution_count": null,
   "metadata": {
    "cell_id": "dda29b2d62ba43e79f642cfce861bad2",
    "deepnote_cell_height": 76,
    "deepnote_cell_type": "code",
    "deepnote_table_loading": false,
    "deepnote_table_state": {
     "filters": [],
     "pageIndex": 0,
     "pageSize": 25,
     "sortBy": []
    },
    "deepnote_to_be_reexecuted": false,
    "execution_millis": 8,
    "execution_start": 1656584147160,
    "source_hash": "47c69a8e",
    "tags": []
   },
   "outputs": [],
   "source": [
    "df = pd.DataFrame(rows)"
   ]
  },
  {
   "cell_type": "code",
   "execution_count": null,
   "metadata": {
    "cell_id": "0ba7f75906cd421b862ff8c2a07b6d1a",
    "deepnote_cell_height": 1020,
    "deepnote_cell_type": "code",
    "deepnote_to_be_reexecuted": false,
    "execution_millis": 20,
    "execution_start": 1656584147195,
    "source_hash": "184fbac9",
    "tags": []
   },
   "outputs": [
    {
     "data": {
      "application/vnd.deepnote.dataframe.v3+json": {
       "column_count": 7,
       "columns": [
        {
         "dtype": "object",
         "name": "entry_date",
         "stats": {
          "categories": [
           {
            "count": 1,
            "name": "September 22"
           },
           {
            "count": 1,
            "name": "August 1"
           },
           {
            "count": 18,
            "name": "18 others"
           }
          ],
          "nan_count": 0,
          "unique_count": 20
         }
        },
        {
         "dtype": "object",
         "name": "title",
         "stats": {
          "categories": [
           {
            "count": 1,
            "name": "\"Praying for Time\""
           },
           {
            "count": 1,
            "name": "\"The Hills\"[G] (#10)"
           },
           {
            "count": 18,
            "name": "18 others"
           }
          ],
          "nan_count": 0,
          "unique_count": 20
         }
        },
        {
         "dtype": "object",
         "name": "artist",
         "stats": {
          "categories": [
           {
            "count": 1,
            "name": "George Michael"
           },
           {
            "count": 1,
            "name": "The Weeknd"
           },
           {
            "count": 18,
            "name": "18 others"
           }
          ],
          "nan_count": 0,
          "unique_count": 20
         }
        },
        {
         "dtype": "object",
         "name": "peak",
         "stats": {
          "categories": [
           {
            "count": 8,
            "name": "1"
           },
           {
            "count": 3,
            "name": "10"
           },
           {
            "count": 9,
            "name": "4 others"
           }
          ],
          "nan_count": 0,
          "unique_count": 6
         }
        },
        {
         "dtype": "object",
         "name": "peak_date",
         "stats": {
          "categories": [
           {
            "count": 1,
            "name": "October 13"
           },
           {
            "count": 1,
            "name": "October 3"
           },
           {
            "count": 18,
            "name": "18 others"
           }
          ],
          "nan_count": 0,
          "unique_count": 20
         }
        },
        {
         "dtype": "object",
         "name": "weeks_top_ten",
         "stats": {
          "categories": [
           {
            "count": 5,
            "name": "6"
           },
           {
            "count": 4,
            "name": "1"
           },
           {
            "count": 11,
            "name": "7 others"
           }
          ],
          "nan_count": 0,
          "unique_count": 9
         }
        },
        {
         "dtype": "int64",
         "name": "year",
         "stats": {
          "histogram": [
           {
            "bin_end": 1966.8,
            "bin_start": 1961,
            "count": 4
           },
           {
            "bin_end": 1972.6,
            "bin_start": 1966.8,
            "count": 2
           },
           {
            "bin_end": 1978.4,
            "bin_start": 1972.6,
            "count": 2
           },
           {
            "bin_end": 1984.2,
            "bin_start": 1978.4,
            "count": 0
           },
           {
            "bin_end": 1990,
            "bin_start": 1984.2,
            "count": 2
           },
           {
            "bin_end": 1995.8,
            "bin_start": 1990,
            "count": 3
           },
           {
            "bin_end": 2001.6,
            "bin_start": 1995.8,
            "count": 1
           },
           {
            "bin_end": 2007.4,
            "bin_start": 2001.6,
            "count": 3
           },
           {
            "bin_end": 2013.2,
            "bin_start": 2007.4,
            "count": 1
           },
           {
            "bin_end": 2019,
            "bin_start": 2013.2,
            "count": 2
           }
          ],
          "max": "2019",
          "min": "1961",
          "nan_count": 0,
          "unique_count": 18
         }
        },
        {
         "dtype": "int64",
         "name": "_deepnote_index_column"
        }
       ],
       "row_count": 20,
       "rows": [
        {
         "_deepnote_index_column": 3173,
         "artist": "George Michael",
         "entry_date": "September 22",
         "peak": "1",
         "peak_date": "October 13",
         "title": "\"Praying for Time\"",
         "weeks_top_ten": "6",
         "year": 1990
        },
        {
         "_deepnote_index_column": 4658,
         "artist": "The Weeknd",
         "entry_date": "August 1",
         "peak": "1",
         "peak_date": "October 3",
         "title": "\"The Hills\"[G] (#10)",
         "weeks_top_ten": "21",
         "year": 2015
        },
        {
         "_deepnote_index_column": 3880,
         "artist": "Enya",
         "entry_date": "November 10",
         "peak": "10",
         "peak_date": "November 10",
         "title": "\"Only Time\"",
         "weeks_top_ten": "3",
         "year": 2001
        },
        {
         "_deepnote_index_column": 850,
         "artist": "The Hollies",
         "entry_date": "September 10",
         "peak": "5",
         "peak_date": "September 17",
         "title": "\"Bus Stop\"",
         "weeks_top_ten": "4",
         "year": 1966
        },
        {
         "_deepnote_index_column": 3351,
         "artist": "Bobby Brown",
         "entry_date": "August 29",
         "peak": "3",
         "peak_date": "September 12",
         "title": "\"Humpin' Around\"",
         "weeks_top_ten": "8",
         "year": 1992
        },
        {
         "_deepnote_index_column": 4079,
         "artist": "Carrie Underwood",
         "entry_date": "July 2",
         "peak": "1",
         "peak_date": "July 2",
         "title": "\"Inside Your Heaven\"",
         "weeks_top_ten": "4",
         "year": 2005
        },
        {
         "_deepnote_index_column": 4027,
         "artist": "Fantasia",
         "entry_date": "July 10",
         "peak": "1",
         "peak_date": "July 10",
         "title": "\"I Believe\"",
         "weeks_top_ten": "2",
         "year": 2004
        },
        {
         "_deepnote_index_column": 1766,
         "artist": "Freddy Fender",
         "entry_date": "September 13",
         "peak": "8",
         "peak_date": "September 27",
         "title": "\"Wasted Days and Wasted Nights\"",
         "weeks_top_ten": "3",
         "year": 1975
        },
        {
         "_deepnote_index_column": 3235,
         "artist": "C+C Music Factory",
         "entry_date": "April 20",
         "peak": "3",
         "peak_date": "May 18",
         "title": "\"Here We Go (Let's Rock & Roll)\"",
         "weeks_top_ten": "6",
         "year": 1991
        },
        {
         "_deepnote_index_column": 1204,
         "artist": "Mark Lindsay",
         "entry_date": "February 14",
         "peak": "10",
         "peak_date": "February 14",
         "title": "\"Arizona\"",
         "weeks_top_ten": "1",
         "year": 1970
        },
        {
         "_deepnote_index_column": 281,
         "artist": "Floyd Cramer",
         "entry_date": "July 17",
         "peak": "8",
         "peak_date": "July 17",
         "title": "\"San Antonio Rose\"",
         "weeks_top_ten": "1",
         "year": 1961
        },
        {
         "_deepnote_index_column": 228,
         "artist": "Rosie and the Originals",
         "entry_date": "December 31[1]",
         "peak": "5",
         "peak_date": "January 23",
         "title": "\"Angel Baby\"",
         "weeks_top_ten": "7",
         "year": 1961
        },
        {
         "_deepnote_index_column": 2867,
         "artist": "Tiffany",
         "entry_date": "January 16",
         "peak": "1",
         "peak_date": "February 6",
         "title": "\"Could've Been\"",
         "weeks_top_ten": "6",
         "year": 1988
        },
        {
         "_deepnote_index_column": 4877,
         "artist": "Juice Wrld and YoungBoy Never Broke Again",
         "entry_date": "October 26",
         "peak": "10",
         "peak_date": "October 26",
         "title": "\"Bandit\"",
         "weeks_top_ten": "1",
         "year": 2019
        },
        {
         "_deepnote_index_column": 2707,
         "artist": "Steve Winwood",
         "entry_date": "August 9",
         "peak": "1",
         "peak_date": "August 30",
         "title": "\"Higher Love\"",
         "weeks_top_ten": "6",
         "year": 1986
        },
        {
         "_deepnote_index_column": 4422,
         "artist": "Bruno Mars",
         "entry_date": "December 11",
         "peak": "1",
         "peak_date": "January 8",
         "title": "\"Grenade\" (#6)",
         "weeks_top_ten": "17",
         "year": 2011
        },
        {
         "_deepnote_index_column": 4170,
         "artist": "Diddy featuring Nicole Scherzinger",
         "entry_date": "November 4",
         "peak": "9",
         "peak_date": "November 4",
         "title": "\"Come to Me\"",
         "weeks_top_ten": "1",
         "year": 2006
        },
        {
         "_deepnote_index_column": 1288,
         "artist": "Bee Gees",
         "entry_date": "January 9",
         "peak": "3",
         "peak_date": "January 30",
         "title": "\"Lonely Days\"",
         "weeks_top_ten": "7",
         "year": 1971
        },
        {
         "_deepnote_index_column": 1592,
         "artist": "Cher",
         "entry_date": "March 2",
         "peak": "1",
         "peak_date": "March 23",
         "title": "\"Dark Lady\"",
         "weeks_top_ten": "6",
         "year": 1974
        },
        {
         "_deepnote_index_column": 862,
         "artist": "The Left Banke",
         "entry_date": "October 15",
         "peak": "5",
         "peak_date": "October 29",
         "title": "\"Walk Away Renée\"",
         "weeks_top_ten": "4",
         "year": 1966
        }
       ]
      },
      "text/html": [
       "<div>\n",
       "<style scoped>\n",
       "    .dataframe tbody tr th:only-of-type {\n",
       "        vertical-align: middle;\n",
       "    }\n",
       "\n",
       "    .dataframe tbody tr th {\n",
       "        vertical-align: top;\n",
       "    }\n",
       "\n",
       "    .dataframe thead th {\n",
       "        text-align: right;\n",
       "    }\n",
       "</style>\n",
       "<table border=\"1\" class=\"dataframe\">\n",
       "  <thead>\n",
       "    <tr style=\"text-align: right;\">\n",
       "      <th></th>\n",
       "      <th>entry_date</th>\n",
       "      <th>title</th>\n",
       "      <th>artist</th>\n",
       "      <th>peak</th>\n",
       "      <th>peak_date</th>\n",
       "      <th>weeks_top_ten</th>\n",
       "      <th>year</th>\n",
       "    </tr>\n",
       "  </thead>\n",
       "  <tbody>\n",
       "    <tr>\n",
       "      <th>3173</th>\n",
       "      <td>September 22</td>\n",
       "      <td>\"Praying for Time\"</td>\n",
       "      <td>George Michael</td>\n",
       "      <td>1</td>\n",
       "      <td>October 13</td>\n",
       "      <td>6</td>\n",
       "      <td>1990</td>\n",
       "    </tr>\n",
       "    <tr>\n",
       "      <th>4658</th>\n",
       "      <td>August 1</td>\n",
       "      <td>\"The Hills\"[G] (#10)</td>\n",
       "      <td>The Weeknd</td>\n",
       "      <td>1</td>\n",
       "      <td>October 3</td>\n",
       "      <td>21</td>\n",
       "      <td>2015</td>\n",
       "    </tr>\n",
       "    <tr>\n",
       "      <th>3880</th>\n",
       "      <td>November 10</td>\n",
       "      <td>\"Only Time\"</td>\n",
       "      <td>Enya</td>\n",
       "      <td>10</td>\n",
       "      <td>November 10</td>\n",
       "      <td>3</td>\n",
       "      <td>2001</td>\n",
       "    </tr>\n",
       "    <tr>\n",
       "      <th>850</th>\n",
       "      <td>September 10</td>\n",
       "      <td>\"Bus Stop\"</td>\n",
       "      <td>The Hollies</td>\n",
       "      <td>5</td>\n",
       "      <td>September 17</td>\n",
       "      <td>4</td>\n",
       "      <td>1966</td>\n",
       "    </tr>\n",
       "    <tr>\n",
       "      <th>3351</th>\n",
       "      <td>August 29</td>\n",
       "      <td>\"Humpin' Around\"</td>\n",
       "      <td>Bobby Brown</td>\n",
       "      <td>3</td>\n",
       "      <td>September 12</td>\n",
       "      <td>8</td>\n",
       "      <td>1992</td>\n",
       "    </tr>\n",
       "    <tr>\n",
       "      <th>4079</th>\n",
       "      <td>July 2</td>\n",
       "      <td>\"Inside Your Heaven\"</td>\n",
       "      <td>Carrie Underwood</td>\n",
       "      <td>1</td>\n",
       "      <td>July 2</td>\n",
       "      <td>4</td>\n",
       "      <td>2005</td>\n",
       "    </tr>\n",
       "    <tr>\n",
       "      <th>4027</th>\n",
       "      <td>July 10</td>\n",
       "      <td>\"I Believe\"</td>\n",
       "      <td>Fantasia</td>\n",
       "      <td>1</td>\n",
       "      <td>July 10</td>\n",
       "      <td>2</td>\n",
       "      <td>2004</td>\n",
       "    </tr>\n",
       "    <tr>\n",
       "      <th>1766</th>\n",
       "      <td>September 13</td>\n",
       "      <td>\"Wasted Days and Wasted Nights\"</td>\n",
       "      <td>Freddy Fender</td>\n",
       "      <td>8</td>\n",
       "      <td>September 27</td>\n",
       "      <td>3</td>\n",
       "      <td>1975</td>\n",
       "    </tr>\n",
       "    <tr>\n",
       "      <th>3235</th>\n",
       "      <td>April 20</td>\n",
       "      <td>\"Here We Go (Let's Rock &amp; Roll)\"</td>\n",
       "      <td>C+C Music Factory</td>\n",
       "      <td>3</td>\n",
       "      <td>May 18</td>\n",
       "      <td>6</td>\n",
       "      <td>1991</td>\n",
       "    </tr>\n",
       "    <tr>\n",
       "      <th>1204</th>\n",
       "      <td>February 14</td>\n",
       "      <td>\"Arizona\"</td>\n",
       "      <td>Mark Lindsay</td>\n",
       "      <td>10</td>\n",
       "      <td>February 14</td>\n",
       "      <td>1</td>\n",
       "      <td>1970</td>\n",
       "    </tr>\n",
       "    <tr>\n",
       "      <th>281</th>\n",
       "      <td>July 17</td>\n",
       "      <td>\"San Antonio Rose\"</td>\n",
       "      <td>Floyd Cramer</td>\n",
       "      <td>8</td>\n",
       "      <td>July 17</td>\n",
       "      <td>1</td>\n",
       "      <td>1961</td>\n",
       "    </tr>\n",
       "    <tr>\n",
       "      <th>228</th>\n",
       "      <td>December 31[1]</td>\n",
       "      <td>\"Angel Baby\"</td>\n",
       "      <td>Rosie and the Originals</td>\n",
       "      <td>5</td>\n",
       "      <td>January 23</td>\n",
       "      <td>7</td>\n",
       "      <td>1961</td>\n",
       "    </tr>\n",
       "    <tr>\n",
       "      <th>2867</th>\n",
       "      <td>January 16</td>\n",
       "      <td>\"Could've Been\"</td>\n",
       "      <td>Tiffany</td>\n",
       "      <td>1</td>\n",
       "      <td>February 6</td>\n",
       "      <td>6</td>\n",
       "      <td>1988</td>\n",
       "    </tr>\n",
       "    <tr>\n",
       "      <th>4877</th>\n",
       "      <td>October 26</td>\n",
       "      <td>\"Bandit\"</td>\n",
       "      <td>Juice Wrld and YoungBoy Never Broke Again</td>\n",
       "      <td>10</td>\n",
       "      <td>October 26</td>\n",
       "      <td>1</td>\n",
       "      <td>2019</td>\n",
       "    </tr>\n",
       "    <tr>\n",
       "      <th>2707</th>\n",
       "      <td>August 9</td>\n",
       "      <td>\"Higher Love\"</td>\n",
       "      <td>Steve Winwood</td>\n",
       "      <td>1</td>\n",
       "      <td>August 30</td>\n",
       "      <td>6</td>\n",
       "      <td>1986</td>\n",
       "    </tr>\n",
       "    <tr>\n",
       "      <th>4422</th>\n",
       "      <td>December 11</td>\n",
       "      <td>\"Grenade\" (#6)</td>\n",
       "      <td>Bruno Mars</td>\n",
       "      <td>1</td>\n",
       "      <td>January 8</td>\n",
       "      <td>17</td>\n",
       "      <td>2011</td>\n",
       "    </tr>\n",
       "    <tr>\n",
       "      <th>4170</th>\n",
       "      <td>November 4</td>\n",
       "      <td>\"Come to Me\"</td>\n",
       "      <td>Diddy featuring Nicole Scherzinger</td>\n",
       "      <td>9</td>\n",
       "      <td>November 4</td>\n",
       "      <td>1</td>\n",
       "      <td>2006</td>\n",
       "    </tr>\n",
       "    <tr>\n",
       "      <th>1288</th>\n",
       "      <td>January 9</td>\n",
       "      <td>\"Lonely Days\"</td>\n",
       "      <td>Bee Gees</td>\n",
       "      <td>3</td>\n",
       "      <td>January 30</td>\n",
       "      <td>7</td>\n",
       "      <td>1971</td>\n",
       "    </tr>\n",
       "    <tr>\n",
       "      <th>1592</th>\n",
       "      <td>March 2</td>\n",
       "      <td>\"Dark Lady\"</td>\n",
       "      <td>Cher</td>\n",
       "      <td>1</td>\n",
       "      <td>March 23</td>\n",
       "      <td>6</td>\n",
       "      <td>1974</td>\n",
       "    </tr>\n",
       "    <tr>\n",
       "      <th>862</th>\n",
       "      <td>October 15</td>\n",
       "      <td>\"Walk Away Renée\"</td>\n",
       "      <td>The Left Banke</td>\n",
       "      <td>5</td>\n",
       "      <td>October 29</td>\n",
       "      <td>4</td>\n",
       "      <td>1966</td>\n",
       "    </tr>\n",
       "  </tbody>\n",
       "</table>\n",
       "</div>"
      ],
      "text/plain": [
       "          entry_date                             title  \\\n",
       "3173    September 22                \"Praying for Time\"   \n",
       "4658        August 1              \"The Hills\"[G] (#10)   \n",
       "3880     November 10                       \"Only Time\"   \n",
       "850     September 10                        \"Bus Stop\"   \n",
       "3351       August 29                  \"Humpin' Around\"   \n",
       "4079          July 2              \"Inside Your Heaven\"   \n",
       "4027         July 10                       \"I Believe\"   \n",
       "1766    September 13   \"Wasted Days and Wasted Nights\"   \n",
       "3235        April 20  \"Here We Go (Let's Rock & Roll)\"   \n",
       "1204     February 14                         \"Arizona\"   \n",
       "281          July 17                \"San Antonio Rose\"   \n",
       "228   December 31[1]                      \"Angel Baby\"   \n",
       "2867      January 16                   \"Could've Been\"   \n",
       "4877      October 26                          \"Bandit\"   \n",
       "2707        August 9                     \"Higher Love\"   \n",
       "4422     December 11                    \"Grenade\" (#6)   \n",
       "4170      November 4                      \"Come to Me\"   \n",
       "1288       January 9                     \"Lonely Days\"   \n",
       "1592         March 2                       \"Dark Lady\"   \n",
       "862       October 15                 \"Walk Away Renée\"   \n",
       "\n",
       "                                         artist peak     peak_date  \\\n",
       "3173                             George Michael    1    October 13   \n",
       "4658                                 The Weeknd    1     October 3   \n",
       "3880                                       Enya   10   November 10   \n",
       "850                                 The Hollies    5  September 17   \n",
       "3351                                Bobby Brown    3  September 12   \n",
       "4079                           Carrie Underwood    1        July 2   \n",
       "4027                                   Fantasia    1       July 10   \n",
       "1766                              Freddy Fender    8  September 27   \n",
       "3235                          C+C Music Factory    3        May 18   \n",
       "1204                               Mark Lindsay   10   February 14   \n",
       "281                                Floyd Cramer    8       July 17   \n",
       "228                     Rosie and the Originals    5    January 23   \n",
       "2867                                    Tiffany    1    February 6   \n",
       "4877  Juice Wrld and YoungBoy Never Broke Again   10    October 26   \n",
       "2707                              Steve Winwood    1     August 30   \n",
       "4422                                 Bruno Mars    1     January 8   \n",
       "4170         Diddy featuring Nicole Scherzinger    9    November 4   \n",
       "1288                                   Bee Gees    3    January 30   \n",
       "1592                                       Cher    1      March 23   \n",
       "862                              The Left Banke    5    October 29   \n",
       "\n",
       "     weeks_top_ten  year  \n",
       "3173             6  1990  \n",
       "4658            21  2015  \n",
       "3880             3  2001  \n",
       "850              4  1966  \n",
       "3351             8  1992  \n",
       "4079             4  2005  \n",
       "4027             2  2004  \n",
       "1766             3  1975  \n",
       "3235             6  1991  \n",
       "1204             1  1970  \n",
       "281              1  1961  \n",
       "228              7  1961  \n",
       "2867             6  1988  \n",
       "4877             1  2019  \n",
       "2707             6  1986  \n",
       "4422            17  2011  \n",
       "4170             1  2006  \n",
       "1288             7  1971  \n",
       "1592             6  1974  \n",
       "862              4  1966  "
      ]
     },
     "execution_count": 6,
     "metadata": {},
     "output_type": "execute_result"
    }
   ],
   "source": [
    "df.sample(20)"
   ]
  },
  {
   "cell_type": "markdown",
   "metadata": {
    "cell_id": "3fd181fc329e4af9bd945a70f3a2f08a",
    "deepnote_cell_height": 70,
    "deepnote_cell_type": "markdown",
    "tags": []
   },
   "source": [
    "## Find Matching Spotify Songs"
   ]
  },
  {
   "cell_type": "code",
   "execution_count": null,
   "metadata": {
    "cell_id": "912f17f484c8420895cdeb633f70ca60",
    "deepnote_cell_height": 94,
    "deepnote_cell_type": "code",
    "deepnote_to_be_reexecuted": false,
    "execution_millis": 36,
    "execution_start": 1656584147217,
    "source_hash": "8c3b33de",
    "tags": []
   },
   "outputs": [],
   "source": [
    "import spotipy\n",
    "from spotipy.oauth2 import SpotifyClientCredentials"
   ]
  },
  {
   "cell_type": "code",
   "execution_count": null,
   "metadata": {
    "cell_id": "b631916cd8494c169e5d9936dc3bae8b",
    "deepnote_cell_height": 76,
    "deepnote_cell_type": "code",
    "deepnote_to_be_reexecuted": false,
    "execution_millis": 2,
    "execution_start": 1656584147258,
    "source_hash": "5da8897b",
    "tags": []
   },
   "outputs": [],
   "source": [
    "spotify = spotipy.Spotify(client_credentials_manager=SpotifyClientCredentials())"
   ]
  },
  {
   "cell_type": "markdown",
   "metadata": {
    "cell_id": "ee6cff45888d4a7fbae2a040f75888f9",
    "deepnote_cell_height": 74.796875,
    "deepnote_cell_type": "markdown",
    "tags": []
   },
   "source": [
    "Some of the song titles had backslashes in them, which caused issues with createing the URLs for the Spotify API. We will get rid of all slashes to solve this problem."
   ]
  },
  {
   "cell_type": "code",
   "execution_count": null,
   "metadata": {
    "cell_id": "a890baac415642f08b0370aa77304101",
    "deepnote_cell_height": 184,
    "deepnote_cell_type": "code",
    "deepnote_to_be_reexecuted": false,
    "execution_millis": 14,
    "execution_start": 1656584147271,
    "source_hash": "44b30444",
    "tags": []
   },
   "outputs": [],
   "source": [
    "df['title'] = df['title'].str.replace(\"/\",\"\", regex=False)\n",
    "df['title'] = df['title'].str.replace(\"\\\\\",\"\", regex=False)\n",
    "df['title'] = df['title'].str.replace(\"(\",\"\", regex=False)\n",
    "df['title'] = df['title'].str.replace(\")\",\"\", regex=False)\n",
    "df['title'] = df['title'].str.replace(\"\\'\",\"\", regex=False)\n",
    "df['title'] = df['title'].str.replace(\":\",\"\", regex=False)\n",
    "df['title'] = df['title'].str.replace(\".\",\"\", regex=False)"
   ]
  },
  {
   "cell_type": "code",
   "execution_count": null,
   "metadata": {
    "cell_id": "d00a7691f0dd4b0791aaf5606ba65d7d",
    "deepnote_cell_height": 76,
    "deepnote_cell_type": "code",
    "deepnote_to_be_reexecuted": false,
    "execution_millis": 20,
    "execution_start": 1656584147316,
    "source_hash": "1282ee91",
    "tags": []
   },
   "outputs": [],
   "source": [
    "list_df = df.to_dict(orient='records')"
   ]
  },
  {
   "cell_type": "code",
   "execution_count": null,
   "metadata": {
    "cell_id": "8cd57c1b58424bdb884e3224c0985ea6",
    "deepnote_cell_height": 227.3125,
    "deepnote_cell_type": "code",
    "deepnote_to_be_reexecuted": false,
    "execution_millis": 11,
    "execution_start": 1656584147340,
    "source_hash": "838cf3c",
    "tags": []
   },
   "outputs": [
    {
     "data": {
      "text/plain": [
       "{'entry_date': 'August 4',\n",
       " 'title': '\"Poor Little Fool\"',\n",
       " 'artist': 'Ricky Nelson',\n",
       " 'peak': 1,\n",
       " 'peak_date': 'August 4',\n",
       " 'weeks_top_ten': 6,\n",
       " 'year': 1958}"
      ]
     },
     "execution_count": 11,
     "metadata": {},
     "output_type": "execute_result"
    }
   ],
   "source": [
    "list_df[0]"
   ]
  },
  {
   "cell_type": "code",
   "execution_count": null,
   "metadata": {
    "cell_id": "5adf800efa084f8dbc7d1090a680a66b",
    "deepnote_cell_height": 340.9375,
    "deepnote_cell_type": "code",
    "deepnote_to_be_reexecuted": false,
    "execution_millis": 510857,
    "execution_start": 1656584147351,
    "source_hash": "c83d5daf",
    "tags": []
   },
   "outputs": [
    {
     "name": "stderr",
     "output_type": "stream",
     "text": [
      " 72%|███████▏  | 3644/5050 [06:11<02:14, 10.44it/s]HTTP Error for GET to https://api.spotify.com/v1/search with Params: {'q': 'track:\"Been Around the World\"  \"Its All About the Benjamins\" artist:Puff Daddy featuring The Notorious B.I.G. and Mase', 'limit': 1, 'offset': 0, 'type': 'track', 'market': None} returned 404 due to Not found.\n",
      " 78%|███████▊  | 3914/5050 [06:38<01:44, 10.85it/s]HTTP Error for GET to https://api.spotify.com/v1/search with Params: {'q': 'track:\"I Need a Girl Part Two\" artist:P. Diddy featuring Tammy Ruggieri, Ginuwine, Loon, and Mario Winans', 'limit': 1, 'offset': 0, 'type': 'track', 'market': None} returned 404 due to Not found.\n",
      " 78%|███████▊  | 3916/5050 [06:38<01:37, 11.61it/s]HTTP Error for GET to https://api.spotify.com/v1/search with Params: {'q': 'track:\"Down 4 U\" artist:Irv Gotti presents The Inc. featuring Ja Rule, Ashanti, Charli Baltimore and Vita', 'limit': 1, 'offset': 0, 'type': 'track', 'market': None} returned 404 due to Not found.\n",
      " 99%|█████████▉| 5013/5050 [08:27<00:03, 10.12it/s]HTTP Error for GET to https://api.spotify.com/v1/search with Params: {'q': 'track:\"We Dont Talk About Bruno\" artist:Carolina Gaitán, Mauro Castillo, Adassa, Rhenzy Feliz, Diane Guerrero, Stephanie Beatriz and the Encanto cast', 'limit': 1, 'offset': 0, 'type': 'track', 'market': None} returned 404 due to Not found.\n",
      "100%|██████████| 5050/5050 [08:30<00:00,  9.89it/s]\n"
     ]
    }
   ],
   "source": [
    "for item in tqdm(list_df):\n",
    "    try:\n",
    "        result = spotify.search(f\"\"\"track:{item['title']} artist:{item['artist']}\"\"\", type=\"track\", limit=1)\n",
    "        if len(result['tracks']['items']) > 0:\n",
    "            item['spotify_uri'] = result['tracks']['items'][0]['uri']\n",
    "        else:\n",
    "            item['spotify_uri'] = np.nan\n",
    "    except spotipy.client.SpotifyException as e:\n",
    "        item['spotify_uri'] = str(e.http_status) + \" - \" + e.msg"
   ]
  },
  {
   "cell_type": "markdown",
   "metadata": {
    "cell_id": "45932bd93d0049f098cedfdf5841ce99",
    "deepnote_cell_height": 62,
    "deepnote_cell_type": "markdown",
    "tags": []
   },
   "source": [
    "### Small cleaning"
   ]
  },
  {
   "cell_type": "markdown",
   "metadata": {
    "cell_id": "c4dbf4b88cd34e058b4e75c4dbeb39a4",
    "deepnote_cell_height": 52.390625,
    "deepnote_cell_type": "markdown",
    "tags": []
   },
   "source": [
    "Not all of our songs had matches, let's remove those."
   ]
  },
  {
   "cell_type": "code",
   "execution_count": null,
   "metadata": {
    "cell_id": "6db3d1ef3d4a435492c6e01dd4e27567",
    "deepnote_cell_height": 76,
    "deepnote_cell_type": "code",
    "deepnote_to_be_reexecuted": false,
    "execution_millis": 3,
    "execution_start": 1656584658204,
    "source_hash": "9247e655",
    "tags": []
   },
   "outputs": [],
   "source": [
    "df = pd.DataFrame(list_df)"
   ]
  },
  {
   "cell_type": "code",
   "execution_count": null,
   "metadata": {
    "cell_id": "2303c6b094bc45719a0d0b5474de056c",
    "deepnote_cell_height": 76,
    "deepnote_cell_type": "code",
    "deepnote_to_be_reexecuted": false,
    "execution_millis": 1,
    "execution_start": 1656584658245,
    "source_hash": "4314666a",
    "tags": []
   },
   "outputs": [],
   "source": [
    "df = df.dropna()"
   ]
  },
  {
   "cell_type": "code",
   "execution_count": null,
   "metadata": {
    "cell_id": "a238b6aefcdd44489839bddf89038e28",
    "deepnote_cell_height": 76,
    "deepnote_cell_type": "code",
    "deepnote_to_be_reexecuted": false,
    "execution_millis": 0,
    "execution_start": 1656584658246,
    "source_hash": "aa55518d",
    "tags": []
   },
   "outputs": [],
   "source": [
    "df = df[~df['spotify_uri'].str.contains(\"Not found\")]"
   ]
  },
  {
   "cell_type": "code",
   "execution_count": null,
   "metadata": {
    "cell_id": "52dc604645954836a9aa9c1defb4fb8b",
    "deepnote_cell_height": 76,
    "deepnote_cell_type": "code",
    "deepnote_to_be_reexecuted": false,
    "execution_millis": 43,
    "execution_start": 1656584658246,
    "source_hash": "d6f8f685",
    "tags": []
   },
   "outputs": [],
   "source": [
    "df.to_csv('songs.csv', index=False)"
   ]
  },
  {
   "cell_type": "markdown",
   "metadata": {
    "cell_id": "ed0145b286284ce3a7edb679af172c55",
    "deepnote_cell_height": 70,
    "deepnote_cell_type": "markdown",
    "tags": []
   },
   "source": [
    "## Extract Song Features"
   ]
  },
  {
   "cell_type": "code",
   "execution_count": null,
   "metadata": {
    "cell_id": "2dc00b383c1c43559fd2bdf93b033f6f",
    "deepnote_cell_height": 76,
    "deepnote_cell_type": "code",
    "deepnote_to_be_reexecuted": false,
    "execution_millis": 0,
    "execution_start": 1656584658290,
    "source_hash": "9e643b98",
    "tags": []
   },
   "outputs": [],
   "source": [
    "df = pd.read_csv(\"songs.csv\")"
   ]
  },
  {
   "cell_type": "code",
   "execution_count": null,
   "metadata": {
    "cell_id": "82656d050ced48a8a8f8eb53a02cbdea",
    "deepnote_cell_height": 405,
    "deepnote_cell_type": "code",
    "deepnote_to_be_reexecuted": false,
    "execution_millis": 60,
    "execution_start": 1656584658290,
    "source_hash": "c085b6ba",
    "tags": []
   },
   "outputs": [
    {
     "data": {
      "application/vnd.deepnote.dataframe.v3+json": {
       "column_count": 8,
       "columns": [
        {
         "dtype": "object",
         "name": "entry_date",
         "stats": {
          "categories": [
           {
            "count": 5,
            "name": "August 4"
           }
          ],
          "nan_count": 0,
          "unique_count": 1
         }
        },
        {
         "dtype": "object",
         "name": "title",
         "stats": {
          "categories": [
           {
            "count": 1,
            "name": "\"Poor Little Fool\""
           },
           {
            "count": 1,
            "name": "\"Patricia\""
           },
           {
            "count": 3,
            "name": "3 others"
           }
          ],
          "nan_count": 0,
          "unique_count": 5
         }
        },
        {
         "dtype": "object",
         "name": "artist",
         "stats": {
          "categories": [
           {
            "count": 1,
            "name": "Ricky Nelson"
           },
           {
            "count": 1,
            "name": "Pérez Prado"
           },
           {
            "count": 3,
            "name": "3 others"
           }
          ],
          "nan_count": 0,
          "unique_count": 5
         }
        },
        {
         "dtype": "int64",
         "name": "peak",
         "stats": {
          "histogram": [
           {
            "bin_end": 1.4,
            "bin_start": 1,
            "count": 1
           },
           {
            "bin_end": 1.8,
            "bin_start": 1.4,
            "count": 0
           },
           {
            "bin_end": 2.2,
            "bin_start": 1.8,
            "count": 1
           },
           {
            "bin_end": 2.6,
            "bin_start": 2.2,
            "count": 0
           },
           {
            "bin_end": 3,
            "bin_start": 2.6,
            "count": 0
           },
           {
            "bin_end": 3.4000000000000004,
            "bin_start": 3,
            "count": 1
           },
           {
            "bin_end": 3.8000000000000003,
            "bin_start": 3.4000000000000004,
            "count": 0
           },
           {
            "bin_end": 4.2,
            "bin_start": 3.8000000000000003,
            "count": 1
           },
           {
            "bin_end": 4.6,
            "bin_start": 4.2,
            "count": 0
           },
           {
            "bin_end": 5,
            "bin_start": 4.6,
            "count": 1
           }
          ],
          "max": "5",
          "min": "1",
          "nan_count": 0,
          "unique_count": 5
         }
        },
        {
         "dtype": "object",
         "name": "peak_date",
         "stats": {
          "categories": [
           {
            "count": 5,
            "name": "August 4"
           }
          ],
          "nan_count": 0,
          "unique_count": 1
         }
        },
        {
         "dtype": "object",
         "name": "weeks_top_ten",
         "stats": {
          "categories": [
           {
            "count": 2,
            "name": "6"
           },
           {
            "count": 1,
            "name": "3"
           },
           {
            "count": 2,
            "name": "2 others"
           }
          ],
          "nan_count": 0,
          "unique_count": 4
         }
        },
        {
         "dtype": "int64",
         "name": "year",
         "stats": {
          "histogram": [
           {
            "bin_end": 1957.6,
            "bin_start": 1957.5,
            "count": 0
           },
           {
            "bin_end": 1957.7,
            "bin_start": 1957.6,
            "count": 0
           },
           {
            "bin_end": 1957.8,
            "bin_start": 1957.7,
            "count": 0
           },
           {
            "bin_end": 1957.9,
            "bin_start": 1957.8,
            "count": 0
           },
           {
            "bin_end": 1958,
            "bin_start": 1957.9,
            "count": 0
           },
           {
            "bin_end": 1958.1,
            "bin_start": 1958,
            "count": 5
           },
           {
            "bin_end": 1958.2,
            "bin_start": 1958.1,
            "count": 0
           },
           {
            "bin_end": 1958.3,
            "bin_start": 1958.2,
            "count": 0
           },
           {
            "bin_end": 1958.4,
            "bin_start": 1958.3,
            "count": 0
           },
           {
            "bin_end": 1958.5,
            "bin_start": 1958.4,
            "count": 0
           }
          ],
          "max": "1958",
          "min": "1958",
          "nan_count": 0,
          "unique_count": 1
         }
        },
        {
         "dtype": "object",
         "name": "spotify_uri",
         "stats": {
          "categories": [
           {
            "count": 1,
            "name": "spotify:track:5ayybTSXNwcarDtxQKqvWX"
           },
           {
            "count": 1,
            "name": "spotify:track:2bwhOdCOLgQ8v6xStAqnju"
           },
           {
            "count": 3,
            "name": "3 others"
           }
          ],
          "nan_count": 0,
          "unique_count": 5
         }
        },
        {
         "dtype": "int64",
         "name": "_deepnote_index_column"
        }
       ],
       "row_count": 5,
       "rows": [
        {
         "_deepnote_index_column": 0,
         "artist": "Ricky Nelson",
         "entry_date": "August 4",
         "peak": 1,
         "peak_date": "August 4",
         "spotify_uri": "spotify:track:5ayybTSXNwcarDtxQKqvWX",
         "title": "\"Poor Little Fool\"",
         "weeks_top_ten": "6",
         "year": 1958
        },
        {
         "_deepnote_index_column": 1,
         "artist": "Pérez Prado",
         "entry_date": "August 4",
         "peak": 2,
         "peak_date": "August 4",
         "spotify_uri": "spotify:track:2bwhOdCOLgQ8v6xStAqnju",
         "title": "\"Patricia\"",
         "weeks_top_ten": "6",
         "year": 1958
        },
        {
         "_deepnote_index_column": 2,
         "artist": "Bobby Darin",
         "entry_date": "August 4",
         "peak": 3,
         "peak_date": "August 4",
         "spotify_uri": "spotify:track:40fD7ct05FvQHLdQTgJelG",
         "title": "\"Splish Splash\"",
         "weeks_top_ten": "3",
         "year": 1958
        },
        {
         "_deepnote_index_column": 3,
         "artist": "Elvis Presley",
         "entry_date": "August 4",
         "peak": 4,
         "peak_date": "August 4",
         "spotify_uri": "spotify:track:3SU1TXJtAsf8jCKdUeYy53",
         "title": "\"Hard Headed Woman\"",
         "weeks_top_ten": "2",
         "year": 1958
        },
        {
         "_deepnote_index_column": 4,
         "artist": "Kalin Twins",
         "entry_date": "August 4",
         "peak": 5,
         "peak_date": "August 4",
         "spotify_uri": "spotify:track:3HZJ9BLBpDya4p71VfXSWp",
         "title": "\"When\"",
         "weeks_top_ten": "5",
         "year": 1958
        }
       ]
      },
      "text/html": [
       "<div>\n",
       "<style scoped>\n",
       "    .dataframe tbody tr th:only-of-type {\n",
       "        vertical-align: middle;\n",
       "    }\n",
       "\n",
       "    .dataframe tbody tr th {\n",
       "        vertical-align: top;\n",
       "    }\n",
       "\n",
       "    .dataframe thead th {\n",
       "        text-align: right;\n",
       "    }\n",
       "</style>\n",
       "<table border=\"1\" class=\"dataframe\">\n",
       "  <thead>\n",
       "    <tr style=\"text-align: right;\">\n",
       "      <th></th>\n",
       "      <th>entry_date</th>\n",
       "      <th>title</th>\n",
       "      <th>artist</th>\n",
       "      <th>peak</th>\n",
       "      <th>peak_date</th>\n",
       "      <th>weeks_top_ten</th>\n",
       "      <th>year</th>\n",
       "      <th>spotify_uri</th>\n",
       "    </tr>\n",
       "  </thead>\n",
       "  <tbody>\n",
       "    <tr>\n",
       "      <th>0</th>\n",
       "      <td>August 4</td>\n",
       "      <td>\"Poor Little Fool\"</td>\n",
       "      <td>Ricky Nelson</td>\n",
       "      <td>1</td>\n",
       "      <td>August 4</td>\n",
       "      <td>6</td>\n",
       "      <td>1958</td>\n",
       "      <td>spotify:track:5ayybTSXNwcarDtxQKqvWX</td>\n",
       "    </tr>\n",
       "    <tr>\n",
       "      <th>1</th>\n",
       "      <td>August 4</td>\n",
       "      <td>\"Patricia\"</td>\n",
       "      <td>Pérez Prado</td>\n",
       "      <td>2</td>\n",
       "      <td>August 4</td>\n",
       "      <td>6</td>\n",
       "      <td>1958</td>\n",
       "      <td>spotify:track:2bwhOdCOLgQ8v6xStAqnju</td>\n",
       "    </tr>\n",
       "    <tr>\n",
       "      <th>2</th>\n",
       "      <td>August 4</td>\n",
       "      <td>\"Splish Splash\"</td>\n",
       "      <td>Bobby Darin</td>\n",
       "      <td>3</td>\n",
       "      <td>August 4</td>\n",
       "      <td>3</td>\n",
       "      <td>1958</td>\n",
       "      <td>spotify:track:40fD7ct05FvQHLdQTgJelG</td>\n",
       "    </tr>\n",
       "    <tr>\n",
       "      <th>3</th>\n",
       "      <td>August 4</td>\n",
       "      <td>\"Hard Headed Woman\"</td>\n",
       "      <td>Elvis Presley</td>\n",
       "      <td>4</td>\n",
       "      <td>August 4</td>\n",
       "      <td>2</td>\n",
       "      <td>1958</td>\n",
       "      <td>spotify:track:3SU1TXJtAsf8jCKdUeYy53</td>\n",
       "    </tr>\n",
       "    <tr>\n",
       "      <th>4</th>\n",
       "      <td>August 4</td>\n",
       "      <td>\"When\"</td>\n",
       "      <td>Kalin Twins</td>\n",
       "      <td>5</td>\n",
       "      <td>August 4</td>\n",
       "      <td>5</td>\n",
       "      <td>1958</td>\n",
       "      <td>spotify:track:3HZJ9BLBpDya4p71VfXSWp</td>\n",
       "    </tr>\n",
       "  </tbody>\n",
       "</table>\n",
       "</div>"
      ],
      "text/plain": [
       "  entry_date                title         artist  peak peak_date  \\\n",
       "0   August 4   \"Poor Little Fool\"   Ricky Nelson     1  August 4   \n",
       "1   August 4           \"Patricia\"    Pérez Prado     2  August 4   \n",
       "2   August 4      \"Splish Splash\"    Bobby Darin     3  August 4   \n",
       "3   August 4  \"Hard Headed Woman\"  Elvis Presley     4  August 4   \n",
       "4   August 4               \"When\"    Kalin Twins     5  August 4   \n",
       "\n",
       "  weeks_top_ten  year                           spotify_uri  \n",
       "0             6  1958  spotify:track:5ayybTSXNwcarDtxQKqvWX  \n",
       "1             6  1958  spotify:track:2bwhOdCOLgQ8v6xStAqnju  \n",
       "2             3  1958  spotify:track:40fD7ct05FvQHLdQTgJelG  \n",
       "3             2  1958  spotify:track:3SU1TXJtAsf8jCKdUeYy53  \n",
       "4             5  1958  spotify:track:3HZJ9BLBpDya4p71VfXSWp  "
      ]
     },
     "execution_count": 18,
     "metadata": {},
     "output_type": "execute_result"
    }
   ],
   "source": [
    "df.head()"
   ]
  },
  {
   "cell_type": "code",
   "execution_count": null,
   "metadata": {
    "cell_id": "239f356cf83f40b383dd60a37fb21f01",
    "deepnote_cell_height": 76,
    "deepnote_cell_type": "code",
    "deepnote_to_be_reexecuted": false,
    "execution_millis": 8,
    "execution_start": 1656584658350,
    "source_hash": "1282ee91",
    "tags": []
   },
   "outputs": [],
   "source": [
    "list_df = df.to_dict(orient='records')"
   ]
  },
  {
   "cell_type": "code",
   "execution_count": null,
   "metadata": {
    "cell_id": "90285820fc1a423fa4d4c00e1a02602d",
    "deepnote_cell_height": 76,
    "deepnote_cell_type": "code",
    "deepnote_to_be_reexecuted": false,
    "execution_millis": 78,
    "execution_start": 1656584658360,
    "source_hash": "be1ae17f",
    "tags": []
   },
   "outputs": [],
   "source": [
    "spotify.audio_features(list_df[88]['spotify_uri'])[0]"
   ]
  },
  {
   "cell_type": "code",
   "execution_count": null,
   "metadata": {
    "cell_id": "7a2fe5f7cf5145bba79a58f7ee836a59",
    "deepnote_cell_height": 246.5,
    "deepnote_cell_type": "code",
    "deepnote_to_be_reexecuted": false,
    "execution_millis": 616,
    "execution_start": 1656586118149,
    "source_hash": "3231667d",
    "tags": []
   },
   "outputs": [
    {
     "data": {
      "text/plain": [
       "{'entry_date': 'July 2',\n",
       " 'title': '\"Falling Back\"',\n",
       " 'artist': 'Drake',\n",
       " 'peak': 7,\n",
       " 'peak_date': 'July 2',\n",
       " 'weeks_top_ten': '1*',\n",
       " 'year': 2022,\n",
       " 'spotify_uri': 'spotify:track:1vbn9fEyw1IYhqgZJdu9ZB'}"
      ]
     },
     "execution_count": 27,
     "metadata": {},
     "output_type": "execute_result"
    }
   ],
   "source": [
    "item"
   ]
  },
  {
   "cell_type": "code",
   "execution_count": null,
   "metadata": {
    "cell_id": "1d61e27499ae48528bd21277db2bffa5",
    "deepnote_cell_height": 233.1875,
    "deepnote_cell_type": "code",
    "deepnote_to_be_reexecuted": false,
    "execution_millis": 327800,
    "execution_start": 1656586166851,
    "source_hash": "1165c55c",
    "tags": []
   },
   "outputs": [
    {
     "name": "stderr",
     "output_type": "stream",
     "text": [
      "100%|██████████| 4251/4251 [05:27<00:00, 12.97it/s]\n"
     ]
    }
   ],
   "source": [
    "new_list = []\n",
    "for item in tqdm(list_df):\n",
    "    feature_dict = spotify.audio_features(item['spotify_uri'])[0]\n",
    "    if feature_dict is not None:\n",
    "        combo_dict = {**item, **feature_dict}\n",
    "    else:\n",
    "        combo_dict = item\n",
    "    new_list.append(combo_dict)"
   ]
  },
  {
   "cell_type": "code",
   "execution_count": null,
   "metadata": {
    "cell_id": "c7e688d062d6498abacd533e3b7e3755",
    "deepnote_cell_height": 423,
    "deepnote_cell_type": "code",
    "deepnote_to_be_reexecuted": false,
    "execution_millis": 66,
    "execution_start": 1656586494651,
    "source_hash": "6f4a18b9",
    "tags": []
   },
   "outputs": [
    {
     "data": {
      "application/vnd.deepnote.dataframe.v3+json": {
       "column_count": 26,
       "columns": [
        {
         "dtype": "object",
         "name": "entry_date",
         "stats": {
          "categories": [
           {
            "count": 5,
            "name": "August 4"
           }
          ],
          "nan_count": 0,
          "unique_count": 1
         }
        },
        {
         "dtype": "object",
         "name": "title",
         "stats": {
          "categories": [
           {
            "count": 1,
            "name": "\"Poor Little Fool\""
           },
           {
            "count": 1,
            "name": "\"Patricia\""
           },
           {
            "count": 3,
            "name": "3 others"
           }
          ],
          "nan_count": 0,
          "unique_count": 5
         }
        },
        {
         "dtype": "object",
         "name": "artist",
         "stats": {
          "categories": [
           {
            "count": 1,
            "name": "Ricky Nelson"
           },
           {
            "count": 1,
            "name": "Pérez Prado"
           },
           {
            "count": 3,
            "name": "3 others"
           }
          ],
          "nan_count": 0,
          "unique_count": 5
         }
        },
        {
         "dtype": "int64",
         "name": "peak",
         "stats": {
          "histogram": [
           {
            "bin_end": 1.4,
            "bin_start": 1,
            "count": 1
           },
           {
            "bin_end": 1.8,
            "bin_start": 1.4,
            "count": 0
           },
           {
            "bin_end": 2.2,
            "bin_start": 1.8,
            "count": 1
           },
           {
            "bin_end": 2.6,
            "bin_start": 2.2,
            "count": 0
           },
           {
            "bin_end": 3,
            "bin_start": 2.6,
            "count": 0
           },
           {
            "bin_end": 3.4000000000000004,
            "bin_start": 3,
            "count": 1
           },
           {
            "bin_end": 3.8000000000000003,
            "bin_start": 3.4000000000000004,
            "count": 0
           },
           {
            "bin_end": 4.2,
            "bin_start": 3.8000000000000003,
            "count": 1
           },
           {
            "bin_end": 4.6,
            "bin_start": 4.2,
            "count": 0
           },
           {
            "bin_end": 5,
            "bin_start": 4.6,
            "count": 1
           }
          ],
          "max": "5",
          "min": "1",
          "nan_count": 0,
          "unique_count": 5
         }
        },
        {
         "dtype": "object",
         "name": "peak_date",
         "stats": {
          "categories": [
           {
            "count": 5,
            "name": "August 4"
           }
          ],
          "nan_count": 0,
          "unique_count": 1
         }
        },
        {
         "dtype": "object",
         "name": "weeks_top_ten",
         "stats": {
          "categories": [
           {
            "count": 2,
            "name": "6"
           },
           {
            "count": 1,
            "name": "3"
           },
           {
            "count": 2,
            "name": "2 others"
           }
          ],
          "nan_count": 0,
          "unique_count": 4
         }
        },
        {
         "dtype": "int64",
         "name": "year",
         "stats": {
          "histogram": [
           {
            "bin_end": 1957.6,
            "bin_start": 1957.5,
            "count": 0
           },
           {
            "bin_end": 1957.7,
            "bin_start": 1957.6,
            "count": 0
           },
           {
            "bin_end": 1957.8,
            "bin_start": 1957.7,
            "count": 0
           },
           {
            "bin_end": 1957.9,
            "bin_start": 1957.8,
            "count": 0
           },
           {
            "bin_end": 1958,
            "bin_start": 1957.9,
            "count": 0
           },
           {
            "bin_end": 1958.1,
            "bin_start": 1958,
            "count": 5
           },
           {
            "bin_end": 1958.2,
            "bin_start": 1958.1,
            "count": 0
           },
           {
            "bin_end": 1958.3,
            "bin_start": 1958.2,
            "count": 0
           },
           {
            "bin_end": 1958.4,
            "bin_start": 1958.3,
            "count": 0
           },
           {
            "bin_end": 1958.5,
            "bin_start": 1958.4,
            "count": 0
           }
          ],
          "max": "1958",
          "min": "1958",
          "nan_count": 0,
          "unique_count": 1
         }
        },
        {
         "dtype": "object",
         "name": "spotify_uri",
         "stats": {
          "categories": [
           {
            "count": 1,
            "name": "spotify:track:5ayybTSXNwcarDtxQKqvWX"
           },
           {
            "count": 1,
            "name": "spotify:track:2bwhOdCOLgQ8v6xStAqnju"
           },
           {
            "count": 3,
            "name": "3 others"
           }
          ],
          "nan_count": 0,
          "unique_count": 5
         }
        },
        {
         "dtype": "float64",
         "name": "danceability",
         "stats": {
          "histogram": [
           {
            "bin_end": 0.4965,
            "bin_start": 0.474,
            "count": 1
           },
           {
            "bin_end": 0.519,
            "bin_start": 0.4965,
            "count": 0
           },
           {
            "bin_end": 0.5415,
            "bin_start": 0.519,
            "count": 0
           },
           {
            "bin_end": 0.564,
            "bin_start": 0.5415,
            "count": 0
           },
           {
            "bin_end": 0.5865,
            "bin_start": 0.564,
            "count": 0
           },
           {
            "bin_end": 0.609,
            "bin_start": 0.5865,
            "count": 0
           },
           {
            "bin_end": 0.6315,
            "bin_start": 0.609,
            "count": 1
           },
           {
            "bin_end": 0.6539999999999999,
            "bin_start": 0.6315,
            "count": 1
           },
           {
            "bin_end": 0.6765,
            "bin_start": 0.6539999999999999,
            "count": 1
           },
           {
            "bin_end": 0.699,
            "bin_start": 0.6765,
            "count": 1
           }
          ],
          "max": "0.699",
          "min": "0.474",
          "nan_count": 0,
          "unique_count": 5
         }
        },
        {
         "dtype": "float64",
         "name": "energy",
         "stats": {
          "histogram": [
           {
            "bin_end": 0.3985,
            "bin_start": 0.338,
            "count": 1
           },
           {
            "bin_end": 0.459,
            "bin_start": 0.3985,
            "count": 0
           },
           {
            "bin_end": 0.5195000000000001,
            "bin_start": 0.459,
            "count": 1
           },
           {
            "bin_end": 0.5800000000000001,
            "bin_start": 0.5195000000000001,
            "count": 0
           },
           {
            "bin_end": 0.6405000000000001,
            "bin_start": 0.5800000000000001,
            "count": 0
           },
           {
            "bin_end": 0.7010000000000001,
            "bin_start": 0.6405000000000001,
            "count": 0
           },
           {
            "bin_end": 0.7615000000000001,
            "bin_start": 0.7010000000000001,
            "count": 1
           },
           {
            "bin_end": 0.8220000000000001,
            "bin_start": 0.7615000000000001,
            "count": 0
           },
           {
            "bin_end": 0.8825000000000001,
            "bin_start": 0.8220000000000001,
            "count": 1
           },
           {
            "bin_end": 0.943,
            "bin_start": 0.8825000000000001,
            "count": 1
           }
          ],
          "max": "0.943",
          "min": "0.338",
          "nan_count": 0,
          "unique_count": 5
         }
        },
        {
         "dtype": "float64",
         "name": "key",
         "stats": {
          "histogram": [
           {
            "bin_end": 0.6,
            "bin_start": 0,
            "count": 3
           },
           {
            "bin_end": 1.2,
            "bin_start": 0.6,
            "count": 1
           },
           {
            "bin_end": 1.7999999999999998,
            "bin_start": 1.2,
            "count": 0
           },
           {
            "bin_end": 2.4,
            "bin_start": 1.7999999999999998,
            "count": 0
           },
           {
            "bin_end": 3,
            "bin_start": 2.4,
            "count": 0
           },
           {
            "bin_end": 3.5999999999999996,
            "bin_start": 3,
            "count": 0
           },
           {
            "bin_end": 4.2,
            "bin_start": 3.5999999999999996,
            "count": 0
           },
           {
            "bin_end": 4.8,
            "bin_start": 4.2,
            "count": 0
           },
           {
            "bin_end": 5.3999999999999995,
            "bin_start": 4.8,
            "count": 0
           },
           {
            "bin_end": 6,
            "bin_start": 5.3999999999999995,
            "count": 1
           }
          ],
          "max": "6.0",
          "min": "0.0",
          "nan_count": 0,
          "unique_count": 3
         }
        },
        {
         "dtype": "float64",
         "name": "loudness",
         "stats": {
          "histogram": [
           {
            "bin_end": -10.527800000000001,
            "bin_start": -11.528,
            "count": 1
           },
           {
            "bin_end": -9.5276,
            "bin_start": -10.527800000000001,
            "count": 1
           },
           {
            "bin_end": -8.5274,
            "bin_start": -9.5276,
            "count": 0
           },
           {
            "bin_end": -7.527200000000001,
            "bin_start": -8.5274,
            "count": 0
           },
           {
            "bin_end": -6.527000000000001,
            "bin_start": -7.527200000000001,
            "count": 0
           },
           {
            "bin_end": -5.526800000000001,
            "bin_start": -6.527000000000001,
            "count": 1
           },
           {
            "bin_end": -4.5266,
            "bin_start": -5.526800000000001,
            "count": 0
           },
           {
            "bin_end": -3.5264000000000006,
            "bin_start": -4.5266,
            "count": 1
           },
           {
            "bin_end": -2.526200000000001,
            "bin_start": -3.5264000000000006,
            "count": 0
           },
           {
            "bin_end": -1.526,
            "bin_start": -2.526200000000001,
            "count": 1
           }
          ],
          "max": "-1.526",
          "min": "-11.528",
          "nan_count": 0,
          "unique_count": 5
         }
        },
        {
         "dtype": "float64",
         "name": "mode",
         "stats": {
          "histogram": [
           {
            "bin_end": 0.6,
            "bin_start": 0.5,
            "count": 0
           },
           {
            "bin_end": 0.7,
            "bin_start": 0.6,
            "count": 0
           },
           {
            "bin_end": 0.8,
            "bin_start": 0.7,
            "count": 0
           },
           {
            "bin_end": 0.9,
            "bin_start": 0.8,
            "count": 0
           },
           {
            "bin_end": 1,
            "bin_start": 0.9,
            "count": 0
           },
           {
            "bin_end": 1.1,
            "bin_start": 1,
            "count": 5
           },
           {
            "bin_end": 1.2000000000000002,
            "bin_start": 1.1,
            "count": 0
           },
           {
            "bin_end": 1.3,
            "bin_start": 1.2000000000000002,
            "count": 0
           },
           {
            "bin_end": 1.4,
            "bin_start": 1.3,
            "count": 0
           },
           {
            "bin_end": 1.5,
            "bin_start": 1.4,
            "count": 0
           }
          ],
          "max": "1.0",
          "min": "1.0",
          "nan_count": 0,
          "unique_count": 1
         }
        },
        {
         "dtype": "float64",
         "name": "speechiness",
         "stats": {
          "histogram": [
           {
            "bin_end": 0.03771,
            "bin_start": 0.0299,
            "count": 2
           },
           {
            "bin_end": 0.04552,
            "bin_start": 0.03771,
            "count": 2
           },
           {
            "bin_end": 0.05333,
            "bin_start": 0.04552,
            "count": 0
           },
           {
            "bin_end": 0.06114,
            "bin_start": 0.05333,
            "count": 0
           },
           {
            "bin_end": 0.06895,
            "bin_start": 0.06114,
            "count": 0
           },
           {
            "bin_end": 0.07676,
            "bin_start": 0.06895,
            "count": 0
           },
           {
            "bin_end": 0.08457,
            "bin_start": 0.07676,
            "count": 0
           },
           {
            "bin_end": 0.09238,
            "bin_start": 0.08457,
            "count": 0
           },
           {
            "bin_end": 0.10019,
            "bin_start": 0.09238,
            "count": 0
           },
           {
            "bin_end": 0.108,
            "bin_start": 0.10019,
            "count": 1
           }
          ],
          "max": "0.108",
          "min": "0.0299",
          "nan_count": 0,
          "unique_count": 5
         }
        },
        {
         "dtype": "float64",
         "name": "acousticness",
         "stats": {
          "histogram": [
           {
            "bin_end": 0.2506,
            "bin_start": 0.18,
            "count": 1
           },
           {
            "bin_end": 0.3212,
            "bin_start": 0.2506,
            "count": 0
           },
           {
            "bin_end": 0.3918,
            "bin_start": 0.3212,
            "count": 1
           },
           {
            "bin_end": 0.4624,
            "bin_start": 0.3918,
            "count": 0
           },
           {
            "bin_end": 0.5329999999999999,
            "bin_start": 0.4624,
            "count": 0
           },
           {
            "bin_end": 0.6035999999999999,
            "bin_start": 0.5329999999999999,
            "count": 1
           },
           {
            "bin_end": 0.6741999999999999,
            "bin_start": 0.6035999999999999,
            "count": 1
           },
           {
            "bin_end": 0.7447999999999999,
            "bin_start": 0.6741999999999999,
            "count": 0
           },
           {
            "bin_end": 0.8153999999999999,
            "bin_start": 0.7447999999999999,
            "count": 0
           },
           {
            "bin_end": 0.886,
            "bin_start": 0.8153999999999999,
            "count": 1
           }
          ],
          "max": "0.886",
          "min": "0.18",
          "nan_count": 0,
          "unique_count": 5
         }
        },
        {
         "dtype": "float64",
         "name": "instrumentalness",
         "stats": {
          "histogram": [
           {
            "bin_end": 0.041499999999999995,
            "bin_start": 0,
            "count": 4
           },
           {
            "bin_end": 0.08299999999999999,
            "bin_start": 0.041499999999999995,
            "count": 0
           },
           {
            "bin_end": 0.12449999999999999,
            "bin_start": 0.08299999999999999,
            "count": 0
           },
           {
            "bin_end": 0.16599999999999998,
            "bin_start": 0.12449999999999999,
            "count": 0
           },
           {
            "bin_end": 0.20749999999999996,
            "bin_start": 0.16599999999999998,
            "count": 0
           },
           {
            "bin_end": 0.24899999999999997,
            "bin_start": 0.20749999999999996,
            "count": 0
           },
           {
            "bin_end": 0.2905,
            "bin_start": 0.24899999999999997,
            "count": 0
           },
           {
            "bin_end": 0.33199999999999996,
            "bin_start": 0.2905,
            "count": 0
           },
           {
            "bin_end": 0.37349999999999994,
            "bin_start": 0.33199999999999996,
            "count": 0
           },
           {
            "bin_end": 0.415,
            "bin_start": 0.37349999999999994,
            "count": 1
           }
          ],
          "max": "0.415",
          "min": "0.0",
          "nan_count": 0,
          "unique_count": 4
         }
        },
        {
         "dtype": "float64",
         "name": "liveness",
         "stats": {
          "histogram": [
           {
            "bin_end": 0.10036,
            "bin_start": 0.0704,
            "count": 1
           },
           {
            "bin_end": 0.13032,
            "bin_start": 0.10036,
            "count": 2
           },
           {
            "bin_end": 0.16027999999999998,
            "bin_start": 0.13032,
            "count": 0
           },
           {
            "bin_end": 0.19024,
            "bin_start": 0.16027999999999998,
            "count": 1
           },
           {
            "bin_end": 0.2202,
            "bin_start": 0.19024,
            "count": 0
           },
           {
            "bin_end": 0.25016,
            "bin_start": 0.2202,
            "count": 0
           },
           {
            "bin_end": 0.28012,
            "bin_start": 0.25016,
            "count": 0
           },
           {
            "bin_end": 0.31007999999999997,
            "bin_start": 0.28012,
            "count": 0
           },
           {
            "bin_end": 0.34004,
            "bin_start": 0.31007999999999997,
            "count": 0
           },
           {
            "bin_end": 0.37,
            "bin_start": 0.34004,
            "count": 1
           }
          ],
          "max": "0.37",
          "min": "0.0704",
          "nan_count": 0,
          "unique_count": 5
         }
        },
        {
         "dtype": "float64",
         "name": "valence",
         "stats": {
          "histogram": [
           {
            "bin_end": 0.8255,
            "bin_start": 0.81,
            "count": 2
           },
           {
            "bin_end": 0.8410000000000001,
            "bin_start": 0.8255,
            "count": 0
           },
           {
            "bin_end": 0.8565,
            "bin_start": 0.8410000000000001,
            "count": 0
           },
           {
            "bin_end": 0.872,
            "bin_start": 0.8565,
            "count": 0
           },
           {
            "bin_end": 0.8875,
            "bin_start": 0.872,
            "count": 0
           },
           {
            "bin_end": 0.903,
            "bin_start": 0.8875,
            "count": 0
           },
           {
            "bin_end": 0.9185,
            "bin_start": 0.903,
            "count": 0
           },
           {
            "bin_end": 0.9339999999999999,
            "bin_start": 0.9185,
            "count": 1
           },
           {
            "bin_end": 0.9495,
            "bin_start": 0.9339999999999999,
            "count": 1
           },
           {
            "bin_end": 0.965,
            "bin_start": 0.9495,
            "count": 1
           }
          ],
          "max": "0.965",
          "min": "0.81",
          "nan_count": 0,
          "unique_count": 4
         }
        },
        {
         "dtype": "float64",
         "name": "tempo",
         "stats": {
          "histogram": [
           {
            "bin_end": 99.1758,
            "bin_start": 93.018,
            "count": 2
           },
           {
            "bin_end": 105.3336,
            "bin_start": 99.1758,
            "count": 0
           },
           {
            "bin_end": 111.4914,
            "bin_start": 105.3336,
            "count": 0
           },
           {
            "bin_end": 117.64920000000001,
            "bin_start": 111.4914,
            "count": 0
           },
           {
            "bin_end": 123.807,
            "bin_start": 117.64920000000001,
            "count": 0
           },
           {
            "bin_end": 129.9648,
            "bin_start": 123.807,
            "count": 0
           },
           {
            "bin_end": 136.1226,
            "bin_start": 129.9648,
            "count": 0
           },
           {
            "bin_end": 142.2804,
            "bin_start": 136.1226,
            "count": 1
           },
           {
            "bin_end": 148.4382,
            "bin_start": 142.2804,
            "count": 1
           },
           {
            "bin_end": 154.596,
            "bin_start": 148.4382,
            "count": 1
           }
          ],
          "max": "154.596",
          "min": "93.018",
          "nan_count": 0,
          "unique_count": 5
         }
        },
        {
         "dtype": "object",
         "name": "type",
         "stats": {
          "categories": [
           {
            "count": 5,
            "name": "audio_features"
           }
          ],
          "nan_count": 0,
          "unique_count": 1
         }
        },
        {
         "dtype": "object",
         "name": "id",
         "stats": {
          "categories": [
           {
            "count": 1,
            "name": "5ayybTSXNwcarDtxQKqvWX"
           },
           {
            "count": 1,
            "name": "2bwhOdCOLgQ8v6xStAqnju"
           },
           {
            "count": 3,
            "name": "3 others"
           }
          ],
          "nan_count": 0,
          "unique_count": 5
         }
        },
        {
         "dtype": "object",
         "name": "uri",
         "stats": {
          "categories": [
           {
            "count": 1,
            "name": "spotify:track:5ayybTSXNwcarDtxQKqvWX"
           },
           {
            "count": 1,
            "name": "spotify:track:2bwhOdCOLgQ8v6xStAqnju"
           },
           {
            "count": 3,
            "name": "3 others"
           }
          ],
          "nan_count": 0,
          "unique_count": 5
         }
        },
        {
         "dtype": "object",
         "name": "track_href",
         "stats": {
          "categories": [
           {
            "count": 1,
            "name": "https://api.spotify.com/v1/tracks/5ayybTSXNwcarDtxQKqvWX"
           },
           {
            "count": 1,
            "name": "https://api.spotify.com/v1/tracks/2bwhOdCOLgQ8v6xStAqnju"
           },
           {
            "count": 3,
            "name": "3 others"
           }
          ],
          "nan_count": 0,
          "unique_count": 5
         }
        },
        {
         "dtype": "object",
         "name": "analysis_url",
         "stats": {
          "categories": [
           {
            "count": 1,
            "name": "https://api.spotify.com/v1/audio-analysis/5ayybTSXNwcarDtxQKqvWX"
           },
           {
            "count": 1,
            "name": "https://api.spotify.com/v1/audio-analysis/2bwhOdCOLgQ8v6xStAqnju"
           },
           {
            "count": 3,
            "name": "3 others"
           }
          ],
          "nan_count": 0,
          "unique_count": 5
         }
        },
        {
         "dtype": "float64",
         "name": "duration_ms",
         "stats": {
          "histogram": [
           {
            "bin_end": 118209.3,
            "bin_start": 114240,
            "count": 1
           },
           {
            "bin_end": 122178.6,
            "bin_start": 118209.3,
            "count": 0
           },
           {
            "bin_end": 126147.9,
            "bin_start": 122178.6,
            "count": 0
           },
           {
            "bin_end": 130117.2,
            "bin_start": 126147.9,
            "count": 0
           },
           {
            "bin_end": 134086.5,
            "bin_start": 130117.2,
            "count": 1
           },
           {
            "bin_end": 138055.8,
            "bin_start": 134086.5,
            "count": 0
           },
           {
            "bin_end": 142025.1,
            "bin_start": 138055.8,
            "count": 1
           },
           {
            "bin_end": 145994.4,
            "bin_start": 142025.1,
            "count": 0
           },
           {
            "bin_end": 149963.7,
            "bin_start": 145994.4,
            "count": 1
           },
           {
            "bin_end": 153933,
            "bin_start": 149963.7,
            "count": 1
           }
          ],
          "max": "153933.0",
          "min": "114240.0",
          "nan_count": 0,
          "unique_count": 5
         }
        },
        {
         "dtype": "float64",
         "name": "time_signature",
         "stats": {
          "histogram": [
           {
            "bin_end": 3.6,
            "bin_start": 3.5,
            "count": 0
           },
           {
            "bin_end": 3.7,
            "bin_start": 3.6,
            "count": 0
           },
           {
            "bin_end": 3.8,
            "bin_start": 3.7,
            "count": 0
           },
           {
            "bin_end": 3.9,
            "bin_start": 3.8,
            "count": 0
           },
           {
            "bin_end": 4,
            "bin_start": 3.9,
            "count": 0
           },
           {
            "bin_end": 4.1,
            "bin_start": 4,
            "count": 5
           },
           {
            "bin_end": 4.2,
            "bin_start": 4.1,
            "count": 0
           },
           {
            "bin_end": 4.3,
            "bin_start": 4.2,
            "count": 0
           },
           {
            "bin_end": 4.4,
            "bin_start": 4.3,
            "count": 0
           },
           {
            "bin_end": 4.5,
            "bin_start": 4.4,
            "count": 0
           }
          ],
          "max": "4.0",
          "min": "4.0",
          "nan_count": 0,
          "unique_count": 1
         }
        },
        {
         "dtype": "int64",
         "name": "_deepnote_index_column"
        }
       ],
       "row_count": 5,
       "rows": [
        {
         "_deepnote_index_column": 0,
         "acousticness": 0.648,
         "analysis_url": "https://api.spotify.com/v1/audio-analysis/5ayybTSXNwcarDtxQKqvWX",
         "artist": "Ricky Nelson",
         "danceability": 0.474,
         "duration_ms": 153933,
         "energy": 0.338,
         "entry_date": "August 4",
         "id": "5ayybTSXNwcarDtxQKqvWX",
         "instrumentalness": 0,
         "key": 0,
         "liveness": 0.13,
         "loudness": -11.528,
         "mode": 1,
         "peak": 1,
         "peak_date": "August 4",
         "speechiness": 0.0299,
         "spotify_uri": "spotify:track:5ayybTSXNwcarDtxQKqvWX",
         "tempo": 154.596,
         "time_signature": 4,
         "title": "\"Poor Little Fool\"",
         "track_href": "https://api.spotify.com/v1/tracks/5ayybTSXNwcarDtxQKqvWX",
         "type": "audio_features",
         "uri": "spotify:track:5ayybTSXNwcarDtxQKqvWX",
         "valence": 0.81,
         "weeks_top_ten": "6",
         "year": 1958
        },
        {
         "_deepnote_index_column": 1,
         "acousticness": 0.18,
         "analysis_url": "https://api.spotify.com/v1/audio-analysis/2bwhOdCOLgQ8v6xStAqnju",
         "artist": "Pérez Prado",
         "danceability": 0.699,
         "duration_ms": 140000,
         "energy": 0.715,
         "entry_date": "August 4",
         "id": "2bwhOdCOLgQ8v6xStAqnju",
         "instrumentalness": 0.415,
         "key": 1,
         "liveness": 0.0704,
         "loudness": -5.976,
         "mode": 1,
         "peak": 2,
         "peak_date": "August 4",
         "speechiness": 0.0391,
         "spotify_uri": "spotify:track:2bwhOdCOLgQ8v6xStAqnju",
         "tempo": 137.373,
         "time_signature": 4,
         "title": "\"Patricia\"",
         "track_href": "https://api.spotify.com/v1/tracks/2bwhOdCOLgQ8v6xStAqnju",
         "type": "audio_features",
         "uri": "spotify:track:2bwhOdCOLgQ8v6xStAqnju",
         "valence": 0.81,
         "weeks_top_ten": "6",
         "year": 1958
        },
        {
         "_deepnote_index_column": 2,
         "acousticness": 0.385,
         "analysis_url": "https://api.spotify.com/v1/audio-analysis/40fD7ct05FvQHLdQTgJelG",
         "artist": "Bobby Darin",
         "danceability": 0.645,
         "duration_ms": 131720,
         "energy": 0.943,
         "entry_date": "August 4",
         "id": "40fD7ct05FvQHLdQTgJelG",
         "instrumentalness": 0,
         "key": 0,
         "liveness": 0.37,
         "loudness": -1.526,
         "mode": 1,
         "peak": 3,
         "peak_date": "August 4",
         "speechiness": 0.0393,
         "spotify_uri": "spotify:track:40fD7ct05FvQHLdQTgJelG",
         "tempo": 147.768,
         "time_signature": 4,
         "title": "\"Splish Splash\"",
         "track_href": "https://api.spotify.com/v1/tracks/40fD7ct05FvQHLdQTgJelG",
         "type": "audio_features",
         "uri": "spotify:track:40fD7ct05FvQHLdQTgJelG",
         "valence": 0.965,
         "weeks_top_ten": "3",
         "year": 1958
        },
        {
         "_deepnote_index_column": 3,
         "acousticness": 0.886,
         "analysis_url": "https://api.spotify.com/v1/audio-analysis/3SU1TXJtAsf8jCKdUeYy53",
         "artist": "Elvis Presley",
         "danceability": 0.616,
         "duration_ms": 114240,
         "energy": 0.877,
         "entry_date": "August 4",
         "id": "3SU1TXJtAsf8jCKdUeYy53",
         "instrumentalness": 0.000119,
         "key": 0,
         "liveness": 0.184,
         "loudness": -4.232,
         "mode": 1,
         "peak": 4,
         "peak_date": "August 4",
         "speechiness": 0.108,
         "spotify_uri": "spotify:track:3SU1TXJtAsf8jCKdUeYy53",
         "tempo": 97.757,
         "time_signature": 4,
         "title": "\"Hard Headed Woman\"",
         "track_href": "https://api.spotify.com/v1/tracks/3SU1TXJtAsf8jCKdUeYy53",
         "type": "audio_features",
         "uri": "spotify:track:3SU1TXJtAsf8jCKdUeYy53",
         "valence": 0.919,
         "weeks_top_ten": "2",
         "year": 1958
        },
        {
         "_deepnote_index_column": 4,
         "acousticness": 0.541,
         "analysis_url": "https://api.spotify.com/v1/audio-analysis/3HZJ9BLBpDya4p71VfXSWp",
         "artist": "Kalin Twins",
         "danceability": 0.666,
         "duration_ms": 146573,
         "energy": 0.468,
         "entry_date": "August 4",
         "id": "3HZJ9BLBpDya4p71VfXSWp",
         "instrumentalness": 4.09e-05,
         "key": 6,
         "liveness": 0.119,
         "loudness": -9.823,
         "mode": 1,
         "peak": 5,
         "peak_date": "August 4",
         "speechiness": 0.0315,
         "spotify_uri": "spotify:track:3HZJ9BLBpDya4p71VfXSWp",
         "tempo": 93.018,
         "time_signature": 4,
         "title": "\"When\"",
         "track_href": "https://api.spotify.com/v1/tracks/3HZJ9BLBpDya4p71VfXSWp",
         "type": "audio_features",
         "uri": "spotify:track:3HZJ9BLBpDya4p71VfXSWp",
         "valence": 0.946,
         "weeks_top_ten": "5",
         "year": 1958
        }
       ]
      },
      "text/html": [
       "<div>\n",
       "<style scoped>\n",
       "    .dataframe tbody tr th:only-of-type {\n",
       "        vertical-align: middle;\n",
       "    }\n",
       "\n",
       "    .dataframe tbody tr th {\n",
       "        vertical-align: top;\n",
       "    }\n",
       "\n",
       "    .dataframe thead th {\n",
       "        text-align: right;\n",
       "    }\n",
       "</style>\n",
       "<table border=\"1\" class=\"dataframe\">\n",
       "  <thead>\n",
       "    <tr style=\"text-align: right;\">\n",
       "      <th></th>\n",
       "      <th>entry_date</th>\n",
       "      <th>title</th>\n",
       "      <th>artist</th>\n",
       "      <th>peak</th>\n",
       "      <th>peak_date</th>\n",
       "      <th>weeks_top_ten</th>\n",
       "      <th>year</th>\n",
       "      <th>spotify_uri</th>\n",
       "      <th>danceability</th>\n",
       "      <th>energy</th>\n",
       "      <th>...</th>\n",
       "      <th>liveness</th>\n",
       "      <th>valence</th>\n",
       "      <th>tempo</th>\n",
       "      <th>type</th>\n",
       "      <th>id</th>\n",
       "      <th>uri</th>\n",
       "      <th>track_href</th>\n",
       "      <th>analysis_url</th>\n",
       "      <th>duration_ms</th>\n",
       "      <th>time_signature</th>\n",
       "    </tr>\n",
       "  </thead>\n",
       "  <tbody>\n",
       "    <tr>\n",
       "      <th>0</th>\n",
       "      <td>August 4</td>\n",
       "      <td>\"Poor Little Fool\"</td>\n",
       "      <td>Ricky Nelson</td>\n",
       "      <td>1</td>\n",
       "      <td>August 4</td>\n",
       "      <td>6</td>\n",
       "      <td>1958</td>\n",
       "      <td>spotify:track:5ayybTSXNwcarDtxQKqvWX</td>\n",
       "      <td>0.474</td>\n",
       "      <td>0.338</td>\n",
       "      <td>...</td>\n",
       "      <td>0.1300</td>\n",
       "      <td>0.810</td>\n",
       "      <td>154.596</td>\n",
       "      <td>audio_features</td>\n",
       "      <td>5ayybTSXNwcarDtxQKqvWX</td>\n",
       "      <td>spotify:track:5ayybTSXNwcarDtxQKqvWX</td>\n",
       "      <td>https://api.spotify.com/v1/tracks/5ayybTSXNwca...</td>\n",
       "      <td>https://api.spotify.com/v1/audio-analysis/5ayy...</td>\n",
       "      <td>153933.0</td>\n",
       "      <td>4.0</td>\n",
       "    </tr>\n",
       "    <tr>\n",
       "      <th>1</th>\n",
       "      <td>August 4</td>\n",
       "      <td>\"Patricia\"</td>\n",
       "      <td>Pérez Prado</td>\n",
       "      <td>2</td>\n",
       "      <td>August 4</td>\n",
       "      <td>6</td>\n",
       "      <td>1958</td>\n",
       "      <td>spotify:track:2bwhOdCOLgQ8v6xStAqnju</td>\n",
       "      <td>0.699</td>\n",
       "      <td>0.715</td>\n",
       "      <td>...</td>\n",
       "      <td>0.0704</td>\n",
       "      <td>0.810</td>\n",
       "      <td>137.373</td>\n",
       "      <td>audio_features</td>\n",
       "      <td>2bwhOdCOLgQ8v6xStAqnju</td>\n",
       "      <td>spotify:track:2bwhOdCOLgQ8v6xStAqnju</td>\n",
       "      <td>https://api.spotify.com/v1/tracks/2bwhOdCOLgQ8...</td>\n",
       "      <td>https://api.spotify.com/v1/audio-analysis/2bwh...</td>\n",
       "      <td>140000.0</td>\n",
       "      <td>4.0</td>\n",
       "    </tr>\n",
       "    <tr>\n",
       "      <th>2</th>\n",
       "      <td>August 4</td>\n",
       "      <td>\"Splish Splash\"</td>\n",
       "      <td>Bobby Darin</td>\n",
       "      <td>3</td>\n",
       "      <td>August 4</td>\n",
       "      <td>3</td>\n",
       "      <td>1958</td>\n",
       "      <td>spotify:track:40fD7ct05FvQHLdQTgJelG</td>\n",
       "      <td>0.645</td>\n",
       "      <td>0.943</td>\n",
       "      <td>...</td>\n",
       "      <td>0.3700</td>\n",
       "      <td>0.965</td>\n",
       "      <td>147.768</td>\n",
       "      <td>audio_features</td>\n",
       "      <td>40fD7ct05FvQHLdQTgJelG</td>\n",
       "      <td>spotify:track:40fD7ct05FvQHLdQTgJelG</td>\n",
       "      <td>https://api.spotify.com/v1/tracks/40fD7ct05FvQ...</td>\n",
       "      <td>https://api.spotify.com/v1/audio-analysis/40fD...</td>\n",
       "      <td>131720.0</td>\n",
       "      <td>4.0</td>\n",
       "    </tr>\n",
       "    <tr>\n",
       "      <th>3</th>\n",
       "      <td>August 4</td>\n",
       "      <td>\"Hard Headed Woman\"</td>\n",
       "      <td>Elvis Presley</td>\n",
       "      <td>4</td>\n",
       "      <td>August 4</td>\n",
       "      <td>2</td>\n",
       "      <td>1958</td>\n",
       "      <td>spotify:track:3SU1TXJtAsf8jCKdUeYy53</td>\n",
       "      <td>0.616</td>\n",
       "      <td>0.877</td>\n",
       "      <td>...</td>\n",
       "      <td>0.1840</td>\n",
       "      <td>0.919</td>\n",
       "      <td>97.757</td>\n",
       "      <td>audio_features</td>\n",
       "      <td>3SU1TXJtAsf8jCKdUeYy53</td>\n",
       "      <td>spotify:track:3SU1TXJtAsf8jCKdUeYy53</td>\n",
       "      <td>https://api.spotify.com/v1/tracks/3SU1TXJtAsf8...</td>\n",
       "      <td>https://api.spotify.com/v1/audio-analysis/3SU1...</td>\n",
       "      <td>114240.0</td>\n",
       "      <td>4.0</td>\n",
       "    </tr>\n",
       "    <tr>\n",
       "      <th>4</th>\n",
       "      <td>August 4</td>\n",
       "      <td>\"When\"</td>\n",
       "      <td>Kalin Twins</td>\n",
       "      <td>5</td>\n",
       "      <td>August 4</td>\n",
       "      <td>5</td>\n",
       "      <td>1958</td>\n",
       "      <td>spotify:track:3HZJ9BLBpDya4p71VfXSWp</td>\n",
       "      <td>0.666</td>\n",
       "      <td>0.468</td>\n",
       "      <td>...</td>\n",
       "      <td>0.1190</td>\n",
       "      <td>0.946</td>\n",
       "      <td>93.018</td>\n",
       "      <td>audio_features</td>\n",
       "      <td>3HZJ9BLBpDya4p71VfXSWp</td>\n",
       "      <td>spotify:track:3HZJ9BLBpDya4p71VfXSWp</td>\n",
       "      <td>https://api.spotify.com/v1/tracks/3HZJ9BLBpDya...</td>\n",
       "      <td>https://api.spotify.com/v1/audio-analysis/3HZJ...</td>\n",
       "      <td>146573.0</td>\n",
       "      <td>4.0</td>\n",
       "    </tr>\n",
       "  </tbody>\n",
       "</table>\n",
       "<p>5 rows × 26 columns</p>\n",
       "</div>"
      ],
      "text/plain": [
       "  entry_date                title         artist  peak peak_date  \\\n",
       "0   August 4   \"Poor Little Fool\"   Ricky Nelson     1  August 4   \n",
       "1   August 4           \"Patricia\"    Pérez Prado     2  August 4   \n",
       "2   August 4      \"Splish Splash\"    Bobby Darin     3  August 4   \n",
       "3   August 4  \"Hard Headed Woman\"  Elvis Presley     4  August 4   \n",
       "4   August 4               \"When\"    Kalin Twins     5  August 4   \n",
       "\n",
       "  weeks_top_ten  year                           spotify_uri  danceability  \\\n",
       "0             6  1958  spotify:track:5ayybTSXNwcarDtxQKqvWX         0.474   \n",
       "1             6  1958  spotify:track:2bwhOdCOLgQ8v6xStAqnju         0.699   \n",
       "2             3  1958  spotify:track:40fD7ct05FvQHLdQTgJelG         0.645   \n",
       "3             2  1958  spotify:track:3SU1TXJtAsf8jCKdUeYy53         0.616   \n",
       "4             5  1958  spotify:track:3HZJ9BLBpDya4p71VfXSWp         0.666   \n",
       "\n",
       "   energy  ...  liveness  valence    tempo            type  \\\n",
       "0   0.338  ...    0.1300    0.810  154.596  audio_features   \n",
       "1   0.715  ...    0.0704    0.810  137.373  audio_features   \n",
       "2   0.943  ...    0.3700    0.965  147.768  audio_features   \n",
       "3   0.877  ...    0.1840    0.919   97.757  audio_features   \n",
       "4   0.468  ...    0.1190    0.946   93.018  audio_features   \n",
       "\n",
       "                       id                                   uri  \\\n",
       "0  5ayybTSXNwcarDtxQKqvWX  spotify:track:5ayybTSXNwcarDtxQKqvWX   \n",
       "1  2bwhOdCOLgQ8v6xStAqnju  spotify:track:2bwhOdCOLgQ8v6xStAqnju   \n",
       "2  40fD7ct05FvQHLdQTgJelG  spotify:track:40fD7ct05FvQHLdQTgJelG   \n",
       "3  3SU1TXJtAsf8jCKdUeYy53  spotify:track:3SU1TXJtAsf8jCKdUeYy53   \n",
       "4  3HZJ9BLBpDya4p71VfXSWp  spotify:track:3HZJ9BLBpDya4p71VfXSWp   \n",
       "\n",
       "                                          track_href  \\\n",
       "0  https://api.spotify.com/v1/tracks/5ayybTSXNwca...   \n",
       "1  https://api.spotify.com/v1/tracks/2bwhOdCOLgQ8...   \n",
       "2  https://api.spotify.com/v1/tracks/40fD7ct05FvQ...   \n",
       "3  https://api.spotify.com/v1/tracks/3SU1TXJtAsf8...   \n",
       "4  https://api.spotify.com/v1/tracks/3HZJ9BLBpDya...   \n",
       "\n",
       "                                        analysis_url  duration_ms  \\\n",
       "0  https://api.spotify.com/v1/audio-analysis/5ayy...     153933.0   \n",
       "1  https://api.spotify.com/v1/audio-analysis/2bwh...     140000.0   \n",
       "2  https://api.spotify.com/v1/audio-analysis/40fD...     131720.0   \n",
       "3  https://api.spotify.com/v1/audio-analysis/3SU1...     114240.0   \n",
       "4  https://api.spotify.com/v1/audio-analysis/3HZJ...     146573.0   \n",
       "\n",
       "  time_signature  \n",
       "0            4.0  \n",
       "1            4.0  \n",
       "2            4.0  \n",
       "3            4.0  \n",
       "4            4.0  \n",
       "\n",
       "[5 rows x 26 columns]"
      ]
     },
     "execution_count": 31,
     "metadata": {},
     "output_type": "execute_result"
    }
   ],
   "source": [
    "df = pd.DataFrame(new_list)\n",
    "df.head()"
   ]
  },
  {
   "cell_type": "code",
   "execution_count": null,
   "metadata": {
    "cell_id": "8d8fa8d0cbdd487bb563a450f180af09",
    "deepnote_cell_height": 76,
    "deepnote_cell_type": "code",
    "deepnote_to_be_reexecuted": false,
    "execution_millis": 92,
    "execution_start": 1656586494719,
    "source_hash": "d6f8f685",
    "tags": []
   },
   "outputs": [],
   "source": [
    "df.to_csv('songs.csv', index=False)"
   ]
  },
  {
   "cell_type": "code",
   "execution_count": null,
   "metadata": {
    "cell_id": "611d29bc18834627856e463d48b9287a",
    "deepnote_cell_height": 61,
    "deepnote_cell_type": "code",
    "owner_user_id": "77985c66-983a-4392-b0a2-f7ea090938c2",
    "tags": []
   },
   "outputs": [],
   "source": []
  },
  {
   "cell_type": "markdown",
   "metadata": {
    "created_in_deepnote_cell": true,
    "deepnote_cell_type": "markdown",
    "tags": []
   },
   "source": [
    "<a style='text-decoration:none;line-height:16px;display:flex;color:#5B5B62;padding:10px;justify-content:end;' href='https://deepnote.com?utm_source=created-in-deepnote-cell&projectId=7c21eb15-caf5-4a09-9d2b-13b3512c0e34' target=\"_blank\">\n",
    "<img alt='Created in deepnote.com' style='display:inline;max-height:16px;margin:0px;margin-right:7.5px;' src='data:image/svg+xml;base64,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' > </img>\n",
    "Created in <span style='font-weight:600;margin-left:4px;'>Deepnote</span></a>"
   ]
  }
 ],
 "metadata": {
  "deepnote": {},
  "deepnote_execution_queue": [],
  "deepnote_notebook_id": "1b4f744e-6369-440b-9425-4acf61122b4c",
  "kernelspec": {
   "display_name": "Python 3 (ipykernel)",
   "language": "python",
   "name": "python3"
  },
  "language_info": {
   "codemirror_mode": {
    "name": "ipython",
    "version": 3
   },
   "file_extension": ".py",
   "mimetype": "text/x-python",
   "name": "python",
   "nbconvert_exporter": "python",
   "pygments_lexer": "ipython3",
   "version": "3.11.9"
  }
 },
 "nbformat": 4,
 "nbformat_minor": 4
}
