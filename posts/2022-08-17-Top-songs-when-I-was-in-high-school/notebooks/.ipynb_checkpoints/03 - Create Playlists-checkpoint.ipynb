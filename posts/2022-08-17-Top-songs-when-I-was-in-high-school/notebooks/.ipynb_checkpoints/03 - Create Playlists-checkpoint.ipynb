{
 "cells": [
  {
   "cell_type": "markdown",
   "metadata": {
    "cell_id": "a2cbb18ac9754abfb9b1af3de84d7830",
    "deepnote_app_coordinates": {
     "h": 5,
     "w": 12,
     "x": 0,
     "y": 1
    },
    "deepnote_cell_type": "text-cell-h1",
    "formattedRanges": [],
    "is_collapsed": false,
    "tags": []
   },
   "source": [
    "# Create Playlists"
   ]
  },
  {
   "cell_type": "markdown",
   "metadata": {
    "cell_id": "6db1fa04-5963-4736-aba3-9440117b825a",
    "deepnote_cell_type": "text-cell-p",
    "formattedRanges": [],
    "is_collapsed": false,
    "tags": []
   },
   "source": [
    "This notebook uses Spotipy to create playlists for the song data collected previously programmatically."
   ]
  },
  {
   "cell_type": "code",
   "execution_count": null,
   "metadata": {
    "cell_id": "f5678935-15a4-4010-b3cd-c90b848b8433",
    "deepnote_cell_height": 202,
    "deepnote_cell_type": "code",
    "deepnote_to_be_reexecuted": false,
    "execution_millis": 0,
    "execution_start": 1660724702283,
    "owner_user_id": "77985c66-983a-4392-b0a2-f7ea090938c2",
    "source_hash": "7577b98c",
    "tags": []
   },
   "outputs": [],
   "source": [
    "import pandas as pd\n",
    "import numpy as np\n",
    "import math\n",
    "\n",
    "import spotipy\n",
    "from spotipy.oauth2 import SpotifyOAuth\n",
    "\n",
    "from tqdm import tqdm"
   ]
  },
  {
   "cell_type": "code",
   "execution_count": null,
   "metadata": {
    "cell_id": "5253c880d978477fa0125f0f54c9c80a",
    "deepnote_cell_height": 112,
    "deepnote_cell_type": "code",
    "deepnote_to_be_reexecuted": false,
    "execution_millis": 4,
    "execution_start": 1660724702440,
    "source_hash": "d3689280",
    "tags": []
   },
   "outputs": [],
   "source": [
    "auth_manager = SpotifyOAuth(scope=\"playlist-modify-public\", \n",
    "                            open_browser=False,  \n",
    "                            cache_path=\"/datasets/commonfiles/spotify/cache\")"
   ]
  },
  {
   "cell_type": "markdown",
   "metadata": {
    "cell_id": "add8a3d783ba4104a614bc88c890ba65",
    "deepnote_cell_type": "text-cell-h3",
    "formattedRanges": [],
    "is_collapsed": false,
    "tags": []
   },
   "source": [
    "### Set OAuth Token"
   ]
  },
  {
   "cell_type": "markdown",
   "metadata": {
    "cell_id": "0c4663bc-a3e1-4b1c-9f7a-cd03e1449fc2",
    "deepnote_cell_type": "text-cell-p",
    "formattedRanges": [],
    "is_collapsed": false,
    "tags": []
   },
   "source": [
    "This only needs to be done once theoretically, and Spotipy will refresh as needed."
   ]
  },
  {
   "cell_type": "code",
   "execution_count": null,
   "metadata": {
    "cell_id": "2b0ed114cfd84290a8781942fb77e190",
    "deepnote_cell_height": 76,
    "deepnote_cell_type": "code",
    "deepnote_to_be_reexecuted": false,
    "execution_millis": 2,
    "execution_start": 1660724583026,
    "source_hash": "b0d0f2c4",
    "tags": []
   },
   "outputs": [],
   "source": [
    "#auth_manager.get_authorize_url()"
   ]
  },
  {
   "cell_type": "code",
   "execution_count": null,
   "metadata": {
    "cell_id": "69ebfd64a70949e4adc3a1a203540eee",
    "deepnote_cell_height": 76,
    "deepnote_cell_type": "code",
    "deepnote_to_be_reexecuted": false,
    "execution_millis": 2,
    "execution_start": 1660724583257,
    "source_hash": "c015c91",
    "tags": []
   },
   "outputs": [],
   "source": [
    "#auth_manager.get_access_token(token here, as_dict=False)"
   ]
  },
  {
   "cell_type": "markdown",
   "metadata": {
    "cell_id": "d595b05f526342ff930c9730fadcef0b",
    "deepnote_cell_type": "text-cell-h3",
    "formattedRanges": [],
    "is_collapsed": false,
    "tags": []
   },
   "source": [
    "### Authorize and get current user"
   ]
  },
  {
   "cell_type": "code",
   "execution_count": null,
   "metadata": {
    "cell_id": "de2306c05ae64409be691bd309a3e3a8",
    "deepnote_cell_height": 76,
    "deepnote_cell_type": "code",
    "deepnote_to_be_reexecuted": false,
    "execution_millis": 7,
    "execution_start": 1660724621587,
    "source_hash": "9aa4e90e",
    "tags": []
   },
   "outputs": [],
   "source": [
    "spotify = spotipy.Spotify(auth_manager=auth_manager)"
   ]
  },
  {
   "cell_type": "code",
   "execution_count": null,
   "metadata": {
    "cell_id": "c3ceda75d93b42779b4a0c13e5697af5",
    "deepnote_cell_height": 264.5,
    "deepnote_cell_type": "code",
    "deepnote_output_heights": [
     154.5
    ],
    "deepnote_to_be_reexecuted": false,
    "execution_millis": 223,
    "execution_start": 1660724621911,
    "source_hash": "47018073",
    "tags": []
   },
   "outputs": [
    {
     "data": {
      "text/plain": [
       "{'display_name': 'Datafantic',\n",
       " 'external_urls': {'spotify': 'https://open.spotify.com/user/31s4ct55ob6xjoghw4uxspvyu34u'},\n",
       " 'followers': {'href': None, 'total': 0},\n",
       " 'href': 'https://api.spotify.com/v1/users/31s4ct55ob6xjoghw4uxspvyu34u',\n",
       " 'id': '31s4ct55ob6xjoghw4uxspvyu34u',\n",
       " 'images': [],\n",
       " 'type': 'user',\n",
       " 'uri': 'spotify:user:31s4ct55ob6xjoghw4uxspvyu34u'}"
      ]
     },
     "execution_count": 10,
     "metadata": {},
     "output_type": "execute_result"
    }
   ],
   "source": [
    "user_dict = spotify.current_user()\n",
    "user_dict"
   ]
  },
  {
   "cell_type": "markdown",
   "metadata": {
    "cell_id": "6c81e081cb8c47ae9935891d5471a5ff",
    "deepnote_cell_type": "text-cell-h3",
    "formattedRanges": [],
    "is_collapsed": false,
    "tags": []
   },
   "source": [
    "### App Code"
   ]
  },
  {
   "cell_type": "code",
   "execution_count": null,
   "metadata": {
    "cell_id": "b08f64ae894047bfa42ba267c0d16bf6",
    "deepnote_cell_height": 76,
    "deepnote_cell_type": "code",
    "deepnote_to_be_reexecuted": false,
    "execution_millis": 63,
    "execution_start": 1660648334169,
    "source_hash": "9e643b98",
    "tags": []
   },
   "outputs": [],
   "source": [
    "df = pd.read_csv(\"songs.csv\")"
   ]
  },
  {
   "cell_type": "code",
   "execution_count": null,
   "metadata": {
    "cell_id": "9c2d1c367899432da7d6dec35e5c2cda",
    "deepnote_cell_height": 76,
    "deepnote_cell_type": "code",
    "deepnote_to_be_reexecuted": false,
    "execution_millis": 3,
    "execution_start": 1660648334379,
    "source_hash": "2a82de68",
    "tags": []
   },
   "outputs": [],
   "source": [
    "years = df['year'].unique()"
   ]
  },
  {
   "cell_type": "code",
   "execution_count": null,
   "metadata": {
    "cell_id": "32c54a3822324c76808af2f50edd0a38",
    "deepnote_cell_height": 208.125,
    "deepnote_cell_type": "code",
    "deepnote_output_heights": [
     116.125
    ],
    "deepnote_to_be_reexecuted": false,
    "execution_millis": 5,
    "execution_start": 1660648334672,
    "source_hash": "1ea731e",
    "tags": []
   },
   "outputs": [
    {
     "data": {
      "text/plain": [
       "array([1958, 1959, 1960, 1961, 1962, 1963, 1964, 1965, 1966, 1967, 1968,\n",
       "       1969, 1970, 1971, 1972, 1973, 1974, 1975, 1976, 1977, 1978, 1979,\n",
       "       1980, 1981, 1982, 1983, 1984, 1985, 1986, 1987, 1988, 1989, 1990,\n",
       "       1991, 1992, 1993, 1994, 1995, 1996, 1997, 1998, 1999, 2000, 2001,\n",
       "       2002, 2003, 2004, 2005, 2006, 2007, 2008, 2009, 2010, 2011, 2012,\n",
       "       2013, 2014, 2015, 2016, 2017, 2018, 2019, 2020, 2021, 2022])"
      ]
     },
     "execution_count": 22,
     "metadata": {},
     "output_type": "execute_result"
    }
   ],
   "source": [
    "years"
   ]
  },
  {
   "cell_type": "code",
   "execution_count": null,
   "metadata": {
    "cell_id": "0ec688dd57dc4f5a9c5ecce6163b2475",
    "deepnote_app_coordinates": {
     "h": 4,
     "w": 8,
     "x": 0,
     "y": 7
    },
    "deepnote_cell_type": "input-select",
    "deepnote_to_be_reexecuted": false,
    "deepnote_variable_custom_options": [
     "Option 1",
     "Option 2"
    ],
    "deepnote_variable_name": "StartYear",
    "deepnote_variable_options": [
     "1958",
     "1959",
     "1960",
     "1961",
     "1962",
     "1963",
     "1964",
     "1965",
     "1966",
     "1967",
     "1968",
     "1969",
     "1970",
     "1971",
     "1972",
     "1973",
     "1974",
     "1975",
     "1976",
     "1977",
     "1978",
     "1979",
     "1980",
     "1981",
     "1982",
     "1983",
     "1984",
     "1985",
     "1986",
     "1987",
     "1988",
     "1989",
     "1990",
     "1991",
     "1992",
     "1993",
     "1994",
     "1995",
     "1996",
     "1997",
     "1998",
     "1999",
     "2000",
     "2001",
     "2002",
     "2003",
     "2004",
     "2005",
     "2006",
     "2007",
     "2008",
     "2009",
     "2010",
     "2011",
     "2012",
     "2013",
     "2014",
     "2015",
     "2016",
     "2017",
     "2018",
     "2019",
     "2020",
     "2021",
     "2022"
    ],
    "deepnote_variable_select_type": "from-variable",
    "deepnote_variable_selected_variable": "years",
    "deepnote_variable_value": "1958",
    "execution_millis": 6,
    "execution_start": 1660648335174,
    "source_hash": "e2262ce4"
   },
   "outputs": [],
   "source": [
    "StartYear = '1958'"
   ]
  },
  {
   "cell_type": "code",
   "execution_count": null,
   "metadata": {
    "cell_id": "494961158f22445eadcfd944652f7ff8",
    "deepnote_app_coordinates": {
     "h": 4,
     "w": 8,
     "x": 8,
     "y": 7
    },
    "deepnote_cell_type": "input-select",
    "deepnote_to_be_reexecuted": false,
    "deepnote_variable_custom_options": [
     "Option 1",
     "Option 2"
    ],
    "deepnote_variable_name": "EndYear",
    "deepnote_variable_options": [
     "1958",
     "1959",
     "1960",
     "1961",
     "1962",
     "1963",
     "1964",
     "1965",
     "1966",
     "1967",
     "1968",
     "1969",
     "1970",
     "1971",
     "1972",
     "1973",
     "1974",
     "1975",
     "1976",
     "1977",
     "1978",
     "1979",
     "1980",
     "1981",
     "1982",
     "1983",
     "1984",
     "1985",
     "1986",
     "1987",
     "1988",
     "1989",
     "1990",
     "1991",
     "1992",
     "1993",
     "1994",
     "1995",
     "1996",
     "1997",
     "1998",
     "1999",
     "2000",
     "2001",
     "2002",
     "2003",
     "2004",
     "2005",
     "2006",
     "2007",
     "2008",
     "2009",
     "2010",
     "2011",
     "2012",
     "2013",
     "2014",
     "2015",
     "2016",
     "2017",
     "2018",
     "2019",
     "2020",
     "2021",
     "2022"
    ],
    "deepnote_variable_select_type": "from-variable",
    "deepnote_variable_selected_variable": "years",
    "deepnote_variable_value": "1958",
    "execution_millis": 2,
    "execution_start": 1660644800179,
    "source_hash": "47509281"
   },
   "outputs": [],
   "source": [
    "EndYear = '1958'"
   ]
  },
  {
   "cell_type": "code",
   "execution_count": null,
   "metadata": {
    "cell_id": "77736c305a08437893a41cf6066d9754",
    "deepnote_cell_height": 94,
    "deepnote_cell_type": "code",
    "deepnote_to_be_reexecuted": false,
    "execution_millis": 3,
    "execution_start": 1660648337722,
    "source_hash": "c0deddee",
    "tags": []
   },
   "outputs": [],
   "source": [
    "StartYear = 1990\n",
    "EndYear = 2010"
   ]
  },
  {
   "cell_type": "markdown",
   "metadata": {
    "cell_id": "11cfd6e5c80b44a2a17d28270575b0e9",
    "deepnote_cell_type": "text-cell-p",
    "formattedRanges": [],
    "is_collapsed": false,
    "tags": []
   },
   "source": [
    "Some form validation to make sure the years make sense for the playlist."
   ]
  },
  {
   "cell_type": "code",
   "execution_count": null,
   "metadata": {
    "cell_id": "25f71b544d57443e93ff3b7824712515",
    "deepnote_cell_height": 94,
    "deepnote_cell_type": "code",
    "deepnote_to_be_reexecuted": false,
    "execution_millis": 9,
    "execution_start": 1660648338128,
    "source_hash": "e745a697",
    "tags": []
   },
   "outputs": [],
   "source": [
    "if StartYear > EndYear:\n",
    "    StartYear = EndYear"
   ]
  },
  {
   "cell_type": "markdown",
   "metadata": {
    "cell_id": "156aa8219da541ee9f33a1b819a6e15f",
    "deepnote_cell_type": "text-cell-p",
    "formattedRanges": [],
    "is_collapsed": false,
    "tags": []
   },
   "source": [
    "Let's create our function that creates our Spotify playlist."
   ]
  },
  {
   "cell_type": "code",
   "execution_count": null,
   "metadata": {
    "cell_id": "9b6e3602a6cc4d1b8d5a27fb3525b302",
    "deepnote_cell_height": 76,
    "deepnote_cell_type": "code",
    "deepnote_to_be_reexecuted": false,
    "execution_millis": 5,
    "execution_start": 1660652381076,
    "source_hash": "d4fe7d1d",
    "tags": []
   },
   "outputs": [],
   "source": [
    "playlists = pd.read_csv(\"playlists.csv\")"
   ]
  },
  {
   "cell_type": "code",
   "execution_count": null,
   "metadata": {
    "cell_id": "6784b3f997e44a7e9eb1302225284675",
    "deepnote_cell_height": 184,
    "deepnote_cell_type": "code",
    "deepnote_to_be_reexecuted": false,
    "execution_millis": 12,
    "execution_start": 1660652432961,
    "source_hash": "4bd2f296",
    "tags": []
   },
   "outputs": [],
   "source": [
    "def check_playlists(playlist_name, playlists_df):\n",
    "    \"\"\"Checks if playlist has already been created. If so it aborts future creation.\"\"\"\n",
    "    result = playlists_df[playlists_df['name'] == playlist_name].shape[0]\n",
    "    if result > 0:\n",
    "        return False\n",
    "    else:\n",
    "        return True"
   ]
  },
  {
   "cell_type": "code",
   "execution_count": null,
   "metadata": {
    "cell_id": "af845957d289437ba6307580f9e0af09",
    "deepnote_cell_height": 238,
    "deepnote_cell_type": "code",
    "deepnote_to_be_reexecuted": false,
    "execution_millis": 0,
    "execution_start": 1660652750725,
    "source_hash": "327bbd72",
    "tags": []
   },
   "outputs": [],
   "source": [
    "def save_playlists(playlist, playlist_name, playlists_df):\n",
    "    \"\"\"Saves playlist in a csv file.\"\"\"\n",
    "    new_playlist = {\n",
    "        'name':playlist_name,\n",
    "        'id':playlist['id'],\n",
    "        'link':playlist['external_urls']['spotify']\n",
    "    }\n",
    "\n",
    "    playlists_df = pd.concat([playlists_df, pd.DataFrame([new_playlist])])\n",
    "    playlists_df.to_csv(\"playlists.csv\", index=False)"
   ]
  },
  {
   "cell_type": "code",
   "execution_count": null,
   "metadata": {
    "cell_id": "42e172f78d8d4cbcb1e64fccd1bada36",
    "deepnote_cell_height": 454,
    "deepnote_cell_type": "code",
    "deepnote_to_be_reexecuted": false,
    "execution_millis": 1,
    "execution_start": 1660652746859,
    "source_hash": "10ce4091",
    "tags": []
   },
   "outputs": [],
   "source": [
    "def make_playlist(start_year, end_year):\n",
    "    \"\"\"Makes the playlist and adds tracks from songs.csv given the start and end year\"\"\"\n",
    "    playlists_df = pd.read_csv(\"playlists.csv\")\n",
    "    if (start_year - end_year) == 0:\n",
    "        playlist_name = f\"Top US Singles: {start_year}\"\n",
    "    else:\n",
    "        playlist_name = f\"Top US Singles: {start_year}-{end_year}\"\n",
    "\n",
    "    if check_playlists(playlist_name, playlists_df):\n",
    "        description = 'This playlist was generated automatically for a project on Datafantic.com.'\n",
    "        playlist = spotify.user_playlist_create(user=user_dict['id'], \n",
    "                                                name=playlist_name,\n",
    "                                                description=description)\n",
    "        uris = list(df[(df['year'] >= start_year) & (df['year'] <= end_year)]['spotify_uri'].values)\n",
    "\n",
    "        chunked_uris = np.array_split(uris, math.ceil(len(uris) / 100))\n",
    "        for uri_list in chunked_uris:\n",
    "            spotify.user_playlist_add_tracks(user=user_dict['id'], \n",
    "                                            playlist_id=playlist['id'], \n",
    "                                            tracks=uri_list)\n",
    "\n",
    "        save_playlists(playlist, playlist_name, playlists_df)"
   ]
  },
  {
   "cell_type": "markdown",
   "metadata": {
    "cell_id": "50ee60897e2c464596364a41af50d904",
    "deepnote_cell_type": "text-cell-h2",
    "formattedRanges": [],
    "is_collapsed": false,
    "tags": []
   },
   "source": [
    "## Create Playlists"
   ]
  },
  {
   "cell_type": "markdown",
   "metadata": {
    "cell_id": "045b3f75721c4f949662b0af94531de0",
    "deepnote_cell_type": "text-cell-p",
    "formattedRanges": [],
    "is_collapsed": false,
    "tags": []
   },
   "source": [
    "Since Deepnote published notebooks run in a stock environment, and I'm using Spotipy, I won't be able to allow users to generate their own playlists on the fly. However I CAN create them programmatically. Since we have our functions above we can generate playlists from 1-20 years in width."
   ]
  },
  {
   "cell_type": "code",
   "execution_count": null,
   "metadata": {
    "cell_id": "b8a7b222e48f4990bec73e9408af6ece",
    "deepnote_cell_height": 113.1875,
    "deepnote_cell_type": "code",
    "deepnote_to_be_reexecuted": false,
    "execution_millis": 2,
    "execution_start": 1660651211118,
    "source_hash": "410d3ec0",
    "tags": []
   },
   "outputs": [
    {
     "data": {
      "text/plain": [
       "1958"
      ]
     },
     "execution_count": 88,
     "metadata": {},
     "output_type": "execute_result"
    }
   ],
   "source": [
    "min(years)"
   ]
  },
  {
   "cell_type": "code",
   "execution_count": null,
   "metadata": {
    "cell_id": "07c0bc158bff4ea4bfaad99e076460a1",
    "deepnote_cell_height": 113.1875,
    "deepnote_cell_type": "code",
    "deepnote_to_be_reexecuted": false,
    "execution_millis": 23,
    "execution_start": 1660651220746,
    "source_hash": "8865115a",
    "tags": []
   },
   "outputs": [
    {
     "data": {
      "text/plain": [
       "2022"
      ]
     },
     "execution_count": 89,
     "metadata": {},
     "output_type": "execute_result"
    }
   ],
   "source": [
    "max(years)"
   ]
  },
  {
   "cell_type": "markdown",
   "metadata": {
    "cell_id": "e4636fe086524919b2c7804a00f02c3d",
    "deepnote_cell_type": "text-cell-p",
    "formattedRanges": [],
    "is_collapsed": false,
    "tags": []
   },
   "source": [
    "This code generate a list of tuples that contain our start and end years for each playlist."
   ]
  },
  {
   "cell_type": "code",
   "execution_count": null,
   "metadata": {
    "cell_id": "8f78ad2560834856a224a582fffa1e16",
    "deepnote_cell_height": 130,
    "deepnote_cell_type": "code",
    "deepnote_to_be_reexecuted": false,
    "execution_millis": 1,
    "execution_start": 1660652508663,
    "source_hash": "f99716e5",
    "tags": []
   },
   "outputs": [],
   "source": [
    "year_pairs = []\n",
    "for width in range(0,21):\n",
    "    for year in years[:-width]:\n",
    "        year_pairs.append((year, year+width))"
   ]
  },
  {
   "cell_type": "code",
   "execution_count": null,
   "metadata": {
    "cell_id": "a592865b4b9a4effb9a60b570596f339",
    "deepnote_cell_height": 113.1875,
    "deepnote_cell_type": "code",
    "deepnote_to_be_reexecuted": false,
    "execution_millis": 788,
    "execution_start": 1660652509497,
    "source_hash": "fe926aac",
    "tags": []
   },
   "outputs": [
    {
     "data": {
      "text/plain": [
       "1090"
      ]
     },
     "execution_count": 121,
     "metadata": {},
     "output_type": "execute_result"
    }
   ],
   "source": [
    "len(year_pairs)"
   ]
  },
  {
   "cell_type": "markdown",
   "metadata": {
    "cell_id": "bdc408732f5a4b3b87048a5e6d6ffa70",
    "deepnote_cell_type": "text-cell-p",
    "formattedRanges": [],
    "is_collapsed": false,
    "tags": []
   },
   "source": [
    "We also need to make playlists for single years. This is very easy luckily as we can just loop through the years."
   ]
  },
  {
   "cell_type": "code",
   "execution_count": null,
   "metadata": {
    "cell_id": "a29fba4ba3194723b7472ec972469a4a",
    "deepnote_cell_height": 94,
    "deepnote_cell_type": "code",
    "deepnote_to_be_reexecuted": false,
    "execution_millis": 39102,
    "execution_start": 1660653107046,
    "source_hash": "f08c9496",
    "tags": []
   },
   "outputs": [],
   "source": [
    "for year in years:\n",
    "    make_playlist(year, year)"
   ]
  },
  {
   "cell_type": "markdown",
   "metadata": {
    "cell_id": "133797eaefcc4291b5091cc52f9c70d2",
    "deepnote_cell_type": "text-cell-p",
    "formattedRanges": [],
    "is_collapsed": false,
    "tags": []
   },
   "source": [
    "Now we can loop through our year pairs and make the long list of playlists."
   ]
  },
  {
   "cell_type": "code",
   "execution_count": null,
   "metadata": {
    "cell_id": "91e43fb33f4649639d6f1fc31c33618f",
    "deepnote_cell_height": 113.1875,
    "deepnote_cell_type": "code",
    "deepnote_to_be_reexecuted": false,
    "execution_millis": 6,
    "execution_start": 1660653495174,
    "source_hash": "ed774568",
    "tags": []
   },
   "outputs": [
    {
     "data": {
      "text/plain": [
       "1958"
      ]
     },
     "execution_count": 146,
     "metadata": {},
     "output_type": "execute_result"
    }
   ],
   "source": [
    "year_pairs[0][0]"
   ]
  },
  {
   "cell_type": "markdown",
   "metadata": {
    "cell_id": "e32e23c479354b97b6ddeafb59598853",
    "deepnote_cell_type": "text-cell-p",
    "formattedRanges": [],
    "is_collapsed": false,
    "tags": []
   },
   "source": []
  },
  {
   "cell_type": "code",
   "execution_count": null,
   "metadata": {
    "cell_id": "571d6b6ae8c94304abba5d7e30d625b2",
    "deepnote_cell_height": 125.1875,
    "deepnote_cell_type": "code",
    "deepnote_to_be_reexecuted": false,
    "execution_millis": 2583654,
    "execution_start": 1660653529911,
    "source_hash": "84481ea7",
    "tags": []
   },
   "outputs": [
    {
     "name": "stderr",
     "output_type": "stream",
     "text": [
      "100%|██████████| 1090/1090 [43:03<00:00,  2.37s/it]\n"
     ]
    }
   ],
   "source": [
    "for pair in tqdm(year_pairs):\n",
    "    make_playlist(pair[0], pair[1])"
   ]
  },
  {
   "cell_type": "markdown",
   "metadata": {
    "cell_id": "a4977ac7da2b458582d0578a23f02475",
    "deepnote_cell_type": "text-cell-p",
    "formattedRanges": [],
    "is_collapsed": false,
    "tags": []
   },
   "source": []
  },
  {
   "cell_type": "code",
   "execution_count": null,
   "metadata": {
    "cell_id": "8a9039659f814523b14a9cb737b29d65",
    "deepnote_cell_height": 76,
    "deepnote_cell_type": "code",
    "deepnote_to_be_reexecuted": false,
    "execution_millis": 11,
    "execution_start": 1660656198823,
    "source_hash": "dce94398",
    "tags": []
   },
   "outputs": [],
   "source": [
    "df = pd.read_csv(\"playlists.csv\")"
   ]
  },
  {
   "cell_type": "code",
   "execution_count": null,
   "metadata": {
    "cell_id": "d87823ac26964df9a55855a2fc063762",
    "deepnote_cell_height": 113.1875,
    "deepnote_cell_type": "code",
    "deepnote_to_be_reexecuted": false,
    "execution_millis": 643,
    "execution_start": 1660656205118,
    "source_hash": "14f60b8f",
    "tags": []
   },
   "outputs": [
    {
     "data": {
      "text/plain": [
       "(1155, 3)"
      ]
     },
     "execution_count": 151,
     "metadata": {},
     "output_type": "execute_result"
    }
   ],
   "source": [
    "df.shape"
   ]
  },
  {
   "cell_type": "code",
   "execution_count": null,
   "metadata": {
    "cell_id": "a732e14eacfe4aca9a546dc7aae093da",
    "deepnote_cell_height": 61,
    "deepnote_cell_type": "code",
    "tags": []
   },
   "outputs": [],
   "source": []
  },
  {
   "cell_type": "markdown",
   "metadata": {
    "created_in_deepnote_cell": true,
    "deepnote_cell_type": "markdown",
    "tags": []
   },
   "source": [
    "<a style='text-decoration:none;line-height:16px;display:flex;color:#5B5B62;padding:10px;justify-content:end;' href='https://deepnote.com?utm_source=created-in-deepnote-cell&projectId=7c21eb15-caf5-4a09-9d2b-13b3512c0e34' target=\"_blank\">\n",
    "<img alt='Created in deepnote.com' style='display:inline;max-height:16px;margin:0px;margin-right:7.5px;' src='data:image/svg+xml;base64,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' > </img>\n",
    "Created in <span style='font-weight:600;margin-left:4px;'>Deepnote</span></a>"
   ]
  }
 ],
 "metadata": {
  "deepnote": {},
  "deepnote_app_layout": "dashboard",
  "deepnote_execution_queue": [],
  "deepnote_notebook_id": "7da1dbe4-3380-43a6-845a-d0be1441eccd",
  "kernelspec": {
   "display_name": "Python 3 (ipykernel)",
   "language": "python",
   "name": "python3"
  },
  "language_info": {
   "codemirror_mode": {
    "name": "ipython",
    "version": 3
   },
   "file_extension": ".py",
   "mimetype": "text/x-python",
   "name": "python",
   "nbconvert_exporter": "python",
   "pygments_lexer": "ipython3",
   "version": "3.11.9"
  }
 },
 "nbformat": 4,
 "nbformat_minor": 4
}
