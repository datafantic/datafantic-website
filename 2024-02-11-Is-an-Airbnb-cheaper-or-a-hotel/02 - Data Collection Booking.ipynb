{
 "cells": [
  {
   "cell_type": "markdown",
   "id": "9589b7be-d9a7-4536-89a6-f15919ea0481",
   "metadata": {},
   "source": [
    "# 02 - Data Collection Booking.com"
   ]
  },
  {
   "cell_type": "code",
   "execution_count": 1,
   "id": "ec08b9df-188c-494b-940e-c3a82e740366",
   "metadata": {},
   "outputs": [],
   "source": [
    "import pandas as pd\n",
    "\n",
    "from bs4 import BeautifulSoup\n",
    "from selenium.common.exceptions import ElementNotVisibleException, ElementNotSelectableException, TimeoutException\n",
    "from selenium.webdriver import Chrome\n",
    "from selenium.webdriver.chrome.options import Options\n",
    "from selenium.webdriver.common.by import By\n",
    "from selenium.webdriver.support.wait import WebDriverWait\n",
    "from selenium.webdriver.support import expected_conditions as EC\n",
    "\n",
    "from tqdm.auto import tqdm\n",
    "import time\n",
    "import math"
   ]
  },
  {
   "cell_type": "code",
   "execution_count": 2,
   "id": "92ed7970-c58f-4c9c-ad72-3d4fd7f4c5ad",
   "metadata": {},
   "outputs": [],
   "source": [
    "options = Options()\n",
    "options.add_argument(\"--headless=new\")\n",
    "options.add_argument(\"disable-infobars\")\n",
    "options.add_argument(\"--disable-extensions\")\n",
    "options.add_argument(\"--disable-dev-shm-usage\")\n",
    "options.add_argument(\"--no-sandbox\")"
   ]
  },
  {
   "cell_type": "code",
   "execution_count": 3,
   "id": "3a8337bf-876a-46ff-b224-6197dc17aa09",
   "metadata": {},
   "outputs": [],
   "source": [
    "cities = [\n",
    "    \"New-York--NY--United-States\",\n",
    "    \"Los-Angeles--CA--United-States\",\n",
    "    \"Chicago--IL--United-States\",\n",
    "    \"Austin--TX--United-States\",\n",
    "    \"Las-Vegas--NV--United-States\",\n",
    "]\n",
    "\n",
    "checkin = '2024-03-25'\n",
    "checkout_list = ['2024-03-27', '2024-03-28', '2024-03-29', '2024-03-30', '2024-03-31']"
   ]
  },
  {
   "cell_type": "code",
   "execution_count": 4,
   "id": "11a3d47f-63b6-4a12-a7ba-dfed0b819740",
   "metadata": {},
   "outputs": [],
   "source": [
    "new_cities = []\n",
    "for city in cities:\n",
    "    new_cities.append(city.replace(\"--\",\"%2C+\"))"
   ]
  },
  {
   "cell_type": "code",
   "execution_count": 5,
   "id": "620f09c2-43f3-40d3-b1ef-34ab12d0965b",
   "metadata": {},
   "outputs": [
    {
     "data": {
      "application/vnd.jupyter.widget-view+json": {
       "model_id": "a69c32a4821745a494382c5441872d74",
       "version_major": 2,
       "version_minor": 0
      },
      "text/plain": [
       "Checkout Date:   0%|          | 0/5 [00:00<?, ?it/s]"
      ]
     },
     "metadata": {},
     "output_type": "display_data"
    },
    {
     "data": {
      "application/vnd.jupyter.widget-view+json": {
       "model_id": "764fdd5973f647bb94e85a2c44e9d139",
       "version_major": 2,
       "version_minor": 0
      },
      "text/plain": [
       "Adults:   0%|          | 0/5 [00:00<?, ?it/s]"
      ]
     },
     "metadata": {},
     "output_type": "display_data"
    },
    {
     "data": {
      "application/vnd.jupyter.widget-view+json": {
       "model_id": "f9a40f20a0dd43a780daffc2dce0dc02",
       "version_major": 2,
       "version_minor": 0
      },
      "text/plain": [
       "City:   0%|          | 0/5 [00:00<?, ?it/s]"
      ]
     },
     "metadata": {},
     "output_type": "display_data"
    },
    {
     "data": {
      "application/vnd.jupyter.widget-view+json": {
       "model_id": "a57e86ed69c945be8ae70f1b057c8712",
       "version_major": 2,
       "version_minor": 0
      },
      "text/plain": [
       "City:   0%|          | 0/5 [00:00<?, ?it/s]"
      ]
     },
     "metadata": {},
     "output_type": "display_data"
    },
    {
     "data": {
      "application/vnd.jupyter.widget-view+json": {
       "model_id": "590680b1f5744133b1ef702368a11290",
       "version_major": 2,
       "version_minor": 0
      },
      "text/plain": [
       "City:   0%|          | 0/5 [00:00<?, ?it/s]"
      ]
     },
     "metadata": {},
     "output_type": "display_data"
    },
    {
     "data": {
      "application/vnd.jupyter.widget-view+json": {
       "model_id": "6286d7745f9345f9b46b863cd3ffd3fa",
       "version_major": 2,
       "version_minor": 0
      },
      "text/plain": [
       "City:   0%|          | 0/5 [00:00<?, ?it/s]"
      ]
     },
     "metadata": {},
     "output_type": "display_data"
    },
    {
     "data": {
      "application/vnd.jupyter.widget-view+json": {
       "model_id": "8115d61f707e4bb6b4396eb2b07bd887",
       "version_major": 2,
       "version_minor": 0
      },
      "text/plain": [
       "City:   0%|          | 0/5 [00:00<?, ?it/s]"
      ]
     },
     "metadata": {},
     "output_type": "display_data"
    },
    {
     "data": {
      "application/vnd.jupyter.widget-view+json": {
       "model_id": "95ddc762c8c9443d94c23b0714c9da8e",
       "version_major": 2,
       "version_minor": 0
      },
      "text/plain": [
       "Adults:   0%|          | 0/5 [00:00<?, ?it/s]"
      ]
     },
     "metadata": {},
     "output_type": "display_data"
    },
    {
     "data": {
      "application/vnd.jupyter.widget-view+json": {
       "model_id": "6e0316011bc3414a9ba4fe6c120fdd3d",
       "version_major": 2,
       "version_minor": 0
      },
      "text/plain": [
       "City:   0%|          | 0/5 [00:00<?, ?it/s]"
      ]
     },
     "metadata": {},
     "output_type": "display_data"
    },
    {
     "data": {
      "application/vnd.jupyter.widget-view+json": {
       "model_id": "dc34270ec68d45a899c33fca0abc0f8d",
       "version_major": 2,
       "version_minor": 0
      },
      "text/plain": [
       "City:   0%|          | 0/5 [00:00<?, ?it/s]"
      ]
     },
     "metadata": {},
     "output_type": "display_data"
    },
    {
     "data": {
      "application/vnd.jupyter.widget-view+json": {
       "model_id": "c51e003592404cd885fb73e6e1ef3778",
       "version_major": 2,
       "version_minor": 0
      },
      "text/plain": [
       "City:   0%|          | 0/5 [00:00<?, ?it/s]"
      ]
     },
     "metadata": {},
     "output_type": "display_data"
    },
    {
     "data": {
      "application/vnd.jupyter.widget-view+json": {
       "model_id": "ae45a0927b1149f79e1b822b58c1b4b1",
       "version_major": 2,
       "version_minor": 0
      },
      "text/plain": [
       "City:   0%|          | 0/5 [00:00<?, ?it/s]"
      ]
     },
     "metadata": {},
     "output_type": "display_data"
    },
    {
     "data": {
      "application/vnd.jupyter.widget-view+json": {
       "model_id": "6bfa4adbddc542db8750c465168fbbd7",
       "version_major": 2,
       "version_minor": 0
      },
      "text/plain": [
       "City:   0%|          | 0/5 [00:00<?, ?it/s]"
      ]
     },
     "metadata": {},
     "output_type": "display_data"
    },
    {
     "data": {
      "application/vnd.jupyter.widget-view+json": {
       "model_id": "4108d8d9f6d5465083a8e557a4f9cfb1",
       "version_major": 2,
       "version_minor": 0
      },
      "text/plain": [
       "Adults:   0%|          | 0/5 [00:00<?, ?it/s]"
      ]
     },
     "metadata": {},
     "output_type": "display_data"
    },
    {
     "data": {
      "application/vnd.jupyter.widget-view+json": {
       "model_id": "8c77c46cfeef44db9c33f5e4bb8d0bd9",
       "version_major": 2,
       "version_minor": 0
      },
      "text/plain": [
       "City:   0%|          | 0/5 [00:00<?, ?it/s]"
      ]
     },
     "metadata": {},
     "output_type": "display_data"
    },
    {
     "data": {
      "application/vnd.jupyter.widget-view+json": {
       "model_id": "d65fbe2f6d2b49af9c3fd40a77e7a4e5",
       "version_major": 2,
       "version_minor": 0
      },
      "text/plain": [
       "City:   0%|          | 0/5 [00:00<?, ?it/s]"
      ]
     },
     "metadata": {},
     "output_type": "display_data"
    },
    {
     "data": {
      "application/vnd.jupyter.widget-view+json": {
       "model_id": "459089c128d34faab2a00bda776757ac",
       "version_major": 2,
       "version_minor": 0
      },
      "text/plain": [
       "City:   0%|          | 0/5 [00:00<?, ?it/s]"
      ]
     },
     "metadata": {},
     "output_type": "display_data"
    },
    {
     "data": {
      "application/vnd.jupyter.widget-view+json": {
       "model_id": "70f8fff209ee43d2bdc74dd2d48ba4f0",
       "version_major": 2,
       "version_minor": 0
      },
      "text/plain": [
       "City:   0%|          | 0/5 [00:00<?, ?it/s]"
      ]
     },
     "metadata": {},
     "output_type": "display_data"
    },
    {
     "data": {
      "application/vnd.jupyter.widget-view+json": {
       "model_id": "026486d81d794145af41dcce70c25bbb",
       "version_major": 2,
       "version_minor": 0
      },
      "text/plain": [
       "City:   0%|          | 0/5 [00:00<?, ?it/s]"
      ]
     },
     "metadata": {},
     "output_type": "display_data"
    },
    {
     "data": {
      "application/vnd.jupyter.widget-view+json": {
       "model_id": "60e1e4e74ae74695abde267b6e2c2bd2",
       "version_major": 2,
       "version_minor": 0
      },
      "text/plain": [
       "Adults:   0%|          | 0/5 [00:00<?, ?it/s]"
      ]
     },
     "metadata": {},
     "output_type": "display_data"
    },
    {
     "data": {
      "application/vnd.jupyter.widget-view+json": {
       "model_id": "c756f5ee1e164ba7b4fa44ce692bad64",
       "version_major": 2,
       "version_minor": 0
      },
      "text/plain": [
       "City:   0%|          | 0/5 [00:00<?, ?it/s]"
      ]
     },
     "metadata": {},
     "output_type": "display_data"
    },
    {
     "data": {
      "application/vnd.jupyter.widget-view+json": {
       "model_id": "f261a3ac89c54c7e98b22fd10fd9b2d4",
       "version_major": 2,
       "version_minor": 0
      },
      "text/plain": [
       "City:   0%|          | 0/5 [00:00<?, ?it/s]"
      ]
     },
     "metadata": {},
     "output_type": "display_data"
    },
    {
     "data": {
      "application/vnd.jupyter.widget-view+json": {
       "model_id": "0d9993bf0b63439f90144f5c4ae3914d",
       "version_major": 2,
       "version_minor": 0
      },
      "text/plain": [
       "City:   0%|          | 0/5 [00:00<?, ?it/s]"
      ]
     },
     "metadata": {},
     "output_type": "display_data"
    },
    {
     "data": {
      "application/vnd.jupyter.widget-view+json": {
       "model_id": "235c1705aa674ba3a9800cfd7a426679",
       "version_major": 2,
       "version_minor": 0
      },
      "text/plain": [
       "City:   0%|          | 0/5 [00:00<?, ?it/s]"
      ]
     },
     "metadata": {},
     "output_type": "display_data"
    },
    {
     "data": {
      "application/vnd.jupyter.widget-view+json": {
       "model_id": "0f96f8f418054b3bbc6d0980d6f7f757",
       "version_major": 2,
       "version_minor": 0
      },
      "text/plain": [
       "City:   0%|          | 0/5 [00:00<?, ?it/s]"
      ]
     },
     "metadata": {},
     "output_type": "display_data"
    },
    {
     "data": {
      "application/vnd.jupyter.widget-view+json": {
       "model_id": "2a779965f2cc41ccacc2d75a41313916",
       "version_major": 2,
       "version_minor": 0
      },
      "text/plain": [
       "Adults:   0%|          | 0/5 [00:00<?, ?it/s]"
      ]
     },
     "metadata": {},
     "output_type": "display_data"
    },
    {
     "data": {
      "application/vnd.jupyter.widget-view+json": {
       "model_id": "1eacedb0c02e411fa1c12c4c5ec8fd8b",
       "version_major": 2,
       "version_minor": 0
      },
      "text/plain": [
       "City:   0%|          | 0/5 [00:00<?, ?it/s]"
      ]
     },
     "metadata": {},
     "output_type": "display_data"
    },
    {
     "data": {
      "application/vnd.jupyter.widget-view+json": {
       "model_id": "564ea02a5f4f44868624b8696bbdfecb",
       "version_major": 2,
       "version_minor": 0
      },
      "text/plain": [
       "City:   0%|          | 0/5 [00:00<?, ?it/s]"
      ]
     },
     "metadata": {},
     "output_type": "display_data"
    },
    {
     "data": {
      "application/vnd.jupyter.widget-view+json": {
       "model_id": "07933f8738394dbfafcb4774e7ed5f9b",
       "version_major": 2,
       "version_minor": 0
      },
      "text/plain": [
       "City:   0%|          | 0/5 [00:00<?, ?it/s]"
      ]
     },
     "metadata": {},
     "output_type": "display_data"
    },
    {
     "data": {
      "application/vnd.jupyter.widget-view+json": {
       "model_id": "bf1b37fda634451e9bb131a9b7168f54",
       "version_major": 2,
       "version_minor": 0
      },
      "text/plain": [
       "City:   0%|          | 0/5 [00:00<?, ?it/s]"
      ]
     },
     "metadata": {},
     "output_type": "display_data"
    },
    {
     "data": {
      "application/vnd.jupyter.widget-view+json": {
       "model_id": "28a35f21486c4d4ab0ccb0be6898d1a7",
       "version_major": 2,
       "version_minor": 0
      },
      "text/plain": [
       "City:   0%|          | 0/5 [00:00<?, ?it/s]"
      ]
     },
     "metadata": {},
     "output_type": "display_data"
    }
   ],
   "source": [
    "listings = []\n",
    "for checkout in tqdm(checkout_list, desc='Checkout Date', position=0):\n",
    "    for adults in tqdm(range(2, 7), desc=\"Adults\", position=1, leave=False):  # adults ranging from 2 to 6\n",
    "            for city in tqdm(new_cities, desc=\"City\", position=2, leave=False):\n",
    "                rooms = math.ceil(adults / 2)\n",
    "                url = f\"https://www.booking.com/searchresults.html?ss={city}&lang=en-us&sb=1&src_elem=sb&src=index&dest_type=city&ac_langcode=en&search_selected=true&checkin={checkin}&checkout={checkout}&group_adults={adults}&no_rooms={rooms}&group_children=0&nflt=ht_id%3D204\"\n",
    "                listings.append(url)"
   ]
  },
  {
   "cell_type": "code",
   "execution_count": 6,
   "id": "d16fc939-460b-4a07-9a87-3ffb9e939aca",
   "metadata": {},
   "outputs": [
    {
     "data": {
      "text/plain": [
       "['https://www.booking.com/searchresults.html?ss=New-York%2C+NY%2C+United-States&lang=en-us&sb=1&src_elem=sb&src=index&dest_type=city&ac_langcode=en&search_selected=true&checkin=2024-03-25&checkout=2024-03-27&group_adults=2&no_rooms=1&group_children=0&nflt=ht_id%3D204',\n",
       " 'https://www.booking.com/searchresults.html?ss=Los-Angeles%2C+CA%2C+United-States&lang=en-us&sb=1&src_elem=sb&src=index&dest_type=city&ac_langcode=en&search_selected=true&checkin=2024-03-25&checkout=2024-03-27&group_adults=2&no_rooms=1&group_children=0&nflt=ht_id%3D204',\n",
       " 'https://www.booking.com/searchresults.html?ss=Chicago%2C+IL%2C+United-States&lang=en-us&sb=1&src_elem=sb&src=index&dest_type=city&ac_langcode=en&search_selected=true&checkin=2024-03-25&checkout=2024-03-27&group_adults=2&no_rooms=1&group_children=0&nflt=ht_id%3D204',\n",
       " 'https://www.booking.com/searchresults.html?ss=Austin%2C+TX%2C+United-States&lang=en-us&sb=1&src_elem=sb&src=index&dest_type=city&ac_langcode=en&search_selected=true&checkin=2024-03-25&checkout=2024-03-27&group_adults=2&no_rooms=1&group_children=0&nflt=ht_id%3D204',\n",
       " 'https://www.booking.com/searchresults.html?ss=Las-Vegas%2C+NV%2C+United-States&lang=en-us&sb=1&src_elem=sb&src=index&dest_type=city&ac_langcode=en&search_selected=true&checkin=2024-03-25&checkout=2024-03-27&group_adults=2&no_rooms=1&group_children=0&nflt=ht_id%3D204',\n",
       " 'https://www.booking.com/searchresults.html?ss=New-York%2C+NY%2C+United-States&lang=en-us&sb=1&src_elem=sb&src=index&dest_type=city&ac_langcode=en&search_selected=true&checkin=2024-03-25&checkout=2024-03-27&group_adults=3&no_rooms=2&group_children=0&nflt=ht_id%3D204',\n",
       " 'https://www.booking.com/searchresults.html?ss=Los-Angeles%2C+CA%2C+United-States&lang=en-us&sb=1&src_elem=sb&src=index&dest_type=city&ac_langcode=en&search_selected=true&checkin=2024-03-25&checkout=2024-03-27&group_adults=3&no_rooms=2&group_children=0&nflt=ht_id%3D204',\n",
       " 'https://www.booking.com/searchresults.html?ss=Chicago%2C+IL%2C+United-States&lang=en-us&sb=1&src_elem=sb&src=index&dest_type=city&ac_langcode=en&search_selected=true&checkin=2024-03-25&checkout=2024-03-27&group_adults=3&no_rooms=2&group_children=0&nflt=ht_id%3D204',\n",
       " 'https://www.booking.com/searchresults.html?ss=Austin%2C+TX%2C+United-States&lang=en-us&sb=1&src_elem=sb&src=index&dest_type=city&ac_langcode=en&search_selected=true&checkin=2024-03-25&checkout=2024-03-27&group_adults=3&no_rooms=2&group_children=0&nflt=ht_id%3D204',\n",
       " 'https://www.booking.com/searchresults.html?ss=Las-Vegas%2C+NV%2C+United-States&lang=en-us&sb=1&src_elem=sb&src=index&dest_type=city&ac_langcode=en&search_selected=true&checkin=2024-03-25&checkout=2024-03-27&group_adults=3&no_rooms=2&group_children=0&nflt=ht_id%3D204',\n",
       " 'https://www.booking.com/searchresults.html?ss=New-York%2C+NY%2C+United-States&lang=en-us&sb=1&src_elem=sb&src=index&dest_type=city&ac_langcode=en&search_selected=true&checkin=2024-03-25&checkout=2024-03-27&group_adults=4&no_rooms=2&group_children=0&nflt=ht_id%3D204',\n",
       " 'https://www.booking.com/searchresults.html?ss=Los-Angeles%2C+CA%2C+United-States&lang=en-us&sb=1&src_elem=sb&src=index&dest_type=city&ac_langcode=en&search_selected=true&checkin=2024-03-25&checkout=2024-03-27&group_adults=4&no_rooms=2&group_children=0&nflt=ht_id%3D204',\n",
       " 'https://www.booking.com/searchresults.html?ss=Chicago%2C+IL%2C+United-States&lang=en-us&sb=1&src_elem=sb&src=index&dest_type=city&ac_langcode=en&search_selected=true&checkin=2024-03-25&checkout=2024-03-27&group_adults=4&no_rooms=2&group_children=0&nflt=ht_id%3D204',\n",
       " 'https://www.booking.com/searchresults.html?ss=Austin%2C+TX%2C+United-States&lang=en-us&sb=1&src_elem=sb&src=index&dest_type=city&ac_langcode=en&search_selected=true&checkin=2024-03-25&checkout=2024-03-27&group_adults=4&no_rooms=2&group_children=0&nflt=ht_id%3D204',\n",
       " 'https://www.booking.com/searchresults.html?ss=Las-Vegas%2C+NV%2C+United-States&lang=en-us&sb=1&src_elem=sb&src=index&dest_type=city&ac_langcode=en&search_selected=true&checkin=2024-03-25&checkout=2024-03-27&group_adults=4&no_rooms=2&group_children=0&nflt=ht_id%3D204',\n",
       " 'https://www.booking.com/searchresults.html?ss=New-York%2C+NY%2C+United-States&lang=en-us&sb=1&src_elem=sb&src=index&dest_type=city&ac_langcode=en&search_selected=true&checkin=2024-03-25&checkout=2024-03-27&group_adults=5&no_rooms=3&group_children=0&nflt=ht_id%3D204',\n",
       " 'https://www.booking.com/searchresults.html?ss=Los-Angeles%2C+CA%2C+United-States&lang=en-us&sb=1&src_elem=sb&src=index&dest_type=city&ac_langcode=en&search_selected=true&checkin=2024-03-25&checkout=2024-03-27&group_adults=5&no_rooms=3&group_children=0&nflt=ht_id%3D204',\n",
       " 'https://www.booking.com/searchresults.html?ss=Chicago%2C+IL%2C+United-States&lang=en-us&sb=1&src_elem=sb&src=index&dest_type=city&ac_langcode=en&search_selected=true&checkin=2024-03-25&checkout=2024-03-27&group_adults=5&no_rooms=3&group_children=0&nflt=ht_id%3D204',\n",
       " 'https://www.booking.com/searchresults.html?ss=Austin%2C+TX%2C+United-States&lang=en-us&sb=1&src_elem=sb&src=index&dest_type=city&ac_langcode=en&search_selected=true&checkin=2024-03-25&checkout=2024-03-27&group_adults=5&no_rooms=3&group_children=0&nflt=ht_id%3D204',\n",
       " 'https://www.booking.com/searchresults.html?ss=Las-Vegas%2C+NV%2C+United-States&lang=en-us&sb=1&src_elem=sb&src=index&dest_type=city&ac_langcode=en&search_selected=true&checkin=2024-03-25&checkout=2024-03-27&group_adults=5&no_rooms=3&group_children=0&nflt=ht_id%3D204',\n",
       " 'https://www.booking.com/searchresults.html?ss=New-York%2C+NY%2C+United-States&lang=en-us&sb=1&src_elem=sb&src=index&dest_type=city&ac_langcode=en&search_selected=true&checkin=2024-03-25&checkout=2024-03-27&group_adults=6&no_rooms=3&group_children=0&nflt=ht_id%3D204',\n",
       " 'https://www.booking.com/searchresults.html?ss=Los-Angeles%2C+CA%2C+United-States&lang=en-us&sb=1&src_elem=sb&src=index&dest_type=city&ac_langcode=en&search_selected=true&checkin=2024-03-25&checkout=2024-03-27&group_adults=6&no_rooms=3&group_children=0&nflt=ht_id%3D204',\n",
       " 'https://www.booking.com/searchresults.html?ss=Chicago%2C+IL%2C+United-States&lang=en-us&sb=1&src_elem=sb&src=index&dest_type=city&ac_langcode=en&search_selected=true&checkin=2024-03-25&checkout=2024-03-27&group_adults=6&no_rooms=3&group_children=0&nflt=ht_id%3D204',\n",
       " 'https://www.booking.com/searchresults.html?ss=Austin%2C+TX%2C+United-States&lang=en-us&sb=1&src_elem=sb&src=index&dest_type=city&ac_langcode=en&search_selected=true&checkin=2024-03-25&checkout=2024-03-27&group_adults=6&no_rooms=3&group_children=0&nflt=ht_id%3D204',\n",
       " 'https://www.booking.com/searchresults.html?ss=Las-Vegas%2C+NV%2C+United-States&lang=en-us&sb=1&src_elem=sb&src=index&dest_type=city&ac_langcode=en&search_selected=true&checkin=2024-03-25&checkout=2024-03-27&group_adults=6&no_rooms=3&group_children=0&nflt=ht_id%3D204',\n",
       " 'https://www.booking.com/searchresults.html?ss=New-York%2C+NY%2C+United-States&lang=en-us&sb=1&src_elem=sb&src=index&dest_type=city&ac_langcode=en&search_selected=true&checkin=2024-03-25&checkout=2024-03-28&group_adults=2&no_rooms=1&group_children=0&nflt=ht_id%3D204',\n",
       " 'https://www.booking.com/searchresults.html?ss=Los-Angeles%2C+CA%2C+United-States&lang=en-us&sb=1&src_elem=sb&src=index&dest_type=city&ac_langcode=en&search_selected=true&checkin=2024-03-25&checkout=2024-03-28&group_adults=2&no_rooms=1&group_children=0&nflt=ht_id%3D204',\n",
       " 'https://www.booking.com/searchresults.html?ss=Chicago%2C+IL%2C+United-States&lang=en-us&sb=1&src_elem=sb&src=index&dest_type=city&ac_langcode=en&search_selected=true&checkin=2024-03-25&checkout=2024-03-28&group_adults=2&no_rooms=1&group_children=0&nflt=ht_id%3D204',\n",
       " 'https://www.booking.com/searchresults.html?ss=Austin%2C+TX%2C+United-States&lang=en-us&sb=1&src_elem=sb&src=index&dest_type=city&ac_langcode=en&search_selected=true&checkin=2024-03-25&checkout=2024-03-28&group_adults=2&no_rooms=1&group_children=0&nflt=ht_id%3D204',\n",
       " 'https://www.booking.com/searchresults.html?ss=Las-Vegas%2C+NV%2C+United-States&lang=en-us&sb=1&src_elem=sb&src=index&dest_type=city&ac_langcode=en&search_selected=true&checkin=2024-03-25&checkout=2024-03-28&group_adults=2&no_rooms=1&group_children=0&nflt=ht_id%3D204',\n",
       " 'https://www.booking.com/searchresults.html?ss=New-York%2C+NY%2C+United-States&lang=en-us&sb=1&src_elem=sb&src=index&dest_type=city&ac_langcode=en&search_selected=true&checkin=2024-03-25&checkout=2024-03-28&group_adults=3&no_rooms=2&group_children=0&nflt=ht_id%3D204',\n",
       " 'https://www.booking.com/searchresults.html?ss=Los-Angeles%2C+CA%2C+United-States&lang=en-us&sb=1&src_elem=sb&src=index&dest_type=city&ac_langcode=en&search_selected=true&checkin=2024-03-25&checkout=2024-03-28&group_adults=3&no_rooms=2&group_children=0&nflt=ht_id%3D204',\n",
       " 'https://www.booking.com/searchresults.html?ss=Chicago%2C+IL%2C+United-States&lang=en-us&sb=1&src_elem=sb&src=index&dest_type=city&ac_langcode=en&search_selected=true&checkin=2024-03-25&checkout=2024-03-28&group_adults=3&no_rooms=2&group_children=0&nflt=ht_id%3D204',\n",
       " 'https://www.booking.com/searchresults.html?ss=Austin%2C+TX%2C+United-States&lang=en-us&sb=1&src_elem=sb&src=index&dest_type=city&ac_langcode=en&search_selected=true&checkin=2024-03-25&checkout=2024-03-28&group_adults=3&no_rooms=2&group_children=0&nflt=ht_id%3D204',\n",
       " 'https://www.booking.com/searchresults.html?ss=Las-Vegas%2C+NV%2C+United-States&lang=en-us&sb=1&src_elem=sb&src=index&dest_type=city&ac_langcode=en&search_selected=true&checkin=2024-03-25&checkout=2024-03-28&group_adults=3&no_rooms=2&group_children=0&nflt=ht_id%3D204',\n",
       " 'https://www.booking.com/searchresults.html?ss=New-York%2C+NY%2C+United-States&lang=en-us&sb=1&src_elem=sb&src=index&dest_type=city&ac_langcode=en&search_selected=true&checkin=2024-03-25&checkout=2024-03-28&group_adults=4&no_rooms=2&group_children=0&nflt=ht_id%3D204',\n",
       " 'https://www.booking.com/searchresults.html?ss=Los-Angeles%2C+CA%2C+United-States&lang=en-us&sb=1&src_elem=sb&src=index&dest_type=city&ac_langcode=en&search_selected=true&checkin=2024-03-25&checkout=2024-03-28&group_adults=4&no_rooms=2&group_children=0&nflt=ht_id%3D204',\n",
       " 'https://www.booking.com/searchresults.html?ss=Chicago%2C+IL%2C+United-States&lang=en-us&sb=1&src_elem=sb&src=index&dest_type=city&ac_langcode=en&search_selected=true&checkin=2024-03-25&checkout=2024-03-28&group_adults=4&no_rooms=2&group_children=0&nflt=ht_id%3D204',\n",
       " 'https://www.booking.com/searchresults.html?ss=Austin%2C+TX%2C+United-States&lang=en-us&sb=1&src_elem=sb&src=index&dest_type=city&ac_langcode=en&search_selected=true&checkin=2024-03-25&checkout=2024-03-28&group_adults=4&no_rooms=2&group_children=0&nflt=ht_id%3D204',\n",
       " 'https://www.booking.com/searchresults.html?ss=Las-Vegas%2C+NV%2C+United-States&lang=en-us&sb=1&src_elem=sb&src=index&dest_type=city&ac_langcode=en&search_selected=true&checkin=2024-03-25&checkout=2024-03-28&group_adults=4&no_rooms=2&group_children=0&nflt=ht_id%3D204',\n",
       " 'https://www.booking.com/searchresults.html?ss=New-York%2C+NY%2C+United-States&lang=en-us&sb=1&src_elem=sb&src=index&dest_type=city&ac_langcode=en&search_selected=true&checkin=2024-03-25&checkout=2024-03-28&group_adults=5&no_rooms=3&group_children=0&nflt=ht_id%3D204',\n",
       " 'https://www.booking.com/searchresults.html?ss=Los-Angeles%2C+CA%2C+United-States&lang=en-us&sb=1&src_elem=sb&src=index&dest_type=city&ac_langcode=en&search_selected=true&checkin=2024-03-25&checkout=2024-03-28&group_adults=5&no_rooms=3&group_children=0&nflt=ht_id%3D204',\n",
       " 'https://www.booking.com/searchresults.html?ss=Chicago%2C+IL%2C+United-States&lang=en-us&sb=1&src_elem=sb&src=index&dest_type=city&ac_langcode=en&search_selected=true&checkin=2024-03-25&checkout=2024-03-28&group_adults=5&no_rooms=3&group_children=0&nflt=ht_id%3D204',\n",
       " 'https://www.booking.com/searchresults.html?ss=Austin%2C+TX%2C+United-States&lang=en-us&sb=1&src_elem=sb&src=index&dest_type=city&ac_langcode=en&search_selected=true&checkin=2024-03-25&checkout=2024-03-28&group_adults=5&no_rooms=3&group_children=0&nflt=ht_id%3D204',\n",
       " 'https://www.booking.com/searchresults.html?ss=Las-Vegas%2C+NV%2C+United-States&lang=en-us&sb=1&src_elem=sb&src=index&dest_type=city&ac_langcode=en&search_selected=true&checkin=2024-03-25&checkout=2024-03-28&group_adults=5&no_rooms=3&group_children=0&nflt=ht_id%3D204',\n",
       " 'https://www.booking.com/searchresults.html?ss=New-York%2C+NY%2C+United-States&lang=en-us&sb=1&src_elem=sb&src=index&dest_type=city&ac_langcode=en&search_selected=true&checkin=2024-03-25&checkout=2024-03-28&group_adults=6&no_rooms=3&group_children=0&nflt=ht_id%3D204',\n",
       " 'https://www.booking.com/searchresults.html?ss=Los-Angeles%2C+CA%2C+United-States&lang=en-us&sb=1&src_elem=sb&src=index&dest_type=city&ac_langcode=en&search_selected=true&checkin=2024-03-25&checkout=2024-03-28&group_adults=6&no_rooms=3&group_children=0&nflt=ht_id%3D204',\n",
       " 'https://www.booking.com/searchresults.html?ss=Chicago%2C+IL%2C+United-States&lang=en-us&sb=1&src_elem=sb&src=index&dest_type=city&ac_langcode=en&search_selected=true&checkin=2024-03-25&checkout=2024-03-28&group_adults=6&no_rooms=3&group_children=0&nflt=ht_id%3D204',\n",
       " 'https://www.booking.com/searchresults.html?ss=Austin%2C+TX%2C+United-States&lang=en-us&sb=1&src_elem=sb&src=index&dest_type=city&ac_langcode=en&search_selected=true&checkin=2024-03-25&checkout=2024-03-28&group_adults=6&no_rooms=3&group_children=0&nflt=ht_id%3D204',\n",
       " 'https://www.booking.com/searchresults.html?ss=Las-Vegas%2C+NV%2C+United-States&lang=en-us&sb=1&src_elem=sb&src=index&dest_type=city&ac_langcode=en&search_selected=true&checkin=2024-03-25&checkout=2024-03-28&group_adults=6&no_rooms=3&group_children=0&nflt=ht_id%3D204',\n",
       " 'https://www.booking.com/searchresults.html?ss=New-York%2C+NY%2C+United-States&lang=en-us&sb=1&src_elem=sb&src=index&dest_type=city&ac_langcode=en&search_selected=true&checkin=2024-03-25&checkout=2024-03-29&group_adults=2&no_rooms=1&group_children=0&nflt=ht_id%3D204',\n",
       " 'https://www.booking.com/searchresults.html?ss=Los-Angeles%2C+CA%2C+United-States&lang=en-us&sb=1&src_elem=sb&src=index&dest_type=city&ac_langcode=en&search_selected=true&checkin=2024-03-25&checkout=2024-03-29&group_adults=2&no_rooms=1&group_children=0&nflt=ht_id%3D204',\n",
       " 'https://www.booking.com/searchresults.html?ss=Chicago%2C+IL%2C+United-States&lang=en-us&sb=1&src_elem=sb&src=index&dest_type=city&ac_langcode=en&search_selected=true&checkin=2024-03-25&checkout=2024-03-29&group_adults=2&no_rooms=1&group_children=0&nflt=ht_id%3D204',\n",
       " 'https://www.booking.com/searchresults.html?ss=Austin%2C+TX%2C+United-States&lang=en-us&sb=1&src_elem=sb&src=index&dest_type=city&ac_langcode=en&search_selected=true&checkin=2024-03-25&checkout=2024-03-29&group_adults=2&no_rooms=1&group_children=0&nflt=ht_id%3D204',\n",
       " 'https://www.booking.com/searchresults.html?ss=Las-Vegas%2C+NV%2C+United-States&lang=en-us&sb=1&src_elem=sb&src=index&dest_type=city&ac_langcode=en&search_selected=true&checkin=2024-03-25&checkout=2024-03-29&group_adults=2&no_rooms=1&group_children=0&nflt=ht_id%3D204',\n",
       " 'https://www.booking.com/searchresults.html?ss=New-York%2C+NY%2C+United-States&lang=en-us&sb=1&src_elem=sb&src=index&dest_type=city&ac_langcode=en&search_selected=true&checkin=2024-03-25&checkout=2024-03-29&group_adults=3&no_rooms=2&group_children=0&nflt=ht_id%3D204',\n",
       " 'https://www.booking.com/searchresults.html?ss=Los-Angeles%2C+CA%2C+United-States&lang=en-us&sb=1&src_elem=sb&src=index&dest_type=city&ac_langcode=en&search_selected=true&checkin=2024-03-25&checkout=2024-03-29&group_adults=3&no_rooms=2&group_children=0&nflt=ht_id%3D204',\n",
       " 'https://www.booking.com/searchresults.html?ss=Chicago%2C+IL%2C+United-States&lang=en-us&sb=1&src_elem=sb&src=index&dest_type=city&ac_langcode=en&search_selected=true&checkin=2024-03-25&checkout=2024-03-29&group_adults=3&no_rooms=2&group_children=0&nflt=ht_id%3D204',\n",
       " 'https://www.booking.com/searchresults.html?ss=Austin%2C+TX%2C+United-States&lang=en-us&sb=1&src_elem=sb&src=index&dest_type=city&ac_langcode=en&search_selected=true&checkin=2024-03-25&checkout=2024-03-29&group_adults=3&no_rooms=2&group_children=0&nflt=ht_id%3D204',\n",
       " 'https://www.booking.com/searchresults.html?ss=Las-Vegas%2C+NV%2C+United-States&lang=en-us&sb=1&src_elem=sb&src=index&dest_type=city&ac_langcode=en&search_selected=true&checkin=2024-03-25&checkout=2024-03-29&group_adults=3&no_rooms=2&group_children=0&nflt=ht_id%3D204',\n",
       " 'https://www.booking.com/searchresults.html?ss=New-York%2C+NY%2C+United-States&lang=en-us&sb=1&src_elem=sb&src=index&dest_type=city&ac_langcode=en&search_selected=true&checkin=2024-03-25&checkout=2024-03-29&group_adults=4&no_rooms=2&group_children=0&nflt=ht_id%3D204',\n",
       " 'https://www.booking.com/searchresults.html?ss=Los-Angeles%2C+CA%2C+United-States&lang=en-us&sb=1&src_elem=sb&src=index&dest_type=city&ac_langcode=en&search_selected=true&checkin=2024-03-25&checkout=2024-03-29&group_adults=4&no_rooms=2&group_children=0&nflt=ht_id%3D204',\n",
       " 'https://www.booking.com/searchresults.html?ss=Chicago%2C+IL%2C+United-States&lang=en-us&sb=1&src_elem=sb&src=index&dest_type=city&ac_langcode=en&search_selected=true&checkin=2024-03-25&checkout=2024-03-29&group_adults=4&no_rooms=2&group_children=0&nflt=ht_id%3D204',\n",
       " 'https://www.booking.com/searchresults.html?ss=Austin%2C+TX%2C+United-States&lang=en-us&sb=1&src_elem=sb&src=index&dest_type=city&ac_langcode=en&search_selected=true&checkin=2024-03-25&checkout=2024-03-29&group_adults=4&no_rooms=2&group_children=0&nflt=ht_id%3D204',\n",
       " 'https://www.booking.com/searchresults.html?ss=Las-Vegas%2C+NV%2C+United-States&lang=en-us&sb=1&src_elem=sb&src=index&dest_type=city&ac_langcode=en&search_selected=true&checkin=2024-03-25&checkout=2024-03-29&group_adults=4&no_rooms=2&group_children=0&nflt=ht_id%3D204',\n",
       " 'https://www.booking.com/searchresults.html?ss=New-York%2C+NY%2C+United-States&lang=en-us&sb=1&src_elem=sb&src=index&dest_type=city&ac_langcode=en&search_selected=true&checkin=2024-03-25&checkout=2024-03-29&group_adults=5&no_rooms=3&group_children=0&nflt=ht_id%3D204',\n",
       " 'https://www.booking.com/searchresults.html?ss=Los-Angeles%2C+CA%2C+United-States&lang=en-us&sb=1&src_elem=sb&src=index&dest_type=city&ac_langcode=en&search_selected=true&checkin=2024-03-25&checkout=2024-03-29&group_adults=5&no_rooms=3&group_children=0&nflt=ht_id%3D204',\n",
       " 'https://www.booking.com/searchresults.html?ss=Chicago%2C+IL%2C+United-States&lang=en-us&sb=1&src_elem=sb&src=index&dest_type=city&ac_langcode=en&search_selected=true&checkin=2024-03-25&checkout=2024-03-29&group_adults=5&no_rooms=3&group_children=0&nflt=ht_id%3D204',\n",
       " 'https://www.booking.com/searchresults.html?ss=Austin%2C+TX%2C+United-States&lang=en-us&sb=1&src_elem=sb&src=index&dest_type=city&ac_langcode=en&search_selected=true&checkin=2024-03-25&checkout=2024-03-29&group_adults=5&no_rooms=3&group_children=0&nflt=ht_id%3D204',\n",
       " 'https://www.booking.com/searchresults.html?ss=Las-Vegas%2C+NV%2C+United-States&lang=en-us&sb=1&src_elem=sb&src=index&dest_type=city&ac_langcode=en&search_selected=true&checkin=2024-03-25&checkout=2024-03-29&group_adults=5&no_rooms=3&group_children=0&nflt=ht_id%3D204',\n",
       " 'https://www.booking.com/searchresults.html?ss=New-York%2C+NY%2C+United-States&lang=en-us&sb=1&src_elem=sb&src=index&dest_type=city&ac_langcode=en&search_selected=true&checkin=2024-03-25&checkout=2024-03-29&group_adults=6&no_rooms=3&group_children=0&nflt=ht_id%3D204',\n",
       " 'https://www.booking.com/searchresults.html?ss=Los-Angeles%2C+CA%2C+United-States&lang=en-us&sb=1&src_elem=sb&src=index&dest_type=city&ac_langcode=en&search_selected=true&checkin=2024-03-25&checkout=2024-03-29&group_adults=6&no_rooms=3&group_children=0&nflt=ht_id%3D204',\n",
       " 'https://www.booking.com/searchresults.html?ss=Chicago%2C+IL%2C+United-States&lang=en-us&sb=1&src_elem=sb&src=index&dest_type=city&ac_langcode=en&search_selected=true&checkin=2024-03-25&checkout=2024-03-29&group_adults=6&no_rooms=3&group_children=0&nflt=ht_id%3D204',\n",
       " 'https://www.booking.com/searchresults.html?ss=Austin%2C+TX%2C+United-States&lang=en-us&sb=1&src_elem=sb&src=index&dest_type=city&ac_langcode=en&search_selected=true&checkin=2024-03-25&checkout=2024-03-29&group_adults=6&no_rooms=3&group_children=0&nflt=ht_id%3D204',\n",
       " 'https://www.booking.com/searchresults.html?ss=Las-Vegas%2C+NV%2C+United-States&lang=en-us&sb=1&src_elem=sb&src=index&dest_type=city&ac_langcode=en&search_selected=true&checkin=2024-03-25&checkout=2024-03-29&group_adults=6&no_rooms=3&group_children=0&nflt=ht_id%3D204',\n",
       " 'https://www.booking.com/searchresults.html?ss=New-York%2C+NY%2C+United-States&lang=en-us&sb=1&src_elem=sb&src=index&dest_type=city&ac_langcode=en&search_selected=true&checkin=2024-03-25&checkout=2024-03-30&group_adults=2&no_rooms=1&group_children=0&nflt=ht_id%3D204',\n",
       " 'https://www.booking.com/searchresults.html?ss=Los-Angeles%2C+CA%2C+United-States&lang=en-us&sb=1&src_elem=sb&src=index&dest_type=city&ac_langcode=en&search_selected=true&checkin=2024-03-25&checkout=2024-03-30&group_adults=2&no_rooms=1&group_children=0&nflt=ht_id%3D204',\n",
       " 'https://www.booking.com/searchresults.html?ss=Chicago%2C+IL%2C+United-States&lang=en-us&sb=1&src_elem=sb&src=index&dest_type=city&ac_langcode=en&search_selected=true&checkin=2024-03-25&checkout=2024-03-30&group_adults=2&no_rooms=1&group_children=0&nflt=ht_id%3D204',\n",
       " 'https://www.booking.com/searchresults.html?ss=Austin%2C+TX%2C+United-States&lang=en-us&sb=1&src_elem=sb&src=index&dest_type=city&ac_langcode=en&search_selected=true&checkin=2024-03-25&checkout=2024-03-30&group_adults=2&no_rooms=1&group_children=0&nflt=ht_id%3D204',\n",
       " 'https://www.booking.com/searchresults.html?ss=Las-Vegas%2C+NV%2C+United-States&lang=en-us&sb=1&src_elem=sb&src=index&dest_type=city&ac_langcode=en&search_selected=true&checkin=2024-03-25&checkout=2024-03-30&group_adults=2&no_rooms=1&group_children=0&nflt=ht_id%3D204',\n",
       " 'https://www.booking.com/searchresults.html?ss=New-York%2C+NY%2C+United-States&lang=en-us&sb=1&src_elem=sb&src=index&dest_type=city&ac_langcode=en&search_selected=true&checkin=2024-03-25&checkout=2024-03-30&group_adults=3&no_rooms=2&group_children=0&nflt=ht_id%3D204',\n",
       " 'https://www.booking.com/searchresults.html?ss=Los-Angeles%2C+CA%2C+United-States&lang=en-us&sb=1&src_elem=sb&src=index&dest_type=city&ac_langcode=en&search_selected=true&checkin=2024-03-25&checkout=2024-03-30&group_adults=3&no_rooms=2&group_children=0&nflt=ht_id%3D204',\n",
       " 'https://www.booking.com/searchresults.html?ss=Chicago%2C+IL%2C+United-States&lang=en-us&sb=1&src_elem=sb&src=index&dest_type=city&ac_langcode=en&search_selected=true&checkin=2024-03-25&checkout=2024-03-30&group_adults=3&no_rooms=2&group_children=0&nflt=ht_id%3D204',\n",
       " 'https://www.booking.com/searchresults.html?ss=Austin%2C+TX%2C+United-States&lang=en-us&sb=1&src_elem=sb&src=index&dest_type=city&ac_langcode=en&search_selected=true&checkin=2024-03-25&checkout=2024-03-30&group_adults=3&no_rooms=2&group_children=0&nflt=ht_id%3D204',\n",
       " 'https://www.booking.com/searchresults.html?ss=Las-Vegas%2C+NV%2C+United-States&lang=en-us&sb=1&src_elem=sb&src=index&dest_type=city&ac_langcode=en&search_selected=true&checkin=2024-03-25&checkout=2024-03-30&group_adults=3&no_rooms=2&group_children=0&nflt=ht_id%3D204',\n",
       " 'https://www.booking.com/searchresults.html?ss=New-York%2C+NY%2C+United-States&lang=en-us&sb=1&src_elem=sb&src=index&dest_type=city&ac_langcode=en&search_selected=true&checkin=2024-03-25&checkout=2024-03-30&group_adults=4&no_rooms=2&group_children=0&nflt=ht_id%3D204',\n",
       " 'https://www.booking.com/searchresults.html?ss=Los-Angeles%2C+CA%2C+United-States&lang=en-us&sb=1&src_elem=sb&src=index&dest_type=city&ac_langcode=en&search_selected=true&checkin=2024-03-25&checkout=2024-03-30&group_adults=4&no_rooms=2&group_children=0&nflt=ht_id%3D204',\n",
       " 'https://www.booking.com/searchresults.html?ss=Chicago%2C+IL%2C+United-States&lang=en-us&sb=1&src_elem=sb&src=index&dest_type=city&ac_langcode=en&search_selected=true&checkin=2024-03-25&checkout=2024-03-30&group_adults=4&no_rooms=2&group_children=0&nflt=ht_id%3D204',\n",
       " 'https://www.booking.com/searchresults.html?ss=Austin%2C+TX%2C+United-States&lang=en-us&sb=1&src_elem=sb&src=index&dest_type=city&ac_langcode=en&search_selected=true&checkin=2024-03-25&checkout=2024-03-30&group_adults=4&no_rooms=2&group_children=0&nflt=ht_id%3D204',\n",
       " 'https://www.booking.com/searchresults.html?ss=Las-Vegas%2C+NV%2C+United-States&lang=en-us&sb=1&src_elem=sb&src=index&dest_type=city&ac_langcode=en&search_selected=true&checkin=2024-03-25&checkout=2024-03-30&group_adults=4&no_rooms=2&group_children=0&nflt=ht_id%3D204',\n",
       " 'https://www.booking.com/searchresults.html?ss=New-York%2C+NY%2C+United-States&lang=en-us&sb=1&src_elem=sb&src=index&dest_type=city&ac_langcode=en&search_selected=true&checkin=2024-03-25&checkout=2024-03-30&group_adults=5&no_rooms=3&group_children=0&nflt=ht_id%3D204',\n",
       " 'https://www.booking.com/searchresults.html?ss=Los-Angeles%2C+CA%2C+United-States&lang=en-us&sb=1&src_elem=sb&src=index&dest_type=city&ac_langcode=en&search_selected=true&checkin=2024-03-25&checkout=2024-03-30&group_adults=5&no_rooms=3&group_children=0&nflt=ht_id%3D204',\n",
       " 'https://www.booking.com/searchresults.html?ss=Chicago%2C+IL%2C+United-States&lang=en-us&sb=1&src_elem=sb&src=index&dest_type=city&ac_langcode=en&search_selected=true&checkin=2024-03-25&checkout=2024-03-30&group_adults=5&no_rooms=3&group_children=0&nflt=ht_id%3D204',\n",
       " 'https://www.booking.com/searchresults.html?ss=Austin%2C+TX%2C+United-States&lang=en-us&sb=1&src_elem=sb&src=index&dest_type=city&ac_langcode=en&search_selected=true&checkin=2024-03-25&checkout=2024-03-30&group_adults=5&no_rooms=3&group_children=0&nflt=ht_id%3D204',\n",
       " 'https://www.booking.com/searchresults.html?ss=Las-Vegas%2C+NV%2C+United-States&lang=en-us&sb=1&src_elem=sb&src=index&dest_type=city&ac_langcode=en&search_selected=true&checkin=2024-03-25&checkout=2024-03-30&group_adults=5&no_rooms=3&group_children=0&nflt=ht_id%3D204',\n",
       " 'https://www.booking.com/searchresults.html?ss=New-York%2C+NY%2C+United-States&lang=en-us&sb=1&src_elem=sb&src=index&dest_type=city&ac_langcode=en&search_selected=true&checkin=2024-03-25&checkout=2024-03-30&group_adults=6&no_rooms=3&group_children=0&nflt=ht_id%3D204',\n",
       " 'https://www.booking.com/searchresults.html?ss=Los-Angeles%2C+CA%2C+United-States&lang=en-us&sb=1&src_elem=sb&src=index&dest_type=city&ac_langcode=en&search_selected=true&checkin=2024-03-25&checkout=2024-03-30&group_adults=6&no_rooms=3&group_children=0&nflt=ht_id%3D204',\n",
       " 'https://www.booking.com/searchresults.html?ss=Chicago%2C+IL%2C+United-States&lang=en-us&sb=1&src_elem=sb&src=index&dest_type=city&ac_langcode=en&search_selected=true&checkin=2024-03-25&checkout=2024-03-30&group_adults=6&no_rooms=3&group_children=0&nflt=ht_id%3D204',\n",
       " 'https://www.booking.com/searchresults.html?ss=Austin%2C+TX%2C+United-States&lang=en-us&sb=1&src_elem=sb&src=index&dest_type=city&ac_langcode=en&search_selected=true&checkin=2024-03-25&checkout=2024-03-30&group_adults=6&no_rooms=3&group_children=0&nflt=ht_id%3D204',\n",
       " 'https://www.booking.com/searchresults.html?ss=Las-Vegas%2C+NV%2C+United-States&lang=en-us&sb=1&src_elem=sb&src=index&dest_type=city&ac_langcode=en&search_selected=true&checkin=2024-03-25&checkout=2024-03-30&group_adults=6&no_rooms=3&group_children=0&nflt=ht_id%3D204',\n",
       " 'https://www.booking.com/searchresults.html?ss=New-York%2C+NY%2C+United-States&lang=en-us&sb=1&src_elem=sb&src=index&dest_type=city&ac_langcode=en&search_selected=true&checkin=2024-03-25&checkout=2024-03-31&group_adults=2&no_rooms=1&group_children=0&nflt=ht_id%3D204',\n",
       " 'https://www.booking.com/searchresults.html?ss=Los-Angeles%2C+CA%2C+United-States&lang=en-us&sb=1&src_elem=sb&src=index&dest_type=city&ac_langcode=en&search_selected=true&checkin=2024-03-25&checkout=2024-03-31&group_adults=2&no_rooms=1&group_children=0&nflt=ht_id%3D204',\n",
       " 'https://www.booking.com/searchresults.html?ss=Chicago%2C+IL%2C+United-States&lang=en-us&sb=1&src_elem=sb&src=index&dest_type=city&ac_langcode=en&search_selected=true&checkin=2024-03-25&checkout=2024-03-31&group_adults=2&no_rooms=1&group_children=0&nflt=ht_id%3D204',\n",
       " 'https://www.booking.com/searchresults.html?ss=Austin%2C+TX%2C+United-States&lang=en-us&sb=1&src_elem=sb&src=index&dest_type=city&ac_langcode=en&search_selected=true&checkin=2024-03-25&checkout=2024-03-31&group_adults=2&no_rooms=1&group_children=0&nflt=ht_id%3D204',\n",
       " 'https://www.booking.com/searchresults.html?ss=Las-Vegas%2C+NV%2C+United-States&lang=en-us&sb=1&src_elem=sb&src=index&dest_type=city&ac_langcode=en&search_selected=true&checkin=2024-03-25&checkout=2024-03-31&group_adults=2&no_rooms=1&group_children=0&nflt=ht_id%3D204',\n",
       " 'https://www.booking.com/searchresults.html?ss=New-York%2C+NY%2C+United-States&lang=en-us&sb=1&src_elem=sb&src=index&dest_type=city&ac_langcode=en&search_selected=true&checkin=2024-03-25&checkout=2024-03-31&group_adults=3&no_rooms=2&group_children=0&nflt=ht_id%3D204',\n",
       " 'https://www.booking.com/searchresults.html?ss=Los-Angeles%2C+CA%2C+United-States&lang=en-us&sb=1&src_elem=sb&src=index&dest_type=city&ac_langcode=en&search_selected=true&checkin=2024-03-25&checkout=2024-03-31&group_adults=3&no_rooms=2&group_children=0&nflt=ht_id%3D204',\n",
       " 'https://www.booking.com/searchresults.html?ss=Chicago%2C+IL%2C+United-States&lang=en-us&sb=1&src_elem=sb&src=index&dest_type=city&ac_langcode=en&search_selected=true&checkin=2024-03-25&checkout=2024-03-31&group_adults=3&no_rooms=2&group_children=0&nflt=ht_id%3D204',\n",
       " 'https://www.booking.com/searchresults.html?ss=Austin%2C+TX%2C+United-States&lang=en-us&sb=1&src_elem=sb&src=index&dest_type=city&ac_langcode=en&search_selected=true&checkin=2024-03-25&checkout=2024-03-31&group_adults=3&no_rooms=2&group_children=0&nflt=ht_id%3D204',\n",
       " 'https://www.booking.com/searchresults.html?ss=Las-Vegas%2C+NV%2C+United-States&lang=en-us&sb=1&src_elem=sb&src=index&dest_type=city&ac_langcode=en&search_selected=true&checkin=2024-03-25&checkout=2024-03-31&group_adults=3&no_rooms=2&group_children=0&nflt=ht_id%3D204',\n",
       " 'https://www.booking.com/searchresults.html?ss=New-York%2C+NY%2C+United-States&lang=en-us&sb=1&src_elem=sb&src=index&dest_type=city&ac_langcode=en&search_selected=true&checkin=2024-03-25&checkout=2024-03-31&group_adults=4&no_rooms=2&group_children=0&nflt=ht_id%3D204',\n",
       " 'https://www.booking.com/searchresults.html?ss=Los-Angeles%2C+CA%2C+United-States&lang=en-us&sb=1&src_elem=sb&src=index&dest_type=city&ac_langcode=en&search_selected=true&checkin=2024-03-25&checkout=2024-03-31&group_adults=4&no_rooms=2&group_children=0&nflt=ht_id%3D204',\n",
       " 'https://www.booking.com/searchresults.html?ss=Chicago%2C+IL%2C+United-States&lang=en-us&sb=1&src_elem=sb&src=index&dest_type=city&ac_langcode=en&search_selected=true&checkin=2024-03-25&checkout=2024-03-31&group_adults=4&no_rooms=2&group_children=0&nflt=ht_id%3D204',\n",
       " 'https://www.booking.com/searchresults.html?ss=Austin%2C+TX%2C+United-States&lang=en-us&sb=1&src_elem=sb&src=index&dest_type=city&ac_langcode=en&search_selected=true&checkin=2024-03-25&checkout=2024-03-31&group_adults=4&no_rooms=2&group_children=0&nflt=ht_id%3D204',\n",
       " 'https://www.booking.com/searchresults.html?ss=Las-Vegas%2C+NV%2C+United-States&lang=en-us&sb=1&src_elem=sb&src=index&dest_type=city&ac_langcode=en&search_selected=true&checkin=2024-03-25&checkout=2024-03-31&group_adults=4&no_rooms=2&group_children=0&nflt=ht_id%3D204',\n",
       " 'https://www.booking.com/searchresults.html?ss=New-York%2C+NY%2C+United-States&lang=en-us&sb=1&src_elem=sb&src=index&dest_type=city&ac_langcode=en&search_selected=true&checkin=2024-03-25&checkout=2024-03-31&group_adults=5&no_rooms=3&group_children=0&nflt=ht_id%3D204',\n",
       " 'https://www.booking.com/searchresults.html?ss=Los-Angeles%2C+CA%2C+United-States&lang=en-us&sb=1&src_elem=sb&src=index&dest_type=city&ac_langcode=en&search_selected=true&checkin=2024-03-25&checkout=2024-03-31&group_adults=5&no_rooms=3&group_children=0&nflt=ht_id%3D204',\n",
       " 'https://www.booking.com/searchresults.html?ss=Chicago%2C+IL%2C+United-States&lang=en-us&sb=1&src_elem=sb&src=index&dest_type=city&ac_langcode=en&search_selected=true&checkin=2024-03-25&checkout=2024-03-31&group_adults=5&no_rooms=3&group_children=0&nflt=ht_id%3D204',\n",
       " 'https://www.booking.com/searchresults.html?ss=Austin%2C+TX%2C+United-States&lang=en-us&sb=1&src_elem=sb&src=index&dest_type=city&ac_langcode=en&search_selected=true&checkin=2024-03-25&checkout=2024-03-31&group_adults=5&no_rooms=3&group_children=0&nflt=ht_id%3D204',\n",
       " 'https://www.booking.com/searchresults.html?ss=Las-Vegas%2C+NV%2C+United-States&lang=en-us&sb=1&src_elem=sb&src=index&dest_type=city&ac_langcode=en&search_selected=true&checkin=2024-03-25&checkout=2024-03-31&group_adults=5&no_rooms=3&group_children=0&nflt=ht_id%3D204',\n",
       " 'https://www.booking.com/searchresults.html?ss=New-York%2C+NY%2C+United-States&lang=en-us&sb=1&src_elem=sb&src=index&dest_type=city&ac_langcode=en&search_selected=true&checkin=2024-03-25&checkout=2024-03-31&group_adults=6&no_rooms=3&group_children=0&nflt=ht_id%3D204',\n",
       " 'https://www.booking.com/searchresults.html?ss=Los-Angeles%2C+CA%2C+United-States&lang=en-us&sb=1&src_elem=sb&src=index&dest_type=city&ac_langcode=en&search_selected=true&checkin=2024-03-25&checkout=2024-03-31&group_adults=6&no_rooms=3&group_children=0&nflt=ht_id%3D204',\n",
       " 'https://www.booking.com/searchresults.html?ss=Chicago%2C+IL%2C+United-States&lang=en-us&sb=1&src_elem=sb&src=index&dest_type=city&ac_langcode=en&search_selected=true&checkin=2024-03-25&checkout=2024-03-31&group_adults=6&no_rooms=3&group_children=0&nflt=ht_id%3D204',\n",
       " 'https://www.booking.com/searchresults.html?ss=Austin%2C+TX%2C+United-States&lang=en-us&sb=1&src_elem=sb&src=index&dest_type=city&ac_langcode=en&search_selected=true&checkin=2024-03-25&checkout=2024-03-31&group_adults=6&no_rooms=3&group_children=0&nflt=ht_id%3D204',\n",
       " 'https://www.booking.com/searchresults.html?ss=Las-Vegas%2C+NV%2C+United-States&lang=en-us&sb=1&src_elem=sb&src=index&dest_type=city&ac_langcode=en&search_selected=true&checkin=2024-03-25&checkout=2024-03-31&group_adults=6&no_rooms=3&group_children=0&nflt=ht_id%3D204']"
      ]
     },
     "execution_count": 6,
     "metadata": {},
     "output_type": "execute_result"
    }
   ],
   "source": [
    "listings"
   ]
  },
  {
   "cell_type": "code",
   "execution_count": null,
   "id": "720cd360-1cac-476d-9006-8f2813880851",
   "metadata": {},
   "outputs": [],
   "source": []
  }
 ],
 "metadata": {
  "kernelspec": {
   "display_name": "Python 3 (ipykernel)",
   "language": "python",
   "name": "python3"
  },
  "language_info": {
   "codemirror_mode": {
    "name": "ipython",
    "version": 3
   },
   "file_extension": ".py",
   "mimetype": "text/x-python",
   "name": "python",
   "nbconvert_exporter": "python",
   "pygments_lexer": "ipython3",
   "version": "3.11.7"
  }
 },
 "nbformat": 4,
 "nbformat_minor": 5
}
