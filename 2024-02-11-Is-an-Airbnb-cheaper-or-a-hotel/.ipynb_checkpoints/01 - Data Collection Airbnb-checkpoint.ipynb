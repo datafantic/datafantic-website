{
 "cells": [
  {
   "cell_type": "markdown",
   "id": "b9b13d09-cb85-4499-a909-aec0ce67d276",
   "metadata": {},
   "source": [
    "---\n",
    "author: \"Robert Ritz\"\n",
    "draft: true\n",
    "echo: false\n",
    "---"
   ]
  },
  {
   "cell_type": "markdown",
   "id": "bc6b0989-4dcc-44d4-b6f6-12cdeb608618",
   "metadata": {},
   "source": [
    "# Data Collection"
   ]
  },
  {
   "cell_type": "code",
   "execution_count": 1,
   "id": "3a04f3fb-1462-453f-aec3-96089696fb6d",
   "metadata": {},
   "outputs": [],
   "source": [
    "import pandas as pd\n",
    "\n",
    "from bs4 import BeautifulSoup\n",
    "from selenium.common.exceptions import ElementNotVisibleException, ElementNotSelectableException, TimeoutException\n",
    "from selenium.webdriver import Chrome\n",
    "from selenium.webdriver.chrome.options import Options\n",
    "from selenium.webdriver.common.by import By\n",
    "from selenium.webdriver.support.wait import WebDriverWait\n",
    "from selenium.webdriver.support import expected_conditions as EC\n",
    "\n",
    "from tqdm.auto import tqdm\n",
    "import time"
   ]
  },
  {
   "cell_type": "code",
   "execution_count": 2,
   "id": "07a26b9c",
   "metadata": {},
   "outputs": [],
   "source": [
    "options = Options()\n",
    "options.add_argument(\"--headless=new\")\n",
    "options.add_argument(\"disable-infobars\")\n",
    "options.add_argument(\"--disable-extensions\")\n",
    "options.add_argument(\"--disable-dev-shm-usage\")\n",
    "options.add_argument(\"--no-sandbox\")"
   ]
  },
  {
   "cell_type": "code",
   "execution_count": 3,
   "id": "038094e0",
   "metadata": {},
   "outputs": [],
   "source": [
    "cities = [\n",
    "    \"New-York--NY--United-States\",\n",
    "    \"Los-Angeles--CA--United-States\",\n",
    "    \"Chicago--IL--United-States\",\n",
    "    \"Houston--TX--United-States\",\n",
    "    \"Phoenix--AZ--United-States\",\n",
    "    \"Philadelphia--PA--United-States\",\n",
    "    \"San-Antonio--TX--United-States\",\n",
    "    \"San-Diego--CA--United-States\",\n",
    "    \"Dallas--TX--United-States\",\n",
    "    \"San-Jose--CA--United-States\",\n",
    "    \"Austin--TX--United-States\",\n",
    "    \"Jacksonville--FL--United-States\",\n",
    "    \"Fort-Worth--TX--United-States\",\n",
    "    \"Columbus--OH--United-States\",\n",
    "    \"Charlotte--NC--United-States\",\n",
    "    \"San-Francisco--CA--United-States\",\n",
    "    \"Indianapolis--IN--United-States\",\n",
    "    \"Seattle--WA--United-States\",\n",
    "    \"Denver--CO--United-States\",\n",
    "    \"Washington--DC--United-States\",\n",
    "    \"Boston--MA--United-States\",\n",
    "    \"El-Paso--TX--United-States\",\n",
    "    \"Nashville--TN--United-States\",\n",
    "    \"Detroit--MI--United-States\",\n",
    "    \"Oklahoma-City--OK--United-States\",\n",
    "    \"Portland--OR--United-States\",\n",
    "    \"Las-Vegas--NV--United-States\",\n",
    "    \"Memphis--TN--United-States\",\n",
    "    \"Louisville--KY--United-States\",\n",
    "    \"Baltimore--MD--United-States\",\n",
    "    \"Milwaukee--WI--United-States\",\n",
    "    \"Albuquerque--NM--United-States\",\n",
    "    \"Tucson--AZ--United-States\",\n",
    "    \"Fresno--CA--United-States\",\n",
    "    \"Mesa--AZ--United-States\",\n",
    "    \"Sacramento--CA--United-States\",\n",
    "    \"Atlanta--GA--United-States\",\n",
    "    \"Kansas-City--MO--United-States\",\n",
    "    \"Colorado-Springs--CO--United-States\",\n",
    "    \"Miami--FL--United-States\",\n",
    "    \"Raleigh--NC--United-States\",\n",
    "    \"Omaha--NE--United-States\",\n",
    "    \"Long-Beach--CA--United-States\",\n",
    "    \"Virginia-Beach--VA--United-States\",\n",
    "    \"Oakland--CA--United-States\",\n",
    "    \"Minneapolis--MN--United-States\",\n",
    "    \"Tulsa--OK--United-States\",\n",
    "    \"Arlington--TX--United-States\",\n",
    "    \"Tampa--FL--United-States\",\n",
    "    \"New-Orleans--LA--United-States\"\n",
    "]"
   ]
  },
  {
   "cell_type": "code",
   "execution_count": null,
   "id": "e2107538",
   "metadata": {},
   "outputs": [
    {
     "data": {
      "application/vnd.jupyter.widget-view+json": {
       "model_id": "44b75cb4c94f41acb3911d6a621ba0aa",
       "version_major": 2,
       "version_minor": 0
      },
      "text/plain": [
       "Adults:   0%|          | 0/5 [00:00<?, ?it/s]"
      ]
     },
     "metadata": {},
     "output_type": "display_data"
    },
    {
     "data": {
      "application/vnd.jupyter.widget-view+json": {
       "model_id": "ecb5917ccf4b4480a726e126aed841c9",
       "version_major": 2,
       "version_minor": 0
      },
      "text/plain": [
       "City:   0%|          | 0/50 [00:00<?, ?it/s]"
      ]
     },
     "metadata": {},
     "output_type": "display_data"
    }
   ],
   "source": [
    "checkin = '2024-03-25'\n",
    "checkout = '2024-03-27'\n",
    "\n",
    "listings = []\n",
    "for adults in tqdm(range(2, 7), desc=\"Adults\"):  # adults ranging from 2 to 6\n",
    "        for city in tqdm(cities, position=0, desc=\"City\"):\n",
    "            url = f\"https://www.airbnb.com/s/{city}/homes?tab_id=home_tab&refinement_paths%5B%5D=%2Fhomes&price_filter_input_type=0&date_picker_type=calendar&source=structured_search_input_header&search_type=filter_change&adults={adults}&checkin={checkin}&checkout={checkout}\"\n",
    "            # Load root city listings\n",
    "            driver = Chrome(options=options)\n",
    "            driver.get(url)\n",
    "            wait = WebDriverWait(driver, timeout=10, poll_frequency=1, ignored_exceptions=[ElementNotVisibleException, ElementNotSelectableException])\n",
    "            try:\n",
    "                element = wait.until(EC.presence_of_element_located((By.CSS_SELECTOR, \"\"\"nav[aria-label='Search results pagination']\"\"\")))\n",
    "            except TimeoutException:\n",
    "                pass\n",
    "\n",
    "            # click button to see full price\n",
    "            button = driver.find_element(By.CSS_SELECTOR, 'button[role=\"switch\"]')\n",
    "            button.click()\n",
    "            time.sleep(3)\n",
    "            \n",
    "            # Determine number of pages in listings\n",
    "            pages = driver.find_elements(By.TAG_NAME, \"nav\")[-1].find_elements(By.TAG_NAME, \"a\")[-2].text\n",
    "            try:\n",
    "                pages = int(pages)\n",
    "            except ValueError:\n",
    "                continue\n",
    "\n",
    "            # Navigate through each successive page in the listings\n",
    "            for page in range(pages):\n",
    "                soup = BeautifulSoup(driver.page_source)\n",
    "                items = soup.find_all(\"div\", {'itemprop':'itemListElement'})\n",
    "                for item in items:\n",
    "                    features = {}\n",
    "                    features['name'] = item.find('meta', {'itemprop':'name'})['content']\n",
    "                    features['url'] = item.find('meta', {'itemprop':'url'})['content']\n",
    "                    features['card_title'] = item.find('div', {'data-testid':'listing-card-title'}).text\n",
    "                    features['price'] = item.find(lambda tag: tag.name == 'div' and \"total before taxes\" in tag.text).text.split(\"total before taxes\")[1].strip()\n",
    "                    features['city'] = city\n",
    "                    features['checkin'] = checkin\n",
    "                    features['checkout'] = checkout\n",
    "                    features['adults'] = adults\n",
    "                    listings.append(features)\n",
    "                pd.DataFrame(listings).to_csv(\"airbnb_listings.csv\", index=False)\n",
    "                \n",
    "                # Got to next page and wait until element is loaded\n",
    "                driver.find_elements(By.TAG_NAME, \"nav\")[-1].find_elements(By.TAG_NAME, \"a\")[-1].click()\n",
    "                time.sleep(3)\n",
    "            driver.quit()"
   ]
  },
  {
   "cell_type": "code",
   "execution_count": null,
   "id": "815403d3",
   "metadata": {},
   "outputs": [],
   "source": []
  }
 ],
 "metadata": {
  "kernelspec": {
   "display_name": "Python 3 (ipykernel)",
   "language": "python",
   "name": "python3"
  },
  "language_info": {
   "codemirror_mode": {
    "name": "ipython",
    "version": 3
   },
   "file_extension": ".py",
   "mimetype": "text/x-python",
   "name": "python",
   "nbconvert_exporter": "python",
   "pygments_lexer": "ipython3",
   "version": "3.11.7"
  }
 },
 "nbformat": 4,
 "nbformat_minor": 5
}
