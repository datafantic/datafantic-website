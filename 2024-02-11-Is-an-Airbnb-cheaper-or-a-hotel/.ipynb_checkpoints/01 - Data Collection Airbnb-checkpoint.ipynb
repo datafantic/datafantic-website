{
 "cells": [
  {
   "cell_type": "markdown",
   "id": "b9b13d09-cb85-4499-a909-aec0ce67d276",
   "metadata": {},
   "source": [
    "---\n",
    "author: \"Robert Ritz\"\n",
    "draft: true\n",
    "echo: false\n",
    "---"
   ]
  },
  {
   "cell_type": "markdown",
   "id": "bc6b0989-4dcc-44d4-b6f6-12cdeb608618",
   "metadata": {},
   "source": [
    "# Data Collection"
   ]
  },
  {
   "cell_type": "code",
   "execution_count": 6,
   "id": "3a04f3fb-1462-453f-aec3-96089696fb6d",
   "metadata": {},
   "outputs": [],
   "source": [
    "import pandas as pd\n",
    "\n",
    "from bs4 import BeautifulSoup\n",
    "from selenium.common.exceptions import ElementNotVisibleException, ElementNotSelectableException, TimeoutException\n",
    "from selenium.webdriver import Chrome\n",
    "from selenium.webdriver.chrome.options import Options\n",
    "from selenium.webdriver.common.by import By\n",
    "from selenium.webdriver.support.wait import WebDriverWait\n",
    "from selenium.webdriver.support import expected_conditions as EC\n",
    "\n",
    "from tqdm.auto import tqdm\n",
    "import time"
   ]
  },
  {
   "cell_type": "code",
   "execution_count": 7,
   "id": "07a26b9c",
   "metadata": {},
   "outputs": [],
   "source": [
    "options = Options()\n",
    "options.add_argument(\"--headless=new\")\n",
    "options.add_argument(\"disable-infobars\")\n",
    "options.add_argument(\"--disable-extensions\")\n",
    "options.add_argument(\"--disable-dev-shm-usage\")\n",
    "options.add_argument(\"--no-sandbox\")"
   ]
  },
  {
   "cell_type": "code",
   "execution_count": 8,
   "id": "038094e0",
   "metadata": {},
   "outputs": [],
   "source": [
    "cities = [\n",
    "    \"New-York--NY--United-States\",\n",
    "    \"Los-Angeles--CA--United-States\",\n",
    "    \"Chicago--IL--United-States\",\n",
    "    \"Austin--TX--United-States\",\n",
    "    \"Las-Vegas--NV--United-States\",\n",
    "]\n",
    "\n",
    "checkin = '2024-03-25'\n",
    "checkout_list = ['2024-03-27', '2024-03-28', '2024-03-29', '2024-03-30', '2024-03-31']"
   ]
  },
  {
   "cell_type": "code",
   "execution_count": null,
   "id": "f324c17c-e012-461c-b978-7d960755dd18",
   "metadata": {},
   "outputs": [],
   "source": [
    "tax_rates {\n",
    "    \"New-York--NY--United-States\": 0,\n",
    "    \"Los-Angeles--CA--United-States\": .10,\n",
    "    \"Chicago--IL--United-States\": .22,\n",
    "    \"Austin--TX--United-States\": 0.0525,\n",
    "    \"Las-Vegas--NV--United-States\": .116,\n",
    "}"
   ]
  },
  {
   "cell_type": "code",
   "execution_count": 9,
   "id": "e2107538",
   "metadata": {},
   "outputs": [
    {
     "data": {
      "application/vnd.jupyter.widget-view+json": {
       "model_id": "e6c6c5cc40474610bf92c4e5e20771f1",
       "version_major": 2,
       "version_minor": 0
      },
      "text/plain": [
       "Checkout Date:   0%|          | 0/5 [00:00<?, ?it/s]"
      ]
     },
     "metadata": {},
     "output_type": "display_data"
    },
    {
     "data": {
      "application/vnd.jupyter.widget-view+json": {
       "model_id": "03f9b8bae96b4522bf234d05e7447cc7",
       "version_major": 2,
       "version_minor": 0
      },
      "text/plain": [
       "Adults:   0%|          | 0/5 [00:00<?, ?it/s]"
      ]
     },
     "metadata": {},
     "output_type": "display_data"
    },
    {
     "data": {
      "application/vnd.jupyter.widget-view+json": {
       "model_id": "",
       "version_major": 2,
       "version_minor": 0
      },
      "text/plain": [
       "City:   0%|          | 0/5 [00:00<?, ?it/s]"
      ]
     },
     "metadata": {},
     "output_type": "display_data"
    },
    {
     "data": {
      "application/vnd.jupyter.widget-view+json": {
       "model_id": "d5785bd319de4deabb791520ced15dfd",
       "version_major": 2,
       "version_minor": 0
      },
      "text/plain": [
       "City:   0%|          | 0/5 [00:00<?, ?it/s]"
      ]
     },
     "metadata": {},
     "output_type": "display_data"
    },
    {
     "ename": "KeyboardInterrupt",
     "evalue": "",
     "output_type": "error",
     "traceback": [
      "\u001b[0;31m---------------------------------------------------------------------------\u001b[0m",
      "\u001b[0;31mKeyboardInterrupt\u001b[0m                         Traceback (most recent call last)",
      "Cell \u001b[0;32mIn[9], line 46\u001b[0m\n\u001b[1;32m     44\u001b[0m     \u001b[38;5;66;03m# Got to next page and wait until element is loaded\u001b[39;00m\n\u001b[1;32m     45\u001b[0m     driver\u001b[38;5;241m.\u001b[39mfind_elements(By\u001b[38;5;241m.\u001b[39mTAG_NAME, \u001b[38;5;124m\"\u001b[39m\u001b[38;5;124mnav\u001b[39m\u001b[38;5;124m\"\u001b[39m)[\u001b[38;5;241m-\u001b[39m\u001b[38;5;241m1\u001b[39m]\u001b[38;5;241m.\u001b[39mfind_elements(By\u001b[38;5;241m.\u001b[39mTAG_NAME, \u001b[38;5;124m\"\u001b[39m\u001b[38;5;124ma\u001b[39m\u001b[38;5;124m\"\u001b[39m)[\u001b[38;5;241m-\u001b[39m\u001b[38;5;241m1\u001b[39m]\u001b[38;5;241m.\u001b[39mclick()\n\u001b[0;32m---> 46\u001b[0m     time\u001b[38;5;241m.\u001b[39msleep(\u001b[38;5;241m3\u001b[39m)\n\u001b[1;32m     47\u001b[0m driver\u001b[38;5;241m.\u001b[39mquit()\n",
      "\u001b[0;31mKeyboardInterrupt\u001b[0m: "
     ]
    }
   ],
   "source": [
    "listings = []\n",
    "for checkout in tqdm(checkout_list, desc='Checkout Date', position=0):\n",
    "    for adults in tqdm(range(2, 7), desc=\"Adults\", position=1, leave=False):  # adults ranging from 2 to 6\n",
    "            for city in tqdm(cities, desc=\"City\", position=2, leave=False):\n",
    "                url = f\"https://www.airbnb.com/s/{city}/homes?tab_id=home_tab&refinement_paths%5B%5D=%2Fhomes&price_filter_input_type=0&date_picker_type=calendar&source=structured_search_input_header&search_type=filter_change&adults={adults}&checkin={checkin}&checkout={checkout}\"\n",
    "                # Load root city listings\n",
    "                driver = Chrome(options=options)\n",
    "                driver.get(url)\n",
    "                wait = WebDriverWait(driver, timeout=10, poll_frequency=1, ignored_exceptions=[ElementNotVisibleException, ElementNotSelectableException])\n",
    "                try:\n",
    "                    element = wait.until(EC.presence_of_element_located((By.CSS_SELECTOR, \"\"\"nav[aria-label='Search results pagination']\"\"\")))\n",
    "                except TimeoutException:\n",
    "                    pass\n",
    "    \n",
    "                # click button to see full price\n",
    "                button = driver.find_element(By.CSS_SELECTOR, 'button[role=\"switch\"]')\n",
    "                button.click()\n",
    "                time.sleep(3)\n",
    "                \n",
    "                # Determine number of pages in listings\n",
    "                pages = driver.find_elements(By.TAG_NAME, \"nav\")[-1].find_elements(By.TAG_NAME, \"a\")[-2].text\n",
    "                try:\n",
    "                    pages = int(pages)\n",
    "                except ValueError:\n",
    "                    continue\n",
    "    \n",
    "                # Navigate through each successive page in the listings\n",
    "                for page in range(pages):\n",
    "                    soup = BeautifulSoup(driver.page_source)\n",
    "                    items = soup.find_all(\"div\", {'itemprop':'itemListElement'})\n",
    "                    for item in items:\n",
    "                        features = {}\n",
    "                        features['name'] = item.find('meta', {'itemprop':'name'})['content']\n",
    "                        features['url'] = item.find('meta', {'itemprop':'url'})['content']\n",
    "                        features['card_title'] = item.find('div', {'data-testid':'listing-card-title'}).text\n",
    "                        features['price'] = item.find(lambda tag: tag.name == 'div' and \"total before taxes\" in tag.text).text.split(\"total before taxes\")[1].strip()\n",
    "                        features['city'] = city\n",
    "                        features['checkin'] = checkin\n",
    "                        features['checkout'] = checkout\n",
    "                        features['adults'] = adults\n",
    "                        listings.append(features)\n",
    "                    pd.DataFrame(listings).to_csv(\"airbnb_listings.csv\", index=False)\n",
    "                    \n",
    "                    # Got to next page and wait until element is loaded\n",
    "                    driver.find_elements(By.TAG_NAME, \"nav\")[-1].find_elements(By.TAG_NAME, \"a\")[-1].click()\n",
    "                    time.sleep(3)\n",
    "                driver.quit()"
   ]
  },
  {
   "cell_type": "code",
   "execution_count": null,
   "id": "815403d3",
   "metadata": {},
   "outputs": [],
   "source": []
  }
 ],
 "metadata": {
  "kernelspec": {
   "display_name": "Python 3 (ipykernel)",
   "language": "python",
   "name": "python3"
  },
  "language_info": {
   "codemirror_mode": {
    "name": "ipython",
    "version": 3
   },
   "file_extension": ".py",
   "mimetype": "text/x-python",
   "name": "python",
   "nbconvert_exporter": "python",
   "pygments_lexer": "ipython3",
   "version": "3.11.7"
  }
 },
 "nbformat": 4,
 "nbformat_minor": 5
}
