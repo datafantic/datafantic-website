{
 "cells": [
  {
   "cell_type": "markdown",
   "id": "9589b7be-d9a7-4536-89a6-f15919ea0481",
   "metadata": {},
   "source": [
    "# 02 - Data Collection Booking.com"
   ]
  },
  {
   "cell_type": "code",
   "execution_count": 1,
   "id": "ec08b9df-188c-494b-940e-c3a82e740366",
   "metadata": {},
   "outputs": [],
   "source": [
    "import pandas as pd\n",
    "\n",
    "from bs4 import BeautifulSoup\n",
    "from selenium.common.exceptions import ElementNotVisibleException, ElementNotSelectableException, TimeoutException\n",
    "from selenium.webdriver import Chrome\n",
    "from selenium.webdriver.chrome.options import Options\n",
    "from selenium.webdriver.common.by import By\n",
    "from selenium.webdriver.support.wait import WebDriverWait\n",
    "from selenium.webdriver.support import expected_conditions as EC\n",
    "\n",
    "from tqdm.auto import tqdm\n",
    "import time\n",
    "import math"
   ]
  },
  {
   "cell_type": "code",
   "execution_count": 2,
   "id": "92ed7970-c58f-4c9c-ad72-3d4fd7f4c5ad",
   "metadata": {},
   "outputs": [],
   "source": [
    "options = Options()\n",
    "options.add_argument(\"--headless=new\")\n",
    "options.add_argument(\"disable-infobars\")\n",
    "options.add_argument(\"--disable-extensions\")\n",
    "options.add_argument(\"--disable-dev-shm-usage\")\n",
    "options.add_argument(\"--no-sandbox\")"
   ]
  },
  {
   "cell_type": "code",
   "execution_count": 3,
   "id": "3a8337bf-876a-46ff-b224-6197dc17aa09",
   "metadata": {},
   "outputs": [],
   "source": [
    "cities = [\n",
    "    \"New-York--NY--United-States\",\n",
    "    \"Los-Angeles--CA--United-States\",\n",
    "    \"Chicago--IL--United-States\",\n",
    "    \"Austin--TX--United-States\",\n",
    "    \"Las-Vegas--NV--United-States\",\n",
    "]\n",
    "\n",
    "checkin = '2024-03-25'\n",
    "checkout_list = ['2024-03-27', '2024-03-28', '2024-03-29', '2024-03-30', '2024-03-31']"
   ]
  },
  {
   "cell_type": "code",
   "execution_count": 4,
   "id": "11a3d47f-63b6-4a12-a7ba-dfed0b819740",
   "metadata": {},
   "outputs": [],
   "source": [
    "new_cities = []\n",
    "for city in cities:\n",
    "    new_cities.append(city.replace(\"--\",\"%2C+\"))"
   ]
  },
  {
   "cell_type": "code",
   "execution_count": 12,
   "id": "620f09c2-43f3-40d3-b1ef-34ab12d0965b",
   "metadata": {},
   "outputs": [
    {
     "data": {
      "application/vnd.jupyter.widget-view+json": {
       "model_id": "249930e9b70f44029da574393bc9c885",
       "version_major": 2,
       "version_minor": 0
      },
      "text/plain": [
       "Adults:   0%|          | 0/5 [00:00<?, ?it/s]"
      ]
     },
     "metadata": {},
     "output_type": "display_data"
    },
    {
     "data": {
      "application/vnd.jupyter.widget-view+json": {
       "model_id": "53e61ac9111d46d1826b32d6d8d9e578",
       "version_major": 2,
       "version_minor": 0
      },
      "text/plain": [
       "City:   0%|          | 0/50 [00:00<?, ?it/s]"
      ]
     },
     "metadata": {},
     "output_type": "display_data"
    },
    {
     "data": {
      "application/vnd.jupyter.widget-view+json": {
       "model_id": "b9fd2267ffbd45e5afa5acd66ddc0a27",
       "version_major": 2,
       "version_minor": 0
      },
      "text/plain": [
       "City:   0%|          | 0/50 [00:00<?, ?it/s]"
      ]
     },
     "metadata": {},
     "output_type": "display_data"
    },
    {
     "data": {
      "application/vnd.jupyter.widget-view+json": {
       "model_id": "1986f7fe3b09439ab0bb31e0384dfbaa",
       "version_major": 2,
       "version_minor": 0
      },
      "text/plain": [
       "City:   0%|          | 0/50 [00:00<?, ?it/s]"
      ]
     },
     "metadata": {},
     "output_type": "display_data"
    },
    {
     "data": {
      "application/vnd.jupyter.widget-view+json": {
       "model_id": "3ea0ef3099e74652af7e312d56b491b8",
       "version_major": 2,
       "version_minor": 0
      },
      "text/plain": [
       "City:   0%|          | 0/50 [00:00<?, ?it/s]"
      ]
     },
     "metadata": {},
     "output_type": "display_data"
    },
    {
     "data": {
      "application/vnd.jupyter.widget-view+json": {
       "model_id": "458c3097b508405e807b1603283dc5a9",
       "version_major": 2,
       "version_minor": 0
      },
      "text/plain": [
       "City:   0%|          | 0/50 [00:00<?, ?it/s]"
      ]
     },
     "metadata": {},
     "output_type": "display_data"
    }
   ],
   "source": [
    "listings = []\n",
    "for checkout in tqdm(checkout_list, desc='Checkout Date', position=0):\n",
    "    for adults in tqdm(range(2, 7), desc=\"Adults\", position=1, leave=False):  # adults ranging from 2 to 6\n",
    "            for city in tqdm(new_cities, desc=\"City\", position=2, leave=False):\n",
    "                rooms = math.ceil(adults / 2)\n",
    "                url = f\"https://www.booking.com/searchresults.html?ss={city}&lang=en-us&sb=1&src_elem=sb&src=index&dest_type=city&ac_langcode=en&search_selected=true&checkin={checkin}&checkout={checkout}&group_adults={adults}&no_rooms={rooms}&group_children=0&nflt=ht_id%3D204\"\n",
    "                listings.append(url)"
   ]
  },
  {
   "cell_type": "code",
   "execution_count": 13,
   "id": "d16fc939-460b-4a07-9a87-3ffb9e939aca",
   "metadata": {},
   "outputs": [
    {
     "data": {
      "text/plain": [
       "['https://www.booking.com/searchresults.html?ss=New-York--NY--United-States&lang=en-us&sb=1&src_elem=sb&src=index&dest_type=city&ac_langcode=en&search_selected=true&checkin=2024-03-25&checkout=2024-03-27&group_adults=2&no_rooms=1&group_children=0&nflt=ht_id%3D204',\n",
       " 'https://www.booking.com/searchresults.html?ss=Los-Angeles--CA--United-States&lang=en-us&sb=1&src_elem=sb&src=index&dest_type=city&ac_langcode=en&search_selected=true&checkin=2024-03-25&checkout=2024-03-27&group_adults=2&no_rooms=1&group_children=0&nflt=ht_id%3D204',\n",
       " 'https://www.booking.com/searchresults.html?ss=Chicago--IL--United-States&lang=en-us&sb=1&src_elem=sb&src=index&dest_type=city&ac_langcode=en&search_selected=true&checkin=2024-03-25&checkout=2024-03-27&group_adults=2&no_rooms=1&group_children=0&nflt=ht_id%3D204',\n",
       " 'https://www.booking.com/searchresults.html?ss=Houston--TX--United-States&lang=en-us&sb=1&src_elem=sb&src=index&dest_type=city&ac_langcode=en&search_selected=true&checkin=2024-03-25&checkout=2024-03-27&group_adults=2&no_rooms=1&group_children=0&nflt=ht_id%3D204',\n",
       " 'https://www.booking.com/searchresults.html?ss=Phoenix--AZ--United-States&lang=en-us&sb=1&src_elem=sb&src=index&dest_type=city&ac_langcode=en&search_selected=true&checkin=2024-03-25&checkout=2024-03-27&group_adults=2&no_rooms=1&group_children=0&nflt=ht_id%3D204',\n",
       " 'https://www.booking.com/searchresults.html?ss=Philadelphia--PA--United-States&lang=en-us&sb=1&src_elem=sb&src=index&dest_type=city&ac_langcode=en&search_selected=true&checkin=2024-03-25&checkout=2024-03-27&group_adults=2&no_rooms=1&group_children=0&nflt=ht_id%3D204',\n",
       " 'https://www.booking.com/searchresults.html?ss=San-Antonio--TX--United-States&lang=en-us&sb=1&src_elem=sb&src=index&dest_type=city&ac_langcode=en&search_selected=true&checkin=2024-03-25&checkout=2024-03-27&group_adults=2&no_rooms=1&group_children=0&nflt=ht_id%3D204',\n",
       " 'https://www.booking.com/searchresults.html?ss=San-Diego--CA--United-States&lang=en-us&sb=1&src_elem=sb&src=index&dest_type=city&ac_langcode=en&search_selected=true&checkin=2024-03-25&checkout=2024-03-27&group_adults=2&no_rooms=1&group_children=0&nflt=ht_id%3D204',\n",
       " 'https://www.booking.com/searchresults.html?ss=Dallas--TX--United-States&lang=en-us&sb=1&src_elem=sb&src=index&dest_type=city&ac_langcode=en&search_selected=true&checkin=2024-03-25&checkout=2024-03-27&group_adults=2&no_rooms=1&group_children=0&nflt=ht_id%3D204',\n",
       " 'https://www.booking.com/searchresults.html?ss=San-Jose--CA--United-States&lang=en-us&sb=1&src_elem=sb&src=index&dest_type=city&ac_langcode=en&search_selected=true&checkin=2024-03-25&checkout=2024-03-27&group_adults=2&no_rooms=1&group_children=0&nflt=ht_id%3D204',\n",
       " 'https://www.booking.com/searchresults.html?ss=Austin--TX--United-States&lang=en-us&sb=1&src_elem=sb&src=index&dest_type=city&ac_langcode=en&search_selected=true&checkin=2024-03-25&checkout=2024-03-27&group_adults=2&no_rooms=1&group_children=0&nflt=ht_id%3D204',\n",
       " 'https://www.booking.com/searchresults.html?ss=Jacksonville--FL--United-States&lang=en-us&sb=1&src_elem=sb&src=index&dest_type=city&ac_langcode=en&search_selected=true&checkin=2024-03-25&checkout=2024-03-27&group_adults=2&no_rooms=1&group_children=0&nflt=ht_id%3D204',\n",
       " 'https://www.booking.com/searchresults.html?ss=Fort-Worth--TX--United-States&lang=en-us&sb=1&src_elem=sb&src=index&dest_type=city&ac_langcode=en&search_selected=true&checkin=2024-03-25&checkout=2024-03-27&group_adults=2&no_rooms=1&group_children=0&nflt=ht_id%3D204',\n",
       " 'https://www.booking.com/searchresults.html?ss=Columbus--OH--United-States&lang=en-us&sb=1&src_elem=sb&src=index&dest_type=city&ac_langcode=en&search_selected=true&checkin=2024-03-25&checkout=2024-03-27&group_adults=2&no_rooms=1&group_children=0&nflt=ht_id%3D204',\n",
       " 'https://www.booking.com/searchresults.html?ss=Charlotte--NC--United-States&lang=en-us&sb=1&src_elem=sb&src=index&dest_type=city&ac_langcode=en&search_selected=true&checkin=2024-03-25&checkout=2024-03-27&group_adults=2&no_rooms=1&group_children=0&nflt=ht_id%3D204',\n",
       " 'https://www.booking.com/searchresults.html?ss=San-Francisco--CA--United-States&lang=en-us&sb=1&src_elem=sb&src=index&dest_type=city&ac_langcode=en&search_selected=true&checkin=2024-03-25&checkout=2024-03-27&group_adults=2&no_rooms=1&group_children=0&nflt=ht_id%3D204',\n",
       " 'https://www.booking.com/searchresults.html?ss=Indianapolis--IN--United-States&lang=en-us&sb=1&src_elem=sb&src=index&dest_type=city&ac_langcode=en&search_selected=true&checkin=2024-03-25&checkout=2024-03-27&group_adults=2&no_rooms=1&group_children=0&nflt=ht_id%3D204',\n",
       " 'https://www.booking.com/searchresults.html?ss=Seattle--WA--United-States&lang=en-us&sb=1&src_elem=sb&src=index&dest_type=city&ac_langcode=en&search_selected=true&checkin=2024-03-25&checkout=2024-03-27&group_adults=2&no_rooms=1&group_children=0&nflt=ht_id%3D204',\n",
       " 'https://www.booking.com/searchresults.html?ss=Denver--CO--United-States&lang=en-us&sb=1&src_elem=sb&src=index&dest_type=city&ac_langcode=en&search_selected=true&checkin=2024-03-25&checkout=2024-03-27&group_adults=2&no_rooms=1&group_children=0&nflt=ht_id%3D204',\n",
       " 'https://www.booking.com/searchresults.html?ss=Washington--DC--United-States&lang=en-us&sb=1&src_elem=sb&src=index&dest_type=city&ac_langcode=en&search_selected=true&checkin=2024-03-25&checkout=2024-03-27&group_adults=2&no_rooms=1&group_children=0&nflt=ht_id%3D204',\n",
       " 'https://www.booking.com/searchresults.html?ss=Boston--MA--United-States&lang=en-us&sb=1&src_elem=sb&src=index&dest_type=city&ac_langcode=en&search_selected=true&checkin=2024-03-25&checkout=2024-03-27&group_adults=2&no_rooms=1&group_children=0&nflt=ht_id%3D204',\n",
       " 'https://www.booking.com/searchresults.html?ss=El-Paso--TX--United-States&lang=en-us&sb=1&src_elem=sb&src=index&dest_type=city&ac_langcode=en&search_selected=true&checkin=2024-03-25&checkout=2024-03-27&group_adults=2&no_rooms=1&group_children=0&nflt=ht_id%3D204',\n",
       " 'https://www.booking.com/searchresults.html?ss=Nashville--TN--United-States&lang=en-us&sb=1&src_elem=sb&src=index&dest_type=city&ac_langcode=en&search_selected=true&checkin=2024-03-25&checkout=2024-03-27&group_adults=2&no_rooms=1&group_children=0&nflt=ht_id%3D204',\n",
       " 'https://www.booking.com/searchresults.html?ss=Detroit--MI--United-States&lang=en-us&sb=1&src_elem=sb&src=index&dest_type=city&ac_langcode=en&search_selected=true&checkin=2024-03-25&checkout=2024-03-27&group_adults=2&no_rooms=1&group_children=0&nflt=ht_id%3D204',\n",
       " 'https://www.booking.com/searchresults.html?ss=Oklahoma-City--OK--United-States&lang=en-us&sb=1&src_elem=sb&src=index&dest_type=city&ac_langcode=en&search_selected=true&checkin=2024-03-25&checkout=2024-03-27&group_adults=2&no_rooms=1&group_children=0&nflt=ht_id%3D204',\n",
       " 'https://www.booking.com/searchresults.html?ss=Portland--OR--United-States&lang=en-us&sb=1&src_elem=sb&src=index&dest_type=city&ac_langcode=en&search_selected=true&checkin=2024-03-25&checkout=2024-03-27&group_adults=2&no_rooms=1&group_children=0&nflt=ht_id%3D204',\n",
       " 'https://www.booking.com/searchresults.html?ss=Las-Vegas--NV--United-States&lang=en-us&sb=1&src_elem=sb&src=index&dest_type=city&ac_langcode=en&search_selected=true&checkin=2024-03-25&checkout=2024-03-27&group_adults=2&no_rooms=1&group_children=0&nflt=ht_id%3D204',\n",
       " 'https://www.booking.com/searchresults.html?ss=Memphis--TN--United-States&lang=en-us&sb=1&src_elem=sb&src=index&dest_type=city&ac_langcode=en&search_selected=true&checkin=2024-03-25&checkout=2024-03-27&group_adults=2&no_rooms=1&group_children=0&nflt=ht_id%3D204',\n",
       " 'https://www.booking.com/searchresults.html?ss=Louisville--KY--United-States&lang=en-us&sb=1&src_elem=sb&src=index&dest_type=city&ac_langcode=en&search_selected=true&checkin=2024-03-25&checkout=2024-03-27&group_adults=2&no_rooms=1&group_children=0&nflt=ht_id%3D204',\n",
       " 'https://www.booking.com/searchresults.html?ss=Baltimore--MD--United-States&lang=en-us&sb=1&src_elem=sb&src=index&dest_type=city&ac_langcode=en&search_selected=true&checkin=2024-03-25&checkout=2024-03-27&group_adults=2&no_rooms=1&group_children=0&nflt=ht_id%3D204',\n",
       " 'https://www.booking.com/searchresults.html?ss=Milwaukee--WI--United-States&lang=en-us&sb=1&src_elem=sb&src=index&dest_type=city&ac_langcode=en&search_selected=true&checkin=2024-03-25&checkout=2024-03-27&group_adults=2&no_rooms=1&group_children=0&nflt=ht_id%3D204',\n",
       " 'https://www.booking.com/searchresults.html?ss=Albuquerque--NM--United-States&lang=en-us&sb=1&src_elem=sb&src=index&dest_type=city&ac_langcode=en&search_selected=true&checkin=2024-03-25&checkout=2024-03-27&group_adults=2&no_rooms=1&group_children=0&nflt=ht_id%3D204',\n",
       " 'https://www.booking.com/searchresults.html?ss=Tucson--AZ--United-States&lang=en-us&sb=1&src_elem=sb&src=index&dest_type=city&ac_langcode=en&search_selected=true&checkin=2024-03-25&checkout=2024-03-27&group_adults=2&no_rooms=1&group_children=0&nflt=ht_id%3D204',\n",
       " 'https://www.booking.com/searchresults.html?ss=Fresno--CA--United-States&lang=en-us&sb=1&src_elem=sb&src=index&dest_type=city&ac_langcode=en&search_selected=true&checkin=2024-03-25&checkout=2024-03-27&group_adults=2&no_rooms=1&group_children=0&nflt=ht_id%3D204',\n",
       " 'https://www.booking.com/searchresults.html?ss=Mesa--AZ--United-States&lang=en-us&sb=1&src_elem=sb&src=index&dest_type=city&ac_langcode=en&search_selected=true&checkin=2024-03-25&checkout=2024-03-27&group_adults=2&no_rooms=1&group_children=0&nflt=ht_id%3D204',\n",
       " 'https://www.booking.com/searchresults.html?ss=Sacramento--CA--United-States&lang=en-us&sb=1&src_elem=sb&src=index&dest_type=city&ac_langcode=en&search_selected=true&checkin=2024-03-25&checkout=2024-03-27&group_adults=2&no_rooms=1&group_children=0&nflt=ht_id%3D204',\n",
       " 'https://www.booking.com/searchresults.html?ss=Atlanta--GA--United-States&lang=en-us&sb=1&src_elem=sb&src=index&dest_type=city&ac_langcode=en&search_selected=true&checkin=2024-03-25&checkout=2024-03-27&group_adults=2&no_rooms=1&group_children=0&nflt=ht_id%3D204',\n",
       " 'https://www.booking.com/searchresults.html?ss=Kansas-City--MO--United-States&lang=en-us&sb=1&src_elem=sb&src=index&dest_type=city&ac_langcode=en&search_selected=true&checkin=2024-03-25&checkout=2024-03-27&group_adults=2&no_rooms=1&group_children=0&nflt=ht_id%3D204',\n",
       " 'https://www.booking.com/searchresults.html?ss=Colorado-Springs--CO--United-States&lang=en-us&sb=1&src_elem=sb&src=index&dest_type=city&ac_langcode=en&search_selected=true&checkin=2024-03-25&checkout=2024-03-27&group_adults=2&no_rooms=1&group_children=0&nflt=ht_id%3D204',\n",
       " 'https://www.booking.com/searchresults.html?ss=Miami--FL--United-States&lang=en-us&sb=1&src_elem=sb&src=index&dest_type=city&ac_langcode=en&search_selected=true&checkin=2024-03-25&checkout=2024-03-27&group_adults=2&no_rooms=1&group_children=0&nflt=ht_id%3D204',\n",
       " 'https://www.booking.com/searchresults.html?ss=Raleigh--NC--United-States&lang=en-us&sb=1&src_elem=sb&src=index&dest_type=city&ac_langcode=en&search_selected=true&checkin=2024-03-25&checkout=2024-03-27&group_adults=2&no_rooms=1&group_children=0&nflt=ht_id%3D204',\n",
       " 'https://www.booking.com/searchresults.html?ss=Omaha--NE--United-States&lang=en-us&sb=1&src_elem=sb&src=index&dest_type=city&ac_langcode=en&search_selected=true&checkin=2024-03-25&checkout=2024-03-27&group_adults=2&no_rooms=1&group_children=0&nflt=ht_id%3D204',\n",
       " 'https://www.booking.com/searchresults.html?ss=Long-Beach--CA--United-States&lang=en-us&sb=1&src_elem=sb&src=index&dest_type=city&ac_langcode=en&search_selected=true&checkin=2024-03-25&checkout=2024-03-27&group_adults=2&no_rooms=1&group_children=0&nflt=ht_id%3D204',\n",
       " 'https://www.booking.com/searchresults.html?ss=Virginia-Beach--VA--United-States&lang=en-us&sb=1&src_elem=sb&src=index&dest_type=city&ac_langcode=en&search_selected=true&checkin=2024-03-25&checkout=2024-03-27&group_adults=2&no_rooms=1&group_children=0&nflt=ht_id%3D204',\n",
       " 'https://www.booking.com/searchresults.html?ss=Oakland--CA--United-States&lang=en-us&sb=1&src_elem=sb&src=index&dest_type=city&ac_langcode=en&search_selected=true&checkin=2024-03-25&checkout=2024-03-27&group_adults=2&no_rooms=1&group_children=0&nflt=ht_id%3D204',\n",
       " 'https://www.booking.com/searchresults.html?ss=Minneapolis--MN--United-States&lang=en-us&sb=1&src_elem=sb&src=index&dest_type=city&ac_langcode=en&search_selected=true&checkin=2024-03-25&checkout=2024-03-27&group_adults=2&no_rooms=1&group_children=0&nflt=ht_id%3D204',\n",
       " 'https://www.booking.com/searchresults.html?ss=Tulsa--OK--United-States&lang=en-us&sb=1&src_elem=sb&src=index&dest_type=city&ac_langcode=en&search_selected=true&checkin=2024-03-25&checkout=2024-03-27&group_adults=2&no_rooms=1&group_children=0&nflt=ht_id%3D204',\n",
       " 'https://www.booking.com/searchresults.html?ss=Arlington--TX--United-States&lang=en-us&sb=1&src_elem=sb&src=index&dest_type=city&ac_langcode=en&search_selected=true&checkin=2024-03-25&checkout=2024-03-27&group_adults=2&no_rooms=1&group_children=0&nflt=ht_id%3D204',\n",
       " 'https://www.booking.com/searchresults.html?ss=Tampa--FL--United-States&lang=en-us&sb=1&src_elem=sb&src=index&dest_type=city&ac_langcode=en&search_selected=true&checkin=2024-03-25&checkout=2024-03-27&group_adults=2&no_rooms=1&group_children=0&nflt=ht_id%3D204',\n",
       " 'https://www.booking.com/searchresults.html?ss=New-Orleans--LA--United-States&lang=en-us&sb=1&src_elem=sb&src=index&dest_type=city&ac_langcode=en&search_selected=true&checkin=2024-03-25&checkout=2024-03-27&group_adults=2&no_rooms=1&group_children=0&nflt=ht_id%3D204',\n",
       " 'https://www.booking.com/searchresults.html?ss=New-York--NY--United-States&lang=en-us&sb=1&src_elem=sb&src=index&dest_type=city&ac_langcode=en&search_selected=true&checkin=2024-03-25&checkout=2024-03-27&group_adults=3&no_rooms=2&group_children=0&nflt=ht_id%3D204',\n",
       " 'https://www.booking.com/searchresults.html?ss=Los-Angeles--CA--United-States&lang=en-us&sb=1&src_elem=sb&src=index&dest_type=city&ac_langcode=en&search_selected=true&checkin=2024-03-25&checkout=2024-03-27&group_adults=3&no_rooms=2&group_children=0&nflt=ht_id%3D204',\n",
       " 'https://www.booking.com/searchresults.html?ss=Chicago--IL--United-States&lang=en-us&sb=1&src_elem=sb&src=index&dest_type=city&ac_langcode=en&search_selected=true&checkin=2024-03-25&checkout=2024-03-27&group_adults=3&no_rooms=2&group_children=0&nflt=ht_id%3D204',\n",
       " 'https://www.booking.com/searchresults.html?ss=Houston--TX--United-States&lang=en-us&sb=1&src_elem=sb&src=index&dest_type=city&ac_langcode=en&search_selected=true&checkin=2024-03-25&checkout=2024-03-27&group_adults=3&no_rooms=2&group_children=0&nflt=ht_id%3D204',\n",
       " 'https://www.booking.com/searchresults.html?ss=Phoenix--AZ--United-States&lang=en-us&sb=1&src_elem=sb&src=index&dest_type=city&ac_langcode=en&search_selected=true&checkin=2024-03-25&checkout=2024-03-27&group_adults=3&no_rooms=2&group_children=0&nflt=ht_id%3D204',\n",
       " 'https://www.booking.com/searchresults.html?ss=Philadelphia--PA--United-States&lang=en-us&sb=1&src_elem=sb&src=index&dest_type=city&ac_langcode=en&search_selected=true&checkin=2024-03-25&checkout=2024-03-27&group_adults=3&no_rooms=2&group_children=0&nflt=ht_id%3D204',\n",
       " 'https://www.booking.com/searchresults.html?ss=San-Antonio--TX--United-States&lang=en-us&sb=1&src_elem=sb&src=index&dest_type=city&ac_langcode=en&search_selected=true&checkin=2024-03-25&checkout=2024-03-27&group_adults=3&no_rooms=2&group_children=0&nflt=ht_id%3D204',\n",
       " 'https://www.booking.com/searchresults.html?ss=San-Diego--CA--United-States&lang=en-us&sb=1&src_elem=sb&src=index&dest_type=city&ac_langcode=en&search_selected=true&checkin=2024-03-25&checkout=2024-03-27&group_adults=3&no_rooms=2&group_children=0&nflt=ht_id%3D204',\n",
       " 'https://www.booking.com/searchresults.html?ss=Dallas--TX--United-States&lang=en-us&sb=1&src_elem=sb&src=index&dest_type=city&ac_langcode=en&search_selected=true&checkin=2024-03-25&checkout=2024-03-27&group_adults=3&no_rooms=2&group_children=0&nflt=ht_id%3D204',\n",
       " 'https://www.booking.com/searchresults.html?ss=San-Jose--CA--United-States&lang=en-us&sb=1&src_elem=sb&src=index&dest_type=city&ac_langcode=en&search_selected=true&checkin=2024-03-25&checkout=2024-03-27&group_adults=3&no_rooms=2&group_children=0&nflt=ht_id%3D204',\n",
       " 'https://www.booking.com/searchresults.html?ss=Austin--TX--United-States&lang=en-us&sb=1&src_elem=sb&src=index&dest_type=city&ac_langcode=en&search_selected=true&checkin=2024-03-25&checkout=2024-03-27&group_adults=3&no_rooms=2&group_children=0&nflt=ht_id%3D204',\n",
       " 'https://www.booking.com/searchresults.html?ss=Jacksonville--FL--United-States&lang=en-us&sb=1&src_elem=sb&src=index&dest_type=city&ac_langcode=en&search_selected=true&checkin=2024-03-25&checkout=2024-03-27&group_adults=3&no_rooms=2&group_children=0&nflt=ht_id%3D204',\n",
       " 'https://www.booking.com/searchresults.html?ss=Fort-Worth--TX--United-States&lang=en-us&sb=1&src_elem=sb&src=index&dest_type=city&ac_langcode=en&search_selected=true&checkin=2024-03-25&checkout=2024-03-27&group_adults=3&no_rooms=2&group_children=0&nflt=ht_id%3D204',\n",
       " 'https://www.booking.com/searchresults.html?ss=Columbus--OH--United-States&lang=en-us&sb=1&src_elem=sb&src=index&dest_type=city&ac_langcode=en&search_selected=true&checkin=2024-03-25&checkout=2024-03-27&group_adults=3&no_rooms=2&group_children=0&nflt=ht_id%3D204',\n",
       " 'https://www.booking.com/searchresults.html?ss=Charlotte--NC--United-States&lang=en-us&sb=1&src_elem=sb&src=index&dest_type=city&ac_langcode=en&search_selected=true&checkin=2024-03-25&checkout=2024-03-27&group_adults=3&no_rooms=2&group_children=0&nflt=ht_id%3D204',\n",
       " 'https://www.booking.com/searchresults.html?ss=San-Francisco--CA--United-States&lang=en-us&sb=1&src_elem=sb&src=index&dest_type=city&ac_langcode=en&search_selected=true&checkin=2024-03-25&checkout=2024-03-27&group_adults=3&no_rooms=2&group_children=0&nflt=ht_id%3D204',\n",
       " 'https://www.booking.com/searchresults.html?ss=Indianapolis--IN--United-States&lang=en-us&sb=1&src_elem=sb&src=index&dest_type=city&ac_langcode=en&search_selected=true&checkin=2024-03-25&checkout=2024-03-27&group_adults=3&no_rooms=2&group_children=0&nflt=ht_id%3D204',\n",
       " 'https://www.booking.com/searchresults.html?ss=Seattle--WA--United-States&lang=en-us&sb=1&src_elem=sb&src=index&dest_type=city&ac_langcode=en&search_selected=true&checkin=2024-03-25&checkout=2024-03-27&group_adults=3&no_rooms=2&group_children=0&nflt=ht_id%3D204',\n",
       " 'https://www.booking.com/searchresults.html?ss=Denver--CO--United-States&lang=en-us&sb=1&src_elem=sb&src=index&dest_type=city&ac_langcode=en&search_selected=true&checkin=2024-03-25&checkout=2024-03-27&group_adults=3&no_rooms=2&group_children=0&nflt=ht_id%3D204',\n",
       " 'https://www.booking.com/searchresults.html?ss=Washington--DC--United-States&lang=en-us&sb=1&src_elem=sb&src=index&dest_type=city&ac_langcode=en&search_selected=true&checkin=2024-03-25&checkout=2024-03-27&group_adults=3&no_rooms=2&group_children=0&nflt=ht_id%3D204',\n",
       " 'https://www.booking.com/searchresults.html?ss=Boston--MA--United-States&lang=en-us&sb=1&src_elem=sb&src=index&dest_type=city&ac_langcode=en&search_selected=true&checkin=2024-03-25&checkout=2024-03-27&group_adults=3&no_rooms=2&group_children=0&nflt=ht_id%3D204',\n",
       " 'https://www.booking.com/searchresults.html?ss=El-Paso--TX--United-States&lang=en-us&sb=1&src_elem=sb&src=index&dest_type=city&ac_langcode=en&search_selected=true&checkin=2024-03-25&checkout=2024-03-27&group_adults=3&no_rooms=2&group_children=0&nflt=ht_id%3D204',\n",
       " 'https://www.booking.com/searchresults.html?ss=Nashville--TN--United-States&lang=en-us&sb=1&src_elem=sb&src=index&dest_type=city&ac_langcode=en&search_selected=true&checkin=2024-03-25&checkout=2024-03-27&group_adults=3&no_rooms=2&group_children=0&nflt=ht_id%3D204',\n",
       " 'https://www.booking.com/searchresults.html?ss=Detroit--MI--United-States&lang=en-us&sb=1&src_elem=sb&src=index&dest_type=city&ac_langcode=en&search_selected=true&checkin=2024-03-25&checkout=2024-03-27&group_adults=3&no_rooms=2&group_children=0&nflt=ht_id%3D204',\n",
       " 'https://www.booking.com/searchresults.html?ss=Oklahoma-City--OK--United-States&lang=en-us&sb=1&src_elem=sb&src=index&dest_type=city&ac_langcode=en&search_selected=true&checkin=2024-03-25&checkout=2024-03-27&group_adults=3&no_rooms=2&group_children=0&nflt=ht_id%3D204',\n",
       " 'https://www.booking.com/searchresults.html?ss=Portland--OR--United-States&lang=en-us&sb=1&src_elem=sb&src=index&dest_type=city&ac_langcode=en&search_selected=true&checkin=2024-03-25&checkout=2024-03-27&group_adults=3&no_rooms=2&group_children=0&nflt=ht_id%3D204',\n",
       " 'https://www.booking.com/searchresults.html?ss=Las-Vegas--NV--United-States&lang=en-us&sb=1&src_elem=sb&src=index&dest_type=city&ac_langcode=en&search_selected=true&checkin=2024-03-25&checkout=2024-03-27&group_adults=3&no_rooms=2&group_children=0&nflt=ht_id%3D204',\n",
       " 'https://www.booking.com/searchresults.html?ss=Memphis--TN--United-States&lang=en-us&sb=1&src_elem=sb&src=index&dest_type=city&ac_langcode=en&search_selected=true&checkin=2024-03-25&checkout=2024-03-27&group_adults=3&no_rooms=2&group_children=0&nflt=ht_id%3D204',\n",
       " 'https://www.booking.com/searchresults.html?ss=Louisville--KY--United-States&lang=en-us&sb=1&src_elem=sb&src=index&dest_type=city&ac_langcode=en&search_selected=true&checkin=2024-03-25&checkout=2024-03-27&group_adults=3&no_rooms=2&group_children=0&nflt=ht_id%3D204',\n",
       " 'https://www.booking.com/searchresults.html?ss=Baltimore--MD--United-States&lang=en-us&sb=1&src_elem=sb&src=index&dest_type=city&ac_langcode=en&search_selected=true&checkin=2024-03-25&checkout=2024-03-27&group_adults=3&no_rooms=2&group_children=0&nflt=ht_id%3D204',\n",
       " 'https://www.booking.com/searchresults.html?ss=Milwaukee--WI--United-States&lang=en-us&sb=1&src_elem=sb&src=index&dest_type=city&ac_langcode=en&search_selected=true&checkin=2024-03-25&checkout=2024-03-27&group_adults=3&no_rooms=2&group_children=0&nflt=ht_id%3D204',\n",
       " 'https://www.booking.com/searchresults.html?ss=Albuquerque--NM--United-States&lang=en-us&sb=1&src_elem=sb&src=index&dest_type=city&ac_langcode=en&search_selected=true&checkin=2024-03-25&checkout=2024-03-27&group_adults=3&no_rooms=2&group_children=0&nflt=ht_id%3D204',\n",
       " 'https://www.booking.com/searchresults.html?ss=Tucson--AZ--United-States&lang=en-us&sb=1&src_elem=sb&src=index&dest_type=city&ac_langcode=en&search_selected=true&checkin=2024-03-25&checkout=2024-03-27&group_adults=3&no_rooms=2&group_children=0&nflt=ht_id%3D204',\n",
       " 'https://www.booking.com/searchresults.html?ss=Fresno--CA--United-States&lang=en-us&sb=1&src_elem=sb&src=index&dest_type=city&ac_langcode=en&search_selected=true&checkin=2024-03-25&checkout=2024-03-27&group_adults=3&no_rooms=2&group_children=0&nflt=ht_id%3D204',\n",
       " 'https://www.booking.com/searchresults.html?ss=Mesa--AZ--United-States&lang=en-us&sb=1&src_elem=sb&src=index&dest_type=city&ac_langcode=en&search_selected=true&checkin=2024-03-25&checkout=2024-03-27&group_adults=3&no_rooms=2&group_children=0&nflt=ht_id%3D204',\n",
       " 'https://www.booking.com/searchresults.html?ss=Sacramento--CA--United-States&lang=en-us&sb=1&src_elem=sb&src=index&dest_type=city&ac_langcode=en&search_selected=true&checkin=2024-03-25&checkout=2024-03-27&group_adults=3&no_rooms=2&group_children=0&nflt=ht_id%3D204',\n",
       " 'https://www.booking.com/searchresults.html?ss=Atlanta--GA--United-States&lang=en-us&sb=1&src_elem=sb&src=index&dest_type=city&ac_langcode=en&search_selected=true&checkin=2024-03-25&checkout=2024-03-27&group_adults=3&no_rooms=2&group_children=0&nflt=ht_id%3D204',\n",
       " 'https://www.booking.com/searchresults.html?ss=Kansas-City--MO--United-States&lang=en-us&sb=1&src_elem=sb&src=index&dest_type=city&ac_langcode=en&search_selected=true&checkin=2024-03-25&checkout=2024-03-27&group_adults=3&no_rooms=2&group_children=0&nflt=ht_id%3D204',\n",
       " 'https://www.booking.com/searchresults.html?ss=Colorado-Springs--CO--United-States&lang=en-us&sb=1&src_elem=sb&src=index&dest_type=city&ac_langcode=en&search_selected=true&checkin=2024-03-25&checkout=2024-03-27&group_adults=3&no_rooms=2&group_children=0&nflt=ht_id%3D204',\n",
       " 'https://www.booking.com/searchresults.html?ss=Miami--FL--United-States&lang=en-us&sb=1&src_elem=sb&src=index&dest_type=city&ac_langcode=en&search_selected=true&checkin=2024-03-25&checkout=2024-03-27&group_adults=3&no_rooms=2&group_children=0&nflt=ht_id%3D204',\n",
       " 'https://www.booking.com/searchresults.html?ss=Raleigh--NC--United-States&lang=en-us&sb=1&src_elem=sb&src=index&dest_type=city&ac_langcode=en&search_selected=true&checkin=2024-03-25&checkout=2024-03-27&group_adults=3&no_rooms=2&group_children=0&nflt=ht_id%3D204',\n",
       " 'https://www.booking.com/searchresults.html?ss=Omaha--NE--United-States&lang=en-us&sb=1&src_elem=sb&src=index&dest_type=city&ac_langcode=en&search_selected=true&checkin=2024-03-25&checkout=2024-03-27&group_adults=3&no_rooms=2&group_children=0&nflt=ht_id%3D204',\n",
       " 'https://www.booking.com/searchresults.html?ss=Long-Beach--CA--United-States&lang=en-us&sb=1&src_elem=sb&src=index&dest_type=city&ac_langcode=en&search_selected=true&checkin=2024-03-25&checkout=2024-03-27&group_adults=3&no_rooms=2&group_children=0&nflt=ht_id%3D204',\n",
       " 'https://www.booking.com/searchresults.html?ss=Virginia-Beach--VA--United-States&lang=en-us&sb=1&src_elem=sb&src=index&dest_type=city&ac_langcode=en&search_selected=true&checkin=2024-03-25&checkout=2024-03-27&group_adults=3&no_rooms=2&group_children=0&nflt=ht_id%3D204',\n",
       " 'https://www.booking.com/searchresults.html?ss=Oakland--CA--United-States&lang=en-us&sb=1&src_elem=sb&src=index&dest_type=city&ac_langcode=en&search_selected=true&checkin=2024-03-25&checkout=2024-03-27&group_adults=3&no_rooms=2&group_children=0&nflt=ht_id%3D204',\n",
       " 'https://www.booking.com/searchresults.html?ss=Minneapolis--MN--United-States&lang=en-us&sb=1&src_elem=sb&src=index&dest_type=city&ac_langcode=en&search_selected=true&checkin=2024-03-25&checkout=2024-03-27&group_adults=3&no_rooms=2&group_children=0&nflt=ht_id%3D204',\n",
       " 'https://www.booking.com/searchresults.html?ss=Tulsa--OK--United-States&lang=en-us&sb=1&src_elem=sb&src=index&dest_type=city&ac_langcode=en&search_selected=true&checkin=2024-03-25&checkout=2024-03-27&group_adults=3&no_rooms=2&group_children=0&nflt=ht_id%3D204',\n",
       " 'https://www.booking.com/searchresults.html?ss=Arlington--TX--United-States&lang=en-us&sb=1&src_elem=sb&src=index&dest_type=city&ac_langcode=en&search_selected=true&checkin=2024-03-25&checkout=2024-03-27&group_adults=3&no_rooms=2&group_children=0&nflt=ht_id%3D204',\n",
       " 'https://www.booking.com/searchresults.html?ss=Tampa--FL--United-States&lang=en-us&sb=1&src_elem=sb&src=index&dest_type=city&ac_langcode=en&search_selected=true&checkin=2024-03-25&checkout=2024-03-27&group_adults=3&no_rooms=2&group_children=0&nflt=ht_id%3D204',\n",
       " 'https://www.booking.com/searchresults.html?ss=New-Orleans--LA--United-States&lang=en-us&sb=1&src_elem=sb&src=index&dest_type=city&ac_langcode=en&search_selected=true&checkin=2024-03-25&checkout=2024-03-27&group_adults=3&no_rooms=2&group_children=0&nflt=ht_id%3D204',\n",
       " 'https://www.booking.com/searchresults.html?ss=New-York--NY--United-States&lang=en-us&sb=1&src_elem=sb&src=index&dest_type=city&ac_langcode=en&search_selected=true&checkin=2024-03-25&checkout=2024-03-27&group_adults=4&no_rooms=2&group_children=0&nflt=ht_id%3D204',\n",
       " 'https://www.booking.com/searchresults.html?ss=Los-Angeles--CA--United-States&lang=en-us&sb=1&src_elem=sb&src=index&dest_type=city&ac_langcode=en&search_selected=true&checkin=2024-03-25&checkout=2024-03-27&group_adults=4&no_rooms=2&group_children=0&nflt=ht_id%3D204',\n",
       " 'https://www.booking.com/searchresults.html?ss=Chicago--IL--United-States&lang=en-us&sb=1&src_elem=sb&src=index&dest_type=city&ac_langcode=en&search_selected=true&checkin=2024-03-25&checkout=2024-03-27&group_adults=4&no_rooms=2&group_children=0&nflt=ht_id%3D204',\n",
       " 'https://www.booking.com/searchresults.html?ss=Houston--TX--United-States&lang=en-us&sb=1&src_elem=sb&src=index&dest_type=city&ac_langcode=en&search_selected=true&checkin=2024-03-25&checkout=2024-03-27&group_adults=4&no_rooms=2&group_children=0&nflt=ht_id%3D204',\n",
       " 'https://www.booking.com/searchresults.html?ss=Phoenix--AZ--United-States&lang=en-us&sb=1&src_elem=sb&src=index&dest_type=city&ac_langcode=en&search_selected=true&checkin=2024-03-25&checkout=2024-03-27&group_adults=4&no_rooms=2&group_children=0&nflt=ht_id%3D204',\n",
       " 'https://www.booking.com/searchresults.html?ss=Philadelphia--PA--United-States&lang=en-us&sb=1&src_elem=sb&src=index&dest_type=city&ac_langcode=en&search_selected=true&checkin=2024-03-25&checkout=2024-03-27&group_adults=4&no_rooms=2&group_children=0&nflt=ht_id%3D204',\n",
       " 'https://www.booking.com/searchresults.html?ss=San-Antonio--TX--United-States&lang=en-us&sb=1&src_elem=sb&src=index&dest_type=city&ac_langcode=en&search_selected=true&checkin=2024-03-25&checkout=2024-03-27&group_adults=4&no_rooms=2&group_children=0&nflt=ht_id%3D204',\n",
       " 'https://www.booking.com/searchresults.html?ss=San-Diego--CA--United-States&lang=en-us&sb=1&src_elem=sb&src=index&dest_type=city&ac_langcode=en&search_selected=true&checkin=2024-03-25&checkout=2024-03-27&group_adults=4&no_rooms=2&group_children=0&nflt=ht_id%3D204',\n",
       " 'https://www.booking.com/searchresults.html?ss=Dallas--TX--United-States&lang=en-us&sb=1&src_elem=sb&src=index&dest_type=city&ac_langcode=en&search_selected=true&checkin=2024-03-25&checkout=2024-03-27&group_adults=4&no_rooms=2&group_children=0&nflt=ht_id%3D204',\n",
       " 'https://www.booking.com/searchresults.html?ss=San-Jose--CA--United-States&lang=en-us&sb=1&src_elem=sb&src=index&dest_type=city&ac_langcode=en&search_selected=true&checkin=2024-03-25&checkout=2024-03-27&group_adults=4&no_rooms=2&group_children=0&nflt=ht_id%3D204',\n",
       " 'https://www.booking.com/searchresults.html?ss=Austin--TX--United-States&lang=en-us&sb=1&src_elem=sb&src=index&dest_type=city&ac_langcode=en&search_selected=true&checkin=2024-03-25&checkout=2024-03-27&group_adults=4&no_rooms=2&group_children=0&nflt=ht_id%3D204',\n",
       " 'https://www.booking.com/searchresults.html?ss=Jacksonville--FL--United-States&lang=en-us&sb=1&src_elem=sb&src=index&dest_type=city&ac_langcode=en&search_selected=true&checkin=2024-03-25&checkout=2024-03-27&group_adults=4&no_rooms=2&group_children=0&nflt=ht_id%3D204',\n",
       " 'https://www.booking.com/searchresults.html?ss=Fort-Worth--TX--United-States&lang=en-us&sb=1&src_elem=sb&src=index&dest_type=city&ac_langcode=en&search_selected=true&checkin=2024-03-25&checkout=2024-03-27&group_adults=4&no_rooms=2&group_children=0&nflt=ht_id%3D204',\n",
       " 'https://www.booking.com/searchresults.html?ss=Columbus--OH--United-States&lang=en-us&sb=1&src_elem=sb&src=index&dest_type=city&ac_langcode=en&search_selected=true&checkin=2024-03-25&checkout=2024-03-27&group_adults=4&no_rooms=2&group_children=0&nflt=ht_id%3D204',\n",
       " 'https://www.booking.com/searchresults.html?ss=Charlotte--NC--United-States&lang=en-us&sb=1&src_elem=sb&src=index&dest_type=city&ac_langcode=en&search_selected=true&checkin=2024-03-25&checkout=2024-03-27&group_adults=4&no_rooms=2&group_children=0&nflt=ht_id%3D204',\n",
       " 'https://www.booking.com/searchresults.html?ss=San-Francisco--CA--United-States&lang=en-us&sb=1&src_elem=sb&src=index&dest_type=city&ac_langcode=en&search_selected=true&checkin=2024-03-25&checkout=2024-03-27&group_adults=4&no_rooms=2&group_children=0&nflt=ht_id%3D204',\n",
       " 'https://www.booking.com/searchresults.html?ss=Indianapolis--IN--United-States&lang=en-us&sb=1&src_elem=sb&src=index&dest_type=city&ac_langcode=en&search_selected=true&checkin=2024-03-25&checkout=2024-03-27&group_adults=4&no_rooms=2&group_children=0&nflt=ht_id%3D204',\n",
       " 'https://www.booking.com/searchresults.html?ss=Seattle--WA--United-States&lang=en-us&sb=1&src_elem=sb&src=index&dest_type=city&ac_langcode=en&search_selected=true&checkin=2024-03-25&checkout=2024-03-27&group_adults=4&no_rooms=2&group_children=0&nflt=ht_id%3D204',\n",
       " 'https://www.booking.com/searchresults.html?ss=Denver--CO--United-States&lang=en-us&sb=1&src_elem=sb&src=index&dest_type=city&ac_langcode=en&search_selected=true&checkin=2024-03-25&checkout=2024-03-27&group_adults=4&no_rooms=2&group_children=0&nflt=ht_id%3D204',\n",
       " 'https://www.booking.com/searchresults.html?ss=Washington--DC--United-States&lang=en-us&sb=1&src_elem=sb&src=index&dest_type=city&ac_langcode=en&search_selected=true&checkin=2024-03-25&checkout=2024-03-27&group_adults=4&no_rooms=2&group_children=0&nflt=ht_id%3D204',\n",
       " 'https://www.booking.com/searchresults.html?ss=Boston--MA--United-States&lang=en-us&sb=1&src_elem=sb&src=index&dest_type=city&ac_langcode=en&search_selected=true&checkin=2024-03-25&checkout=2024-03-27&group_adults=4&no_rooms=2&group_children=0&nflt=ht_id%3D204',\n",
       " 'https://www.booking.com/searchresults.html?ss=El-Paso--TX--United-States&lang=en-us&sb=1&src_elem=sb&src=index&dest_type=city&ac_langcode=en&search_selected=true&checkin=2024-03-25&checkout=2024-03-27&group_adults=4&no_rooms=2&group_children=0&nflt=ht_id%3D204',\n",
       " 'https://www.booking.com/searchresults.html?ss=Nashville--TN--United-States&lang=en-us&sb=1&src_elem=sb&src=index&dest_type=city&ac_langcode=en&search_selected=true&checkin=2024-03-25&checkout=2024-03-27&group_adults=4&no_rooms=2&group_children=0&nflt=ht_id%3D204',\n",
       " 'https://www.booking.com/searchresults.html?ss=Detroit--MI--United-States&lang=en-us&sb=1&src_elem=sb&src=index&dest_type=city&ac_langcode=en&search_selected=true&checkin=2024-03-25&checkout=2024-03-27&group_adults=4&no_rooms=2&group_children=0&nflt=ht_id%3D204',\n",
       " 'https://www.booking.com/searchresults.html?ss=Oklahoma-City--OK--United-States&lang=en-us&sb=1&src_elem=sb&src=index&dest_type=city&ac_langcode=en&search_selected=true&checkin=2024-03-25&checkout=2024-03-27&group_adults=4&no_rooms=2&group_children=0&nflt=ht_id%3D204',\n",
       " 'https://www.booking.com/searchresults.html?ss=Portland--OR--United-States&lang=en-us&sb=1&src_elem=sb&src=index&dest_type=city&ac_langcode=en&search_selected=true&checkin=2024-03-25&checkout=2024-03-27&group_adults=4&no_rooms=2&group_children=0&nflt=ht_id%3D204',\n",
       " 'https://www.booking.com/searchresults.html?ss=Las-Vegas--NV--United-States&lang=en-us&sb=1&src_elem=sb&src=index&dest_type=city&ac_langcode=en&search_selected=true&checkin=2024-03-25&checkout=2024-03-27&group_adults=4&no_rooms=2&group_children=0&nflt=ht_id%3D204',\n",
       " 'https://www.booking.com/searchresults.html?ss=Memphis--TN--United-States&lang=en-us&sb=1&src_elem=sb&src=index&dest_type=city&ac_langcode=en&search_selected=true&checkin=2024-03-25&checkout=2024-03-27&group_adults=4&no_rooms=2&group_children=0&nflt=ht_id%3D204',\n",
       " 'https://www.booking.com/searchresults.html?ss=Louisville--KY--United-States&lang=en-us&sb=1&src_elem=sb&src=index&dest_type=city&ac_langcode=en&search_selected=true&checkin=2024-03-25&checkout=2024-03-27&group_adults=4&no_rooms=2&group_children=0&nflt=ht_id%3D204',\n",
       " 'https://www.booking.com/searchresults.html?ss=Baltimore--MD--United-States&lang=en-us&sb=1&src_elem=sb&src=index&dest_type=city&ac_langcode=en&search_selected=true&checkin=2024-03-25&checkout=2024-03-27&group_adults=4&no_rooms=2&group_children=0&nflt=ht_id%3D204',\n",
       " 'https://www.booking.com/searchresults.html?ss=Milwaukee--WI--United-States&lang=en-us&sb=1&src_elem=sb&src=index&dest_type=city&ac_langcode=en&search_selected=true&checkin=2024-03-25&checkout=2024-03-27&group_adults=4&no_rooms=2&group_children=0&nflt=ht_id%3D204',\n",
       " 'https://www.booking.com/searchresults.html?ss=Albuquerque--NM--United-States&lang=en-us&sb=1&src_elem=sb&src=index&dest_type=city&ac_langcode=en&search_selected=true&checkin=2024-03-25&checkout=2024-03-27&group_adults=4&no_rooms=2&group_children=0&nflt=ht_id%3D204',\n",
       " 'https://www.booking.com/searchresults.html?ss=Tucson--AZ--United-States&lang=en-us&sb=1&src_elem=sb&src=index&dest_type=city&ac_langcode=en&search_selected=true&checkin=2024-03-25&checkout=2024-03-27&group_adults=4&no_rooms=2&group_children=0&nflt=ht_id%3D204',\n",
       " 'https://www.booking.com/searchresults.html?ss=Fresno--CA--United-States&lang=en-us&sb=1&src_elem=sb&src=index&dest_type=city&ac_langcode=en&search_selected=true&checkin=2024-03-25&checkout=2024-03-27&group_adults=4&no_rooms=2&group_children=0&nflt=ht_id%3D204',\n",
       " 'https://www.booking.com/searchresults.html?ss=Mesa--AZ--United-States&lang=en-us&sb=1&src_elem=sb&src=index&dest_type=city&ac_langcode=en&search_selected=true&checkin=2024-03-25&checkout=2024-03-27&group_adults=4&no_rooms=2&group_children=0&nflt=ht_id%3D204',\n",
       " 'https://www.booking.com/searchresults.html?ss=Sacramento--CA--United-States&lang=en-us&sb=1&src_elem=sb&src=index&dest_type=city&ac_langcode=en&search_selected=true&checkin=2024-03-25&checkout=2024-03-27&group_adults=4&no_rooms=2&group_children=0&nflt=ht_id%3D204',\n",
       " 'https://www.booking.com/searchresults.html?ss=Atlanta--GA--United-States&lang=en-us&sb=1&src_elem=sb&src=index&dest_type=city&ac_langcode=en&search_selected=true&checkin=2024-03-25&checkout=2024-03-27&group_adults=4&no_rooms=2&group_children=0&nflt=ht_id%3D204',\n",
       " 'https://www.booking.com/searchresults.html?ss=Kansas-City--MO--United-States&lang=en-us&sb=1&src_elem=sb&src=index&dest_type=city&ac_langcode=en&search_selected=true&checkin=2024-03-25&checkout=2024-03-27&group_adults=4&no_rooms=2&group_children=0&nflt=ht_id%3D204',\n",
       " 'https://www.booking.com/searchresults.html?ss=Colorado-Springs--CO--United-States&lang=en-us&sb=1&src_elem=sb&src=index&dest_type=city&ac_langcode=en&search_selected=true&checkin=2024-03-25&checkout=2024-03-27&group_adults=4&no_rooms=2&group_children=0&nflt=ht_id%3D204',\n",
       " 'https://www.booking.com/searchresults.html?ss=Miami--FL--United-States&lang=en-us&sb=1&src_elem=sb&src=index&dest_type=city&ac_langcode=en&search_selected=true&checkin=2024-03-25&checkout=2024-03-27&group_adults=4&no_rooms=2&group_children=0&nflt=ht_id%3D204',\n",
       " 'https://www.booking.com/searchresults.html?ss=Raleigh--NC--United-States&lang=en-us&sb=1&src_elem=sb&src=index&dest_type=city&ac_langcode=en&search_selected=true&checkin=2024-03-25&checkout=2024-03-27&group_adults=4&no_rooms=2&group_children=0&nflt=ht_id%3D204',\n",
       " 'https://www.booking.com/searchresults.html?ss=Omaha--NE--United-States&lang=en-us&sb=1&src_elem=sb&src=index&dest_type=city&ac_langcode=en&search_selected=true&checkin=2024-03-25&checkout=2024-03-27&group_adults=4&no_rooms=2&group_children=0&nflt=ht_id%3D204',\n",
       " 'https://www.booking.com/searchresults.html?ss=Long-Beach--CA--United-States&lang=en-us&sb=1&src_elem=sb&src=index&dest_type=city&ac_langcode=en&search_selected=true&checkin=2024-03-25&checkout=2024-03-27&group_adults=4&no_rooms=2&group_children=0&nflt=ht_id%3D204',\n",
       " 'https://www.booking.com/searchresults.html?ss=Virginia-Beach--VA--United-States&lang=en-us&sb=1&src_elem=sb&src=index&dest_type=city&ac_langcode=en&search_selected=true&checkin=2024-03-25&checkout=2024-03-27&group_adults=4&no_rooms=2&group_children=0&nflt=ht_id%3D204',\n",
       " 'https://www.booking.com/searchresults.html?ss=Oakland--CA--United-States&lang=en-us&sb=1&src_elem=sb&src=index&dest_type=city&ac_langcode=en&search_selected=true&checkin=2024-03-25&checkout=2024-03-27&group_adults=4&no_rooms=2&group_children=0&nflt=ht_id%3D204',\n",
       " 'https://www.booking.com/searchresults.html?ss=Minneapolis--MN--United-States&lang=en-us&sb=1&src_elem=sb&src=index&dest_type=city&ac_langcode=en&search_selected=true&checkin=2024-03-25&checkout=2024-03-27&group_adults=4&no_rooms=2&group_children=0&nflt=ht_id%3D204',\n",
       " 'https://www.booking.com/searchresults.html?ss=Tulsa--OK--United-States&lang=en-us&sb=1&src_elem=sb&src=index&dest_type=city&ac_langcode=en&search_selected=true&checkin=2024-03-25&checkout=2024-03-27&group_adults=4&no_rooms=2&group_children=0&nflt=ht_id%3D204',\n",
       " 'https://www.booking.com/searchresults.html?ss=Arlington--TX--United-States&lang=en-us&sb=1&src_elem=sb&src=index&dest_type=city&ac_langcode=en&search_selected=true&checkin=2024-03-25&checkout=2024-03-27&group_adults=4&no_rooms=2&group_children=0&nflt=ht_id%3D204',\n",
       " 'https://www.booking.com/searchresults.html?ss=Tampa--FL--United-States&lang=en-us&sb=1&src_elem=sb&src=index&dest_type=city&ac_langcode=en&search_selected=true&checkin=2024-03-25&checkout=2024-03-27&group_adults=4&no_rooms=2&group_children=0&nflt=ht_id%3D204',\n",
       " 'https://www.booking.com/searchresults.html?ss=New-Orleans--LA--United-States&lang=en-us&sb=1&src_elem=sb&src=index&dest_type=city&ac_langcode=en&search_selected=true&checkin=2024-03-25&checkout=2024-03-27&group_adults=4&no_rooms=2&group_children=0&nflt=ht_id%3D204',\n",
       " 'https://www.booking.com/searchresults.html?ss=New-York--NY--United-States&lang=en-us&sb=1&src_elem=sb&src=index&dest_type=city&ac_langcode=en&search_selected=true&checkin=2024-03-25&checkout=2024-03-27&group_adults=5&no_rooms=3&group_children=0&nflt=ht_id%3D204',\n",
       " 'https://www.booking.com/searchresults.html?ss=Los-Angeles--CA--United-States&lang=en-us&sb=1&src_elem=sb&src=index&dest_type=city&ac_langcode=en&search_selected=true&checkin=2024-03-25&checkout=2024-03-27&group_adults=5&no_rooms=3&group_children=0&nflt=ht_id%3D204',\n",
       " 'https://www.booking.com/searchresults.html?ss=Chicago--IL--United-States&lang=en-us&sb=1&src_elem=sb&src=index&dest_type=city&ac_langcode=en&search_selected=true&checkin=2024-03-25&checkout=2024-03-27&group_adults=5&no_rooms=3&group_children=0&nflt=ht_id%3D204',\n",
       " 'https://www.booking.com/searchresults.html?ss=Houston--TX--United-States&lang=en-us&sb=1&src_elem=sb&src=index&dest_type=city&ac_langcode=en&search_selected=true&checkin=2024-03-25&checkout=2024-03-27&group_adults=5&no_rooms=3&group_children=0&nflt=ht_id%3D204',\n",
       " 'https://www.booking.com/searchresults.html?ss=Phoenix--AZ--United-States&lang=en-us&sb=1&src_elem=sb&src=index&dest_type=city&ac_langcode=en&search_selected=true&checkin=2024-03-25&checkout=2024-03-27&group_adults=5&no_rooms=3&group_children=0&nflt=ht_id%3D204',\n",
       " 'https://www.booking.com/searchresults.html?ss=Philadelphia--PA--United-States&lang=en-us&sb=1&src_elem=sb&src=index&dest_type=city&ac_langcode=en&search_selected=true&checkin=2024-03-25&checkout=2024-03-27&group_adults=5&no_rooms=3&group_children=0&nflt=ht_id%3D204',\n",
       " 'https://www.booking.com/searchresults.html?ss=San-Antonio--TX--United-States&lang=en-us&sb=1&src_elem=sb&src=index&dest_type=city&ac_langcode=en&search_selected=true&checkin=2024-03-25&checkout=2024-03-27&group_adults=5&no_rooms=3&group_children=0&nflt=ht_id%3D204',\n",
       " 'https://www.booking.com/searchresults.html?ss=San-Diego--CA--United-States&lang=en-us&sb=1&src_elem=sb&src=index&dest_type=city&ac_langcode=en&search_selected=true&checkin=2024-03-25&checkout=2024-03-27&group_adults=5&no_rooms=3&group_children=0&nflt=ht_id%3D204',\n",
       " 'https://www.booking.com/searchresults.html?ss=Dallas--TX--United-States&lang=en-us&sb=1&src_elem=sb&src=index&dest_type=city&ac_langcode=en&search_selected=true&checkin=2024-03-25&checkout=2024-03-27&group_adults=5&no_rooms=3&group_children=0&nflt=ht_id%3D204',\n",
       " 'https://www.booking.com/searchresults.html?ss=San-Jose--CA--United-States&lang=en-us&sb=1&src_elem=sb&src=index&dest_type=city&ac_langcode=en&search_selected=true&checkin=2024-03-25&checkout=2024-03-27&group_adults=5&no_rooms=3&group_children=0&nflt=ht_id%3D204',\n",
       " 'https://www.booking.com/searchresults.html?ss=Austin--TX--United-States&lang=en-us&sb=1&src_elem=sb&src=index&dest_type=city&ac_langcode=en&search_selected=true&checkin=2024-03-25&checkout=2024-03-27&group_adults=5&no_rooms=3&group_children=0&nflt=ht_id%3D204',\n",
       " 'https://www.booking.com/searchresults.html?ss=Jacksonville--FL--United-States&lang=en-us&sb=1&src_elem=sb&src=index&dest_type=city&ac_langcode=en&search_selected=true&checkin=2024-03-25&checkout=2024-03-27&group_adults=5&no_rooms=3&group_children=0&nflt=ht_id%3D204',\n",
       " 'https://www.booking.com/searchresults.html?ss=Fort-Worth--TX--United-States&lang=en-us&sb=1&src_elem=sb&src=index&dest_type=city&ac_langcode=en&search_selected=true&checkin=2024-03-25&checkout=2024-03-27&group_adults=5&no_rooms=3&group_children=0&nflt=ht_id%3D204',\n",
       " 'https://www.booking.com/searchresults.html?ss=Columbus--OH--United-States&lang=en-us&sb=1&src_elem=sb&src=index&dest_type=city&ac_langcode=en&search_selected=true&checkin=2024-03-25&checkout=2024-03-27&group_adults=5&no_rooms=3&group_children=0&nflt=ht_id%3D204',\n",
       " 'https://www.booking.com/searchresults.html?ss=Charlotte--NC--United-States&lang=en-us&sb=1&src_elem=sb&src=index&dest_type=city&ac_langcode=en&search_selected=true&checkin=2024-03-25&checkout=2024-03-27&group_adults=5&no_rooms=3&group_children=0&nflt=ht_id%3D204',\n",
       " 'https://www.booking.com/searchresults.html?ss=San-Francisco--CA--United-States&lang=en-us&sb=1&src_elem=sb&src=index&dest_type=city&ac_langcode=en&search_selected=true&checkin=2024-03-25&checkout=2024-03-27&group_adults=5&no_rooms=3&group_children=0&nflt=ht_id%3D204',\n",
       " 'https://www.booking.com/searchresults.html?ss=Indianapolis--IN--United-States&lang=en-us&sb=1&src_elem=sb&src=index&dest_type=city&ac_langcode=en&search_selected=true&checkin=2024-03-25&checkout=2024-03-27&group_adults=5&no_rooms=3&group_children=0&nflt=ht_id%3D204',\n",
       " 'https://www.booking.com/searchresults.html?ss=Seattle--WA--United-States&lang=en-us&sb=1&src_elem=sb&src=index&dest_type=city&ac_langcode=en&search_selected=true&checkin=2024-03-25&checkout=2024-03-27&group_adults=5&no_rooms=3&group_children=0&nflt=ht_id%3D204',\n",
       " 'https://www.booking.com/searchresults.html?ss=Denver--CO--United-States&lang=en-us&sb=1&src_elem=sb&src=index&dest_type=city&ac_langcode=en&search_selected=true&checkin=2024-03-25&checkout=2024-03-27&group_adults=5&no_rooms=3&group_children=0&nflt=ht_id%3D204',\n",
       " 'https://www.booking.com/searchresults.html?ss=Washington--DC--United-States&lang=en-us&sb=1&src_elem=sb&src=index&dest_type=city&ac_langcode=en&search_selected=true&checkin=2024-03-25&checkout=2024-03-27&group_adults=5&no_rooms=3&group_children=0&nflt=ht_id%3D204',\n",
       " 'https://www.booking.com/searchresults.html?ss=Boston--MA--United-States&lang=en-us&sb=1&src_elem=sb&src=index&dest_type=city&ac_langcode=en&search_selected=true&checkin=2024-03-25&checkout=2024-03-27&group_adults=5&no_rooms=3&group_children=0&nflt=ht_id%3D204',\n",
       " 'https://www.booking.com/searchresults.html?ss=El-Paso--TX--United-States&lang=en-us&sb=1&src_elem=sb&src=index&dest_type=city&ac_langcode=en&search_selected=true&checkin=2024-03-25&checkout=2024-03-27&group_adults=5&no_rooms=3&group_children=0&nflt=ht_id%3D204',\n",
       " 'https://www.booking.com/searchresults.html?ss=Nashville--TN--United-States&lang=en-us&sb=1&src_elem=sb&src=index&dest_type=city&ac_langcode=en&search_selected=true&checkin=2024-03-25&checkout=2024-03-27&group_adults=5&no_rooms=3&group_children=0&nflt=ht_id%3D204',\n",
       " 'https://www.booking.com/searchresults.html?ss=Detroit--MI--United-States&lang=en-us&sb=1&src_elem=sb&src=index&dest_type=city&ac_langcode=en&search_selected=true&checkin=2024-03-25&checkout=2024-03-27&group_adults=5&no_rooms=3&group_children=0&nflt=ht_id%3D204',\n",
       " 'https://www.booking.com/searchresults.html?ss=Oklahoma-City--OK--United-States&lang=en-us&sb=1&src_elem=sb&src=index&dest_type=city&ac_langcode=en&search_selected=true&checkin=2024-03-25&checkout=2024-03-27&group_adults=5&no_rooms=3&group_children=0&nflt=ht_id%3D204',\n",
       " 'https://www.booking.com/searchresults.html?ss=Portland--OR--United-States&lang=en-us&sb=1&src_elem=sb&src=index&dest_type=city&ac_langcode=en&search_selected=true&checkin=2024-03-25&checkout=2024-03-27&group_adults=5&no_rooms=3&group_children=0&nflt=ht_id%3D204',\n",
       " 'https://www.booking.com/searchresults.html?ss=Las-Vegas--NV--United-States&lang=en-us&sb=1&src_elem=sb&src=index&dest_type=city&ac_langcode=en&search_selected=true&checkin=2024-03-25&checkout=2024-03-27&group_adults=5&no_rooms=3&group_children=0&nflt=ht_id%3D204',\n",
       " 'https://www.booking.com/searchresults.html?ss=Memphis--TN--United-States&lang=en-us&sb=1&src_elem=sb&src=index&dest_type=city&ac_langcode=en&search_selected=true&checkin=2024-03-25&checkout=2024-03-27&group_adults=5&no_rooms=3&group_children=0&nflt=ht_id%3D204',\n",
       " 'https://www.booking.com/searchresults.html?ss=Louisville--KY--United-States&lang=en-us&sb=1&src_elem=sb&src=index&dest_type=city&ac_langcode=en&search_selected=true&checkin=2024-03-25&checkout=2024-03-27&group_adults=5&no_rooms=3&group_children=0&nflt=ht_id%3D204',\n",
       " 'https://www.booking.com/searchresults.html?ss=Baltimore--MD--United-States&lang=en-us&sb=1&src_elem=sb&src=index&dest_type=city&ac_langcode=en&search_selected=true&checkin=2024-03-25&checkout=2024-03-27&group_adults=5&no_rooms=3&group_children=0&nflt=ht_id%3D204',\n",
       " 'https://www.booking.com/searchresults.html?ss=Milwaukee--WI--United-States&lang=en-us&sb=1&src_elem=sb&src=index&dest_type=city&ac_langcode=en&search_selected=true&checkin=2024-03-25&checkout=2024-03-27&group_adults=5&no_rooms=3&group_children=0&nflt=ht_id%3D204',\n",
       " 'https://www.booking.com/searchresults.html?ss=Albuquerque--NM--United-States&lang=en-us&sb=1&src_elem=sb&src=index&dest_type=city&ac_langcode=en&search_selected=true&checkin=2024-03-25&checkout=2024-03-27&group_adults=5&no_rooms=3&group_children=0&nflt=ht_id%3D204',\n",
       " 'https://www.booking.com/searchresults.html?ss=Tucson--AZ--United-States&lang=en-us&sb=1&src_elem=sb&src=index&dest_type=city&ac_langcode=en&search_selected=true&checkin=2024-03-25&checkout=2024-03-27&group_adults=5&no_rooms=3&group_children=0&nflt=ht_id%3D204',\n",
       " 'https://www.booking.com/searchresults.html?ss=Fresno--CA--United-States&lang=en-us&sb=1&src_elem=sb&src=index&dest_type=city&ac_langcode=en&search_selected=true&checkin=2024-03-25&checkout=2024-03-27&group_adults=5&no_rooms=3&group_children=0&nflt=ht_id%3D204',\n",
       " 'https://www.booking.com/searchresults.html?ss=Mesa--AZ--United-States&lang=en-us&sb=1&src_elem=sb&src=index&dest_type=city&ac_langcode=en&search_selected=true&checkin=2024-03-25&checkout=2024-03-27&group_adults=5&no_rooms=3&group_children=0&nflt=ht_id%3D204',\n",
       " 'https://www.booking.com/searchresults.html?ss=Sacramento--CA--United-States&lang=en-us&sb=1&src_elem=sb&src=index&dest_type=city&ac_langcode=en&search_selected=true&checkin=2024-03-25&checkout=2024-03-27&group_adults=5&no_rooms=3&group_children=0&nflt=ht_id%3D204',\n",
       " 'https://www.booking.com/searchresults.html?ss=Atlanta--GA--United-States&lang=en-us&sb=1&src_elem=sb&src=index&dest_type=city&ac_langcode=en&search_selected=true&checkin=2024-03-25&checkout=2024-03-27&group_adults=5&no_rooms=3&group_children=0&nflt=ht_id%3D204',\n",
       " 'https://www.booking.com/searchresults.html?ss=Kansas-City--MO--United-States&lang=en-us&sb=1&src_elem=sb&src=index&dest_type=city&ac_langcode=en&search_selected=true&checkin=2024-03-25&checkout=2024-03-27&group_adults=5&no_rooms=3&group_children=0&nflt=ht_id%3D204',\n",
       " 'https://www.booking.com/searchresults.html?ss=Colorado-Springs--CO--United-States&lang=en-us&sb=1&src_elem=sb&src=index&dest_type=city&ac_langcode=en&search_selected=true&checkin=2024-03-25&checkout=2024-03-27&group_adults=5&no_rooms=3&group_children=0&nflt=ht_id%3D204',\n",
       " 'https://www.booking.com/searchresults.html?ss=Miami--FL--United-States&lang=en-us&sb=1&src_elem=sb&src=index&dest_type=city&ac_langcode=en&search_selected=true&checkin=2024-03-25&checkout=2024-03-27&group_adults=5&no_rooms=3&group_children=0&nflt=ht_id%3D204',\n",
       " 'https://www.booking.com/searchresults.html?ss=Raleigh--NC--United-States&lang=en-us&sb=1&src_elem=sb&src=index&dest_type=city&ac_langcode=en&search_selected=true&checkin=2024-03-25&checkout=2024-03-27&group_adults=5&no_rooms=3&group_children=0&nflt=ht_id%3D204',\n",
       " 'https://www.booking.com/searchresults.html?ss=Omaha--NE--United-States&lang=en-us&sb=1&src_elem=sb&src=index&dest_type=city&ac_langcode=en&search_selected=true&checkin=2024-03-25&checkout=2024-03-27&group_adults=5&no_rooms=3&group_children=0&nflt=ht_id%3D204',\n",
       " 'https://www.booking.com/searchresults.html?ss=Long-Beach--CA--United-States&lang=en-us&sb=1&src_elem=sb&src=index&dest_type=city&ac_langcode=en&search_selected=true&checkin=2024-03-25&checkout=2024-03-27&group_adults=5&no_rooms=3&group_children=0&nflt=ht_id%3D204',\n",
       " 'https://www.booking.com/searchresults.html?ss=Virginia-Beach--VA--United-States&lang=en-us&sb=1&src_elem=sb&src=index&dest_type=city&ac_langcode=en&search_selected=true&checkin=2024-03-25&checkout=2024-03-27&group_adults=5&no_rooms=3&group_children=0&nflt=ht_id%3D204',\n",
       " 'https://www.booking.com/searchresults.html?ss=Oakland--CA--United-States&lang=en-us&sb=1&src_elem=sb&src=index&dest_type=city&ac_langcode=en&search_selected=true&checkin=2024-03-25&checkout=2024-03-27&group_adults=5&no_rooms=3&group_children=0&nflt=ht_id%3D204',\n",
       " 'https://www.booking.com/searchresults.html?ss=Minneapolis--MN--United-States&lang=en-us&sb=1&src_elem=sb&src=index&dest_type=city&ac_langcode=en&search_selected=true&checkin=2024-03-25&checkout=2024-03-27&group_adults=5&no_rooms=3&group_children=0&nflt=ht_id%3D204',\n",
       " 'https://www.booking.com/searchresults.html?ss=Tulsa--OK--United-States&lang=en-us&sb=1&src_elem=sb&src=index&dest_type=city&ac_langcode=en&search_selected=true&checkin=2024-03-25&checkout=2024-03-27&group_adults=5&no_rooms=3&group_children=0&nflt=ht_id%3D204',\n",
       " 'https://www.booking.com/searchresults.html?ss=Arlington--TX--United-States&lang=en-us&sb=1&src_elem=sb&src=index&dest_type=city&ac_langcode=en&search_selected=true&checkin=2024-03-25&checkout=2024-03-27&group_adults=5&no_rooms=3&group_children=0&nflt=ht_id%3D204',\n",
       " 'https://www.booking.com/searchresults.html?ss=Tampa--FL--United-States&lang=en-us&sb=1&src_elem=sb&src=index&dest_type=city&ac_langcode=en&search_selected=true&checkin=2024-03-25&checkout=2024-03-27&group_adults=5&no_rooms=3&group_children=0&nflt=ht_id%3D204',\n",
       " 'https://www.booking.com/searchresults.html?ss=New-Orleans--LA--United-States&lang=en-us&sb=1&src_elem=sb&src=index&dest_type=city&ac_langcode=en&search_selected=true&checkin=2024-03-25&checkout=2024-03-27&group_adults=5&no_rooms=3&group_children=0&nflt=ht_id%3D204',\n",
       " 'https://www.booking.com/searchresults.html?ss=New-York--NY--United-States&lang=en-us&sb=1&src_elem=sb&src=index&dest_type=city&ac_langcode=en&search_selected=true&checkin=2024-03-25&checkout=2024-03-27&group_adults=6&no_rooms=3&group_children=0&nflt=ht_id%3D204',\n",
       " 'https://www.booking.com/searchresults.html?ss=Los-Angeles--CA--United-States&lang=en-us&sb=1&src_elem=sb&src=index&dest_type=city&ac_langcode=en&search_selected=true&checkin=2024-03-25&checkout=2024-03-27&group_adults=6&no_rooms=3&group_children=0&nflt=ht_id%3D204',\n",
       " 'https://www.booking.com/searchresults.html?ss=Chicago--IL--United-States&lang=en-us&sb=1&src_elem=sb&src=index&dest_type=city&ac_langcode=en&search_selected=true&checkin=2024-03-25&checkout=2024-03-27&group_adults=6&no_rooms=3&group_children=0&nflt=ht_id%3D204',\n",
       " 'https://www.booking.com/searchresults.html?ss=Houston--TX--United-States&lang=en-us&sb=1&src_elem=sb&src=index&dest_type=city&ac_langcode=en&search_selected=true&checkin=2024-03-25&checkout=2024-03-27&group_adults=6&no_rooms=3&group_children=0&nflt=ht_id%3D204',\n",
       " 'https://www.booking.com/searchresults.html?ss=Phoenix--AZ--United-States&lang=en-us&sb=1&src_elem=sb&src=index&dest_type=city&ac_langcode=en&search_selected=true&checkin=2024-03-25&checkout=2024-03-27&group_adults=6&no_rooms=3&group_children=0&nflt=ht_id%3D204',\n",
       " 'https://www.booking.com/searchresults.html?ss=Philadelphia--PA--United-States&lang=en-us&sb=1&src_elem=sb&src=index&dest_type=city&ac_langcode=en&search_selected=true&checkin=2024-03-25&checkout=2024-03-27&group_adults=6&no_rooms=3&group_children=0&nflt=ht_id%3D204',\n",
       " 'https://www.booking.com/searchresults.html?ss=San-Antonio--TX--United-States&lang=en-us&sb=1&src_elem=sb&src=index&dest_type=city&ac_langcode=en&search_selected=true&checkin=2024-03-25&checkout=2024-03-27&group_adults=6&no_rooms=3&group_children=0&nflt=ht_id%3D204',\n",
       " 'https://www.booking.com/searchresults.html?ss=San-Diego--CA--United-States&lang=en-us&sb=1&src_elem=sb&src=index&dest_type=city&ac_langcode=en&search_selected=true&checkin=2024-03-25&checkout=2024-03-27&group_adults=6&no_rooms=3&group_children=0&nflt=ht_id%3D204',\n",
       " 'https://www.booking.com/searchresults.html?ss=Dallas--TX--United-States&lang=en-us&sb=1&src_elem=sb&src=index&dest_type=city&ac_langcode=en&search_selected=true&checkin=2024-03-25&checkout=2024-03-27&group_adults=6&no_rooms=3&group_children=0&nflt=ht_id%3D204',\n",
       " 'https://www.booking.com/searchresults.html?ss=San-Jose--CA--United-States&lang=en-us&sb=1&src_elem=sb&src=index&dest_type=city&ac_langcode=en&search_selected=true&checkin=2024-03-25&checkout=2024-03-27&group_adults=6&no_rooms=3&group_children=0&nflt=ht_id%3D204',\n",
       " 'https://www.booking.com/searchresults.html?ss=Austin--TX--United-States&lang=en-us&sb=1&src_elem=sb&src=index&dest_type=city&ac_langcode=en&search_selected=true&checkin=2024-03-25&checkout=2024-03-27&group_adults=6&no_rooms=3&group_children=0&nflt=ht_id%3D204',\n",
       " 'https://www.booking.com/searchresults.html?ss=Jacksonville--FL--United-States&lang=en-us&sb=1&src_elem=sb&src=index&dest_type=city&ac_langcode=en&search_selected=true&checkin=2024-03-25&checkout=2024-03-27&group_adults=6&no_rooms=3&group_children=0&nflt=ht_id%3D204',\n",
       " 'https://www.booking.com/searchresults.html?ss=Fort-Worth--TX--United-States&lang=en-us&sb=1&src_elem=sb&src=index&dest_type=city&ac_langcode=en&search_selected=true&checkin=2024-03-25&checkout=2024-03-27&group_adults=6&no_rooms=3&group_children=0&nflt=ht_id%3D204',\n",
       " 'https://www.booking.com/searchresults.html?ss=Columbus--OH--United-States&lang=en-us&sb=1&src_elem=sb&src=index&dest_type=city&ac_langcode=en&search_selected=true&checkin=2024-03-25&checkout=2024-03-27&group_adults=6&no_rooms=3&group_children=0&nflt=ht_id%3D204',\n",
       " 'https://www.booking.com/searchresults.html?ss=Charlotte--NC--United-States&lang=en-us&sb=1&src_elem=sb&src=index&dest_type=city&ac_langcode=en&search_selected=true&checkin=2024-03-25&checkout=2024-03-27&group_adults=6&no_rooms=3&group_children=0&nflt=ht_id%3D204',\n",
       " 'https://www.booking.com/searchresults.html?ss=San-Francisco--CA--United-States&lang=en-us&sb=1&src_elem=sb&src=index&dest_type=city&ac_langcode=en&search_selected=true&checkin=2024-03-25&checkout=2024-03-27&group_adults=6&no_rooms=3&group_children=0&nflt=ht_id%3D204',\n",
       " 'https://www.booking.com/searchresults.html?ss=Indianapolis--IN--United-States&lang=en-us&sb=1&src_elem=sb&src=index&dest_type=city&ac_langcode=en&search_selected=true&checkin=2024-03-25&checkout=2024-03-27&group_adults=6&no_rooms=3&group_children=0&nflt=ht_id%3D204',\n",
       " 'https://www.booking.com/searchresults.html?ss=Seattle--WA--United-States&lang=en-us&sb=1&src_elem=sb&src=index&dest_type=city&ac_langcode=en&search_selected=true&checkin=2024-03-25&checkout=2024-03-27&group_adults=6&no_rooms=3&group_children=0&nflt=ht_id%3D204',\n",
       " 'https://www.booking.com/searchresults.html?ss=Denver--CO--United-States&lang=en-us&sb=1&src_elem=sb&src=index&dest_type=city&ac_langcode=en&search_selected=true&checkin=2024-03-25&checkout=2024-03-27&group_adults=6&no_rooms=3&group_children=0&nflt=ht_id%3D204',\n",
       " 'https://www.booking.com/searchresults.html?ss=Washington--DC--United-States&lang=en-us&sb=1&src_elem=sb&src=index&dest_type=city&ac_langcode=en&search_selected=true&checkin=2024-03-25&checkout=2024-03-27&group_adults=6&no_rooms=3&group_children=0&nflt=ht_id%3D204',\n",
       " 'https://www.booking.com/searchresults.html?ss=Boston--MA--United-States&lang=en-us&sb=1&src_elem=sb&src=index&dest_type=city&ac_langcode=en&search_selected=true&checkin=2024-03-25&checkout=2024-03-27&group_adults=6&no_rooms=3&group_children=0&nflt=ht_id%3D204',\n",
       " 'https://www.booking.com/searchresults.html?ss=El-Paso--TX--United-States&lang=en-us&sb=1&src_elem=sb&src=index&dest_type=city&ac_langcode=en&search_selected=true&checkin=2024-03-25&checkout=2024-03-27&group_adults=6&no_rooms=3&group_children=0&nflt=ht_id%3D204',\n",
       " 'https://www.booking.com/searchresults.html?ss=Nashville--TN--United-States&lang=en-us&sb=1&src_elem=sb&src=index&dest_type=city&ac_langcode=en&search_selected=true&checkin=2024-03-25&checkout=2024-03-27&group_adults=6&no_rooms=3&group_children=0&nflt=ht_id%3D204',\n",
       " 'https://www.booking.com/searchresults.html?ss=Detroit--MI--United-States&lang=en-us&sb=1&src_elem=sb&src=index&dest_type=city&ac_langcode=en&search_selected=true&checkin=2024-03-25&checkout=2024-03-27&group_adults=6&no_rooms=3&group_children=0&nflt=ht_id%3D204',\n",
       " 'https://www.booking.com/searchresults.html?ss=Oklahoma-City--OK--United-States&lang=en-us&sb=1&src_elem=sb&src=index&dest_type=city&ac_langcode=en&search_selected=true&checkin=2024-03-25&checkout=2024-03-27&group_adults=6&no_rooms=3&group_children=0&nflt=ht_id%3D204',\n",
       " 'https://www.booking.com/searchresults.html?ss=Portland--OR--United-States&lang=en-us&sb=1&src_elem=sb&src=index&dest_type=city&ac_langcode=en&search_selected=true&checkin=2024-03-25&checkout=2024-03-27&group_adults=6&no_rooms=3&group_children=0&nflt=ht_id%3D204',\n",
       " 'https://www.booking.com/searchresults.html?ss=Las-Vegas--NV--United-States&lang=en-us&sb=1&src_elem=sb&src=index&dest_type=city&ac_langcode=en&search_selected=true&checkin=2024-03-25&checkout=2024-03-27&group_adults=6&no_rooms=3&group_children=0&nflt=ht_id%3D204',\n",
       " 'https://www.booking.com/searchresults.html?ss=Memphis--TN--United-States&lang=en-us&sb=1&src_elem=sb&src=index&dest_type=city&ac_langcode=en&search_selected=true&checkin=2024-03-25&checkout=2024-03-27&group_adults=6&no_rooms=3&group_children=0&nflt=ht_id%3D204',\n",
       " 'https://www.booking.com/searchresults.html?ss=Louisville--KY--United-States&lang=en-us&sb=1&src_elem=sb&src=index&dest_type=city&ac_langcode=en&search_selected=true&checkin=2024-03-25&checkout=2024-03-27&group_adults=6&no_rooms=3&group_children=0&nflt=ht_id%3D204',\n",
       " 'https://www.booking.com/searchresults.html?ss=Baltimore--MD--United-States&lang=en-us&sb=1&src_elem=sb&src=index&dest_type=city&ac_langcode=en&search_selected=true&checkin=2024-03-25&checkout=2024-03-27&group_adults=6&no_rooms=3&group_children=0&nflt=ht_id%3D204',\n",
       " 'https://www.booking.com/searchresults.html?ss=Milwaukee--WI--United-States&lang=en-us&sb=1&src_elem=sb&src=index&dest_type=city&ac_langcode=en&search_selected=true&checkin=2024-03-25&checkout=2024-03-27&group_adults=6&no_rooms=3&group_children=0&nflt=ht_id%3D204',\n",
       " 'https://www.booking.com/searchresults.html?ss=Albuquerque--NM--United-States&lang=en-us&sb=1&src_elem=sb&src=index&dest_type=city&ac_langcode=en&search_selected=true&checkin=2024-03-25&checkout=2024-03-27&group_adults=6&no_rooms=3&group_children=0&nflt=ht_id%3D204',\n",
       " 'https://www.booking.com/searchresults.html?ss=Tucson--AZ--United-States&lang=en-us&sb=1&src_elem=sb&src=index&dest_type=city&ac_langcode=en&search_selected=true&checkin=2024-03-25&checkout=2024-03-27&group_adults=6&no_rooms=3&group_children=0&nflt=ht_id%3D204',\n",
       " 'https://www.booking.com/searchresults.html?ss=Fresno--CA--United-States&lang=en-us&sb=1&src_elem=sb&src=index&dest_type=city&ac_langcode=en&search_selected=true&checkin=2024-03-25&checkout=2024-03-27&group_adults=6&no_rooms=3&group_children=0&nflt=ht_id%3D204',\n",
       " 'https://www.booking.com/searchresults.html?ss=Mesa--AZ--United-States&lang=en-us&sb=1&src_elem=sb&src=index&dest_type=city&ac_langcode=en&search_selected=true&checkin=2024-03-25&checkout=2024-03-27&group_adults=6&no_rooms=3&group_children=0&nflt=ht_id%3D204',\n",
       " 'https://www.booking.com/searchresults.html?ss=Sacramento--CA--United-States&lang=en-us&sb=1&src_elem=sb&src=index&dest_type=city&ac_langcode=en&search_selected=true&checkin=2024-03-25&checkout=2024-03-27&group_adults=6&no_rooms=3&group_children=0&nflt=ht_id%3D204',\n",
       " 'https://www.booking.com/searchresults.html?ss=Atlanta--GA--United-States&lang=en-us&sb=1&src_elem=sb&src=index&dest_type=city&ac_langcode=en&search_selected=true&checkin=2024-03-25&checkout=2024-03-27&group_adults=6&no_rooms=3&group_children=0&nflt=ht_id%3D204',\n",
       " 'https://www.booking.com/searchresults.html?ss=Kansas-City--MO--United-States&lang=en-us&sb=1&src_elem=sb&src=index&dest_type=city&ac_langcode=en&search_selected=true&checkin=2024-03-25&checkout=2024-03-27&group_adults=6&no_rooms=3&group_children=0&nflt=ht_id%3D204',\n",
       " 'https://www.booking.com/searchresults.html?ss=Colorado-Springs--CO--United-States&lang=en-us&sb=1&src_elem=sb&src=index&dest_type=city&ac_langcode=en&search_selected=true&checkin=2024-03-25&checkout=2024-03-27&group_adults=6&no_rooms=3&group_children=0&nflt=ht_id%3D204',\n",
       " 'https://www.booking.com/searchresults.html?ss=Miami--FL--United-States&lang=en-us&sb=1&src_elem=sb&src=index&dest_type=city&ac_langcode=en&search_selected=true&checkin=2024-03-25&checkout=2024-03-27&group_adults=6&no_rooms=3&group_children=0&nflt=ht_id%3D204',\n",
       " 'https://www.booking.com/searchresults.html?ss=Raleigh--NC--United-States&lang=en-us&sb=1&src_elem=sb&src=index&dest_type=city&ac_langcode=en&search_selected=true&checkin=2024-03-25&checkout=2024-03-27&group_adults=6&no_rooms=3&group_children=0&nflt=ht_id%3D204',\n",
       " 'https://www.booking.com/searchresults.html?ss=Omaha--NE--United-States&lang=en-us&sb=1&src_elem=sb&src=index&dest_type=city&ac_langcode=en&search_selected=true&checkin=2024-03-25&checkout=2024-03-27&group_adults=6&no_rooms=3&group_children=0&nflt=ht_id%3D204',\n",
       " 'https://www.booking.com/searchresults.html?ss=Long-Beach--CA--United-States&lang=en-us&sb=1&src_elem=sb&src=index&dest_type=city&ac_langcode=en&search_selected=true&checkin=2024-03-25&checkout=2024-03-27&group_adults=6&no_rooms=3&group_children=0&nflt=ht_id%3D204',\n",
       " 'https://www.booking.com/searchresults.html?ss=Virginia-Beach--VA--United-States&lang=en-us&sb=1&src_elem=sb&src=index&dest_type=city&ac_langcode=en&search_selected=true&checkin=2024-03-25&checkout=2024-03-27&group_adults=6&no_rooms=3&group_children=0&nflt=ht_id%3D204',\n",
       " 'https://www.booking.com/searchresults.html?ss=Oakland--CA--United-States&lang=en-us&sb=1&src_elem=sb&src=index&dest_type=city&ac_langcode=en&search_selected=true&checkin=2024-03-25&checkout=2024-03-27&group_adults=6&no_rooms=3&group_children=0&nflt=ht_id%3D204',\n",
       " 'https://www.booking.com/searchresults.html?ss=Minneapolis--MN--United-States&lang=en-us&sb=1&src_elem=sb&src=index&dest_type=city&ac_langcode=en&search_selected=true&checkin=2024-03-25&checkout=2024-03-27&group_adults=6&no_rooms=3&group_children=0&nflt=ht_id%3D204',\n",
       " 'https://www.booking.com/searchresults.html?ss=Tulsa--OK--United-States&lang=en-us&sb=1&src_elem=sb&src=index&dest_type=city&ac_langcode=en&search_selected=true&checkin=2024-03-25&checkout=2024-03-27&group_adults=6&no_rooms=3&group_children=0&nflt=ht_id%3D204',\n",
       " 'https://www.booking.com/searchresults.html?ss=Arlington--TX--United-States&lang=en-us&sb=1&src_elem=sb&src=index&dest_type=city&ac_langcode=en&search_selected=true&checkin=2024-03-25&checkout=2024-03-27&group_adults=6&no_rooms=3&group_children=0&nflt=ht_id%3D204',\n",
       " 'https://www.booking.com/searchresults.html?ss=Tampa--FL--United-States&lang=en-us&sb=1&src_elem=sb&src=index&dest_type=city&ac_langcode=en&search_selected=true&checkin=2024-03-25&checkout=2024-03-27&group_adults=6&no_rooms=3&group_children=0&nflt=ht_id%3D204',\n",
       " 'https://www.booking.com/searchresults.html?ss=New-Orleans--LA--United-States&lang=en-us&sb=1&src_elem=sb&src=index&dest_type=city&ac_langcode=en&search_selected=true&checkin=2024-03-25&checkout=2024-03-27&group_adults=6&no_rooms=3&group_children=0&nflt=ht_id%3D204']"
      ]
     },
     "execution_count": 13,
     "metadata": {},
     "output_type": "execute_result"
    }
   ],
   "source": [
    "listings"
   ]
  },
  {
   "cell_type": "code",
   "execution_count": null,
   "id": "720cd360-1cac-476d-9006-8f2813880851",
   "metadata": {},
   "outputs": [],
   "source": []
  }
 ],
 "metadata": {
  "kernelspec": {
   "display_name": "Python 3 (ipykernel)",
   "language": "python",
   "name": "python3"
  },
  "language_info": {
   "codemirror_mode": {
    "name": "ipython",
    "version": 3
   },
   "file_extension": ".py",
   "mimetype": "text/x-python",
   "name": "python",
   "nbconvert_exporter": "python",
   "pygments_lexer": "ipython3",
   "version": "3.11.7"
  }
 },
 "nbformat": 4,
 "nbformat_minor": 5
}
