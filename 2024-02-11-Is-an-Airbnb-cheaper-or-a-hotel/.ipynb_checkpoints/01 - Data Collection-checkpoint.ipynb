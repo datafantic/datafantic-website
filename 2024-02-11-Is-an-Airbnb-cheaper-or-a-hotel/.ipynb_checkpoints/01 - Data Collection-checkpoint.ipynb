{
 "cells": [
  {
   "cell_type": "markdown",
   "id": "b9b13d09-cb85-4499-a909-aec0ce67d276",
   "metadata": {},
   "source": [
    "---\n",
    "author: \"Robert Ritz\"\n",
    "draft: true\n",
    "echo: false\n",
    "---"
   ]
  },
  {
   "cell_type": "markdown",
   "id": "bc6b0989-4dcc-44d4-b6f6-12cdeb608618",
   "metadata": {},
   "source": [
    "# Data Collection"
   ]
  },
  {
   "cell_type": "code",
   "execution_count": 1,
   "id": "3a04f3fb-1462-453f-aec3-96089696fb6d",
   "metadata": {},
   "outputs": [],
   "source": [
    "import requests\n",
    "from bs4 import BeautifulSoup\n",
    "import pandas as pd\n",
    "from tqdm.notebook import tqdm"
   ]
  },
  {
   "cell_type": "code",
   "execution_count": 2,
   "id": "3746d734-9723-46a0-800b-da020059dddc",
   "metadata": {},
   "outputs": [],
   "source": [
    "url = 'http://insideairbnb.com/get-the-data/'"
   ]
  },
  {
   "cell_type": "code",
   "execution_count": 3,
   "id": "13535ba0-db55-47b5-8c15-d1be70bcf425",
   "metadata": {},
   "outputs": [],
   "source": [
    "response = requests.get(url)\n",
    "soup = BeautifulSoup(response.content, 'html.parser')\n",
    "links = soup.find_all(\"a\", href=True)"
   ]
  },
  {
   "cell_type": "code",
   "execution_count": 4,
   "id": "5b76625b-97ea-4a97-9042-01ada01a20d2",
   "metadata": {},
   "outputs": [],
   "source": [
    "us_links = [x['href'] for x in links if 'listings.csv.gz' in x['href'] and 'united-states' in x['href']]"
   ]
  },
  {
   "cell_type": "code",
   "execution_count": 5,
   "id": "6e8e20c4-4ef5-4f2e-8566-80004f02e8ff",
   "metadata": {},
   "outputs": [
    {
     "data": {
      "application/vnd.jupyter.widget-view+json": {
       "model_id": "e954141feec5455cac8a45ea6b9781ef",
       "version_major": 2,
       "version_minor": 0
      },
      "text/plain": [
       "  0%|          | 0/34 [00:00<?, ?it/s]"
      ]
     },
     "metadata": {},
     "output_type": "display_data"
    }
   ],
   "source": [
    "list_of_dicts = []\n",
    "\n",
    "for url in tqdm(us_links):\n",
    "    df = pd.read_csv(url, compression='gzip', low_memory=False)\n",
    "    list_of_dicts.extend(df.to_dict('records'))"
   ]
  },
  {
   "cell_type": "code",
   "execution_count": 6,
   "id": "a3eb54be-1662-422e-bc4e-8f8189e99d7f",
   "metadata": {},
   "outputs": [],
   "source": [
    "final_df = pd.DataFrame(list_of_dicts)"
   ]
  },
  {
   "cell_type": "code",
   "execution_count": 15,
   "id": "afd7f083-0248-4fcb-a0cc-19c0497def1b",
   "metadata": {},
   "outputs": [],
   "source": [
    "final_df['neighbourhood_cleansed'] = final_df['neighbourhood_cleansed'].astype(str)"
   ]
  },
  {
   "cell_type": "code",
   "execution_count": 16,
   "id": "556880b0-2706-4843-9e84-cf0c1f8229c3",
   "metadata": {},
   "outputs": [],
   "source": [
    "final_df.to_parquet('listings.parquet')"
   ]
  },
  {
   "cell_type": "code",
   "execution_count": null,
   "id": "466f0a07-e41c-49ef-b5ab-05f0beab8d15",
   "metadata": {},
   "outputs": [],
   "source": []
  }
 ],
 "metadata": {
  "kernelspec": {
   "display_name": "Python 3 (ipykernel)",
   "language": "python",
   "name": "python3"
  },
  "language_info": {
   "codemirror_mode": {
    "name": "ipython",
    "version": 3
   },
   "file_extension": ".py",
   "mimetype": "text/x-python",
   "name": "python",
   "nbconvert_exporter": "python",
   "pygments_lexer": "ipython3",
   "version": "3.11.7"
  }
 },
 "nbformat": 4,
 "nbformat_minor": 5
}
