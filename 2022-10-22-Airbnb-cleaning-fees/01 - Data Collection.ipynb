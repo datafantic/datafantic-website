{
 "cells": [
  {
   "cell_type": "markdown",
   "metadata": {},
   "source": [
    "---\n",
    "author: \"Robert Ritz\"\n",
    "draft: true\n",
    "echo: false\n",
    "---"
   ]
  },
  {
   "cell_type": "markdown",
   "metadata": {
    "cell_id": "db9e4392e2ee4c1eb943c544f25f9f81",
    "deepnote_cell_type": "text-cell-h1",
    "formattedRanges": [],
    "is_collapsed": false,
    "tags": []
   },
   "source": [
    "# Data Collection"
   ]
  },
  {
   "cell_type": "markdown",
   "metadata": {
    "cell_id": "033e2e7e-3369-4665-a6b6-37f6aab73146",
    "deepnote_cell_type": "text-cell-p",
    "formattedRanges": [],
    "is_collapsed": false,
    "tags": []
   },
   "source": [
    "This notebook will scrape Airbnb listings for several cities around the world. The purpose is to understand the fee structure for these listings better. If other cities are requested, I can add them later. "
   ]
  },
  {
   "cell_type": "markdown",
   "metadata": {
    "cell_id": "76ca1f4f-91b6-408e-ba85-ea2b83cdf069",
    "deepnote_cell_type": "text-cell-p",
    "formattedRanges": [
     {
      "fromCodePoint": 34,
      "ranges": [],
      "toCodePoint": 53,
      "type": "link",
      "url": "https://deepnote.com/workspace/datafantic-3bd1a992-4cfb-4c56-aaaf-931ce087ce8c/project/2022-10-20-Whats-up-with-Airbnb-fees-3a09bbfb-7f5f-46b3-8fa0-788f71b2887f/notebook/02%20-%20Exploring%20Fees-6d942b81aec849c794cf4298106189ae"
     }
    ],
    "is_collapsed": false,
    "tags": []
   },
   "source": [
    "To view the analysis notebook see 02 - Exploring Fees. "
   ]
  },
  {
   "cell_type": "markdown",
   "metadata": {
    "cell_id": "cc38b055-9275-4c02-96d9-84ec589cf702",
    "deepnote_cell_type": "text-cell-callout",
    "formattedRanges": [
     {
      "fromCodePoint": 65,
      "ranges": [],
      "toCodePoint": 79,
      "type": "link",
      "url": "https://datafantic.com/whats-up-with-airbnb-cleaning-fees"
     },
     {
      "fromCodePoint": 133,
      "ranges": [],
      "toCodePoint": 140,
      "type": "link",
      "url": "https://www.datafantic.com/#/portal"
     }
    ],
    "is_collapsed": false,
    "tags": []
   },
   "source": [
    "> You can view the written analysis that results from this code on datafantic.com where I'm building with data, one project at a time. Sign up to get notified when a new project drops!"
   ]
  },
  {
   "cell_type": "code",
   "execution_count": 1,
   "metadata": {
    "cell_id": "a8e6e1619fa2430b83c83c914aea82a1",
    "deepnote_cell_type": "code",
    "deepnote_to_be_reexecuted": false,
    "execution_millis": 0,
    "execution_start": 1666222041856,
    "output_cleared": true,
    "source_hash": "8bc6dbe1",
    "tags": []
   },
   "outputs": [],
   "source": [
    "import pandas as pd\n",
    "import requests\n",
    "\n",
    "from bs4 import BeautifulSoup\n",
    "from selenium.common.exceptions import NoSuchElementException, ElementNotVisibleException, ElementNotSelectableException, TimeoutException, SessionNotCreatedException\n",
    "from selenium.webdriver import Chrome\n",
    "from selenium.webdriver.chrome.options import Options\n",
    "from selenium.webdriver.common.by import By\n",
    "from selenium.webdriver.support.wait import WebDriverWait\n",
    "from selenium.webdriver.support import expected_conditions as EC\n",
    "\n",
    "from tqdm import tqdm\n",
    "import time"
   ]
  },
  {
   "cell_type": "markdown",
   "metadata": {
    "cell_id": "9395d540cd404d128bfc20442b8fc7c7",
    "deepnote_cell_type": "text-cell-p",
    "formattedRanges": [
     {
      "fromCodePoint": 18,
      "marks": {
       "code": true
      },
      "toCodePoint": 28,
      "type": "marks"
     },
     {
      "fromCodePoint": 33,
      "marks": {
       "code": true
      },
      "toCodePoint": 48,
      "type": "marks"
     }
    ],
    "is_collapsed": false,
    "tags": []
   },
   "source": [
    "Selenium options. no-sandbox and headless = True are needed to make Selenium work in Deepnote. "
   ]
  },
  {
   "cell_type": "markdown",
   "metadata": {
    "cell_id": "b03e0b93-da21-4d8b-bae9-c1d443e1e344",
    "deepnote_cell_type": "text-cell-p",
    "formattedRanges": [],
    "is_collapsed": false,
    "tags": []
   },
   "source": [
    "Note: This uses a good amount of RAM, so the basic machine may be unreliable. I used the Plus machine type, and it worked great."
   ]
  },
  {
   "cell_type": "markdown",
   "metadata": {
    "cell_id": "2bcfbe24-b2b7-42ff-9368-2938e841f276",
    "deepnote_cell_type": "text-cell-p",
    "formattedRanges": [],
    "is_collapsed": false,
    "tags": []
   },
   "source": [
    "Also note that I installed the Chrome driver in the init.ipynb. Click on the gear icon under the Environment section to view the notebook."
   ]
  },
  {
   "cell_type": "code",
   "execution_count": 3,
   "metadata": {
    "cell_id": "5fcdd1e79a7846faad2f7521a13650bc",
    "deepnote_cell_type": "code",
    "deepnote_to_be_reexecuted": false,
    "execution_millis": 2,
    "execution_start": 1666222044125,
    "output_cleared": true,
    "source_hash": "cd55e8ff",
    "tags": []
   },
   "outputs": [],
   "source": [
    "options = Options()\n",
    "options.headless = True\n",
    "options.add_argument(\"disable-infobars\")\n",
    "options.add_argument(\"--disable-extensions\")\n",
    "options.add_argument(\"--disable-dev-shm-usage\")\n",
    "options.add_argument(\"--no-sandbox\")"
   ]
  },
  {
   "cell_type": "markdown",
   "metadata": {
    "cell_id": "efa1813b22c849dea958e224988359bb",
    "deepnote_cell_type": "text-cell-h2",
    "formattedRanges": [],
    "is_collapsed": false,
    "tags": []
   },
   "source": [
    "## Scrape flexible times"
   ]
  },
  {
   "cell_type": "markdown",
   "metadata": {
    "cell_id": "ac8c89671b334b139690a5a4415b1036",
    "deepnote_cell_type": "text-cell-h2",
    "formattedRanges": [],
    "is_collapsed": false,
    "tags": []
   },
   "source": [
    "## Scrape listing URLs for various cities"
   ]
  },
  {
   "cell_type": "code",
   "execution_count": 5,
   "metadata": {
    "cell_id": "e9f4a106aeb24365918aff2242a9cc1c",
    "deepnote_cell_type": "code",
    "deepnote_to_be_reexecuted": false,
    "execution_millis": 1,
    "execution_start": 1666222075625,
    "output_cleared": true,
    "source_hash": "41cc2737",
    "tags": []
   },
   "outputs": [],
   "source": [
    "cities = ['Dallas--TX--United-States', 'Austin--TX--United-States', 'Los-Angeles--United-States', \n",
    "          'New-York-City--Manhattan--United-States', 'San-Francisco--CA--United-States']"
   ]
  },
  {
   "cell_type": "markdown",
   "metadata": {
    "cell_id": "53d95efb6c8649fda2c130806baf5aef",
    "deepnote_cell_type": "text-cell-p",
    "formattedRanges": [],
    "is_collapsed": false,
    "tags": []
   },
   "source": [
    "Airbnb only shows 15 pages of listings, with 20 listings per page. That is 300 listings per city without extra filtering or moving the map around. This seems like a good enough sample for our purposes, and I believe this will approximate a normal user experience when using Airbnb."
   ]
  },
  {
   "cell_type": "code",
   "execution_count": null,
   "metadata": {
    "cell_id": "4659bb11c7ab469597a4a4d26b362b6f",
    "deepnote_cell_type": "code",
    "deepnote_to_be_reexecuted": false,
    "execution_millis": 2,
    "execution_start": 1666169875681,
    "output_cleared": true,
    "source_hash": "34e64314",
    "tags": []
   },
   "outputs": [],
   "source": [
    "len(cities) * 300"
   ]
  },
  {
   "cell_type": "markdown",
   "metadata": {
    "cell_id": "341f6cee3d3f4e1bb49e9664d33ec0be",
    "deepnote_cell_type": "text-cell-p",
    "formattedRanges": [],
    "is_collapsed": false,
    "tags": []
   },
   "source": [
    "Looks good. Let's scrape!"
   ]
  },
  {
   "cell_type": "code",
   "execution_count": null,
   "metadata": {
    "cell_id": "86131763bb3d44a2845a1c32aa4cdfc5",
    "deepnote_cell_type": "code",
    "deepnote_to_be_reexecuted": false,
    "execution_millis": 2057408,
    "execution_start": 1666169875682,
    "output_cleared": true,
    "source_hash": "3ba33b65",
    "tags": []
   },
   "outputs": [],
   "source": [
    "links = []\n",
    "for city in tqdm(cities, position=0, desc=\"City\"):\n",
    "    url = f\"https://www.airbnb.com/s/{city}/homes?tab_id=home_tab&refinement_paths%5B%5D=%2Fhomes&flexible_trip_lengths%5B%5D=one_week&price_filter_input_type=0&date_picker_type=flexible_dates&source=structured_search_input_header&search_type=autocomplete_click&pagination_search=true\"\n",
    "    # Load root city listings\n",
    "    driver = Chrome(options=options)\n",
    "    driver.get(url)\n",
    "    wait = WebDriverWait(driver, timeout=10, poll_frequency=1, ignored_exceptions=[ElementNotVisibleException, ElementNotSelectableException])\n",
    "    element = wait.until(EC.presence_of_element_located((By.CSS_SELECTOR, \"\"\"nav[aria-label='Search results pagination']\"\"\")))\n",
    "\n",
    "    # Determine number of pages in listings\n",
    "    pages = driver.find_elements(By.TAG_NAME, \"nav\")[-1].find_elements(By.TAG_NAME, \"a\")[-2].text\n",
    "    pages = int(pages)\n",
    "\n",
    "    # Navigate through each successive page in the listings\n",
    "    temp_links = []\n",
    "    for page in range(pages):\n",
    "        # Grab all links on page. We can filter them later.\n",
    "        for a in driver.find_elements(By.TAG_NAME, \"a\"):\n",
    "            if 'rooms' in a.get_property('href'):\n",
    "                links.append({'city':city, 'url':a.get_property('href')})\n",
    "        \n",
    "        # Got to next page and wait until element is loaded\n",
    "        driver.find_elements(By.TAG_NAME, \"nav\")[-1].find_elements(By.TAG_NAME, \"a\")[-1].click()\n",
    "        time.sleep(10)"
   ]
  },
  {
   "cell_type": "markdown",
   "metadata": {
    "cell_id": "c610b9cf4a804c0da453f651a9818580",
    "deepnote_cell_type": "text-cell-p",
    "formattedRanges": [],
    "is_collapsed": false,
    "tags": []
   },
   "source": [
    "Let's deduplicate and filter the link list, then write to CSV for use later. Because ain't nobody got time for that."
   ]
  },
  {
   "cell_type": "code",
   "execution_count": null,
   "metadata": {
    "cell_id": "a2b7e01efc6746899240fa2e66911430",
    "deepnote_cell_type": "code",
    "deepnote_to_be_reexecuted": false,
    "execution_millis": 0,
    "execution_start": 1666088082678,
    "output_cleared": true,
    "source_hash": "5347f93",
    "tags": []
   },
   "outputs": [],
   "source": [
    "urls_flexible = pd.DataFrame(links)"
   ]
  },
  {
   "cell_type": "code",
   "execution_count": null,
   "metadata": {
    "cell_id": "dbe6d33794de4e86a5044448edd59f0d",
    "deepnote_cell_type": "code",
    "deepnote_to_be_reexecuted": false,
    "execution_millis": 590,
    "execution_start": 1666173110341,
    "output_cleared": true,
    "source_hash": "4f6eaa92",
    "tags": []
   },
   "outputs": [],
   "source": [
    "urls_flexible.shape"
   ]
  },
  {
   "cell_type": "code",
   "execution_count": null,
   "metadata": {
    "cell_id": "f9d4e1a52a484fdab52abd5060ba7845",
    "deepnote_cell_type": "code",
    "deepnote_to_be_reexecuted": false,
    "execution_millis": 14,
    "execution_start": 1666088703830,
    "output_cleared": true,
    "source_hash": "b22e6f30",
    "tags": []
   },
   "outputs": [],
   "source": [
    "urls_flexible = urls_flexible.drop_duplicates().reset_index(drop=True)"
   ]
  },
  {
   "cell_type": "code",
   "execution_count": null,
   "metadata": {
    "cell_id": "f0952e5609b547eca863c2128c86e691",
    "deepnote_cell_type": "code",
    "deepnote_table_loading": false,
    "deepnote_table_state": {
     "filters": [],
     "pageIndex": 49,
     "pageSize": 10,
     "sortBy": []
    },
    "deepnote_to_be_reexecuted": false,
    "execution_millis": 47,
    "execution_start": 1666171933128,
    "output_cleared": true,
    "source_hash": "60c44e52",
    "tags": []
   },
   "outputs": [],
   "source": [
    "urls_flexible"
   ]
  },
  {
   "cell_type": "code",
   "execution_count": null,
   "metadata": {
    "cell_id": "6a8e83b0be6141899aa6e576f05efd90",
    "deepnote_cell_type": "code",
    "deepnote_to_be_reexecuted": false,
    "execution_millis": 20,
    "execution_start": 1666088705425,
    "output_cleared": true,
    "source_hash": "c8a1af21",
    "tags": []
   },
   "outputs": [],
   "source": [
    "urls_flexible.to_csv('urls_flexible.csv', index=False)"
   ]
  },
  {
   "cell_type": "markdown",
   "metadata": {
    "cell_id": "9d6ac52907ca417bb5bb7a3f1d829786",
    "deepnote_cell_type": "text-cell-h2",
    "formattedRanges": [],
    "is_collapsed": false,
    "tags": []
   },
   "source": [
    "## Scrape listing details"
   ]
  },
  {
   "cell_type": "code",
   "execution_count": 3,
   "metadata": {
    "cell_id": "a1e338a996d64cea9e60719c5003d96b",
    "deepnote_cell_type": "code",
    "deepnote_to_be_reexecuted": false,
    "execution_millis": 15,
    "execution_start": 1666188869695,
    "output_cleared": false,
    "source_hash": "4591b1d0",
    "tags": []
   },
   "outputs": [
    {
     "data": {
      "text/plain": [
       "(3594, 2)"
      ]
     },
     "execution_count": 3,
     "metadata": {},
     "output_type": "execute_result"
    }
   ],
   "source": [
    "urls_flexible = pd.read_csv('urls_flexible.csv')\n",
    "urls_flexible.shape"
   ]
  },
  {
   "cell_type": "code",
   "execution_count": 15,
   "metadata": {
    "cell_id": "7fa86e05400b4b19bd7806688fe2306c",
    "deepnote_cell_type": "code",
    "deepnote_to_be_reexecuted": false,
    "execution_millis": 3,
    "execution_start": 1666225437770,
    "output_cleared": false,
    "source_hash": "a1e9c80",
    "tags": []
   },
   "outputs": [],
   "source": [
    "def extract_features(url):\n",
    "    # Make empty dict\n",
    "    features = {}\n",
    "    try:\n",
    "        driver = Chrome(options=options)\n",
    "        driver.get(url)\n",
    "        wait = WebDriverWait(driver, timeout=10, poll_frequency=1, ignored_exceptions=[ElementNotVisibleException, ElementNotSelectableException])\n",
    "\n",
    "        # Wait for pice list \n",
    "        element = wait.until(EC.presence_of_element_located((By.CSS_SELECTOR, \"\"\"span[class='_1k4xcdh']\"\"\")))\n",
    "        soup = BeautifulSoup(driver.page_source)\n",
    "\n",
    "        # Get price list\n",
    "        price_list = [x.text for x in soup.find_all(\"div\", {'class':'_1fpuhdl'})]\n",
    "        price_list = [x.split(\"Show price breakdown\") for x in price_list]\n",
    "        for item in price_list:\n",
    "            if item[0] == 'Cleaning fee':\n",
    "                features['cleaning_fee'] = item[1]\n",
    "            elif item[0] == 'Service fee':\n",
    "                features['service_fee'] = item[1]\n",
    "            if item[0] == 'Weekly discount':\n",
    "                features['weekly_discount'] = item[1]\n",
    "            else:\n",
    "                features['weekly_discount'] = ''\n",
    "            if item[0] == 'Long stay discount':\n",
    "                features['long_stay_discount'] = item[1]\n",
    "            else:\n",
    "                features['long_stay_discount'] = ''\n",
    "        features['price_minus_fees'] = price_list[0][1]\n",
    "\n",
    "        # Basic info\n",
    "        features['title'] = soup.find('h2').text\n",
    "        \n",
    "        bed_baths = soup.find_all(\"ol\")[0].text.split(\"·  ·\")\n",
    "        for item in bed_baths:\n",
    "            if 'guest' in item:\n",
    "                features['guest'] = item.strip().split(\" \")[0]\n",
    "            elif 'bedroom' in item:\n",
    "                features['bedrooms'] = item.strip().split(\" \")[0]\n",
    "            elif ('1 bed' in item) or ('beds' in item):\n",
    "                features['beds'] = item.strip().split(\" \")[0]\n",
    "            elif 'bath' in item:\n",
    "                features['baths'] = item.strip().split(\" \")[0]\n",
    "\n",
    "        #add url\n",
    "        features['url'] = url\n",
    "\n",
    "        driver.quit()\n",
    "        return features\n",
    "    # If the dates aren't available then it will time out. \n",
    "    except TimeoutException:\n",
    "        pass\n",
    "    except SessionNotCreatedException:\n",
    "        print(\"session error\")\n",
    "    except:\n",
    "        print(\"unhandled exception\")"
   ]
  },
  {
   "cell_type": "code",
   "execution_count": 5,
   "metadata": {
    "cell_id": "1479aced82944623882c5f90fcc9d9d0",
    "deepnote_cell_type": "code",
    "deepnote_to_be_reexecuted": false,
    "execution_millis": 12719724,
    "execution_start": 1666188875533,
    "output_cleared": false,
    "source_hash": "598f8fe1",
    "tags": []
   },
   "outputs": [
    {
     "name": "stderr",
     "output_type": "stream",
     "text": [
      " 91%|█████████ | 3269/3594 [3:11:04<11:38,  2.15s/it]unhandled exception\n",
      "100%|██████████| 3594/3594 [3:31:59<00:00,  3.54s/it]\n"
     ]
    }
   ],
   "source": [
    "data = []\n",
    "for i, row in tqdm(urls_flexible.iterrows(), total=urls_flexible.shape[0]):\n",
    "    features = extract_features(row['url'])\n",
    "    if features:\n",
    "        features['location'] = row['city']\n",
    "        features['check_in'] = row['url'].split(\"check_in=\")[1].split(\"&\")[0]\n",
    "        features['check_out'] = row['url'].split(\"check_out=\")[1].split(\"&\")[0]\n",
    "        data.append(features)"
   ]
  },
  {
   "cell_type": "code",
   "execution_count": 6,
   "metadata": {
    "cell_id": "2ace0bab47f74fb9bdfd49af9bf32c0a",
    "deepnote_cell_type": "code",
    "deepnote_to_be_reexecuted": false,
    "execution_millis": 3,
    "execution_start": 1666201595267,
    "source_hash": "68b98649",
    "tags": []
   },
   "outputs": [],
   "source": [
    "df = pd.DataFrame(data)"
   ]
  },
  {
   "cell_type": "code",
   "execution_count": 7,
   "metadata": {
    "cell_id": "bf292d895de94d6088adec752811a0f7",
    "deepnote_cell_type": "code",
    "deepnote_to_be_reexecuted": false,
    "execution_millis": 66,
    "execution_start": 1666201595271,
    "source_hash": "f804c160",
    "tags": []
   },
   "outputs": [
    {
     "data": {
      "text/html": [
       "<div>\n",
       "<style scoped>\n",
       "    .dataframe tbody tr th:only-of-type {\n",
       "        vertical-align: middle;\n",
       "    }\n",
       "\n",
       "    .dataframe tbody tr th {\n",
       "        vertical-align: top;\n",
       "    }\n",
       "\n",
       "    .dataframe thead th {\n",
       "        text-align: right;\n",
       "    }\n",
       "</style>\n",
       "<table border=\"1\" class=\"dataframe\">\n",
       "  <thead>\n",
       "    <tr style=\"text-align: right;\">\n",
       "      <th></th>\n",
       "      <th>weekly_discount</th>\n",
       "      <th>long_stay_discount</th>\n",
       "      <th>cleaning_fee</th>\n",
       "      <th>service_fee</th>\n",
       "      <th>price_minus_fees</th>\n",
       "      <th>title</th>\n",
       "      <th>guest</th>\n",
       "      <th>bedrooms</th>\n",
       "      <th>beds</th>\n",
       "      <th>baths</th>\n",
       "      <th>url</th>\n",
       "      <th>location</th>\n",
       "      <th>check_in</th>\n",
       "      <th>check_out</th>\n",
       "    </tr>\n",
       "  </thead>\n",
       "  <tbody>\n",
       "    <tr>\n",
       "      <th>0</th>\n",
       "      <td></td>\n",
       "      <td></td>\n",
       "      <td>$100</td>\n",
       "      <td>$82</td>\n",
       "      <td>$600</td>\n",
       "      <td>Entire condo hosted by Kevin</td>\n",
       "      <td>2</td>\n",
       "      <td>1</td>\n",
       "      <td>1</td>\n",
       "      <td>1</td>\n",
       "      <td>https://www.airbnb.com/rooms/73539817214550286...</td>\n",
       "      <td>Dallas--TX--United-States</td>\n",
       "      <td>2022-10-28</td>\n",
       "      <td>2022-11-03</td>\n",
       "    </tr>\n",
       "    <tr>\n",
       "      <th>1</th>\n",
       "      <td></td>\n",
       "      <td></td>\n",
       "      <td>$30</td>\n",
       "      <td>$54</td>\n",
       "      <td>$350</td>\n",
       "      <td>Tiny home hosted by Grady</td>\n",
       "      <td>2</td>\n",
       "      <td>1</td>\n",
       "      <td>1</td>\n",
       "      <td>1</td>\n",
       "      <td>https://www.airbnb.com/rooms/15342315?adults=1...</td>\n",
       "      <td>Dallas--TX--United-States</td>\n",
       "      <td>2022-10-30</td>\n",
       "      <td>2022-11-04</td>\n",
       "    </tr>\n",
       "    <tr>\n",
       "      <th>2</th>\n",
       "      <td></td>\n",
       "      <td></td>\n",
       "      <td>$110</td>\n",
       "      <td>$131</td>\n",
       "      <td>$824</td>\n",
       "      <td>Entire rental unit hosted by Jen</td>\n",
       "      <td>4</td>\n",
       "      <td>1</td>\n",
       "      <td>2</td>\n",
       "      <td>1</td>\n",
       "      <td>https://www.airbnb.com/rooms/46581123?adults=1...</td>\n",
       "      <td>Dallas--TX--United-States</td>\n",
       "      <td>2022-10-19</td>\n",
       "      <td>2022-10-26</td>\n",
       "    </tr>\n",
       "    <tr>\n",
       "      <th>3</th>\n",
       "      <td></td>\n",
       "      <td></td>\n",
       "      <td>NaN</td>\n",
       "      <td>$24</td>\n",
       "      <td>$196</td>\n",
       "      <td>Private room in home hosted by R And R Hostel</td>\n",
       "      <td>1</td>\n",
       "      <td>1</td>\n",
       "      <td>1</td>\n",
       "      <td>1</td>\n",
       "      <td>https://www.airbnb.com/rooms/73090942173103176...</td>\n",
       "      <td>Dallas--TX--United-States</td>\n",
       "      <td>2022-10-20</td>\n",
       "      <td>2022-10-25</td>\n",
       "    </tr>\n",
       "    <tr>\n",
       "      <th>4</th>\n",
       "      <td></td>\n",
       "      <td></td>\n",
       "      <td>$59</td>\n",
       "      <td>$61</td>\n",
       "      <td>$464</td>\n",
       "      <td>Entire rental unit hosted by Carpediem</td>\n",
       "      <td>2</td>\n",
       "      <td>1</td>\n",
       "      <td>1</td>\n",
       "      <td>1</td>\n",
       "      <td>https://www.airbnb.com/rooms/69420558176578361...</td>\n",
       "      <td>Dallas--TX--United-States</td>\n",
       "      <td>2022-10-24</td>\n",
       "      <td>2022-10-30</td>\n",
       "    </tr>\n",
       "    <tr>\n",
       "      <th>5</th>\n",
       "      <td></td>\n",
       "      <td></td>\n",
       "      <td>$75</td>\n",
       "      <td>$74</td>\n",
       "      <td>$450</td>\n",
       "      <td>Entire guesthouse hosted by Elayna</td>\n",
       "      <td>2</td>\n",
       "      <td>1</td>\n",
       "      <td>1</td>\n",
       "      <td>1</td>\n",
       "      <td>https://www.airbnb.com/rooms/46852636?adults=1...</td>\n",
       "      <td>Dallas--TX--United-States</td>\n",
       "      <td>2022-10-23</td>\n",
       "      <td>2022-10-28</td>\n",
       "    </tr>\n",
       "    <tr>\n",
       "      <th>6</th>\n",
       "      <td></td>\n",
       "      <td></td>\n",
       "      <td>$15</td>\n",
       "      <td>$56</td>\n",
       "      <td>$384</td>\n",
       "      <td>Entire bungalow hosted by Stefan</td>\n",
       "      <td>2</td>\n",
       "      <td>NaN</td>\n",
       "      <td>1</td>\n",
       "      <td>1</td>\n",
       "      <td>https://www.airbnb.com/rooms/36598747?adults=1...</td>\n",
       "      <td>Dallas--TX--United-States</td>\n",
       "      <td>2023-01-02</td>\n",
       "      <td>2023-01-08</td>\n",
       "    </tr>\n",
       "    <tr>\n",
       "      <th>7</th>\n",
       "      <td></td>\n",
       "      <td></td>\n",
       "      <td>$7</td>\n",
       "      <td>$43</td>\n",
       "      <td>$314</td>\n",
       "      <td>Private room in home hosted by Jack</td>\n",
       "      <td>2</td>\n",
       "      <td>1</td>\n",
       "      <td>1</td>\n",
       "      <td>1</td>\n",
       "      <td>https://www.airbnb.com/rooms/43124360?adults=1...</td>\n",
       "      <td>Dallas--TX--United-States</td>\n",
       "      <td>2022-10-19</td>\n",
       "      <td>2022-10-26</td>\n",
       "    </tr>\n",
       "    <tr>\n",
       "      <th>8</th>\n",
       "      <td></td>\n",
       "      <td></td>\n",
       "      <td>$30</td>\n",
       "      <td>$59</td>\n",
       "      <td>$386</td>\n",
       "      <td>Camper/RV hosted by Grady</td>\n",
       "      <td>2</td>\n",
       "      <td>1</td>\n",
       "      <td>1</td>\n",
       "      <td>1</td>\n",
       "      <td>https://www.airbnb.com/rooms/24596033?adults=1...</td>\n",
       "      <td>Dallas--TX--United-States</td>\n",
       "      <td>2022-10-23</td>\n",
       "      <td>2022-10-29</td>\n",
       "    </tr>\n",
       "    <tr>\n",
       "      <th>9</th>\n",
       "      <td></td>\n",
       "      <td></td>\n",
       "      <td>$150</td>\n",
       "      <td>$52</td>\n",
       "      <td>$215</td>\n",
       "      <td>Entire rental unit hosted by Mark</td>\n",
       "      <td>4</td>\n",
       "      <td>1</td>\n",
       "      <td>1</td>\n",
       "      <td>1</td>\n",
       "      <td>https://www.airbnb.com/rooms/68311955881661587...</td>\n",
       "      <td>Dallas--TX--United-States</td>\n",
       "      <td>2022-10-23</td>\n",
       "      <td>2022-10-29</td>\n",
       "    </tr>\n",
       "    <tr>\n",
       "      <th>10</th>\n",
       "      <td></td>\n",
       "      <td></td>\n",
       "      <td>$70</td>\n",
       "      <td>$66</td>\n",
       "      <td>$398</td>\n",
       "      <td>Entire condo hosted by Omar</td>\n",
       "      <td>3</td>\n",
       "      <td>1</td>\n",
       "      <td>1</td>\n",
       "      <td>1</td>\n",
       "      <td>https://www.airbnb.com/rooms/54211198?adults=1...</td>\n",
       "      <td>Dallas--TX--United-States</td>\n",
       "      <td>2022-11-05</td>\n",
       "      <td>2022-11-11</td>\n",
       "    </tr>\n",
       "    <tr>\n",
       "      <th>11</th>\n",
       "      <td></td>\n",
       "      <td></td>\n",
       "      <td>$30</td>\n",
       "      <td>$48</td>\n",
       "      <td>$324</td>\n",
       "      <td>Private room in townhouse hosted by Andrea</td>\n",
       "      <td>2</td>\n",
       "      <td>1</td>\n",
       "      <td>2</td>\n",
       "      <td>1</td>\n",
       "      <td>https://www.airbnb.com/rooms/28465345?adults=1...</td>\n",
       "      <td>Dallas--TX--United-States</td>\n",
       "      <td>2022-10-28</td>\n",
       "      <td>2022-11-04</td>\n",
       "    </tr>\n",
       "    <tr>\n",
       "      <th>12</th>\n",
       "      <td></td>\n",
       "      <td></td>\n",
       "      <td>$50</td>\n",
       "      <td>$50</td>\n",
       "      <td>$302</td>\n",
       "      <td>Entire loft hosted by Simaiya</td>\n",
       "      <td>4</td>\n",
       "      <td>1</td>\n",
       "      <td>1</td>\n",
       "      <td>1</td>\n",
       "      <td>https://www.airbnb.com/rooms/67089461123550275...</td>\n",
       "      <td>Dallas--TX--United-States</td>\n",
       "      <td>2022-11-06</td>\n",
       "      <td>2022-11-11</td>\n",
       "    </tr>\n",
       "    <tr>\n",
       "      <th>13</th>\n",
       "      <td></td>\n",
       "      <td></td>\n",
       "      <td>$125</td>\n",
       "      <td>$76</td>\n",
       "      <td>$415</td>\n",
       "      <td>Entire guesthouse hosted by Kelsie</td>\n",
       "      <td>2</td>\n",
       "      <td>NaN</td>\n",
       "      <td>1</td>\n",
       "      <td>1</td>\n",
       "      <td>https://www.airbnb.com/rooms/65242814698560133...</td>\n",
       "      <td>Dallas--TX--United-States</td>\n",
       "      <td>2022-10-23</td>\n",
       "      <td>2022-10-29</td>\n",
       "    </tr>\n",
       "    <tr>\n",
       "      <th>14</th>\n",
       "      <td></td>\n",
       "      <td></td>\n",
       "      <td>$48</td>\n",
       "      <td>$65</td>\n",
       "      <td>$410</td>\n",
       "      <td>Entire rental unit hosted by Val</td>\n",
       "      <td>2</td>\n",
       "      <td>NaN</td>\n",
       "      <td>1</td>\n",
       "      <td>1</td>\n",
       "      <td>https://www.airbnb.com/rooms/49463654?adults=1...</td>\n",
       "      <td>Dallas--TX--United-States</td>\n",
       "      <td>2022-10-23</td>\n",
       "      <td>2022-10-28</td>\n",
       "    </tr>\n",
       "    <tr>\n",
       "      <th>15</th>\n",
       "      <td></td>\n",
       "      <td></td>\n",
       "      <td>NaN</td>\n",
       "      <td>$23</td>\n",
       "      <td>$161</td>\n",
       "      <td>Shared room in home hosted by Host Team</td>\n",
       "      <td>1</td>\n",
       "      <td>1</td>\n",
       "      <td>1</td>\n",
       "      <td>2</td>\n",
       "      <td>https://www.airbnb.com/rooms/35006003?adults=1...</td>\n",
       "      <td>Dallas--TX--United-States</td>\n",
       "      <td>2022-10-31</td>\n",
       "      <td>2022-11-05</td>\n",
       "    </tr>\n",
       "    <tr>\n",
       "      <th>16</th>\n",
       "      <td></td>\n",
       "      <td></td>\n",
       "      <td>$70</td>\n",
       "      <td>$63</td>\n",
       "      <td>$379</td>\n",
       "      <td>Entire rental unit hosted by Y.H.</td>\n",
       "      <td>4</td>\n",
       "      <td>1</td>\n",
       "      <td>1</td>\n",
       "      <td>1</td>\n",
       "      <td>https://www.airbnb.com/rooms/52517747?adults=1...</td>\n",
       "      <td>Dallas--TX--United-States</td>\n",
       "      <td>2022-10-24</td>\n",
       "      <td>2022-10-29</td>\n",
       "    </tr>\n",
       "    <tr>\n",
       "      <th>17</th>\n",
       "      <td></td>\n",
       "      <td></td>\n",
       "      <td>$50</td>\n",
       "      <td>$94</td>\n",
       "      <td>$615</td>\n",
       "      <td>Entire rental unit hosted by Prince</td>\n",
       "      <td>3</td>\n",
       "      <td>1</td>\n",
       "      <td>1</td>\n",
       "      <td>1</td>\n",
       "      <td>https://www.airbnb.com/rooms/38738634?adults=1...</td>\n",
       "      <td>Dallas--TX--United-States</td>\n",
       "      <td>2022-10-23</td>\n",
       "      <td>2022-10-30</td>\n",
       "    </tr>\n",
       "    <tr>\n",
       "      <th>18</th>\n",
       "      <td></td>\n",
       "      <td></td>\n",
       "      <td>$40</td>\n",
       "      <td>$56</td>\n",
       "      <td>$471</td>\n",
       "      <td>Entire home hosted by Arturo</td>\n",
       "      <td>2</td>\n",
       "      <td>1</td>\n",
       "      <td>1</td>\n",
       "      <td>1</td>\n",
       "      <td>https://www.airbnb.com/rooms/28247241?adults=1...</td>\n",
       "      <td>Dallas--TX--United-States</td>\n",
       "      <td>2022-11-08</td>\n",
       "      <td>2022-11-15</td>\n",
       "    </tr>\n",
       "    <tr>\n",
       "      <th>19</th>\n",
       "      <td></td>\n",
       "      <td></td>\n",
       "      <td>$12</td>\n",
       "      <td>$17</td>\n",
       "      <td>$112</td>\n",
       "      <td>Shared room in home hosted by R And R Hostel</td>\n",
       "      <td>1</td>\n",
       "      <td>1</td>\n",
       "      <td>1</td>\n",
       "      <td>2</td>\n",
       "      <td>https://www.airbnb.com/rooms/25946508?adults=1...</td>\n",
       "      <td>Dallas--TX--United-States</td>\n",
       "      <td>2022-10-23</td>\n",
       "      <td>2022-10-30</td>\n",
       "    </tr>\n",
       "    <tr>\n",
       "      <th>20</th>\n",
       "      <td></td>\n",
       "      <td></td>\n",
       "      <td>$50</td>\n",
       "      <td>$91</td>\n",
       "      <td>$612</td>\n",
       "      <td>Entire rental unit hosted by Alex</td>\n",
       "      <td>2</td>\n",
       "      <td>1</td>\n",
       "      <td>1</td>\n",
       "      <td>1</td>\n",
       "      <td>https://www.airbnb.com/rooms/51195626?adults=1...</td>\n",
       "      <td>Dallas--TX--United-States</td>\n",
       "      <td>2022-10-20</td>\n",
       "      <td>2022-10-27</td>\n",
       "    </tr>\n",
       "    <tr>\n",
       "      <th>21</th>\n",
       "      <td></td>\n",
       "      <td></td>\n",
       "      <td>$150</td>\n",
       "      <td>$53</td>\n",
       "      <td>$225</td>\n",
       "      <td>Entire rental unit hosted by Mark</td>\n",
       "      <td>4</td>\n",
       "      <td>1</td>\n",
       "      <td>1</td>\n",
       "      <td>0</td>\n",
       "      <td>https://www.airbnb.com/rooms/71574062113805253...</td>\n",
       "      <td>Dallas--TX--United-States</td>\n",
       "      <td>2022-10-23</td>\n",
       "      <td>2022-10-29</td>\n",
       "    </tr>\n",
       "    <tr>\n",
       "      <th>22</th>\n",
       "      <td></td>\n",
       "      <td></td>\n",
       "      <td>$14</td>\n",
       "      <td>$17</td>\n",
       "      <td>$112</td>\n",
       "      <td>Shared room in home hosted by R And R Hostel</td>\n",
       "      <td>1</td>\n",
       "      <td>1</td>\n",
       "      <td>1</td>\n",
       "      <td>2</td>\n",
       "      <td>https://www.airbnb.com/rooms/37972828?adults=1...</td>\n",
       "      <td>Dallas--TX--United-States</td>\n",
       "      <td>2022-10-25</td>\n",
       "      <td>2022-11-01</td>\n",
       "    </tr>\n",
       "    <tr>\n",
       "      <th>23</th>\n",
       "      <td></td>\n",
       "      <td></td>\n",
       "      <td>$40</td>\n",
       "      <td>$37</td>\n",
       "      <td>$288</td>\n",
       "      <td>Entire home hosted by Arturo</td>\n",
       "      <td>2</td>\n",
       "      <td>1</td>\n",
       "      <td>1</td>\n",
       "      <td>1</td>\n",
       "      <td>https://www.airbnb.com/rooms/17461325?adults=1...</td>\n",
       "      <td>Dallas--TX--United-States</td>\n",
       "      <td>2022-10-30</td>\n",
       "      <td>2022-11-04</td>\n",
       "    </tr>\n",
       "    <tr>\n",
       "      <th>24</th>\n",
       "      <td></td>\n",
       "      <td></td>\n",
       "      <td>$6</td>\n",
       "      <td>$47</td>\n",
       "      <td>$350</td>\n",
       "      <td>Private room in home hosted by Candace And Tarun</td>\n",
       "      <td>2</td>\n",
       "      <td>1</td>\n",
       "      <td>1</td>\n",
       "      <td>1</td>\n",
       "      <td>https://www.airbnb.com/rooms/50814071?adults=1...</td>\n",
       "      <td>Dallas--TX--United-States</td>\n",
       "      <td>2022-10-28</td>\n",
       "      <td>2022-11-04</td>\n",
       "    </tr>\n",
       "    <tr>\n",
       "      <th>25</th>\n",
       "      <td></td>\n",
       "      <td></td>\n",
       "      <td>$40</td>\n",
       "      <td>$60</td>\n",
       "      <td>$385</td>\n",
       "      <td>Entire rental unit hosted by Heath</td>\n",
       "      <td>2</td>\n",
       "      <td>1</td>\n",
       "      <td>1</td>\n",
       "      <td>1</td>\n",
       "      <td>https://www.airbnb.com/rooms/73553699999423263...</td>\n",
       "      <td>Dallas--TX--United-States</td>\n",
       "      <td>2022-10-30</td>\n",
       "      <td>2022-11-04</td>\n",
       "    </tr>\n",
       "    <tr>\n",
       "      <th>26</th>\n",
       "      <td></td>\n",
       "      <td></td>\n",
       "      <td>$12</td>\n",
       "      <td>$28</td>\n",
       "      <td>$186</td>\n",
       "      <td>Private room in home hosted by R And R Hostel</td>\n",
       "      <td>2</td>\n",
       "      <td>1</td>\n",
       "      <td>1</td>\n",
       "      <td>2</td>\n",
       "      <td>https://www.airbnb.com/rooms/25945977?adults=1...</td>\n",
       "      <td>Dallas--TX--United-States</td>\n",
       "      <td>2022-10-26</td>\n",
       "      <td>2022-11-01</td>\n",
       "    </tr>\n",
       "    <tr>\n",
       "      <th>27</th>\n",
       "      <td></td>\n",
       "      <td></td>\n",
       "      <td>$60</td>\n",
       "      <td>$50</td>\n",
       "      <td>$293</td>\n",
       "      <td>Entire rental unit hosted by Mj</td>\n",
       "      <td>3</td>\n",
       "      <td>1</td>\n",
       "      <td>1</td>\n",
       "      <td>1</td>\n",
       "      <td>https://www.airbnb.com/rooms/70125449950479264...</td>\n",
       "      <td>Dallas--TX--United-States</td>\n",
       "      <td>2022-10-30</td>\n",
       "      <td>2022-11-04</td>\n",
       "    </tr>\n",
       "    <tr>\n",
       "      <th>28</th>\n",
       "      <td></td>\n",
       "      <td></td>\n",
       "      <td>$75</td>\n",
       "      <td>$42</td>\n",
       "      <td>$221</td>\n",
       "      <td>Entire home hosted by Corey</td>\n",
       "      <td>3</td>\n",
       "      <td>1</td>\n",
       "      <td>1</td>\n",
       "      <td>1</td>\n",
       "      <td>https://www.airbnb.com/rooms/70381521074261171...</td>\n",
       "      <td>Dallas--TX--United-States</td>\n",
       "      <td>2022-10-24</td>\n",
       "      <td>2022-10-29</td>\n",
       "    </tr>\n",
       "    <tr>\n",
       "      <th>29</th>\n",
       "      <td></td>\n",
       "      <td></td>\n",
       "      <td>NaN</td>\n",
       "      <td>$22</td>\n",
       "      <td>$161</td>\n",
       "      <td>Shared room in home hosted by Keerthi</td>\n",
       "      <td>1</td>\n",
       "      <td>1</td>\n",
       "      <td>1</td>\n",
       "      <td>2</td>\n",
       "      <td>https://www.airbnb.com/rooms/50128742?adults=1...</td>\n",
       "      <td>Dallas--TX--United-States</td>\n",
       "      <td>2022-10-19</td>\n",
       "      <td>2022-10-26</td>\n",
       "    </tr>\n",
       "    <tr>\n",
       "      <th>30</th>\n",
       "      <td></td>\n",
       "      <td></td>\n",
       "      <td>$100</td>\n",
       "      <td>$86</td>\n",
       "      <td>$598</td>\n",
       "      <td>Entire rental unit hosted by Madeline</td>\n",
       "      <td>4</td>\n",
       "      <td>1</td>\n",
       "      <td>1</td>\n",
       "      <td>1</td>\n",
       "      <td>https://www.airbnb.com/rooms/71435587410870119...</td>\n",
       "      <td>Dallas--TX--United-States</td>\n",
       "      <td>2022-10-19</td>\n",
       "      <td>2022-10-26</td>\n",
       "    </tr>\n",
       "    <tr>\n",
       "      <th>31</th>\n",
       "      <td></td>\n",
       "      <td></td>\n",
       "      <td>$15</td>\n",
       "      <td>$34</td>\n",
       "      <td>$247</td>\n",
       "      <td>Private room in rental unit hosted by E</td>\n",
       "      <td>2</td>\n",
       "      <td>1</td>\n",
       "      <td>1</td>\n",
       "      <td>1</td>\n",
       "      <td>https://www.airbnb.com/rooms/51193890?adults=1...</td>\n",
       "      <td>Dallas--TX--United-States</td>\n",
       "      <td>2022-10-24</td>\n",
       "      <td>2022-10-30</td>\n",
       "    </tr>\n",
       "    <tr>\n",
       "      <th>32</th>\n",
       "      <td></td>\n",
       "      <td></td>\n",
       "      <td>$70</td>\n",
       "      <td>$61</td>\n",
       "      <td>$364</td>\n",
       "      <td>Entire rental unit hosted by Y.H.</td>\n",
       "      <td>4</td>\n",
       "      <td>1</td>\n",
       "      <td>1</td>\n",
       "      <td>1</td>\n",
       "      <td>https://www.airbnb.com/rooms/49320833?adults=1...</td>\n",
       "      <td>Dallas--TX--United-States</td>\n",
       "      <td>2022-10-23</td>\n",
       "      <td>2022-10-28</td>\n",
       "    </tr>\n",
       "  </tbody>\n",
       "</table>\n",
       "</div>"
      ],
      "text/plain": [
       "   weekly_discount long_stay_discount cleaning_fee service_fee  \\\n",
       "0                                             $100         $82   \n",
       "1                                              $30         $54   \n",
       "2                                             $110        $131   \n",
       "3                                              NaN         $24   \n",
       "4                                              $59         $61   \n",
       "5                                              $75         $74   \n",
       "6                                              $15         $56   \n",
       "7                                               $7         $43   \n",
       "8                                              $30         $59   \n",
       "9                                             $150         $52   \n",
       "10                                             $70         $66   \n",
       "11                                             $30         $48   \n",
       "12                                             $50         $50   \n",
       "13                                            $125         $76   \n",
       "14                                             $48         $65   \n",
       "15                                             NaN         $23   \n",
       "16                                             $70         $63   \n",
       "17                                             $50         $94   \n",
       "18                                             $40         $56   \n",
       "19                                             $12         $17   \n",
       "20                                             $50         $91   \n",
       "21                                            $150         $53   \n",
       "22                                             $14         $17   \n",
       "23                                             $40         $37   \n",
       "24                                              $6         $47   \n",
       "25                                             $40         $60   \n",
       "26                                             $12         $28   \n",
       "27                                             $60         $50   \n",
       "28                                             $75         $42   \n",
       "29                                             NaN         $22   \n",
       "30                                            $100         $86   \n",
       "31                                             $15         $34   \n",
       "32                                             $70         $61   \n",
       "\n",
       "   price_minus_fees                                             title guest  \\\n",
       "0              $600                      Entire condo hosted by Kevin     2   \n",
       "1              $350                         Tiny home hosted by Grady     2   \n",
       "2              $824                  Entire rental unit hosted by Jen     4   \n",
       "3              $196     Private room in home hosted by R And R Hostel     1   \n",
       "4              $464            Entire rental unit hosted by Carpediem     2   \n",
       "5              $450                Entire guesthouse hosted by Elayna     2   \n",
       "6              $384                  Entire bungalow hosted by Stefan     2   \n",
       "7              $314               Private room in home hosted by Jack     2   \n",
       "8              $386                         Camper/RV hosted by Grady     2   \n",
       "9              $215                 Entire rental unit hosted by Mark     4   \n",
       "10             $398                       Entire condo hosted by Omar     3   \n",
       "11             $324        Private room in townhouse hosted by Andrea     2   \n",
       "12             $302                     Entire loft hosted by Simaiya     4   \n",
       "13             $415                Entire guesthouse hosted by Kelsie     2   \n",
       "14             $410                  Entire rental unit hosted by Val     2   \n",
       "15             $161           Shared room in home hosted by Host Team     1   \n",
       "16             $379                 Entire rental unit hosted by Y.H.     4   \n",
       "17             $615               Entire rental unit hosted by Prince     3   \n",
       "18             $471                      Entire home hosted by Arturo     2   \n",
       "19             $112      Shared room in home hosted by R And R Hostel     1   \n",
       "20             $612                 Entire rental unit hosted by Alex     2   \n",
       "21             $225                 Entire rental unit hosted by Mark     4   \n",
       "22             $112      Shared room in home hosted by R And R Hostel     1   \n",
       "23             $288                      Entire home hosted by Arturo     2   \n",
       "24             $350  Private room in home hosted by Candace And Tarun     2   \n",
       "25             $385                Entire rental unit hosted by Heath     2   \n",
       "26             $186     Private room in home hosted by R And R Hostel     2   \n",
       "27             $293                   Entire rental unit hosted by Mj     3   \n",
       "28             $221                       Entire home hosted by Corey     3   \n",
       "29             $161             Shared room in home hosted by Keerthi     1   \n",
       "30             $598             Entire rental unit hosted by Madeline     4   \n",
       "31             $247           Private room in rental unit hosted by E     2   \n",
       "32             $364                 Entire rental unit hosted by Y.H.     4   \n",
       "\n",
       "   bedrooms beds baths                                                url  \\\n",
       "0         1    1     1  https://www.airbnb.com/rooms/73539817214550286...   \n",
       "1         1    1     1  https://www.airbnb.com/rooms/15342315?adults=1...   \n",
       "2         1    2     1  https://www.airbnb.com/rooms/46581123?adults=1...   \n",
       "3         1    1     1  https://www.airbnb.com/rooms/73090942173103176...   \n",
       "4         1    1     1  https://www.airbnb.com/rooms/69420558176578361...   \n",
       "5         1    1     1  https://www.airbnb.com/rooms/46852636?adults=1...   \n",
       "6       NaN    1     1  https://www.airbnb.com/rooms/36598747?adults=1...   \n",
       "7         1    1     1  https://www.airbnb.com/rooms/43124360?adults=1...   \n",
       "8         1    1     1  https://www.airbnb.com/rooms/24596033?adults=1...   \n",
       "9         1    1     1  https://www.airbnb.com/rooms/68311955881661587...   \n",
       "10        1    1     1  https://www.airbnb.com/rooms/54211198?adults=1...   \n",
       "11        1    2     1  https://www.airbnb.com/rooms/28465345?adults=1...   \n",
       "12        1    1     1  https://www.airbnb.com/rooms/67089461123550275...   \n",
       "13      NaN    1     1  https://www.airbnb.com/rooms/65242814698560133...   \n",
       "14      NaN    1     1  https://www.airbnb.com/rooms/49463654?adults=1...   \n",
       "15        1    1     2  https://www.airbnb.com/rooms/35006003?adults=1...   \n",
       "16        1    1     1  https://www.airbnb.com/rooms/52517747?adults=1...   \n",
       "17        1    1     1  https://www.airbnb.com/rooms/38738634?adults=1...   \n",
       "18        1    1     1  https://www.airbnb.com/rooms/28247241?adults=1...   \n",
       "19        1    1     2  https://www.airbnb.com/rooms/25946508?adults=1...   \n",
       "20        1    1     1  https://www.airbnb.com/rooms/51195626?adults=1...   \n",
       "21        1    1     0  https://www.airbnb.com/rooms/71574062113805253...   \n",
       "22        1    1     2  https://www.airbnb.com/rooms/37972828?adults=1...   \n",
       "23        1    1     1  https://www.airbnb.com/rooms/17461325?adults=1...   \n",
       "24        1    1     1  https://www.airbnb.com/rooms/50814071?adults=1...   \n",
       "25        1    1     1  https://www.airbnb.com/rooms/73553699999423263...   \n",
       "26        1    1     2  https://www.airbnb.com/rooms/25945977?adults=1...   \n",
       "27        1    1     1  https://www.airbnb.com/rooms/70125449950479264...   \n",
       "28        1    1     1  https://www.airbnb.com/rooms/70381521074261171...   \n",
       "29        1    1     2  https://www.airbnb.com/rooms/50128742?adults=1...   \n",
       "30        1    1     1  https://www.airbnb.com/rooms/71435587410870119...   \n",
       "31        1    1     1  https://www.airbnb.com/rooms/51193890?adults=1...   \n",
       "32        1    1     1  https://www.airbnb.com/rooms/49320833?adults=1...   \n",
       "\n",
       "                     location    check_in   check_out  \n",
       "0   Dallas--TX--United-States  2022-10-28  2022-11-03  \n",
       "1   Dallas--TX--United-States  2022-10-30  2022-11-04  \n",
       "2   Dallas--TX--United-States  2022-10-19  2022-10-26  \n",
       "3   Dallas--TX--United-States  2022-10-20  2022-10-25  \n",
       "4   Dallas--TX--United-States  2022-10-24  2022-10-30  \n",
       "5   Dallas--TX--United-States  2022-10-23  2022-10-28  \n",
       "6   Dallas--TX--United-States  2023-01-02  2023-01-08  \n",
       "7   Dallas--TX--United-States  2022-10-19  2022-10-26  \n",
       "8   Dallas--TX--United-States  2022-10-23  2022-10-29  \n",
       "9   Dallas--TX--United-States  2022-10-23  2022-10-29  \n",
       "10  Dallas--TX--United-States  2022-11-05  2022-11-11  \n",
       "11  Dallas--TX--United-States  2022-10-28  2022-11-04  \n",
       "12  Dallas--TX--United-States  2022-11-06  2022-11-11  \n",
       "13  Dallas--TX--United-States  2022-10-23  2022-10-29  \n",
       "14  Dallas--TX--United-States  2022-10-23  2022-10-28  \n",
       "15  Dallas--TX--United-States  2022-10-31  2022-11-05  \n",
       "16  Dallas--TX--United-States  2022-10-24  2022-10-29  \n",
       "17  Dallas--TX--United-States  2022-10-23  2022-10-30  \n",
       "18  Dallas--TX--United-States  2022-11-08  2022-11-15  \n",
       "19  Dallas--TX--United-States  2022-10-23  2022-10-30  \n",
       "20  Dallas--TX--United-States  2022-10-20  2022-10-27  \n",
       "21  Dallas--TX--United-States  2022-10-23  2022-10-29  \n",
       "22  Dallas--TX--United-States  2022-10-25  2022-11-01  \n",
       "23  Dallas--TX--United-States  2022-10-30  2022-11-04  \n",
       "24  Dallas--TX--United-States  2022-10-28  2022-11-04  \n",
       "25  Dallas--TX--United-States  2022-10-30  2022-11-04  \n",
       "26  Dallas--TX--United-States  2022-10-26  2022-11-01  \n",
       "27  Dallas--TX--United-States  2022-10-30  2022-11-04  \n",
       "28  Dallas--TX--United-States  2022-10-24  2022-10-29  \n",
       "29  Dallas--TX--United-States  2022-10-19  2022-10-26  \n",
       "30  Dallas--TX--United-States  2022-10-19  2022-10-26  \n",
       "31  Dallas--TX--United-States  2022-10-24  2022-10-30  \n",
       "32  Dallas--TX--United-States  2022-10-23  2022-10-28  "
      ]
     },
     "execution_count": 13,
     "metadata": {},
     "output_type": "execute_result"
    },
    {
     "data": {
      "application/vnd.deepnote.dataframe.v3+json": {
       "column_count": 14,
       "columns": [
        {
         "dtype": "object",
         "name": "weekly_discount",
         "stats": {
          "categories": [
           {
            "count": 3391,
            "name": ""
           }
          ],
          "nan_count": 0,
          "unique_count": 1
         }
        },
        {
         "dtype": "object",
         "name": "long_stay_discount",
         "stats": {
          "categories": [
           {
            "count": 3390,
            "name": ""
           },
           {
            "count": 1,
            "name": "-$181"
           }
          ],
          "nan_count": 0,
          "unique_count": 2
         }
        },
        {
         "dtype": "object",
         "name": "cleaning_fee",
         "stats": {
          "categories": [
           {
            "count": 168,
            "name": "$50"
           },
           {
            "count": 2769,
            "name": "154 others"
           },
           {
            "count": 454,
            "name": "Missing"
           }
          ],
          "nan_count": 454,
          "unique_count": 155
         }
        },
        {
         "dtype": "object",
         "name": "service_fee",
         "stats": {
          "categories": [
           {
            "count": 217,
            "name": "$0"
           },
           {
            "count": 3165,
            "name": "273 others"
           },
           {
            "count": 9,
            "name": "Missing"
           }
          ],
          "nan_count": 9,
          "unique_count": 274
         }
        },
        {
         "dtype": "object",
         "name": "price_minus_fees",
         "stats": {
          "categories": [
           {
            "count": 22,
            "name": "$450"
           },
           {
            "count": 21,
            "name": "$470"
           },
           {
            "count": 3348,
            "name": "1019 others"
           }
          ],
          "nan_count": 0,
          "unique_count": 1021
         }
        },
        {
         "dtype": "object",
         "name": "title",
         "stats": {
          "categories": [
           {
            "count": 25,
            "name": "Entire rental unit hosted by Shirlene"
           },
           {
            "count": 16,
            "name": "Entire rental unit hosted by Alex"
           },
           {
            "count": 3350,
            "name": "2519 others"
           }
          ],
          "nan_count": 0,
          "unique_count": 2521
         }
        },
        {
         "dtype": "object",
         "name": "guest",
         "stats": {
          "categories": [
           {
            "count": 1769,
            "name": "2"
           },
           {
            "count": 663,
            "name": "1"
           },
           {
            "count": 959,
            "name": "11 others"
           }
          ],
          "nan_count": 0,
          "unique_count": 13
         }
        },
        {
         "dtype": "object",
         "name": "bedrooms",
         "stats": {
          "categories": [
           {
            "count": 2731,
            "name": "1"
           },
           {
            "count": 254,
            "name": "4 others"
           },
           {
            "count": 406,
            "name": "Missing"
           }
          ],
          "nan_count": 406,
          "unique_count": 5
         }
        },
        {
         "dtype": "object",
         "name": "beds",
         "stats": {
          "categories": [
           {
            "count": 2543,
            "name": "1"
           },
           {
            "count": 794,
            "name": "8 others"
           },
           {
            "count": 54,
            "name": "Missing"
           }
          ],
          "nan_count": 54,
          "unique_count": 9
         }
        },
        {
         "dtype": "object",
         "name": "baths",
         "stats": {
          "categories": [
           {
            "count": 2930,
            "name": "1"
           },
           {
            "count": 459,
            "name": "15 others"
           },
           {
            "count": 2,
            "name": "Missing"
           }
          ],
          "nan_count": 2,
          "unique_count": 16
         }
        },
        {
         "dtype": "object",
         "name": "url",
         "stats": {
          "categories": [
           {
            "count": 1,
            "name": "https://www.airbnb.com/rooms/735398172145502861?adults=1&children=0&infants=0&check_in=2022-10-28&check_out=2022-11-03&previous_page_section_name=1000&federated_search_id=bb30f05c-76ab-4205-b311-a090ba31f3fa"
           },
           {
            "count": 1,
            "name": "https://www.airbnb.com/rooms/15342315?adults=1&children=0&infants=0&check_in=2022-10-30&check_out=2022-11-04&previous_page_section_name=1000&federated_search_id=bb30f05c-76ab-4205-b311-a090ba31f3fa"
           },
           {
            "count": 3389,
            "name": "3389 others"
           }
          ],
          "nan_count": 0,
          "unique_count": 3391
         }
        },
        {
         "dtype": "object",
         "name": "location",
         "stats": {
          "categories": [
           {
            "count": 295,
            "name": "Dallas--TX--United-States"
           },
           {
            "count": 292,
            "name": "Austin--TX--United-States"
           },
           {
            "count": 2804,
            "name": "10 others"
           }
          ],
          "nan_count": 0,
          "unique_count": 12
         }
        },
        {
         "dtype": "object",
         "name": "check_in",
         "stats": {
          "categories": [
           {
            "count": 225,
            "name": "2022-10-23"
           },
           {
            "count": 189,
            "name": "2022-10-30"
           },
           {
            "count": 2977,
            "name": "212 others"
           }
          ],
          "nan_count": 0,
          "unique_count": 214
         }
        },
        {
         "dtype": "object",
         "name": "check_out",
         "stats": {
          "categories": [
           {
            "count": 168,
            "name": "2022-10-28"
           },
           {
            "count": 167,
            "name": "2022-11-04"
           },
           {
            "count": 3056,
            "name": "210 others"
           }
          ],
          "nan_count": 0,
          "unique_count": 212
         }
        },
        {
         "dtype": "int64",
         "name": "_deepnote_index_column"
        }
       ],
       "row_count": 3391,
       "rows": [
        {
         "_deepnote_index_column": "0",
         "baths": "1",
         "bedrooms": "1",
         "beds": "1",
         "check_in": "2022-10-28",
         "check_out": "2022-11-03",
         "cleaning_fee": "$100",
         "guest": "2",
         "location": "Dallas--TX--United-States",
         "long_stay_discount": "",
         "price_minus_fees": "$600",
         "service_fee": "$82",
         "title": "Entire condo hosted by Kevin",
         "url": "https://www.airbnb.com/rooms/735398172145502861?adults=1&children=0&infants=0&check_in=2022-10-28&check_out=2022-11-03&previous_page_section_name=1000&federated_search_id=bb30f05c-76ab-4205-b311-a090ba31f3fa",
         "weekly_discount": ""
        },
        {
         "_deepnote_index_column": "1",
         "baths": "1",
         "bedrooms": "1",
         "beds": "1",
         "check_in": "2022-10-30",
         "check_out": "2022-11-04",
         "cleaning_fee": "$30",
         "guest": "2",
         "location": "Dallas--TX--United-States",
         "long_stay_discount": "",
         "price_minus_fees": "$350",
         "service_fee": "$54",
         "title": "Tiny home hosted by Grady",
         "url": "https://www.airbnb.com/rooms/15342315?adults=1&children=0&infants=0&check_in=2022-10-30&check_out=2022-11-04&previous_page_section_name=1000&federated_search_id=bb30f05c-76ab-4205-b311-a090ba31f3fa",
         "weekly_discount": ""
        },
        {
         "_deepnote_index_column": "2",
         "baths": "1",
         "bedrooms": "1",
         "beds": "2",
         "check_in": "2022-10-19",
         "check_out": "2022-10-26",
         "cleaning_fee": "$110",
         "guest": "4",
         "location": "Dallas--TX--United-States",
         "long_stay_discount": "",
         "price_minus_fees": "$824",
         "service_fee": "$131",
         "title": "Entire rental unit hosted by Jen",
         "url": "https://www.airbnb.com/rooms/46581123?adults=1&children=0&infants=0&check_in=2022-10-19&check_out=2022-10-26&previous_page_section_name=1000&federated_search_id=bb30f05c-76ab-4205-b311-a090ba31f3fa",
         "weekly_discount": ""
        },
        {
         "_deepnote_index_column": "3",
         "baths": "1",
         "bedrooms": "1",
         "beds": "1",
         "check_in": "2022-10-20",
         "check_out": "2022-10-25",
         "cleaning_fee": "nan",
         "guest": "1",
         "location": "Dallas--TX--United-States",
         "long_stay_discount": "",
         "price_minus_fees": "$196",
         "service_fee": "$24",
         "title": "Private room in home hosted by R And R Hostel",
         "url": "https://www.airbnb.com/rooms/730909421731031765?adults=1&children=0&infants=0&check_in=2022-10-20&check_out=2022-10-25&previous_page_section_name=1000&federated_search_id=bb30f05c-76ab-4205-b311-a090ba31f3fa",
         "weekly_discount": ""
        },
        {
         "_deepnote_index_column": "4",
         "baths": "1",
         "bedrooms": "1",
         "beds": "1",
         "check_in": "2022-10-24",
         "check_out": "2022-10-30",
         "cleaning_fee": "$59",
         "guest": "2",
         "location": "Dallas--TX--United-States",
         "long_stay_discount": "",
         "price_minus_fees": "$464",
         "service_fee": "$61",
         "title": "Entire rental unit hosted by Carpediem",
         "url": "https://www.airbnb.com/rooms/694205581765783612?adults=1&children=0&infants=0&check_in=2022-10-24&check_out=2022-10-30&previous_page_section_name=1000&federated_search_id=bb30f05c-76ab-4205-b311-a090ba31f3fa",
         "weekly_discount": ""
        },
        {
         "_deepnote_index_column": "5",
         "baths": "1",
         "bedrooms": "1",
         "beds": "1",
         "check_in": "2022-10-23",
         "check_out": "2022-10-28",
         "cleaning_fee": "$75",
         "guest": "2",
         "location": "Dallas--TX--United-States",
         "long_stay_discount": "",
         "price_minus_fees": "$450",
         "service_fee": "$74",
         "title": "Entire guesthouse hosted by Elayna",
         "url": "https://www.airbnb.com/rooms/46852636?adults=1&children=0&infants=0&check_in=2022-10-23&check_out=2022-10-28&previous_page_section_name=1000&federated_search_id=bb30f05c-76ab-4205-b311-a090ba31f3fa",
         "weekly_discount": ""
        },
        {
         "_deepnote_index_column": "6",
         "baths": "1",
         "bedrooms": "nan",
         "beds": "1",
         "check_in": "2023-01-02",
         "check_out": "2023-01-08",
         "cleaning_fee": "$15",
         "guest": "2",
         "location": "Dallas--TX--United-States",
         "long_stay_discount": "",
         "price_minus_fees": "$384",
         "service_fee": "$56",
         "title": "Entire bungalow hosted by Stefan",
         "url": "https://www.airbnb.com/rooms/36598747?adults=1&children=0&infants=0&check_in=2023-01-02&check_out=2023-01-08&previous_page_section_name=1000&federated_search_id=bb30f05c-76ab-4205-b311-a090ba31f3fa",
         "weekly_discount": ""
        },
        {
         "_deepnote_index_column": "7",
         "baths": "1",
         "bedrooms": "1",
         "beds": "1",
         "check_in": "2022-10-19",
         "check_out": "2022-10-26",
         "cleaning_fee": "$7",
         "guest": "2",
         "location": "Dallas--TX--United-States",
         "long_stay_discount": "",
         "price_minus_fees": "$314",
         "service_fee": "$43",
         "title": "Private room in home hosted by Jack",
         "url": "https://www.airbnb.com/rooms/43124360?adults=1&children=0&infants=0&check_in=2022-10-19&check_out=2022-10-26&previous_page_section_name=1000&federated_search_id=bb30f05c-76ab-4205-b311-a090ba31f3fa",
         "weekly_discount": ""
        },
        {
         "_deepnote_index_column": "8",
         "baths": "1",
         "bedrooms": "1",
         "beds": "1",
         "check_in": "2022-10-23",
         "check_out": "2022-10-29",
         "cleaning_fee": "$30",
         "guest": "2",
         "location": "Dallas--TX--United-States",
         "long_stay_discount": "",
         "price_minus_fees": "$386",
         "service_fee": "$59",
         "title": "Camper/RV hosted by Grady",
         "url": "https://www.airbnb.com/rooms/24596033?adults=1&children=0&infants=0&check_in=2022-10-23&check_out=2022-10-29&previous_page_section_name=1000&federated_search_id=bb30f05c-76ab-4205-b311-a090ba31f3fa",
         "weekly_discount": ""
        },
        {
         "_deepnote_index_column": "9",
         "baths": "1",
         "bedrooms": "1",
         "beds": "1",
         "check_in": "2022-10-23",
         "check_out": "2022-10-29",
         "cleaning_fee": "$150",
         "guest": "4",
         "location": "Dallas--TX--United-States",
         "long_stay_discount": "",
         "price_minus_fees": "$215",
         "service_fee": "$52",
         "title": "Entire rental unit hosted by Mark",
         "url": "https://www.airbnb.com/rooms/683119558816615877?adults=1&children=0&infants=0&check_in=2022-10-23&check_out=2022-10-29&previous_page_section_name=1000&federated_search_id=bb30f05c-76ab-4205-b311-a090ba31f3fa",
         "weekly_discount": ""
        }
       ]
      },
      "text/html": [
       "<div>\n",
       "<style scoped>\n",
       "    .dataframe tbody tr th:only-of-type {\n",
       "        vertical-align: middle;\n",
       "    }\n",
       "\n",
       "    .dataframe tbody tr th {\n",
       "        vertical-align: top;\n",
       "    }\n",
       "\n",
       "    .dataframe thead th {\n",
       "        text-align: right;\n",
       "    }\n",
       "</style>\n",
       "<table border=\"1\" class=\"dataframe\">\n",
       "  <thead>\n",
       "    <tr style=\"text-align: right;\">\n",
       "      <th></th>\n",
       "      <th>weekly_discount</th>\n",
       "      <th>long_stay_discount</th>\n",
       "      <th>cleaning_fee</th>\n",
       "      <th>service_fee</th>\n",
       "      <th>price_minus_fees</th>\n",
       "      <th>title</th>\n",
       "      <th>guest</th>\n",
       "      <th>bedrooms</th>\n",
       "      <th>beds</th>\n",
       "      <th>baths</th>\n",
       "      <th>url</th>\n",
       "      <th>location</th>\n",
       "      <th>check_in</th>\n",
       "      <th>check_out</th>\n",
       "    </tr>\n",
       "  </thead>\n",
       "  <tbody>\n",
       "    <tr>\n",
       "      <th>0</th>\n",
       "      <td></td>\n",
       "      <td></td>\n",
       "      <td>$100</td>\n",
       "      <td>$82</td>\n",
       "      <td>$600</td>\n",
       "      <td>Entire condo hosted by Kevin</td>\n",
       "      <td>2</td>\n",
       "      <td>1</td>\n",
       "      <td>1</td>\n",
       "      <td>1</td>\n",
       "      <td>https://www.airbnb.com/rooms/73539817214550286...</td>\n",
       "      <td>Dallas--TX--United-States</td>\n",
       "      <td>2022-10-28</td>\n",
       "      <td>2022-11-03</td>\n",
       "    </tr>\n",
       "    <tr>\n",
       "      <th>1</th>\n",
       "      <td></td>\n",
       "      <td></td>\n",
       "      <td>$30</td>\n",
       "      <td>$54</td>\n",
       "      <td>$350</td>\n",
       "      <td>Tiny home hosted by Grady</td>\n",
       "      <td>2</td>\n",
       "      <td>1</td>\n",
       "      <td>1</td>\n",
       "      <td>1</td>\n",
       "      <td>https://www.airbnb.com/rooms/15342315?adults=1...</td>\n",
       "      <td>Dallas--TX--United-States</td>\n",
       "      <td>2022-10-30</td>\n",
       "      <td>2022-11-04</td>\n",
       "    </tr>\n",
       "    <tr>\n",
       "      <th>2</th>\n",
       "      <td></td>\n",
       "      <td></td>\n",
       "      <td>$110</td>\n",
       "      <td>$131</td>\n",
       "      <td>$824</td>\n",
       "      <td>Entire rental unit hosted by Jen</td>\n",
       "      <td>4</td>\n",
       "      <td>1</td>\n",
       "      <td>2</td>\n",
       "      <td>1</td>\n",
       "      <td>https://www.airbnb.com/rooms/46581123?adults=1...</td>\n",
       "      <td>Dallas--TX--United-States</td>\n",
       "      <td>2022-10-19</td>\n",
       "      <td>2022-10-26</td>\n",
       "    </tr>\n",
       "    <tr>\n",
       "      <th>3</th>\n",
       "      <td></td>\n",
       "      <td></td>\n",
       "      <td>NaN</td>\n",
       "      <td>$24</td>\n",
       "      <td>$196</td>\n",
       "      <td>Private room in home hosted by R And R Hostel</td>\n",
       "      <td>1</td>\n",
       "      <td>1</td>\n",
       "      <td>1</td>\n",
       "      <td>1</td>\n",
       "      <td>https://www.airbnb.com/rooms/73090942173103176...</td>\n",
       "      <td>Dallas--TX--United-States</td>\n",
       "      <td>2022-10-20</td>\n",
       "      <td>2022-10-25</td>\n",
       "    </tr>\n",
       "    <tr>\n",
       "      <th>4</th>\n",
       "      <td></td>\n",
       "      <td></td>\n",
       "      <td>$59</td>\n",
       "      <td>$61</td>\n",
       "      <td>$464</td>\n",
       "      <td>Entire rental unit hosted by Carpediem</td>\n",
       "      <td>2</td>\n",
       "      <td>1</td>\n",
       "      <td>1</td>\n",
       "      <td>1</td>\n",
       "      <td>https://www.airbnb.com/rooms/69420558176578361...</td>\n",
       "      <td>Dallas--TX--United-States</td>\n",
       "      <td>2022-10-24</td>\n",
       "      <td>2022-10-30</td>\n",
       "    </tr>\n",
       "    <tr>\n",
       "      <th>...</th>\n",
       "      <td>...</td>\n",
       "      <td>...</td>\n",
       "      <td>...</td>\n",
       "      <td>...</td>\n",
       "      <td>...</td>\n",
       "      <td>...</td>\n",
       "      <td>...</td>\n",
       "      <td>...</td>\n",
       "      <td>...</td>\n",
       "      <td>...</td>\n",
       "      <td>...</td>\n",
       "      <td>...</td>\n",
       "      <td>...</td>\n",
       "      <td>...</td>\n",
       "    </tr>\n",
       "    <tr>\n",
       "      <th>3386</th>\n",
       "      <td></td>\n",
       "      <td></td>\n",
       "      <td>$49</td>\n",
       "      <td>$0</td>\n",
       "      <td>$953</td>\n",
       "      <td>Entire rental unit hosted by Marie</td>\n",
       "      <td>3</td>\n",
       "      <td>2</td>\n",
       "      <td>2</td>\n",
       "      <td>1</td>\n",
       "      <td>https://www.airbnb.com/rooms/65582697587414494...</td>\n",
       "      <td>Paris</td>\n",
       "      <td>2023-02-01</td>\n",
       "      <td>2023-02-06</td>\n",
       "    </tr>\n",
       "    <tr>\n",
       "      <th>3387</th>\n",
       "      <td></td>\n",
       "      <td></td>\n",
       "      <td>NaN</td>\n",
       "      <td>$116</td>\n",
       "      <td>$822</td>\n",
       "      <td>Entire rental unit hosted by Vanessa</td>\n",
       "      <td>4</td>\n",
       "      <td>2</td>\n",
       "      <td>2</td>\n",
       "      <td>1</td>\n",
       "      <td>https://www.airbnb.com/rooms/34830963?adults=1...</td>\n",
       "      <td>Paris</td>\n",
       "      <td>2022-12-13</td>\n",
       "      <td>2022-12-18</td>\n",
       "    </tr>\n",
       "    <tr>\n",
       "      <th>3388</th>\n",
       "      <td></td>\n",
       "      <td></td>\n",
       "      <td>NaN</td>\n",
       "      <td>$22</td>\n",
       "      <td>$157</td>\n",
       "      <td>Private room in townhouse hosted by Marie</td>\n",
       "      <td>1</td>\n",
       "      <td>1</td>\n",
       "      <td>NaN</td>\n",
       "      <td>1.5</td>\n",
       "      <td>https://www.airbnb.com/rooms/45496636?adults=1...</td>\n",
       "      <td>Paris</td>\n",
       "      <td>2023-08-01</td>\n",
       "      <td>2023-08-06</td>\n",
       "    </tr>\n",
       "    <tr>\n",
       "      <th>3389</th>\n",
       "      <td></td>\n",
       "      <td></td>\n",
       "      <td>$39</td>\n",
       "      <td>$82</td>\n",
       "      <td>$538</td>\n",
       "      <td>Entire rental unit hosted by Margaux</td>\n",
       "      <td>2</td>\n",
       "      <td>1</td>\n",
       "      <td>1</td>\n",
       "      <td>1</td>\n",
       "      <td>https://www.airbnb.com/rooms/18545424?adults=1...</td>\n",
       "      <td>Paris</td>\n",
       "      <td>2023-01-04</td>\n",
       "      <td>2023-01-09</td>\n",
       "    </tr>\n",
       "    <tr>\n",
       "      <th>3390</th>\n",
       "      <td></td>\n",
       "      <td></td>\n",
       "      <td>$15</td>\n",
       "      <td>$108</td>\n",
       "      <td>$753</td>\n",
       "      <td>Entire rental unit hosted by Adeline</td>\n",
       "      <td>2</td>\n",
       "      <td>1</td>\n",
       "      <td>1</td>\n",
       "      <td>1</td>\n",
       "      <td>https://www.airbnb.com/rooms/47823298?adults=1...</td>\n",
       "      <td>Paris</td>\n",
       "      <td>2022-11-06</td>\n",
       "      <td>2022-11-13</td>\n",
       "    </tr>\n",
       "  </tbody>\n",
       "</table>\n",
       "<p>3391 rows × 14 columns</p>\n",
       "</div>"
      ],
      "text/plain": [
       "     weekly_discount long_stay_discount cleaning_fee service_fee  \\\n",
       "0                                               $100         $82   \n",
       "1                                                $30         $54   \n",
       "2                                               $110        $131   \n",
       "3                                                NaN         $24   \n",
       "4                                                $59         $61   \n",
       "...              ...                ...          ...         ...   \n",
       "3386                                             $49          $0   \n",
       "3387                                             NaN        $116   \n",
       "3388                                             NaN         $22   \n",
       "3389                                             $39         $82   \n",
       "3390                                             $15        $108   \n",
       "\n",
       "     price_minus_fees                                          title guest  \\\n",
       "0                $600                   Entire condo hosted by Kevin     2   \n",
       "1                $350                      Tiny home hosted by Grady     2   \n",
       "2                $824               Entire rental unit hosted by Jen     4   \n",
       "3                $196  Private room in home hosted by R And R Hostel     1   \n",
       "4                $464         Entire rental unit hosted by Carpediem     2   \n",
       "...               ...                                            ...   ...   \n",
       "3386             $953             Entire rental unit hosted by Marie     3   \n",
       "3387             $822           Entire rental unit hosted by Vanessa     4   \n",
       "3388             $157      Private room in townhouse hosted by Marie     1   \n",
       "3389             $538           Entire rental unit hosted by Margaux     2   \n",
       "3390             $753           Entire rental unit hosted by Adeline     2   \n",
       "\n",
       "     bedrooms beds baths                                                url  \\\n",
       "0           1    1     1  https://www.airbnb.com/rooms/73539817214550286...   \n",
       "1           1    1     1  https://www.airbnb.com/rooms/15342315?adults=1...   \n",
       "2           1    2     1  https://www.airbnb.com/rooms/46581123?adults=1...   \n",
       "3           1    1     1  https://www.airbnb.com/rooms/73090942173103176...   \n",
       "4           1    1     1  https://www.airbnb.com/rooms/69420558176578361...   \n",
       "...       ...  ...   ...                                                ...   \n",
       "3386        2    2     1  https://www.airbnb.com/rooms/65582697587414494...   \n",
       "3387        2    2     1  https://www.airbnb.com/rooms/34830963?adults=1...   \n",
       "3388        1  NaN   1.5  https://www.airbnb.com/rooms/45496636?adults=1...   \n",
       "3389        1    1     1  https://www.airbnb.com/rooms/18545424?adults=1...   \n",
       "3390        1    1     1  https://www.airbnb.com/rooms/47823298?adults=1...   \n",
       "\n",
       "                       location    check_in   check_out  \n",
       "0     Dallas--TX--United-States  2022-10-28  2022-11-03  \n",
       "1     Dallas--TX--United-States  2022-10-30  2022-11-04  \n",
       "2     Dallas--TX--United-States  2022-10-19  2022-10-26  \n",
       "3     Dallas--TX--United-States  2022-10-20  2022-10-25  \n",
       "4     Dallas--TX--United-States  2022-10-24  2022-10-30  \n",
       "...                         ...         ...         ...  \n",
       "3386                      Paris  2023-02-01  2023-02-06  \n",
       "3387                      Paris  2022-12-13  2022-12-18  \n",
       "3388                      Paris  2023-08-01  2023-08-06  \n",
       "3389                      Paris  2023-01-04  2023-01-09  \n",
       "3390                      Paris  2022-11-06  2022-11-13  \n",
       "\n",
       "[3391 rows x 14 columns]"
      ]
     },
     "execution_count": 7,
     "metadata": {},
     "output_type": "execute_result"
    }
   ],
   "source": [
    "df"
   ]
  },
  {
   "cell_type": "code",
   "execution_count": 8,
   "metadata": {
    "cell_id": "37dfdc843ffe4540af10e570b91a6f0e",
    "deepnote_cell_type": "code",
    "deepnote_to_be_reexecuted": false,
    "execution_millis": 3,
    "execution_start": 1666201595336,
    "source_hash": "14f60b8f",
    "tags": []
   },
   "outputs": [
    {
     "data": {
      "text/plain": [
       "(33, 14)"
      ]
     },
     "execution_count": 12,
     "metadata": {},
     "output_type": "execute_result"
    },
    {
     "data": {
      "text/plain": [
       "(3391, 14)"
      ]
     },
     "execution_count": 8,
     "metadata": {},
     "output_type": "execute_result"
    }
   ],
   "source": [
    "df.shape"
   ]
  },
  {
   "cell_type": "code",
   "execution_count": 9,
   "metadata": {
    "cell_id": "5d8b3f9b9ef84f238b028a4e60e1c147",
    "deepnote_cell_type": "code",
    "deepnote_to_be_reexecuted": false,
    "execution_millis": 3,
    "execution_start": 1666201595375,
    "output_cleared": true,
    "source_hash": "f712b573",
    "tags": []
   },
   "outputs": [],
   "source": [
    "df.to_csv(\"flexible_listings.csv\", index=False)"
   ]
  },
  {
   "cell_type": "code",
   "execution_count": 10,
   "metadata": {
    "cell_id": "8b95f6248c9f48238bb53c12293ae8e9",
    "deepnote_cell_type": "code",
    "deepnote_to_be_reexecuted": false,
    "execution_millis": 5,
    "execution_start": 1666201595377,
    "output_cleared": true,
    "source_hash": "31e72ef2",
    "tags": []
   },
   "outputs": [],
   "source": [
    "del df\n",
    "del data"
   ]
  },
  {
   "cell_type": "markdown",
   "metadata": {
    "cell_id": "2f1063d4ca154ce3bf43bc887077996a",
    "deepnote_cell_type": "text-cell-h2",
    "formattedRanges": [],
    "is_collapsed": false,
    "tags": []
   },
   "source": [
    "## Scrape one night listings"
   ]
  },
  {
   "cell_type": "markdown",
   "metadata": {
    "cell_id": "d0870a186fa4438586145e123521d42f",
    "deepnote_cell_type": "text-cell-p",
    "formattedRanges": [],
    "is_collapsed": false,
    "tags": []
   },
   "source": [
    "Now we will do the same thing but with a one night stay. "
   ]
  },
  {
   "cell_type": "code",
   "execution_count": 6,
   "metadata": {
    "cell_id": "32f7b5037a044b558434194c11f9af92",
    "deepnote_cell_type": "code",
    "deepnote_to_be_reexecuted": false,
    "execution_millis": 1970640,
    "execution_start": 1666222080707,
    "output_cleared": false,
    "source_hash": "9c3c4016",
    "tags": []
   },
   "outputs": [
    {
     "name": "stderr",
     "output_type": "stream",
     "text": [
      "City: 100%|██████████| 12/12 [32:49<00:00, 164.16s/it]\n"
     ]
    }
   ],
   "source": [
    "links = []\n",
    "for city in tqdm(cities, position=0, desc=\"City\"):\n",
    "    check_in = '2022-11-02'\n",
    "    check_out = '2022-11-03'\n",
    "    url = f\"https://www.airbnb.com/s/{city}/homes?tab_id=home_tab&refinement_paths%5B%5D=%2Fhomes&flexible_trip_lengths%5B%5D=one_week&price_filter_input_type=0&price_filter_num_nights=5&date_picker_type=calendar&checkin={check_in}&checkout={check_out}\"\n",
    "    # Load root city listings\n",
    "    driver = Chrome(options=options)\n",
    "    driver.get(url)\n",
    "    wait = WebDriverWait(driver, timeout=10, poll_frequency=1, ignored_exceptions=[ElementNotVisibleException, ElementNotSelectableException])\n",
    "    element = wait.until(EC.presence_of_element_located((By.CSS_SELECTOR, \"\"\"nav[aria-label='Search results pagination']\"\"\")))\n",
    "\n",
    "    # Determine number of pages in listings\n",
    "    pages = driver.find_elements(By.TAG_NAME, \"nav\")[-1].find_elements(By.TAG_NAME, \"a\")[-2].text\n",
    "    pages = int(pages)\n",
    "\n",
    "    # Navigate through each successive page in the listings\n",
    "    temp_links = []\n",
    "    for page in range(pages):\n",
    "        # Grab all links on page. We can filter them later.\n",
    "        for a in driver.find_elements(By.TAG_NAME, \"a\"):\n",
    "            if 'rooms' in a.get_property('href'):\n",
    "                links.append({'city':city, 'url':a.get_property('href')})\n",
    "        \n",
    "        # Got to next page and wait until element is loaded\n",
    "        driver.find_elements(By.TAG_NAME, \"nav\")[-1].find_elements(By.TAG_NAME, \"a\")[-1].click()\n",
    "        time.sleep(10)"
   ]
  },
  {
   "cell_type": "code",
   "execution_count": 7,
   "metadata": {
    "cell_id": "78f6dfa68a484a4696890b55200d8a11",
    "deepnote_cell_type": "code",
    "deepnote_to_be_reexecuted": false,
    "execution_millis": 0,
    "execution_start": 1666224050632,
    "output_cleared": true,
    "source_hash": "d01200d9",
    "tags": []
   },
   "outputs": [],
   "source": [
    "urls_one_day = pd.DataFrame(links)"
   ]
  },
  {
   "cell_type": "code",
   "execution_count": 8,
   "metadata": {
    "cell_id": "b297a527f4064632915acbf8b6bd2faf",
    "deepnote_cell_type": "code",
    "deepnote_to_be_reexecuted": false,
    "execution_millis": 886,
    "execution_start": 1666224050633,
    "output_cleared": false,
    "source_hash": "af4d0ea4",
    "tags": []
   },
   "outputs": [
    {
     "data": {
      "text/plain": [
       "(24853, 2)"
      ]
     },
     "execution_count": 8,
     "metadata": {},
     "output_type": "execute_result"
    }
   ],
   "source": [
    "urls_one_day.shape"
   ]
  },
  {
   "cell_type": "code",
   "execution_count": 9,
   "metadata": {
    "cell_id": "273fb66b39d34bdb8446c6aaeac3dced",
    "deepnote_cell_type": "code",
    "deepnote_to_be_reexecuted": false,
    "execution_millis": 30,
    "execution_start": 1666224050634,
    "output_cleared": true,
    "source_hash": "6953bbd7",
    "tags": []
   },
   "outputs": [],
   "source": [
    "urls_one_day = urls_one_day.drop_duplicates().reset_index(drop=True)"
   ]
  },
  {
   "cell_type": "code",
   "execution_count": 10,
   "metadata": {
    "cell_id": "d43b5bdfad884126a0d6dfde28ded8be",
    "deepnote_cell_type": "code",
    "deepnote_to_be_reexecuted": false,
    "execution_millis": 854,
    "execution_start": 1666224050665,
    "output_cleared": false,
    "source_hash": "539adf8e",
    "tags": []
   },
   "outputs": [
    {
     "data": {
      "application/vnd.deepnote.dataframe.v3+json": {
       "column_count": 2,
       "columns": [
        {
         "dtype": "object",
         "name": "city",
         "stats": {
          "categories": [
           {
            "count": 3,
            "name": "Los-Angeles--United-States"
           },
           {
            "count": 2,
            "name": "Brisbane--Queensland"
           },
           {
            "count": 5,
            "name": "4 others"
           }
          ],
          "nan_count": 0,
          "unique_count": 6
         }
        },
        {
         "dtype": "object",
         "name": "url",
         "stats": {
          "categories": [
           {
            "count": 1,
            "name": "https://www.airbnb.com/rooms/38852719?check_in=2022-11-02&check_out=2022-11-03&previous_page_section_name=1000&federated_search_id=5f4e9f49-ce8d-4a37-974a-9fdbf85e068b"
           },
           {
            "count": 1,
            "name": "https://www.airbnb.com/rooms/16303125?check_in=2022-11-02&check_out=2022-11-03&previous_page_section_name=1000&federated_search_id=4d6f8e50-e354-478d-9554-9053ace75059"
           },
           {
            "count": 8,
            "name": "8 others"
           }
          ],
          "nan_count": 0,
          "unique_count": 10
         }
        },
        {
         "dtype": "int64",
         "name": "_deepnote_index_column"
        }
       ],
       "row_count": 10,
       "rows": [
        {
         "_deepnote_index_column": "1691",
         "city": "Brisbane--Queensland",
         "url": "https://www.airbnb.com/rooms/38852719?check_in=2022-11-02&check_out=2022-11-03&previous_page_section_name=1000&federated_search_id=5f4e9f49-ce8d-4a37-974a-9fdbf85e068b"
        },
        {
         "_deepnote_index_column": "731",
         "city": "Los-Angeles--United-States",
         "url": "https://www.airbnb.com/rooms/16303125?check_in=2022-11-02&check_out=2022-11-03&previous_page_section_name=1000&federated_search_id=4d6f8e50-e354-478d-9554-9053ace75059"
        },
        {
         "_deepnote_index_column": "650",
         "city": "Los-Angeles--United-States",
         "url": "https://www.airbnb.com/rooms/29630684?check_in=2022-11-02&check_out=2022-11-03&previous_page_section_name=1000&federated_search_id=dca4ce02-3918-44df-bc78-016dd48cf864"
        },
        {
         "_deepnote_index_column": "692",
         "city": "Los-Angeles--United-States",
         "url": "https://www.airbnb.com/rooms/plus/3563533?check_in=2022-11-02&check_out=2022-11-03&previous_page_section_name=1000&federated_search_id=03407dec-6b74-410c-987d-4d284afeae07"
        },
        {
         "_deepnote_index_column": "3108",
         "city": "Montreal--QC",
         "url": "https://www.airbnb.com/rooms/3006119?check_in=2022-11-02&check_out=2022-11-03&previous_page_section_name=1000&federated_search_id=c4e77b0e-ebb8-4217-9486-e9fb6ef3c385"
        },
        {
         "_deepnote_index_column": "2014",
         "city": "Sydney--New-South-Wales--Australia",
         "url": "https://www.airbnb.com/rooms/51157482?check_in=2022-11-02&check_out=2022-11-03&previous_page_section_name=1000"
        },
        {
         "_deepnote_index_column": "2108",
         "city": "London",
         "url": "https://www.airbnb.com/rooms/647686462216792520?check_in=2022-11-02&check_out=2022-11-03&previous_page_section_name=1000&federated_search_id=5e1e967c-328e-4dbe-87f7-207339e18b89"
        },
        {
         "_deepnote_index_column": "2454",
         "city": "Berlin",
         "url": "https://www.airbnb.com/rooms/50973537?check_in=2022-11-02&check_out=2022-11-03&previous_page_section_name=1000"
        },
        {
         "_deepnote_index_column": "1841",
         "city": "Sydney--New-South-Wales--Australia",
         "url": "https://www.airbnb.com/rooms/47184627?check_in=2022-11-02&check_out=2022-11-03&previous_page_section_name=1000"
        },
        {
         "_deepnote_index_column": "1572",
         "city": "Brisbane--Queensland",
         "url": "https://www.airbnb.com/rooms/45904368?check_in=2022-11-02&check_out=2022-11-03&previous_page_section_name=1000&federated_search_id=b41cb896-6605-4b7e-9232-e8c2ec467d26"
        }
       ]
      },
      "text/html": [
       "<div>\n",
       "<style scoped>\n",
       "    .dataframe tbody tr th:only-of-type {\n",
       "        vertical-align: middle;\n",
       "    }\n",
       "\n",
       "    .dataframe tbody tr th {\n",
       "        vertical-align: top;\n",
       "    }\n",
       "\n",
       "    .dataframe thead th {\n",
       "        text-align: right;\n",
       "    }\n",
       "</style>\n",
       "<table border=\"1\" class=\"dataframe\">\n",
       "  <thead>\n",
       "    <tr style=\"text-align: right;\">\n",
       "      <th></th>\n",
       "      <th>city</th>\n",
       "      <th>url</th>\n",
       "    </tr>\n",
       "  </thead>\n",
       "  <tbody>\n",
       "    <tr>\n",
       "      <th>1691</th>\n",
       "      <td>Brisbane--Queensland</td>\n",
       "      <td>https://www.airbnb.com/rooms/38852719?check_in...</td>\n",
       "    </tr>\n",
       "    <tr>\n",
       "      <th>731</th>\n",
       "      <td>Los-Angeles--United-States</td>\n",
       "      <td>https://www.airbnb.com/rooms/16303125?check_in...</td>\n",
       "    </tr>\n",
       "    <tr>\n",
       "      <th>650</th>\n",
       "      <td>Los-Angeles--United-States</td>\n",
       "      <td>https://www.airbnb.com/rooms/29630684?check_in...</td>\n",
       "    </tr>\n",
       "    <tr>\n",
       "      <th>692</th>\n",
       "      <td>Los-Angeles--United-States</td>\n",
       "      <td>https://www.airbnb.com/rooms/plus/3563533?chec...</td>\n",
       "    </tr>\n",
       "    <tr>\n",
       "      <th>3108</th>\n",
       "      <td>Montreal--QC</td>\n",
       "      <td>https://www.airbnb.com/rooms/3006119?check_in=...</td>\n",
       "    </tr>\n",
       "    <tr>\n",
       "      <th>2014</th>\n",
       "      <td>Sydney--New-South-Wales--Australia</td>\n",
       "      <td>https://www.airbnb.com/rooms/51157482?check_in...</td>\n",
       "    </tr>\n",
       "    <tr>\n",
       "      <th>2108</th>\n",
       "      <td>London</td>\n",
       "      <td>https://www.airbnb.com/rooms/64768646221679252...</td>\n",
       "    </tr>\n",
       "    <tr>\n",
       "      <th>2454</th>\n",
       "      <td>Berlin</td>\n",
       "      <td>https://www.airbnb.com/rooms/50973537?check_in...</td>\n",
       "    </tr>\n",
       "    <tr>\n",
       "      <th>1841</th>\n",
       "      <td>Sydney--New-South-Wales--Australia</td>\n",
       "      <td>https://www.airbnb.com/rooms/47184627?check_in...</td>\n",
       "    </tr>\n",
       "    <tr>\n",
       "      <th>1572</th>\n",
       "      <td>Brisbane--Queensland</td>\n",
       "      <td>https://www.airbnb.com/rooms/45904368?check_in...</td>\n",
       "    </tr>\n",
       "  </tbody>\n",
       "</table>\n",
       "</div>"
      ],
      "text/plain": [
       "                                    city  \\\n",
       "1691                Brisbane--Queensland   \n",
       "731           Los-Angeles--United-States   \n",
       "650           Los-Angeles--United-States   \n",
       "692           Los-Angeles--United-States   \n",
       "3108                        Montreal--QC   \n",
       "2014  Sydney--New-South-Wales--Australia   \n",
       "2108                              London   \n",
       "2454                              Berlin   \n",
       "1841  Sydney--New-South-Wales--Australia   \n",
       "1572                Brisbane--Queensland   \n",
       "\n",
       "                                                    url  \n",
       "1691  https://www.airbnb.com/rooms/38852719?check_in...  \n",
       "731   https://www.airbnb.com/rooms/16303125?check_in...  \n",
       "650   https://www.airbnb.com/rooms/29630684?check_in...  \n",
       "692   https://www.airbnb.com/rooms/plus/3563533?chec...  \n",
       "3108  https://www.airbnb.com/rooms/3006119?check_in=...  \n",
       "2014  https://www.airbnb.com/rooms/51157482?check_in...  \n",
       "2108  https://www.airbnb.com/rooms/64768646221679252...  \n",
       "2454  https://www.airbnb.com/rooms/50973537?check_in...  \n",
       "1841  https://www.airbnb.com/rooms/47184627?check_in...  \n",
       "1572  https://www.airbnb.com/rooms/45904368?check_in...  "
      ]
     },
     "execution_count": 10,
     "metadata": {},
     "output_type": "execute_result"
    }
   ],
   "source": [
    "urls_one_day.sample(10)"
   ]
  },
  {
   "cell_type": "code",
   "execution_count": 11,
   "metadata": {
    "cell_id": "9a698357cf3e42d18c292335ab47b924",
    "deepnote_cell_type": "code",
    "deepnote_to_be_reexecuted": false,
    "execution_millis": 0,
    "execution_start": 1666224050707,
    "output_cleared": true,
    "source_hash": "a520b924",
    "tags": []
   },
   "outputs": [],
   "source": [
    "urls_one_day.to_csv('urls_one_day.csv', index=False)"
   ]
  },
  {
   "cell_type": "markdown",
   "metadata": {
    "cell_id": "788d46b325044fdd859f3bc71504e8ff",
    "deepnote_cell_type": "text-cell-h3",
    "formattedRanges": [],
    "is_collapsed": false,
    "tags": []
   },
   "source": [
    "### Scrape listing details"
   ]
  },
  {
   "cell_type": "code",
   "execution_count": 12,
   "metadata": {
    "cell_id": "15b96fae74ae4bf4b7f654b9ed29949a",
    "deepnote_cell_type": "code",
    "deepnote_to_be_reexecuted": false,
    "execution_millis": 0,
    "execution_start": 1666224050708,
    "output_cleared": true,
    "source_hash": "38c4745a",
    "tags": []
   },
   "outputs": [],
   "source": [
    "urls_one_day = pd.read_csv('urls_one_day.csv')"
   ]
  },
  {
   "cell_type": "code",
   "execution_count": 16,
   "metadata": {
    "cell_id": "5052bec17c2d46e0ba7dde6f7167a1dc",
    "deepnote_cell_type": "code",
    "deepnote_to_be_reexecuted": false,
    "execution_millis": 11647540,
    "execution_start": 1666225441154,
    "output_cleared": false,
    "source_hash": "cc5ea192",
    "tags": []
   },
   "outputs": [
    {
     "name": "stderr",
     "output_type": "stream",
     "text": [
      "100%|██████████| 3591/3591 [3:14:07<00:00,  3.24s/it]\n"
     ]
    }
   ],
   "source": [
    "data = []\n",
    "for i, row in tqdm(urls_one_day.iterrows(), total=urls_one_day.shape[0]):\n",
    "    features = extract_features(row['url'])\n",
    "    if features:\n",
    "        features['location'] = row['city']\n",
    "        features['check_in'] = row['url'].split(\"check_in=\")[1].split(\"&\")[0]\n",
    "        features['check_out'] = row['url'].split(\"check_out=\")[1].split(\"&\")[0]\n",
    "        data.append(features)"
   ]
  },
  {
   "cell_type": "code",
   "execution_count": 17,
   "metadata": {
    "cell_id": "08f675140c674bcc860a37b77b8bf852",
    "deepnote_cell_type": "code",
    "deepnote_to_be_reexecuted": false,
    "execution_millis": 23,
    "execution_start": 1666237088704,
    "output_cleared": true,
    "source_hash": "b27bdbe",
    "tags": []
   },
   "outputs": [],
   "source": [
    "df = pd.DataFrame(data)\n",
    "df.to_csv(\"one_day_listings.csv\", index=False)"
   ]
  },
  {
   "cell_type": "code",
   "execution_count": 18,
   "metadata": {
    "cell_id": "0bbd96aee7ad45e69c9ac26d3a5ed02c",
    "deepnote_cell_type": "code",
    "deepnote_to_be_reexecuted": false,
    "execution_millis": 2,
    "execution_start": 1666237372305,
    "source_hash": "14f60b8f",
    "tags": []
   },
   "outputs": [
    {
     "data": {
      "text/plain": [
       "(3566, 14)"
      ]
     },
     "execution_count": 18,
     "metadata": {},
     "output_type": "execute_result"
    }
   ],
   "source": [
    "df.shape"
   ]
  },
  {
   "cell_type": "code",
   "execution_count": 19,
   "metadata": {
    "cell_id": "31add1abd9ca492d9cdf7dea72b456af",
    "deepnote_cell_type": "code",
    "deepnote_to_be_reexecuted": false,
    "execution_millis": 45,
    "execution_start": 1666237372332,
    "source_hash": "c085b6ba",
    "tags": []
   },
   "outputs": [
    {
     "data": {
      "application/vnd.deepnote.dataframe.v3+json": {
       "column_count": 14,
       "columns": [
        {
         "dtype": "object",
         "name": "weekly_discount",
         "stats": {
          "categories": [
           {
            "count": 5,
            "name": ""
           }
          ],
          "nan_count": 0,
          "unique_count": 1
         }
        },
        {
         "dtype": "object",
         "name": "long_stay_discount",
         "stats": {
          "categories": [
           {
            "count": 5,
            "name": ""
           }
          ],
          "nan_count": 0,
          "unique_count": 1
         }
        },
        {
         "dtype": "object",
         "name": "cleaning_fee",
         "stats": {
          "categories": [
           {
            "count": 2,
            "name": "$30"
           },
           {
            "count": 2,
            "name": "2 others"
           },
           {
            "count": 1,
            "name": "Missing"
           }
          ],
          "nan_count": 1,
          "unique_count": 3
         }
        },
        {
         "dtype": "object",
         "name": "service_fee",
         "stats": {
          "categories": [
           {
            "count": 2,
            "name": "$14"
           },
           {
            "count": 1,
            "name": "$12"
           },
           {
            "count": 2,
            "name": "2 others"
           }
          ],
          "nan_count": 0,
          "unique_count": 4
         }
        },
        {
         "dtype": "object",
         "name": "price_minus_fees",
         "stats": {
          "categories": [
           {
            "count": 2,
            "name": "$58"
           },
           {
            "count": 1,
            "name": "$69"
           },
           {
            "count": 2,
            "name": "2 others"
           }
          ],
          "nan_count": 0,
          "unique_count": 4
         }
        },
        {
         "dtype": "object",
         "name": "title",
         "stats": {
          "categories": [
           {
            "count": 1,
            "name": "Entire rental unit hosted by Leonard"
           },
           {
            "count": 1,
            "name": "Entire loft hosted by Simaiya"
           },
           {
            "count": 3,
            "name": "3 others"
           }
          ],
          "nan_count": 0,
          "unique_count": 5
         }
        },
        {
         "dtype": "object",
         "name": "guest",
         "stats": {
          "categories": [
           {
            "count": 2,
            "name": "3"
           },
           {
            "count": 2,
            "name": "4"
           },
           {
            "count": 1,
            "name": "6"
           }
          ],
          "nan_count": 0,
          "unique_count": 3
         }
        },
        {
         "dtype": "object",
         "name": "bedrooms",
         "stats": {
          "categories": [
           {
            "count": 5,
            "name": "1"
           }
          ],
          "nan_count": 0,
          "unique_count": 1
         }
        },
        {
         "dtype": "object",
         "name": "beds",
         "stats": {
          "categories": [
           {
            "count": 4,
            "name": "1"
           },
           {
            "count": 1,
            "name": "2"
           }
          ],
          "nan_count": 0,
          "unique_count": 2
         }
        },
        {
         "dtype": "object",
         "name": "baths",
         "stats": {
          "categories": [
           {
            "count": 5,
            "name": "1"
           }
          ],
          "nan_count": 0,
          "unique_count": 1
         }
        },
        {
         "dtype": "object",
         "name": "url",
         "stats": {
          "categories": [
           {
            "count": 1,
            "name": "https://www.airbnb.com/rooms/16353509?check_in=2022-11-02&check_out=2022-11-03&previous_page_section_name=1000&federated_search_id=71a89857-706d-454d-aab7-4cc0f5ff42ac"
           },
           {
            "count": 1,
            "name": "https://www.airbnb.com/rooms/670894611235502754?check_in=2022-11-02&check_out=2022-11-03&previous_page_section_name=1000&federated_search_id=71a89857-706d-454d-aab7-4cc0f5ff42ac"
           },
           {
            "count": 3,
            "name": "3 others"
           }
          ],
          "nan_count": 0,
          "unique_count": 5
         }
        },
        {
         "dtype": "object",
         "name": "location",
         "stats": {
          "categories": [
           {
            "count": 5,
            "name": "Dallas--TX--United-States"
           }
          ],
          "nan_count": 0,
          "unique_count": 1
         }
        },
        {
         "dtype": "object",
         "name": "check_in",
         "stats": {
          "categories": [
           {
            "count": 5,
            "name": "2022-11-02"
           }
          ],
          "nan_count": 0,
          "unique_count": 1
         }
        },
        {
         "dtype": "object",
         "name": "check_out",
         "stats": {
          "categories": [
           {
            "count": 5,
            "name": "2022-11-03"
           }
          ],
          "nan_count": 0,
          "unique_count": 1
         }
        },
        {
         "dtype": "int64",
         "name": "_deepnote_index_column"
        }
       ],
       "row_count": 5,
       "rows": [
        {
         "_deepnote_index_column": "0",
         "baths": "1",
         "bedrooms": "1",
         "beds": "1",
         "check_in": "2022-11-02",
         "check_out": "2022-11-03",
         "cleaning_fee": "$30",
         "guest": "3",
         "location": "Dallas--TX--United-States",
         "long_stay_discount": "",
         "price_minus_fees": "$58",
         "service_fee": "$12",
         "title": "Entire rental unit hosted by Leonard",
         "url": "https://www.airbnb.com/rooms/16353509?check_in=2022-11-02&check_out=2022-11-03&previous_page_section_name=1000&federated_search_id=71a89857-706d-454d-aab7-4cc0f5ff42ac",
         "weekly_discount": ""
        },
        {
         "_deepnote_index_column": "1",
         "baths": "1",
         "bedrooms": "1",
         "beds": "1",
         "check_in": "2022-11-02",
         "check_out": "2022-11-03",
         "cleaning_fee": "$40",
         "guest": "4",
         "location": "Dallas--TX--United-States",
         "long_stay_discount": "",
         "price_minus_fees": "$58",
         "service_fee": "$14",
         "title": "Entire loft hosted by Simaiya",
         "url": "https://www.airbnb.com/rooms/670894611235502754?check_in=2022-11-02&check_out=2022-11-03&previous_page_section_name=1000&federated_search_id=71a89857-706d-454d-aab7-4cc0f5ff42ac",
         "weekly_discount": ""
        },
        {
         "_deepnote_index_column": "2",
         "baths": "1",
         "bedrooms": "1",
         "beds": "1",
         "check_in": "2022-11-02",
         "check_out": "2022-11-03",
         "cleaning_fee": "$35",
         "guest": "4",
         "location": "Dallas--TX--United-States",
         "long_stay_discount": "",
         "price_minus_fees": "$69",
         "service_fee": "$15",
         "title": "Entire rental unit hosted by Frontdesk",
         "url": "https://www.airbnb.com/rooms/50029383?check_in=2022-11-02&check_out=2022-11-03&previous_page_section_name=1000&federated_search_id=71a89857-706d-454d-aab7-4cc0f5ff42ac",
         "weekly_discount": ""
        },
        {
         "_deepnote_index_column": "3",
         "baths": "1",
         "bedrooms": "1",
         "beds": "2",
         "check_in": "2022-11-02",
         "check_out": "2022-11-03",
         "cleaning_fee": "$30",
         "guest": "6",
         "location": "Dallas--TX--United-States",
         "long_stay_discount": "",
         "price_minus_fees": "$65",
         "service_fee": "$13",
         "title": "Entire loft hosted by Leonard",
         "url": "https://www.airbnb.com/rooms/39844580?check_in=2022-11-02&check_out=2022-11-03&previous_page_section_name=1000&federated_search_id=71a89857-706d-454d-aab7-4cc0f5ff42ac",
         "weekly_discount": ""
        },
        {
         "_deepnote_index_column": "4",
         "baths": "1",
         "bedrooms": "1",
         "beds": "1",
         "check_in": "2022-11-02",
         "check_out": "2022-11-03",
         "cleaning_fee": "nan",
         "guest": "3",
         "location": "Dallas--TX--United-States",
         "long_stay_discount": "",
         "price_minus_fees": "$100",
         "service_fee": "$14",
         "title": "Entire rental unit hosted by Dante",
         "url": "https://www.airbnb.com/rooms/699338212365956298?check_in=2022-11-02&check_out=2022-11-03&previous_page_section_name=1000&federated_search_id=71a89857-706d-454d-aab7-4cc0f5ff42ac",
         "weekly_discount": ""
        }
       ]
      },
      "text/html": [
       "<div>\n",
       "<style scoped>\n",
       "    .dataframe tbody tr th:only-of-type {\n",
       "        vertical-align: middle;\n",
       "    }\n",
       "\n",
       "    .dataframe tbody tr th {\n",
       "        vertical-align: top;\n",
       "    }\n",
       "\n",
       "    .dataframe thead th {\n",
       "        text-align: right;\n",
       "    }\n",
       "</style>\n",
       "<table border=\"1\" class=\"dataframe\">\n",
       "  <thead>\n",
       "    <tr style=\"text-align: right;\">\n",
       "      <th></th>\n",
       "      <th>weekly_discount</th>\n",
       "      <th>long_stay_discount</th>\n",
       "      <th>cleaning_fee</th>\n",
       "      <th>service_fee</th>\n",
       "      <th>price_minus_fees</th>\n",
       "      <th>title</th>\n",
       "      <th>guest</th>\n",
       "      <th>bedrooms</th>\n",
       "      <th>beds</th>\n",
       "      <th>baths</th>\n",
       "      <th>url</th>\n",
       "      <th>location</th>\n",
       "      <th>check_in</th>\n",
       "      <th>check_out</th>\n",
       "    </tr>\n",
       "  </thead>\n",
       "  <tbody>\n",
       "    <tr>\n",
       "      <th>0</th>\n",
       "      <td></td>\n",
       "      <td></td>\n",
       "      <td>$30</td>\n",
       "      <td>$12</td>\n",
       "      <td>$58</td>\n",
       "      <td>Entire rental unit hosted by Leonard</td>\n",
       "      <td>3</td>\n",
       "      <td>1</td>\n",
       "      <td>1</td>\n",
       "      <td>1</td>\n",
       "      <td>https://www.airbnb.com/rooms/16353509?check_in...</td>\n",
       "      <td>Dallas--TX--United-States</td>\n",
       "      <td>2022-11-02</td>\n",
       "      <td>2022-11-03</td>\n",
       "    </tr>\n",
       "    <tr>\n",
       "      <th>1</th>\n",
       "      <td></td>\n",
       "      <td></td>\n",
       "      <td>$40</td>\n",
       "      <td>$14</td>\n",
       "      <td>$58</td>\n",
       "      <td>Entire loft hosted by Simaiya</td>\n",
       "      <td>4</td>\n",
       "      <td>1</td>\n",
       "      <td>1</td>\n",
       "      <td>1</td>\n",
       "      <td>https://www.airbnb.com/rooms/67089461123550275...</td>\n",
       "      <td>Dallas--TX--United-States</td>\n",
       "      <td>2022-11-02</td>\n",
       "      <td>2022-11-03</td>\n",
       "    </tr>\n",
       "    <tr>\n",
       "      <th>2</th>\n",
       "      <td></td>\n",
       "      <td></td>\n",
       "      <td>$35</td>\n",
       "      <td>$15</td>\n",
       "      <td>$69</td>\n",
       "      <td>Entire rental unit hosted by Frontdesk</td>\n",
       "      <td>4</td>\n",
       "      <td>1</td>\n",
       "      <td>1</td>\n",
       "      <td>1</td>\n",
       "      <td>https://www.airbnb.com/rooms/50029383?check_in...</td>\n",
       "      <td>Dallas--TX--United-States</td>\n",
       "      <td>2022-11-02</td>\n",
       "      <td>2022-11-03</td>\n",
       "    </tr>\n",
       "    <tr>\n",
       "      <th>3</th>\n",
       "      <td></td>\n",
       "      <td></td>\n",
       "      <td>$30</td>\n",
       "      <td>$13</td>\n",
       "      <td>$65</td>\n",
       "      <td>Entire loft hosted by Leonard</td>\n",
       "      <td>6</td>\n",
       "      <td>1</td>\n",
       "      <td>2</td>\n",
       "      <td>1</td>\n",
       "      <td>https://www.airbnb.com/rooms/39844580?check_in...</td>\n",
       "      <td>Dallas--TX--United-States</td>\n",
       "      <td>2022-11-02</td>\n",
       "      <td>2022-11-03</td>\n",
       "    </tr>\n",
       "    <tr>\n",
       "      <th>4</th>\n",
       "      <td></td>\n",
       "      <td></td>\n",
       "      <td>NaN</td>\n",
       "      <td>$14</td>\n",
       "      <td>$100</td>\n",
       "      <td>Entire rental unit hosted by Dante</td>\n",
       "      <td>3</td>\n",
       "      <td>1</td>\n",
       "      <td>1</td>\n",
       "      <td>1</td>\n",
       "      <td>https://www.airbnb.com/rooms/69933821236595629...</td>\n",
       "      <td>Dallas--TX--United-States</td>\n",
       "      <td>2022-11-02</td>\n",
       "      <td>2022-11-03</td>\n",
       "    </tr>\n",
       "  </tbody>\n",
       "</table>\n",
       "</div>"
      ],
      "text/plain": [
       "  weekly_discount long_stay_discount cleaning_fee service_fee  \\\n",
       "0                                             $30         $12   \n",
       "1                                             $40         $14   \n",
       "2                                             $35         $15   \n",
       "3                                             $30         $13   \n",
       "4                                             NaN         $14   \n",
       "\n",
       "  price_minus_fees                                   title guest bedrooms  \\\n",
       "0              $58    Entire rental unit hosted by Leonard     3        1   \n",
       "1              $58           Entire loft hosted by Simaiya     4        1   \n",
       "2              $69  Entire rental unit hosted by Frontdesk     4        1   \n",
       "3              $65           Entire loft hosted by Leonard     6        1   \n",
       "4             $100      Entire rental unit hosted by Dante     3        1   \n",
       "\n",
       "  beds baths                                                url  \\\n",
       "0    1     1  https://www.airbnb.com/rooms/16353509?check_in...   \n",
       "1    1     1  https://www.airbnb.com/rooms/67089461123550275...   \n",
       "2    1     1  https://www.airbnb.com/rooms/50029383?check_in...   \n",
       "3    2     1  https://www.airbnb.com/rooms/39844580?check_in...   \n",
       "4    1     1  https://www.airbnb.com/rooms/69933821236595629...   \n",
       "\n",
       "                    location    check_in   check_out  \n",
       "0  Dallas--TX--United-States  2022-11-02  2022-11-03  \n",
       "1  Dallas--TX--United-States  2022-11-02  2022-11-03  \n",
       "2  Dallas--TX--United-States  2022-11-02  2022-11-03  \n",
       "3  Dallas--TX--United-States  2022-11-02  2022-11-03  \n",
       "4  Dallas--TX--United-States  2022-11-02  2022-11-03  "
      ]
     },
     "execution_count": 19,
     "metadata": {},
     "output_type": "execute_result"
    }
   ],
   "source": [
    "df.head()"
   ]
  },
  {
   "cell_type": "code",
   "execution_count": null,
   "metadata": {
    "cell_id": "6409ce92f4174ff4a969e86cd9702217",
    "deepnote_cell_type": "code",
    "tags": []
   },
   "outputs": [],
   "source": []
  },
  {
   "cell_type": "markdown",
   "metadata": {
    "created_in_deepnote_cell": true,
    "deepnote_cell_type": "markdown"
   },
   "source": [
    "<a style='text-decoration:none;line-height:16px;display:flex;color:#5B5B62;padding:10px;justify-content:end;' href='https://deepnote.com?utm_source=created-in-deepnote-cell&projectId=3a09bbfb-7f5f-46b3-8fa0-788f71b2887f' target=\"_blank\">\n",
    "<img alt='Created in deepnote.com' style='display:inline;max-height:16px;margin:0px;margin-right:7.5px;' src='data:image/svg+xml;base64,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' > </img>\n",
    "Created in <span style='font-weight:600;margin-left:4px;'>Deepnote</span></a>"
   ]
  }
 ],
 "metadata": {
  "deepnote": {},
  "deepnote_execution_queue": [],
  "deepnote_notebook_id": "6e5070b071084882953fadbc939609f3",
  "kernelspec": {
   "display_name": "Python 3 (ipykernel)",
   "language": "python",
   "name": "python3"
  },
  "language_info": {
   "codemirror_mode": {
    "name": "ipython",
    "version": 3
   },
   "file_extension": ".py",
   "mimetype": "text/x-python",
   "name": "python",
   "nbconvert_exporter": "python",
   "pygments_lexer": "ipython3",
   "version": "3.11.7"
  }
 },
 "nbformat": 4,
 "nbformat_minor": 4
}
