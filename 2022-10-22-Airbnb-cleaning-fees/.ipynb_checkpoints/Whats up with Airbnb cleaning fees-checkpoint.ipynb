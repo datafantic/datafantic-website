{
 "cells": [
  {
   "cell_type": "markdown",
   "id": "73816921-a6c5-4801-8005-7e002cf29185",
   "metadata": {},
   "source": [
    "---\n",
    "title: \"What's up with Airbnb cleaning fees?\"\n",
    "description: \"Hidden costs are eating the platform\"\n",
    "date: \"October 22, 2022\"\n",
    "author: \"Robert Ritz\"\n",
    "draft: false\n",
    "echo: false\n",
    "image: \"images/multi_day_histogram.png\"\n",
    "---"
   ]
  },
  {
   "cell_type": "markdown",
   "id": "67615883-5a51-4eda-affe-5ac7645f51fa",
   "metadata": {},
   "source": [
    "I've noticed many people complaining about Airbnb cleaning fees lately, especially on Twitter. Complaints of cleaning fees over $100 seem to be happening more and more. I've seen Tweets like this gem."
   ]
  },
  {
   "cell_type": "markdown",
   "id": "31d7338c-7c3f-47e8-9258-63215a679028",
   "metadata": {},
   "source": [
    "<blockquote class=\"twitter-tweet\"><p lang=\"en\" dir=\"ltr\">Airbnb landlords are like “how come no one wants to book my house??” maybe it’s bc you evicted a family of 4, converted their home into a shoddy duplex, filled it with clearance bin TJ Maxx decor, and charge guests $200 for a cleaning fee, all bc you don’t feel like getting a job</p>&mdash; xanax in cinnabon (ali) (@xanabon) <a href=\"https://twitter.com/xanabon/status/1582055054189551617?ref_src=twsrc%5Etfw\">October 17, 2022</a></blockquote> <script async src=\"https://platform.twitter.com/widgets.js\" charset=\"utf-8\"></script>"
   ]
  },
  {
   "cell_type": "markdown",
   "id": "57e5321b-537f-4b4a-b8e5-b58e4b44db85",
   "metadata": {},
   "source": [
    "It's a pretty bad customer experience to have a low nightly rate and then many fees piled on top. Airlines have been doing this for years to make the base ticket price as low as possible. But Airbnb's advertised nightly rate on the site includes the cleaning fee, so this does not seem to be an effort to compete on base price.\n",
    "\n",
    "> Note: This may not be the case in every country. I'm based outside the US, and I've been told by Airbnb users in the US that the cleaning fee is NOT included in the advertised nightly rate."
   ]
  },
  {
   "cell_type": "markdown",
   "id": "57858109-d877-4363-ae43-ca043c42588a",
   "metadata": {},
   "source": [
    "Notably, the Airbnb service fee is not included in the nightly rate. From what I found in my data and according to [Airbnb](https://news.airbnb.com/fee-transparency-on-airbnb/?ref=datafantic.ghost.io), this fee is between 14-15% of the total stay cost.\n",
    "\n",
    "To figure out what going on, I decided to scrape the Airbnb site and do a bit of analysis on the fees being charged. Let's dive in!"
   ]
  },
  {
   "cell_type": "markdown",
   "id": "9f3526eb-ff81-4a7e-b5c1-a75c562650c2",
   "metadata": {},
   "source": [
    "In this article:\n",
    "\n",
    "- How I collected the data\n",
    "- What is the average Airbnb cleaning fee?\n",
    "- Do certain cities have higher cleaning fees?\n",
    "- What percentage of the total price is the cleaning fee?\n",
    "- Why I think some cleaning fees are higher"
   ]
  },
  {
   "cell_type": "markdown",
   "id": "bb699b1b-6c39-4e0d-b4a0-d07b60c4b106",
   "metadata": {},
   "source": [
    "## How I collected the data"
   ]
  },
  {
   "cell_type": "markdown",
   "id": "89a2fdd0-51d0-4fa4-9a13-3bf686930e6a",
   "metadata": {},
   "source": [
    "To start, I needed some fee data. Airbnb doesn't just give this out, and their [fee transparency page](https://news.airbnb.com/fee-transparency-on-airbnb/?ref=datafantic.ghost.io) isn't particularly helpful other than to say that hosts set their cleaning fees. So to get the data I needed, I had to resort to scraping the data from the site.\n",
    "\n",
    "My approach was to do a simple search for a city (I picked 12 different cities around the world) and then through the listings using a headless browser to simulate a person browsing. I collected the links for each listing on these pages. Airbnb only gives you 15 pages per search, for a total 300 listings, unless you use other filters. This seemed like a good sample for my purposes."
   ]
  },
  {
   "cell_type": "markdown",
   "id": "80e28091-78af-48ab-916e-3c809e1311ac",
   "metadata": {},
   "source": [
    "![](images/listings.png)"
   ]
  },
  {
   "cell_type": "markdown",
   "id": "dd806b54-5672-4fa7-8823-e7e1f684fd00",
   "metadata": {},
   "source": [
    "I think set my scraper to visit each of those listings and pull several pieces of data from the listing page:\n",
    "\n",
    "- Listing subtitle (Entire home/Guest room/etc)\n",
    "- Room price minus fees - the base price\n",
    "- Cleaning fee\n",
    "- Service fee\n",
    "- The number of guests allowed, beds, bedrooms, and baths\n",
    "- Check-in and check-out dates for the corresponding prices\n",
    "\n",
    "I repeated this process for two batches of searches. The first was with a flexible dates search, which gave me results with stays ranging from 5-7 days. For the second, I searched for one-day stays about two weeks ahead of when I did the scraping. I wanted these two groups of results to see if fees changed based on stay duration.\n",
    "\n",
    "For each batch, I ended up with around 3,300 listings (and prices) for 12 cities. Those cities are Dallas, Austin, Los Angeles, New York (Manhattan),  San Francisco, Brisbane, Sydney, London, Berlin, Toronto, Montreal, and Paris.\n",
    "\n",
    "Note: When searching Airbnb for a city, it returns results in downtown, so these results should be viewed in that context.\n",
    "\n",
    "Let's move on to the results! Please note that the results below are from the data I collected. If you would like to see the code and data I used, please see the link at the bottom of the article."
   ]
  },
  {
   "cell_type": "markdown",
   "id": "5ef1ede7-c880-4a8a-b08c-c8b97a6955e8",
   "metadata": {},
   "source": [
    "## What is the average Airbnb cleaning fee?"
   ]
  },
  {
   "cell_type": "markdown",
   "id": "ee77811b-8dad-43d1-8dfa-6e751c46ee9e",
   "metadata": {},
   "source": [
    "From the Tweets above, you might think that $150 or $200 cleaning fees are normal on Airbnb. This doesn't seem to be the case at all. In fact, for multi-day stays, **the average cleaning fee was $50**.  For one-day stays, the **average was only $35**.\n",
    "\n",
    "Of course, these averages include the listings with $0 in cleaning fees. Almost 28% of one-day listings had no cleaning fees, with only 13% of multi-day listings having no cleaning fees.\n",
    "\n",
    "To visualize the distribution of cleaning fees in my sample, I plotted a histogram for multi-day and one-day stays."
   ]
  },
  {
   "cell_type": "markdown",
   "id": "6e781619-dfc5-4176-812d-2fc709363527",
   "metadata": {},
   "source": [
    "![](images/multi_day_histogram.png)"
   ]
  },
  {
   "cell_type": "markdown",
   "id": "0d1ca1a6-408b-478d-9f27-0fd16c9745d0",
   "metadata": {},
   "source": [
    "As you can see, more than half of the listings in the sample had cleaning fees below $50. The biggest drop off in cleaning fees happens at the $75 mark. Cleaning fees of more than $100 aren't as common but add up to more than 5% of listings."
   ]
  },
  {
   "cell_type": "markdown",
   "id": "b7e58623-b796-43ae-8c8d-65cd02512154",
   "metadata": {},
   "source": [
    "![](images/one_day_histogram.png)"
   ]
  },
  {
   "cell_type": "markdown",
   "id": "706dd498-038d-416f-a0e5-a652cf0a7a20",
   "metadata": {},
   "source": [
    "For one-day stays, we see more than 45% of listings having cleaning fees of less than $25. On the other hand, cleaning fees of over $50 represented more than 26% of listings for one-night stays.\n",
    "\n",
    "Many Airbnb hosts are trying to keep cleaning fees low, but more than a quarter are charging relatively high cleaning fees even for one-night stays. Most of the complaints I've seen on Twitter stem from one-night stay cleaning fees."
   ]
  },
  {
   "cell_type": "markdown",
   "id": "c219466e-4188-4edc-8fec-5e086f0c72d9",
   "metadata": {},
   "source": [
    "## Do certain cities have higher cleaning fees?"
   ]
  },
  {
   "cell_type": "markdown",
   "id": "cfedc618-7d8f-4166-be80-a6db26bfaed8",
   "metadata": {},
   "source": [
    "My next question was whether location had any influence on cleaning fees. My first hypothesis was that cities like New York or San Francisco would have higher cleaning fees. I was certainly wrong there.\n",
    "\n",
    "I calculated the average Airbnb cleaning fee by city and sorted them from smallest to largest. Take a look."
   ]
  },
  {
   "cell_type": "markdown",
   "id": "b39a84bd-8598-441f-9bef-ca83bf9f1ec4",
   "metadata": {},
   "source": [
    "![](images/fees_by_city.png)"
   ]
  },
  {
   "cell_type": "markdown",
   "id": "39db43f5-7c7b-47de-869d-c5fd9abb5158",
   "metadata": {},
   "source": [
    "It's something when Austin, Texas can claim to be more expensive than Paris on something. When I made this plot, I jumped out of my chair. I hurried over to show my wife holding my laptop like a crazed person. She wasn't as enthusiastic as me about a bar chart of Airbnb fees, but she agreed the result was notable.\n",
    "\n",
    "I started thinking about why the US could be more expensive than other countries on something as silly as cleaning fees. The only answer I could come up with is that cleaning companies in the US are more expensive than their international counterparts. Either that or Airbnb hosts outside the US are cleaning themselves.\n",
    "\n",
    "To underscore the point, I made separate histograms of cleaning fees for the most and least expensive cities, Austin and Berlin."
   ]
  },
  {
   "cell_type": "markdown",
   "id": "a058f33d-d170-4856-a934-8aa1ceb409c3",
   "metadata": {},
   "source": [
    "![](images/austin_histogram.png)"
   ]
  },
  {
   "cell_type": "markdown",
   "id": "b86c2bfd-aaa6-4bab-8835-73b16c0eeb09",
   "metadata": {},
   "source": [
    "The most common cleaning fee in Austin is between $50 and $75. Notably, 10% of listings have cleaning fees between $175 and $200.\n",
    "\n",
    "In Berlin, the story is very different."
   ]
  },
  {
   "cell_type": "markdown",
   "id": "814a0337-8502-402b-8559-a42587e73031",
   "metadata": {},
   "source": [
    "![](images/berlin_histogram.png)"
   ]
  },
  {
   "cell_type": "markdown",
   "id": "7e34e363-14cf-4dbb-a43f-5d4ae4752f44",
   "metadata": {},
   "source": [
    "It seems cleaning fees aren't popular in Berlin. Just a massive difference here, with more than 60% of listing having cleaning fees of less than $25. I noticed similar distributions of cleaning fees in US vs non-US cities. In the US, the center of the distribution is around $50, with a small group of outliers above $100. Outside the US, most of the listings had cleaning fees of less than $50, with very few above $100.\n",
    "\n",
    "Perhaps this trend is due to the massive influx of startups in Austin in recent years. Are VC-backed startup employees significantly messier than other people? Nevermind. This also wouldn't explain why the other four US cities are more expensive than non-US cities."
   ]
  },
  {
   "cell_type": "markdown",
   "id": "0c5a837d-88b0-490f-ab93-731e6ff22865",
   "metadata": {},
   "source": [
    "<br>\n",
    "<br>\n",
    "<br>\n",
    "<div style=\"text-align: center;\">\n",
    "  <h2>Signup to receive new insights in your inbox</h2>\n",
    "</div>\n",
    "<div class=\"ml-embedded\" data-form=\"sRx1HZ\"></div>\n",
    "<br>\n",
    "<br>\n",
    "<br>"
   ]
  },
  {
   "cell_type": "markdown",
   "id": "471bfb98-ac6c-4619-a43c-cc39db949d33",
   "metadata": {},
   "source": [
    "## What percentage of the total price is the cleaning fee?"
   ]
  },
  {
   "cell_type": "markdown",
   "id": "c3868b22-3f9e-41f2-a916-c6530119cfc0",
   "metadata": {},
   "source": [
    "The raw numbers of cleaning fees are notable but don't give context to the situation. For a more expensive Airbnb, you would expect to have a higher cleaning fee. Conversely, a less expensive Airbnb would be expected to have a lower cleaning fee. So what matters isn't the fee itself but the ratio of cleaning fees to the total price of the stay.\n",
    "\n",
    "This is what I saw a lot of Twitter complaints mention, with one notable difference. On Twitter, the complaints were about the ratio of cleaning fees to the nightly price. So let's look at both one-day and multi-day listings.\n",
    "\n",
    "To chart this, I took all listings with non-zero cleaning fees and calculated the percentage of the total price the cleaning fee represented."
   ]
  },
  {
   "cell_type": "markdown",
   "id": "bd151b9d-7978-414e-8126-39bd8c119d5c",
   "metadata": {},
   "source": [
    "![](images/stay_duration.png)"
   ]
  },
  {
   "cell_type": "markdown",
   "id": "9a00c9c8-2e63-442b-8eb7-cb5a12ec343d",
   "metadata": {},
   "source": [
    "It makes sense that one-day listings would have a higher cleaning fee ratio than multi-day stays. They only have to clean once, after all. That being said, I have seen an Airbnb charge a higher cleaning fee the longer you stay. But in my case, this was for an Airbnb in Paris.\n",
    "\n",
    "When the stay duration is 5 or more days, the cleaning fee becomes less than 10% of the total cost. This becomes significantly more reasonable.\n",
    "\n",
    "The ratio for one-day stays in the US is 27.8%. For those outside the US, it is 23.5%. These aren't significantly different numbers. So for those Airbnb listings that charge a cleaning fee, expect the cleaning fee to be roughly the same percentage of the total price inside or outside the US."
   ]
  },
  {
   "cell_type": "markdown",
   "id": "3d94da00-3a99-4af1-8b2c-2e4383115ced",
   "metadata": {},
   "source": [
    "## Why I think some cleaning fees are higher"
   ]
  },
  {
   "cell_type": "markdown",
   "id": "650c7b37-d204-47d8-a93f-d000fc7aa52d",
   "metadata": {},
   "source": [
    "From the data I collected, there are a few takeaways I have. The complaints about cleaning fees seem to involve either 1) high cleaning fees (over $100) or 2) staying only one night where cleaning fees are a significant fraction of the total cost (higher than 50%).\n",
    "\n",
    "Inside the US, only 18% of one-day stays on Airbnb had no cleaning fees (compared to  58% outside the US). This, combined with the comparatively higher number of listings with above-average cleaning fees, creates opportunities for customers to get upset.\n",
    "\n",
    "From the sample of data I collected, these two cases seem to happen with a minority of listings. But their complaints are still valid. Importantly, hotels, which Airbnb competes with, don't charge cleaning fees. Even if you save money at an Airbnb compared to a hotel, you still see that cleaning fee on your bill. It's not a great customer experience when your pricing structure is compared to airlines.\n",
    "\n",
    "Amazon loses money on free shipping via Amazon Prime every year. Yet customers love it. Even if you are paying for it in some other way, simple pricing with no extra fees makes people happy. Asking your guest to tip the cleaners sounds like a lazy Airbnb host side hustling their way to a 4-hour work week. Charging high cleaning fees on a one-night stay sounds like a solution from a \"turn-key passive income\" book where you do as little as possible and outsource everything.\n",
    "\n",
    "My family travels a few times a year, and we now choose hotels over Airbnb. Cleaning fees and even Airbnb's service fee have played a big part in that decision. If Airbnb is guilty of something, it's not caring about bad PR or a bad customer experience."
   ]
  }
 ],
 "metadata": {
  "kernelspec": {
   "display_name": "Python 3 (ipykernel)",
   "language": "python",
   "name": "python3"
  },
  "language_info": {
   "codemirror_mode": {
    "name": "ipython",
    "version": 3
   },
   "file_extension": ".py",
   "mimetype": "text/x-python",
   "name": "python",
   "nbconvert_exporter": "python",
   "pygments_lexer": "ipython3",
   "version": "3.11.7"
  }
 },
 "nbformat": 4,
 "nbformat_minor": 5
}
